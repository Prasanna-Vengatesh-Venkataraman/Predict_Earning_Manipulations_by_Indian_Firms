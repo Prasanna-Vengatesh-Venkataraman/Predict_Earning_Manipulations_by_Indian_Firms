{
    "cells": [
        {
            "metadata": {
                "collapsed": true
            },
            "cell_type": "markdown",
            "source": "# <center>PREDICTING EARNING MANIPULATIONS BY INDIAN FIRMS</center>"
        },
        {
            "metadata": {},
            "cell_type": "markdown",
            "source": "<span style='font-family:\"Times New Roman\"'><font size = 4>Installing necessary packages & libraries</font></span>"
        },
        {
            "metadata": {
                "collapsed": true
            },
            "cell_type": "code",
            "source": "install.packages(c(\"xlsx\" , \"caret\", \"e1071\" , \"ROSE\" , \"party\" , \"rpart.plot\", \"randomForest\", \"ROCR\"))\nlibrary(caret)\nlibrary(e1071)\nlibrary(ROSE)\nlibrary(xlsx)\nlibrary(rpart)\nlibrary(rpart.plot)\nlibrary(randomForest)\nlibrary(ROCR)",
            "execution_count": 1,
            "outputs": [
                {
                    "output_type": "stream",
                    "text": "also installing the dependencies \u2018pillar\u2019, \u2018glue\u2019, \u2018tibble\u2019, \u2018ellipsis\u2019, \u2018dplyr\u2019, \u2018tidyselect\u2019, \u2018vctrs\u2019, \u2018TH.data\u2019, \u2018lifecycle\u2019, \u2018rlang\u2019, \u2018tidyr\u2019, \u2018libcoin\u2019, \u2018matrixStats\u2019, \u2018multcomp\u2019, \u2018gdata\u2019, \u2018ModelMetrics\u2019, \u2018recipes\u2019, \u2018pROC\u2019, \u2018modeltools\u2019, \u2018strucchange\u2019, \u2018coin\u2019, \u2018gplots\u2019\n\nUpdating HTML index of packages in '.Library'\nMaking 'packages.html' ... done\nLoading required package: lattice\nLoading required package: ggplot2\nRegistered S3 methods overwritten by 'ggplot2':\n  method         from \n  [.quosures     rlang\n  c.quosures     rlang\n  print.quosures rlang\nLoaded ROSE 0.0-3\n\nrandomForest 4.6-14\nType rfNews() to see new features/changes/bug fixes.\n\nAttaching package: \u2018randomForest\u2019\n\nThe following object is masked from \u2018package:ggplot2\u2019:\n\n    margin\n\n",
                    "name": "stderr"
                }
            ]
        },
        {
            "metadata": {},
            "cell_type": "code",
            "source": "library(projectLib)\nproject <- projectLib::Project$new(projectId=\"192a265a-e9ec-418a-aa6e-36e58abd2250\", projectToken=\"p-18202afc4297e6340c012a64b817b39a6d803f5d\")\nmy.file <- project$get_file(\"Manipulations.csv\")",
            "execution_count": 9,
            "outputs": []
        },
        {
            "metadata": {},
            "cell_type": "code",
            "source": "# Importing the dataset\nML <- read.csv(text = rawToChar(my.file))",
            "execution_count": 10,
            "outputs": []
        },
        {
            "metadata": {},
            "cell_type": "code",
            "source": "options(scipen = 99)\nsum(complete.cases(ML))/nrow(ML)*100\n#No missing cases",
            "execution_count": 11,
            "outputs": [
                {
                    "output_type": "display_data",
                    "data": {
                        "text/html": "100",
                        "text/markdown": "100",
                        "text/latex": "100",
                        "text/plain": "[1] 100"
                    },
                    "metadata": {}
                }
            ]
        },
        {
            "metadata": {},
            "cell_type": "code",
            "source": "str(ML)",
            "execution_count": 12,
            "outputs": [
                {
                    "output_type": "stream",
                    "text": "'data.frame':\t1239 obs. of  11 variables:\n $ Company.ID   : int  1 2 3 4 5 6 7 8 9 10 ...\n $ DSRI         : num  1.62 1 1 1.49 1 ...\n $ GMI          : num  1.13 1.61 1.02 1 1.37 ...\n $ AQI          : num  7.185 1.005 1.241 0.466 0.637 ...\n $ SGI          : num  0.366 13.081 1.475 0.673 0.861 ...\n $ DEPI         : num  1.38 0.4 1.17 2 1.45 ...\n $ SGAI         : num  1.6241 5.1982 0.6477 0.0929 1.7415 ...\n $ ACCR         : num  -0.1668 0.0605 0.0367 0.2734 0.123 ...\n $ LEVI         : num  1.161 0.987 1.264 0.681 0.939 ...\n $ Manipulater  : Factor w/ 2 levels \"No\",\"Yes\": 2 2 2 2 2 2 2 2 2 2 ...\n $ C.MANIPULATOR: int  1 1 1 1 1 1 1 1 1 1 ...\n",
                    "name": "stdout"
                }
            ]
        },
        {
            "metadata": {},
            "cell_type": "code",
            "source": "ML$C.MANIPULATOR <- as.factor(ML$C.MANIPULATOR)\nstr(ML)",
            "execution_count": 13,
            "outputs": [
                {
                    "output_type": "stream",
                    "text": "'data.frame':\t1239 obs. of  11 variables:\n $ Company.ID   : int  1 2 3 4 5 6 7 8 9 10 ...\n $ DSRI         : num  1.62 1 1 1.49 1 ...\n $ GMI          : num  1.13 1.61 1.02 1 1.37 ...\n $ AQI          : num  7.185 1.005 1.241 0.466 0.637 ...\n $ SGI          : num  0.366 13.081 1.475 0.673 0.861 ...\n $ DEPI         : num  1.38 0.4 1.17 2 1.45 ...\n $ SGAI         : num  1.6241 5.1982 0.6477 0.0929 1.7415 ...\n $ ACCR         : num  -0.1668 0.0605 0.0367 0.2734 0.123 ...\n $ LEVI         : num  1.161 0.987 1.264 0.681 0.939 ...\n $ Manipulater  : Factor w/ 2 levels \"No\",\"Yes\": 2 2 2 2 2 2 2 2 2 2 ...\n $ C.MANIPULATOR: Factor w/ 2 levels \"0\",\"1\": 2 2 2 2 2 2 2 2 2 2 ...\n",
                    "name": "stdout"
                }
            ]
        },
        {
            "metadata": {},
            "cell_type": "code",
            "source": "#Calculating M-score using Beneish model's formula\nmscore <- -4.84 + (0.92*ML$DSRI) + (0.528*ML$GMI) + (0.404*ML$AQI) + (0.892*ML$SGI) + \n            (0.115*ML$DEPI) - (0.172*ML$SGAI) + (4.679*ML$ACCR) - (0.327*ML$LEVI)\n\n#Predicting manipulator by setting threshold as -2.22\nmanip <- ifelse(mscore>-2.22,\"Yes\",\"No\")\nmanip <- as.factor(manip)\n\n#Developing a confusion matrix we see that Sensitivity is 100\nML$Manipulater <- relevel(ML$Manipulater, ref = \"Yes\")\nmanip <- relevel(manip, ref = \"Yes\")\na <- confusionMatrix(manip, ML$Manipulater)\n\n#Thus in the existing dataset False negatives (Manipulators predicted as non-manipulators) are zero.\n\na$table",
            "execution_count": 21,
            "outputs": [
                {
                    "output_type": "display_data",
                    "data": {
                        "text/plain": "          Reference\nPrediction Yes  No\n       Yes  39 371\n       No    0 829"
                    },
                    "metadata": {}
                }
            ]
        },
        {
            "metadata": {},
            "cell_type": "code",
            "source": "a$byClass",
            "execution_count": 18,
            "outputs": [
                {
                    "output_type": "display_data",
                    "data": {
                        "text/html": "<dl class=dl-horizontal>\n\t<dt>Sensitivity</dt>\n\t\t<dd>1</dd>\n\t<dt>Specificity</dt>\n\t\t<dd>0.690833333333333</dd>\n\t<dt>Pos Pred Value</dt>\n\t\t<dd>0.0951219512195122</dd>\n\t<dt>Neg Pred Value</dt>\n\t\t<dd>1</dd>\n\t<dt>Precision</dt>\n\t\t<dd>0.0951219512195122</dd>\n\t<dt>Recall</dt>\n\t\t<dd>1</dd>\n\t<dt>F1</dt>\n\t\t<dd>0.173719376391982</dd>\n\t<dt>Prevalence</dt>\n\t\t<dd>0.0314769975786925</dd>\n\t<dt>Detection Rate</dt>\n\t\t<dd>0.0314769975786925</dd>\n\t<dt>Detection Prevalence</dt>\n\t\t<dd>0.33091202582728</dd>\n\t<dt>Balanced Accuracy</dt>\n\t\t<dd>0.845416666666667</dd>\n</dl>\n",
                        "text/markdown": "Sensitivity\n:   1Specificity\n:   0.690833333333333Pos Pred Value\n:   0.0951219512195122Neg Pred Value\n:   1Precision\n:   0.0951219512195122Recall\n:   1F1\n:   0.173719376391982Prevalence\n:   0.0314769975786925Detection Rate\n:   0.0314769975786925Detection Prevalence\n:   0.33091202582728Balanced Accuracy\n:   0.845416666666667\n\n",
                        "text/latex": "\\begin{description*}\n\\item[Sensitivity] 1\n\\item[Specificity] 0.690833333333333\n\\item[Pos Pred Value] 0.0951219512195122\n\\item[Neg Pred Value] 1\n\\item[Precision] 0.0951219512195122\n\\item[Recall] 1\n\\item[F1] 0.173719376391982\n\\item[Prevalence] 0.0314769975786925\n\\item[Detection Rate] 0.0314769975786925\n\\item[Detection Prevalence] 0.33091202582728\n\\item[Balanced Accuracy] 0.845416666666667\n\\end{description*}\n",
                        "text/plain": "         Sensitivity          Specificity       Pos Pred Value \n          1.00000000           0.69083333           0.09512195 \n      Neg Pred Value            Precision               Recall \n          1.00000000           0.09512195           1.00000000 \n                  F1           Prevalence       Detection Rate \n          0.17371938           0.03147700           0.03147700 \nDetection Prevalence    Balanced Accuracy \n          0.33091203           0.84541667 "
                    },
                    "metadata": {}
                }
            ]
        },
        {
            "metadata": {},
            "cell_type": "code",
            "source": "#Splitting the data set into Manipulators and non-manipulators\nYes <- ML[ML$Manipulater==\"Yes\",]\nNo <- ML[ML$Manipulater==\"No\",]\n\n#Using sample to determine values randomly for setting seeds while selecting rows from Non-manipulators dataset\nset.seed(123)\na <- sample(10000, 100, replace = F)\nm <- matrix(NA, ncol = 9, nrow = 100)",
            "execution_count": 22,
            "outputs": []
        },
        {
            "metadata": {
                "collapsed": true
            },
            "cell_type": "code",
            "source": "for (i in 1:100) {\n  set.seed(a[i])\n  row <- sample(nrow(No), 220-39, replace = F)\n  s <- rbind(Yes, No[row,])\n  s <- s[sample(nrow(s)),]\n  s <- s[,-c(1,11)]\n  sam <- ovun.sample(Manipulater ~ ., data = s, method = \"under\", N = (nrow(Yes)*2), seed = 1)$data\n  \n  full <- glm(Manipulater~., data=sam, family = \"binomial\")\n  null <- glm(Manipulater~1, data=sam, family = \"binomial\")\n  b <- step(null, scope = list(lower=null, upper=full), direction = \"both\")\n  c <- summary(b)\n  d <- sort(rownames(c$coefficients))\n  \n  if(length(d)!=9)\n  {\n    for(j in 1:(9-length(d)))\n    {\n      d <- c(d,NA)\n    }\n  }\n  \n  m[i,] <- d\n}",
            "execution_count": 23,
            "outputs": [
                {
                    "output_type": "stream",
                    "text": "Warning message:\n\u201cglm.fit: fitted probabilities numerically 0 or 1 occurred\u201d",
                    "name": "stderr"
                },
                {
                    "output_type": "stream",
                    "text": "Start:  AIC=110.13\nManipulater ~ 1\n\n",
                    "name": "stdout"
                },
                {
                    "output_type": "stream",
                    "text": "Warning message:\n\u201cglm.fit: fitted probabilities numerically 0 or 1 occurred\u201d",
                    "name": "stderr"
                },
                {
                    "output_type": "stream",
                    "text": "       Df Deviance    AIC\n+ DSRI  1   96.745 100.75\n+ ACCR  1   99.702 103.70\n+ AQI   1  103.066 107.07\n+ SGI   1  103.548 107.55\n+ SGAI  1  104.809 108.81\n<none>     108.131 110.13\n+ LEVI  1  106.921 110.92\n+ GMI   1  106.993 110.99\n+ DEPI  1  107.907 111.91\n",
                    "name": "stdout"
                },
                {
                    "output_type": "stream",
                    "text": "Warning message:\n\u201cglm.fit: fitted probabilities numerically 0 or 1 occurred\u201d",
                    "name": "stderr"
                },
                {
                    "output_type": "stream",
                    "text": "\nStep:  AIC=100.75\nManipulater ~ DSRI\n\n",
                    "name": "stdout"
                },
                {
                    "output_type": "stream",
                    "text": "Warning message:\n\u201cglm.fit: fitted probabilities numerically 0 or 1 occurred\u201dWarning message:\n\u201cglm.fit: fitted probabilities numerically 0 or 1 occurred\u201dWarning message:\n\u201cglm.fit: fitted probabilities numerically 0 or 1 occurred\u201dWarning message:\n\u201cglm.fit: fitted probabilities numerically 0 or 1 occurred\u201dWarning message:\n\u201cglm.fit: fitted probabilities numerically 0 or 1 occurred\u201dWarning message:\n\u201cglm.fit: fitted probabilities numerically 0 or 1 occurred\u201dWarning message:\n\u201cglm.fit: fitted probabilities numerically 0 or 1 occurred\u201dWarning message:\n\u201cglm.fit: fitted probabilities numerically 0 or 1 occurred\u201d",
                    "name": "stderr"
                },
                {
                    "output_type": "stream",
                    "text": "       Df Deviance     AIC\n+ ACCR  1   81.986  87.986\n+ SGI   1   82.334  88.334\n+ AQI   1   90.442  96.442\n+ GMI   1   93.492  99.492\n<none>      96.745 100.745\n+ SGAI  1   96.031 102.031\n+ LEVI  1   96.480 102.480\n+ DEPI  1   96.498 102.498\n- DSRI  1  108.131 110.131\n",
                    "name": "stdout"
                },
                {
                    "output_type": "stream",
                    "text": "Warning message:\n\u201cglm.fit: fitted probabilities numerically 0 or 1 occurred\u201d",
                    "name": "stderr"
                },
                {
                    "output_type": "stream",
                    "text": "\nStep:  AIC=87.99\nManipulater ~ DSRI + ACCR\n\n",
                    "name": "stdout"
                },
                {
                    "output_type": "stream",
                    "text": "Warning message:\n\u201cglm.fit: fitted probabilities numerically 0 or 1 occurred\u201dWarning message:\n\u201cglm.fit: fitted probabilities numerically 0 or 1 occurred\u201dWarning message:\n\u201cglm.fit: fitted probabilities numerically 0 or 1 occurred\u201dWarning message:\n\u201cglm.fit: fitted probabilities numerically 0 or 1 occurred\u201dWarning message:\n\u201cglm.fit: fitted probabilities numerically 0 or 1 occurred\u201dWarning message:\n\u201cglm.fit: fitted probabilities numerically 0 or 1 occurred\u201dWarning message:\n\u201cglm.fit: fitted probabilities numerically 0 or 1 occurred\u201dWarning message:\n\u201cglm.fit: fitted probabilities numerically 0 or 1 occurred\u201d",
                    "name": "stderr"
                },
                {
                    "output_type": "stream",
                    "text": "       Df Deviance     AIC\n+ AQI   1   68.453  76.453\n+ SGI   1   70.548  78.548\n+ GMI   1   77.067  85.067\n<none>      81.986  87.986\n+ LEVI  1   81.331  89.331\n+ DEPI  1   81.434  89.434\n+ SGAI  1   81.907  89.907\n- ACCR  1   96.745 100.745\n- DSRI  1   99.702 103.702\n",
                    "name": "stdout"
                },
                {
                    "output_type": "stream",
                    "text": "Warning message:\n\u201cglm.fit: fitted probabilities numerically 0 or 1 occurred\u201d",
                    "name": "stderr"
                },
                {
                    "output_type": "stream",
                    "text": "\nStep:  AIC=76.45\nManipulater ~ DSRI + ACCR + AQI\n\n",
                    "name": "stdout"
                },
                {
                    "output_type": "stream",
                    "text": "Warning message:\n\u201cglm.fit: fitted probabilities numerically 0 or 1 occurred\u201dWarning message:\n\u201cglm.fit: fitted probabilities numerically 0 or 1 occurred\u201dWarning message:\n\u201cglm.fit: fitted probabilities numerically 0 or 1 occurred\u201dWarning message:\n\u201cglm.fit: fitted probabilities numerically 0 or 1 occurred\u201dWarning message:\n\u201cglm.fit: fitted probabilities numerically 0 or 1 occurred\u201dWarning message:\n\u201cglm.fit: fitted probabilities numerically 0 or 1 occurred\u201dWarning message:\n\u201cglm.fit: fitted probabilities numerically 0 or 1 occurred\u201dWarning message:\n\u201cglm.fit: fitted probabilities numerically 0 or 1 occurred\u201d",
                    "name": "stderr"
                },
                {
                    "output_type": "stream",
                    "text": "       Df Deviance    AIC\n+ SGI   1   37.300 47.300\n+ GMI   1   57.575 67.575\n<none>      68.453 76.453\n+ SGAI  1   68.222 78.222\n+ DEPI  1   68.266 78.266\n+ LEVI  1   68.448 78.448\n- AQI   1   81.986 87.986\n- ACCR  1   90.442 96.442\n- DSRI  1   92.074 98.074\n",
                    "name": "stdout"
                },
                {
                    "output_type": "stream",
                    "text": "Warning message:\n\u201cglm.fit: fitted probabilities numerically 0 or 1 occurred\u201d",
                    "name": "stderr"
                },
                {
                    "output_type": "stream",
                    "text": "\nStep:  AIC=47.3\nManipulater ~ DSRI + ACCR + AQI + SGI\n\n",
                    "name": "stdout"
                },
                {
                    "output_type": "stream",
                    "text": "Warning message:\n\u201cglm.fit: fitted probabilities numerically 0 or 1 occurred\u201dWarning message:\n\u201cglm.fit: fitted probabilities numerically 0 or 1 occurred\u201dWarning message:\n\u201cglm.fit: fitted probabilities numerically 0 or 1 occurred\u201dWarning message:\n\u201cglm.fit: fitted probabilities numerically 0 or 1 occurred\u201dWarning message:\n\u201cglm.fit: fitted probabilities numerically 0 or 1 occurred\u201dWarning message:\n\u201cglm.fit: fitted probabilities numerically 0 or 1 occurred\u201dWarning message:\n\u201cglm.fit: fitted probabilities numerically 0 or 1 occurred\u201dWarning message:\n\u201cglm.fit: fitted probabilities numerically 0 or 1 occurred\u201d",
                    "name": "stderr"
                },
                {
                    "output_type": "stream",
                    "text": "       Df Deviance    AIC\n+ DEPI  1   30.080 42.080\n+ GMI   1   31.204 43.204\n+ LEVI  1   34.776 46.776\n<none>      37.300 47.300\n+ SGAI  1   37.241 49.241\n- ACCR  1   61.868 69.868\n- SGI   1   68.453 76.453\n- AQI   1   70.548 78.548\n- DSRI  1   86.850 94.850\n",
                    "name": "stdout"
                },
                {
                    "output_type": "stream",
                    "text": "Warning message:\n\u201cglm.fit: fitted probabilities numerically 0 or 1 occurred\u201d",
                    "name": "stderr"
                },
                {
                    "output_type": "stream",
                    "text": "\nStep:  AIC=42.08\nManipulater ~ DSRI + ACCR + AQI + SGI + DEPI\n\n",
                    "name": "stdout"
                },
                {
                    "output_type": "stream",
                    "text": "Warning message:\n\u201cglm.fit: fitted probabilities numerically 0 or 1 occurred\u201dWarning message:\n\u201cglm.fit: fitted probabilities numerically 0 or 1 occurred\u201dWarning message:\n\u201cglm.fit: fitted probabilities numerically 0 or 1 occurred\u201dWarning message:\n\u201cglm.fit: fitted probabilities numerically 0 or 1 occurred\u201dWarning message:\n\u201cglm.fit: fitted probabilities numerically 0 or 1 occurred\u201dWarning message:\n\u201cglm.fit: fitted probabilities numerically 0 or 1 occurred\u201dWarning message:\n\u201cglm.fit: fitted probabilities numerically 0 or 1 occurred\u201dWarning message:\n\u201cglm.fit: fitted probabilities numerically 0 or 1 occurred\u201d",
                    "name": "stderr"
                },
                {
                    "output_type": "stream",
                    "text": "       Df Deviance    AIC\n+ GMI   1   21.629 35.629\n+ LEVI  1   26.243 40.243\n<none>      30.080 42.080\n+ SGAI  1   30.040 44.040\n- DEPI  1   37.300 47.300\n- ACCR  1   56.139 66.139\n- SGI   1   68.266 78.266\n- AQI   1   70.389 80.389\n- DSRI  1   86.834 96.834\n",
                    "name": "stdout"
                },
                {
                    "output_type": "stream",
                    "text": "Warning message:\n\u201cglm.fit: fitted probabilities numerically 0 or 1 occurred\u201d",
                    "name": "stderr"
                },
                {
                    "output_type": "stream",
                    "text": "\nStep:  AIC=35.63\nManipulater ~ DSRI + ACCR + AQI + SGI + DEPI + GMI\n\n",
                    "name": "stdout"
                },
                {
                    "output_type": "stream",
                    "text": "Warning message:\n\u201cglm.fit: fitted probabilities numerically 0 or 1 occurred\u201dWarning message:\n\u201cglm.fit: fitted probabilities numerically 0 or 1 occurred\u201dWarning message:\n\u201cglm.fit: fitted probabilities numerically 0 or 1 occurred\u201dWarning message:\n\u201cglm.fit: fitted probabilities numerically 0 or 1 occurred\u201dWarning message:\n\u201cglm.fit: fitted probabilities numerically 0 or 1 occurred\u201dWarning message:\n\u201cglm.fit: fitted probabilities numerically 0 or 1 occurred\u201dWarning message:\n\u201cglm.fit: fitted probabilities numerically 0 or 1 occurred\u201dWarning message:\n\u201cglm.fit: fitted probabilities numerically 0 or 1 occurred\u201d",
                    "name": "stderr"
                },
                {
                    "output_type": "stream",
                    "text": "       Df Deviance    AIC\n+ LEVI  1   15.022 31.022\n<none>      21.629 35.629\n+ SGAI  1   21.629 37.629\n- GMI   1   30.080 42.080\n- DEPI  1   31.204 43.204\n- ACCR  1   53.788 65.788\n- SGI   1   57.496 69.496\n- AQI   1   68.555 80.555\n- DSRI  1   85.914 97.914\n",
                    "name": "stdout"
                },
                {
                    "output_type": "stream",
                    "text": "Warning message:\n\u201cglm.fit: fitted probabilities numerically 0 or 1 occurred\u201d",
                    "name": "stderr"
                },
                {
                    "output_type": "stream",
                    "text": "\nStep:  AIC=31.02\nManipulater ~ DSRI + ACCR + AQI + SGI + DEPI + GMI + LEVI\n\n",
                    "name": "stdout"
                },
                {
                    "output_type": "stream",
                    "text": "Warning message:\n\u201cglm.fit: fitted probabilities numerically 0 or 1 occurred\u201dWarning message:\n\u201cglm.fit: fitted probabilities numerically 0 or 1 occurred\u201dWarning message:\n\u201cglm.fit: fitted probabilities numerically 0 or 1 occurred\u201dWarning message:\n\u201cglm.fit: fitted probabilities numerically 0 or 1 occurred\u201dWarning message:\n\u201cglm.fit: fitted probabilities numerically 0 or 1 occurred\u201dWarning message:\n\u201cglm.fit: fitted probabilities numerically 0 or 1 occurred\u201dWarning message:\n\u201cglm.fit: fitted probabilities numerically 0 or 1 occurred\u201dWarning message:\n\u201cglm.fit: fitted probabilities numerically 0 or 1 occurred\u201d",
                    "name": "stderr"
                },
                {
                    "output_type": "stream",
                    "text": "       Df Deviance    AIC\n<none>      15.022 31.022\n+ SGAI  1   14.941 32.941\n- LEVI  1   21.629 35.629\n- GMI   1   26.243 40.243\n- DEPI  1   27.616 41.616\n- ACCR  1   47.458 61.458\n- SGI   1   57.495 71.495\n- AQI   1   66.978 80.978\n- DSRI  1   84.903 98.903\n",
                    "name": "stdout"
                },
                {
                    "output_type": "stream",
                    "text": "Warning message:\n\u201cglm.fit: fitted probabilities numerically 0 or 1 occurred\u201d",
                    "name": "stderr"
                },
                {
                    "output_type": "stream",
                    "text": "Start:  AIC=110.13\nManipulater ~ 1\n\n       Df Deviance    AIC\n+ DSRI  1   99.499 103.50\n+ SGI   1  102.186 106.19\n+ ACCR  1  103.692 107.69\n+ SGAI  1  104.525 108.53\n<none>     108.131 110.13\n+ AQI   1  106.211 110.21\n+ LEVI  1  106.421 110.42\n+ DEPI  1  107.103 111.10\n+ GMI   1  107.269 111.27\n\nStep:  AIC=103.5\nManipulater ~ DSRI\n\n",
                    "name": "stdout"
                },
                {
                    "output_type": "stream",
                    "text": "Warning message:\n\u201cglm.fit: fitted probabilities numerically 0 or 1 occurred\u201d",
                    "name": "stderr"
                },
                {
                    "output_type": "stream",
                    "text": "       Df Deviance     AIC\n+ SGI   1   84.049  90.049\n+ ACCR  1   90.726  96.726\n+ AQI   1   96.836 102.836\n<none>      99.499 103.499\n+ GMI   1   97.761 103.761\n+ SGAI  1   98.562 104.562\n+ DEPI  1   98.793 104.793\n+ LEVI  1   98.963 104.963\n- DSRI  1  108.131 110.131\n",
                    "name": "stdout"
                },
                {
                    "output_type": "stream",
                    "text": "Warning message:\n\u201cglm.fit: fitted probabilities numerically 0 or 1 occurred\u201d",
                    "name": "stderr"
                },
                {
                    "output_type": "stream",
                    "text": "\nStep:  AIC=90.05\nManipulater ~ DSRI + SGI\n\n",
                    "name": "stdout"
                },
                {
                    "output_type": "stream",
                    "text": "Warning message:\n\u201cglm.fit: fitted probabilities numerically 0 or 1 occurred\u201dWarning message:\n\u201cglm.fit: fitted probabilities numerically 0 or 1 occurred\u201dWarning message:\n\u201cglm.fit: fitted probabilities numerically 0 or 1 occurred\u201dWarning message:\n\u201cglm.fit: fitted probabilities numerically 0 or 1 occurred\u201dWarning message:\n\u201cglm.fit: fitted probabilities numerically 0 or 1 occurred\u201dWarning message:\n\u201cglm.fit: fitted probabilities numerically 0 or 1 occurred\u201dWarning message:\n\u201cglm.fit: fitted probabilities numerically 0 or 1 occurred\u201d",
                    "name": "stderr"
                },
                {
                    "output_type": "stream",
                    "text": "       Df Deviance     AIC\n+ AQI   1   74.612  82.612\n+ ACCR  1   76.646  84.646\n<none>      84.049  90.049\n+ SGAI  1   82.447  90.447\n+ LEVI  1   83.831  91.831\n+ GMI   1   83.864  91.864\n+ DEPI  1   83.992  91.992\n- SGI   1   99.499 103.499\n- DSRI  1  102.186 106.186\n",
                    "name": "stdout"
                },
                {
                    "output_type": "stream",
                    "text": "Warning message:\n\u201cglm.fit: fitted probabilities numerically 0 or 1 occurred\u201d",
                    "name": "stderr"
                },
                {
                    "output_type": "stream",
                    "text": "\nStep:  AIC=82.61\nManipulater ~ DSRI + SGI + AQI\n\n",
                    "name": "stdout"
                },
                {
                    "output_type": "stream",
                    "text": "Warning message:\n\u201cglm.fit: fitted probabilities numerically 0 or 1 occurred\u201dWarning message:\n\u201cglm.fit: fitted probabilities numerically 0 or 1 occurred\u201dWarning message:\n\u201cglm.fit: fitted probabilities numerically 0 or 1 occurred\u201dWarning message:\n\u201cglm.fit: fitted probabilities numerically 0 or 1 occurred\u201dWarning message:\n\u201cglm.fit: fitted probabilities numerically 0 or 1 occurred\u201dWarning message:\n\u201cglm.fit: fitted probabilities numerically 0 or 1 occurred\u201dWarning message:\n\u201cglm.fit: fitted probabilities numerically 0 or 1 occurred\u201d",
                    "name": "stderr"
                },
                {
                    "output_type": "stream",
                    "text": "       Df Deviance     AIC\n+ ACCR  1   59.707  69.707\n+ DEPI  1   71.839  81.839\n<none>      74.612  82.612\n+ LEVI  1   73.844  83.844\n+ SGAI  1   74.095  84.095\n+ GMI   1   74.530  84.530\n- AQI   1   84.049  90.049\n- SGI   1   96.836 102.836\n- DSRI  1   98.910 104.910\n",
                    "name": "stdout"
                },
                {
                    "output_type": "stream",
                    "text": "Warning message:\n\u201cglm.fit: fitted probabilities numerically 0 or 1 occurred\u201d",
                    "name": "stderr"
                },
                {
                    "output_type": "stream",
                    "text": "\nStep:  AIC=69.71\nManipulater ~ DSRI + SGI + AQI + ACCR\n\n",
                    "name": "stdout"
                },
                {
                    "output_type": "stream",
                    "text": "Warning message:\n\u201cglm.fit: fitted probabilities numerically 0 or 1 occurred\u201dWarning message:\n\u201cglm.fit: fitted probabilities numerically 0 or 1 occurred\u201dWarning message:\n\u201cglm.fit: fitted probabilities numerically 0 or 1 occurred\u201dWarning message:\n\u201cglm.fit: fitted probabilities numerically 0 or 1 occurred\u201dWarning message:\n\u201cglm.fit: fitted probabilities numerically 0 or 1 occurred\u201dWarning message:\n\u201cglm.fit: fitted probabilities numerically 0 or 1 occurred\u201dWarning message:\n\u201cglm.fit: fitted probabilities numerically 0 or 1 occurred\u201dWarning message:\n\u201cglm.fit: fitted probabilities numerically 0 or 1 occurred\u201d",
                    "name": "stderr"
                },
                {
                    "output_type": "stream",
                    "text": "       Df Deviance     AIC\n+ DEPI  1    56.75   68.75\n<none>       59.71   69.71\n+ LEVI  1    59.62   71.62\n+ SGAI  1    59.65   71.65\n- ACCR  1    74.61   82.61\n- AQI   1    76.65   84.65\n- SGI   1    83.79   91.79\n- DSRI  1    93.87  101.87\n+ GMI   1  1802.18 1814.18\n",
                    "name": "stdout"
                },
                {
                    "output_type": "stream",
                    "text": "Warning message:\n\u201cglm.fit: fitted probabilities numerically 0 or 1 occurred\u201d",
                    "name": "stderr"
                },
                {
                    "output_type": "stream",
                    "text": "\nStep:  AIC=68.75\nManipulater ~ DSRI + SGI + AQI + ACCR + DEPI\n\n",
                    "name": "stdout"
                },
                {
                    "output_type": "stream",
                    "text": "Warning message:\n\u201cglm.fit: fitted probabilities numerically 0 or 1 occurred\u201dWarning message:\n\u201cglm.fit: fitted probabilities numerically 0 or 1 occurred\u201dWarning message:\n\u201cglm.fit: fitted probabilities numerically 0 or 1 occurred\u201dWarning message:\n\u201cglm.fit: fitted probabilities numerically 0 or 1 occurred\u201dWarning message:\n\u201cglm.fit: fitted probabilities numerically 0 or 1 occurred\u201dWarning message:\n\u201cglm.fit: algorithm did not converge\u201dWarning message:\n\u201cglm.fit: fitted probabilities numerically 0 or 1 occurred\u201dWarning message:\n\u201cglm.fit: fitted probabilities numerically 0 or 1 occurred\u201dWarning message:\n\u201cglm.fit: fitted probabilities numerically 0 or 1 occurred\u201d",
                    "name": "stderr"
                },
                {
                    "output_type": "stream",
                    "text": "       Df Deviance     AIC\n<none>       56.75   68.75\n- DEPI  1    59.71   69.71\n+ LEVI  1    56.27   70.27\n+ SGAI  1    56.74   70.74\n- ACCR  1    71.84   81.84\n- AQI   1    76.62   86.62\n- SGI   1    83.26   93.26\n- DSRI  1    93.78  103.78\n+ GMI   1  1369.66 1383.66\n",
                    "name": "stdout"
                },
                {
                    "output_type": "stream",
                    "text": "Warning message:\n\u201cglm.fit: fitted probabilities numerically 0 or 1 occurred\u201d",
                    "name": "stderr"
                },
                {
                    "output_type": "stream",
                    "text": "Start:  AIC=110.13\nManipulater ~ 1\n\n       Df Deviance    AIC\n+ DSRI  1   97.676 101.68\n+ AQI   1  104.851 108.85\n+ SGI   1  104.965 108.97\n+ ACCR  1  105.080 109.08\n+ SGAI  1  105.173 109.17\n<none>     108.131 110.13\n+ GMI   1  106.525 110.53\n+ LEVI  1  106.971 110.97\n+ DEPI  1  108.034 112.03\n\nStep:  AIC=101.68\nManipulater ~ DSRI\n\n",
                    "name": "stdout"
                },
                {
                    "output_type": "stream",
                    "text": "Warning message:\n\u201cglm.fit: fitted probabilities numerically 0 or 1 occurred\u201dWarning message:\n\u201cglm.fit: fitted probabilities numerically 0 or 1 occurred\u201dWarning message:\n\u201cglm.fit: fitted probabilities numerically 0 or 1 occurred\u201dWarning message:\n\u201cglm.fit: fitted probabilities numerically 0 or 1 occurred\u201dWarning message:\n\u201cglm.fit: fitted probabilities numerically 0 or 1 occurred\u201d",
                    "name": "stderr"
                },
                {
                    "output_type": "stream",
                    "text": "       Df Deviance     AIC\n+ SGI   1   90.716  96.716\n+ ACCR  1   92.591  98.591\n+ AQI   1   93.133  99.133\n+ GMI   1   94.753 100.753\n<none>      97.676 101.676\n+ SGAI  1   97.248 103.248\n+ LEVI  1   97.562 103.562\n+ DEPI  1   97.629 103.629\n- DSRI  1  108.131 110.131\n",
                    "name": "stdout"
                },
                {
                    "output_type": "stream",
                    "text": "Warning message:\n\u201cglm.fit: fitted probabilities numerically 0 or 1 occurred\u201d",
                    "name": "stderr"
                },
                {
                    "output_type": "stream",
                    "text": "\nStep:  AIC=96.72\nManipulater ~ DSRI + SGI\n\n",
                    "name": "stdout"
                },
                {
                    "output_type": "stream",
                    "text": "Warning message:\n\u201cglm.fit: fitted probabilities numerically 0 or 1 occurred\u201dWarning message:\n\u201cglm.fit: fitted probabilities numerically 0 or 1 occurred\u201dWarning message:\n\u201cglm.fit: fitted probabilities numerically 0 or 1 occurred\u201dWarning message:\n\u201cglm.fit: fitted probabilities numerically 0 or 1 occurred\u201dWarning message:\n\u201cglm.fit: fitted probabilities numerically 0 or 1 occurred\u201dWarning message:\n\u201cglm.fit: fitted probabilities numerically 0 or 1 occurred\u201dWarning message:\n\u201cglm.fit: fitted probabilities numerically 0 or 1 occurred\u201d",
                    "name": "stderr"
                },
                {
                    "output_type": "stream",
                    "text": "       Df Deviance     AIC\n+ AQI   1   82.780  90.780\n+ ACCR  1   86.225  94.225\n+ GMI   1   88.618  96.618\n<none>      90.716  96.716\n+ LEVI  1   90.488  98.488\n+ SGAI  1   90.632  98.632\n+ DEPI  1   90.715  98.715\n- SGI   1   97.676 101.676\n- DSRI  1  104.965 108.965\n",
                    "name": "stdout"
                },
                {
                    "output_type": "stream",
                    "text": "Warning message:\n\u201cglm.fit: fitted probabilities numerically 0 or 1 occurred\u201d",
                    "name": "stderr"
                },
                {
                    "output_type": "stream",
                    "text": "\nStep:  AIC=90.78\nManipulater ~ DSRI + SGI + AQI\n\n",
                    "name": "stdout"
                },
                {
                    "output_type": "stream",
                    "text": "Warning message:\n\u201cglm.fit: fitted probabilities numerically 0 or 1 occurred\u201dWarning message:\n\u201cglm.fit: fitted probabilities numerically 0 or 1 occurred\u201dWarning message:\n\u201cglm.fit: fitted probabilities numerically 0 or 1 occurred\u201dWarning message:\n\u201cglm.fit: fitted probabilities numerically 0 or 1 occurred\u201dWarning message:\n\u201cglm.fit: fitted probabilities numerically 0 or 1 occurred\u201dWarning message:\n\u201cglm.fit: fitted probabilities numerically 0 or 1 occurred\u201dWarning message:\n\u201cglm.fit: fitted probabilities numerically 0 or 1 occurred\u201dWarning message:\n\u201cglm.fit: fitted probabilities numerically 0 or 1 occurred\u201d",
                    "name": "stderr"
                },
                {
                    "output_type": "stream",
                    "text": "       Df Deviance     AIC\n+ ACCR  1   72.484  82.484\n+ LEVI  1   79.779  89.779\n+ GMI   1   80.332  90.332\n<none>      82.780  90.780\n+ DEPI  1   82.270  92.270\n+ SGAI  1   82.776  92.776\n- AQI   1   90.716  96.716\n- SGI   1   93.133  99.133\n- DSRI  1  100.903 106.903\n",
                    "name": "stdout"
                },
                {
                    "output_type": "stream",
                    "text": "Warning message:\n\u201cglm.fit: fitted probabilities numerically 0 or 1 occurred\u201d",
                    "name": "stderr"
                },
                {
                    "output_type": "stream",
                    "text": "\nStep:  AIC=82.48\nManipulater ~ DSRI + SGI + AQI + ACCR\n\n",
                    "name": "stdout"
                },
                {
                    "output_type": "stream",
                    "text": "Warning message:\n\u201cglm.fit: fitted probabilities numerically 0 or 1 occurred\u201dWarning message:\n\u201cglm.fit: fitted probabilities numerically 0 or 1 occurred\u201dWarning message:\n\u201cglm.fit: fitted probabilities numerically 0 or 1 occurred\u201dWarning message:\n\u201cglm.fit: fitted probabilities numerically 0 or 1 occurred\u201dWarning message:\n\u201cglm.fit: fitted probabilities numerically 0 or 1 occurred\u201dWarning message:\n\u201cglm.fit: fitted probabilities numerically 0 or 1 occurred\u201dWarning message:\n\u201cglm.fit: fitted probabilities numerically 0 or 1 occurred\u201dWarning message:\n\u201cglm.fit: fitted probabilities numerically 0 or 1 occurred\u201d",
                    "name": "stderr"
                },
                {
                    "output_type": "stream",
                    "text": "       Df Deviance     AIC\n+ GMI   1   68.474  80.474\n+ LEVI  1   69.791  81.791\n<none>      72.484  82.484\n+ SGAI  1   72.121  84.121\n+ DEPI  1   72.482  84.482\n- ACCR  1   82.780  90.780\n- SGI   1   83.252  91.252\n- AQI   1   86.225  94.225\n- DSRI  1   95.952 103.952\n",
                    "name": "stdout"
                },
                {
                    "output_type": "stream",
                    "text": "Warning message:\n\u201cglm.fit: fitted probabilities numerically 0 or 1 occurred\u201d",
                    "name": "stderr"
                },
                {
                    "output_type": "stream",
                    "text": "\nStep:  AIC=80.47\nManipulater ~ DSRI + SGI + AQI + ACCR + GMI\n\n",
                    "name": "stdout"
                },
                {
                    "output_type": "stream",
                    "text": "Warning message:\n\u201cglm.fit: fitted probabilities numerically 0 or 1 occurred\u201dWarning message:\n\u201cglm.fit: fitted probabilities numerically 0 or 1 occurred\u201dWarning message:\n\u201cglm.fit: fitted probabilities numerically 0 or 1 occurred\u201dWarning message:\n\u201cglm.fit: fitted probabilities numerically 0 or 1 occurred\u201dWarning message:\n\u201cglm.fit: fitted probabilities numerically 0 or 1 occurred\u201dWarning message:\n\u201cglm.fit: fitted probabilities numerically 0 or 1 occurred\u201dWarning message:\n\u201cglm.fit: fitted probabilities numerically 0 or 1 occurred\u201dWarning message:\n\u201cglm.fit: fitted probabilities numerically 0 or 1 occurred\u201d",
                    "name": "stderr"
                },
                {
                    "output_type": "stream",
                    "text": "       Df Deviance     AIC\n+ LEVI  1   66.474  80.474\n<none>      68.474  80.474\n+ DEPI  1   68.474  82.474\n+ SGAI  1   68.474  82.474\n- GMI   1   72.484  82.484\n- SGI   1   78.666  88.666\n- ACCR  1   80.332  90.332\n- AQI   1   83.807  93.807\n- DSRI  1   94.640 104.640\n",
                    "name": "stdout"
                },
                {
                    "output_type": "stream",
                    "text": "Warning message:\n\u201cglm.fit: fitted probabilities numerically 0 or 1 occurred\u201d",
                    "name": "stderr"
                },
                {
                    "output_type": "stream",
                    "text": "\nStep:  AIC=80.47\nManipulater ~ DSRI + SGI + AQI + ACCR + GMI + LEVI\n\n",
                    "name": "stdout"
                },
                {
                    "output_type": "stream",
                    "text": "Warning message:\n\u201cglm.fit: fitted probabilities numerically 0 or 1 occurred\u201dWarning message:\n\u201cglm.fit: fitted probabilities numerically 0 or 1 occurred\u201dWarning message:\n\u201cglm.fit: fitted probabilities numerically 0 or 1 occurred\u201dWarning message:\n\u201cglm.fit: fitted probabilities numerically 0 or 1 occurred\u201dWarning message:\n\u201cglm.fit: fitted probabilities numerically 0 or 1 occurred\u201dWarning message:\n\u201cglm.fit: fitted probabilities numerically 0 or 1 occurred\u201dWarning message:\n\u201cglm.fit: fitted probabilities numerically 0 or 1 occurred\u201dWarning message:\n\u201cglm.fit: fitted probabilities numerically 0 or 1 occurred\u201d",
                    "name": "stderr"
                },
                {
                    "output_type": "stream",
                    "text": "       Df Deviance     AIC\n<none>      66.474  80.474\n- LEVI  1   68.474  80.474\n- GMI   1   69.791  81.791\n+ DEPI  1   66.473  82.473\n+ SGAI  1   66.473  82.473\n- ACCR  1   77.963  89.963\n- SGI   1   78.653  90.653\n- AQI   1   83.789  95.789\n- DSRI  1   93.815 105.815\n",
                    "name": "stdout"
                },
                {
                    "output_type": "stream",
                    "text": "Warning message:\n\u201cglm.fit: fitted probabilities numerically 0 or 1 occurred\u201d",
                    "name": "stderr"
                },
                {
                    "output_type": "stream",
                    "text": "Start:  AIC=110.13\nManipulater ~ 1\n\n       Df Deviance    AIC\n+ DSRI  1   99.575 103.58\n+ SGAI  1  102.930 106.93\n+ ACCR  1  103.785 107.78\n+ SGI   1  104.981 108.98\n+ AQI   1  105.986 109.99\n+ DEPI  1  106.116 110.12\n<none>     108.131 110.13\n+ GMI   1  106.980 110.98\n+ LEVI  1  107.023 111.02\n\nStep:  AIC=103.57\nManipulater ~ DSRI\n\n",
                    "name": "stdout"
                },
                {
                    "output_type": "stream",
                    "text": "Warning message:\n\u201cglm.fit: fitted probabilities numerically 0 or 1 occurred\u201dWarning message:\n\u201cglm.fit: fitted probabilities numerically 0 or 1 occurred\u201d",
                    "name": "stderr"
                },
                {
                    "output_type": "stream",
                    "text": "       Df Deviance     AIC\n+ ACCR  1   92.313  98.313\n+ SGI   1   92.385  98.385\n+ AQI   1   96.716 102.716\n+ SGAI  1   97.121 103.121\n+ GMI   1   97.347 103.347\n<none>      99.575 103.575\n+ DEPI  1   97.763 103.763\n+ LEVI  1   99.443 105.443\n- DSRI  1  108.131 110.131\n\nStep:  AIC=98.31\nManipulater ~ DSRI + ACCR\n\n",
                    "name": "stdout"
                },
                {
                    "output_type": "stream",
                    "text": "Warning message:\n\u201cglm.fit: fitted probabilities numerically 0 or 1 occurred\u201d",
                    "name": "stderr"
                },
                {
                    "output_type": "stream",
                    "text": "       Df Deviance     AIC\n+ SGI   1   85.859  93.859\n+ AQI   1   86.355  94.355\n+ GMI   1   89.804  97.804\n+ DEPI  1   90.017  98.017\n<none>      92.313  98.313\n+ SGAI  1   91.111  99.111\n+ LEVI  1   91.929  99.929\n- ACCR  1   99.575 103.575\n- DSRI  1  103.785 107.785\n",
                    "name": "stdout"
                },
                {
                    "output_type": "stream",
                    "text": "Warning message:\n\u201cglm.fit: fitted probabilities numerically 0 or 1 occurred\u201d",
                    "name": "stderr"
                },
                {
                    "output_type": "stream",
                    "text": "\nStep:  AIC=93.86\nManipulater ~ DSRI + ACCR + SGI\n\n",
                    "name": "stdout"
                },
                {
                    "output_type": "stream",
                    "text": "Warning message:\n\u201cglm.fit: fitted probabilities numerically 0 or 1 occurred\u201dWarning message:\n\u201cglm.fit: fitted probabilities numerically 0 or 1 occurred\u201dWarning message:\n\u201cglm.fit: fitted probabilities numerically 0 or 1 occurred\u201dWarning message:\n\u201cglm.fit: fitted probabilities numerically 0 or 1 occurred\u201dWarning message:\n\u201cglm.fit: fitted probabilities numerically 0 or 1 occurred\u201dWarning message:\n\u201cglm.fit: fitted probabilities numerically 0 or 1 occurred\u201dWarning message:\n\u201cglm.fit: fitted probabilities numerically 0 or 1 occurred\u201d",
                    "name": "stderr"
                },
                {
                    "output_type": "stream",
                    "text": "       Df Deviance     AIC\n+ AQI   1   73.422  83.422\n<none>      85.859  93.859\n+ GMI   1   84.159  94.159\n+ SGAI  1   84.706  94.706\n+ DEPI  1   85.066  95.066\n+ LEVI  1   85.850  95.850\n- SGI   1   92.313  98.313\n- ACCR  1   92.385  98.385\n- DSRI  1  101.188 107.188\n",
                    "name": "stdout"
                },
                {
                    "output_type": "stream",
                    "text": "Warning message:\n\u201cglm.fit: fitted probabilities numerically 0 or 1 occurred\u201d",
                    "name": "stderr"
                },
                {
                    "output_type": "stream",
                    "text": "\nStep:  AIC=83.42\nManipulater ~ DSRI + ACCR + SGI + AQI\n\n",
                    "name": "stdout"
                },
                {
                    "output_type": "stream",
                    "text": "Warning message:\n\u201cglm.fit: fitted probabilities numerically 0 or 1 occurred\u201dWarning message:\n\u201cglm.fit: fitted probabilities numerically 0 or 1 occurred\u201dWarning message:\n\u201cglm.fit: fitted probabilities numerically 0 or 1 occurred\u201dWarning message:\n\u201cglm.fit: fitted probabilities numerically 0 or 1 occurred\u201dWarning message:\n\u201cglm.fit: fitted probabilities numerically 0 or 1 occurred\u201dWarning message:\n\u201cglm.fit: fitted probabilities numerically 0 or 1 occurred\u201dWarning message:\n\u201cglm.fit: fitted probabilities numerically 0 or 1 occurred\u201d",
                    "name": "stderr"
                },
                {
                    "output_type": "stream",
                    "text": "       Df Deviance     AIC\n+ LEVI  1   71.414  83.414\n<none>      73.422  83.422\n+ GMI   1   71.479  83.479\n+ DEPI  1   72.671  84.671\n+ SGAI  1   73.397  85.397\n- ACCR  1   85.000  93.000\n- AQI   1   85.859  93.859\n- SGI   1   86.355  94.355\n- DSRI  1   96.344 104.344\n",
                    "name": "stdout"
                },
                {
                    "output_type": "stream",
                    "text": "Warning message:\n\u201cglm.fit: fitted probabilities numerically 0 or 1 occurred\u201d",
                    "name": "stderr"
                },
                {
                    "output_type": "stream",
                    "text": "\nStep:  AIC=83.41\nManipulater ~ DSRI + ACCR + SGI + AQI + LEVI\n\n",
                    "name": "stdout"
                },
                {
                    "output_type": "stream",
                    "text": "Warning message:\n\u201cglm.fit: fitted probabilities numerically 0 or 1 occurred\u201dWarning message:\n\u201cglm.fit: fitted probabilities numerically 0 or 1 occurred\u201dWarning message:\n\u201cglm.fit: fitted probabilities numerically 0 or 1 occurred\u201dWarning message:\n\u201cglm.fit: fitted probabilities numerically 0 or 1 occurred\u201dWarning message:\n\u201cglm.fit: fitted probabilities numerically 0 or 1 occurred\u201dWarning message:\n\u201cglm.fit: fitted probabilities numerically 0 or 1 occurred\u201dWarning message:\n\u201cglm.fit: fitted probabilities numerically 0 or 1 occurred\u201d",
                    "name": "stderr"
                },
                {
                    "output_type": "stream",
                    "text": "       Df Deviance     AIC\n<none>      71.414  83.414\n- LEVI  1   73.422  83.422\n+ GMI   1   70.138  84.138\n+ DEPI  1   70.651  84.651\n+ SGAI  1   71.405  85.405\n- ACCR  1   82.138  92.138\n- AQI   1   85.850  95.850\n- SGI   1   86.344  96.344\n- DSRI  1   95.676 105.676\n",
                    "name": "stdout"
                },
                {
                    "output_type": "stream",
                    "text": "Warning message:\n\u201cglm.fit: fitted probabilities numerically 0 or 1 occurred\u201d",
                    "name": "stderr"
                },
                {
                    "output_type": "stream",
                    "text": "Start:  AIC=110.13\nManipulater ~ 1\n\n       Df Deviance    AIC\n+ DSRI  1   98.528 102.53\n+ AQI   1  104.411 108.41\n+ SGAI  1  104.678 108.68\n+ SGI   1  104.925 108.92\n+ ACCR  1  105.486 109.49\n<none>     108.131 110.13\n+ GMI   1  107.008 111.01\n+ DEPI  1  107.125 111.12\n+ LEVI  1  107.208 111.21\n\nStep:  AIC=102.53\nManipulater ~ DSRI\n\n",
                    "name": "stdout"
                },
                {
                    "output_type": "stream",
                    "text": "Warning message:\n\u201cglm.fit: fitted probabilities numerically 0 or 1 occurred\u201dWarning message:\n\u201cglm.fit: fitted probabilities numerically 0 or 1 occurred\u201dWarning message:\n\u201cglm.fit: fitted probabilities numerically 0 or 1 occurred\u201d",
                    "name": "stderr"
                },
                {
                    "output_type": "stream",
                    "text": "       Df Deviance     AIC\n+ SGI   1   91.096  97.096\n+ AQI   1   93.621  99.621\n+ ACCR  1   94.100 100.100\n+ GMI   1   96.349 102.349\n<none>      98.528 102.528\n+ DEPI  1   97.618 103.618\n+ SGAI  1   97.692 103.692\n+ LEVI  1   98.480 104.480\n- DSRI  1  108.131 110.131\n",
                    "name": "stdout"
                },
                {
                    "output_type": "stream",
                    "text": "Warning message:\n\u201cglm.fit: fitted probabilities numerically 0 or 1 occurred\u201d",
                    "name": "stderr"
                },
                {
                    "output_type": "stream",
                    "text": "\nStep:  AIC=97.1\nManipulater ~ DSRI + SGI\n\n",
                    "name": "stdout"
                },
                {
                    "output_type": "stream",
                    "text": "Warning message:\n\u201cglm.fit: fitted probabilities numerically 0 or 1 occurred\u201dWarning message:\n\u201cglm.fit: fitted probabilities numerically 0 or 1 occurred\u201dWarning message:\n\u201cglm.fit: fitted probabilities numerically 0 or 1 occurred\u201dWarning message:\n\u201cglm.fit: fitted probabilities numerically 0 or 1 occurred\u201dWarning message:\n\u201cglm.fit: fitted probabilities numerically 0 or 1 occurred\u201dWarning message:\n\u201cglm.fit: fitted probabilities numerically 0 or 1 occurred\u201dWarning message:\n\u201cglm.fit: fitted probabilities numerically 0 or 1 occurred\u201d",
                    "name": "stderr"
                },
                {
                    "output_type": "stream",
                    "text": "       Df Deviance     AIC\n+ AQI   1   81.399  89.399\n+ ACCR  1   87.523  95.523\n<none>      91.096  97.096\n+ GMI   1   89.713  97.713\n+ LEVI  1   90.504  98.504\n+ SGAI  1   90.598  98.598\n+ DEPI  1   91.093  99.093\n- SGI   1   98.528 102.528\n- DSRI  1  104.925 108.925\n",
                    "name": "stdout"
                },
                {
                    "output_type": "stream",
                    "text": "Warning message:\n\u201cglm.fit: fitted probabilities numerically 0 or 1 occurred\u201d",
                    "name": "stderr"
                },
                {
                    "output_type": "stream",
                    "text": "\nStep:  AIC=89.4\nManipulater ~ DSRI + SGI + AQI\n\n",
                    "name": "stdout"
                },
                {
                    "output_type": "stream",
                    "text": "Warning message:\n\u201cglm.fit: fitted probabilities numerically 0 or 1 occurred\u201dWarning message:\n\u201cglm.fit: fitted probabilities numerically 0 or 1 occurred\u201dWarning message:\n\u201cglm.fit: fitted probabilities numerically 0 or 1 occurred\u201dWarning message:\n\u201cglm.fit: fitted probabilities numerically 0 or 1 occurred\u201dWarning message:\n\u201cglm.fit: fitted probabilities numerically 0 or 1 occurred\u201dWarning message:\n\u201cglm.fit: fitted probabilities numerically 0 or 1 occurred\u201dWarning message:\n\u201cglm.fit: fitted probabilities numerically 0 or 1 occurred\u201dWarning message:\n\u201cglm.fit: fitted probabilities numerically 0 or 1 occurred\u201d",
                    "name": "stderr"
                },
                {
                    "output_type": "stream",
                    "text": "       Df Deviance     AIC\n+ ACCR  1   73.624  83.624\n+ LEVI  1   76.912  86.912\n<none>      81.399  89.399\n+ GMI   1   79.924  89.924\n+ DEPI  1   80.012  90.012\n+ SGAI  1   81.316  91.316\n- AQI   1   91.096  97.096\n- SGI   1   93.621  99.621\n- DSRI  1  100.170 106.170\n",
                    "name": "stdout"
                },
                {
                    "output_type": "stream",
                    "text": "Warning message:\n\u201cglm.fit: fitted probabilities numerically 0 or 1 occurred\u201d",
                    "name": "stderr"
                },
                {
                    "output_type": "stream",
                    "text": "\nStep:  AIC=83.62\nManipulater ~ DSRI + SGI + AQI + ACCR\n\n",
                    "name": "stdout"
                },
                {
                    "output_type": "stream",
                    "text": "Warning message:\n\u201cglm.fit: fitted probabilities numerically 0 or 1 occurred\u201dWarning message:\n\u201cglm.fit: fitted probabilities numerically 0 or 1 occurred\u201dWarning message:\n\u201cglm.fit: fitted probabilities numerically 0 or 1 occurred\u201dWarning message:\n\u201cglm.fit: fitted probabilities numerically 0 or 1 occurred\u201dWarning message:\n\u201cglm.fit: fitted probabilities numerically 0 or 1 occurred\u201dWarning message:\n\u201cglm.fit: fitted probabilities numerically 0 or 1 occurred\u201dWarning message:\n\u201cglm.fit: fitted probabilities numerically 0 or 1 occurred\u201dWarning message:\n\u201cglm.fit: fitted probabilities numerically 0 or 1 occurred\u201d",
                    "name": "stderr"
                },
                {
                    "output_type": "stream",
                    "text": "       Df Deviance     AIC\n+ LEVI  1   70.058  82.058\n<none>      73.624  83.624\n+ GMI   1   71.956  83.956\n+ DEPI  1   72.874  84.874\n+ SGAI  1   73.584  85.584\n- ACCR  1   81.399  89.399\n- SGI   1   86.002  94.002\n- AQI   1   87.523  95.523\n- DSRI  1   96.342 104.342\n",
                    "name": "stdout"
                },
                {
                    "output_type": "stream",
                    "text": "Warning message:\n\u201cglm.fit: fitted probabilities numerically 0 or 1 occurred\u201d",
                    "name": "stderr"
                },
                {
                    "output_type": "stream",
                    "text": "\nStep:  AIC=82.06\nManipulater ~ DSRI + SGI + AQI + ACCR + LEVI\n\n",
                    "name": "stdout"
                },
                {
                    "output_type": "stream",
                    "text": "Warning message:\n\u201cglm.fit: fitted probabilities numerically 0 or 1 occurred\u201dWarning message:\n\u201cglm.fit: fitted probabilities numerically 0 or 1 occurred\u201dWarning message:\n\u201cglm.fit: fitted probabilities numerically 0 or 1 occurred\u201dWarning message:\n\u201cglm.fit: fitted probabilities numerically 0 or 1 occurred\u201dWarning message:\n\u201cglm.fit: fitted probabilities numerically 0 or 1 occurred\u201dWarning message:\n\u201cglm.fit: fitted probabilities numerically 0 or 1 occurred\u201dWarning message:\n\u201cglm.fit: fitted probabilities numerically 0 or 1 occurred\u201dWarning message:\n\u201cglm.fit: fitted probabilities numerically 0 or 1 occurred\u201d",
                    "name": "stderr"
                },
                {
                    "output_type": "stream",
                    "text": "       Df Deviance     AIC\n<none>      70.058  82.058\n+ DEPI  1   68.794  82.794\n+ GMI   1   69.213  83.213\n- LEVI  1   73.624  83.624\n+ SGAI  1   69.944  83.944\n- ACCR  1   76.912  86.912\n- SGI   1   85.986  95.986\n- AQI   1   87.296  97.296\n- DSRI  1   95.857 105.857\n",
                    "name": "stdout"
                },
                {
                    "output_type": "stream",
                    "text": "Warning message:\n\u201cglm.fit: fitted probabilities numerically 0 or 1 occurred\u201d",
                    "name": "stderr"
                },
                {
                    "output_type": "stream",
                    "text": "Start:  AIC=110.13\nManipulater ~ 1\n\n",
                    "name": "stdout"
                },
                {
                    "output_type": "stream",
                    "text": "Warning message:\n\u201cglm.fit: fitted probabilities numerically 0 or 1 occurred\u201d",
                    "name": "stderr"
                },
                {
                    "output_type": "stream",
                    "text": "       Df Deviance     AIC\n+ DSRI  1   93.288  97.288\n+ ACCR  1  100.808 104.808\n+ SGAI  1  103.124 107.124\n+ SGI   1  104.175 108.175\n+ AQI   1  105.732 109.732\n<none>     108.131 110.131\n+ GMI   1  106.478 110.478\n+ LEVI  1  106.799 110.799\n+ DEPI  1  107.751 111.751\n",
                    "name": "stdout"
                },
                {
                    "output_type": "stream",
                    "text": "Warning message:\n\u201cglm.fit: fitted probabilities numerically 0 or 1 occurred\u201d",
                    "name": "stderr"
                },
                {
                    "output_type": "stream",
                    "text": "\nStep:  AIC=97.29\nManipulater ~ DSRI\n\n",
                    "name": "stdout"
                },
                {
                    "output_type": "stream",
                    "text": "Warning message:\n\u201cglm.fit: fitted probabilities numerically 0 or 1 occurred\u201dWarning message:\n\u201cglm.fit: fitted probabilities numerically 0 or 1 occurred\u201dWarning message:\n\u201cglm.fit: fitted probabilities numerically 0 or 1 occurred\u201dWarning message:\n\u201cglm.fit: fitted probabilities numerically 0 or 1 occurred\u201dWarning message:\n\u201cglm.fit: fitted probabilities numerically 0 or 1 occurred\u201dWarning message:\n\u201cglm.fit: fitted probabilities numerically 0 or 1 occurred\u201dWarning message:\n\u201cglm.fit: fitted probabilities numerically 0 or 1 occurred\u201dWarning message:\n\u201cglm.fit: fitted probabilities numerically 0 or 1 occurred\u201d",
                    "name": "stderr"
                },
                {
                    "output_type": "stream",
                    "text": "       Df Deviance     AIC\n+ ACCR  1   80.255  86.255\n+ SGI   1   81.326  87.326\n+ GMI   1   88.177  94.177\n+ AQI   1   89.091  95.091\n<none>      93.288  97.288\n+ SGAI  1   91.327  97.327\n+ DEPI  1   92.753  98.753\n+ LEVI  1   93.025  99.025\n- DSRI  1  108.131 110.131\n",
                    "name": "stdout"
                },
                {
                    "output_type": "stream",
                    "text": "Warning message:\n\u201cglm.fit: fitted probabilities numerically 0 or 1 occurred\u201d",
                    "name": "stderr"
                },
                {
                    "output_type": "stream",
                    "text": "\nStep:  AIC=86.25\nManipulater ~ DSRI + ACCR\n\n",
                    "name": "stdout"
                },
                {
                    "output_type": "stream",
                    "text": "Warning message:\n\u201cglm.fit: fitted probabilities numerically 0 or 1 occurred\u201dWarning message:\n\u201cglm.fit: fitted probabilities numerically 0 or 1 occurred\u201dWarning message:\n\u201cglm.fit: fitted probabilities numerically 0 or 1 occurred\u201dWarning message:\n\u201cglm.fit: fitted probabilities numerically 0 or 1 occurred\u201dWarning message:\n\u201cglm.fit: fitted probabilities numerically 0 or 1 occurred\u201dWarning message:\n\u201cglm.fit: fitted probabilities numerically 0 or 1 occurred\u201dWarning message:\n\u201cglm.fit: fitted probabilities numerically 0 or 1 occurred\u201dWarning message:\n\u201cglm.fit: fitted probabilities numerically 0 or 1 occurred\u201d",
                    "name": "stderr"
                },
                {
                    "output_type": "stream",
                    "text": "       Df Deviance     AIC\n+ AQI   1   67.721  75.721\n+ SGI   1   71.272  79.272\n+ GMI   1   73.714  81.714\n<none>      80.255  86.255\n+ DEPI  1   78.737  86.737\n+ SGAI  1   79.379  87.379\n+ LEVI  1   79.588  87.588\n- ACCR  1   93.288  97.288\n- DSRI  1  100.808 104.808\n",
                    "name": "stdout"
                },
                {
                    "output_type": "stream",
                    "text": "Warning message:\n\u201cglm.fit: fitted probabilities numerically 0 or 1 occurred\u201d",
                    "name": "stderr"
                },
                {
                    "output_type": "stream",
                    "text": "\nStep:  AIC=75.72\nManipulater ~ DSRI + ACCR + AQI\n\n",
                    "name": "stdout"
                },
                {
                    "output_type": "stream",
                    "text": "Warning message:\n\u201cglm.fit: fitted probabilities numerically 0 or 1 occurred\u201dWarning message:\n\u201cglm.fit: fitted probabilities numerically 0 or 1 occurred\u201dWarning message:\n\u201cglm.fit: fitted probabilities numerically 0 or 1 occurred\u201dWarning message:\n\u201cglm.fit: fitted probabilities numerically 0 or 1 occurred\u201dWarning message:\n\u201cglm.fit: fitted probabilities numerically 0 or 1 occurred\u201dWarning message:\n\u201cglm.fit: fitted probabilities numerically 0 or 1 occurred\u201dWarning message:\n\u201cglm.fit: fitted probabilities numerically 0 or 1 occurred\u201dWarning message:\n\u201cglm.fit: fitted probabilities numerically 0 or 1 occurred\u201d",
                    "name": "stderr"
                },
                {
                    "output_type": "stream",
                    "text": "       Df Deviance     AIC\n+ SGI   1   43.480  53.480\n+ GMI   1   49.066  59.066\n<none>      67.721  75.721\n+ DEPI  1   66.322  76.322\n+ SGAI  1   67.689  77.689\n+ LEVI  1   67.720  77.720\n- AQI   1   80.255  86.255\n- ACCR  1   89.091  95.091\n- DSRI  1   95.250 101.250\n",
                    "name": "stdout"
                },
                {
                    "output_type": "stream",
                    "text": "Warning message:\n\u201cglm.fit: fitted probabilities numerically 0 or 1 occurred\u201d",
                    "name": "stderr"
                },
                {
                    "output_type": "stream",
                    "text": "\nStep:  AIC=53.48\nManipulater ~ DSRI + ACCR + AQI + SGI\n\n",
                    "name": "stdout"
                },
                {
                    "output_type": "stream",
                    "text": "Warning message:\n\u201cglm.fit: fitted probabilities numerically 0 or 1 occurred\u201dWarning message:\n\u201cglm.fit: fitted probabilities numerically 0 or 1 occurred\u201dWarning message:\n\u201cglm.fit: fitted probabilities numerically 0 or 1 occurred\u201dWarning message:\n\u201cglm.fit: fitted probabilities numerically 0 or 1 occurred\u201dWarning message:\n\u201cglm.fit: fitted probabilities numerically 0 or 1 occurred\u201dWarning message:\n\u201cglm.fit: fitted probabilities numerically 0 or 1 occurred\u201dWarning message:\n\u201cglm.fit: fitted probabilities numerically 0 or 1 occurred\u201dWarning message:\n\u201cglm.fit: fitted probabilities numerically 0 or 1 occurred\u201d",
                    "name": "stderr"
                },
                {
                    "output_type": "stream",
                    "text": "       Df Deviance    AIC\n+ GMI   1   29.379 41.379\n+ DEPI  1   40.962 52.962\n<none>      43.480 53.480\n+ LEVI  1   41.542 53.542\n+ SGAI  1   43.476 55.476\n- ACCR  1   66.712 74.712\n- SGI   1   67.721 75.721\n- AQI   1   71.272 79.272\n- DSRI  1   90.996 98.996\n",
                    "name": "stdout"
                },
                {
                    "output_type": "stream",
                    "text": "Warning message:\n\u201cglm.fit: fitted probabilities numerically 0 or 1 occurred\u201d",
                    "name": "stderr"
                },
                {
                    "output_type": "stream",
                    "text": "\nStep:  AIC=41.38\nManipulater ~ DSRI + ACCR + AQI + SGI + GMI\n\n",
                    "name": "stdout"
                },
                {
                    "output_type": "stream",
                    "text": "Warning message:\n\u201cglm.fit: fitted probabilities numerically 0 or 1 occurred\u201dWarning message:\n\u201cglm.fit: fitted probabilities numerically 0 or 1 occurred\u201dWarning message:\n\u201cglm.fit: fitted probabilities numerically 0 or 1 occurred\u201dWarning message:\n\u201cglm.fit: fitted probabilities numerically 0 or 1 occurred\u201dWarning message:\n\u201cglm.fit: fitted probabilities numerically 0 or 1 occurred\u201dWarning message:\n\u201cglm.fit: fitted probabilities numerically 0 or 1 occurred\u201dWarning message:\n\u201cglm.fit: fitted probabilities numerically 0 or 1 occurred\u201dWarning message:\n\u201cglm.fit: fitted probabilities numerically 0 or 1 occurred\u201dWarning message:\n\u201cglm.fit: fitted probabilities numerically 0 or 1 occurred\u201d",
                    "name": "stderr"
                },
                {
                    "output_type": "stream",
                    "text": "       Df Deviance    AIC\n+ LEVI  1   25.981 39.981\n+ SGAI  1   26.813 40.813\n<none>      29.379 41.379\n+ DEPI  1   29.096 43.096\n- GMI   1   43.480 53.480\n- SGI   1   49.066 59.066\n- ACCR  1   58.331 68.331\n- AQI   1   67.880 77.880\n- DSRI  1   88.945 98.945\n",
                    "name": "stdout"
                },
                {
                    "output_type": "stream",
                    "text": "Warning message:\n\u201cglm.fit: fitted probabilities numerically 0 or 1 occurred\u201d",
                    "name": "stderr"
                },
                {
                    "output_type": "stream",
                    "text": "\nStep:  AIC=39.98\nManipulater ~ DSRI + ACCR + AQI + SGI + GMI + LEVI\n\n",
                    "name": "stdout"
                },
                {
                    "output_type": "stream",
                    "text": "Warning message:\n\u201cglm.fit: fitted probabilities numerically 0 or 1 occurred\u201dWarning message:\n\u201cglm.fit: fitted probabilities numerically 0 or 1 occurred\u201dWarning message:\n\u201cglm.fit: fitted probabilities numerically 0 or 1 occurred\u201dWarning message:\n\u201cglm.fit: fitted probabilities numerically 0 or 1 occurred\u201dWarning message:\n\u201cglm.fit: fitted probabilities numerically 0 or 1 occurred\u201dWarning message:\n\u201cglm.fit: fitted probabilities numerically 0 or 1 occurred\u201dWarning message:\n\u201cglm.fit: fitted probabilities numerically 0 or 1 occurred\u201dWarning message:\n\u201cglm.fit: fitted probabilities numerically 0 or 1 occurred\u201dWarning message:\n\u201cglm.fit: fitted probabilities numerically 0 or 1 occurred\u201d",
                    "name": "stderr"
                },
                {
                    "output_type": "stream",
                    "text": "       Df Deviance    AIC\n+ SGAI  1   23.671 39.671\n<none>      25.981 39.981\n+ DEPI  1   25.066 41.066\n- LEVI  1   29.379 41.379\n- GMI   1   41.542 53.542\n- SGI   1   49.055 61.055\n- ACCR  1   50.362 62.362\n- AQI   1   66.857 78.857\n- DSRI  1   87.543 99.543\n",
                    "name": "stdout"
                },
                {
                    "output_type": "stream",
                    "text": "Warning message:\n\u201cglm.fit: fitted probabilities numerically 0 or 1 occurred\u201d",
                    "name": "stderr"
                },
                {
                    "output_type": "stream",
                    "text": "\nStep:  AIC=39.67\nManipulater ~ DSRI + ACCR + AQI + SGI + GMI + LEVI + SGAI\n\n",
                    "name": "stdout"
                },
                {
                    "output_type": "stream",
                    "text": "Warning message:\n\u201cglm.fit: fitted probabilities numerically 0 or 1 occurred\u201dWarning message:\n\u201cglm.fit: fitted probabilities numerically 0 or 1 occurred\u201dWarning message:\n\u201cglm.fit: fitted probabilities numerically 0 or 1 occurred\u201dWarning message:\n\u201cglm.fit: fitted probabilities numerically 0 or 1 occurred\u201dWarning message:\n\u201cglm.fit: fitted probabilities numerically 0 or 1 occurred\u201dWarning message:\n\u201cglm.fit: fitted probabilities numerically 0 or 1 occurred\u201dWarning message:\n\u201cglm.fit: fitted probabilities numerically 0 or 1 occurred\u201dWarning message:\n\u201cglm.fit: fitted probabilities numerically 0 or 1 occurred\u201dWarning message:\n\u201cglm.fit: fitted probabilities numerically 0 or 1 occurred\u201d",
                    "name": "stderr"
                },
                {
                    "output_type": "stream",
                    "text": "       Df Deviance    AIC\n+ DEPI  1   21.592 39.592\n<none>      23.671 39.671\n- SGAI  1   25.981 39.981\n- LEVI  1   26.813 40.813\n- GMI   1   41.529 55.529\n- SGI   1   48.822 62.822\n- ACCR  1   49.199 63.199\n- DSRI  1   58.882 72.882\n- AQI   1   62.149 76.149\n",
                    "name": "stdout"
                },
                {
                    "output_type": "stream",
                    "text": "Warning message:\n\u201cglm.fit: fitted probabilities numerically 0 or 1 occurred\u201d",
                    "name": "stderr"
                },
                {
                    "output_type": "stream",
                    "text": "\nStep:  AIC=39.59\nManipulater ~ DSRI + ACCR + AQI + SGI + GMI + LEVI + SGAI + DEPI\n\n",
                    "name": "stdout"
                },
                {
                    "output_type": "stream",
                    "text": "Warning message:\n\u201cglm.fit: fitted probabilities numerically 0 or 1 occurred\u201dWarning message:\n\u201cglm.fit: fitted probabilities numerically 0 or 1 occurred\u201dWarning message:\n\u201cglm.fit: fitted probabilities numerically 0 or 1 occurred\u201dWarning message:\n\u201cglm.fit: fitted probabilities numerically 0 or 1 occurred\u201dWarning message:\n\u201cglm.fit: fitted probabilities numerically 0 or 1 occurred\u201dWarning message:\n\u201cglm.fit: fitted probabilities numerically 0 or 1 occurred\u201dWarning message:\n\u201cglm.fit: fitted probabilities numerically 0 or 1 occurred\u201dWarning message:\n\u201cglm.fit: fitted probabilities numerically 0 or 1 occurred\u201d",
                    "name": "stderr"
                },
                {
                    "output_type": "stream",
                    "text": "       Df Deviance    AIC\n<none>      21.592 39.592\n- DEPI  1   23.671 39.671\n- SGAI  1   25.066 41.066\n- LEVI  1   25.477 41.477\n- GMI   1   38.623 54.623\n- ACCR  1   43.664 59.664\n- SGI   1   45.205 61.205\n- DSRI  1   58.840 74.840\n- AQI   1   61.979 77.979\n",
                    "name": "stdout"
                },
                {
                    "output_type": "stream",
                    "text": "Warning message:\n\u201cglm.fit: fitted probabilities numerically 0 or 1 occurred\u201d",
                    "name": "stderr"
                },
                {
                    "output_type": "stream",
                    "text": "Start:  AIC=110.13\nManipulater ~ 1\n\n       Df Deviance    AIC\n+ DSRI  1   99.415 103.42\n+ ACCR  1   99.658 103.66\n+ SGAI  1  102.498 106.50\n+ SGI   1  104.367 108.37\n+ GMI   1  105.080 109.08\n+ AQI   1  105.764 109.76\n<none>     108.131 110.13\n+ LEVI  1  106.576 110.58\n+ DEPI  1  108.111 112.11\n\nStep:  AIC=103.42\nManipulater ~ DSRI\n\n",
                    "name": "stdout"
                },
                {
                    "output_type": "stream",
                    "text": "Warning message:\n\u201cglm.fit: fitted probabilities numerically 0 or 1 occurred\u201dWarning message:\n\u201cglm.fit: fitted probabilities numerically 0 or 1 occurred\u201d",
                    "name": "stderr"
                },
                {
                    "output_type": "stream",
                    "text": "       Df Deviance     AIC\n+ ACCR  1   84.775  90.775\n+ SGI   1   89.579  95.579\n+ GMI   1   94.676 100.676\n+ SGAI  1   96.321 102.321\n+ AQI   1   96.419 102.419\n<none>      99.415 103.415\n+ LEVI  1   98.994 104.994\n+ DEPI  1   99.414 105.414\n- DSRI  1  108.131 110.131\n\nStep:  AIC=90.77\nManipulater ~ DSRI + ACCR\n\n",
                    "name": "stdout"
                },
                {
                    "output_type": "stream",
                    "text": "Warning message:\n\u201cglm.fit: fitted probabilities numerically 0 or 1 occurred\u201dWarning message:\n\u201cglm.fit: fitted probabilities numerically 0 or 1 occurred\u201dWarning message:\n\u201cglm.fit: fitted probabilities numerically 0 or 1 occurred\u201dWarning message:\n\u201cglm.fit: fitted probabilities numerically 0 or 1 occurred\u201d",
                    "name": "stderr"
                },
                {
                    "output_type": "stream",
                    "text": "       Df Deviance     AIC\n+ AQI   1   76.675  84.675\n+ SGI   1   77.222  85.222\n+ GMI   1   78.510  86.510\n<none>      84.775  90.775\n+ LEVI  1   83.675  91.675\n+ SGAI  1   83.945  91.945\n+ DEPI  1   84.646  92.646\n- ACCR  1   99.415 103.415\n- DSRI  1   99.658 103.658\n",
                    "name": "stdout"
                },
                {
                    "output_type": "stream",
                    "text": "Warning message:\n\u201cglm.fit: fitted probabilities numerically 0 or 1 occurred\u201d",
                    "name": "stderr"
                },
                {
                    "output_type": "stream",
                    "text": "\nStep:  AIC=84.67\nManipulater ~ DSRI + ACCR + AQI\n\n",
                    "name": "stdout"
                },
                {
                    "output_type": "stream",
                    "text": "Warning message:\n\u201cglm.fit: fitted probabilities numerically 0 or 1 occurred\u201dWarning message:\n\u201cglm.fit: fitted probabilities numerically 0 or 1 occurred\u201dWarning message:\n\u201cglm.fit: fitted probabilities numerically 0 or 1 occurred\u201dWarning message:\n\u201cglm.fit: fitted probabilities numerically 0 or 1 occurred\u201dWarning message:\n\u201cglm.fit: fitted probabilities numerically 0 or 1 occurred\u201dWarning message:\n\u201cglm.fit: fitted probabilities numerically 0 or 1 occurred\u201d",
                    "name": "stderr"
                },
                {
                    "output_type": "stream",
                    "text": "       Df Deviance     AIC\n+ SGI   1   62.995  72.995\n+ GMI   1   66.638  76.638\n<none>      76.675  84.675\n+ SGAI  1   76.515  86.515\n+ LEVI  1   76.601  86.601\n+ DEPI  1   76.668  86.668\n- AQI   1   84.775  90.775\n- DSRI  1   94.950 100.950\n- ACCR  1   96.419 102.419\n",
                    "name": "stdout"
                },
                {
                    "output_type": "stream",
                    "text": "Warning message:\n\u201cglm.fit: fitted probabilities numerically 0 or 1 occurred\u201d",
                    "name": "stderr"
                },
                {
                    "output_type": "stream",
                    "text": "\nStep:  AIC=73\nManipulater ~ DSRI + ACCR + AQI + SGI\n\n",
                    "name": "stdout"
                },
                {
                    "output_type": "stream",
                    "text": "Warning message:\n\u201cglm.fit: fitted probabilities numerically 0 or 1 occurred\u201dWarning message:\n\u201cglm.fit: fitted probabilities numerically 0 or 1 occurred\u201dWarning message:\n\u201cglm.fit: fitted probabilities numerically 0 or 1 occurred\u201dWarning message:\n\u201cglm.fit: fitted probabilities numerically 0 or 1 occurred\u201dWarning message:\n\u201cglm.fit: fitted probabilities numerically 0 or 1 occurred\u201dWarning message:\n\u201cglm.fit: fitted probabilities numerically 0 or 1 occurred\u201dWarning message:\n\u201cglm.fit: fitted probabilities numerically 0 or 1 occurred\u201dWarning message:\n\u201cglm.fit: fitted probabilities numerically 0 or 1 occurred\u201d",
                    "name": "stderr"
                },
                {
                    "output_type": "stream",
                    "text": "       Df Deviance    AIC\n+ GMI   1   53.419 65.419\n+ DEPI  1   56.539 68.539\n<none>      62.995 72.995\n+ LEVI  1   62.515 74.515\n+ SGAI  1   62.978 74.978\n- SGI   1   76.675 84.675\n- AQI   1   77.222 85.222\n- ACCR  1   82.050 90.050\n- DSRI  1   91.719 99.719\n",
                    "name": "stdout"
                },
                {
                    "output_type": "stream",
                    "text": "Warning message:\n\u201cglm.fit: fitted probabilities numerically 0 or 1 occurred\u201d",
                    "name": "stderr"
                },
                {
                    "output_type": "stream",
                    "text": "\nStep:  AIC=65.42\nManipulater ~ DSRI + ACCR + AQI + SGI + GMI\n\n",
                    "name": "stdout"
                },
                {
                    "output_type": "stream",
                    "text": "Warning message:\n\u201cglm.fit: fitted probabilities numerically 0 or 1 occurred\u201dWarning message:\n\u201cglm.fit: fitted probabilities numerically 0 or 1 occurred\u201dWarning message:\n\u201cglm.fit: fitted probabilities numerically 0 or 1 occurred\u201dWarning message:\n\u201cglm.fit: fitted probabilities numerically 0 or 1 occurred\u201dWarning message:\n\u201cglm.fit: fitted probabilities numerically 0 or 1 occurred\u201dWarning message:\n\u201cglm.fit: fitted probabilities numerically 0 or 1 occurred\u201dWarning message:\n\u201cglm.fit: fitted probabilities numerically 0 or 1 occurred\u201dWarning message:\n\u201cglm.fit: fitted probabilities numerically 0 or 1 occurred\u201d",
                    "name": "stderr"
                },
                {
                    "output_type": "stream",
                    "text": "       Df Deviance    AIC\n<none>      53.419 65.419\n+ DEPI  1   51.776 65.776\n+ SGAI  1   51.979 65.979\n+ LEVI  1   53.068 67.068\n- GMI   1   62.995 72.995\n- SGI   1   66.638 76.638\n- AQI   1   72.860 82.860\n- ACCR  1   77.586 87.586\n- DSRI  1   89.159 99.159\n",
                    "name": "stdout"
                },
                {
                    "output_type": "stream",
                    "text": "Warning message:\n\u201cglm.fit: fitted probabilities numerically 0 or 1 occurred\u201d",
                    "name": "stderr"
                },
                {
                    "output_type": "stream",
                    "text": "Start:  AIC=110.13\nManipulater ~ 1\n\n       Df Deviance    AIC\n+ DSRI  1   99.483 103.48\n+ SGAI  1  104.466 108.47\n+ ACCR  1  104.783 108.78\n+ SGI   1  105.110 109.11\n+ AQI   1  105.550 109.55\n<none>     108.131 110.13\n+ LEVI  1  106.262 110.26\n+ GMI   1  106.934 110.93\n+ DEPI  1  107.520 111.52\n\nStep:  AIC=103.48\nManipulater ~ DSRI\n\n       Df Deviance     AIC\n+ ACCR  1   92.408  98.408\n+ SGI   1   92.599  98.599\n+ AQI   1   96.180 102.180\n+ GMI   1   97.044 103.044\n<none>      99.483 103.483\n+ SGAI  1   98.479 104.479\n+ LEVI  1   98.849 104.849\n+ DEPI  1   99.064 105.064\n- DSRI  1  108.131 110.131\n\nStep:  AIC=98.41\nManipulater ~ DSRI + ACCR\n\n",
                    "name": "stdout"
                },
                {
                    "output_type": "stream",
                    "text": "Warning message:\n\u201cglm.fit: fitted probabilities numerically 0 or 1 occurred\u201d",
                    "name": "stderr"
                },
                {
                    "output_type": "stream",
                    "text": "       Df Deviance     AIC\n+ AQI   1   85.452  93.452\n+ SGI   1   86.182  94.182\n+ GMI   1   89.213  97.213\n<none>      92.408  98.408\n+ LEVI  1   91.184  99.184\n+ DEPI  1   91.657  99.657\n+ SGAI  1   91.920  99.920\n- ACCR  1   99.483 103.483\n- DSRI  1  104.783 108.783\n\nStep:  AIC=93.45\nManipulater ~ DSRI + ACCR + AQI\n\n",
                    "name": "stdout"
                },
                {
                    "output_type": "stream",
                    "text": "Warning message:\n\u201cglm.fit: fitted probabilities numerically 0 or 1 occurred\u201dWarning message:\n\u201cglm.fit: fitted probabilities numerically 0 or 1 occurred\u201dWarning message:\n\u201cglm.fit: fitted probabilities numerically 0 or 1 occurred\u201d",
                    "name": "stderr"
                },
                {
                    "output_type": "stream",
                    "text": "       Df Deviance     AIC\n+ SGI   1   72.226  82.226\n+ GMI   1   79.326  89.326\n<none>      85.452  93.452\n+ DEPI  1   84.658  94.658\n+ LEVI  1   85.234  95.234\n+ SGAI  1   85.417  95.417\n- AQI   1   92.408  98.408\n- ACCR  1   96.180 102.180\n- DSRI  1  100.599 106.599\n",
                    "name": "stdout"
                },
                {
                    "output_type": "stream",
                    "text": "Warning message:\n\u201cglm.fit: fitted probabilities numerically 0 or 1 occurred\u201d",
                    "name": "stderr"
                },
                {
                    "output_type": "stream",
                    "text": "\nStep:  AIC=82.23\nManipulater ~ DSRI + ACCR + AQI + SGI\n\n",
                    "name": "stdout"
                },
                {
                    "output_type": "stream",
                    "text": "Warning message:\n\u201cglm.fit: fitted probabilities numerically 0 or 1 occurred\u201dWarning message:\n\u201cglm.fit: fitted probabilities numerically 0 or 1 occurred\u201dWarning message:\n\u201cglm.fit: fitted probabilities numerically 0 or 1 occurred\u201dWarning message:\n\u201cglm.fit: fitted probabilities numerically 0 or 1 occurred\u201dWarning message:\n\u201cglm.fit: fitted probabilities numerically 0 or 1 occurred\u201dWarning message:\n\u201cglm.fit: fitted probabilities numerically 0 or 1 occurred\u201dWarning message:\n\u201cglm.fit: fitted probabilities numerically 0 or 1 occurred\u201d",
                    "name": "stderr"
                },
                {
                    "output_type": "stream",
                    "text": "       Df Deviance     AIC\n+ GMI   1   69.081  81.081\n<none>      72.226  82.226\n+ LEVI  1   71.444  83.444\n+ DEPI  1   71.876  83.876\n+ SGAI  1   72.140  84.140\n- ACCR  1   84.651  92.651\n- SGI   1   85.452  93.452\n- AQI   1   86.182  94.182\n- DSRI  1   96.948 104.948\n",
                    "name": "stdout"
                },
                {
                    "output_type": "stream",
                    "text": "Warning message:\n\u201cglm.fit: fitted probabilities numerically 0 or 1 occurred\u201d",
                    "name": "stderr"
                },
                {
                    "output_type": "stream",
                    "text": "\nStep:  AIC=81.08\nManipulater ~ DSRI + ACCR + AQI + SGI + GMI\n\n",
                    "name": "stdout"
                },
                {
                    "output_type": "stream",
                    "text": "Warning message:\n\u201cglm.fit: fitted probabilities numerically 0 or 1 occurred\u201dWarning message:\n\u201cglm.fit: fitted probabilities numerically 0 or 1 occurred\u201dWarning message:\n\u201cglm.fit: fitted probabilities numerically 0 or 1 occurred\u201dWarning message:\n\u201cglm.fit: fitted probabilities numerically 0 or 1 occurred\u201dWarning message:\n\u201cglm.fit: fitted probabilities numerically 0 or 1 occurred\u201dWarning message:\n\u201cglm.fit: fitted probabilities numerically 0 or 1 occurred\u201dWarning message:\n\u201cglm.fit: fitted probabilities numerically 0 or 1 occurred\u201dWarning message:\n\u201cglm.fit: fitted probabilities numerically 0 or 1 occurred\u201d",
                    "name": "stderr"
                },
                {
                    "output_type": "stream",
                    "text": "       Df Deviance     AIC\n<none>      69.081  81.081\n- GMI   1   72.226  82.226\n+ LEVI  1   68.570  82.570\n+ DEPI  1   68.927  82.927\n+ SGAI  1   69.022  83.022\n- SGI   1   79.326  89.326\n- ACCR  1   83.176  93.176\n- AQI   1   84.267  94.267\n- DSRI  1   95.875 105.875\n",
                    "name": "stdout"
                },
                {
                    "output_type": "stream",
                    "text": "Warning message:\n\u201cglm.fit: fitted probabilities numerically 0 or 1 occurred\u201d",
                    "name": "stderr"
                },
                {
                    "output_type": "stream",
                    "text": "Start:  AIC=110.13\nManipulater ~ 1\n\n       Df Deviance    AIC\n+ DSRI  1   99.428 103.43\n+ ACCR  1  100.377 104.38\n+ SGAI  1  103.852 107.85\n+ DEPI  1  105.126 109.13\n+ SGI   1  105.658 109.66\n+ AQI   1  105.990 109.99\n<none>     108.131 110.13\n+ GMI   1  106.921 110.92\n+ LEVI  1  107.046 111.05\n\nStep:  AIC=103.43\nManipulater ~ DSRI\n\n       Df Deviance     AIC\n+ ACCR  1   88.825  94.825\n+ SGI   1   93.709  99.709\n+ AQI   1   96.305 102.305\n+ DEPI  1   96.935 102.935\n+ GMI   1   97.015 103.015\n<none>      99.428 103.428\n+ SGAI  1   97.752 103.752\n+ LEVI  1   99.289 105.289\n- DSRI  1  108.131 110.131\n\nStep:  AIC=94.83\nManipulater ~ DSRI + ACCR\n\n       Df Deviance     AIC\n+ AQI   1   81.100  89.100\n+ SGI   1   84.693  92.693\n+ GMI   1   85.666  93.666\n+ DEPI  1   85.925  93.925\n<none>      88.825  94.825\n+ SGAI  1   88.207  96.207\n+ LEVI  1   88.466  96.466\n- ACCR  1   99.428 103.428\n- DSRI  1  100.377 104.377\n\nStep:  AIC=89.1\nManipulater ~ DSRI + ACCR + AQI\n\n",
                    "name": "stdout"
                },
                {
                    "output_type": "stream",
                    "text": "Warning message:\n\u201cglm.fit: fitted probabilities numerically 0 or 1 occurred\u201dWarning message:\n\u201cglm.fit: fitted probabilities numerically 0 or 1 occurred\u201d",
                    "name": "stderr"
                },
                {
                    "output_type": "stream",
                    "text": "       Df Deviance     AIC\n+ SGI   1   73.847  83.847\n+ GMI   1   75.055  85.055\n+ DEPI  1   78.963  88.963\n<none>      81.100  89.100\n+ SGAI  1   81.023  91.023\n+ LEVI  1   81.100  91.100\n- AQI   1   88.825  94.825\n- DSRI  1   95.585 101.585\n- ACCR  1   96.305 102.305\n",
                    "name": "stdout"
                },
                {
                    "output_type": "stream",
                    "text": "Warning message:\n\u201cglm.fit: fitted probabilities numerically 0 or 1 occurred\u201d",
                    "name": "stderr"
                },
                {
                    "output_type": "stream",
                    "text": "\nStep:  AIC=83.85\nManipulater ~ DSRI + ACCR + AQI + SGI\n\n",
                    "name": "stdout"
                },
                {
                    "output_type": "stream",
                    "text": "Warning message:\n\u201cglm.fit: fitted probabilities numerically 0 or 1 occurred\u201dWarning message:\n\u201cglm.fit: fitted probabilities numerically 0 or 1 occurred\u201dWarning message:\n\u201cglm.fit: fitted probabilities numerically 0 or 1 occurred\u201dWarning message:\n\u201cglm.fit: fitted probabilities numerically 0 or 1 occurred\u201dWarning message:\n\u201cglm.fit: fitted probabilities numerically 0 or 1 occurred\u201dWarning message:\n\u201cglm.fit: fitted probabilities numerically 0 or 1 occurred\u201d",
                    "name": "stderr"
                },
                {
                    "output_type": "stream",
                    "text": "       Df Deviance     AIC\n+ GMI   1   67.536  79.536\n<none>      73.847  83.847\n+ LEVI  1   72.593  84.593\n+ DEPI  1   73.622  85.622\n+ SGAI  1   73.838  85.838\n- SGI   1   81.100  89.100\n- AQI   1   84.693  92.693\n- ACCR  1   87.993  95.993\n- DSRI  1   93.273 101.273\n",
                    "name": "stdout"
                },
                {
                    "output_type": "stream",
                    "text": "Warning message:\n\u201cglm.fit: fitted probabilities numerically 0 or 1 occurred\u201d",
                    "name": "stderr"
                },
                {
                    "output_type": "stream",
                    "text": "\nStep:  AIC=79.54\nManipulater ~ DSRI + ACCR + AQI + SGI + GMI\n\n",
                    "name": "stdout"
                },
                {
                    "output_type": "stream",
                    "text": "Warning message:\n\u201cglm.fit: fitted probabilities numerically 0 or 1 occurred\u201dWarning message:\n\u201cglm.fit: fitted probabilities numerically 0 or 1 occurred\u201dWarning message:\n\u201cglm.fit: fitted probabilities numerically 0 or 1 occurred\u201dWarning message:\n\u201cglm.fit: fitted probabilities numerically 0 or 1 occurred\u201dWarning message:\n\u201cglm.fit: fitted probabilities numerically 0 or 1 occurred\u201dWarning message:\n\u201cglm.fit: fitted probabilities numerically 0 or 1 occurred\u201dWarning message:\n\u201cglm.fit: fitted probabilities numerically 0 or 1 occurred\u201d",
                    "name": "stderr"
                },
                {
                    "output_type": "stream",
                    "text": "       Df Deviance     AIC\n<none>      67.536  79.536\n+ LEVI  1   66.530  80.530\n+ DEPI  1   67.508  81.508\n+ SGAI  1   67.536  81.536\n- GMI   1   73.847  83.847\n- SGI   1   75.055  85.055\n- AQI   1   82.018  92.018\n- ACCR  1   85.108  95.108\n- DSRI  1   91.810 101.810\n",
                    "name": "stdout"
                },
                {
                    "output_type": "stream",
                    "text": "Warning message:\n\u201cglm.fit: fitted probabilities numerically 0 or 1 occurred\u201d",
                    "name": "stderr"
                },
                {
                    "output_type": "stream",
                    "text": "Start:  AIC=110.13\nManipulater ~ 1\n\n",
                    "name": "stdout"
                },
                {
                    "output_type": "stream",
                    "text": "Warning message:\n\u201cglm.fit: fitted probabilities numerically 0 or 1 occurred\u201d",
                    "name": "stderr"
                },
                {
                    "output_type": "stream",
                    "text": "       Df Deviance    AIC\n+ DSRI  1   99.977 103.98\n+ SGAI  1  102.012 106.01\n+ GMI   1  103.375 107.38\n+ ACCR  1  103.648 107.65\n+ SGI   1  104.897 108.90\n+ AQI   1  105.140 109.14\n+ DEPI  1  105.406 109.41\n<none>     108.131 110.13\n+ LEVI  1  106.693 110.69\n\nStep:  AIC=103.98\nManipulater ~ DSRI\n\n",
                    "name": "stdout"
                },
                {
                    "output_type": "stream",
                    "text": "Warning message:\n\u201cglm.fit: fitted probabilities numerically 0 or 1 occurred\u201dWarning message:\n\u201cglm.fit: fitted probabilities numerically 0 or 1 occurred\u201d",
                    "name": "stderr"
                },
                {
                    "output_type": "stream",
                    "text": "       Df Deviance     AIC\n+ ACCR  1   91.682  97.682\n+ SGI   1   91.683  97.683\n+ GMI   1   93.891  99.891\n+ AQI   1   95.945 101.945\n+ SGAI  1   97.020 103.020\n+ DEPI  1   97.359 103.359\n<none>      99.977 103.977\n+ LEVI  1   99.618 105.618\n- DSRI  1  108.131 110.131\n\nStep:  AIC=97.68\nManipulater ~ DSRI + ACCR\n\n",
                    "name": "stdout"
                },
                {
                    "output_type": "stream",
                    "text": "Warning message:\n\u201cglm.fit: fitted probabilities numerically 0 or 1 occurred\u201dWarning message:\n\u201cglm.fit: fitted probabilities numerically 0 or 1 occurred\u201d",
                    "name": "stderr"
                },
                {
                    "output_type": "stream",
                    "text": "       Df Deviance     AIC\n+ AQI   1   82.335  90.335\n+ GMI   1   83.296  91.296\n+ SGI   1   83.682  91.682\n+ DEPI  1   88.357  96.357\n<none>      91.682  97.682\n+ SGAI  1   90.434  98.434\n+ LEVI  1   90.885  98.885\n- ACCR  1   99.977 103.977\n- DSRI  1  103.648 107.648\n\nStep:  AIC=90.34\nManipulater ~ DSRI + ACCR + AQI\n\n",
                    "name": "stdout"
                },
                {
                    "output_type": "stream",
                    "text": "Warning message:\n\u201cglm.fit: fitted probabilities numerically 0 or 1 occurred\u201dWarning message:\n\u201cglm.fit: fitted probabilities numerically 0 or 1 occurred\u201dWarning message:\n\u201cglm.fit: fitted probabilities numerically 0 or 1 occurred\u201d",
                    "name": "stderr"
                },
                {
                    "output_type": "stream",
                    "text": "       Df Deviance     AIC\n+ SGI   1   63.498  73.498\n+ GMI   1   66.275  76.275\n+ DEPI  1   79.740  89.740\n<none>      82.335  90.335\n+ SGAI  1   82.218  92.218\n+ LEVI  1   82.299  92.299\n- AQI   1   91.682  97.682\n- ACCR  1   95.945 101.945\n- DSRI  1   98.132 104.132\n",
                    "name": "stdout"
                },
                {
                    "output_type": "stream",
                    "text": "Warning message:\n\u201cglm.fit: fitted probabilities numerically 0 or 1 occurred\u201d",
                    "name": "stderr"
                },
                {
                    "output_type": "stream",
                    "text": "\nStep:  AIC=73.5\nManipulater ~ DSRI + ACCR + AQI + SGI\n\n",
                    "name": "stdout"
                },
                {
                    "output_type": "stream",
                    "text": "Warning message:\n\u201cglm.fit: fitted probabilities numerically 0 or 1 occurred\u201dWarning message:\n\u201cglm.fit: fitted probabilities numerically 0 or 1 occurred\u201dWarning message:\n\u201cglm.fit: fitted probabilities numerically 0 or 1 occurred\u201dWarning message:\n\u201cglm.fit: fitted probabilities numerically 0 or 1 occurred\u201dWarning message:\n\u201cglm.fit: fitted probabilities numerically 0 or 1 occurred\u201dWarning message:\n\u201cglm.fit: fitted probabilities numerically 0 or 1 occurred\u201dWarning message:\n\u201cglm.fit: fitted probabilities numerically 0 or 1 occurred\u201d",
                    "name": "stderr"
                },
                {
                    "output_type": "stream",
                    "text": "       Df Deviance     AIC\n+ GMI   1   44.340  56.340\n<none>      63.498  73.498\n+ LEVI  1   61.665  73.665\n+ SGAI  1   63.108  75.108\n+ DEPI  1   63.396  75.396\n- ACCR  1   81.536  89.536\n- SGI   1   82.335  90.335\n- AQI   1   83.682  91.682\n- DSRI  1   94.188 102.188\n",
                    "name": "stdout"
                },
                {
                    "output_type": "stream",
                    "text": "Warning message:\n\u201cglm.fit: fitted probabilities numerically 0 or 1 occurred\u201d",
                    "name": "stderr"
                },
                {
                    "output_type": "stream",
                    "text": "\nStep:  AIC=56.34\nManipulater ~ DSRI + ACCR + AQI + SGI + GMI\n\n",
                    "name": "stdout"
                },
                {
                    "output_type": "stream",
                    "text": "Warning message:\n\u201cglm.fit: fitted probabilities numerically 0 or 1 occurred\u201dWarning message:\n\u201cglm.fit: fitted probabilities numerically 0 or 1 occurred\u201dWarning message:\n\u201cglm.fit: fitted probabilities numerically 0 or 1 occurred\u201dWarning message:\n\u201cglm.fit: fitted probabilities numerically 0 or 1 occurred\u201dWarning message:\n\u201cglm.fit: fitted probabilities numerically 0 or 1 occurred\u201dWarning message:\n\u201cglm.fit: fitted probabilities numerically 0 or 1 occurred\u201dWarning message:\n\u201cglm.fit: fitted probabilities numerically 0 or 1 occurred\u201dWarning message:\n\u201cglm.fit: fitted probabilities numerically 0 or 1 occurred\u201dWarning message:\n\u201cglm.fit: fitted probabilities numerically 0 or 1 occurred\u201d",
                    "name": "stderr"
                },
                {
                    "output_type": "stream",
                    "text": "       Df Deviance    AIC\n<none>      44.340 56.340\n+ LEVI  1   43.839 57.839\n+ DEPI  1   44.002 58.002\n+ SGAI  1   44.213 58.213\n- GMI   1   63.498 73.498\n- SGI   1   66.275 76.275\n- ACCR  1   72.210 82.210\n- AQI   1   76.765 86.765\n- DSRI  1   88.532 98.532\n",
                    "name": "stdout"
                },
                {
                    "output_type": "stream",
                    "text": "Warning message:\n\u201cglm.fit: fitted probabilities numerically 0 or 1 occurred\u201d",
                    "name": "stderr"
                },
                {
                    "output_type": "stream",
                    "text": "Start:  AIC=110.13\nManipulater ~ 1\n\n",
                    "name": "stdout"
                },
                {
                    "output_type": "stream",
                    "text": "Warning message:\n\u201cglm.fit: fitted probabilities numerically 0 or 1 occurred\u201d",
                    "name": "stderr"
                },
                {
                    "output_type": "stream",
                    "text": "       Df Deviance     AIC\n+ DSRI  1   94.053  98.053\n+ AQI   1  101.797 105.797\n+ ACCR  1  103.718 107.718\n+ SGAI  1  104.081 108.081\n+ SGI   1  104.672 108.672\n<none>     108.131 110.131\n+ LEVI  1  106.262 110.262\n+ GMI   1  106.924 110.924\n+ DEPI  1  108.116 112.116\n",
                    "name": "stdout"
                },
                {
                    "output_type": "stream",
                    "text": "Warning message:\n\u201cglm.fit: fitted probabilities numerically 0 or 1 occurred\u201d",
                    "name": "stderr"
                },
                {
                    "output_type": "stream",
                    "text": "\nStep:  AIC=98.05\nManipulater ~ DSRI\n\n",
                    "name": "stdout"
                },
                {
                    "output_type": "stream",
                    "text": "Warning message:\n\u201cglm.fit: fitted probabilities numerically 0 or 1 occurred\u201dWarning message:\n\u201cglm.fit: fitted probabilities numerically 0 or 1 occurred\u201dWarning message:\n\u201cglm.fit: fitted probabilities numerically 0 or 1 occurred\u201dWarning message:\n\u201cglm.fit: fitted probabilities numerically 0 or 1 occurred\u201dWarning message:\n\u201cglm.fit: fitted probabilities numerically 0 or 1 occurred\u201dWarning message:\n\u201cglm.fit: fitted probabilities numerically 0 or 1 occurred\u201dWarning message:\n\u201cglm.fit: fitted probabilities numerically 0 or 1 occurred\u201dWarning message:\n\u201cglm.fit: fitted probabilities numerically 0 or 1 occurred\u201d",
                    "name": "stderr"
                },
                {
                    "output_type": "stream",
                    "text": "       Df Deviance     AIC\n+ SGI   1   83.774  89.774\n+ ACCR  1   84.876  90.876\n+ AQI   1   86.902  92.902\n+ GMI   1   89.874  95.874\n<none>      94.053  98.053\n+ SGAI  1   92.894  98.894\n+ LEVI  1   93.380  99.380\n+ DEPI  1   94.040 100.040\n- DSRI  1  108.131 110.131\n",
                    "name": "stdout"
                },
                {
                    "output_type": "stream",
                    "text": "Warning message:\n\u201cglm.fit: fitted probabilities numerically 0 or 1 occurred\u201d",
                    "name": "stderr"
                },
                {
                    "output_type": "stream",
                    "text": "\nStep:  AIC=89.77\nManipulater ~ DSRI + SGI\n\n",
                    "name": "stdout"
                },
                {
                    "output_type": "stream",
                    "text": "Warning message:\n\u201cglm.fit: fitted probabilities numerically 0 or 1 occurred\u201dWarning message:\n\u201cglm.fit: fitted probabilities numerically 0 or 1 occurred\u201dWarning message:\n\u201cglm.fit: fitted probabilities numerically 0 or 1 occurred\u201dWarning message:\n\u201cglm.fit: fitted probabilities numerically 0 or 1 occurred\u201dWarning message:\n\u201cglm.fit: fitted probabilities numerically 0 or 1 occurred\u201dWarning message:\n\u201cglm.fit: fitted probabilities numerically 0 or 1 occurred\u201dWarning message:\n\u201cglm.fit: fitted probabilities numerically 0 or 1 occurred\u201dWarning message:\n\u201cglm.fit: fitted probabilities numerically 0 or 1 occurred\u201d",
                    "name": "stderr"
                },
                {
                    "output_type": "stream",
                    "text": "       Df Deviance     AIC\n+ AQI   1   68.730  76.730\n+ ACCR  1   76.167  84.167\n+ GMI   1   81.009  89.009\n<none>      83.774  89.774\n+ DEPI  1   82.605  90.605\n+ SGAI  1   83.269  91.269\n+ LEVI  1   83.770  91.770\n- SGI   1   94.053  98.053\n- DSRI  1  104.672 108.672\n",
                    "name": "stdout"
                },
                {
                    "output_type": "stream",
                    "text": "Warning message:\n\u201cglm.fit: fitted probabilities numerically 0 or 1 occurred\u201d",
                    "name": "stderr"
                },
                {
                    "output_type": "stream",
                    "text": "\nStep:  AIC=76.73\nManipulater ~ DSRI + SGI + AQI\n\n",
                    "name": "stdout"
                },
                {
                    "output_type": "stream",
                    "text": "Warning message:\n\u201cglm.fit: fitted probabilities numerically 0 or 1 occurred\u201dWarning message:\n\u201cglm.fit: fitted probabilities numerically 0 or 1 occurred\u201dWarning message:\n\u201cglm.fit: fitted probabilities numerically 0 or 1 occurred\u201dWarning message:\n\u201cglm.fit: fitted probabilities numerically 0 or 1 occurred\u201dWarning message:\n\u201cglm.fit: fitted probabilities numerically 0 or 1 occurred\u201dWarning message:\n\u201cglm.fit: fitted probabilities numerically 0 or 1 occurred\u201dWarning message:\n\u201cglm.fit: fitted probabilities numerically 0 or 1 occurred\u201dWarning message:\n\u201cglm.fit: fitted probabilities numerically 0 or 1 occurred\u201d",
                    "name": "stderr"
                },
                {
                    "output_type": "stream",
                    "text": "       Df Deviance     AIC\n+ ACCR  1   51.292  61.292\n+ DEPI  1   58.796  68.796\n+ GMI   1   64.619  74.619\n+ LEVI  1   65.241  75.241\n<none>      68.730  76.730\n+ SGAI  1   68.708  78.708\n- AQI   1   83.774  89.774\n- SGI   1   86.902  92.902\n- DSRI  1   96.998 102.998\n",
                    "name": "stdout"
                },
                {
                    "output_type": "stream",
                    "text": "Warning message:\n\u201cglm.fit: fitted probabilities numerically 0 or 1 occurred\u201d",
                    "name": "stderr"
                },
                {
                    "output_type": "stream",
                    "text": "\nStep:  AIC=61.29\nManipulater ~ DSRI + SGI + AQI + ACCR\n\n",
                    "name": "stdout"
                },
                {
                    "output_type": "stream",
                    "text": "Warning message:\n\u201cglm.fit: fitted probabilities numerically 0 or 1 occurred\u201dWarning message:\n\u201cglm.fit: fitted probabilities numerically 0 or 1 occurred\u201dWarning message:\n\u201cglm.fit: fitted probabilities numerically 0 or 1 occurred\u201dWarning message:\n\u201cglm.fit: fitted probabilities numerically 0 or 1 occurred\u201dWarning message:\n\u201cglm.fit: fitted probabilities numerically 0 or 1 occurred\u201dWarning message:\n\u201cglm.fit: fitted probabilities numerically 0 or 1 occurred\u201dWarning message:\n\u201cglm.fit: fitted probabilities numerically 0 or 1 occurred\u201dWarning message:\n\u201cglm.fit: fitted probabilities numerically 0 or 1 occurred\u201d",
                    "name": "stderr"
                },
                {
                    "output_type": "stream",
                    "text": "       Df Deviance    AIC\n+ GMI   1   44.169 56.169\n+ DEPI  1   46.468 58.468\n<none>      51.292 61.292\n+ LEVI  1   49.403 61.403\n+ SGAI  1   49.909 61.909\n- ACCR  1   68.730 76.730\n- SGI   1   71.550 79.550\n- AQI   1   76.167 84.167\n- DSRI  1   90.887 98.887\n",
                    "name": "stdout"
                },
                {
                    "output_type": "stream",
                    "text": "Warning message:\n\u201cglm.fit: fitted probabilities numerically 0 or 1 occurred\u201d",
                    "name": "stderr"
                },
                {
                    "output_type": "stream",
                    "text": "\nStep:  AIC=56.17\nManipulater ~ DSRI + SGI + AQI + ACCR + GMI\n\n",
                    "name": "stdout"
                },
                {
                    "output_type": "stream",
                    "text": "Warning message:\n\u201cglm.fit: fitted probabilities numerically 0 or 1 occurred\u201dWarning message:\n\u201cglm.fit: fitted probabilities numerically 0 or 1 occurred\u201dWarning message:\n\u201cglm.fit: fitted probabilities numerically 0 or 1 occurred\u201dWarning message:\n\u201cglm.fit: fitted probabilities numerically 0 or 1 occurred\u201dWarning message:\n\u201cglm.fit: fitted probabilities numerically 0 or 1 occurred\u201dWarning message:\n\u201cglm.fit: fitted probabilities numerically 0 or 1 occurred\u201dWarning message:\n\u201cglm.fit: fitted probabilities numerically 0 or 1 occurred\u201dWarning message:\n\u201cglm.fit: fitted probabilities numerically 0 or 1 occurred\u201d",
                    "name": "stderr"
                },
                {
                    "output_type": "stream",
                    "text": "       Df Deviance    AIC\n+ DEPI  1   41.525 55.525\n<none>      44.169 56.169\n+ LEVI  1   42.435 56.435\n+ SGAI  1   44.011 58.011\n- GMI   1   51.292 61.292\n- SGI   1   61.861 71.861\n- ACCR  1   64.619 74.619\n- AQI   1   73.183 83.183\n- DSRI  1   89.834 99.834\n",
                    "name": "stdout"
                },
                {
                    "output_type": "stream",
                    "text": "Warning message:\n\u201cglm.fit: fitted probabilities numerically 0 or 1 occurred\u201d",
                    "name": "stderr"
                },
                {
                    "output_type": "stream",
                    "text": "\nStep:  AIC=55.52\nManipulater ~ DSRI + SGI + AQI + ACCR + GMI + DEPI\n\n",
                    "name": "stdout"
                },
                {
                    "output_type": "stream",
                    "text": "Warning message:\n\u201cglm.fit: fitted probabilities numerically 0 or 1 occurred\u201dWarning message:\n\u201cglm.fit: fitted probabilities numerically 0 or 1 occurred\u201dWarning message:\n\u201cglm.fit: fitted probabilities numerically 0 or 1 occurred\u201dWarning message:\n\u201cglm.fit: fitted probabilities numerically 0 or 1 occurred\u201dWarning message:\n\u201cglm.fit: fitted probabilities numerically 0 or 1 occurred\u201dWarning message:\n\u201cglm.fit: fitted probabilities numerically 0 or 1 occurred\u201dWarning message:\n\u201cglm.fit: fitted probabilities numerically 0 or 1 occurred\u201dWarning message:\n\u201cglm.fit: fitted probabilities numerically 0 or 1 occurred\u201d",
                    "name": "stderr"
                },
                {
                    "output_type": "stream",
                    "text": "       Df Deviance     AIC\n+ LEVI  1   37.423  53.423\n<none>      41.525  55.525\n- DEPI  1   44.169  56.169\n+ SGAI  1   41.418  57.418\n- GMI   1   46.468  58.468\n- ACCR  1   56.598  68.598\n- SGI   1   61.345  73.345\n- AQI   1   73.176  85.176\n- DSRI  1   89.780 101.780\n",
                    "name": "stdout"
                },
                {
                    "output_type": "stream",
                    "text": "Warning message:\n\u201cglm.fit: fitted probabilities numerically 0 or 1 occurred\u201d",
                    "name": "stderr"
                },
                {
                    "output_type": "stream",
                    "text": "\nStep:  AIC=53.42\nManipulater ~ DSRI + SGI + AQI + ACCR + GMI + DEPI + LEVI\n\n",
                    "name": "stdout"
                },
                {
                    "output_type": "stream",
                    "text": "Warning message:\n\u201cglm.fit: fitted probabilities numerically 0 or 1 occurred\u201dWarning message:\n\u201cglm.fit: fitted probabilities numerically 0 or 1 occurred\u201dWarning message:\n\u201cglm.fit: fitted probabilities numerically 0 or 1 occurred\u201dWarning message:\n\u201cglm.fit: fitted probabilities numerically 0 or 1 occurred\u201dWarning message:\n\u201cglm.fit: fitted probabilities numerically 0 or 1 occurred\u201dWarning message:\n\u201cglm.fit: fitted probabilities numerically 0 or 1 occurred\u201dWarning message:\n\u201cglm.fit: fitted probabilities numerically 0 or 1 occurred\u201dWarning message:\n\u201cglm.fit: fitted probabilities numerically 0 or 1 occurred\u201d",
                    "name": "stderr"
                },
                {
                    "output_type": "stream",
                    "text": "       Df Deviance     AIC\n<none>       37.42   53.42\n+ SGAI  1    36.92   54.92\n- LEVI  1    41.52   55.52\n- DEPI  1    42.43   56.43\n- GMI   1    43.36   57.36\n- ACCR  1    50.18   64.18\n- SGI   1    61.20   75.20\n- DSRI  1    88.22  102.22\n- AQI   1  1369.66 1383.66\n",
                    "name": "stdout"
                },
                {
                    "output_type": "stream",
                    "text": "Warning message:\n\u201cglm.fit: fitted probabilities numerically 0 or 1 occurred\u201d",
                    "name": "stderr"
                },
                {
                    "output_type": "stream",
                    "text": "Start:  AIC=110.13\nManipulater ~ 1\n\n       Df Deviance    AIC\n+ DSRI  1   101.12 105.12\n+ SGAI  1   102.27 106.27\n+ AQI   1   103.38 107.38\n+ ACCR  1   103.48 107.48\n+ SGI   1   104.51 108.51\n+ DEPI  1   105.90 109.90\n<none>      108.13 110.13\n+ GMI   1   106.35 110.35\n+ LEVI  1   107.35 111.35\n\nStep:  AIC=105.12\nManipulater ~ DSRI\n\n",
                    "name": "stdout"
                },
                {
                    "output_type": "stream",
                    "text": "Warning message:\n\u201cglm.fit: fitted probabilities numerically 0 or 1 occurred\u201d",
                    "name": "stderr"
                },
                {
                    "output_type": "stream",
                    "text": "       Df Deviance     AIC\n+ ACCR  1   92.936  98.936\n+ SGI   1   92.949  98.949\n+ AQI   1   95.466 101.466\n+ GMI   1   97.650 103.650\n+ SGAI  1   97.897 103.897\n<none>     101.118 105.118\n+ DEPI  1   99.546 105.546\n+ LEVI  1  101.072 107.072\n- DSRI  1  108.131 110.131\n\nStep:  AIC=98.94\nManipulater ~ DSRI + ACCR\n\n       Df Deviance     AIC\n+ AQI   1   81.539  89.539\n+ SGI   1   86.217  94.217\n+ GMI   1   88.204  96.204\n+ SGAI  1   90.581  98.581\n+ DEPI  1   90.775  98.775\n<none>      92.936  98.936\n+ LEVI  1   92.779 100.779\n- ACCR  1  101.118 105.118\n- DSRI  1  103.482 107.482\n\nStep:  AIC=89.54\nManipulater ~ DSRI + ACCR + AQI\n\n",
                    "name": "stdout"
                },
                {
                    "output_type": "stream",
                    "text": "Warning message:\n\u201cglm.fit: fitted probabilities numerically 0 or 1 occurred\u201dWarning message:\n\u201cglm.fit: fitted probabilities numerically 0 or 1 occurred\u201d",
                    "name": "stderr"
                },
                {
                    "output_type": "stream",
                    "text": "       Df Deviance     AIC\n+ SGI   1   65.339  75.339\n+ GMI   1   72.878  82.878\n<none>      81.539  89.539\n+ DEPI  1   79.660  89.660\n+ SGAI  1   80.756  90.756\n+ LEVI  1   81.491  91.491\n- AQI   1   92.936  98.936\n- ACCR  1   95.466 101.466\n- DSRI  1   95.779 101.779\n",
                    "name": "stdout"
                },
                {
                    "output_type": "stream",
                    "text": "Warning message:\n\u201cglm.fit: fitted probabilities numerically 0 or 1 occurred\u201d",
                    "name": "stderr"
                },
                {
                    "output_type": "stream",
                    "text": "\nStep:  AIC=75.34\nManipulater ~ DSRI + ACCR + AQI + SGI\n\n",
                    "name": "stdout"
                },
                {
                    "output_type": "stream",
                    "text": "Warning message:\n\u201cglm.fit: fitted probabilities numerically 0 or 1 occurred\u201dWarning message:\n\u201cglm.fit: fitted probabilities numerically 0 or 1 occurred\u201dWarning message:\n\u201cglm.fit: fitted probabilities numerically 0 or 1 occurred\u201dWarning message:\n\u201cglm.fit: fitted probabilities numerically 0 or 1 occurred\u201dWarning message:\n\u201cglm.fit: fitted probabilities numerically 0 or 1 occurred\u201dWarning message:\n\u201cglm.fit: fitted probabilities numerically 0 or 1 occurred\u201d",
                    "name": "stderr"
                },
                {
                    "output_type": "stream",
                    "text": "       Df Deviance    AIC\n+ LEVI  1   60.188 72.188\n+ GMI   1   60.388 72.388\n<none>      65.339 75.339\n+ SGAI  1   64.743 76.743\n+ DEPI  1   65.317 77.317\n- ACCR  1   80.258 88.258\n- SGI   1   81.539 89.539\n- AQI   1   86.217 94.217\n- DSRI  1   91.392 99.392\n",
                    "name": "stdout"
                },
                {
                    "output_type": "stream",
                    "text": "Warning message:\n\u201cglm.fit: fitted probabilities numerically 0 or 1 occurred\u201d",
                    "name": "stderr"
                },
                {
                    "output_type": "stream",
                    "text": "\nStep:  AIC=72.19\nManipulater ~ DSRI + ACCR + AQI + SGI + LEVI\n\n",
                    "name": "stdout"
                },
                {
                    "output_type": "stream",
                    "text": "Warning message:\n\u201cglm.fit: fitted probabilities numerically 0 or 1 occurred\u201dWarning message:\n\u201cglm.fit: fitted probabilities numerically 0 or 1 occurred\u201dWarning message:\n\u201cglm.fit: fitted probabilities numerically 0 or 1 occurred\u201dWarning message:\n\u201cglm.fit: fitted probabilities numerically 0 or 1 occurred\u201dWarning message:\n\u201cglm.fit: fitted probabilities numerically 0 or 1 occurred\u201dWarning message:\n\u201cglm.fit: fitted probabilities numerically 0 or 1 occurred\u201d",
                    "name": "stderr"
                },
                {
                    "output_type": "stream",
                    "text": "       Df Deviance     AIC\n+ GMI   1   56.693  70.693\n<none>      60.188  72.188\n+ SGAI  1   59.496  73.496\n+ DEPI  1   60.142  74.142\n- LEVI  1   65.339  75.339\n- ACCR  1   75.231  85.231\n- SGI   1   81.491  91.491\n- AQI   1   86.051  96.051\n- DSRI  1   90.927 100.927\n",
                    "name": "stdout"
                },
                {
                    "output_type": "stream",
                    "text": "Warning message:\n\u201cglm.fit: fitted probabilities numerically 0 or 1 occurred\u201d",
                    "name": "stderr"
                },
                {
                    "output_type": "stream",
                    "text": "\nStep:  AIC=70.69\nManipulater ~ DSRI + ACCR + AQI + SGI + LEVI + GMI\n\n",
                    "name": "stdout"
                },
                {
                    "output_type": "stream",
                    "text": "Warning message:\n\u201cglm.fit: fitted probabilities numerically 0 or 1 occurred\u201dWarning message:\n\u201cglm.fit: fitted probabilities numerically 0 or 1 occurred\u201dWarning message:\n\u201cglm.fit: fitted probabilities numerically 0 or 1 occurred\u201dWarning message:\n\u201cglm.fit: fitted probabilities numerically 0 or 1 occurred\u201dWarning message:\n\u201cglm.fit: fitted probabilities numerically 0 or 1 occurred\u201dWarning message:\n\u201cglm.fit: fitted probabilities numerically 0 or 1 occurred\u201dWarning message:\n\u201cglm.fit: fitted probabilities numerically 0 or 1 occurred\u201d",
                    "name": "stderr"
                },
                {
                    "output_type": "stream",
                    "text": "       Df Deviance     AIC\n<none>      56.693  70.693\n+ SGAI  1   54.759  70.759\n- GMI   1   60.188  72.188\n- LEVI  1   60.388  72.388\n+ DEPI  1   56.416  72.416\n- SGI   1   72.876  84.876\n- ACCR  1   73.367  85.367\n- AQI   1   83.296  95.296\n- DSRI  1   89.329 101.329\n",
                    "name": "stdout"
                },
                {
                    "output_type": "stream",
                    "text": "Warning message:\n\u201cglm.fit: fitted probabilities numerically 0 or 1 occurred\u201d",
                    "name": "stderr"
                },
                {
                    "output_type": "stream",
                    "text": "Start:  AIC=110.13\nManipulater ~ 1\n\n       Df Deviance    AIC\n+ DSRI  1   101.75 105.75\n+ ACCR  1   102.76 106.76\n+ SGI   1   102.83 106.83\n+ AQI   1   104.12 108.12\n+ SGAI  1   104.50 108.50\n+ DEPI  1   105.70 109.70\n<none>      108.13 110.13\n+ GMI   1   106.13 110.13\n+ LEVI  1   106.50 110.50\n\nStep:  AIC=105.74\nManipulater ~ DSRI\n\n       Df Deviance     AIC\n+ SGI   1   90.083  96.083\n+ ACCR  1   93.236  99.236\n+ AQI   1   97.249 103.249\n+ GMI   1   97.931 103.931\n+ DEPI  1   99.657 105.657\n<none>     101.745 105.745\n+ SGAI  1  100.732 106.732\n+ LEVI  1  101.106 107.106\n- DSRI  1  108.131 110.131\n\nStep:  AIC=96.08\nManipulater ~ DSRI + SGI\n\n       Df Deviance     AIC\n+ AQI   1   78.473  86.473\n+ ACCR  1   82.699  90.699\n<none>      90.083  96.083\n+ GMI   1   88.573  96.573\n+ SGAI  1   89.067  97.067\n+ LEVI  1   90.042  98.042\n+ DEPI  1   90.043  98.043\n- SGI   1  101.745 105.745\n- DSRI  1  102.832 106.832\n\nStep:  AIC=86.47\nManipulater ~ DSRI + SGI + AQI\n\n",
                    "name": "stdout"
                },
                {
                    "output_type": "stream",
                    "text": "Warning message:\n\u201cglm.fit: fitted probabilities numerically 0 or 1 occurred\u201dWarning message:\n\u201cglm.fit: fitted probabilities numerically 0 or 1 occurred\u201dWarning message:\n\u201cglm.fit: fitted probabilities numerically 0 or 1 occurred\u201dWarning message:\n\u201cglm.fit: fitted probabilities numerically 0 or 1 occurred\u201d",
                    "name": "stderr"
                },
                {
                    "output_type": "stream",
                    "text": "       Df Deviance     AIC\n+ ACCR  1   64.697  74.697\n+ GMI   1   74.639  84.639\n<none>      78.473  86.473\n+ LEVI  1   77.893  87.893\n+ DEPI  1   78.303  88.303\n+ SGAI  1   78.393  88.393\n- AQI   1   90.083  96.083\n- DSRI  1   96.611 102.611\n- SGI   1   97.249 103.249\n",
                    "name": "stdout"
                },
                {
                    "output_type": "stream",
                    "text": "Warning message:\n\u201cglm.fit: fitted probabilities numerically 0 or 1 occurred\u201d",
                    "name": "stderr"
                },
                {
                    "output_type": "stream",
                    "text": "\nStep:  AIC=74.7\nManipulater ~ DSRI + SGI + AQI + ACCR\n\n",
                    "name": "stdout"
                },
                {
                    "output_type": "stream",
                    "text": "Warning message:\n\u201cglm.fit: fitted probabilities numerically 0 or 1 occurred\u201dWarning message:\n\u201cglm.fit: fitted probabilities numerically 0 or 1 occurred\u201dWarning message:\n\u201cglm.fit: fitted probabilities numerically 0 or 1 occurred\u201dWarning message:\n\u201cglm.fit: fitted probabilities numerically 0 or 1 occurred\u201dWarning message:\n\u201cglm.fit: fitted probabilities numerically 0 or 1 occurred\u201d",
                    "name": "stderr"
                },
                {
                    "output_type": "stream",
                    "text": "       Df Deviance    AIC\n+ GMI   1   52.423 64.423\n<none>      64.697 74.697\n+ LEVI  1   64.327 76.327\n+ SGAI  1   64.398 76.398\n+ DEPI  1   64.676 76.676\n- ACCR  1   78.473 86.473\n- AQI   1   82.699 90.699\n- SGI   1   84.784 92.784\n- DSRI  1   90.148 98.148\n",
                    "name": "stdout"
                },
                {
                    "output_type": "stream",
                    "text": "Warning message:\n\u201cglm.fit: fitted probabilities numerically 0 or 1 occurred\u201d",
                    "name": "stderr"
                },
                {
                    "output_type": "stream",
                    "text": "\nStep:  AIC=64.42\nManipulater ~ DSRI + SGI + AQI + ACCR + GMI\n\n",
                    "name": "stdout"
                },
                {
                    "output_type": "stream",
                    "text": "Warning message:\n\u201cglm.fit: fitted probabilities numerically 0 or 1 occurred\u201dWarning message:\n\u201cglm.fit: fitted probabilities numerically 0 or 1 occurred\u201dWarning message:\n\u201cglm.fit: fitted probabilities numerically 0 or 1 occurred\u201dWarning message:\n\u201cglm.fit: fitted probabilities numerically 0 or 1 occurred\u201dWarning message:\n\u201cglm.fit: fitted probabilities numerically 0 or 1 occurred\u201dWarning message:\n\u201cglm.fit: fitted probabilities numerically 0 or 1 occurred\u201dWarning message:\n\u201cglm.fit: fitted probabilities numerically 0 or 1 occurred\u201dWarning message:\n\u201cglm.fit: fitted probabilities numerically 0 or 1 occurred\u201d",
                    "name": "stderr"
                },
                {
                    "output_type": "stream",
                    "text": "       Df Deviance    AIC\n<none>      52.423 64.423\n+ LEVI  1   52.231 66.231\n+ SGAI  1   52.233 66.233\n+ DEPI  1   52.423 66.423\n- GMI   1   64.697 74.697\n- SGI   1   71.162 81.162\n- ACCR  1   74.639 84.639\n- AQI   1   79.344 89.344\n- DSRI  1   88.153 98.153\n",
                    "name": "stdout"
                },
                {
                    "output_type": "stream",
                    "text": "Warning message:\n\u201cglm.fit: fitted probabilities numerically 0 or 1 occurred\u201d",
                    "name": "stderr"
                },
                {
                    "output_type": "stream",
                    "text": "Start:  AIC=110.13\nManipulater ~ 1\n\n",
                    "name": "stdout"
                },
                {
                    "output_type": "stream",
                    "text": "Warning message:\n\u201cglm.fit: fitted probabilities numerically 0 or 1 occurred\u201dWarning message:\n\u201cglm.fit: fitted probabilities numerically 0 or 1 occurred\u201d",
                    "name": "stderr"
                },
                {
                    "output_type": "stream",
                    "text": "       Df Deviance     AIC\n+ DSRI  1   94.513  98.513\n+ ACCR  1  101.061 105.061\n+ SGAI  1  101.632 105.632\n+ AQI   1  102.037 106.037\n+ SGI   1  104.541 108.541\n<none>     108.131 110.131\n+ GMI   1  106.712 110.712\n+ LEVI  1  106.850 110.850\n+ DEPI  1  108.069 112.069\n",
                    "name": "stdout"
                },
                {
                    "output_type": "stream",
                    "text": "Warning message:\n\u201cglm.fit: fitted probabilities numerically 0 or 1 occurred\u201d",
                    "name": "stderr"
                },
                {
                    "output_type": "stream",
                    "text": "\nStep:  AIC=98.51\nManipulater ~ DSRI\n\n",
                    "name": "stdout"
                },
                {
                    "output_type": "stream",
                    "text": "Warning message:\n\u201cglm.fit: fitted probabilities numerically 0 or 1 occurred\u201dWarning message:\n\u201cglm.fit: fitted probabilities numerically 0 or 1 occurred\u201dWarning message:\n\u201cglm.fit: fitted probabilities numerically 0 or 1 occurred\u201dWarning message:\n\u201cglm.fit: fitted probabilities numerically 0 or 1 occurred\u201dWarning message:\n\u201cglm.fit: fitted probabilities numerically 0 or 1 occurred\u201dWarning message:\n\u201cglm.fit: fitted probabilities numerically 0 or 1 occurred\u201dWarning message:\n\u201cglm.fit: fitted probabilities numerically 0 or 1 occurred\u201dWarning message:\n\u201cglm.fit: fitted probabilities numerically 0 or 1 occurred\u201d",
                    "name": "stderr"
                },
                {
                    "output_type": "stream",
                    "text": "       Df Deviance     AIC\n+ ACCR  1   80.452  86.452\n+ SGI   1   81.762  87.762\n+ AQI   1   87.619  93.619\n+ GMI   1   90.558  96.558\n+ SGAI  1   91.438  97.438\n<none>      94.513  98.513\n+ LEVI  1   94.268 100.268\n+ DEPI  1   94.406 100.406\n- DSRI  1  108.131 110.131\n",
                    "name": "stdout"
                },
                {
                    "output_type": "stream",
                    "text": "Warning message:\n\u201cglm.fit: fitted probabilities numerically 0 or 1 occurred\u201d",
                    "name": "stderr"
                },
                {
                    "output_type": "stream",
                    "text": "\nStep:  AIC=86.45\nManipulater ~ DSRI + ACCR\n\n",
                    "name": "stdout"
                },
                {
                    "output_type": "stream",
                    "text": "Warning message:\n\u201cglm.fit: fitted probabilities numerically 0 or 1 occurred\u201dWarning message:\n\u201cglm.fit: fitted probabilities numerically 0 or 1 occurred\u201dWarning message:\n\u201cglm.fit: fitted probabilities numerically 0 or 1 occurred\u201dWarning message:\n\u201cglm.fit: fitted probabilities numerically 0 or 1 occurred\u201dWarning message:\n\u201cglm.fit: fitted probabilities numerically 0 or 1 occurred\u201dWarning message:\n\u201cglm.fit: fitted probabilities numerically 0 or 1 occurred\u201dWarning message:\n\u201cglm.fit: fitted probabilities numerically 0 or 1 occurred\u201dWarning message:\n\u201cglm.fit: fitted probabilities numerically 0 or 1 occurred\u201d",
                    "name": "stderr"
                },
                {
                    "output_type": "stream",
                    "text": "       Df Deviance     AIC\n+ AQI   1   65.667  73.667\n+ SGI   1   70.894  78.894\n+ GMI   1   75.336  83.336\n<none>      80.452  86.452\n+ SGAI  1   79.152  87.152\n+ DEPI  1   79.658  87.658\n+ LEVI  1   79.993  87.993\n- ACCR  1   94.513  98.513\n- DSRI  1  101.061 105.061\n",
                    "name": "stdout"
                },
                {
                    "output_type": "stream",
                    "text": "Warning message:\n\u201cglm.fit: fitted probabilities numerically 0 or 1 occurred\u201d",
                    "name": "stderr"
                },
                {
                    "output_type": "stream",
                    "text": "\nStep:  AIC=73.67\nManipulater ~ DSRI + ACCR + AQI\n\n",
                    "name": "stdout"
                },
                {
                    "output_type": "stream",
                    "text": "Warning message:\n\u201cglm.fit: fitted probabilities numerically 0 or 1 occurred\u201dWarning message:\n\u201cglm.fit: fitted probabilities numerically 0 or 1 occurred\u201dWarning message:\n\u201cglm.fit: fitted probabilities numerically 0 or 1 occurred\u201dWarning message:\n\u201cglm.fit: fitted probabilities numerically 0 or 1 occurred\u201dWarning message:\n\u201cglm.fit: fitted probabilities numerically 0 or 1 occurred\u201dWarning message:\n\u201cglm.fit: fitted probabilities numerically 0 or 1 occurred\u201dWarning message:\n\u201cglm.fit: fitted probabilities numerically 0 or 1 occurred\u201dWarning message:\n\u201cglm.fit: fitted probabilities numerically 0 or 1 occurred\u201d",
                    "name": "stderr"
                },
                {
                    "output_type": "stream",
                    "text": "       Df Deviance    AIC\n+ SGI   1   42.608 52.608\n+ GMI   1   55.276 65.276\n<none>      65.667 73.667\n+ DEPI  1   64.901 74.901\n+ SGAI  1   65.593 75.593\n+ LEVI  1   65.607 75.607\n- AQI   1   80.452 86.452\n- ACCR  1   87.619 93.619\n- DSRI  1   91.604 97.604\n",
                    "name": "stdout"
                },
                {
                    "output_type": "stream",
                    "text": "Warning message:\n\u201cglm.fit: fitted probabilities numerically 0 or 1 occurred\u201d",
                    "name": "stderr"
                },
                {
                    "output_type": "stream",
                    "text": "\nStep:  AIC=52.61\nManipulater ~ DSRI + ACCR + AQI + SGI\n\n",
                    "name": "stdout"
                },
                {
                    "output_type": "stream",
                    "text": "Warning message:\n\u201cglm.fit: fitted probabilities numerically 0 or 1 occurred\u201dWarning message:\n\u201cglm.fit: fitted probabilities numerically 0 or 1 occurred\u201dWarning message:\n\u201cglm.fit: fitted probabilities numerically 0 or 1 occurred\u201dWarning message:\n\u201cglm.fit: fitted probabilities numerically 0 or 1 occurred\u201dWarning message:\n\u201cglm.fit: fitted probabilities numerically 0 or 1 occurred\u201dWarning message:\n\u201cglm.fit: fitted probabilities numerically 0 or 1 occurred\u201dWarning message:\n\u201cglm.fit: fitted probabilities numerically 0 or 1 occurred\u201dWarning message:\n\u201cglm.fit: fitted probabilities numerically 0 or 1 occurred\u201d",
                    "name": "stderr"
                },
                {
                    "output_type": "stream",
                    "text": "       Df Deviance    AIC\n+ DEPI  1   32.680 44.680\n+ GMI   1   36.002 48.002\n+ LEVI  1   38.810 50.810\n<none>      42.608 52.608\n+ SGAI  1   42.533 54.533\n- ACCR  1   65.108 73.108\n- SGI   1   65.667 73.667\n- AQI   1   70.894 78.894\n- DSRI  1   87.615 95.615\n",
                    "name": "stdout"
                },
                {
                    "output_type": "stream",
                    "text": "Warning message:\n\u201cglm.fit: fitted probabilities numerically 0 or 1 occurred\u201d",
                    "name": "stderr"
                },
                {
                    "output_type": "stream",
                    "text": "\nStep:  AIC=44.68\nManipulater ~ DSRI + ACCR + AQI + SGI + DEPI\n\n",
                    "name": "stdout"
                },
                {
                    "output_type": "stream",
                    "text": "Warning message:\n\u201cglm.fit: fitted probabilities numerically 0 or 1 occurred\u201dWarning message:\n\u201cglm.fit: fitted probabilities numerically 0 or 1 occurred\u201dWarning message:\n\u201cglm.fit: fitted probabilities numerically 0 or 1 occurred\u201dWarning message:\n\u201cglm.fit: fitted probabilities numerically 0 or 1 occurred\u201dWarning message:\n\u201cglm.fit: fitted probabilities numerically 0 or 1 occurred\u201dWarning message:\n\u201cglm.fit: fitted probabilities numerically 0 or 1 occurred\u201dWarning message:\n\u201cglm.fit: fitted probabilities numerically 0 or 1 occurred\u201dWarning message:\n\u201cglm.fit: fitted probabilities numerically 0 or 1 occurred\u201d",
                    "name": "stderr"
                },
                {
                    "output_type": "stream",
                    "text": "       Df Deviance    AIC\n+ LEVI  1   28.713 42.713\n+ GMI   1   29.651 43.651\n<none>      32.680 44.680\n+ SGAI  1   32.158 46.158\n- DEPI  1   42.608 52.608\n- ACCR  1   54.690 64.690\n- SGI   1   64.901 74.901\n- AQI   1   70.686 80.686\n- DSRI  1   87.550 97.550\n",
                    "name": "stdout"
                },
                {
                    "output_type": "stream",
                    "text": "Warning message:\n\u201cglm.fit: fitted probabilities numerically 0 or 1 occurred\u201d",
                    "name": "stderr"
                },
                {
                    "output_type": "stream",
                    "text": "\nStep:  AIC=42.71\nManipulater ~ DSRI + ACCR + AQI + SGI + DEPI + LEVI\n\n",
                    "name": "stdout"
                },
                {
                    "output_type": "stream",
                    "text": "Warning message:\n\u201cglm.fit: fitted probabilities numerically 0 or 1 occurred\u201dWarning message:\n\u201cglm.fit: fitted probabilities numerically 0 or 1 occurred\u201dWarning message:\n\u201cglm.fit: fitted probabilities numerically 0 or 1 occurred\u201dWarning message:\n\u201cglm.fit: fitted probabilities numerically 0 or 1 occurred\u201dWarning message:\n\u201cglm.fit: fitted probabilities numerically 0 or 1 occurred\u201dWarning message:\n\u201cglm.fit: fitted probabilities numerically 0 or 1 occurred\u201dWarning message:\n\u201cglm.fit: fitted probabilities numerically 0 or 1 occurred\u201dWarning message:\n\u201cglm.fit: fitted probabilities numerically 0 or 1 occurred\u201d",
                    "name": "stderr"
                },
                {
                    "output_type": "stream",
                    "text": "       Df Deviance    AIC\n+ GMI   1   24.937 40.937\n<none>      28.713 42.713\n- LEVI  1   32.680 44.680\n+ SGAI  1   28.711 44.711\n- DEPI  1   38.810 50.810\n- ACCR  1   48.760 60.760\n- SGI   1   64.716 76.716\n- AQI   1   70.532 82.532\n- DSRI  1   86.872 98.872\n",
                    "name": "stdout"
                },
                {
                    "output_type": "stream",
                    "text": "Warning message:\n\u201cglm.fit: fitted probabilities numerically 0 or 1 occurred\u201d",
                    "name": "stderr"
                },
                {
                    "output_type": "stream",
                    "text": "\nStep:  AIC=40.94\nManipulater ~ DSRI + ACCR + AQI + SGI + DEPI + LEVI + GMI\n\n",
                    "name": "stdout"
                },
                {
                    "output_type": "stream",
                    "text": "Warning message:\n\u201cglm.fit: fitted probabilities numerically 0 or 1 occurred\u201dWarning message:\n\u201cglm.fit: fitted probabilities numerically 0 or 1 occurred\u201dWarning message:\n\u201cglm.fit: fitted probabilities numerically 0 or 1 occurred\u201dWarning message:\n\u201cglm.fit: fitted probabilities numerically 0 or 1 occurred\u201dWarning message:\n\u201cglm.fit: fitted probabilities numerically 0 or 1 occurred\u201dWarning message:\n\u201cglm.fit: fitted probabilities numerically 0 or 1 occurred\u201dWarning message:\n\u201cglm.fit: fitted probabilities numerically 0 or 1 occurred\u201dWarning message:\n\u201cglm.fit: fitted probabilities numerically 0 or 1 occurred\u201d",
                    "name": "stderr"
                },
                {
                    "output_type": "stream",
                    "text": "       Df Deviance    AIC\n<none>      24.937 40.937\n+ SGAI  1   23.568 41.568\n- GMI   1   28.713 42.713\n- LEVI  1   29.651 43.651\n- DEPI  1   32.476 46.476\n- ACCR  1   47.086 61.086\n- SGI   1   53.722 67.722\n- AQI   1   67.360 81.360\n- DSRI  1   84.739 98.739\n",
                    "name": "stdout"
                },
                {
                    "output_type": "stream",
                    "text": "Warning message:\n\u201cglm.fit: fitted probabilities numerically 0 or 1 occurred\u201d",
                    "name": "stderr"
                },
                {
                    "output_type": "stream",
                    "text": "Start:  AIC=110.13\nManipulater ~ 1\n\n",
                    "name": "stdout"
                },
                {
                    "output_type": "stream",
                    "text": "Warning message:\n\u201cglm.fit: fitted probabilities numerically 0 or 1 occurred\u201d",
                    "name": "stderr"
                },
                {
                    "output_type": "stream",
                    "text": "       Df Deviance     AIC\n+ DSRI  1   95.352  99.352\n+ ACCR  1   99.819 103.819\n+ SGAI  1  103.044 107.044\n+ AQI   1  104.252 108.252\n+ GMI   1  104.881 108.881\n<none>     108.131 110.131\n+ LEVI  1  106.731 110.731\n+ SGI   1  107.159 111.159\n+ DEPI  1  107.243 111.243\n",
                    "name": "stdout"
                },
                {
                    "output_type": "stream",
                    "text": "Warning message:\n\u201cglm.fit: fitted probabilities numerically 0 or 1 occurred\u201d",
                    "name": "stderr"
                },
                {
                    "output_type": "stream",
                    "text": "\nStep:  AIC=99.35\nManipulater ~ DSRI\n\n",
                    "name": "stdout"
                },
                {
                    "output_type": "stream",
                    "text": "Warning message:\n\u201cglm.fit: fitted probabilities numerically 0 or 1 occurred\u201dWarning message:\n\u201cglm.fit: fitted probabilities numerically 0 or 1 occurred\u201dWarning message:\n\u201cglm.fit: fitted probabilities numerically 0 or 1 occurred\u201dWarning message:\n\u201cglm.fit: fitted probabilities numerically 0 or 1 occurred\u201dWarning message:\n\u201cglm.fit: fitted probabilities numerically 0 or 1 occurred\u201dWarning message:\n\u201cglm.fit: fitted probabilities numerically 0 or 1 occurred\u201dWarning message:\n\u201cglm.fit: fitted probabilities numerically 0 or 1 occurred\u201dWarning message:\n\u201cglm.fit: fitted probabilities numerically 0 or 1 occurred\u201d",
                    "name": "stderr"
                },
                {
                    "output_type": "stream",
                    "text": "       Df Deviance     AIC\n+ ACCR  1   79.845  85.845\n+ GMI   1   89.583  95.583\n+ AQI   1   90.009  96.009\n+ SGI   1   91.072  97.072\n+ SGAI  1   92.819  98.819\n<none>      95.352  99.352\n+ DEPI  1   94.645 100.645\n+ LEVI  1   94.835 100.835\n- DSRI  1  108.131 110.131\n",
                    "name": "stdout"
                },
                {
                    "output_type": "stream",
                    "text": "Warning message:\n\u201cglm.fit: fitted probabilities numerically 0 or 1 occurred\u201d",
                    "name": "stderr"
                },
                {
                    "output_type": "stream",
                    "text": "\nStep:  AIC=85.84\nManipulater ~ DSRI + ACCR\n\n",
                    "name": "stdout"
                },
                {
                    "output_type": "stream",
                    "text": "Warning message:\n\u201cglm.fit: fitted probabilities numerically 0 or 1 occurred\u201dWarning message:\n\u201cglm.fit: fitted probabilities numerically 0 or 1 occurred\u201dWarning message:\n\u201cglm.fit: fitted probabilities numerically 0 or 1 occurred\u201dWarning message:\n\u201cglm.fit: fitted probabilities numerically 0 or 1 occurred\u201dWarning message:\n\u201cglm.fit: fitted probabilities numerically 0 or 1 occurred\u201dWarning message:\n\u201cglm.fit: fitted probabilities numerically 0 or 1 occurred\u201dWarning message:\n\u201cglm.fit: fitted probabilities numerically 0 or 1 occurred\u201dWarning message:\n\u201cglm.fit: fitted probabilities numerically 0 or 1 occurred\u201d",
                    "name": "stderr"
                },
                {
                    "output_type": "stream",
                    "text": "       Df Deviance     AIC\n+ AQI   1   66.720  74.720\n+ GMI   1   72.546  80.546\n+ SGI   1   76.063  84.063\n<none>      79.845  85.845\n+ DEPI  1   78.014  86.014\n+ LEVI  1   78.586  86.586\n+ SGAI  1   79.091  87.091\n- ACCR  1   95.352  99.352\n- DSRI  1   99.819 103.819\n",
                    "name": "stdout"
                },
                {
                    "output_type": "stream",
                    "text": "Warning message:\n\u201cglm.fit: fitted probabilities numerically 0 or 1 occurred\u201d",
                    "name": "stderr"
                },
                {
                    "output_type": "stream",
                    "text": "\nStep:  AIC=74.72\nManipulater ~ DSRI + ACCR + AQI\n\n",
                    "name": "stdout"
                },
                {
                    "output_type": "stream",
                    "text": "Warning message:\n\u201cglm.fit: fitted probabilities numerically 0 or 1 occurred\u201dWarning message:\n\u201cglm.fit: fitted probabilities numerically 0 or 1 occurred\u201dWarning message:\n\u201cglm.fit: fitted probabilities numerically 0 or 1 occurred\u201dWarning message:\n\u201cglm.fit: fitted probabilities numerically 0 or 1 occurred\u201dWarning message:\n\u201cglm.fit: fitted probabilities numerically 0 or 1 occurred\u201dWarning message:\n\u201cglm.fit: fitted probabilities numerically 0 or 1 occurred\u201dWarning message:\n\u201cglm.fit: fitted probabilities numerically 0 or 1 occurred\u201dWarning message:\n\u201cglm.fit: fitted probabilities numerically 0 or 1 occurred\u201d",
                    "name": "stderr"
                },
                {
                    "output_type": "stream",
                    "text": "       Df Deviance    AIC\n+ GMI   1   47.926 57.926\n+ SGI   1   60.102 70.102\n<none>      66.720 74.720\n+ DEPI  1   65.715 75.715\n+ LEVI  1   66.700 76.700\n+ SGAI  1   66.703 76.703\n- AQI   1   79.845 85.845\n- ACCR  1   90.009 96.009\n- DSRI  1   93.217 99.217\n",
                    "name": "stdout"
                },
                {
                    "output_type": "stream",
                    "text": "Warning message:\n\u201cglm.fit: fitted probabilities numerically 0 or 1 occurred\u201d",
                    "name": "stderr"
                },
                {
                    "output_type": "stream",
                    "text": "\nStep:  AIC=57.93\nManipulater ~ DSRI + ACCR + AQI + GMI\n\n",
                    "name": "stdout"
                },
                {
                    "output_type": "stream",
                    "text": "Warning message:\n\u201cglm.fit: fitted probabilities numerically 0 or 1 occurred\u201dWarning message:\n\u201cglm.fit: fitted probabilities numerically 0 or 1 occurred\u201dWarning message:\n\u201cglm.fit: fitted probabilities numerically 0 or 1 occurred\u201dWarning message:\n\u201cglm.fit: fitted probabilities numerically 0 or 1 occurred\u201dWarning message:\n\u201cglm.fit: fitted probabilities numerically 0 or 1 occurred\u201dWarning message:\n\u201cglm.fit: fitted probabilities numerically 0 or 1 occurred\u201dWarning message:\n\u201cglm.fit: fitted probabilities numerically 0 or 1 occurred\u201dWarning message:\n\u201cglm.fit: fitted probabilities numerically 0 or 1 occurred\u201dWarning message:\n\u201cglm.fit: fitted probabilities numerically 0 or 1 occurred\u201d",
                    "name": "stderr"
                },
                {
                    "output_type": "stream",
                    "text": "       Df Deviance    AIC\n+ SGI   1   23.411 35.411\n+ DEPI  1   43.682 55.682\n<none>      47.926 57.926\n+ SGAI  1   47.926 59.926\n+ LEVI  1   47.926 59.926\n- GMI   1   66.720 74.720\n- AQI   1   72.546 80.546\n- ACCR  1   80.729 88.729\n- DSRI  1   89.112 97.112\n",
                    "name": "stdout"
                },
                {
                    "output_type": "stream",
                    "text": "Warning message:\n\u201cglm.fit: fitted probabilities numerically 0 or 1 occurred\u201d",
                    "name": "stderr"
                },
                {
                    "output_type": "stream",
                    "text": "\nStep:  AIC=35.41\nManipulater ~ DSRI + ACCR + AQI + GMI + SGI\n\n",
                    "name": "stdout"
                },
                {
                    "output_type": "stream",
                    "text": "Warning message:\n\u201cglm.fit: fitted probabilities numerically 0 or 1 occurred\u201dWarning message:\n\u201cglm.fit: fitted probabilities numerically 0 or 1 occurred\u201dWarning message:\n\u201cglm.fit: fitted probabilities numerically 0 or 1 occurred\u201dWarning message:\n\u201cglm.fit: fitted probabilities numerically 0 or 1 occurred\u201dWarning message:\n\u201cglm.fit: fitted probabilities numerically 0 or 1 occurred\u201dWarning message:\n\u201cglm.fit: fitted probabilities numerically 0 or 1 occurred\u201dWarning message:\n\u201cglm.fit: fitted probabilities numerically 0 or 1 occurred\u201dWarning message:\n\u201cglm.fit: fitted probabilities numerically 0 or 1 occurred\u201dWarning message:\n\u201cglm.fit: fitted probabilities numerically 0 or 1 occurred\u201d",
                    "name": "stderr"
                },
                {
                    "output_type": "stream",
                    "text": "       Df Deviance    AIC\n+ LEVI  1   20.806 34.806\n<none>      23.411 35.411\n+ SGAI  1   23.141 37.141\n+ DEPI  1   23.241 37.241\n- SGI   1   47.926 57.926\n- ACCR  1   58.235 68.235\n- GMI   1   60.102 70.102\n- AQI   1   66.548 76.548\n- DSRI  1   86.109 96.109\n",
                    "name": "stdout"
                },
                {
                    "output_type": "stream",
                    "text": "Warning message:\n\u201cglm.fit: fitted probabilities numerically 0 or 1 occurred\u201d",
                    "name": "stderr"
                },
                {
                    "output_type": "stream",
                    "text": "\nStep:  AIC=34.81\nManipulater ~ DSRI + ACCR + AQI + GMI + SGI + LEVI\n\n",
                    "name": "stdout"
                },
                {
                    "output_type": "stream",
                    "text": "Warning message:\n\u201cglm.fit: fitted probabilities numerically 0 or 1 occurred\u201dWarning message:\n\u201cglm.fit: fitted probabilities numerically 0 or 1 occurred\u201dWarning message:\n\u201cglm.fit: fitted probabilities numerically 0 or 1 occurred\u201dWarning message:\n\u201cglm.fit: fitted probabilities numerically 0 or 1 occurred\u201dWarning message:\n\u201cglm.fit: fitted probabilities numerically 0 or 1 occurred\u201dWarning message:\n\u201cglm.fit: fitted probabilities numerically 0 or 1 occurred\u201dWarning message:\n\u201cglm.fit: fitted probabilities numerically 0 or 1 occurred\u201dWarning message:\n\u201cglm.fit: fitted probabilities numerically 0 or 1 occurred\u201dWarning message:\n\u201cglm.fit: fitted probabilities numerically 0 or 1 occurred\u201d",
                    "name": "stderr"
                },
                {
                    "output_type": "stream",
                    "text": "       Df Deviance    AIC\n<none>      20.806 34.806\n- LEVI  1   23.411 35.411\n+ DEPI  1   20.133 36.133\n+ SGAI  1   20.795 36.795\n- SGI   1   47.926 59.926\n- ACCR  1   52.011 64.011\n- GMI   1   59.646 71.646\n- AQI   1   63.768 75.768\n- DSRI  1   84.456 96.456\n",
                    "name": "stdout"
                },
                {
                    "output_type": "stream",
                    "text": "Warning message:\n\u201cglm.fit: fitted probabilities numerically 0 or 1 occurred\u201d",
                    "name": "stderr"
                },
                {
                    "output_type": "stream",
                    "text": "Start:  AIC=110.13\nManipulater ~ 1\n\n",
                    "name": "stdout"
                },
                {
                    "output_type": "stream",
                    "text": "Warning message:\n\u201cglm.fit: fitted probabilities numerically 0 or 1 occurred\u201d",
                    "name": "stderr"
                },
                {
                    "output_type": "stream",
                    "text": "       Df Deviance     AIC\n+ DSRI  1   94.401  98.401\n+ ACCR  1  102.917 106.917\n+ SGI   1  103.971 107.971\n+ SGAI  1  104.785 108.785\n+ AQI   1  105.675 109.675\n<none>     108.131 110.131\n+ GMI   1  106.145 110.145\n+ LEVI  1  106.893 110.893\n+ DEPI  1  107.475 111.475\n",
                    "name": "stdout"
                },
                {
                    "output_type": "stream",
                    "text": "Warning message:\n\u201cglm.fit: fitted probabilities numerically 0 or 1 occurred\u201d",
                    "name": "stderr"
                },
                {
                    "output_type": "stream",
                    "text": "\nStep:  AIC=98.4\nManipulater ~ DSRI\n\n",
                    "name": "stdout"
                },
                {
                    "output_type": "stream",
                    "text": "Warning message:\n\u201cglm.fit: fitted probabilities numerically 0 or 1 occurred\u201dWarning message:\n\u201cglm.fit: fitted probabilities numerically 0 or 1 occurred\u201dWarning message:\n\u201cglm.fit: fitted probabilities numerically 0 or 1 occurred\u201dWarning message:\n\u201cglm.fit: fitted probabilities numerically 0 or 1 occurred\u201dWarning message:\n\u201cglm.fit: fitted probabilities numerically 0 or 1 occurred\u201dWarning message:\n\u201cglm.fit: fitted probabilities numerically 0 or 1 occurred\u201dWarning message:\n\u201cglm.fit: fitted probabilities numerically 0 or 1 occurred\u201dWarning message:\n\u201cglm.fit: fitted probabilities numerically 0 or 1 occurred\u201d",
                    "name": "stderr"
                },
                {
                    "output_type": "stream",
                    "text": "       Df Deviance     AIC\n+ SGI   1   80.286  86.286\n+ ACCR  1   83.742  89.742\n+ GMI   1   89.111  95.111\n+ AQI   1   90.124  96.124\n<none>      94.401  98.401\n+ SGAI  1   93.512  99.512\n+ DEPI  1   93.980  99.980\n+ LEVI  1   94.175 100.175\n- DSRI  1  108.131 110.131\n",
                    "name": "stdout"
                },
                {
                    "output_type": "stream",
                    "text": "Warning message:\n\u201cglm.fit: fitted probabilities numerically 0 or 1 occurred\u201d",
                    "name": "stderr"
                },
                {
                    "output_type": "stream",
                    "text": "\nStep:  AIC=86.29\nManipulater ~ DSRI + SGI\n\n",
                    "name": "stdout"
                },
                {
                    "output_type": "stream",
                    "text": "Warning message:\n\u201cglm.fit: fitted probabilities numerically 0 or 1 occurred\u201dWarning message:\n\u201cglm.fit: fitted probabilities numerically 0 or 1 occurred\u201dWarning message:\n\u201cglm.fit: fitted probabilities numerically 0 or 1 occurred\u201dWarning message:\n\u201cglm.fit: fitted probabilities numerically 0 or 1 occurred\u201dWarning message:\n\u201cglm.fit: fitted probabilities numerically 0 or 1 occurred\u201dWarning message:\n\u201cglm.fit: fitted probabilities numerically 0 or 1 occurred\u201dWarning message:\n\u201cglm.fit: fitted probabilities numerically 0 or 1 occurred\u201dWarning message:\n\u201cglm.fit: fitted probabilities numerically 0 or 1 occurred\u201d",
                    "name": "stderr"
                },
                {
                    "output_type": "stream",
                    "text": "       Df Deviance     AIC\n+ AQI   1   64.541  72.541\n+ ACCR  1   71.769  79.769\n+ GMI   1   77.492  85.492\n<none>      80.286  86.286\n+ SGAI  1   79.425  87.425\n+ DEPI  1   79.948  87.948\n+ LEVI  1   80.178  88.178\n- SGI   1   94.401  98.401\n- DSRI  1  103.971 107.971\n",
                    "name": "stdout"
                },
                {
                    "output_type": "stream",
                    "text": "Warning message:\n\u201cglm.fit: fitted probabilities numerically 0 or 1 occurred\u201d",
                    "name": "stderr"
                },
                {
                    "output_type": "stream",
                    "text": "\nStep:  AIC=72.54\nManipulater ~ DSRI + SGI + AQI\n\n",
                    "name": "stdout"
                },
                {
                    "output_type": "stream",
                    "text": "Warning message:\n\u201cglm.fit: fitted probabilities numerically 0 or 1 occurred\u201dWarning message:\n\u201cglm.fit: fitted probabilities numerically 0 or 1 occurred\u201dWarning message:\n\u201cglm.fit: fitted probabilities numerically 0 or 1 occurred\u201dWarning message:\n\u201cglm.fit: fitted probabilities numerically 0 or 1 occurred\u201dWarning message:\n\u201cglm.fit: fitted probabilities numerically 0 or 1 occurred\u201dWarning message:\n\u201cglm.fit: fitted probabilities numerically 0 or 1 occurred\u201dWarning message:\n\u201cglm.fit: fitted probabilities numerically 0 or 1 occurred\u201dWarning message:\n\u201cglm.fit: fitted probabilities numerically 0 or 1 occurred\u201d",
                    "name": "stderr"
                },
                {
                    "output_type": "stream",
                    "text": "       Df Deviance     AIC\n+ ACCR  1   44.360  54.360\n+ LEVI  1   58.888  68.888\n+ DEPI  1   59.273  69.273\n+ GMI   1   59.491  69.491\n<none>      64.541  72.541\n+ SGAI  1   64.457  74.457\n- AQI   1   80.286  86.286\n- SGI   1   90.124  96.124\n- DSRI  1  100.353 106.353\n",
                    "name": "stdout"
                },
                {
                    "output_type": "stream",
                    "text": "Warning message:\n\u201cglm.fit: fitted probabilities numerically 0 or 1 occurred\u201d",
                    "name": "stderr"
                },
                {
                    "output_type": "stream",
                    "text": "\nStep:  AIC=54.36\nManipulater ~ DSRI + SGI + AQI + ACCR\n\n",
                    "name": "stdout"
                },
                {
                    "output_type": "stream",
                    "text": "Warning message:\n\u201cglm.fit: fitted probabilities numerically 0 or 1 occurred\u201dWarning message:\n\u201cglm.fit: fitted probabilities numerically 0 or 1 occurred\u201dWarning message:\n\u201cglm.fit: fitted probabilities numerically 0 or 1 occurred\u201dWarning message:\n\u201cglm.fit: fitted probabilities numerically 0 or 1 occurred\u201dWarning message:\n\u201cglm.fit: fitted probabilities numerically 0 or 1 occurred\u201dWarning message:\n\u201cglm.fit: fitted probabilities numerically 0 or 1 occurred\u201dWarning message:\n\u201cglm.fit: fitted probabilities numerically 0 or 1 occurred\u201dWarning message:\n\u201cglm.fit: fitted probabilities numerically 0 or 1 occurred\u201d",
                    "name": "stderr"
                },
                {
                    "output_type": "stream",
                    "text": "       Df Deviance     AIC\n+ GMI   1   39.712  51.712\n+ DEPI  1   40.168  52.168\n+ LEVI  1   42.197  54.197\n<none>      44.360  54.360\n+ SGAI  1   43.747  55.747\n- ACCR  1   64.541  72.541\n- AQI   1   71.769  79.769\n- SGI   1   72.536  80.536\n- DSRI  1   93.519 101.519\n",
                    "name": "stdout"
                },
                {
                    "output_type": "stream",
                    "text": "Warning message:\n\u201cglm.fit: fitted probabilities numerically 0 or 1 occurred\u201d",
                    "name": "stderr"
                },
                {
                    "output_type": "stream",
                    "text": "\nStep:  AIC=51.71\nManipulater ~ DSRI + SGI + AQI + ACCR + GMI\n\n",
                    "name": "stdout"
                },
                {
                    "output_type": "stream",
                    "text": "Warning message:\n\u201cglm.fit: fitted probabilities numerically 0 or 1 occurred\u201dWarning message:\n\u201cglm.fit: fitted probabilities numerically 0 or 1 occurred\u201dWarning message:\n\u201cglm.fit: fitted probabilities numerically 0 or 1 occurred\u201dWarning message:\n\u201cglm.fit: fitted probabilities numerically 0 or 1 occurred\u201dWarning message:\n\u201cglm.fit: fitted probabilities numerically 0 or 1 occurred\u201dWarning message:\n\u201cglm.fit: fitted probabilities numerically 0 or 1 occurred\u201dWarning message:\n\u201cglm.fit: fitted probabilities numerically 0 or 1 occurred\u201dWarning message:\n\u201cglm.fit: fitted probabilities numerically 0 or 1 occurred\u201d",
                    "name": "stderr"
                },
                {
                    "output_type": "stream",
                    "text": "       Df Deviance     AIC\n+ DEPI  1   37.333  51.333\n<none>      39.712  51.712\n+ LEVI  1   37.860  51.860\n+ SGAI  1   39.598  53.598\n- GMI   1   44.360  54.360\n- ACCR  1   59.491  69.491\n- SGI   1   61.528  71.528\n- AQI   1   69.295  79.295\n- DSRI  1   91.583 101.583\n",
                    "name": "stdout"
                },
                {
                    "output_type": "stream",
                    "text": "Warning message:\n\u201cglm.fit: fitted probabilities numerically 0 or 1 occurred\u201d",
                    "name": "stderr"
                },
                {
                    "output_type": "stream",
                    "text": "\nStep:  AIC=51.33\nManipulater ~ DSRI + SGI + AQI + ACCR + GMI + DEPI\n\n",
                    "name": "stdout"
                },
                {
                    "output_type": "stream",
                    "text": "Warning message:\n\u201cglm.fit: fitted probabilities numerically 0 or 1 occurred\u201dWarning message:\n\u201cglm.fit: fitted probabilities numerically 0 or 1 occurred\u201dWarning message:\n\u201cglm.fit: fitted probabilities numerically 0 or 1 occurred\u201dWarning message:\n\u201cglm.fit: fitted probabilities numerically 0 or 1 occurred\u201dWarning message:\n\u201cglm.fit: fitted probabilities numerically 0 or 1 occurred\u201dWarning message:\n\u201cglm.fit: fitted probabilities numerically 0 or 1 occurred\u201dWarning message:\n\u201cglm.fit: fitted probabilities numerically 0 or 1 occurred\u201dWarning message:\n\u201cglm.fit: fitted probabilities numerically 0 or 1 occurred\u201d",
                    "name": "stderr"
                },
                {
                    "output_type": "stream",
                    "text": "       Df Deviance     AIC\n+ LEVI  1   33.679  49.679\n<none>      37.333  51.333\n- DEPI  1   39.712  51.712\n- GMI   1   40.168  52.168\n+ SGAI  1   37.332  53.332\n- ACCR  1   55.535  67.535\n- SGI   1   60.688  72.688\n- AQI   1   69.263  81.263\n- DSRI  1   91.178 103.178\n",
                    "name": "stdout"
                },
                {
                    "output_type": "stream",
                    "text": "Warning message:\n\u201cglm.fit: fitted probabilities numerically 0 or 1 occurred\u201d",
                    "name": "stderr"
                },
                {
                    "output_type": "stream",
                    "text": "\nStep:  AIC=49.68\nManipulater ~ DSRI + SGI + AQI + ACCR + GMI + DEPI + LEVI\n\n",
                    "name": "stdout"
                },
                {
                    "output_type": "stream",
                    "text": "Warning message:\n\u201cglm.fit: fitted probabilities numerically 0 or 1 occurred\u201dWarning message:\n\u201cglm.fit: fitted probabilities numerically 0 or 1 occurred\u201dWarning message:\n\u201cglm.fit: fitted probabilities numerically 0 or 1 occurred\u201dWarning message:\n\u201cglm.fit: fitted probabilities numerically 0 or 1 occurred\u201dWarning message:\n\u201cglm.fit: fitted probabilities numerically 0 or 1 occurred\u201dWarning message:\n\u201cglm.fit: fitted probabilities numerically 0 or 1 occurred\u201dWarning message:\n\u201cglm.fit: fitted probabilities numerically 0 or 1 occurred\u201dWarning message:\n\u201cglm.fit: fitted probabilities numerically 0 or 1 occurred\u201d",
                    "name": "stderr"
                },
                {
                    "output_type": "stream",
                    "text": "       Df Deviance     AIC\n<none>      33.679  49.679\n- GMI   1   37.025  51.025\n+ SGAI  1   33.077  51.077\n- LEVI  1   37.333  51.333\n- DEPI  1   37.860  51.860\n- ACCR  1   48.450  62.450\n- SGI   1   60.688  74.688\n- AQI   1   68.073  82.073\n- DSRI  1   90.136 104.136\n",
                    "name": "stdout"
                },
                {
                    "output_type": "stream",
                    "text": "Warning message:\n\u201cglm.fit: fitted probabilities numerically 0 or 1 occurred\u201d",
                    "name": "stderr"
                },
                {
                    "output_type": "stream",
                    "text": "Start:  AIC=110.13\nManipulater ~ 1\n\n",
                    "name": "stdout"
                },
                {
                    "output_type": "stream",
                    "text": "Warning message:\n\u201cglm.fit: fitted probabilities numerically 0 or 1 occurred\u201d",
                    "name": "stderr"
                },
                {
                    "output_type": "stream",
                    "text": "       Df Deviance    AIC\n+ DSRI  1   97.852 101.85\n+ AQI   1  101.830 105.83\n+ SGAI  1  102.138 106.14\n+ ACCR  1  103.039 107.04\n+ GMI   1  105.015 109.02\n<none>     108.131 110.13\n+ SGI   1  107.039 111.04\n+ LEVI  1  107.196 111.20\n+ DEPI  1  108.081 112.08\n\nStep:  AIC=101.85\nManipulater ~ DSRI\n\n",
                    "name": "stdout"
                },
                {
                    "output_type": "stream",
                    "text": "Warning message:\n\u201cglm.fit: fitted probabilities numerically 0 or 1 occurred\u201dWarning message:\n\u201cglm.fit: fitted probabilities numerically 0 or 1 occurred\u201dWarning message:\n\u201cglm.fit: fitted probabilities numerically 0 or 1 occurred\u201dWarning message:\n\u201cglm.fit: fitted probabilities numerically 0 or 1 occurred\u201dWarning message:\n\u201cglm.fit: fitted probabilities numerically 0 or 1 occurred\u201d",
                    "name": "stderr"
                },
                {
                    "output_type": "stream",
                    "text": "       Df Deviance     AIC\n+ ACCR  1   89.240  95.240\n+ AQI   1   90.258  96.258\n+ GMI   1   92.603  98.603\n+ SGI   1   94.268 100.268\n+ SGAI  1   94.641 100.641\n<none>      97.852 101.852\n+ DEPI  1   97.700 103.700\n+ LEVI  1   97.733 103.733\n- DSRI  1  108.131 110.131\n",
                    "name": "stdout"
                },
                {
                    "output_type": "stream",
                    "text": "Warning message:\n\u201cglm.fit: fitted probabilities numerically 0 or 1 occurred\u201d",
                    "name": "stderr"
                },
                {
                    "output_type": "stream",
                    "text": "\nStep:  AIC=95.24\nManipulater ~ DSRI + ACCR\n\n",
                    "name": "stdout"
                },
                {
                    "output_type": "stream",
                    "text": "Warning message:\n\u201cglm.fit: fitted probabilities numerically 0 or 1 occurred\u201dWarning message:\n\u201cglm.fit: fitted probabilities numerically 0 or 1 occurred\u201dWarning message:\n\u201cglm.fit: fitted probabilities numerically 0 or 1 occurred\u201dWarning message:\n\u201cglm.fit: fitted probabilities numerically 0 or 1 occurred\u201dWarning message:\n\u201cglm.fit: fitted probabilities numerically 0 or 1 occurred\u201dWarning message:\n\u201cglm.fit: fitted probabilities numerically 0 or 1 occurred\u201dWarning message:\n\u201cglm.fit: fitted probabilities numerically 0 or 1 occurred\u201d",
                    "name": "stderr"
                },
                {
                    "output_type": "stream",
                    "text": "       Df Deviance     AIC\n+ AQI   1   75.909  83.909\n+ GMI   1   80.058  88.058\n+ SGI   1   85.846  93.846\n<none>      89.240  95.240\n+ SGAI  1   87.772  95.772\n+ LEVI  1   88.805  96.805\n+ DEPI  1   89.215  97.215\n- ACCR  1   97.852 101.852\n- DSRI  1  103.039 107.039\n",
                    "name": "stdout"
                },
                {
                    "output_type": "stream",
                    "text": "Warning message:\n\u201cglm.fit: fitted probabilities numerically 0 or 1 occurred\u201d",
                    "name": "stderr"
                },
                {
                    "output_type": "stream",
                    "text": "\nStep:  AIC=83.91\nManipulater ~ DSRI + ACCR + AQI\n\n",
                    "name": "stdout"
                },
                {
                    "output_type": "stream",
                    "text": "Warning message:\n\u201cglm.fit: fitted probabilities numerically 0 or 1 occurred\u201dWarning message:\n\u201cglm.fit: fitted probabilities numerically 0 or 1 occurred\u201dWarning message:\n\u201cglm.fit: fitted probabilities numerically 0 or 1 occurred\u201dWarning message:\n\u201cglm.fit: fitted probabilities numerically 0 or 1 occurred\u201dWarning message:\n\u201cglm.fit: fitted probabilities numerically 0 or 1 occurred\u201dWarning message:\n\u201cglm.fit: fitted probabilities numerically 0 or 1 occurred\u201dWarning message:\n\u201cglm.fit: fitted probabilities numerically 0 or 1 occurred\u201dWarning message:\n\u201cglm.fit: fitted probabilities numerically 0 or 1 occurred\u201d",
                    "name": "stderr"
                },
                {
                    "output_type": "stream",
                    "text": "       Df Deviance    AIC\n+ GMI   1   60.132 70.132\n+ SGI   1   70.633 80.633\n<none>      75.909 83.909\n+ SGAI  1   75.791 85.791\n+ DEPI  1   75.905 85.905\n+ LEVI  1   75.908 85.908\n- AQI   1   89.240 95.240\n- ACCR  1   90.258 96.258\n- DSRI  1   93.593 99.593\n",
                    "name": "stdout"
                },
                {
                    "output_type": "stream",
                    "text": "Warning message:\n\u201cglm.fit: fitted probabilities numerically 0 or 1 occurred\u201d",
                    "name": "stderr"
                },
                {
                    "output_type": "stream",
                    "text": "\nStep:  AIC=70.13\nManipulater ~ DSRI + ACCR + AQI + GMI\n\n",
                    "name": "stdout"
                },
                {
                    "output_type": "stream",
                    "text": "Warning message:\n\u201cglm.fit: fitted probabilities numerically 0 or 1 occurred\u201dWarning message:\n\u201cglm.fit: fitted probabilities numerically 0 or 1 occurred\u201dWarning message:\n\u201cglm.fit: fitted probabilities numerically 0 or 1 occurred\u201dWarning message:\n\u201cglm.fit: fitted probabilities numerically 0 or 1 occurred\u201dWarning message:\n\u201cglm.fit: fitted probabilities numerically 0 or 1 occurred\u201dWarning message:\n\u201cglm.fit: fitted probabilities numerically 0 or 1 occurred\u201dWarning message:\n\u201cglm.fit: fitted probabilities numerically 0 or 1 occurred\u201dWarning message:\n\u201cglm.fit: fitted probabilities numerically 0 or 1 occurred\u201dWarning message:\n\u201cglm.fit: fitted probabilities numerically 0 or 1 occurred\u201d",
                    "name": "stderr"
                },
                {
                    "output_type": "stream",
                    "text": "       Df Deviance    AIC\n+ SGI   1   44.087 56.087\n<none>      60.132 70.132\n+ DEPI  1   60.018 72.018\n+ SGAI  1   60.027 72.027\n+ LEVI  1   60.109 72.109\n- GMI   1   75.909 83.909\n- AQI   1   80.058 88.058\n- ACCR  1   82.738 90.738\n- DSRI  1   88.690 96.690\n",
                    "name": "stdout"
                },
                {
                    "output_type": "stream",
                    "text": "Warning message:\n\u201cglm.fit: fitted probabilities numerically 0 or 1 occurred\u201d",
                    "name": "stderr"
                },
                {
                    "output_type": "stream",
                    "text": "\nStep:  AIC=56.09\nManipulater ~ DSRI + ACCR + AQI + GMI + SGI\n\n",
                    "name": "stdout"
                },
                {
                    "output_type": "stream",
                    "text": "Warning message:\n\u201cglm.fit: fitted probabilities numerically 0 or 1 occurred\u201dWarning message:\n\u201cglm.fit: fitted probabilities numerically 0 or 1 occurred\u201dWarning message:\n\u201cglm.fit: fitted probabilities numerically 0 or 1 occurred\u201dWarning message:\n\u201cglm.fit: fitted probabilities numerically 0 or 1 occurred\u201dWarning message:\n\u201cglm.fit: fitted probabilities numerically 0 or 1 occurred\u201dWarning message:\n\u201cglm.fit: fitted probabilities numerically 0 or 1 occurred\u201dWarning message:\n\u201cglm.fit: fitted probabilities numerically 0 or 1 occurred\u201dWarning message:\n\u201cglm.fit: fitted probabilities numerically 0 or 1 occurred\u201dWarning message:\n\u201cglm.fit: fitted probabilities numerically 0 or 1 occurred\u201d",
                    "name": "stderr"
                },
                {
                    "output_type": "stream",
                    "text": "       Df Deviance    AIC\n<none>      44.087 56.087\n+ LEVI  1   42.255 56.255\n+ DEPI  1   43.442 57.442\n+ SGAI  1   43.751 57.751\n- SGI   1   60.132 70.132\n- ACCR  1   67.213 77.213\n- GMI   1   70.633 80.633\n- AQI   1   73.914 83.914\n- DSRI  1   85.386 95.386\n",
                    "name": "stdout"
                },
                {
                    "output_type": "stream",
                    "text": "Warning message:\n\u201cglm.fit: fitted probabilities numerically 0 or 1 occurred\u201d",
                    "name": "stderr"
                },
                {
                    "output_type": "stream",
                    "text": "Start:  AIC=110.13\nManipulater ~ 1\n\n       Df Deviance    AIC\n+ DSRI  1   100.02 104.02\n+ ACCR  1   100.74 104.74\n+ SGAI  1   103.04 107.04\n+ SGI   1   104.59 108.59\n+ AQI   1   104.67 108.67\n<none>      108.13 110.13\n+ GMI   1   106.51 110.51\n+ LEVI  1   106.70 110.70\n+ DEPI  1   108.03 112.03\n\nStep:  AIC=104.02\nManipulater ~ DSRI\n\n",
                    "name": "stdout"
                },
                {
                    "output_type": "stream",
                    "text": "Warning message:\n\u201cglm.fit: fitted probabilities numerically 0 or 1 occurred\u201dWarning message:\n\u201cglm.fit: fitted probabilities numerically 0 or 1 occurred\u201d",
                    "name": "stderr"
                },
                {
                    "output_type": "stream",
                    "text": "       Df Deviance     AIC\n+ ACCR  1   86.759  92.759\n+ SGI   1   92.025  98.025\n+ AQI   1   95.404 101.404\n+ GMI   1   95.506 101.506\n+ SGAI  1   97.600 103.600\n<none>     100.018 104.018\n+ LEVI  1   99.760 105.760\n+ DEPI  1   99.912 105.912\n- DSRI  1  108.131 110.131\n\nStep:  AIC=92.76\nManipulater ~ DSRI + ACCR\n\n",
                    "name": "stdout"
                },
                {
                    "output_type": "stream",
                    "text": "Warning message:\n\u201cglm.fit: fitted probabilities numerically 0 or 1 occurred\u201dWarning message:\n\u201cglm.fit: fitted probabilities numerically 0 or 1 occurred\u201dWarning message:\n\u201cglm.fit: fitted probabilities numerically 0 or 1 occurred\u201dWarning message:\n\u201cglm.fit: fitted probabilities numerically 0 or 1 occurred\u201dWarning message:\n\u201cglm.fit: fitted probabilities numerically 0 or 1 occurred\u201d",
                    "name": "stderr"
                },
                {
                    "output_type": "stream",
                    "text": "       Df Deviance     AIC\n+ AQI   1   75.598  83.598\n+ GMI   1   80.055  88.055\n+ SGI   1   80.410  88.410\n<none>      86.759  92.759\n+ DEPI  1   85.487  93.487\n+ SGAI  1   85.517  93.517\n+ LEVI  1   86.134  94.134\n- ACCR  1  100.018 104.018\n- DSRI  1  100.737 104.737\n",
                    "name": "stdout"
                },
                {
                    "output_type": "stream",
                    "text": "Warning message:\n\u201cglm.fit: fitted probabilities numerically 0 or 1 occurred\u201d",
                    "name": "stderr"
                },
                {
                    "output_type": "stream",
                    "text": "\nStep:  AIC=83.6\nManipulater ~ DSRI + ACCR + AQI\n\n",
                    "name": "stdout"
                },
                {
                    "output_type": "stream",
                    "text": "Warning message:\n\u201cglm.fit: fitted probabilities numerically 0 or 1 occurred\u201dWarning message:\n\u201cglm.fit: fitted probabilities numerically 0 or 1 occurred\u201dWarning message:\n\u201cglm.fit: fitted probabilities numerically 0 or 1 occurred\u201dWarning message:\n\u201cglm.fit: fitted probabilities numerically 0 or 1 occurred\u201dWarning message:\n\u201cglm.fit: fitted probabilities numerically 0 or 1 occurred\u201dWarning message:\n\u201cglm.fit: fitted probabilities numerically 0 or 1 occurred\u201d",
                    "name": "stderr"
                },
                {
                    "output_type": "stream",
                    "text": "       Df Deviance     AIC\n+ SGI   1   60.856  70.856\n+ GMI   1   61.861  71.861\n<none>      75.598  83.598\n+ DEPI  1   74.792  84.792\n+ SGAI  1   75.343  85.343\n+ LEVI  1   75.595  85.595\n- AQI   1   86.759  92.759\n- ACCR  1   95.404 101.404\n- DSRI  1   95.819 101.819\n",
                    "name": "stdout"
                },
                {
                    "output_type": "stream",
                    "text": "Warning message:\n\u201cglm.fit: fitted probabilities numerically 0 or 1 occurred\u201d",
                    "name": "stderr"
                },
                {
                    "output_type": "stream",
                    "text": "\nStep:  AIC=70.86\nManipulater ~ DSRI + ACCR + AQI + SGI\n\n",
                    "name": "stdout"
                },
                {
                    "output_type": "stream",
                    "text": "Warning message:\n\u201cglm.fit: fitted probabilities numerically 0 or 1 occurred\u201dWarning message:\n\u201cglm.fit: fitted probabilities numerically 0 or 1 occurred\u201dWarning message:\n\u201cglm.fit: fitted probabilities numerically 0 or 1 occurred\u201dWarning message:\n\u201cglm.fit: fitted probabilities numerically 0 or 1 occurred\u201dWarning message:\n\u201cglm.fit: fitted probabilities numerically 0 or 1 occurred\u201dWarning message:\n\u201cglm.fit: fitted probabilities numerically 0 or 1 occurred\u201dWarning message:\n\u201cglm.fit: fitted probabilities numerically 0 or 1 occurred\u201dWarning message:\n\u201cglm.fit: fitted probabilities numerically 0 or 1 occurred\u201d",
                    "name": "stderr"
                },
                {
                    "output_type": "stream",
                    "text": "       Df Deviance     AIC\n+ GMI   1   43.699  55.699\n<none>      60.856  70.856\n+ LEVI  1   58.905  70.905\n+ SGAI  1   60.657  72.657\n+ DEPI  1   60.695  72.695\n- SGI   1   75.598  83.598\n- AQI   1   80.410  88.410\n- ACCR  1   82.927  90.927\n- DSRI  1   92.543 100.543\n",
                    "name": "stdout"
                },
                {
                    "output_type": "stream",
                    "text": "Warning message:\n\u201cglm.fit: fitted probabilities numerically 0 or 1 occurred\u201d",
                    "name": "stderr"
                },
                {
                    "output_type": "stream",
                    "text": "\nStep:  AIC=55.7\nManipulater ~ DSRI + ACCR + AQI + SGI + GMI\n\n",
                    "name": "stdout"
                },
                {
                    "output_type": "stream",
                    "text": "Warning message:\n\u201cglm.fit: fitted probabilities numerically 0 or 1 occurred\u201dWarning message:\n\u201cglm.fit: fitted probabilities numerically 0 or 1 occurred\u201dWarning message:\n\u201cglm.fit: fitted probabilities numerically 0 or 1 occurred\u201dWarning message:\n\u201cglm.fit: fitted probabilities numerically 0 or 1 occurred\u201dWarning message:\n\u201cglm.fit: fitted probabilities numerically 0 or 1 occurred\u201dWarning message:\n\u201cglm.fit: fitted probabilities numerically 0 or 1 occurred\u201dWarning message:\n\u201cglm.fit: fitted probabilities numerically 0 or 1 occurred\u201dWarning message:\n\u201cglm.fit: fitted probabilities numerically 0 or 1 occurred\u201d",
                    "name": "stderr"
                },
                {
                    "output_type": "stream",
                    "text": "       Df Deviance     AIC\n<none>      43.699  55.699\n+ SGAI  1   41.758  55.758\n+ LEVI  1   42.626  56.626\n+ DEPI  1   43.664  57.664\n- GMI   1   60.856  70.856\n- SGI   1   61.861  71.861\n- ACCR  1   71.734  81.734\n- AQI   1   74.251  84.251\n- DSRI  1   90.685 100.685\n",
                    "name": "stdout"
                },
                {
                    "output_type": "stream",
                    "text": "Warning message:\n\u201cglm.fit: fitted probabilities numerically 0 or 1 occurred\u201d",
                    "name": "stderr"
                },
                {
                    "output_type": "stream",
                    "text": "Start:  AIC=110.13\nManipulater ~ 1\n\n       Df Deviance    AIC\n+ DSRI  1   100.03 104.03\n+ ACCR  1   103.38 107.38\n+ SGAI  1   103.73 107.73\n+ AQI   1   103.87 107.87\n+ SGI   1   103.94 107.94\n<none>      108.13 110.13\n+ DEPI  1   106.61 110.61\n+ LEVI  1   106.84 110.84\n+ GMI   1   106.90 110.90\n\nStep:  AIC=104.02\nManipulater ~ DSRI\n\n       Df Deviance     AIC\n+ SGI   1   90.316  96.316\n+ ACCR  1   90.700  96.700\n+ AQI   1   94.862 100.862\n+ GMI   1   97.808 103.808\n<none>     100.025 104.025\n+ SGAI  1   98.306 104.306\n+ DEPI  1   98.962 104.962\n+ LEVI  1   99.772 105.772\n- DSRI  1  108.131 110.131\n\nStep:  AIC=96.32\nManipulater ~ DSRI + SGI\n\n",
                    "name": "stdout"
                },
                {
                    "output_type": "stream",
                    "text": "Warning message:\n\u201cglm.fit: fitted probabilities numerically 0 or 1 occurred\u201dWarning message:\n\u201cglm.fit: fitted probabilities numerically 0 or 1 occurred\u201dWarning message:\n\u201cglm.fit: fitted probabilities numerically 0 or 1 occurred\u201d",
                    "name": "stderr"
                },
                {
                    "output_type": "stream",
                    "text": "       Df Deviance     AIC\n+ AQI   1   78.026  86.026\n+ ACCR  1   83.074  91.074\n<none>      90.316  96.316\n+ SGAI  1   88.349  96.349\n+ GMI   1   89.295  97.295\n+ LEVI  1   90.241  98.241\n+ DEPI  1   90.256  98.256\n- SGI   1  100.025 104.025\n- DSRI  1  103.942 107.942\n",
                    "name": "stdout"
                },
                {
                    "output_type": "stream",
                    "text": "Warning message:\n\u201cglm.fit: fitted probabilities numerically 0 or 1 occurred\u201d",
                    "name": "stderr"
                },
                {
                    "output_type": "stream",
                    "text": "\nStep:  AIC=86.03\nManipulater ~ DSRI + SGI + AQI\n\n",
                    "name": "stdout"
                },
                {
                    "output_type": "stream",
                    "text": "Warning message:\n\u201cglm.fit: fitted probabilities numerically 0 or 1 occurred\u201dWarning message:\n\u201cglm.fit: fitted probabilities numerically 0 or 1 occurred\u201dWarning message:\n\u201cglm.fit: fitted probabilities numerically 0 or 1 occurred\u201dWarning message:\n\u201cglm.fit: fitted probabilities numerically 0 or 1 occurred\u201dWarning message:\n\u201cglm.fit: fitted probabilities numerically 0 or 1 occurred\u201dWarning message:\n\u201cglm.fit: fitted probabilities numerically 0 or 1 occurred\u201d",
                    "name": "stderr"
                },
                {
                    "output_type": "stream",
                    "text": "       Df Deviance     AIC\n+ ACCR  1   63.354  73.354\n+ LEVI  1   75.511  85.511\n<none>      78.026  86.026\n+ GMI   1   77.110  87.110\n+ SGAI  1   77.366  87.366\n+ DEPI  1   77.641  87.641\n- AQI   1   90.316  96.316\n- SGI   1   94.862 100.862\n- DSRI  1   97.906 103.906\n",
                    "name": "stdout"
                },
                {
                    "output_type": "stream",
                    "text": "Warning message:\n\u201cglm.fit: fitted probabilities numerically 0 or 1 occurred\u201d",
                    "name": "stderr"
                },
                {
                    "output_type": "stream",
                    "text": "\nStep:  AIC=73.35\nManipulater ~ DSRI + SGI + AQI + ACCR\n\n",
                    "name": "stdout"
                },
                {
                    "output_type": "stream",
                    "text": "Warning message:\n\u201cglm.fit: fitted probabilities numerically 0 or 1 occurred\u201dWarning message:\n\u201cglm.fit: fitted probabilities numerically 0 or 1 occurred\u201dWarning message:\n\u201cglm.fit: fitted probabilities numerically 0 or 1 occurred\u201dWarning message:\n\u201cglm.fit: fitted probabilities numerically 0 or 1 occurred\u201dWarning message:\n\u201cglm.fit: fitted probabilities numerically 0 or 1 occurred\u201dWarning message:\n\u201cglm.fit: fitted probabilities numerically 0 or 1 occurred\u201dWarning message:\n\u201cglm.fit: fitted probabilities numerically 0 or 1 occurred\u201dWarning message:\n\u201cglm.fit: fitted probabilities numerically 0 or 1 occurred\u201d",
                    "name": "stderr"
                },
                {
                    "output_type": "stream",
                    "text": "       Df Deviance    AIC\n+ GMI   1   60.181 72.181\n<none>      63.354 73.354\n+ LEVI  1   61.706 73.706\n+ DEPI  1   63.131 75.131\n+ SGAI  1   63.347 75.347\n- ACCR  1   78.026 86.026\n- SGI   1   79.988 87.988\n- AQI   1   83.074 91.074\n- DSRI  1   91.874 99.874\n",
                    "name": "stdout"
                },
                {
                    "output_type": "stream",
                    "text": "Warning message:\n\u201cglm.fit: fitted probabilities numerically 0 or 1 occurred\u201d",
                    "name": "stderr"
                },
                {
                    "output_type": "stream",
                    "text": "\nStep:  AIC=72.18\nManipulater ~ DSRI + SGI + AQI + ACCR + GMI\n\n",
                    "name": "stdout"
                },
                {
                    "output_type": "stream",
                    "text": "Warning message:\n\u201cglm.fit: fitted probabilities numerically 0 or 1 occurred\u201dWarning message:\n\u201cglm.fit: fitted probabilities numerically 0 or 1 occurred\u201dWarning message:\n\u201cglm.fit: fitted probabilities numerically 0 or 1 occurred\u201dWarning message:\n\u201cglm.fit: fitted probabilities numerically 0 or 1 occurred\u201dWarning message:\n\u201cglm.fit: fitted probabilities numerically 0 or 1 occurred\u201dWarning message:\n\u201cglm.fit: fitted probabilities numerically 0 or 1 occurred\u201dWarning message:\n\u201cglm.fit: fitted probabilities numerically 0 or 1 occurred\u201dWarning message:\n\u201cglm.fit: fitted probabilities numerically 0 or 1 occurred\u201d",
                    "name": "stderr"
                },
                {
                    "output_type": "stream",
                    "text": "       Df Deviance     AIC\n<none>      60.181  72.181\n+ LEVI  1   58.780  72.780\n- GMI   1   63.354  73.354\n+ DEPI  1   59.738  73.738\n+ SGAI  1   60.108  74.108\n- SGI   1   73.605  83.605\n- ACCR  1   77.110  87.110\n- AQI   1   81.188  91.188\n- DSRI  1   90.632 100.632\n",
                    "name": "stdout"
                },
                {
                    "output_type": "stream",
                    "text": "Warning message:\n\u201cglm.fit: fitted probabilities numerically 0 or 1 occurred\u201d",
                    "name": "stderr"
                },
                {
                    "output_type": "stream",
                    "text": "Start:  AIC=110.13\nManipulater ~ 1\n\n",
                    "name": "stdout"
                },
                {
                    "output_type": "stream",
                    "text": "Warning message:\n\u201cglm.fit: fitted probabilities numerically 0 or 1 occurred\u201d",
                    "name": "stderr"
                },
                {
                    "output_type": "stream",
                    "text": "       Df Deviance    AIC\n+ DSRI  1   96.237 100.24\n+ AQI   1  103.350 107.35\n+ ACCR  1  103.871 107.87\n+ SGAI  1  104.035 108.03\n+ GMI   1  105.214 109.21\n<none>     108.131 110.13\n+ DEPI  1  106.158 110.16\n+ LEVI  1  106.702 110.70\n+ SGI   1  107.205 111.20\n",
                    "name": "stdout"
                },
                {
                    "output_type": "stream",
                    "text": "Warning message:\n\u201cglm.fit: fitted probabilities numerically 0 or 1 occurred\u201d",
                    "name": "stderr"
                },
                {
                    "output_type": "stream",
                    "text": "\nStep:  AIC=100.24\nManipulater ~ DSRI\n\n",
                    "name": "stdout"
                },
                {
                    "output_type": "stream",
                    "text": "Warning message:\n\u201cglm.fit: fitted probabilities numerically 0 or 1 occurred\u201dWarning message:\n\u201cglm.fit: fitted probabilities numerically 0 or 1 occurred\u201dWarning message:\n\u201cglm.fit: fitted probabilities numerically 0 or 1 occurred\u201dWarning message:\n\u201cglm.fit: fitted probabilities numerically 0 or 1 occurred\u201dWarning message:\n\u201cglm.fit: fitted probabilities numerically 0 or 1 occurred\u201dWarning message:\n\u201cglm.fit: fitted probabilities numerically 0 or 1 occurred\u201dWarning message:\n\u201cglm.fit: fitted probabilities numerically 0 or 1 occurred\u201dWarning message:\n\u201cglm.fit: fitted probabilities numerically 0 or 1 occurred\u201d",
                    "name": "stderr"
                },
                {
                    "output_type": "stream",
                    "text": "       Df Deviance     AIC\n+ ACCR  1   87.051  93.051\n+ AQI   1   89.764  95.764\n+ GMI   1   90.880  96.880\n+ SGI   1   92.506  98.506\n+ DEPI  1   93.090  99.090\n<none>      96.237 100.237\n+ SGAI  1   94.863 100.863\n+ LEVI  1   95.745 101.745\n- DSRI  1  108.131 110.131\n",
                    "name": "stdout"
                },
                {
                    "output_type": "stream",
                    "text": "Warning message:\n\u201cglm.fit: fitted probabilities numerically 0 or 1 occurred\u201d",
                    "name": "stderr"
                },
                {
                    "output_type": "stream",
                    "text": "\nStep:  AIC=93.05\nManipulater ~ DSRI + ACCR\n\n",
                    "name": "stdout"
                },
                {
                    "output_type": "stream",
                    "text": "Warning message:\n\u201cglm.fit: fitted probabilities numerically 0 or 1 occurred\u201dWarning message:\n\u201cglm.fit: fitted probabilities numerically 0 or 1 occurred\u201dWarning message:\n\u201cglm.fit: fitted probabilities numerically 0 or 1 occurred\u201dWarning message:\n\u201cglm.fit: fitted probabilities numerically 0 or 1 occurred\u201dWarning message:\n\u201cglm.fit: fitted probabilities numerically 0 or 1 occurred\u201dWarning message:\n\u201cglm.fit: fitted probabilities numerically 0 or 1 occurred\u201dWarning message:\n\u201cglm.fit: fitted probabilities numerically 0 or 1 occurred\u201dWarning message:\n\u201cglm.fit: fitted probabilities numerically 0 or 1 occurred\u201d",
                    "name": "stderr"
                },
                {
                    "output_type": "stream",
                    "text": "       Df Deviance     AIC\n+ AQI   1   72.422  80.422\n+ GMI   1   80.783  88.783\n+ SGI   1   83.299  91.299\n<none>      87.051  93.051\n+ DEPI  1   85.872  93.872\n+ LEVI  1   86.121  94.121\n+ SGAI  1   86.787  94.787\n- ACCR  1   96.237 100.237\n- DSRI  1  103.871 107.871\n",
                    "name": "stdout"
                },
                {
                    "output_type": "stream",
                    "text": "Warning message:\n\u201cglm.fit: fitted probabilities numerically 0 or 1 occurred\u201d",
                    "name": "stderr"
                },
                {
                    "output_type": "stream",
                    "text": "\nStep:  AIC=80.42\nManipulater ~ DSRI + ACCR + AQI\n\n",
                    "name": "stdout"
                },
                {
                    "output_type": "stream",
                    "text": "Warning message:\n\u201cglm.fit: fitted probabilities numerically 0 or 1 occurred\u201dWarning message:\n\u201cglm.fit: fitted probabilities numerically 0 or 1 occurred\u201dWarning message:\n\u201cglm.fit: fitted probabilities numerically 0 or 1 occurred\u201dWarning message:\n\u201cglm.fit: fitted probabilities numerically 0 or 1 occurred\u201dWarning message:\n\u201cglm.fit: fitted probabilities numerically 0 or 1 occurred\u201dWarning message:\n\u201cglm.fit: fitted probabilities numerically 0 or 1 occurred\u201dWarning message:\n\u201cglm.fit: fitted probabilities numerically 0 or 1 occurred\u201dWarning message:\n\u201cglm.fit: fitted probabilities numerically 0 or 1 occurred\u201d",
                    "name": "stderr"
                },
                {
                    "output_type": "stream",
                    "text": "       Df Deviance     AIC\n+ GMI   1   63.442  73.442\n+ SGI   1   66.441  76.441\n<none>      72.422  80.422\n+ DEPI  1   72.098  82.098\n+ SGAI  1   72.321  82.321\n+ LEVI  1   72.401  82.401\n- AQI   1   87.051  93.051\n- ACCR  1   89.764  95.764\n- DSRI  1   96.038 102.038\n",
                    "name": "stdout"
                },
                {
                    "output_type": "stream",
                    "text": "Warning message:\n\u201cglm.fit: fitted probabilities numerically 0 or 1 occurred\u201d",
                    "name": "stderr"
                },
                {
                    "output_type": "stream",
                    "text": "\nStep:  AIC=73.44\nManipulater ~ DSRI + ACCR + AQI + GMI\n\n",
                    "name": "stdout"
                },
                {
                    "output_type": "stream",
                    "text": "Warning message:\n\u201cglm.fit: fitted probabilities numerically 0 or 1 occurred\u201dWarning message:\n\u201cglm.fit: fitted probabilities numerically 0 or 1 occurred\u201dWarning message:\n\u201cglm.fit: fitted probabilities numerically 0 or 1 occurred\u201dWarning message:\n\u201cglm.fit: fitted probabilities numerically 0 or 1 occurred\u201dWarning message:\n\u201cglm.fit: fitted probabilities numerically 0 or 1 occurred\u201dWarning message:\n\u201cglm.fit: fitted probabilities numerically 0 or 1 occurred\u201dWarning message:\n\u201cglm.fit: fitted probabilities numerically 0 or 1 occurred\u201dWarning message:\n\u201cglm.fit: fitted probabilities numerically 0 or 1 occurred\u201d",
                    "name": "stderr"
                },
                {
                    "output_type": "stream",
                    "text": "       Df Deviance     AIC\n+ SGI   1   51.097  63.097\n<none>      63.442  73.442\n+ SGAI  1   63.023  75.023\n+ DEPI  1   63.039  75.039\n+ LEVI  1   63.296  75.296\n- GMI   1   72.422  80.422\n- AQI   1   80.783  88.783\n- ACCR  1   81.753  89.753\n- DSRI  1   92.700 100.700\n",
                    "name": "stdout"
                },
                {
                    "output_type": "stream",
                    "text": "Warning message:\n\u201cglm.fit: fitted probabilities numerically 0 or 1 occurred\u201d",
                    "name": "stderr"
                },
                {
                    "output_type": "stream",
                    "text": "\nStep:  AIC=63.1\nManipulater ~ DSRI + ACCR + AQI + GMI + SGI\n\n",
                    "name": "stdout"
                },
                {
                    "output_type": "stream",
                    "text": "Warning message:\n\u201cglm.fit: fitted probabilities numerically 0 or 1 occurred\u201dWarning message:\n\u201cglm.fit: fitted probabilities numerically 0 or 1 occurred\u201dWarning message:\n\u201cglm.fit: fitted probabilities numerically 0 or 1 occurred\u201dWarning message:\n\u201cglm.fit: fitted probabilities numerically 0 or 1 occurred\u201dWarning message:\n\u201cglm.fit: fitted probabilities numerically 0 or 1 occurred\u201dWarning message:\n\u201cglm.fit: fitted probabilities numerically 0 or 1 occurred\u201dWarning message:\n\u201cglm.fit: fitted probabilities numerically 0 or 1 occurred\u201dWarning message:\n\u201cglm.fit: fitted probabilities numerically 0 or 1 occurred\u201d",
                    "name": "stderr"
                },
                {
                    "output_type": "stream",
                    "text": "       Df Deviance    AIC\n<none>      51.097 63.097\n+ LEVI  1   49.461 63.461\n+ SGAI  1   50.616 64.616\n+ DEPI  1   51.081 65.081\n- SGI   1   63.442 73.442\n- GMI   1   66.441 76.441\n- ACCR  1   67.468 77.468\n- AQI   1   75.122 85.122\n- DSRI  1   89.939 99.939\n",
                    "name": "stdout"
                },
                {
                    "output_type": "stream",
                    "text": "Warning message:\n\u201cglm.fit: fitted probabilities numerically 0 or 1 occurred\u201d",
                    "name": "stderr"
                },
                {
                    "output_type": "stream",
                    "text": "Start:  AIC=110.13\nManipulater ~ 1\n\n",
                    "name": "stdout"
                },
                {
                    "output_type": "stream",
                    "text": "Warning message:\n\u201cglm.fit: fitted probabilities numerically 0 or 1 occurred\u201d",
                    "name": "stderr"
                },
                {
                    "output_type": "stream",
                    "text": "       Df Deviance     AIC\n+ DSRI  1   94.883  98.883\n+ ACCR  1  101.072 105.072\n+ SGI   1  103.060 107.060\n+ AQI   1  104.553 108.553\n+ SGAI  1  105.344 109.344\n<none>     108.131 110.131\n+ LEVI  1  106.256 110.256\n+ GMI   1  106.766 110.766\n+ DEPI  1  107.914 111.914\n",
                    "name": "stdout"
                },
                {
                    "output_type": "stream",
                    "text": "Warning message:\n\u201cglm.fit: fitted probabilities numerically 0 or 1 occurred\u201d",
                    "name": "stderr"
                },
                {
                    "output_type": "stream",
                    "text": "\nStep:  AIC=98.88\nManipulater ~ DSRI\n\n",
                    "name": "stdout"
                },
                {
                    "output_type": "stream",
                    "text": "Warning message:\n\u201cglm.fit: fitted probabilities numerically 0 or 1 occurred\u201dWarning message:\n\u201cglm.fit: fitted probabilities numerically 0 or 1 occurred\u201dWarning message:\n\u201cglm.fit: fitted probabilities numerically 0 or 1 occurred\u201dWarning message:\n\u201cglm.fit: fitted probabilities numerically 0 or 1 occurred\u201dWarning message:\n\u201cglm.fit: fitted probabilities numerically 0 or 1 occurred\u201dWarning message:\n\u201cglm.fit: fitted probabilities numerically 0 or 1 occurred\u201dWarning message:\n\u201cglm.fit: fitted probabilities numerically 0 or 1 occurred\u201dWarning message:\n\u201cglm.fit: fitted probabilities numerically 0 or 1 occurred\u201d",
                    "name": "stderr"
                },
                {
                    "output_type": "stream",
                    "text": "       Df Deviance     AIC\n+ SGI   1   80.223  86.223\n+ ACCR  1   83.263  89.263\n+ AQI   1   90.223  96.223\n+ GMI   1   90.616  96.616\n<none>      94.883  98.883\n+ DEPI  1   94.029 100.029\n+ LEVI  1   94.256 100.256\n+ SGAI  1   94.432 100.432\n- DSRI  1  108.131 110.131\n",
                    "name": "stdout"
                },
                {
                    "output_type": "stream",
                    "text": "Warning message:\n\u201cglm.fit: fitted probabilities numerically 0 or 1 occurred\u201d",
                    "name": "stderr"
                },
                {
                    "output_type": "stream",
                    "text": "\nStep:  AIC=86.22\nManipulater ~ DSRI + SGI\n\n",
                    "name": "stdout"
                },
                {
                    "output_type": "stream",
                    "text": "Warning message:\n\u201cglm.fit: fitted probabilities numerically 0 or 1 occurred\u201dWarning message:\n\u201cglm.fit: fitted probabilities numerically 0 or 1 occurred\u201dWarning message:\n\u201cglm.fit: fitted probabilities numerically 0 or 1 occurred\u201dWarning message:\n\u201cglm.fit: fitted probabilities numerically 0 or 1 occurred\u201dWarning message:\n\u201cglm.fit: fitted probabilities numerically 0 or 1 occurred\u201dWarning message:\n\u201cglm.fit: fitted probabilities numerically 0 or 1 occurred\u201dWarning message:\n\u201cglm.fit: fitted probabilities numerically 0 or 1 occurred\u201dWarning message:\n\u201cglm.fit: fitted probabilities numerically 0 or 1 occurred\u201d",
                    "name": "stderr"
                },
                {
                    "output_type": "stream",
                    "text": "       Df Deviance     AIC\n+ AQI   1   62.028  70.028\n+ ACCR  1   71.904  79.904\n<none>      80.223  86.223\n+ GMI   1   78.262  86.262\n+ SGAI  1   80.064  88.064\n+ LEVI  1   80.096  88.096\n+ DEPI  1   80.204  88.204\n- SGI   1   94.883  98.883\n- DSRI  1  103.060 107.060\n",
                    "name": "stdout"
                },
                {
                    "output_type": "stream",
                    "text": "Warning message:\n\u201cglm.fit: fitted probabilities numerically 0 or 1 occurred\u201d",
                    "name": "stderr"
                },
                {
                    "output_type": "stream",
                    "text": "\nStep:  AIC=70.03\nManipulater ~ DSRI + SGI + AQI\n\n",
                    "name": "stdout"
                },
                {
                    "output_type": "stream",
                    "text": "Warning message:\n\u201cglm.fit: fitted probabilities numerically 0 or 1 occurred\u201dWarning message:\n\u201cglm.fit: fitted probabilities numerically 0 or 1 occurred\u201dWarning message:\n\u201cglm.fit: fitted probabilities numerically 0 or 1 occurred\u201dWarning message:\n\u201cglm.fit: fitted probabilities numerically 0 or 1 occurred\u201dWarning message:\n\u201cglm.fit: fitted probabilities numerically 0 or 1 occurred\u201dWarning message:\n\u201cglm.fit: fitted probabilities numerically 0 or 1 occurred\u201dWarning message:\n\u201cglm.fit: fitted probabilities numerically 0 or 1 occurred\u201dWarning message:\n\u201cglm.fit: fitted probabilities numerically 0 or 1 occurred\u201d",
                    "name": "stderr"
                },
                {
                    "output_type": "stream",
                    "text": "       Df Deviance     AIC\n+ ACCR  1   37.214  47.214\n+ GMI   1   57.729  67.729\n+ LEVI  1   58.209  68.209\n<none>      62.028  70.028\n+ DEPI  1   60.137  70.137\n+ SGAI  1   62.020  72.020\n- AQI   1   80.223  86.223\n- SGI   1   90.223  96.223\n- DSRI  1   97.841 103.841\n",
                    "name": "stdout"
                },
                {
                    "output_type": "stream",
                    "text": "Warning message:\n\u201cglm.fit: fitted probabilities numerically 0 or 1 occurred\u201d",
                    "name": "stderr"
                },
                {
                    "output_type": "stream",
                    "text": "\nStep:  AIC=47.21\nManipulater ~ DSRI + SGI + AQI + ACCR\n\n",
                    "name": "stdout"
                },
                {
                    "output_type": "stream",
                    "text": "Warning message:\n\u201cglm.fit: fitted probabilities numerically 0 or 1 occurred\u201dWarning message:\n\u201cglm.fit: fitted probabilities numerically 0 or 1 occurred\u201dWarning message:\n\u201cglm.fit: fitted probabilities numerically 0 or 1 occurred\u201dWarning message:\n\u201cglm.fit: fitted probabilities numerically 0 or 1 occurred\u201dWarning message:\n\u201cglm.fit: fitted probabilities numerically 0 or 1 occurred\u201dWarning message:\n\u201cglm.fit: fitted probabilities numerically 0 or 1 occurred\u201dWarning message:\n\u201cglm.fit: fitted probabilities numerically 0 or 1 occurred\u201dWarning message:\n\u201cglm.fit: fitted probabilities numerically 0 or 1 occurred\u201d",
                    "name": "stderr"
                },
                {
                    "output_type": "stream",
                    "text": "       Df Deviance    AIC\n+ GMI   1   31.212 43.212\n+ DEPI  1   34.841 46.841\n<none>      37.214 47.214\n+ LEVI  1   35.655 47.655\n+ SGAI  1   36.961 48.961\n- ACCR  1   62.028 70.028\n- SGI   1   70.474 78.474\n- AQI   1   71.904 79.904\n- DSRI  1   90.160 98.160\n",
                    "name": "stdout"
                },
                {
                    "output_type": "stream",
                    "text": "Warning message:\n\u201cglm.fit: fitted probabilities numerically 0 or 1 occurred\u201d",
                    "name": "stderr"
                },
                {
                    "output_type": "stream",
                    "text": "\nStep:  AIC=43.21\nManipulater ~ DSRI + SGI + AQI + ACCR + GMI\n\n",
                    "name": "stdout"
                },
                {
                    "output_type": "stream",
                    "text": "Warning message:\n\u201cglm.fit: fitted probabilities numerically 0 or 1 occurred\u201dWarning message:\n\u201cglm.fit: fitted probabilities numerically 0 or 1 occurred\u201dWarning message:\n\u201cglm.fit: fitted probabilities numerically 0 or 1 occurred\u201dWarning message:\n\u201cglm.fit: fitted probabilities numerically 0 or 1 occurred\u201dWarning message:\n\u201cglm.fit: fitted probabilities numerically 0 or 1 occurred\u201dWarning message:\n\u201cglm.fit: fitted probabilities numerically 0 or 1 occurred\u201dWarning message:\n\u201cglm.fit: fitted probabilities numerically 0 or 1 occurred\u201dWarning message:\n\u201cglm.fit: fitted probabilities numerically 0 or 1 occurred\u201d",
                    "name": "stderr"
                },
                {
                    "output_type": "stream",
                    "text": "       Df Deviance    AIC\n<none>      31.212 43.212\n+ DEPI  1   29.344 43.344\n+ LEVI  1   29.939 43.939\n+ SGAI  1   31.182 45.182\n- GMI   1   37.214 47.214\n- SGI   1   56.689 66.689\n- ACCR  1   57.729 67.729\n- AQI   1   69.689 79.689\n- DSRI  1   88.925 98.925\n",
                    "name": "stdout"
                },
                {
                    "output_type": "stream",
                    "text": "Warning message:\n\u201cglm.fit: fitted probabilities numerically 0 or 1 occurred\u201d",
                    "name": "stderr"
                },
                {
                    "output_type": "stream",
                    "text": "Start:  AIC=110.13\nManipulater ~ 1\n\n       Df Deviance    AIC\n+ DSRI  1   99.179 103.18\n+ SGAI  1  102.642 106.64\n+ SGI   1  102.988 106.99\n+ ACCR  1  103.845 107.84\n+ AQI   1  103.982 107.98\n+ GMI   1  104.571 108.57\n<none>     108.131 110.13\n+ DEPI  1  107.012 111.01\n+ LEVI  1  107.022 111.02\n\nStep:  AIC=103.18\nManipulater ~ DSRI\n\n",
                    "name": "stdout"
                },
                {
                    "output_type": "stream",
                    "text": "Warning message:\n\u201cglm.fit: fitted probabilities numerically 0 or 1 occurred\u201dWarning message:\n\u201cglm.fit: fitted probabilities numerically 0 or 1 occurred\u201dWarning message:\n\u201cglm.fit: fitted probabilities numerically 0 or 1 occurred\u201d",
                    "name": "stderr"
                },
                {
                    "output_type": "stream",
                    "text": "       Df Deviance     AIC\n+ SGI   1   85.819  91.819\n+ ACCR  1   91.474  97.474\n+ GMI   1   92.235  98.235\n+ AQI   1   94.465 100.465\n+ SGAI  1   96.510 102.510\n<none>      99.179 103.179\n+ DEPI  1   98.194 104.194\n+ LEVI  1   99.049 105.049\n- DSRI  1  108.131 110.131\n",
                    "name": "stdout"
                },
                {
                    "output_type": "stream",
                    "text": "Warning message:\n\u201cglm.fit: fitted probabilities numerically 0 or 1 occurred\u201d",
                    "name": "stderr"
                },
                {
                    "output_type": "stream",
                    "text": "\nStep:  AIC=91.82\nManipulater ~ DSRI + SGI\n\n",
                    "name": "stdout"
                },
                {
                    "output_type": "stream",
                    "text": "Warning message:\n\u201cglm.fit: fitted probabilities numerically 0 or 1 occurred\u201dWarning message:\n\u201cglm.fit: fitted probabilities numerically 0 or 1 occurred\u201dWarning message:\n\u201cglm.fit: fitted probabilities numerically 0 or 1 occurred\u201dWarning message:\n\u201cglm.fit: fitted probabilities numerically 0 or 1 occurred\u201dWarning message:\n\u201cglm.fit: fitted probabilities numerically 0 or 1 occurred\u201dWarning message:\n\u201cglm.fit: fitted probabilities numerically 0 or 1 occurred\u201dWarning message:\n\u201cglm.fit: fitted probabilities numerically 0 or 1 occurred\u201d",
                    "name": "stderr"
                },
                {
                    "output_type": "stream",
                    "text": "       Df Deviance     AIC\n+ AQI   1   75.198  83.198\n+ ACCR  1   78.995  86.995\n+ GMI   1   81.756  89.756\n+ SGAI  1   82.476  90.476\n<none>      85.819  91.819\n+ LEVI  1   85.521  93.521\n+ DEPI  1   85.748  93.748\n- SGI   1   99.179 103.179\n- DSRI  1  102.988 106.988\n",
                    "name": "stdout"
                },
                {
                    "output_type": "stream",
                    "text": "Warning message:\n\u201cglm.fit: fitted probabilities numerically 0 or 1 occurred\u201d",
                    "name": "stderr"
                },
                {
                    "output_type": "stream",
                    "text": "\nStep:  AIC=83.2\nManipulater ~ DSRI + SGI + AQI\n\n",
                    "name": "stdout"
                },
                {
                    "output_type": "stream",
                    "text": "Warning message:\n\u201cglm.fit: fitted probabilities numerically 0 or 1 occurred\u201dWarning message:\n\u201cglm.fit: fitted probabilities numerically 0 or 1 occurred\u201dWarning message:\n\u201cglm.fit: fitted probabilities numerically 0 or 1 occurred\u201dWarning message:\n\u201cglm.fit: fitted probabilities numerically 0 or 1 occurred\u201dWarning message:\n\u201cglm.fit: fitted probabilities numerically 0 or 1 occurred\u201dWarning message:\n\u201cglm.fit: fitted probabilities numerically 0 or 1 occurred\u201dWarning message:\n\u201cglm.fit: fitted probabilities numerically 0 or 1 occurred\u201d",
                    "name": "stderr"
                },
                {
                    "output_type": "stream",
                    "text": "       Df Deviance     AIC\n+ ACCR  1   62.121  72.121\n+ GMI   1   68.325  78.325\n+ LEVI  1   72.118  82.118\n+ DEPI  1   72.833  82.833\n<none>      75.198  83.198\n+ SGAI  1   73.548  83.548\n- AQI   1   85.819  91.819\n- SGI   1   94.465 100.465\n- DSRI  1   97.534 103.534\n",
                    "name": "stdout"
                },
                {
                    "output_type": "stream",
                    "text": "Warning message:\n\u201cglm.fit: fitted probabilities numerically 0 or 1 occurred\u201d",
                    "name": "stderr"
                },
                {
                    "output_type": "stream",
                    "text": "\nStep:  AIC=72.12\nManipulater ~ DSRI + SGI + AQI + ACCR\n\n",
                    "name": "stdout"
                },
                {
                    "output_type": "stream",
                    "text": "Warning message:\n\u201cglm.fit: fitted probabilities numerically 0 or 1 occurred\u201dWarning message:\n\u201cglm.fit: fitted probabilities numerically 0 or 1 occurred\u201dWarning message:\n\u201cglm.fit: fitted probabilities numerically 0 or 1 occurred\u201dWarning message:\n\u201cglm.fit: fitted probabilities numerically 0 or 1 occurred\u201dWarning message:\n\u201cglm.fit: fitted probabilities numerically 0 or 1 occurred\u201dWarning message:\n\u201cglm.fit: fitted probabilities numerically 0 or 1 occurred\u201dWarning message:\n\u201cglm.fit: fitted probabilities numerically 0 or 1 occurred\u201d",
                    "name": "stderr"
                },
                {
                    "output_type": "stream",
                    "text": "       Df Deviance     AIC\n+ GMI   1   47.183  59.183\n+ DEPI  1   58.881  70.881\n<none>      62.121  72.121\n+ LEVI  1   60.340  72.340\n+ SGAI  1   62.095  74.095\n- ACCR  1   75.198  83.198\n- AQI   1   78.995  86.995\n- SGI   1   82.833  90.833\n- DSRI  1   92.128 100.128\n",
                    "name": "stdout"
                },
                {
                    "output_type": "stream",
                    "text": "Warning message:\n\u201cglm.fit: fitted probabilities numerically 0 or 1 occurred\u201d",
                    "name": "stderr"
                },
                {
                    "output_type": "stream",
                    "text": "\nStep:  AIC=59.18\nManipulater ~ DSRI + SGI + AQI + ACCR + GMI\n\n",
                    "name": "stdout"
                },
                {
                    "output_type": "stream",
                    "text": "Warning message:\n\u201cglm.fit: fitted probabilities numerically 0 or 1 occurred\u201dWarning message:\n\u201cglm.fit: fitted probabilities numerically 0 or 1 occurred\u201dWarning message:\n\u201cglm.fit: fitted probabilities numerically 0 or 1 occurred\u201dWarning message:\n\u201cglm.fit: fitted probabilities numerically 0 or 1 occurred\u201dWarning message:\n\u201cglm.fit: fitted probabilities numerically 0 or 1 occurred\u201dWarning message:\n\u201cglm.fit: fitted probabilities numerically 0 or 1 occurred\u201dWarning message:\n\u201cglm.fit: fitted probabilities numerically 0 or 1 occurred\u201dWarning message:\n\u201cglm.fit: fitted probabilities numerically 0 or 1 occurred\u201dWarning message:\n\u201cglm.fit: fitted probabilities numerically 0 or 1 occurred\u201d",
                    "name": "stderr"
                },
                {
                    "output_type": "stream",
                    "text": "       Df Deviance    AIC\n<none>      47.183 59.183\n+ LEVI  1   46.178 60.178\n+ DEPI  1   46.375 60.375\n+ SGAI  1   46.487 60.487\n- GMI   1   62.121 72.121\n- SGI   1   64.253 74.253\n- ACCR  1   68.325 78.325\n- AQI   1   72.143 82.143\n- DSRI  1   87.933 97.933\n",
                    "name": "stdout"
                },
                {
                    "output_type": "stream",
                    "text": "Warning message:\n\u201cglm.fit: fitted probabilities numerically 0 or 1 occurred\u201d",
                    "name": "stderr"
                },
                {
                    "output_type": "stream",
                    "text": "Start:  AIC=110.13\nManipulater ~ 1\n\n       Df Deviance    AIC\n+ DSRI  1   100.39 104.39\n+ SGAI  1   102.30 106.30\n+ ACCR  1   103.56 107.56\n+ SGI   1   104.70 108.70\n<none>      108.13 110.13\n+ AQI   1   106.38 110.38\n+ GMI   1   106.88 110.88\n+ LEVI  1   106.97 110.97\n+ DEPI  1   107.08 111.08\n\nStep:  AIC=104.39\nManipulater ~ DSRI\n\n",
                    "name": "stdout"
                },
                {
                    "output_type": "stream",
                    "text": "Warning message:\n\u201cglm.fit: fitted probabilities numerically 0 or 1 occurred\u201d",
                    "name": "stderr"
                },
                {
                    "output_type": "stream",
                    "text": "       Df Deviance     AIC\n+ SGI   1   91.730  97.730\n+ ACCR  1   92.017  98.017\n+ SGAI  1   97.373 103.373\n+ AQI   1   97.916 103.916\n+ GMI   1   98.046 104.046\n<none>     100.393 104.393\n+ DEPI  1   99.406 105.406\n+ LEVI  1  100.194 106.194\n- DSRI  1  108.131 110.131\n\nStep:  AIC=97.73\nManipulater ~ DSRI + SGI\n\n",
                    "name": "stdout"
                },
                {
                    "output_type": "stream",
                    "text": "Warning message:\n\u201cglm.fit: fitted probabilities numerically 0 or 1 occurred\u201dWarning message:\n\u201cglm.fit: fitted probabilities numerically 0 or 1 occurred\u201dWarning message:\n\u201cglm.fit: fitted probabilities numerically 0 or 1 occurred\u201d",
                    "name": "stderr"
                },
                {
                    "output_type": "stream",
                    "text": "       Df Deviance     AIC\n+ ACCR  1   83.145  91.145\n+ AQI   1   85.370  93.370\n+ SGAI  1   88.768  96.768\n<none>      91.730  97.730\n+ GMI   1   90.534  98.534\n+ LEVI  1   91.572  99.572\n+ DEPI  1   91.631  99.631\n- SGI   1  100.393 104.393\n- DSRI  1  104.699 108.699\n",
                    "name": "stdout"
                },
                {
                    "output_type": "stream",
                    "text": "Warning message:\n\u201cglm.fit: fitted probabilities numerically 0 or 1 occurred\u201d",
                    "name": "stderr"
                },
                {
                    "output_type": "stream",
                    "text": "\nStep:  AIC=91.14\nManipulater ~ DSRI + SGI + ACCR\n\n",
                    "name": "stdout"
                },
                {
                    "output_type": "stream",
                    "text": "Warning message:\n\u201cglm.fit: fitted probabilities numerically 0 or 1 occurred\u201dWarning message:\n\u201cglm.fit: fitted probabilities numerically 0 or 1 occurred\u201dWarning message:\n\u201cglm.fit: fitted probabilities numerically 0 or 1 occurred\u201dWarning message:\n\u201cglm.fit: fitted probabilities numerically 0 or 1 occurred\u201dWarning message:\n\u201cglm.fit: fitted probabilities numerically 0 or 1 occurred\u201dWarning message:\n\u201cglm.fit: fitted probabilities numerically 0 or 1 occurred\u201d",
                    "name": "stderr"
                },
                {
                    "output_type": "stream",
                    "text": "       Df Deviance     AIC\n+ AQI   1   69.239  79.239\n+ GMI   1   81.006  91.006\n<none>      83.145  91.145\n+ SGAI  1   81.841  91.841\n+ DEPI  1   82.736  92.736\n+ LEVI  1   83.007  93.007\n- ACCR  1   91.730  97.730\n- SGI   1   92.017  98.017\n- DSRI  1  100.605 106.605\n",
                    "name": "stdout"
                },
                {
                    "output_type": "stream",
                    "text": "Warning message:\n\u201cglm.fit: fitted probabilities numerically 0 or 1 occurred\u201d",
                    "name": "stderr"
                },
                {
                    "output_type": "stream",
                    "text": "\nStep:  AIC=79.24\nManipulater ~ DSRI + SGI + ACCR + AQI\n\n",
                    "name": "stdout"
                },
                {
                    "output_type": "stream",
                    "text": "Warning message:\n\u201cglm.fit: fitted probabilities numerically 0 or 1 occurred\u201dWarning message:\n\u201cglm.fit: fitted probabilities numerically 0 or 1 occurred\u201dWarning message:\n\u201cglm.fit: fitted probabilities numerically 0 or 1 occurred\u201dWarning message:\n\u201cglm.fit: fitted probabilities numerically 0 or 1 occurred\u201dWarning message:\n\u201cglm.fit: fitted probabilities numerically 0 or 1 occurred\u201dWarning message:\n\u201cglm.fit: fitted probabilities numerically 0 or 1 occurred\u201dWarning message:\n\u201cglm.fit: fitted probabilities numerically 0 or 1 occurred\u201d",
                    "name": "stderr"
                },
                {
                    "output_type": "stream",
                    "text": "       Df Deviance     AIC\n+ GMI   1   63.683  75.683\n<none>      69.239  79.239\n+ LEVI  1   68.370  80.370\n+ DEPI  1   69.155  81.155\n+ SGAI  1   69.224  81.224\n- AQI   1   83.145  91.145\n- ACCR  1   85.370  93.370\n- SGI   1   85.695  93.695\n- DSRI  1   96.280 104.280\n",
                    "name": "stdout"
                },
                {
                    "output_type": "stream",
                    "text": "Warning message:\n\u201cglm.fit: fitted probabilities numerically 0 or 1 occurred\u201d",
                    "name": "stderr"
                },
                {
                    "output_type": "stream",
                    "text": "\nStep:  AIC=75.68\nManipulater ~ DSRI + SGI + ACCR + AQI + GMI\n\n",
                    "name": "stdout"
                },
                {
                    "output_type": "stream",
                    "text": "Warning message:\n\u201cglm.fit: fitted probabilities numerically 0 or 1 occurred\u201dWarning message:\n\u201cglm.fit: fitted probabilities numerically 0 or 1 occurred\u201dWarning message:\n\u201cglm.fit: fitted probabilities numerically 0 or 1 occurred\u201dWarning message:\n\u201cglm.fit: fitted probabilities numerically 0 or 1 occurred\u201dWarning message:\n\u201cglm.fit: fitted probabilities numerically 0 or 1 occurred\u201dWarning message:\n\u201cglm.fit: fitted probabilities numerically 0 or 1 occurred\u201dWarning message:\n\u201cglm.fit: fitted probabilities numerically 0 or 1 occurred\u201dWarning message:\n\u201cglm.fit: fitted probabilities numerically 0 or 1 occurred\u201d",
                    "name": "stderr"
                },
                {
                    "output_type": "stream",
                    "text": "       Df Deviance     AIC\n<none>      63.683  75.683\n+ SGAI  1   63.063  77.063\n+ LEVI  1   63.111  77.111\n+ DEPI  1   63.678  77.678\n- GMI   1   69.239  79.239\n- SGI   1   78.255  88.255\n- AQI   1   81.006  91.006\n- ACCR  1   84.091  94.091\n- DSRI  1   95.163 105.163\n",
                    "name": "stdout"
                },
                {
                    "output_type": "stream",
                    "text": "Warning message:\n\u201cglm.fit: fitted probabilities numerically 0 or 1 occurred\u201d",
                    "name": "stderr"
                },
                {
                    "output_type": "stream",
                    "text": "Start:  AIC=110.13\nManipulater ~ 1\n\n       Df Deviance    AIC\n+ DSRI  1   97.806 101.81\n+ ACCR  1   98.264 102.26\n+ SGAI  1  104.126 108.13\n+ AQI   1  104.312 108.31\n+ SGI   1  104.557 108.56\n+ LEVI  1  106.094 110.09\n<none>     108.131 110.13\n+ GMI   1  106.790 110.79\n+ DEPI  1  108.007 112.01\n\nStep:  AIC=101.81\nManipulater ~ DSRI\n\n",
                    "name": "stdout"
                },
                {
                    "output_type": "stream",
                    "text": "Warning message:\n\u201cglm.fit: fitted probabilities numerically 0 or 1 occurred\u201dWarning message:\n\u201cglm.fit: fitted probabilities numerically 0 or 1 occurred\u201dWarning message:\n\u201cglm.fit: fitted probabilities numerically 0 or 1 occurred\u201dWarning message:\n\u201cglm.fit: fitted probabilities numerically 0 or 1 occurred\u201dWarning message:\n\u201cglm.fit: fitted probabilities numerically 0 or 1 occurred\u201d",
                    "name": "stderr"
                },
                {
                    "output_type": "stream",
                    "text": "       Df Deviance     AIC\n+ ACCR  1   81.783  87.783\n+ SGI   1   89.489  95.489\n+ AQI   1   92.935  98.935\n+ GMI   1   94.681 100.681\n<none>      97.806 101.806\n+ SGAI  1   96.242 102.242\n+ LEVI  1   97.020 103.020\n+ DEPI  1   97.799 103.799\n- DSRI  1  108.131 110.131\n",
                    "name": "stdout"
                },
                {
                    "output_type": "stream",
                    "text": "Warning message:\n\u201cglm.fit: fitted probabilities numerically 0 or 1 occurred\u201d",
                    "name": "stderr"
                },
                {
                    "output_type": "stream",
                    "text": "\nStep:  AIC=87.78\nManipulater ~ DSRI + ACCR\n\n",
                    "name": "stdout"
                },
                {
                    "output_type": "stream",
                    "text": "Warning message:\n\u201cglm.fit: fitted probabilities numerically 0 or 1 occurred\u201dWarning message:\n\u201cglm.fit: fitted probabilities numerically 0 or 1 occurred\u201dWarning message:\n\u201cglm.fit: fitted probabilities numerically 0 or 1 occurred\u201dWarning message:\n\u201cglm.fit: fitted probabilities numerically 0 or 1 occurred\u201dWarning message:\n\u201cglm.fit: fitted probabilities numerically 0 or 1 occurred\u201dWarning message:\n\u201cglm.fit: fitted probabilities numerically 0 or 1 occurred\u201dWarning message:\n\u201cglm.fit: fitted probabilities numerically 0 or 1 occurred\u201d",
                    "name": "stderr"
                },
                {
                    "output_type": "stream",
                    "text": "       Df Deviance     AIC\n+ AQI   1   70.150  78.150\n+ GMI   1   74.911  82.911\n+ SGI   1   76.380  84.380\n+ LEVI  1   79.728  87.728\n<none>      81.783  87.783\n+ DEPI  1   81.456  89.456\n+ SGAI  1   81.478  89.478\n- ACCR  1   97.806 101.806\n- DSRI  1   98.264 102.264\n",
                    "name": "stdout"
                },
                {
                    "output_type": "stream",
                    "text": "Warning message:\n\u201cglm.fit: fitted probabilities numerically 0 or 1 occurred\u201d",
                    "name": "stderr"
                },
                {
                    "output_type": "stream",
                    "text": "\nStep:  AIC=78.15\nManipulater ~ DSRI + ACCR + AQI\n\n",
                    "name": "stdout"
                },
                {
                    "output_type": "stream",
                    "text": "Warning message:\n\u201cglm.fit: fitted probabilities numerically 0 or 1 occurred\u201dWarning message:\n\u201cglm.fit: fitted probabilities numerically 0 or 1 occurred\u201dWarning message:\n\u201cglm.fit: fitted probabilities numerically 0 or 1 occurred\u201dWarning message:\n\u201cglm.fit: fitted probabilities numerically 0 or 1 occurred\u201dWarning message:\n\u201cglm.fit: fitted probabilities numerically 0 or 1 occurred\u201dWarning message:\n\u201cglm.fit: fitted probabilities numerically 0 or 1 occurred\u201dWarning message:\n\u201cglm.fit: fitted probabilities numerically 0 or 1 occurred\u201dWarning message:\n\u201cglm.fit: fitted probabilities numerically 0 or 1 occurred\u201d",
                    "name": "stderr"
                },
                {
                    "output_type": "stream",
                    "text": "       Df Deviance     AIC\n+ SGI   1    56.95   66.95\n<none>       70.15   78.15\n+ LEVI  1    70.01   80.01\n+ DEPI  1    70.12   80.12\n+ SGAI  1    70.13   80.13\n- AQI   1    81.78   87.78\n- DSRI  1    90.96   96.96\n- ACCR  1    92.93   98.93\n+ GMI   1  1585.92 1595.92\n",
                    "name": "stdout"
                },
                {
                    "output_type": "stream",
                    "text": "Warning message:\n\u201cglm.fit: fitted probabilities numerically 0 or 1 occurred\u201d",
                    "name": "stderr"
                },
                {
                    "output_type": "stream",
                    "text": "\nStep:  AIC=66.95\nManipulater ~ DSRI + ACCR + AQI + SGI\n\n",
                    "name": "stdout"
                },
                {
                    "output_type": "stream",
                    "text": "Warning message:\n\u201cglm.fit: fitted probabilities numerically 0 or 1 occurred\u201dWarning message:\n\u201cglm.fit: fitted probabilities numerically 0 or 1 occurred\u201dWarning message:\n\u201cglm.fit: fitted probabilities numerically 0 or 1 occurred\u201dWarning message:\n\u201cglm.fit: fitted probabilities numerically 0 or 1 occurred\u201dWarning message:\n\u201cglm.fit: fitted probabilities numerically 0 or 1 occurred\u201dWarning message:\n\u201cglm.fit: fitted probabilities numerically 0 or 1 occurred\u201dWarning message:\n\u201cglm.fit: fitted probabilities numerically 0 or 1 occurred\u201dWarning message:\n\u201cglm.fit: fitted probabilities numerically 0 or 1 occurred\u201d",
                    "name": "stderr"
                },
                {
                    "output_type": "stream",
                    "text": "       Df Deviance     AIC\n+ DEPI  1    54.49   66.49\n<none>       56.95   66.95\n+ SGAI  1    56.37   68.37\n+ LEVI  1    56.84   68.84\n- SGI   1    70.15   78.15\n- AQI   1    76.38   84.38\n- ACCR  1    78.42   86.42\n- DSRI  1    87.52   95.52\n+ GMI   1  2090.53 2102.53\n",
                    "name": "stdout"
                },
                {
                    "output_type": "stream",
                    "text": "Warning message:\n\u201cglm.fit: fitted probabilities numerically 0 or 1 occurred\u201d",
                    "name": "stderr"
                },
                {
                    "output_type": "stream",
                    "text": "\nStep:  AIC=66.49\nManipulater ~ DSRI + ACCR + AQI + SGI + DEPI\n\n",
                    "name": "stdout"
                },
                {
                    "output_type": "stream",
                    "text": "Warning message:\n\u201cglm.fit: fitted probabilities numerically 0 or 1 occurred\u201dWarning message:\n\u201cglm.fit: fitted probabilities numerically 0 or 1 occurred\u201dWarning message:\n\u201cglm.fit: fitted probabilities numerically 0 or 1 occurred\u201dWarning message:\n\u201cglm.fit: fitted probabilities numerically 0 or 1 occurred\u201dWarning message:\n\u201cglm.fit: fitted probabilities numerically 0 or 1 occurred\u201dWarning message:\n\u201cglm.fit: fitted probabilities numerically 0 or 1 occurred\u201dWarning message:\n\u201cglm.fit: fitted probabilities numerically 0 or 1 occurred\u201dWarning message:\n\u201cglm.fit: fitted probabilities numerically 0 or 1 occurred\u201d",
                    "name": "stderr"
                },
                {
                    "output_type": "stream",
                    "text": "       Df Deviance    AIC\n+ GMI   1   36.661 50.661\n<none>      54.489 66.489\n- DEPI  1   56.946 66.946\n+ SGAI  1   54.037 68.037\n+ LEVI  1   54.478 68.478\n- SGI   1   70.120 80.120\n- ACCR  1   73.773 83.773\n- AQI   1   76.369 86.369\n- DSRI  1   87.442 97.442\n",
                    "name": "stdout"
                },
                {
                    "output_type": "stream",
                    "text": "Warning message:\n\u201cglm.fit: fitted probabilities numerically 0 or 1 occurred\u201d",
                    "name": "stderr"
                },
                {
                    "output_type": "stream",
                    "text": "\nStep:  AIC=50.66\nManipulater ~ DSRI + ACCR + AQI + SGI + DEPI + GMI\n\n",
                    "name": "stdout"
                },
                {
                    "output_type": "stream",
                    "text": "Warning message:\n\u201cglm.fit: fitted probabilities numerically 0 or 1 occurred\u201dWarning message:\n\u201cglm.fit: fitted probabilities numerically 0 or 1 occurred\u201dWarning message:\n\u201cglm.fit: fitted probabilities numerically 0 or 1 occurred\u201dWarning message:\n\u201cglm.fit: fitted probabilities numerically 0 or 1 occurred\u201dWarning message:\n\u201cglm.fit: fitted probabilities numerically 0 or 1 occurred\u201dWarning message:\n\u201cglm.fit: fitted probabilities numerically 0 or 1 occurred\u201dWarning message:\n\u201cglm.fit: fitted probabilities numerically 0 or 1 occurred\u201dWarning message:\n\u201cglm.fit: fitted probabilities numerically 0 or 1 occurred\u201dWarning message:\n\u201cglm.fit: fitted probabilities numerically 0 or 1 occurred\u201d",
                    "name": "stderr"
                },
                {
                    "output_type": "stream",
                    "text": "       Df Deviance     AIC\n<none>       36.66   50.66\n+ SGAI  1    35.40   51.40\n- GMI   1    54.49   66.49\n- ACCR  1    70.33   82.33\n- AQI   1    71.40   83.40\n- DSRI  1    85.40   97.40\n+ LEVI  1  1081.31 1097.31\n- SGI   1  1658.01 1670.01\n- DEPI  1  2090.53 2102.53\n",
                    "name": "stdout"
                },
                {
                    "output_type": "stream",
                    "text": "Warning message:\n\u201cglm.fit: fitted probabilities numerically 0 or 1 occurred\u201d",
                    "name": "stderr"
                },
                {
                    "output_type": "stream",
                    "text": "Start:  AIC=110.13\nManipulater ~ 1\n\n",
                    "name": "stdout"
                },
                {
                    "output_type": "stream",
                    "text": "Warning message:\n\u201cglm.fit: fitted probabilities numerically 0 or 1 occurred\u201d",
                    "name": "stderr"
                },
                {
                    "output_type": "stream",
                    "text": "       Df Deviance    AIC\n+ DSRI  1   96.533 100.53\n+ ACCR  1  102.111 106.11\n+ SGAI  1  104.187 108.19\n+ AQI   1  104.756 108.76\n+ SGI   1  105.061 109.06\n<none>     108.131 110.13\n+ LEVI  1  106.876 110.88\n+ GMI   1  106.959 110.96\n+ DEPI  1  107.898 111.90\n",
                    "name": "stdout"
                },
                {
                    "output_type": "stream",
                    "text": "Warning message:\n\u201cglm.fit: fitted probabilities numerically 0 or 1 occurred\u201d",
                    "name": "stderr"
                },
                {
                    "output_type": "stream",
                    "text": "\nStep:  AIC=100.53\nManipulater ~ DSRI\n\n",
                    "name": "stdout"
                },
                {
                    "output_type": "stream",
                    "text": "Warning message:\n\u201cglm.fit: fitted probabilities numerically 0 or 1 occurred\u201dWarning message:\n\u201cglm.fit: fitted probabilities numerically 0 or 1 occurred\u201dWarning message:\n\u201cglm.fit: fitted probabilities numerically 0 or 1 occurred\u201dWarning message:\n\u201cglm.fit: fitted probabilities numerically 0 or 1 occurred\u201dWarning message:\n\u201cglm.fit: fitted probabilities numerically 0 or 1 occurred\u201dWarning message:\n\u201cglm.fit: fitted probabilities numerically 0 or 1 occurred\u201dWarning message:\n\u201cglm.fit: fitted probabilities numerically 0 or 1 occurred\u201dWarning message:\n\u201cglm.fit: fitted probabilities numerically 0 or 1 occurred\u201d",
                    "name": "stderr"
                },
                {
                    "output_type": "stream",
                    "text": "       Df Deviance     AIC\n+ ACCR  1   85.037  91.037\n+ SGI   1   88.281  94.281\n+ AQI   1   91.843  97.843\n+ GMI   1   93.493  99.493\n<none>      96.533 100.533\n+ SGAI  1   95.139 101.139\n+ LEVI  1   96.286 102.286\n+ DEPI  1   96.449 102.449\n- DSRI  1  108.131 110.131\n",
                    "name": "stdout"
                },
                {
                    "output_type": "stream",
                    "text": "Warning message:\n\u201cglm.fit: fitted probabilities numerically 0 or 1 occurred\u201d",
                    "name": "stderr"
                },
                {
                    "output_type": "stream",
                    "text": "\nStep:  AIC=91.04\nManipulater ~ DSRI + ACCR\n\n",
                    "name": "stdout"
                },
                {
                    "output_type": "stream",
                    "text": "Warning message:\n\u201cglm.fit: fitted probabilities numerically 0 or 1 occurred\u201dWarning message:\n\u201cglm.fit: fitted probabilities numerically 0 or 1 occurred\u201dWarning message:\n\u201cglm.fit: fitted probabilities numerically 0 or 1 occurred\u201dWarning message:\n\u201cglm.fit: fitted probabilities numerically 0 or 1 occurred\u201dWarning message:\n\u201cglm.fit: fitted probabilities numerically 0 or 1 occurred\u201dWarning message:\n\u201cglm.fit: fitted probabilities numerically 0 or 1 occurred\u201dWarning message:\n\u201cglm.fit: fitted probabilities numerically 0 or 1 occurred\u201dWarning message:\n\u201cglm.fit: fitted probabilities numerically 0 or 1 occurred\u201d",
                    "name": "stderr"
                },
                {
                    "output_type": "stream",
                    "text": "       Df Deviance     AIC\n+ AQI   1   74.518  82.518\n+ SGI   1   78.347  86.347\n+ GMI   1   81.276  89.276\n<none>      85.037  91.037\n+ DEPI  1   84.158  92.158\n+ LEVI  1   84.377  92.377\n+ SGAI  1   84.723  92.723\n- ACCR  1   96.533 100.533\n- DSRI  1  102.111 106.111\n",
                    "name": "stdout"
                },
                {
                    "output_type": "stream",
                    "text": "Warning message:\n\u201cglm.fit: fitted probabilities numerically 0 or 1 occurred\u201d",
                    "name": "stderr"
                },
                {
                    "output_type": "stream",
                    "text": "\nStep:  AIC=82.52\nManipulater ~ DSRI + ACCR + AQI\n\n",
                    "name": "stdout"
                },
                {
                    "output_type": "stream",
                    "text": "Warning message:\n\u201cglm.fit: fitted probabilities numerically 0 or 1 occurred\u201dWarning message:\n\u201cglm.fit: fitted probabilities numerically 0 or 1 occurred\u201dWarning message:\n\u201cglm.fit: fitted probabilities numerically 0 or 1 occurred\u201dWarning message:\n\u201cglm.fit: fitted probabilities numerically 0 or 1 occurred\u201dWarning message:\n\u201cglm.fit: fitted probabilities numerically 0 or 1 occurred\u201dWarning message:\n\u201cglm.fit: fitted probabilities numerically 0 or 1 occurred\u201dWarning message:\n\u201cglm.fit: fitted probabilities numerically 0 or 1 occurred\u201dWarning message:\n\u201cglm.fit: fitted probabilities numerically 0 or 1 occurred\u201d",
                    "name": "stderr"
                },
                {
                    "output_type": "stream",
                    "text": "       Df Deviance     AIC\n+ SGI   1   59.396  69.396\n+ GMI   1   67.557  77.557\n<none>      74.518  82.518\n+ DEPI  1   73.951  83.951\n+ SGAI  1   74.511  84.511\n+ LEVI  1   74.516  84.516\n- AQI   1   85.037  91.037\n- ACCR  1   91.843  97.843\n- DSRI  1   96.209 102.209\n",
                    "name": "stdout"
                },
                {
                    "output_type": "stream",
                    "text": "Warning message:\n\u201cglm.fit: fitted probabilities numerically 0 or 1 occurred\u201d",
                    "name": "stderr"
                },
                {
                    "output_type": "stream",
                    "text": "\nStep:  AIC=69.4\nManipulater ~ DSRI + ACCR + AQI + SGI\n\n",
                    "name": "stdout"
                },
                {
                    "output_type": "stream",
                    "text": "Warning message:\n\u201cglm.fit: fitted probabilities numerically 0 or 1 occurred\u201dWarning message:\n\u201cglm.fit: fitted probabilities numerically 0 or 1 occurred\u201dWarning message:\n\u201cglm.fit: fitted probabilities numerically 0 or 1 occurred\u201dWarning message:\n\u201cglm.fit: fitted probabilities numerically 0 or 1 occurred\u201dWarning message:\n\u201cglm.fit: fitted probabilities numerically 0 or 1 occurred\u201dWarning message:\n\u201cglm.fit: fitted probabilities numerically 0 or 1 occurred\u201dWarning message:\n\u201cglm.fit: fitted probabilities numerically 0 or 1 occurred\u201dWarning message:\n\u201cglm.fit: fitted probabilities numerically 0 or 1 occurred\u201d",
                    "name": "stderr"
                },
                {
                    "output_type": "stream",
                    "text": "       Df Deviance     AIC\n+ GMI   1   54.144  66.144\n<none>      59.396  69.396\n+ LEVI  1   57.526  69.526\n+ SGAI  1   59.065  71.065\n+ DEPI  1   59.213  71.213\n- SGI   1   74.518  82.518\n- ACCR  1   77.544  85.544\n- AQI   1   78.347  86.347\n- DSRI  1   92.817 100.817\n",
                    "name": "stdout"
                },
                {
                    "output_type": "stream",
                    "text": "Warning message:\n\u201cglm.fit: fitted probabilities numerically 0 or 1 occurred\u201d",
                    "name": "stderr"
                },
                {
                    "output_type": "stream",
                    "text": "\nStep:  AIC=66.14\nManipulater ~ DSRI + ACCR + AQI + SGI + GMI\n\n",
                    "name": "stdout"
                },
                {
                    "output_type": "stream",
                    "text": "Warning message:\n\u201cglm.fit: fitted probabilities numerically 0 or 1 occurred\u201dWarning message:\n\u201cglm.fit: fitted probabilities numerically 0 or 1 occurred\u201dWarning message:\n\u201cglm.fit: fitted probabilities numerically 0 or 1 occurred\u201dWarning message:\n\u201cglm.fit: fitted probabilities numerically 0 or 1 occurred\u201dWarning message:\n\u201cglm.fit: fitted probabilities numerically 0 or 1 occurred\u201dWarning message:\n\u201cglm.fit: fitted probabilities numerically 0 or 1 occurred\u201dWarning message:\n\u201cglm.fit: fitted probabilities numerically 0 or 1 occurred\u201dWarning message:\n\u201cglm.fit: fitted probabilities numerically 0 or 1 occurred\u201d",
                    "name": "stderr"
                },
                {
                    "output_type": "stream",
                    "text": "       Df Deviance     AIC\n<none>      54.144  66.144\n+ LEVI  1   52.613  66.613\n+ SGAI  1   54.119  68.119\n+ DEPI  1   54.134  68.134\n- GMI   1   59.396  69.396\n- SGI   1   67.557  77.557\n- ACCR  1   74.533  84.533\n- AQI   1   75.897  85.897\n- DSRI  1   91.750 101.750\n",
                    "name": "stdout"
                },
                {
                    "output_type": "stream",
                    "text": "Warning message:\n\u201cglm.fit: fitted probabilities numerically 0 or 1 occurred\u201d",
                    "name": "stderr"
                },
                {
                    "output_type": "stream",
                    "text": "Start:  AIC=110.13\nManipulater ~ 1\n\n       Df Deviance    AIC\n+ DSRI  1   101.11 105.11\n+ ACCR  1   101.42 105.42\n+ SGAI  1   104.04 108.04\n+ SGI   1   104.29 108.29\n<none>      108.13 110.13\n+ GMI   1   106.64 110.64\n+ AQI   1   106.66 110.66\n+ LEVI  1   106.77 110.77\n+ DEPI  1   107.95 111.95\n\nStep:  AIC=105.11\nManipulater ~ DSRI\n\n",
                    "name": "stdout"
                },
                {
                    "output_type": "stream",
                    "text": "Warning message:\n\u201cglm.fit: fitted probabilities numerically 0 or 1 occurred\u201d",
                    "name": "stderr"
                },
                {
                    "output_type": "stream",
                    "text": "       Df Deviance     AIC\n+ ACCR  1   87.736  93.736\n+ SGI   1   92.441  98.441\n+ GMI   1   97.249 103.249\n+ AQI   1   98.836 104.836\n<none>     101.107 105.107\n+ SGAI  1   99.667 105.667\n+ LEVI  1  100.788 106.788\n+ DEPI  1  101.069 107.069\n- DSRI  1  108.131 110.131\n\nStep:  AIC=93.74\nManipulater ~ DSRI + ACCR\n\n",
                    "name": "stdout"
                },
                {
                    "output_type": "stream",
                    "text": "Warning message:\n\u201cglm.fit: fitted probabilities numerically 0 or 1 occurred\u201dWarning message:\n\u201cglm.fit: fitted probabilities numerically 0 or 1 occurred\u201dWarning message:\n\u201cglm.fit: fitted probabilities numerically 0 or 1 occurred\u201d",
                    "name": "stderr"
                },
                {
                    "output_type": "stream",
                    "text": "       Df Deviance     AIC\n+ AQI   1   79.993  87.993\n+ SGI   1   80.556  88.556\n+ GMI   1   81.201  89.201\n<none>      87.736  93.736\n+ LEVI  1   86.821  94.821\n+ DEPI  1   87.349  95.349\n+ SGAI  1   87.461  95.461\n- ACCR  1  101.107 105.107\n- DSRI  1  101.417 105.417\n",
                    "name": "stdout"
                },
                {
                    "output_type": "stream",
                    "text": "Warning message:\n\u201cglm.fit: fitted probabilities numerically 0 or 1 occurred\u201d",
                    "name": "stderr"
                },
                {
                    "output_type": "stream",
                    "text": "\nStep:  AIC=87.99\nManipulater ~ DSRI + ACCR + AQI\n\n",
                    "name": "stdout"
                },
                {
                    "output_type": "stream",
                    "text": "Warning message:\n\u201cglm.fit: fitted probabilities numerically 0 or 1 occurred\u201dWarning message:\n\u201cglm.fit: fitted probabilities numerically 0 or 1 occurred\u201dWarning message:\n\u201cglm.fit: fitted probabilities numerically 0 or 1 occurred\u201dWarning message:\n\u201cglm.fit: fitted probabilities numerically 0 or 1 occurred\u201dWarning message:\n\u201cglm.fit: fitted probabilities numerically 0 or 1 occurred\u201dWarning message:\n\u201cglm.fit: fitted probabilities numerically 0 or 1 occurred\u201d",
                    "name": "stderr"
                },
                {
                    "output_type": "stream",
                    "text": "       Df Deviance     AIC\n+ SGI   1   67.604  77.604\n+ GMI   1   68.209  78.209\n<none>      79.993  87.993\n+ LEVI  1   79.922  89.922\n+ DEPI  1   79.979  89.979\n+ SGAI  1   79.992  89.992\n- AQI   1   87.736  93.736\n- DSRI  1   98.024 104.024\n- ACCR  1   98.836 104.836\n",
                    "name": "stdout"
                },
                {
                    "output_type": "stream",
                    "text": "Warning message:\n\u201cglm.fit: fitted probabilities numerically 0 or 1 occurred\u201d",
                    "name": "stderr"
                },
                {
                    "output_type": "stream",
                    "text": "\nStep:  AIC=77.6\nManipulater ~ DSRI + ACCR + AQI + SGI\n\n",
                    "name": "stdout"
                },
                {
                    "output_type": "stream",
                    "text": "Warning message:\n\u201cglm.fit: fitted probabilities numerically 0 or 1 occurred\u201dWarning message:\n\u201cglm.fit: fitted probabilities numerically 0 or 1 occurred\u201dWarning message:\n\u201cglm.fit: fitted probabilities numerically 0 or 1 occurred\u201dWarning message:\n\u201cglm.fit: fitted probabilities numerically 0 or 1 occurred\u201dWarning message:\n\u201cglm.fit: fitted probabilities numerically 0 or 1 occurred\u201dWarning message:\n\u201cglm.fit: fitted probabilities numerically 0 or 1 occurred\u201dWarning message:\n\u201cglm.fit: fitted probabilities numerically 0 or 1 occurred\u201d",
                    "name": "stderr"
                },
                {
                    "output_type": "stream",
                    "text": "       Df Deviance     AIC\n+ GMI   1   56.893  68.893\n+ DEPI  1   64.162  76.162\n<none>      67.604  77.604\n+ LEVI  1   66.674  78.674\n+ SGAI  1   67.074  79.074\n- SGI   1   79.993  87.993\n- AQI   1   80.556  88.556\n- ACCR  1   86.999  94.999\n- DSRI  1   94.618 102.618\n",
                    "name": "stdout"
                },
                {
                    "output_type": "stream",
                    "text": "Warning message:\n\u201cglm.fit: fitted probabilities numerically 0 or 1 occurred\u201d",
                    "name": "stderr"
                },
                {
                    "output_type": "stream",
                    "text": "\nStep:  AIC=68.89\nManipulater ~ DSRI + ACCR + AQI + SGI + GMI\n\n",
                    "name": "stdout"
                },
                {
                    "output_type": "stream",
                    "text": "Warning message:\n\u201cglm.fit: fitted probabilities numerically 0 or 1 occurred\u201dWarning message:\n\u201cglm.fit: fitted probabilities numerically 0 or 1 occurred\u201dWarning message:\n\u201cglm.fit: fitted probabilities numerically 0 or 1 occurred\u201dWarning message:\n\u201cglm.fit: fitted probabilities numerically 0 or 1 occurred\u201dWarning message:\n\u201cglm.fit: fitted probabilities numerically 0 or 1 occurred\u201dWarning message:\n\u201cglm.fit: fitted probabilities numerically 0 or 1 occurred\u201dWarning message:\n\u201cglm.fit: fitted probabilities numerically 0 or 1 occurred\u201dWarning message:\n\u201cglm.fit: fitted probabilities numerically 0 or 1 occurred\u201d",
                    "name": "stderr"
                },
                {
                    "output_type": "stream",
                    "text": "       Df Deviance     AIC\n<none>      56.893  68.893\n+ DEPI  1   56.304  70.304\n+ LEVI  1   56.491  70.491\n+ SGAI  1   56.857  70.857\n- GMI   1   67.604  77.604\n- SGI   1   68.209  78.209\n- AQI   1   75.761  85.761\n- ACCR  1   82.626  92.626\n- DSRI  1   93.334 103.334\n",
                    "name": "stdout"
                },
                {
                    "output_type": "stream",
                    "text": "Warning message:\n\u201cglm.fit: fitted probabilities numerically 0 or 1 occurred\u201d",
                    "name": "stderr"
                },
                {
                    "output_type": "stream",
                    "text": "Start:  AIC=110.13\nManipulater ~ 1\n\n       Df Deviance    AIC\n+ DSRI  1   98.911 102.91\n+ AQI   1  103.691 107.69\n+ ACCR  1  103.699 107.70\n+ DEPI  1  103.991 107.99\n+ SGI   1  104.461 108.46\n+ SGAI  1  105.068 109.07\n<none>     108.131 110.13\n+ LEVI  1  107.023 111.02\n+ GMI   1  107.073 111.07\n\nStep:  AIC=102.91\nManipulater ~ DSRI\n\n",
                    "name": "stdout"
                },
                {
                    "output_type": "stream",
                    "text": "Warning message:\n\u201cglm.fit: fitted probabilities numerically 0 or 1 occurred\u201dWarning message:\n\u201cglm.fit: fitted probabilities numerically 0 or 1 occurred\u201d",
                    "name": "stderr"
                },
                {
                    "output_type": "stream",
                    "text": "       Df Deviance     AIC\n+ SGI   1   89.319  95.319\n+ ACCR  1   90.214  96.214\n+ AQI   1   93.636  99.636\n+ DEPI  1   94.853 100.853\n+ GMI   1   96.876 102.876\n<none>      98.911 102.911\n+ SGAI  1   98.485 104.485\n+ LEVI  1   98.734 104.734\n- DSRI  1  108.131 110.131\n",
                    "name": "stdout"
                },
                {
                    "output_type": "stream",
                    "text": "Warning message:\n\u201cglm.fit: fitted probabilities numerically 0 or 1 occurred\u201d",
                    "name": "stderr"
                },
                {
                    "output_type": "stream",
                    "text": "\nStep:  AIC=95.32\nManipulater ~ DSRI + SGI\n\n",
                    "name": "stdout"
                },
                {
                    "output_type": "stream",
                    "text": "Warning message:\n\u201cglm.fit: fitted probabilities numerically 0 or 1 occurred\u201dWarning message:\n\u201cglm.fit: fitted probabilities numerically 0 or 1 occurred\u201dWarning message:\n\u201cglm.fit: fitted probabilities numerically 0 or 1 occurred\u201dWarning message:\n\u201cglm.fit: fitted probabilities numerically 0 or 1 occurred\u201dWarning message:\n\u201cglm.fit: fitted probabilities numerically 0 or 1 occurred\u201dWarning message:\n\u201cglm.fit: fitted probabilities numerically 0 or 1 occurred\u201dWarning message:\n\u201cglm.fit: fitted probabilities numerically 0 or 1 occurred\u201d",
                    "name": "stderr"
                },
                {
                    "output_type": "stream",
                    "text": "       Df Deviance     AIC\n+ AQI   1   76.866  84.866\n+ ACCR  1   81.985  89.985\n<none>      89.319  95.319\n+ DEPI  1   87.863  95.863\n+ GMI   1   88.407  96.407\n+ SGAI  1   89.009  97.009\n+ LEVI  1   89.097  97.097\n- SGI   1   98.911 102.911\n- DSRI  1  104.461 108.461\n",
                    "name": "stdout"
                },
                {
                    "output_type": "stream",
                    "text": "Warning message:\n\u201cglm.fit: fitted probabilities numerically 0 or 1 occurred\u201d",
                    "name": "stderr"
                },
                {
                    "output_type": "stream",
                    "text": "\nStep:  AIC=84.87\nManipulater ~ DSRI + SGI + AQI\n\n",
                    "name": "stdout"
                },
                {
                    "output_type": "stream",
                    "text": "Warning message:\n\u201cglm.fit: fitted probabilities numerically 0 or 1 occurred\u201dWarning message:\n\u201cglm.fit: fitted probabilities numerically 0 or 1 occurred\u201dWarning message:\n\u201cglm.fit: fitted probabilities numerically 0 or 1 occurred\u201dWarning message:\n\u201cglm.fit: fitted probabilities numerically 0 or 1 occurred\u201dWarning message:\n\u201cglm.fit: fitted probabilities numerically 0 or 1 occurred\u201dWarning message:\n\u201cglm.fit: fitted probabilities numerically 0 or 1 occurred\u201dWarning message:\n\u201cglm.fit: fitted probabilities numerically 0 or 1 occurred\u201d",
                    "name": "stderr"
                },
                {
                    "output_type": "stream",
                    "text": "       Df Deviance     AIC\n+ ACCR  1   61.410  71.410\n+ LEVI  1   73.410  83.410\n<none>      76.866  84.866\n+ GMI   1   76.252  86.252\n+ DEPI  1   76.772  86.772\n+ SGAI  1   76.861  86.861\n- AQI   1   89.319  95.319\n- SGI   1   93.636  99.636\n- DSRI  1   98.736 104.736\n",
                    "name": "stdout"
                },
                {
                    "output_type": "stream",
                    "text": "Warning message:\n\u201cglm.fit: fitted probabilities numerically 0 or 1 occurred\u201d",
                    "name": "stderr"
                },
                {
                    "output_type": "stream",
                    "text": "\nStep:  AIC=71.41\nManipulater ~ DSRI + SGI + AQI + ACCR\n\n",
                    "name": "stdout"
                },
                {
                    "output_type": "stream",
                    "text": "Warning message:\n\u201cglm.fit: fitted probabilities numerically 0 or 1 occurred\u201dWarning message:\n\u201cglm.fit: fitted probabilities numerically 0 or 1 occurred\u201dWarning message:\n\u201cglm.fit: fitted probabilities numerically 0 or 1 occurred\u201dWarning message:\n\u201cglm.fit: fitted probabilities numerically 0 or 1 occurred\u201dWarning message:\n\u201cglm.fit: fitted probabilities numerically 0 or 1 occurred\u201dWarning message:\n\u201cglm.fit: fitted probabilities numerically 0 or 1 occurred\u201dWarning message:\n\u201cglm.fit: fitted probabilities numerically 0 or 1 occurred\u201dWarning message:\n\u201cglm.fit: fitted probabilities numerically 0 or 1 occurred\u201d",
                    "name": "stderr"
                },
                {
                    "output_type": "stream",
                    "text": "       Df Deviance     AIC\n+ LEVI  1   59.133  71.133\n<none>      61.410  71.410\n+ GMI   1   60.436  72.436\n+ SGAI  1   60.724  72.724\n+ DEPI  1   61.400  73.400\n- ACCR  1   76.866  84.866\n- SGI   1   80.110  88.110\n- AQI   1   81.985  89.985\n- DSRI  1   92.977 100.977\n",
                    "name": "stdout"
                },
                {
                    "output_type": "stream",
                    "text": "Warning message:\n\u201cglm.fit: fitted probabilities numerically 0 or 1 occurred\u201d",
                    "name": "stderr"
                },
                {
                    "output_type": "stream",
                    "text": "\nStep:  AIC=71.13\nManipulater ~ DSRI + SGI + AQI + ACCR + LEVI\n\n",
                    "name": "stdout"
                },
                {
                    "output_type": "stream",
                    "text": "Warning message:\n\u201cglm.fit: fitted probabilities numerically 0 or 1 occurred\u201dWarning message:\n\u201cglm.fit: fitted probabilities numerically 0 or 1 occurred\u201dWarning message:\n\u201cglm.fit: fitted probabilities numerically 0 or 1 occurred\u201dWarning message:\n\u201cglm.fit: fitted probabilities numerically 0 or 1 occurred\u201dWarning message:\n\u201cglm.fit: fitted probabilities numerically 0 or 1 occurred\u201dWarning message:\n\u201cglm.fit: fitted probabilities numerically 0 or 1 occurred\u201dWarning message:\n\u201cglm.fit: fitted probabilities numerically 0 or 1 occurred\u201dWarning message:\n\u201cglm.fit: fitted probabilities numerically 0 or 1 occurred\u201d",
                    "name": "stderr"
                },
                {
                    "output_type": "stream",
                    "text": "       Df Deviance     AIC\n<none>      59.133  71.133\n- LEVI  1   61.410  71.410\n+ SGAI  1   57.958  71.958\n+ GMI   1   58.708  72.708\n+ DEPI  1   59.106  73.106\n- ACCR  1   73.410  83.410\n- SGI   1   80.090  90.090\n- AQI   1   81.909  91.909\n- DSRI  1   92.247 102.247\n",
                    "name": "stdout"
                },
                {
                    "output_type": "stream",
                    "text": "Warning message:\n\u201cglm.fit: fitted probabilities numerically 0 or 1 occurred\u201d",
                    "name": "stderr"
                },
                {
                    "output_type": "stream",
                    "text": "Start:  AIC=110.13\nManipulater ~ 1\n\n",
                    "name": "stdout"
                },
                {
                    "output_type": "stream",
                    "text": "Warning message:\n\u201cglm.fit: fitted probabilities numerically 0 or 1 occurred\u201d",
                    "name": "stderr"
                },
                {
                    "output_type": "stream",
                    "text": "       Df Deviance    AIC\n+ DSRI  1   97.805 101.81\n+ ACCR  1  102.302 106.30\n+ SGAI  1  103.114 107.11\n+ SGI   1  104.632 108.63\n+ AQI   1  105.264 109.26\n+ DEPI  1  105.812 109.81\n<none>     108.131 110.13\n+ GMI   1  106.864 110.86\n+ LEVI  1  107.378 111.38\n",
                    "name": "stdout"
                },
                {
                    "output_type": "stream",
                    "text": "Warning message:\n\u201cglm.fit: fitted probabilities numerically 0 or 1 occurred\u201d",
                    "name": "stderr"
                },
                {
                    "output_type": "stream",
                    "text": "\nStep:  AIC=101.81\nManipulater ~ DSRI\n\n",
                    "name": "stdout"
                },
                {
                    "output_type": "stream",
                    "text": "Warning message:\n\u201cglm.fit: fitted probabilities numerically 0 or 1 occurred\u201dWarning message:\n\u201cglm.fit: fitted probabilities numerically 0 or 1 occurred\u201dWarning message:\n\u201cglm.fit: fitted probabilities numerically 0 or 1 occurred\u201dWarning message:\n\u201cglm.fit: fitted probabilities numerically 0 or 1 occurred\u201dWarning message:\n\u201cglm.fit: fitted probabilities numerically 0 or 1 occurred\u201dWarning message:\n\u201cglm.fit: fitted probabilities numerically 0 or 1 occurred\u201dWarning message:\n\u201cglm.fit: fitted probabilities numerically 0 or 1 occurred\u201dWarning message:\n\u201cglm.fit: fitted probabilities numerically 0 or 1 occurred\u201d",
                    "name": "stderr"
                },
                {
                    "output_type": "stream",
                    "text": "       Df Deviance     AIC\n+ ACCR  1   84.365  90.365\n+ SGI   1   87.839  93.839\n+ AQI   1   93.397  99.397\n+ DEPI  1   94.391 100.391\n+ GMI   1   94.607 100.607\n+ SGAI  1   95.328 101.328\n<none>      97.805 101.805\n+ LEVI  1   97.780 103.780\n- DSRI  1  108.131 110.131\n",
                    "name": "stdout"
                },
                {
                    "output_type": "stream",
                    "text": "Warning message:\n\u201cglm.fit: fitted probabilities numerically 0 or 1 occurred\u201d",
                    "name": "stderr"
                },
                {
                    "output_type": "stream",
                    "text": "\nStep:  AIC=90.36\nManipulater ~ DSRI + ACCR\n\n",
                    "name": "stdout"
                },
                {
                    "output_type": "stream",
                    "text": "Warning message:\n\u201cglm.fit: fitted probabilities numerically 0 or 1 occurred\u201dWarning message:\n\u201cglm.fit: fitted probabilities numerically 0 or 1 occurred\u201dWarning message:\n\u201cglm.fit: fitted probabilities numerically 0 or 1 occurred\u201dWarning message:\n\u201cglm.fit: fitted probabilities numerically 0 or 1 occurred\u201dWarning message:\n\u201cglm.fit: fitted probabilities numerically 0 or 1 occurred\u201dWarning message:\n\u201cglm.fit: fitted probabilities numerically 0 or 1 occurred\u201dWarning message:\n\u201cglm.fit: fitted probabilities numerically 0 or 1 occurred\u201dWarning message:\n\u201cglm.fit: fitted probabilities numerically 0 or 1 occurred\u201d",
                    "name": "stderr"
                },
                {
                    "output_type": "stream",
                    "text": "       Df Deviance     AIC\n+ AQI   1   71.398  79.398\n+ SGI   1   75.255  83.255\n+ GMI   1   79.027  87.027\n+ DEPI  1   81.809  89.809\n<none>      84.365  90.365\n+ SGAI  1   83.421  91.421\n+ LEVI  1   84.182  92.182\n- ACCR  1   97.805 101.805\n- DSRI  1  102.302 106.302\n",
                    "name": "stdout"
                },
                {
                    "output_type": "stream",
                    "text": "Warning message:\n\u201cglm.fit: fitted probabilities numerically 0 or 1 occurred\u201d",
                    "name": "stderr"
                },
                {
                    "output_type": "stream",
                    "text": "\nStep:  AIC=79.4\nManipulater ~ DSRI + ACCR + AQI\n\n",
                    "name": "stdout"
                },
                {
                    "output_type": "stream",
                    "text": "Warning message:\n\u201cglm.fit: fitted probabilities numerically 0 or 1 occurred\u201dWarning message:\n\u201cglm.fit: fitted probabilities numerically 0 or 1 occurred\u201dWarning message:\n\u201cglm.fit: fitted probabilities numerically 0 or 1 occurred\u201dWarning message:\n\u201cglm.fit: fitted probabilities numerically 0 or 1 occurred\u201dWarning message:\n\u201cglm.fit: fitted probabilities numerically 0 or 1 occurred\u201dWarning message:\n\u201cglm.fit: fitted probabilities numerically 0 or 1 occurred\u201dWarning message:\n\u201cglm.fit: fitted probabilities numerically 0 or 1 occurred\u201dWarning message:\n\u201cglm.fit: fitted probabilities numerically 0 or 1 occurred\u201d",
                    "name": "stderr"
                },
                {
                    "output_type": "stream",
                    "text": "       Df Deviance     AIC\n+ SGI   1   43.633  53.633\n+ GMI   1   57.989  67.989\n+ DEPI  1   68.591  78.591\n<none>      71.398  79.398\n+ LEVI  1   71.327  81.327\n+ SGAI  1   71.335  81.335\n- AQI   1   84.365  90.365\n- ACCR  1   93.397  99.397\n- DSRI  1   96.940 102.940\n",
                    "name": "stdout"
                },
                {
                    "output_type": "stream",
                    "text": "Warning message:\n\u201cglm.fit: fitted probabilities numerically 0 or 1 occurred\u201d",
                    "name": "stderr"
                },
                {
                    "output_type": "stream",
                    "text": "\nStep:  AIC=53.63\nManipulater ~ DSRI + ACCR + AQI + SGI\n\n",
                    "name": "stdout"
                },
                {
                    "output_type": "stream",
                    "text": "Warning message:\n\u201cglm.fit: fitted probabilities numerically 0 or 1 occurred\u201dWarning message:\n\u201cglm.fit: fitted probabilities numerically 0 or 1 occurred\u201dWarning message:\n\u201cglm.fit: fitted probabilities numerically 0 or 1 occurred\u201dWarning message:\n\u201cglm.fit: fitted probabilities numerically 0 or 1 occurred\u201dWarning message:\n\u201cglm.fit: fitted probabilities numerically 0 or 1 occurred\u201dWarning message:\n\u201cglm.fit: fitted probabilities numerically 0 or 1 occurred\u201dWarning message:\n\u201cglm.fit: fitted probabilities numerically 0 or 1 occurred\u201dWarning message:\n\u201cglm.fit: fitted probabilities numerically 0 or 1 occurred\u201d",
                    "name": "stderr"
                },
                {
                    "output_type": "stream",
                    "text": "       Df Deviance     AIC\n+ GMI   1   36.244  48.244\n<none>      43.633  53.633\n+ LEVI  1   41.674  53.674\n+ DEPI  1   43.585  55.585\n+ SGAI  1   43.622  55.622\n- SGI   1   71.398  79.398\n- ACCR  1   73.686  81.686\n- AQI   1   75.255  83.255\n- DSRI  1   92.994 100.994\n",
                    "name": "stdout"
                },
                {
                    "output_type": "stream",
                    "text": "Warning message:\n\u201cglm.fit: fitted probabilities numerically 0 or 1 occurred\u201d",
                    "name": "stderr"
                },
                {
                    "output_type": "stream",
                    "text": "\nStep:  AIC=48.24\nManipulater ~ DSRI + ACCR + AQI + SGI + GMI\n\n",
                    "name": "stdout"
                },
                {
                    "output_type": "stream",
                    "text": "Warning message:\n\u201cglm.fit: fitted probabilities numerically 0 or 1 occurred\u201dWarning message:\n\u201cglm.fit: fitted probabilities numerically 0 or 1 occurred\u201dWarning message:\n\u201cglm.fit: fitted probabilities numerically 0 or 1 occurred\u201dWarning message:\n\u201cglm.fit: fitted probabilities numerically 0 or 1 occurred\u201dWarning message:\n\u201cglm.fit: fitted probabilities numerically 0 or 1 occurred\u201dWarning message:\n\u201cglm.fit: fitted probabilities numerically 0 or 1 occurred\u201dWarning message:\n\u201cglm.fit: fitted probabilities numerically 0 or 1 occurred\u201dWarning message:\n\u201cglm.fit: fitted probabilities numerically 0 or 1 occurred\u201d",
                    "name": "stderr"
                },
                {
                    "output_type": "stream",
                    "text": "       Df Deviance     AIC\n+ LEVI  1   33.723  47.723\n<none>      36.244  48.244\n+ SGAI  1   34.688  48.688\n+ DEPI  1   35.611  49.611\n- GMI   1   43.633  53.633\n- SGI   1   57.989  67.989\n- ACCR  1   69.662  79.662\n- AQI   1   72.339  82.339\n- DSRI  1   91.692 101.692\n",
                    "name": "stdout"
                },
                {
                    "output_type": "stream",
                    "text": "Warning message:\n\u201cglm.fit: fitted probabilities numerically 0 or 1 occurred\u201d",
                    "name": "stderr"
                },
                {
                    "output_type": "stream",
                    "text": "\nStep:  AIC=47.72\nManipulater ~ DSRI + ACCR + AQI + SGI + GMI + LEVI\n\n",
                    "name": "stdout"
                },
                {
                    "output_type": "stream",
                    "text": "Warning message:\n\u201cglm.fit: fitted probabilities numerically 0 or 1 occurred\u201dWarning message:\n\u201cglm.fit: fitted probabilities numerically 0 or 1 occurred\u201dWarning message:\n\u201cglm.fit: fitted probabilities numerically 0 or 1 occurred\u201dWarning message:\n\u201cglm.fit: fitted probabilities numerically 0 or 1 occurred\u201dWarning message:\n\u201cglm.fit: fitted probabilities numerically 0 or 1 occurred\u201dWarning message:\n\u201cglm.fit: fitted probabilities numerically 0 or 1 occurred\u201dWarning message:\n\u201cglm.fit: fitted probabilities numerically 0 or 1 occurred\u201dWarning message:\n\u201cglm.fit: fitted probabilities numerically 0 or 1 occurred\u201d",
                    "name": "stderr"
                },
                {
                    "output_type": "stream",
                    "text": "       Df Deviance     AIC\n<none>      33.723  47.723\n- LEVI  1   36.244  48.244\n+ SGAI  1   33.250  49.250\n+ DEPI  1   33.382  49.382\n- GMI   1   41.674  53.674\n- SGI   1   57.933  69.933\n- ACCR  1   65.160  77.160\n- AQI   1   72.305  84.305\n- DSRI  1   90.939 102.939\n",
                    "name": "stdout"
                },
                {
                    "output_type": "stream",
                    "text": "Warning message:\n\u201cglm.fit: fitted probabilities numerically 0 or 1 occurred\u201d",
                    "name": "stderr"
                },
                {
                    "output_type": "stream",
                    "text": "Start:  AIC=110.13\nManipulater ~ 1\n\n       Df Deviance    AIC\n+ DSRI  1   98.757 102.76\n+ ACCR  1  102.617 106.62\n+ SGAI  1  104.421 108.42\n+ SGI   1  104.660 108.66\n+ AQI   1  106.038 110.04\n<none>     108.131 110.13\n+ GMI   1  106.491 110.49\n+ LEVI  1  106.595 110.59\n+ DEPI  1  108.119 112.12\n\nStep:  AIC=102.76\nManipulater ~ DSRI\n\n",
                    "name": "stdout"
                },
                {
                    "output_type": "stream",
                    "text": "Warning message:\n\u201cglm.fit: fitted probabilities numerically 0 or 1 occurred\u201dWarning message:\n\u201cglm.fit: fitted probabilities numerically 0 or 1 occurred\u201dWarning message:\n\u201cglm.fit: fitted probabilities numerically 0 or 1 occurred\u201d",
                    "name": "stderr"
                },
                {
                    "output_type": "stream",
                    "text": "       Df Deviance     AIC\n+ ACCR  1   88.113  94.113\n+ SGI   1   88.933  94.933\n+ GMI   1   94.243 100.243\n+ AQI   1   95.705 101.705\n<none>      98.757 102.757\n+ SGAI  1   97.612 103.612\n+ LEVI  1   98.332 104.332\n+ DEPI  1   98.752 104.752\n- DSRI  1  108.131 110.131\n",
                    "name": "stdout"
                },
                {
                    "output_type": "stream",
                    "text": "Warning message:\n\u201cglm.fit: fitted probabilities numerically 0 or 1 occurred\u201d",
                    "name": "stderr"
                },
                {
                    "output_type": "stream",
                    "text": "\nStep:  AIC=94.11\nManipulater ~ DSRI + ACCR\n\n",
                    "name": "stdout"
                },
                {
                    "output_type": "stream",
                    "text": "Warning message:\n\u201cglm.fit: fitted probabilities numerically 0 or 1 occurred\u201dWarning message:\n\u201cglm.fit: fitted probabilities numerically 0 or 1 occurred\u201dWarning message:\n\u201cglm.fit: fitted probabilities numerically 0 or 1 occurred\u201dWarning message:\n\u201cglm.fit: fitted probabilities numerically 0 or 1 occurred\u201dWarning message:\n\u201cglm.fit: fitted probabilities numerically 0 or 1 occurred\u201dWarning message:\n\u201cglm.fit: fitted probabilities numerically 0 or 1 occurred\u201dWarning message:\n\u201cglm.fit: fitted probabilities numerically 0 or 1 occurred\u201d",
                    "name": "stderr"
                },
                {
                    "output_type": "stream",
                    "text": "       Df Deviance     AIC\n+ SGI   1   79.050  87.050\n+ AQI   1   80.419  88.419\n+ GMI   1   81.072  89.072\n<none>      88.113  94.113\n+ LEVI  1   87.062  95.062\n+ DEPI  1   87.934  95.934\n+ SGAI  1   88.029  96.029\n- ACCR  1   98.757 102.757\n- DSRI  1  102.617 106.617\n",
                    "name": "stdout"
                },
                {
                    "output_type": "stream",
                    "text": "Warning message:\n\u201cglm.fit: fitted probabilities numerically 0 or 1 occurred\u201d",
                    "name": "stderr"
                },
                {
                    "output_type": "stream",
                    "text": "\nStep:  AIC=87.05\nManipulater ~ DSRI + ACCR + SGI\n\n",
                    "name": "stdout"
                },
                {
                    "output_type": "stream",
                    "text": "Warning message:\n\u201cglm.fit: fitted probabilities numerically 0 or 1 occurred\u201dWarning message:\n\u201cglm.fit: fitted probabilities numerically 0 or 1 occurred\u201dWarning message:\n\u201cglm.fit: fitted probabilities numerically 0 or 1 occurred\u201dWarning message:\n\u201cglm.fit: fitted probabilities numerically 0 or 1 occurred\u201dWarning message:\n\u201cglm.fit: fitted probabilities numerically 0 or 1 occurred\u201dWarning message:\n\u201cglm.fit: fitted probabilities numerically 0 or 1 occurred\u201dWarning message:\n\u201cglm.fit: fitted probabilities numerically 0 or 1 occurred\u201dWarning message:\n\u201cglm.fit: fitted probabilities numerically 0 or 1 occurred\u201d",
                    "name": "stderr"
                },
                {
                    "output_type": "stream",
                    "text": "       Df Deviance     AIC\n+ AQI   1   61.832  71.832\n+ GMI   1   74.783  84.783\n<none>      79.050  87.050\n+ LEVI  1   77.789  87.789\n+ DEPI  1   78.594  88.594\n+ SGAI  1   79.032  89.032\n- SGI   1   88.113  94.113\n- ACCR  1   88.933  94.933\n- DSRI  1   99.860 105.860\n",
                    "name": "stdout"
                },
                {
                    "output_type": "stream",
                    "text": "Warning message:\n\u201cglm.fit: fitted probabilities numerically 0 or 1 occurred\u201d",
                    "name": "stderr"
                },
                {
                    "output_type": "stream",
                    "text": "\nStep:  AIC=71.83\nManipulater ~ DSRI + ACCR + SGI + AQI\n\n",
                    "name": "stdout"
                },
                {
                    "output_type": "stream",
                    "text": "Warning message:\n\u201cglm.fit: fitted probabilities numerically 0 or 1 occurred\u201dWarning message:\n\u201cglm.fit: fitted probabilities numerically 0 or 1 occurred\u201dWarning message:\n\u201cglm.fit: fitted probabilities numerically 0 or 1 occurred\u201dWarning message:\n\u201cglm.fit: fitted probabilities numerically 0 or 1 occurred\u201dWarning message:\n\u201cglm.fit: fitted probabilities numerically 0 or 1 occurred\u201dWarning message:\n\u201cglm.fit: fitted probabilities numerically 0 or 1 occurred\u201dWarning message:\n\u201cglm.fit: fitted probabilities numerically 0 or 1 occurred\u201dWarning message:\n\u201cglm.fit: fitted probabilities numerically 0 or 1 occurred\u201d",
                    "name": "stderr"
                },
                {
                    "output_type": "stream",
                    "text": "       Df Deviance     AIC\n+ GMI   1   52.659  64.659\n+ DEPI  1   56.022  68.022\n<none>      61.832  71.832\n+ SGAI  1   61.331  73.331\n+ LEVI  1   61.630  73.630\n- AQI   1   79.050  87.050\n- ACCR  1   79.706  87.706\n- SGI   1   80.419  88.419\n- DSRI  1   94.988 102.988\n",
                    "name": "stdout"
                },
                {
                    "output_type": "stream",
                    "text": "Warning message:\n\u201cglm.fit: fitted probabilities numerically 0 or 1 occurred\u201d",
                    "name": "stderr"
                },
                {
                    "output_type": "stream",
                    "text": "\nStep:  AIC=64.66\nManipulater ~ DSRI + ACCR + SGI + AQI + GMI\n\n",
                    "name": "stdout"
                },
                {
                    "output_type": "stream",
                    "text": "Warning message:\n\u201cglm.fit: fitted probabilities numerically 0 or 1 occurred\u201dWarning message:\n\u201cglm.fit: fitted probabilities numerically 0 or 1 occurred\u201dWarning message:\n\u201cglm.fit: fitted probabilities numerically 0 or 1 occurred\u201dWarning message:\n\u201cglm.fit: fitted probabilities numerically 0 or 1 occurred\u201dWarning message:\n\u201cglm.fit: fitted probabilities numerically 0 or 1 occurred\u201dWarning message:\n\u201cglm.fit: fitted probabilities numerically 0 or 1 occurred\u201dWarning message:\n\u201cglm.fit: fitted probabilities numerically 0 or 1 occurred\u201dWarning message:\n\u201cglm.fit: fitted probabilities numerically 0 or 1 occurred\u201d",
                    "name": "stderr"
                },
                {
                    "output_type": "stream",
                    "text": "       Df Deviance     AIC\n+ DEPI  1   48.381  62.381\n<none>      52.659  64.659\n+ SGAI  1   52.508  66.508\n+ LEVI  1   52.548  66.548\n- GMI   1   61.832  71.832\n- SGI   1   68.238  78.238\n- ACCR  1   74.427  84.427\n- AQI   1   74.783  84.783\n- DSRI  1   93.234 103.234\n",
                    "name": "stdout"
                },
                {
                    "output_type": "stream",
                    "text": "Warning message:\n\u201cglm.fit: fitted probabilities numerically 0 or 1 occurred\u201d",
                    "name": "stderr"
                },
                {
                    "output_type": "stream",
                    "text": "\nStep:  AIC=62.38\nManipulater ~ DSRI + ACCR + SGI + AQI + GMI + DEPI\n\n",
                    "name": "stdout"
                },
                {
                    "output_type": "stream",
                    "text": "Warning message:\n\u201cglm.fit: fitted probabilities numerically 0 or 1 occurred\u201dWarning message:\n\u201cglm.fit: fitted probabilities numerically 0 or 1 occurred\u201dWarning message:\n\u201cglm.fit: fitted probabilities numerically 0 or 1 occurred\u201dWarning message:\n\u201cglm.fit: fitted probabilities numerically 0 or 1 occurred\u201dWarning message:\n\u201cglm.fit: fitted probabilities numerically 0 or 1 occurred\u201dWarning message:\n\u201cglm.fit: fitted probabilities numerically 0 or 1 occurred\u201dWarning message:\n\u201cglm.fit: fitted probabilities numerically 0 or 1 occurred\u201dWarning message:\n\u201cglm.fit: fitted probabilities numerically 0 or 1 occurred\u201d",
                    "name": "stderr"
                },
                {
                    "output_type": "stream",
                    "text": "       Df Deviance     AIC\n<none>      48.381  62.381\n+ LEVI  1   47.643  63.643\n+ SGAI  1   48.005  64.005\n- DEPI  1   52.659  64.659\n- GMI   1   56.022  68.022\n- SGI   1   67.909  79.909\n- ACCR  1   69.293  81.293\n- AQI   1   74.512  86.512\n- DSRI  1   93.048 105.048\n",
                    "name": "stdout"
                },
                {
                    "output_type": "stream",
                    "text": "Warning message:\n\u201cglm.fit: fitted probabilities numerically 0 or 1 occurred\u201d",
                    "name": "stderr"
                },
                {
                    "output_type": "stream",
                    "text": "Start:  AIC=110.13\nManipulater ~ 1\n\n       Df Deviance    AIC\n+ DSRI  1   100.53 104.53\n+ SGAI  1   104.35 108.35\n+ SGI   1   104.58 108.58\n+ AQI   1   104.71 108.71\n+ ACCR  1   104.89 108.89\n+ GMI   1   106.09 110.09\n<none>      108.13 110.13\n+ DEPI  1   106.27 110.27\n+ LEVI  1   107.10 111.10\n\nStep:  AIC=104.53\nManipulater ~ DSRI\n\n       Df Deviance     AIC\n+ SGI   1   92.848  98.848\n+ ACCR  1   93.954  99.954\n+ AQI   1   96.206 102.206\n+ GMI   1   96.587 102.587\n<none>     100.532 104.532\n+ DEPI  1   99.250 105.250\n+ SGAI  1   99.277 105.277\n+ LEVI  1  100.388 106.388\n- DSRI  1  108.131 110.131\n\nStep:  AIC=98.85\nManipulater ~ DSRI + SGI\n\n",
                    "name": "stdout"
                },
                {
                    "output_type": "stream",
                    "text": "Warning message:\n\u201cglm.fit: fitted probabilities numerically 0 or 1 occurred\u201d",
                    "name": "stderr"
                },
                {
                    "output_type": "stream",
                    "text": "       Df Deviance     AIC\n+ AQI   1   85.805  93.805\n+ ACCR  1   86.336  94.336\n+ GMI   1   90.240  98.240\n<none>      92.848  98.848\n+ SGAI  1   91.948  99.948\n+ LEVI  1   92.548 100.548\n+ DEPI  1   92.760 100.760\n- SGI   1  100.532 104.532\n- DSRI  1  104.580 108.580\n",
                    "name": "stdout"
                },
                {
                    "output_type": "stream",
                    "text": "Warning message:\n\u201cglm.fit: fitted probabilities numerically 0 or 1 occurred\u201d",
                    "name": "stderr"
                },
                {
                    "output_type": "stream",
                    "text": "\nStep:  AIC=93.8\nManipulater ~ DSRI + SGI + AQI\n\n",
                    "name": "stdout"
                },
                {
                    "output_type": "stream",
                    "text": "Warning message:\n\u201cglm.fit: fitted probabilities numerically 0 or 1 occurred\u201dWarning message:\n\u201cglm.fit: fitted probabilities numerically 0 or 1 occurred\u201dWarning message:\n\u201cglm.fit: fitted probabilities numerically 0 or 1 occurred\u201dWarning message:\n\u201cglm.fit: fitted probabilities numerically 0 or 1 occurred\u201dWarning message:\n\u201cglm.fit: fitted probabilities numerically 0 or 1 occurred\u201dWarning message:\n\u201cglm.fit: fitted probabilities numerically 0 or 1 occurred\u201d",
                    "name": "stderr"
                },
                {
                    "output_type": "stream",
                    "text": "       Df Deviance     AIC\n+ ACCR  1   73.894  83.894\n+ GMI   1   82.104  92.104\n+ LEVI  1   83.241  93.241\n<none>      85.805  93.805\n+ DEPI  1   85.403  95.403\n+ SGAI  1   85.508  95.508\n- AQI   1   92.848  98.848\n- SGI   1   96.206 102.206\n- DSRI  1  100.545 106.545\n",
                    "name": "stdout"
                },
                {
                    "output_type": "stream",
                    "text": "Warning message:\n\u201cglm.fit: fitted probabilities numerically 0 or 1 occurred\u201d",
                    "name": "stderr"
                },
                {
                    "output_type": "stream",
                    "text": "\nStep:  AIC=83.89\nManipulater ~ DSRI + SGI + AQI + ACCR\n\n",
                    "name": "stdout"
                },
                {
                    "output_type": "stream",
                    "text": "Warning message:\n\u201cglm.fit: fitted probabilities numerically 0 or 1 occurred\u201dWarning message:\n\u201cglm.fit: fitted probabilities numerically 0 or 1 occurred\u201dWarning message:\n\u201cglm.fit: fitted probabilities numerically 0 or 1 occurred\u201dWarning message:\n\u201cglm.fit: fitted probabilities numerically 0 or 1 occurred\u201dWarning message:\n\u201cglm.fit: fitted probabilities numerically 0 or 1 occurred\u201dWarning message:\n\u201cglm.fit: fitted probabilities numerically 0 or 1 occurred\u201d",
                    "name": "stderr"
                },
                {
                    "output_type": "stream",
                    "text": "       Df Deviance     AIC\n+ GMI   1   63.115  75.115\n<none>      73.894  83.894\n+ LEVI  1   71.898  83.898\n+ DEPI  1   73.429  85.429\n+ SGAI  1   73.858  85.858\n- ACCR  1   85.805  93.805\n- SGI   1   85.963  93.963\n- AQI   1   86.336  94.336\n- DSRI  1   96.093 104.093\n",
                    "name": "stdout"
                },
                {
                    "output_type": "stream",
                    "text": "Warning message:\n\u201cglm.fit: fitted probabilities numerically 0 or 1 occurred\u201d",
                    "name": "stderr"
                },
                {
                    "output_type": "stream",
                    "text": "\nStep:  AIC=75.11\nManipulater ~ DSRI + SGI + AQI + ACCR + GMI\n\n",
                    "name": "stdout"
                },
                {
                    "output_type": "stream",
                    "text": "Warning message:\n\u201cglm.fit: fitted probabilities numerically 0 or 1 occurred\u201dWarning message:\n\u201cglm.fit: fitted probabilities numerically 0 or 1 occurred\u201dWarning message:\n\u201cglm.fit: fitted probabilities numerically 0 or 1 occurred\u201dWarning message:\n\u201cglm.fit: fitted probabilities numerically 0 or 1 occurred\u201dWarning message:\n\u201cglm.fit: fitted probabilities numerically 0 or 1 occurred\u201dWarning message:\n\u201cglm.fit: fitted probabilities numerically 0 or 1 occurred\u201dWarning message:\n\u201cglm.fit: fitted probabilities numerically 0 or 1 occurred\u201dWarning message:\n\u201cglm.fit: fitted probabilities numerically 0 or 1 occurred\u201d",
                    "name": "stderr"
                },
                {
                    "output_type": "stream",
                    "text": "       Df Deviance     AIC\n<none>      63.115  75.115\n+ LEVI  1   61.819  75.819\n+ SGAI  1   62.918  76.918\n+ DEPI  1   63.052  77.052\n- SGI   1   72.381  82.381\n- GMI   1   73.894  83.894\n- AQI   1   80.942  90.942\n- ACCR  1   82.104  92.104\n- DSRI  1   93.477 103.477\n",
                    "name": "stdout"
                },
                {
                    "output_type": "stream",
                    "text": "Warning message:\n\u201cglm.fit: fitted probabilities numerically 0 or 1 occurred\u201d",
                    "name": "stderr"
                },
                {
                    "output_type": "stream",
                    "text": "Start:  AIC=110.13\nManipulater ~ 1\n\n       Df Deviance    AIC\n+ DSRI  1    99.18 103.18\n+ ACCR  1   102.13 106.13\n+ SGAI  1   103.56 107.56\n+ SGI   1   104.69 108.69\n+ AQI   1   105.77 109.77\n<none>      108.13 110.13\n+ LEVI  1   106.67 110.67\n+ GMI   1   106.93 110.93\n+ DEPI  1   107.96 111.96\n\nStep:  AIC=103.18\nManipulater ~ DSRI\n\n",
                    "name": "stdout"
                },
                {
                    "output_type": "stream",
                    "text": "Warning message:\n\u201cglm.fit: fitted probabilities numerically 0 or 1 occurred\u201d",
                    "name": "stderr"
                },
                {
                    "output_type": "stream",
                    "text": "       Df Deviance     AIC\n+ ACCR  1   88.916  94.916\n+ SGI   1   90.752  96.752\n+ AQI   1   95.866 101.866\n+ GMI   1   96.723 102.723\n<none>      99.180 103.180\n+ SGAI  1   97.312 103.312\n+ LEVI  1   98.836 104.836\n+ DEPI  1   99.134 105.134\n- DSRI  1  108.131 110.131\n\nStep:  AIC=94.92\nManipulater ~ DSRI + ACCR\n\n",
                    "name": "stdout"
                },
                {
                    "output_type": "stream",
                    "text": "Warning message:\n\u201cglm.fit: fitted probabilities numerically 0 or 1 occurred\u201dWarning message:\n\u201cglm.fit: fitted probabilities numerically 0 or 1 occurred\u201dWarning message:\n\u201cglm.fit: fitted probabilities numerically 0 or 1 occurred\u201d",
                    "name": "stderr"
                },
                {
                    "output_type": "stream",
                    "text": "       Df Deviance     AIC\n+ AQI   1   80.400  88.400\n+ SGI   1   81.560  89.560\n+ GMI   1   85.109  93.109\n<none>      88.916  94.916\n+ LEVI  1   87.971  95.971\n+ SGAI  1   88.073  96.073\n+ DEPI  1   88.449  96.449\n- ACCR  1   99.180 103.180\n- DSRI  1  102.126 106.126\n",
                    "name": "stdout"
                },
                {
                    "output_type": "stream",
                    "text": "Warning message:\n\u201cglm.fit: fitted probabilities numerically 0 or 1 occurred\u201d",
                    "name": "stderr"
                },
                {
                    "output_type": "stream",
                    "text": "\nStep:  AIC=88.4\nManipulater ~ DSRI + ACCR + AQI\n\n",
                    "name": "stdout"
                },
                {
                    "output_type": "stream",
                    "text": "Warning message:\n\u201cglm.fit: fitted probabilities numerically 0 or 1 occurred\u201dWarning message:\n\u201cglm.fit: fitted probabilities numerically 0 or 1 occurred\u201dWarning message:\n\u201cglm.fit: fitted probabilities numerically 0 or 1 occurred\u201dWarning message:\n\u201cglm.fit: fitted probabilities numerically 0 or 1 occurred\u201dWarning message:\n\u201cglm.fit: fitted probabilities numerically 0 or 1 occurred\u201dWarning message:\n\u201cglm.fit: fitted probabilities numerically 0 or 1 occurred\u201d",
                    "name": "stderr"
                },
                {
                    "output_type": "stream",
                    "text": "       Df Deviance     AIC\n+ SGI   1   67.329  77.329\n+ GMI   1   70.815  80.815\n<none>      80.400  88.400\n+ SGAI  1   80.251  90.251\n+ DEPI  1   80.311  90.311\n+ LEVI  1   80.316  90.316\n- AQI   1   88.916  94.916\n- ACCR  1   95.866 101.866\n- DSRI  1   97.275 103.275\n",
                    "name": "stdout"
                },
                {
                    "output_type": "stream",
                    "text": "Warning message:\n\u201cglm.fit: fitted probabilities numerically 0 or 1 occurred\u201d",
                    "name": "stderr"
                },
                {
                    "output_type": "stream",
                    "text": "\nStep:  AIC=77.33\nManipulater ~ DSRI + ACCR + AQI + SGI\n\n",
                    "name": "stdout"
                },
                {
                    "output_type": "stream",
                    "text": "Warning message:\n\u201cglm.fit: fitted probabilities numerically 0 or 1 occurred\u201dWarning message:\n\u201cglm.fit: fitted probabilities numerically 0 or 1 occurred\u201dWarning message:\n\u201cglm.fit: fitted probabilities numerically 0 or 1 occurred\u201dWarning message:\n\u201cglm.fit: fitted probabilities numerically 0 or 1 occurred\u201dWarning message:\n\u201cglm.fit: fitted probabilities numerically 0 or 1 occurred\u201dWarning message:\n\u201cglm.fit: fitted probabilities numerically 0 or 1 occurred\u201dWarning message:\n\u201cglm.fit: fitted probabilities numerically 0 or 1 occurred\u201dWarning message:\n\u201cglm.fit: fitted probabilities numerically 0 or 1 occurred\u201d",
                    "name": "stderr"
                },
                {
                    "output_type": "stream",
                    "text": "       Df Deviance     AIC\n+ GMI   1   57.248  69.248\n+ DEPI  1   64.127  76.127\n<none>      67.329  77.329\n+ LEVI  1   66.652  78.652\n+ SGAI  1   67.303  79.303\n- SGI   1   80.400  88.400\n- AQI   1   81.560  89.560\n- ACCR  1   83.499  91.499\n- DSRI  1   93.752 101.752\n",
                    "name": "stdout"
                },
                {
                    "output_type": "stream",
                    "text": "Warning message:\n\u201cglm.fit: fitted probabilities numerically 0 or 1 occurred\u201d",
                    "name": "stderr"
                },
                {
                    "output_type": "stream",
                    "text": "\nStep:  AIC=69.25\nManipulater ~ DSRI + ACCR + AQI + SGI + GMI\n\n",
                    "name": "stdout"
                },
                {
                    "output_type": "stream",
                    "text": "Warning message:\n\u201cglm.fit: fitted probabilities numerically 0 or 1 occurred\u201dWarning message:\n\u201cglm.fit: fitted probabilities numerically 0 or 1 occurred\u201dWarning message:\n\u201cglm.fit: fitted probabilities numerically 0 or 1 occurred\u201dWarning message:\n\u201cglm.fit: fitted probabilities numerically 0 or 1 occurred\u201dWarning message:\n\u201cglm.fit: fitted probabilities numerically 0 or 1 occurred\u201dWarning message:\n\u201cglm.fit: fitted probabilities numerically 0 or 1 occurred\u201dWarning message:\n\u201cglm.fit: fitted probabilities numerically 0 or 1 occurred\u201dWarning message:\n\u201cglm.fit: fitted probabilities numerically 0 or 1 occurred\u201d",
                    "name": "stderr"
                },
                {
                    "output_type": "stream",
                    "text": "       Df Deviance     AIC\n<none>      57.248  69.248\n+ SGAI  1   55.590  69.590\n+ LEVI  1   56.697  70.697\n+ DEPI  1   56.880  70.880\n- GMI   1   67.329  77.329\n- SGI   1   70.815  80.815\n- AQI   1   79.115  89.115\n- ACCR  1   81.068  91.068\n- DSRI  1   92.527 102.527\n",
                    "name": "stdout"
                },
                {
                    "output_type": "stream",
                    "text": "Warning message:\n\u201cglm.fit: fitted probabilities numerically 0 or 1 occurred\u201d",
                    "name": "stderr"
                },
                {
                    "output_type": "stream",
                    "text": "Start:  AIC=110.13\nManipulater ~ 1\n\n       Df Deviance    AIC\n+ DSRI  1   101.42 105.42\n+ ACCR  1   103.27 107.27\n+ SGI   1   103.56 107.56\n+ SGAI  1   105.53 109.53\n+ AQI   1   105.54 109.54\n<none>      108.13 110.13\n+ GMI   1   106.62 110.62\n+ LEVI  1   107.24 111.24\n+ DEPI  1   108.10 112.10\n\nStep:  AIC=105.42\nManipulater ~ DSRI\n\n       Df Deviance     AIC\n+ SGI   1   90.357  96.357\n+ ACCR  1   93.074  99.074\n+ AQI   1   98.071 104.071\n+ GMI   1   98.551 104.551\n<none>     101.421 105.421\n+ SGAI  1  101.211 107.211\n+ LEVI  1  101.266 107.266\n+ DEPI  1  101.418 107.418\n- DSRI  1  108.131 110.131\n\nStep:  AIC=96.36\nManipulater ~ DSRI + SGI\n\n",
                    "name": "stdout"
                },
                {
                    "output_type": "stream",
                    "text": "Warning message:\n\u201cglm.fit: fitted probabilities numerically 0 or 1 occurred\u201d",
                    "name": "stderr"
                },
                {
                    "output_type": "stream",
                    "text": "       Df Deviance     AIC\n+ AQI   1   79.502  87.502\n+ ACCR  1   83.269  91.269\n+ DEPI  1   86.959  94.959\n<none>      90.357  96.357\n+ GMI   1   89.070  97.070\n+ LEVI  1   90.134  98.134\n+ SGAI  1   90.308  98.308\n- SGI   1  101.421 105.421\n- DSRI  1  103.559 107.559\n",
                    "name": "stdout"
                },
                {
                    "output_type": "stream",
                    "text": "Warning message:\n\u201cglm.fit: fitted probabilities numerically 0 or 1 occurred\u201d",
                    "name": "stderr"
                },
                {
                    "output_type": "stream",
                    "text": "\nStep:  AIC=87.5\nManipulater ~ DSRI + SGI + AQI\n\n",
                    "name": "stdout"
                },
                {
                    "output_type": "stream",
                    "text": "Warning message:\n\u201cglm.fit: fitted probabilities numerically 0 or 1 occurred\u201dWarning message:\n\u201cglm.fit: fitted probabilities numerically 0 or 1 occurred\u201dWarning message:\n\u201cglm.fit: fitted probabilities numerically 0 or 1 occurred\u201dWarning message:\n\u201cglm.fit: fitted probabilities numerically 0 or 1 occurred\u201dWarning message:\n\u201cglm.fit: fitted probabilities numerically 0 or 1 occurred\u201dWarning message:\n\u201cglm.fit: fitted probabilities numerically 0 or 1 occurred\u201d",
                    "name": "stderr"
                },
                {
                    "output_type": "stream",
                    "text": "       Df Deviance     AIC\n+ ACCR  1   64.864  74.864\n+ DEPI  1   68.212  78.212\n+ GMI   1   75.471  85.471\n+ LEVI  1   77.043  87.043\n<none>      79.502  87.502\n+ SGAI  1   79.468  89.468\n- AQI   1   90.357  96.357\n- SGI   1   98.071 104.071\n- DSRI  1   99.433 105.433\n",
                    "name": "stdout"
                },
                {
                    "output_type": "stream",
                    "text": "Warning message:\n\u201cglm.fit: fitted probabilities numerically 0 or 1 occurred\u201d",
                    "name": "stderr"
                },
                {
                    "output_type": "stream",
                    "text": "\nStep:  AIC=74.86\nManipulater ~ DSRI + SGI + AQI + ACCR\n\n",
                    "name": "stdout"
                },
                {
                    "output_type": "stream",
                    "text": "Warning message:\n\u201cglm.fit: fitted probabilities numerically 0 or 1 occurred\u201dWarning message:\n\u201cglm.fit: fitted probabilities numerically 0 or 1 occurred\u201dWarning message:\n\u201cglm.fit: fitted probabilities numerically 0 or 1 occurred\u201dWarning message:\n\u201cglm.fit: fitted probabilities numerically 0 or 1 occurred\u201dWarning message:\n\u201cglm.fit: fitted probabilities numerically 0 or 1 occurred\u201dWarning message:\n\u201cglm.fit: fitted probabilities numerically 0 or 1 occurred\u201d",
                    "name": "stderr"
                },
                {
                    "output_type": "stream",
                    "text": "       Df Deviance     AIC\n+ GMI   1   49.712  61.712\n+ DEPI  1   53.280  65.280\n<none>      64.864  74.864\n+ LEVI  1   63.405  75.405\n+ SGAI  1   64.463  76.463\n- ACCR  1   79.502  87.502\n- AQI   1   83.269  91.269\n- SGI   1   85.260  93.260\n- DSRI  1   93.147 101.147\n",
                    "name": "stdout"
                },
                {
                    "output_type": "stream",
                    "text": "Warning message:\n\u201cglm.fit: fitted probabilities numerically 0 or 1 occurred\u201d",
                    "name": "stderr"
                },
                {
                    "output_type": "stream",
                    "text": "\nStep:  AIC=61.71\nManipulater ~ DSRI + SGI + AQI + ACCR + GMI\n\n",
                    "name": "stdout"
                },
                {
                    "output_type": "stream",
                    "text": "Warning message:\n\u201cglm.fit: fitted probabilities numerically 0 or 1 occurred\u201dWarning message:\n\u201cglm.fit: fitted probabilities numerically 0 or 1 occurred\u201dWarning message:\n\u201cglm.fit: fitted probabilities numerically 0 or 1 occurred\u201dWarning message:\n\u201cglm.fit: fitted probabilities numerically 0 or 1 occurred\u201dWarning message:\n\u201cglm.fit: fitted probabilities numerically 0 or 1 occurred\u201dWarning message:\n\u201cglm.fit: fitted probabilities numerically 0 or 1 occurred\u201dWarning message:\n\u201cglm.fit: fitted probabilities numerically 0 or 1 occurred\u201dWarning message:\n\u201cglm.fit: fitted probabilities numerically 0 or 1 occurred\u201d",
                    "name": "stderr"
                },
                {
                    "output_type": "stream",
                    "text": "       Df Deviance     AIC\n+ DEPI  1   43.483  57.483\n<none>      49.712  61.712\n+ LEVI  1   49.304  63.304\n+ SGAI  1   49.329  63.329\n- GMI   1   64.864  74.864\n- SGI   1   74.614  84.614\n- ACCR  1   75.471  85.471\n- AQI   1   80.088  90.088\n- DSRI  1   91.320 101.320\n",
                    "name": "stdout"
                },
                {
                    "output_type": "stream",
                    "text": "Warning message:\n\u201cglm.fit: fitted probabilities numerically 0 or 1 occurred\u201d",
                    "name": "stderr"
                },
                {
                    "output_type": "stream",
                    "text": "\nStep:  AIC=57.48\nManipulater ~ DSRI + SGI + AQI + ACCR + GMI + DEPI\n\n",
                    "name": "stdout"
                },
                {
                    "output_type": "stream",
                    "text": "Warning message:\n\u201cglm.fit: fitted probabilities numerically 0 or 1 occurred\u201dWarning message:\n\u201cglm.fit: fitted probabilities numerically 0 or 1 occurred\u201dWarning message:\n\u201cglm.fit: fitted probabilities numerically 0 or 1 occurred\u201dWarning message:\n\u201cglm.fit: fitted probabilities numerically 0 or 1 occurred\u201dWarning message:\n\u201cglm.fit: fitted probabilities numerically 0 or 1 occurred\u201dWarning message:\n\u201cglm.fit: fitted probabilities numerically 0 or 1 occurred\u201dWarning message:\n\u201cglm.fit: fitted probabilities numerically 0 or 1 occurred\u201dWarning message:\n\u201cglm.fit: fitted probabilities numerically 0 or 1 occurred\u201d",
                    "name": "stderr"
                },
                {
                    "output_type": "stream",
                    "text": "       Df Deviance     AIC\n<none>      43.483  57.483\n+ LEVI  1   42.163  58.163\n+ SGAI  1   43.477  59.477\n- DEPI  1   49.712  61.712\n- GMI   1   53.280  65.280\n- ACCR  1   67.163  79.163\n- SGI   1   73.671  85.671\n- AQI   1   78.752  90.752\n- DSRI  1   91.295 103.295\n",
                    "name": "stdout"
                },
                {
                    "output_type": "stream",
                    "text": "Warning message:\n\u201cglm.fit: fitted probabilities numerically 0 or 1 occurred\u201d",
                    "name": "stderr"
                },
                {
                    "output_type": "stream",
                    "text": "Start:  AIC=110.13\nManipulater ~ 1\n\n",
                    "name": "stdout"
                },
                {
                    "output_type": "stream",
                    "text": "Warning message:\n\u201cglm.fit: fitted probabilities numerically 0 or 1 occurred\u201d",
                    "name": "stderr"
                },
                {
                    "output_type": "stream",
                    "text": "       Df Deviance    AIC\n+ ACCR  1   97.724 101.72\n+ DSRI  1   99.963 103.96\n+ SGAI  1  102.009 106.01\n+ AQI   1  103.734 107.73\n+ SGI   1  104.558 108.56\n<none>     108.131 110.13\n+ LEVI  1  106.597 110.60\n+ GMI   1  107.028 111.03\n+ DEPI  1  107.824 111.82\n\nStep:  AIC=101.72\nManipulater ~ ACCR\n\n",
                    "name": "stdout"
                },
                {
                    "output_type": "stream",
                    "text": "Warning message:\n\u201cglm.fit: fitted probabilities numerically 0 or 1 occurred\u201d",
                    "name": "stderr"
                },
                {
                    "output_type": "stream",
                    "text": "       Df Deviance     AIC\n+ DSRI  1   81.491  87.491\n+ SGAI  1   87.204  93.204\n+ AQI   1   88.722  94.722\n+ SGI   1   95.568 101.568\n+ LEVI  1   95.611 101.611\n<none>      97.724 101.724\n+ DEPI  1   96.017 102.017\n+ GMI   1   96.593 102.593\n- ACCR  1  108.131 110.131\n",
                    "name": "stdout"
                },
                {
                    "output_type": "stream",
                    "text": "Warning message:\n\u201cglm.fit: fitted probabilities numerically 0 or 1 occurred\u201d",
                    "name": "stderr"
                },
                {
                    "output_type": "stream",
                    "text": "\nStep:  AIC=87.49\nManipulater ~ ACCR + DSRI\n\n",
                    "name": "stdout"
                },
                {
                    "output_type": "stream",
                    "text": "Warning message:\n\u201cglm.fit: fitted probabilities numerically 0 or 1 occurred\u201dWarning message:\n\u201cglm.fit: fitted probabilities numerically 0 or 1 occurred\u201dWarning message:\n\u201cglm.fit: fitted probabilities numerically 0 or 1 occurred\u201dWarning message:\n\u201cglm.fit: fitted probabilities numerically 0 or 1 occurred\u201dWarning message:\n\u201cglm.fit: fitted probabilities numerically 0 or 1 occurred\u201dWarning message:\n\u201cglm.fit: fitted probabilities numerically 0 or 1 occurred\u201dWarning message:\n\u201cglm.fit: fitted probabilities numerically 0 or 1 occurred\u201d",
                    "name": "stderr"
                },
                {
                    "output_type": "stream",
                    "text": "       Df Deviance     AIC\n+ AQI   1   66.729  74.729\n+ SGI   1   75.718  83.718\n+ GMI   1   78.297  86.297\n<none>      81.491  87.491\n+ LEVI  1   80.016  88.016\n+ SGAI  1   80.225  88.225\n+ DEPI  1   80.711  88.711\n- DSRI  1   97.724 101.724\n- ACCR  1   99.963 103.963\n",
                    "name": "stdout"
                },
                {
                    "output_type": "stream",
                    "text": "Warning message:\n\u201cglm.fit: fitted probabilities numerically 0 or 1 occurred\u201d",
                    "name": "stderr"
                },
                {
                    "output_type": "stream",
                    "text": "\nStep:  AIC=74.73\nManipulater ~ ACCR + DSRI + AQI\n\n",
                    "name": "stdout"
                },
                {
                    "output_type": "stream",
                    "text": "Warning message:\n\u201cglm.fit: fitted probabilities numerically 0 or 1 occurred\u201dWarning message:\n\u201cglm.fit: fitted probabilities numerically 0 or 1 occurred\u201dWarning message:\n\u201cglm.fit: fitted probabilities numerically 0 or 1 occurred\u201dWarning message:\n\u201cglm.fit: fitted probabilities numerically 0 or 1 occurred\u201dWarning message:\n\u201cglm.fit: fitted probabilities numerically 0 or 1 occurred\u201dWarning message:\n\u201cglm.fit: fitted probabilities numerically 0 or 1 occurred\u201dWarning message:\n\u201cglm.fit: fitted probabilities numerically 0 or 1 occurred\u201d",
                    "name": "stderr"
                },
                {
                    "output_type": "stream",
                    "text": "       Df Deviance     AIC\n+ SGI   1   50.672  60.672\n+ GMI   1   60.853  70.853\n<none>      66.729  74.729\n+ DEPI  1   65.706  75.706\n+ SGAI  1   66.666  76.666\n+ LEVI  1   66.718  76.718\n- AQI   1   81.491  87.491\n- DSRI  1   88.722  94.722\n- ACCR  1   94.842 100.842\n",
                    "name": "stdout"
                },
                {
                    "output_type": "stream",
                    "text": "Warning message:\n\u201cglm.fit: fitted probabilities numerically 0 or 1 occurred\u201d",
                    "name": "stderr"
                },
                {
                    "output_type": "stream",
                    "text": "\nStep:  AIC=60.67\nManipulater ~ ACCR + DSRI + AQI + SGI\n\n",
                    "name": "stdout"
                },
                {
                    "output_type": "stream",
                    "text": "Warning message:\n\u201cglm.fit: fitted probabilities numerically 0 or 1 occurred\u201dWarning message:\n\u201cglm.fit: fitted probabilities numerically 0 or 1 occurred\u201dWarning message:\n\u201cglm.fit: fitted probabilities numerically 0 or 1 occurred\u201dWarning message:\n\u201cglm.fit: fitted probabilities numerically 0 or 1 occurred\u201dWarning message:\n\u201cglm.fit: fitted probabilities numerically 0 or 1 occurred\u201dWarning message:\n\u201cglm.fit: fitted probabilities numerically 0 or 1 occurred\u201dWarning message:\n\u201cglm.fit: fitted probabilities numerically 0 or 1 occurred\u201dWarning message:\n\u201cglm.fit: fitted probabilities numerically 0 or 1 occurred\u201d",
                    "name": "stderr"
                },
                {
                    "output_type": "stream",
                    "text": "       Df Deviance    AIC\n+ GMI   1   44.377 56.377\n<none>      50.672 60.672\n+ DEPI  1   49.771 61.771\n+ LEVI  1   50.465 62.465\n+ SGAI  1   50.645 62.645\n- SGI   1   66.729 74.729\n- AQI   1   75.718 83.718\n- ACCR  1   78.892 86.892\n- DSRI  1   85.290 93.290\n",
                    "name": "stdout"
                },
                {
                    "output_type": "stream",
                    "text": "Warning message:\n\u201cglm.fit: fitted probabilities numerically 0 or 1 occurred\u201d",
                    "name": "stderr"
                },
                {
                    "output_type": "stream",
                    "text": "\nStep:  AIC=56.38\nManipulater ~ ACCR + DSRI + AQI + SGI + GMI\n\n",
                    "name": "stdout"
                },
                {
                    "output_type": "stream",
                    "text": "Warning message:\n\u201cglm.fit: fitted probabilities numerically 0 or 1 occurred\u201dWarning message:\n\u201cglm.fit: fitted probabilities numerically 0 or 1 occurred\u201dWarning message:\n\u201cglm.fit: fitted probabilities numerically 0 or 1 occurred\u201dWarning message:\n\u201cglm.fit: fitted probabilities numerically 0 or 1 occurred\u201dWarning message:\n\u201cglm.fit: fitted probabilities numerically 0 or 1 occurred\u201dWarning message:\n\u201cglm.fit: fitted probabilities numerically 0 or 1 occurred\u201dWarning message:\n\u201cglm.fit: fitted probabilities numerically 0 or 1 occurred\u201dWarning message:\n\u201cglm.fit: fitted probabilities numerically 0 or 1 occurred\u201d",
                    "name": "stderr"
                },
                {
                    "output_type": "stream",
                    "text": "       Df Deviance    AIC\n<none>      44.377 56.377\n+ DEPI  1   42.764 56.764\n+ SGAI  1   44.203 58.203\n+ LEVI  1   44.312 58.312\n- GMI   1   50.672 60.672\n- SGI   1   60.853 70.853\n- AQI   1   73.664 83.664\n- ACCR  1   77.483 87.483\n- DSRI  1   84.355 94.355\n",
                    "name": "stdout"
                },
                {
                    "output_type": "stream",
                    "text": "Warning message:\n\u201cglm.fit: fitted probabilities numerically 0 or 1 occurred\u201d",
                    "name": "stderr"
                },
                {
                    "output_type": "stream",
                    "text": "Start:  AIC=110.13\nManipulater ~ 1\n\n",
                    "name": "stdout"
                },
                {
                    "output_type": "stream",
                    "text": "Warning message:\n\u201cglm.fit: fitted probabilities numerically 0 or 1 occurred\u201d",
                    "name": "stderr"
                },
                {
                    "output_type": "stream",
                    "text": "       Df Deviance     AIC\n+ DSRI  1   93.769  97.769\n+ AQI   1  103.771 107.771\n+ SGI   1  104.149 108.149\n+ SGAI  1  104.899 108.899\n+ ACCR  1  105.684 109.684\n<none>     108.131 110.131\n+ GMI   1  106.571 110.571\n+ LEVI  1  106.592 110.592\n+ DEPI  1  108.072 112.072\n",
                    "name": "stdout"
                },
                {
                    "output_type": "stream",
                    "text": "Warning message:\n\u201cglm.fit: fitted probabilities numerically 0 or 1 occurred\u201d",
                    "name": "stderr"
                },
                {
                    "output_type": "stream",
                    "text": "\nStep:  AIC=97.77\nManipulater ~ DSRI\n\n",
                    "name": "stdout"
                },
                {
                    "output_type": "stream",
                    "text": "Warning message:\n\u201cglm.fit: fitted probabilities numerically 0 or 1 occurred\u201dWarning message:\n\u201cglm.fit: fitted probabilities numerically 0 or 1 occurred\u201dWarning message:\n\u201cglm.fit: fitted probabilities numerically 0 or 1 occurred\u201dWarning message:\n\u201cglm.fit: fitted probabilities numerically 0 or 1 occurred\u201dWarning message:\n\u201cglm.fit: fitted probabilities numerically 0 or 1 occurred\u201dWarning message:\n\u201cglm.fit: fitted probabilities numerically 0 or 1 occurred\u201dWarning message:\n\u201cglm.fit: fitted probabilities numerically 0 or 1 occurred\u201dWarning message:\n\u201cglm.fit: fitted probabilities numerically 0 or 1 occurred\u201d",
                    "name": "stderr"
                },
                {
                    "output_type": "stream",
                    "text": "       Df Deviance     AIC\n+ SGI   1   82.090  88.090\n+ AQI   1   87.668  93.668\n+ GMI   1   88.585  94.585\n+ ACCR  1   89.825  95.825\n<none>      93.769  97.769\n+ SGAI  1   93.230  99.230\n+ LEVI  1   93.331  99.331\n+ DEPI  1   93.755  99.755\n- DSRI  1  108.131 110.131\n",
                    "name": "stdout"
                },
                {
                    "output_type": "stream",
                    "text": "Warning message:\n\u201cglm.fit: fitted probabilities numerically 0 or 1 occurred\u201d",
                    "name": "stderr"
                },
                {
                    "output_type": "stream",
                    "text": "\nStep:  AIC=88.09\nManipulater ~ DSRI + SGI\n\n",
                    "name": "stdout"
                },
                {
                    "output_type": "stream",
                    "text": "Warning message:\n\u201cglm.fit: fitted probabilities numerically 0 or 1 occurred\u201dWarning message:\n\u201cglm.fit: fitted probabilities numerically 0 or 1 occurred\u201dWarning message:\n\u201cglm.fit: fitted probabilities numerically 0 or 1 occurred\u201dWarning message:\n\u201cglm.fit: fitted probabilities numerically 0 or 1 occurred\u201dWarning message:\n\u201cglm.fit: fitted probabilities numerically 0 or 1 occurred\u201dWarning message:\n\u201cglm.fit: fitted probabilities numerically 0 or 1 occurred\u201dWarning message:\n\u201cglm.fit: fitted probabilities numerically 0 or 1 occurred\u201dWarning message:\n\u201cglm.fit: fitted probabilities numerically 0 or 1 occurred\u201d",
                    "name": "stderr"
                },
                {
                    "output_type": "stream",
                    "text": "       Df Deviance     AIC\n+ AQI   1   66.498  74.498\n+ ACCR  1   78.169  86.169\n+ GMI   1   79.116  87.116\n<none>      82.090  88.090\n+ DEPI  1   80.764  88.764\n+ SGAI  1   81.507  89.507\n+ LEVI  1   81.982  89.982\n- SGI   1   93.769  97.769\n- DSRI  1  104.149 108.149\n",
                    "name": "stdout"
                },
                {
                    "output_type": "stream",
                    "text": "Warning message:\n\u201cglm.fit: fitted probabilities numerically 0 or 1 occurred\u201d",
                    "name": "stderr"
                },
                {
                    "output_type": "stream",
                    "text": "\nStep:  AIC=74.5\nManipulater ~ DSRI + SGI + AQI\n\n",
                    "name": "stdout"
                },
                {
                    "output_type": "stream",
                    "text": "Warning message:\n\u201cglm.fit: fitted probabilities numerically 0 or 1 occurred\u201dWarning message:\n\u201cglm.fit: fitted probabilities numerically 0 or 1 occurred\u201dWarning message:\n\u201cglm.fit: fitted probabilities numerically 0 or 1 occurred\u201dWarning message:\n\u201cglm.fit: fitted probabilities numerically 0 or 1 occurred\u201dWarning message:\n\u201cglm.fit: fitted probabilities numerically 0 or 1 occurred\u201dWarning message:\n\u201cglm.fit: fitted probabilities numerically 0 or 1 occurred\u201dWarning message:\n\u201cglm.fit: fitted probabilities numerically 0 or 1 occurred\u201dWarning message:\n\u201cglm.fit: fitted probabilities numerically 0 or 1 occurred\u201d",
                    "name": "stderr"
                },
                {
                    "output_type": "stream",
                    "text": "       Df Deviance     AIC\n+ ACCR  1   48.381  58.381\n+ DEPI  1   57.003  67.003\n+ LEVI  1   60.196  70.196\n+ GMI   1   61.784  71.784\n<none>      66.498  74.498\n+ SGAI  1   66.286  76.286\n- AQI   1   82.090  88.090\n- SGI   1   87.668  93.668\n- DSRI  1   98.845 104.845\n",
                    "name": "stdout"
                },
                {
                    "output_type": "stream",
                    "text": "Warning message:\n\u201cglm.fit: fitted probabilities numerically 0 or 1 occurred\u201d",
                    "name": "stderr"
                },
                {
                    "output_type": "stream",
                    "text": "\nStep:  AIC=58.38\nManipulater ~ DSRI + SGI + AQI + ACCR\n\n",
                    "name": "stdout"
                },
                {
                    "output_type": "stream",
                    "text": "Warning message:\n\u201cglm.fit: fitted probabilities numerically 0 or 1 occurred\u201dWarning message:\n\u201cglm.fit: fitted probabilities numerically 0 or 1 occurred\u201dWarning message:\n\u201cglm.fit: fitted probabilities numerically 0 or 1 occurred\u201dWarning message:\n\u201cglm.fit: fitted probabilities numerically 0 or 1 occurred\u201dWarning message:\n\u201cglm.fit: fitted probabilities numerically 0 or 1 occurred\u201dWarning message:\n\u201cglm.fit: fitted probabilities numerically 0 or 1 occurred\u201dWarning message:\n\u201cglm.fit: fitted probabilities numerically 0 or 1 occurred\u201dWarning message:\n\u201cglm.fit: fitted probabilities numerically 0 or 1 occurred\u201d",
                    "name": "stderr"
                },
                {
                    "output_type": "stream",
                    "text": "       Df Deviance     AIC\n+ DEPI  1   38.944  50.944\n+ GMI   1   42.968  54.968\n+ LEVI  1   45.372  57.372\n<none>      48.381  58.381\n+ SGAI  1   48.059  60.059\n- ACCR  1   66.498  74.498\n- SGI   1   77.402  85.402\n- AQI   1   78.169  86.169\n- DSRI  1   95.557 103.557\n",
                    "name": "stdout"
                },
                {
                    "output_type": "stream",
                    "text": "Warning message:\n\u201cglm.fit: fitted probabilities numerically 0 or 1 occurred\u201d",
                    "name": "stderr"
                },
                {
                    "output_type": "stream",
                    "text": "\nStep:  AIC=50.94\nManipulater ~ DSRI + SGI + AQI + ACCR + DEPI\n\n",
                    "name": "stdout"
                },
                {
                    "output_type": "stream",
                    "text": "Warning message:\n\u201cglm.fit: fitted probabilities numerically 0 or 1 occurred\u201dWarning message:\n\u201cglm.fit: fitted probabilities numerically 0 or 1 occurred\u201dWarning message:\n\u201cglm.fit: fitted probabilities numerically 0 or 1 occurred\u201dWarning message:\n\u201cglm.fit: fitted probabilities numerically 0 or 1 occurred\u201dWarning message:\n\u201cglm.fit: fitted probabilities numerically 0 or 1 occurred\u201dWarning message:\n\u201cglm.fit: fitted probabilities numerically 0 or 1 occurred\u201dWarning message:\n\u201cglm.fit: fitted probabilities numerically 0 or 1 occurred\u201dWarning message:\n\u201cglm.fit: fitted probabilities numerically 0 or 1 occurred\u201d",
                    "name": "stderr"
                },
                {
                    "output_type": "stream",
                    "text": "       Df Deviance     AIC\n+ LEVI  1   33.903  47.903\n+ GMI   1   36.570  50.570\n<none>      38.944  50.944\n+ SGAI  1   38.944  52.944\n- DEPI  1   48.381  58.381\n- ACCR  1   57.003  67.003\n- AQI   1   77.286  87.286\n- SGI   1   77.325  87.325\n- DSRI  1   95.209 105.209\n",
                    "name": "stdout"
                },
                {
                    "output_type": "stream",
                    "text": "Warning message:\n\u201cglm.fit: fitted probabilities numerically 0 or 1 occurred\u201d",
                    "name": "stderr"
                },
                {
                    "output_type": "stream",
                    "text": "\nStep:  AIC=47.9\nManipulater ~ DSRI + SGI + AQI + ACCR + DEPI + LEVI\n\n",
                    "name": "stdout"
                },
                {
                    "output_type": "stream",
                    "text": "Warning message:\n\u201cglm.fit: fitted probabilities numerically 0 or 1 occurred\u201dWarning message:\n\u201cglm.fit: fitted probabilities numerically 0 or 1 occurred\u201dWarning message:\n\u201cglm.fit: fitted probabilities numerically 0 or 1 occurred\u201dWarning message:\n\u201cglm.fit: fitted probabilities numerically 0 or 1 occurred\u201dWarning message:\n\u201cglm.fit: fitted probabilities numerically 0 or 1 occurred\u201dWarning message:\n\u201cglm.fit: fitted probabilities numerically 0 or 1 occurred\u201dWarning message:\n\u201cglm.fit: fitted probabilities numerically 0 or 1 occurred\u201dWarning message:\n\u201cglm.fit: fitted probabilities numerically 0 or 1 occurred\u201d",
                    "name": "stderr"
                },
                {
                    "output_type": "stream",
                    "text": "       Df Deviance     AIC\n+ GMI   1   29.313  45.313\n<none>      33.903  47.903\n+ SGAI  1   33.424  49.424\n- LEVI  1   38.944  50.944\n- DEPI  1   45.372  57.372\n- ACCR  1   48.725  60.725\n- AQI   1   77.144  89.144\n- SGI   1   77.276  89.276\n- DSRI  1   94.312 106.312\n",
                    "name": "stdout"
                },
                {
                    "output_type": "stream",
                    "text": "Warning message:\n\u201cglm.fit: fitted probabilities numerically 0 or 1 occurred\u201d",
                    "name": "stderr"
                },
                {
                    "output_type": "stream",
                    "text": "\nStep:  AIC=45.31\nManipulater ~ DSRI + SGI + AQI + ACCR + DEPI + LEVI + GMI\n\n",
                    "name": "stdout"
                },
                {
                    "output_type": "stream",
                    "text": "Warning message:\n\u201cglm.fit: fitted probabilities numerically 0 or 1 occurred\u201dWarning message:\n\u201cglm.fit: fitted probabilities numerically 0 or 1 occurred\u201dWarning message:\n\u201cglm.fit: fitted probabilities numerically 0 or 1 occurred\u201dWarning message:\n\u201cglm.fit: fitted probabilities numerically 0 or 1 occurred\u201dWarning message:\n\u201cglm.fit: fitted probabilities numerically 0 or 1 occurred\u201dWarning message:\n\u201cglm.fit: fitted probabilities numerically 0 or 1 occurred\u201dWarning message:\n\u201cglm.fit: fitted probabilities numerically 0 or 1 occurred\u201dWarning message:\n\u201cglm.fit: fitted probabilities numerically 0 or 1 occurred\u201d",
                    "name": "stderr"
                },
                {
                    "output_type": "stream",
                    "text": "       Df Deviance     AIC\n<none>      29.313  45.313\n+ SGAI  1   29.310  47.310\n- GMI   1   33.903  47.903\n- LEVI  1   36.570  50.570\n- DEPI  1   40.208  54.208\n- ACCR  1   46.686  60.686\n- SGI   1   67.023  81.023\n- AQI   1   74.510  88.510\n- DSRI  1   93.008 107.008\n",
                    "name": "stdout"
                },
                {
                    "output_type": "stream",
                    "text": "Warning message:\n\u201cglm.fit: fitted probabilities numerically 0 or 1 occurred\u201d",
                    "name": "stderr"
                },
                {
                    "output_type": "stream",
                    "text": "Start:  AIC=110.13\nManipulater ~ 1\n\n",
                    "name": "stdout"
                },
                {
                    "output_type": "stream",
                    "text": "Warning message:\n\u201cglm.fit: fitted probabilities numerically 0 or 1 occurred\u201d",
                    "name": "stderr"
                },
                {
                    "output_type": "stream",
                    "text": "       Df Deviance    AIC\n+ DSRI  1   92.100  96.10\n+ ACCR  1   99.981 103.98\n+ SGAI  1  104.098 108.10\n+ SGI   1  104.698 108.70\n+ AQI   1  105.640 109.64\n<none>     108.131 110.13\n+ LEVI  1  106.458 110.46\n+ GMI   1  106.554 110.55\n+ DEPI  1  106.742 110.74\n",
                    "name": "stdout"
                },
                {
                    "output_type": "stream",
                    "text": "Warning message:\n\u201cglm.fit: fitted probabilities numerically 0 or 1 occurred\u201d",
                    "name": "stderr"
                },
                {
                    "output_type": "stream",
                    "text": "\nStep:  AIC=96.1\nManipulater ~ DSRI\n\n",
                    "name": "stdout"
                },
                {
                    "output_type": "stream",
                    "text": "Warning message:\n\u201cglm.fit: fitted probabilities numerically 0 or 1 occurred\u201dWarning message:\n\u201cglm.fit: fitted probabilities numerically 0 or 1 occurred\u201dWarning message:\n\u201cglm.fit: fitted probabilities numerically 0 or 1 occurred\u201dWarning message:\n\u201cglm.fit: fitted probabilities numerically 0 or 1 occurred\u201dWarning message:\n\u201cglm.fit: fitted probabilities numerically 0 or 1 occurred\u201dWarning message:\n\u201cglm.fit: fitted probabilities numerically 0 or 1 occurred\u201dWarning message:\n\u201cglm.fit: fitted probabilities numerically 0 or 1 occurred\u201dWarning message:\n\u201cglm.fit: fitted probabilities numerically 0 or 1 occurred\u201d",
                    "name": "stderr"
                },
                {
                    "output_type": "stream",
                    "text": "       Df Deviance     AIC\n+ SGI   1   79.118  85.118\n+ ACCR  1   79.623  85.623\n+ AQI   1   87.137  93.137\n+ GMI   1   87.387  93.387\n<none>      92.100  96.100\n+ DEPI  1   90.552  96.552\n+ SGAI  1   91.077  97.077\n+ LEVI  1   91.480  97.480\n- DSRI  1  108.131 110.131\n",
                    "name": "stdout"
                },
                {
                    "output_type": "stream",
                    "text": "Warning message:\n\u201cglm.fit: fitted probabilities numerically 0 or 1 occurred\u201d",
                    "name": "stderr"
                },
                {
                    "output_type": "stream",
                    "text": "\nStep:  AIC=85.12\nManipulater ~ DSRI + SGI\n\n",
                    "name": "stdout"
                },
                {
                    "output_type": "stream",
                    "text": "Warning message:\n\u201cglm.fit: fitted probabilities numerically 0 or 1 occurred\u201dWarning message:\n\u201cglm.fit: fitted probabilities numerically 0 or 1 occurred\u201dWarning message:\n\u201cglm.fit: fitted probabilities numerically 0 or 1 occurred\u201dWarning message:\n\u201cglm.fit: fitted probabilities numerically 0 or 1 occurred\u201dWarning message:\n\u201cglm.fit: fitted probabilities numerically 0 or 1 occurred\u201dWarning message:\n\u201cglm.fit: fitted probabilities numerically 0 or 1 occurred\u201dWarning message:\n\u201cglm.fit: fitted probabilities numerically 0 or 1 occurred\u201dWarning message:\n\u201cglm.fit: fitted probabilities numerically 0 or 1 occurred\u201d",
                    "name": "stderr"
                },
                {
                    "output_type": "stream",
                    "text": "       Df Deviance     AIC\n+ AQI   1   65.728  73.728\n+ ACCR  1   68.861  76.861\n+ GMI   1   76.316  84.316\n<none>      79.118  85.118\n+ SGAI  1   78.430  86.430\n+ DEPI  1   78.631  86.631\n+ LEVI  1   79.008  87.008\n- SGI   1   92.100  96.100\n- DSRI  1  104.698 108.698\n",
                    "name": "stdout"
                },
                {
                    "output_type": "stream",
                    "text": "Warning message:\n\u201cglm.fit: fitted probabilities numerically 0 or 1 occurred\u201d",
                    "name": "stderr"
                },
                {
                    "output_type": "stream",
                    "text": "\nStep:  AIC=73.73\nManipulater ~ DSRI + SGI + AQI\n\n",
                    "name": "stdout"
                },
                {
                    "output_type": "stream",
                    "text": "Warning message:\n\u201cglm.fit: fitted probabilities numerically 0 or 1 occurred\u201dWarning message:\n\u201cglm.fit: fitted probabilities numerically 0 or 1 occurred\u201dWarning message:\n\u201cglm.fit: fitted probabilities numerically 0 or 1 occurred\u201dWarning message:\n\u201cglm.fit: fitted probabilities numerically 0 or 1 occurred\u201dWarning message:\n\u201cglm.fit: fitted probabilities numerically 0 or 1 occurred\u201dWarning message:\n\u201cglm.fit: fitted probabilities numerically 0 or 1 occurred\u201dWarning message:\n\u201cglm.fit: fitted probabilities numerically 0 or 1 occurred\u201dWarning message:\n\u201cglm.fit: fitted probabilities numerically 0 or 1 occurred\u201d",
                    "name": "stderr"
                },
                {
                    "output_type": "stream",
                    "text": "       Df Deviance     AIC\n+ ACCR  1   37.787  47.787\n+ GMI   1   59.496  69.496\n+ LEVI  1   63.414  73.414\n<none>      65.728  73.728\n+ DEPI  1   65.533  75.533\n+ SGAI  1   65.723  75.723\n- AQI   1   79.118  85.118\n- SGI   1   87.137  93.137\n- DSRI  1  101.450 107.450\n",
                    "name": "stdout"
                },
                {
                    "output_type": "stream",
                    "text": "Warning message:\n\u201cglm.fit: fitted probabilities numerically 0 or 1 occurred\u201d",
                    "name": "stderr"
                },
                {
                    "output_type": "stream",
                    "text": "\nStep:  AIC=47.79\nManipulater ~ DSRI + SGI + AQI + ACCR\n\n",
                    "name": "stdout"
                },
                {
                    "output_type": "stream",
                    "text": "Warning message:\n\u201cglm.fit: fitted probabilities numerically 0 or 1 occurred\u201dWarning message:\n\u201cglm.fit: fitted probabilities numerically 0 or 1 occurred\u201dWarning message:\n\u201cglm.fit: fitted probabilities numerically 0 or 1 occurred\u201dWarning message:\n\u201cglm.fit: fitted probabilities numerically 0 or 1 occurred\u201dWarning message:\n\u201cglm.fit: fitted probabilities numerically 0 or 1 occurred\u201dWarning message:\n\u201cglm.fit: fitted probabilities numerically 0 or 1 occurred\u201dWarning message:\n\u201cglm.fit: fitted probabilities numerically 0 or 1 occurred\u201dWarning message:\n\u201cglm.fit: fitted probabilities numerically 0 or 1 occurred\u201d",
                    "name": "stderr"
                },
                {
                    "output_type": "stream",
                    "text": "       Df Deviance    AIC\n+ GMI   1   30.997 42.997\n<none>      37.787 47.787\n+ SGAI  1   36.762 48.762\n+ LEVI  1   36.794 48.794\n+ DEPI  1   37.669 49.669\n- ACCR  1   65.728 73.728\n- SGI   1   66.968 74.968\n- AQI   1   68.861 76.861\n- DSRI  1   89.587 97.587\n",
                    "name": "stdout"
                },
                {
                    "output_type": "stream",
                    "text": "Warning message:\n\u201cglm.fit: fitted probabilities numerically 0 or 1 occurred\u201d",
                    "name": "stderr"
                },
                {
                    "output_type": "stream",
                    "text": "\nStep:  AIC=43\nManipulater ~ DSRI + SGI + AQI + ACCR + GMI\n\n",
                    "name": "stdout"
                },
                {
                    "output_type": "stream",
                    "text": "Warning message:\n\u201cglm.fit: fitted probabilities numerically 0 or 1 occurred\u201dWarning message:\n\u201cglm.fit: fitted probabilities numerically 0 or 1 occurred\u201dWarning message:\n\u201cglm.fit: fitted probabilities numerically 0 or 1 occurred\u201dWarning message:\n\u201cglm.fit: fitted probabilities numerically 0 or 1 occurred\u201dWarning message:\n\u201cglm.fit: fitted probabilities numerically 0 or 1 occurred\u201dWarning message:\n\u201cglm.fit: fitted probabilities numerically 0 or 1 occurred\u201dWarning message:\n\u201cglm.fit: fitted probabilities numerically 0 or 1 occurred\u201dWarning message:\n\u201cglm.fit: fitted probabilities numerically 0 or 1 occurred\u201d",
                    "name": "stderr"
                },
                {
                    "output_type": "stream",
                    "text": "       Df Deviance    AIC\n<none>      30.997 42.997\n+ LEVI  1   29.578 43.578\n+ DEPI  1   30.611 44.611\n+ SGAI  1   30.671 44.671\n- GMI   1   37.787 47.787\n- SGI   1   55.099 65.099\n- ACCR  1   59.496 69.496\n- AQI   1   66.729 76.729\n- DSRI  1   87.552 97.552\n",
                    "name": "stdout"
                },
                {
                    "output_type": "stream",
                    "text": "Warning message:\n\u201cglm.fit: fitted probabilities numerically 0 or 1 occurred\u201d",
                    "name": "stderr"
                },
                {
                    "output_type": "stream",
                    "text": "Start:  AIC=110.13\nManipulater ~ 1\n\n       Df Deviance    AIC\n+ DSRI  1   98.972 102.97\n+ SGI   1  103.500 107.50\n+ SGAI  1  103.709 107.71\n+ ACCR  1  104.430 108.43\n+ AQI   1  105.816 109.82\n<none>     108.131 110.13\n+ LEVI  1  106.492 110.49\n+ GMI   1  106.767 110.77\n+ DEPI  1  108.082 112.08\n\nStep:  AIC=102.97\nManipulater ~ DSRI\n\n",
                    "name": "stdout"
                },
                {
                    "output_type": "stream",
                    "text": "Warning message:\n\u201cglm.fit: fitted probabilities numerically 0 or 1 occurred\u201dWarning message:\n\u201cglm.fit: fitted probabilities numerically 0 or 1 occurred\u201dWarning message:\n\u201cglm.fit: fitted probabilities numerically 0 or 1 occurred\u201dWarning message:\n\u201cglm.fit: fitted probabilities numerically 0 or 1 occurred\u201d",
                    "name": "stderr"
                },
                {
                    "output_type": "stream",
                    "text": "       Df Deviance     AIC\n+ SGI   1   87.420  93.420\n+ ACCR  1   92.883  98.883\n+ AQI   1   95.546 101.546\n+ GMI   1   95.980 101.980\n+ SGAI  1   96.919 102.919\n<none>      98.972 102.972\n+ LEVI  1   98.510 104.510\n+ DEPI  1   98.748 104.748\n- DSRI  1  108.131 110.131\n",
                    "name": "stdout"
                },
                {
                    "output_type": "stream",
                    "text": "Warning message:\n\u201cglm.fit: fitted probabilities numerically 0 or 1 occurred\u201d",
                    "name": "stderr"
                },
                {
                    "output_type": "stream",
                    "text": "\nStep:  AIC=93.42\nManipulater ~ DSRI + SGI\n\n",
                    "name": "stdout"
                },
                {
                    "output_type": "stream",
                    "text": "Warning message:\n\u201cglm.fit: fitted probabilities numerically 0 or 1 occurred\u201dWarning message:\n\u201cglm.fit: fitted probabilities numerically 0 or 1 occurred\u201dWarning message:\n\u201cglm.fit: fitted probabilities numerically 0 or 1 occurred\u201dWarning message:\n\u201cglm.fit: fitted probabilities numerically 0 or 1 occurred\u201dWarning message:\n\u201cglm.fit: fitted probabilities numerically 0 or 1 occurred\u201dWarning message:\n\u201cglm.fit: fitted probabilities numerically 0 or 1 occurred\u201dWarning message:\n\u201cglm.fit: fitted probabilities numerically 0 or 1 occurred\u201d",
                    "name": "stderr"
                },
                {
                    "output_type": "stream",
                    "text": "       Df Deviance     AIC\n+ AQI   1   76.342  84.342\n+ ACCR  1   82.565  90.565\n+ DEPI  1   83.476  91.476\n<none>      87.420  93.420\n+ SGAI  1   85.504  93.504\n+ GMI   1   86.198  94.198\n+ LEVI  1   87.420  95.420\n- SGI   1   98.972 102.972\n- DSRI  1  103.500 107.500\n",
                    "name": "stdout"
                },
                {
                    "output_type": "stream",
                    "text": "Warning message:\n\u201cglm.fit: fitted probabilities numerically 0 or 1 occurred\u201d",
                    "name": "stderr"
                },
                {
                    "output_type": "stream",
                    "text": "\nStep:  AIC=84.34\nManipulater ~ DSRI + SGI + AQI\n\n",
                    "name": "stdout"
                },
                {
                    "output_type": "stream",
                    "text": "Warning message:\n\u201cglm.fit: fitted probabilities numerically 0 or 1 occurred\u201dWarning message:\n\u201cglm.fit: fitted probabilities numerically 0 or 1 occurred\u201dWarning message:\n\u201cglm.fit: fitted probabilities numerically 0 or 1 occurred\u201dWarning message:\n\u201cglm.fit: fitted probabilities numerically 0 or 1 occurred\u201dWarning message:\n\u201cglm.fit: fitted probabilities numerically 0 or 1 occurred\u201dWarning message:\n\u201cglm.fit: fitted probabilities numerically 0 or 1 occurred\u201dWarning message:\n\u201cglm.fit: fitted probabilities numerically 0 or 1 occurred\u201dWarning message:\n\u201cglm.fit: fitted probabilities numerically 0 or 1 occurred\u201d",
                    "name": "stderr"
                },
                {
                    "output_type": "stream",
                    "text": "       Df Deviance     AIC\n+ DEPI  1   65.324  75.324\n+ ACCR  1   66.738  76.738\n+ GMI   1   73.930  83.930\n+ LEVI  1   74.133  84.133\n<none>      76.342  84.342\n+ SGAI  1   75.759  85.759\n- AQI   1   87.420  93.420\n- SGI   1   95.546 101.546\n- DSRI  1   99.806 105.806\n",
                    "name": "stdout"
                },
                {
                    "output_type": "stream",
                    "text": "Warning message:\n\u201cglm.fit: fitted probabilities numerically 0 or 1 occurred\u201d",
                    "name": "stderr"
                },
                {
                    "output_type": "stream",
                    "text": "\nStep:  AIC=75.32\nManipulater ~ DSRI + SGI + AQI + DEPI\n\n",
                    "name": "stdout"
                },
                {
                    "output_type": "stream",
                    "text": "Warning message:\n\u201cglm.fit: fitted probabilities numerically 0 or 1 occurred\u201dWarning message:\n\u201cglm.fit: fitted probabilities numerically 0 or 1 occurred\u201dWarning message:\n\u201cglm.fit: fitted probabilities numerically 0 or 1 occurred\u201dWarning message:\n\u201cglm.fit: fitted probabilities numerically 0 or 1 occurred\u201dWarning message:\n\u201cglm.fit: fitted probabilities numerically 0 or 1 occurred\u201dWarning message:\n\u201cglm.fit: fitted probabilities numerically 0 or 1 occurred\u201dWarning message:\n\u201cglm.fit: fitted probabilities numerically 0 or 1 occurred\u201dWarning message:\n\u201cglm.fit: fitted probabilities numerically 0 or 1 occurred\u201d",
                    "name": "stderr"
                },
                {
                    "output_type": "stream",
                    "text": "       Df Deviance     AIC\n+ ACCR  1   56.701  68.701\n+ LEVI  1   62.609  74.609\n<none>      65.324  75.324\n+ SGAI  1   63.533  75.533\n+ GMI   1   65.118  77.118\n- DEPI  1   76.342  84.342\n- AQI   1   83.476  91.476\n- SGI   1   94.870 102.870\n- DSRI  1   98.139 106.139\n",
                    "name": "stdout"
                },
                {
                    "output_type": "stream",
                    "text": "Warning message:\n\u201cglm.fit: fitted probabilities numerically 0 or 1 occurred\u201d",
                    "name": "stderr"
                },
                {
                    "output_type": "stream",
                    "text": "\nStep:  AIC=68.7\nManipulater ~ DSRI + SGI + AQI + DEPI + ACCR\n\n",
                    "name": "stdout"
                },
                {
                    "output_type": "stream",
                    "text": "Warning message:\n\u201cglm.fit: fitted probabilities numerically 0 or 1 occurred\u201dWarning message:\n\u201cglm.fit: fitted probabilities numerically 0 or 1 occurred\u201dWarning message:\n\u201cglm.fit: fitted probabilities numerically 0 or 1 occurred\u201dWarning message:\n\u201cglm.fit: fitted probabilities numerically 0 or 1 occurred\u201dWarning message:\n\u201cglm.fit: fitted probabilities numerically 0 or 1 occurred\u201dWarning message:\n\u201cglm.fit: fitted probabilities numerically 0 or 1 occurred\u201dWarning message:\n\u201cglm.fit: fitted probabilities numerically 0 or 1 occurred\u201dWarning message:\n\u201cglm.fit: fitted probabilities numerically 0 or 1 occurred\u201d",
                    "name": "stderr"
                },
                {
                    "output_type": "stream",
                    "text": "       Df Deviance     AIC\n+ GMI   1   54.681  68.681\n<none>      56.701  68.701\n+ LEVI  1   55.116  69.116\n+ SGAI  1   56.400  70.400\n- ACCR  1   65.324  75.324\n- DEPI  1   66.738  76.738\n- AQI   1   79.718  89.718\n- SGI   1   86.293  96.293\n- DSRI  1   94.459 104.459\n",
                    "name": "stdout"
                },
                {
                    "output_type": "stream",
                    "text": "Warning message:\n\u201cglm.fit: fitted probabilities numerically 0 or 1 occurred\u201d",
                    "name": "stderr"
                },
                {
                    "output_type": "stream",
                    "text": "\nStep:  AIC=68.68\nManipulater ~ DSRI + SGI + AQI + DEPI + ACCR + GMI\n\n",
                    "name": "stdout"
                },
                {
                    "output_type": "stream",
                    "text": "Warning message:\n\u201cglm.fit: fitted probabilities numerically 0 or 1 occurred\u201dWarning message:\n\u201cglm.fit: fitted probabilities numerically 0 or 1 occurred\u201dWarning message:\n\u201cglm.fit: fitted probabilities numerically 0 or 1 occurred\u201dWarning message:\n\u201cglm.fit: fitted probabilities numerically 0 or 1 occurred\u201dWarning message:\n\u201cglm.fit: fitted probabilities numerically 0 or 1 occurred\u201dWarning message:\n\u201cglm.fit: fitted probabilities numerically 0 or 1 occurred\u201dWarning message:\n\u201cglm.fit: fitted probabilities numerically 0 or 1 occurred\u201dWarning message:\n\u201cglm.fit: fitted probabilities numerically 0 or 1 occurred\u201d",
                    "name": "stderr"
                },
                {
                    "output_type": "stream",
                    "text": "       Df Deviance     AIC\n<none>      54.681  68.681\n- GMI   1   56.701  68.701\n+ LEVI  1   53.512  69.512\n+ SGAI  1   53.752  69.752\n- DEPI  1   61.002  73.002\n- ACCR  1   65.118  77.118\n- SGI   1   78.881  90.881\n- AQI   1   78.881  90.881\n- DSRI  1   93.744 105.744\n",
                    "name": "stdout"
                },
                {
                    "output_type": "stream",
                    "text": "Warning message:\n\u201cglm.fit: fitted probabilities numerically 0 or 1 occurred\u201d",
                    "name": "stderr"
                },
                {
                    "output_type": "stream",
                    "text": "Start:  AIC=110.13\nManipulater ~ 1\n\n       Df Deviance    AIC\n+ DSRI  1   100.49 104.49\n+ ACCR  1   102.13 106.13\n+ SGAI  1   102.70 106.70\n+ SGI   1   104.35 108.35\n+ AQI   1   105.43 109.43\n<none>      108.13 110.13\n+ DEPI  1   106.27 110.27\n+ GMI   1   106.29 110.29\n+ LEVI  1   106.41 110.41\n\nStep:  AIC=104.49\nManipulater ~ DSRI\n\n",
                    "name": "stdout"
                },
                {
                    "output_type": "stream",
                    "text": "Warning message:\n\u201cglm.fit: fitted probabilities numerically 0 or 1 occurred\u201d",
                    "name": "stderr"
                },
                {
                    "output_type": "stream",
                    "text": "       Df Deviance     AIC\n+ ACCR  1   90.723  96.723\n+ SGI   1   92.079  98.079\n+ AQI   1   96.772 102.772\n+ GMI   1   96.942 102.942\n+ SGAI  1   97.434 103.434\n<none>     100.493 104.493\n+ DEPI  1   99.322 105.322\n+ LEVI  1   99.905 105.905\n- DSRI  1  108.131 110.131\n\nStep:  AIC=96.72\nManipulater ~ DSRI + ACCR\n\n",
                    "name": "stdout"
                },
                {
                    "output_type": "stream",
                    "text": "Warning message:\n\u201cglm.fit: fitted probabilities numerically 0 or 1 occurred\u201d",
                    "name": "stderr"
                },
                {
                    "output_type": "stream",
                    "text": "       Df Deviance     AIC\n+ AQI   1   81.511  89.511\n+ SGI   1   82.275  90.275\n+ GMI   1   85.334  93.334\n<none>      90.723  96.723\n+ DEPI  1   89.041  97.041\n+ SGAI  1   89.107  97.107\n+ LEVI  1   89.606  97.606\n- ACCR  1  100.493 104.493\n- DSRI  1  102.127 106.127\n\nStep:  AIC=89.51\nManipulater ~ DSRI + ACCR + AQI\n\n",
                    "name": "stdout"
                },
                {
                    "output_type": "stream",
                    "text": "Warning message:\n\u201cglm.fit: fitted probabilities numerically 0 or 1 occurred\u201dWarning message:\n\u201cglm.fit: fitted probabilities numerically 0 or 1 occurred\u201d",
                    "name": "stderr"
                },
                {
                    "output_type": "stream",
                    "text": "       Df Deviance     AIC\n+ SGI   1   64.730  74.730\n+ GMI   1   71.145  81.145\n<none>      81.511  89.511\n+ DEPI  1   80.312  90.312\n+ SGAI  1   81.133  91.133\n+ LEVI  1   81.404  91.404\n- AQI   1   90.723  96.723\n- DSRI  1   96.465 102.465\n- ACCR  1   96.772 102.772\n",
                    "name": "stdout"
                },
                {
                    "output_type": "stream",
                    "text": "Warning message:\n\u201cglm.fit: fitted probabilities numerically 0 or 1 occurred\u201d",
                    "name": "stderr"
                },
                {
                    "output_type": "stream",
                    "text": "\nStep:  AIC=74.73\nManipulater ~ DSRI + ACCR + AQI + SGI\n\n",
                    "name": "stdout"
                },
                {
                    "output_type": "stream",
                    "text": "Warning message:\n\u201cglm.fit: fitted probabilities numerically 0 or 1 occurred\u201dWarning message:\n\u201cglm.fit: fitted probabilities numerically 0 or 1 occurred\u201dWarning message:\n\u201cglm.fit: fitted probabilities numerically 0 or 1 occurred\u201dWarning message:\n\u201cglm.fit: fitted probabilities numerically 0 or 1 occurred\u201dWarning message:\n\u201cglm.fit: fitted probabilities numerically 0 or 1 occurred\u201dWarning message:\n\u201cglm.fit: fitted probabilities numerically 0 or 1 occurred\u201d",
                    "name": "stderr"
                },
                {
                    "output_type": "stream",
                    "text": "       Df Deviance    AIC\n+ GMI   1   55.697 67.697\n<none>      64.730 74.730\n+ LEVI  1   64.188 76.188\n+ DEPI  1   64.286 76.286\n+ SGAI  1   64.726 76.726\n- SGI   1   81.511 89.511\n- AQI   1   82.275 90.275\n- ACCR  1   84.903 92.903\n- DSRI  1   91.786 99.786\n",
                    "name": "stdout"
                },
                {
                    "output_type": "stream",
                    "text": "Warning message:\n\u201cglm.fit: fitted probabilities numerically 0 or 1 occurred\u201d",
                    "name": "stderr"
                },
                {
                    "output_type": "stream",
                    "text": "\nStep:  AIC=67.7\nManipulater ~ DSRI + ACCR + AQI + SGI + GMI\n\n",
                    "name": "stdout"
                },
                {
                    "output_type": "stream",
                    "text": "Warning message:\n\u201cglm.fit: fitted probabilities numerically 0 or 1 occurred\u201dWarning message:\n\u201cglm.fit: fitted probabilities numerically 0 or 1 occurred\u201dWarning message:\n\u201cglm.fit: fitted probabilities numerically 0 or 1 occurred\u201dWarning message:\n\u201cglm.fit: fitted probabilities numerically 0 or 1 occurred\u201dWarning message:\n\u201cglm.fit: fitted probabilities numerically 0 or 1 occurred\u201dWarning message:\n\u201cglm.fit: fitted probabilities numerically 0 or 1 occurred\u201dWarning message:\n\u201cglm.fit: fitted probabilities numerically 0 or 1 occurred\u201dWarning message:\n\u201cglm.fit: fitted probabilities numerically 0 or 1 occurred\u201d",
                    "name": "stderr"
                },
                {
                    "output_type": "stream",
                    "text": "       Df Deviance    AIC\n<none>      55.697 67.697\n+ DEPI  1   54.848 68.848\n+ SGAI  1   55.354 69.354\n+ LEVI  1   55.393 69.393\n- GMI   1   64.730 74.730\n- SGI   1   71.145 81.145\n- AQI   1   79.341 89.341\n- ACCR  1   81.563 91.563\n- DSRI  1   89.958 99.958\n",
                    "name": "stdout"
                },
                {
                    "output_type": "stream",
                    "text": "Warning message:\n\u201cglm.fit: fitted probabilities numerically 0 or 1 occurred\u201d",
                    "name": "stderr"
                },
                {
                    "output_type": "stream",
                    "text": "Start:  AIC=110.13\nManipulater ~ 1\n\n       Df Deviance    AIC\n+ DSRI  1   99.314 103.31\n+ SGI   1  103.372 107.37\n+ ACCR  1  103.581 107.58\n+ SGAI  1  103.970 107.97\n+ AQI   1  105.917 109.92\n<none>     108.131 110.13\n+ GMI   1  106.766 110.77\n+ LEVI  1  106.837 110.84\n+ DEPI  1  107.529 111.53\n\nStep:  AIC=103.31\nManipulater ~ DSRI\n\n",
                    "name": "stdout"
                },
                {
                    "output_type": "stream",
                    "text": "Warning message:\n\u201cglm.fit: fitted probabilities numerically 0 or 1 occurred\u201d",
                    "name": "stderr"
                },
                {
                    "output_type": "stream",
                    "text": "       Df Deviance     AIC\n+ SGI   1   86.999  92.999\n+ ACCR  1   91.482  97.482\n+ AQI   1   96.127 102.127\n+ GMI   1   96.511 102.511\n<none>      99.314 103.314\n+ SGAI  1   97.705 103.705\n+ DEPI  1   98.956 104.956\n+ LEVI  1   99.065 105.065\n- DSRI  1  108.131 110.131\n",
                    "name": "stdout"
                },
                {
                    "output_type": "stream",
                    "text": "Warning message:\n\u201cglm.fit: fitted probabilities numerically 0 or 1 occurred\u201d",
                    "name": "stderr"
                },
                {
                    "output_type": "stream",
                    "text": "\nStep:  AIC=93\nManipulater ~ DSRI + SGI\n\n",
                    "name": "stdout"
                },
                {
                    "output_type": "stream",
                    "text": "Warning message:\n\u201cglm.fit: fitted probabilities numerically 0 or 1 occurred\u201dWarning message:\n\u201cglm.fit: fitted probabilities numerically 0 or 1 occurred\u201dWarning message:\n\u201cglm.fit: fitted probabilities numerically 0 or 1 occurred\u201dWarning message:\n\u201cglm.fit: fitted probabilities numerically 0 or 1 occurred\u201dWarning message:\n\u201cglm.fit: fitted probabilities numerically 0 or 1 occurred\u201dWarning message:\n\u201cglm.fit: fitted probabilities numerically 0 or 1 occurred\u201dWarning message:\n\u201cglm.fit: fitted probabilities numerically 0 or 1 occurred\u201d",
                    "name": "stderr"
                },
                {
                    "output_type": "stream",
                    "text": "       Df Deviance     AIC\n+ AQI   1   76.196  84.196\n+ ACCR  1   80.277  88.277\n+ SGAI  1   84.930  92.930\n<none>      86.999  92.999\n+ GMI   1   86.055  94.055\n+ DEPI  1   86.599  94.599\n+ LEVI  1   86.990  94.990\n- SGI   1   99.314 103.314\n- DSRI  1  103.372 107.372\n",
                    "name": "stdout"
                },
                {
                    "output_type": "stream",
                    "text": "Warning message:\n\u201cglm.fit: fitted probabilities numerically 0 or 1 occurred\u201d",
                    "name": "stderr"
                },
                {
                    "output_type": "stream",
                    "text": "\nStep:  AIC=84.2\nManipulater ~ DSRI + SGI + AQI\n\n",
                    "name": "stdout"
                },
                {
                    "output_type": "stream",
                    "text": "Warning message:\n\u201cglm.fit: fitted probabilities numerically 0 or 1 occurred\u201dWarning message:\n\u201cglm.fit: fitted probabilities numerically 0 or 1 occurred\u201dWarning message:\n\u201cglm.fit: fitted probabilities numerically 0 or 1 occurred\u201dWarning message:\n\u201cglm.fit: fitted probabilities numerically 0 or 1 occurred\u201dWarning message:\n\u201cglm.fit: fitted probabilities numerically 0 or 1 occurred\u201dWarning message:\n\u201cglm.fit: fitted probabilities numerically 0 or 1 occurred\u201dWarning message:\n\u201cglm.fit: fitted probabilities numerically 0 or 1 occurred\u201d",
                    "name": "stderr"
                },
                {
                    "output_type": "stream",
                    "text": "       Df Deviance     AIC\n+ ACCR  1   61.706  71.706\n+ DEPI  1   70.656  80.656\n+ GMI   1   73.945  83.945\n+ LEVI  1   74.183  84.183\n<none>      76.196  84.196\n+ SGAI  1   75.472  85.472\n- AQI   1   86.999  92.999\n- SGI   1   96.127 102.127\n- DSRI  1   99.835 105.835\n",
                    "name": "stdout"
                },
                {
                    "output_type": "stream",
                    "text": "Warning message:\n\u201cglm.fit: fitted probabilities numerically 0 or 1 occurred\u201d",
                    "name": "stderr"
                },
                {
                    "output_type": "stream",
                    "text": "\nStep:  AIC=71.71\nManipulater ~ DSRI + SGI + AQI + ACCR\n\n",
                    "name": "stdout"
                },
                {
                    "output_type": "stream",
                    "text": "Warning message:\n\u201cglm.fit: fitted probabilities numerically 0 or 1 occurred\u201dWarning message:\n\u201cglm.fit: fitted probabilities numerically 0 or 1 occurred\u201dWarning message:\n\u201cglm.fit: fitted probabilities numerically 0 or 1 occurred\u201dWarning message:\n\u201cglm.fit: fitted probabilities numerically 0 or 1 occurred\u201dWarning message:\n\u201cglm.fit: fitted probabilities numerically 0 or 1 occurred\u201dWarning message:\n\u201cglm.fit: fitted probabilities numerically 0 or 1 occurred\u201dWarning message:\n\u201cglm.fit: fitted probabilities numerically 0 or 1 occurred\u201d",
                    "name": "stderr"
                },
                {
                    "output_type": "stream",
                    "text": "       Df Deviance     AIC\n+ GMI   1   54.557  66.557\n+ DEPI  1   57.028  69.028\n<none>      61.706  71.706\n+ LEVI  1   60.975  72.975\n+ SGAI  1   61.677  73.677\n- ACCR  1   76.196  84.196\n- AQI   1   80.277  88.277\n- SGI   1   84.114  92.114\n- DSRI  1   93.874 101.874\n",
                    "name": "stdout"
                },
                {
                    "output_type": "stream",
                    "text": "Warning message:\n\u201cglm.fit: fitted probabilities numerically 0 or 1 occurred\u201d",
                    "name": "stderr"
                },
                {
                    "output_type": "stream",
                    "text": "\nStep:  AIC=66.56\nManipulater ~ DSRI + SGI + AQI + ACCR + GMI\n\n",
                    "name": "stdout"
                },
                {
                    "output_type": "stream",
                    "text": "Warning message:\n\u201cglm.fit: fitted probabilities numerically 0 or 1 occurred\u201dWarning message:\n\u201cglm.fit: fitted probabilities numerically 0 or 1 occurred\u201dWarning message:\n\u201cglm.fit: fitted probabilities numerically 0 or 1 occurred\u201dWarning message:\n\u201cglm.fit: fitted probabilities numerically 0 or 1 occurred\u201dWarning message:\n\u201cglm.fit: fitted probabilities numerically 0 or 1 occurred\u201dWarning message:\n\u201cglm.fit: fitted probabilities numerically 0 or 1 occurred\u201dWarning message:\n\u201cglm.fit: fitted probabilities numerically 0 or 1 occurred\u201dWarning message:\n\u201cglm.fit: fitted probabilities numerically 0 or 1 occurred\u201d",
                    "name": "stderr"
                },
                {
                    "output_type": "stream",
                    "text": "       Df Deviance     AIC\n+ DEPI  1   51.404  65.404\n<none>      54.557  66.557\n+ SGAI  1   53.951  67.951\n+ LEVI  1   54.175  68.175\n- GMI   1   61.706  71.706\n- ACCR  1   73.945  83.945\n- SGI   1   75.090  85.090\n- AQI   1   78.576  88.576\n- DSRI  1   92.836 102.836\n",
                    "name": "stdout"
                },
                {
                    "output_type": "stream",
                    "text": "Warning message:\n\u201cglm.fit: fitted probabilities numerically 0 or 1 occurred\u201d",
                    "name": "stderr"
                },
                {
                    "output_type": "stream",
                    "text": "\nStep:  AIC=65.4\nManipulater ~ DSRI + SGI + AQI + ACCR + GMI + DEPI\n\n",
                    "name": "stdout"
                },
                {
                    "output_type": "stream",
                    "text": "Warning message:\n\u201cglm.fit: fitted probabilities numerically 0 or 1 occurred\u201dWarning message:\n\u201cglm.fit: fitted probabilities numerically 0 or 1 occurred\u201dWarning message:\n\u201cglm.fit: fitted probabilities numerically 0 or 1 occurred\u201dWarning message:\n\u201cglm.fit: fitted probabilities numerically 0 or 1 occurred\u201dWarning message:\n\u201cglm.fit: fitted probabilities numerically 0 or 1 occurred\u201dWarning message:\n\u201cglm.fit: fitted probabilities numerically 0 or 1 occurred\u201dWarning message:\n\u201cglm.fit: fitted probabilities numerically 0 or 1 occurred\u201dWarning message:\n\u201cglm.fit: fitted probabilities numerically 0 or 1 occurred\u201d",
                    "name": "stderr"
                },
                {
                    "output_type": "stream",
                    "text": "       Df Deviance     AIC\n<none>      51.404  65.404\n+ SGAI  1   50.497  66.497\n- DEPI  1   54.557  66.557\n+ LEVI  1   50.808  66.808\n- GMI   1   57.028  69.028\n- ACCR  1   69.791  81.791\n- SGI   1   73.671  85.671\n- AQI   1   78.555  90.555\n- DSRI  1   92.657 104.657\n",
                    "name": "stdout"
                },
                {
                    "output_type": "stream",
                    "text": "Warning message:\n\u201cglm.fit: fitted probabilities numerically 0 or 1 occurred\u201d",
                    "name": "stderr"
                },
                {
                    "output_type": "stream",
                    "text": "Start:  AIC=110.13\nManipulater ~ 1\n\n       Df Deviance    AIC\n+ DSRI  1   99.233 103.23\n+ SGI   1  104.461 108.46\n+ ACCR  1  104.813 108.81\n+ SGAI  1  105.392 109.39\n+ AQI   1  105.613 109.61\n<none>     108.131 110.13\n+ GMI   1  106.833 110.83\n+ LEVI  1  107.138 111.14\n+ DEPI  1  107.511 111.51\n\nStep:  AIC=103.23\nManipulater ~ DSRI\n\n",
                    "name": "stdout"
                },
                {
                    "output_type": "stream",
                    "text": "Warning message:\n\u201cglm.fit: fitted probabilities numerically 0 or 1 occurred\u201dWarning message:\n\u201cglm.fit: fitted probabilities numerically 0 or 1 occurred\u201d",
                    "name": "stderr"
                },
                {
                    "output_type": "stream",
                    "text": "       Df Deviance     AIC\n+ SGI   1   90.053  96.053\n+ ACCR  1   91.485  97.485\n+ AQI   1   95.852 101.852\n+ GMI   1   96.408 102.408\n<none>      99.233 103.233\n+ SGAI  1   98.779 104.779\n+ DEPI  1   98.927 104.927\n+ LEVI  1   99.099 105.099\n- DSRI  1  108.131 110.131\n",
                    "name": "stdout"
                },
                {
                    "output_type": "stream",
                    "text": "Warning message:\n\u201cglm.fit: fitted probabilities numerically 0 or 1 occurred\u201d",
                    "name": "stderr"
                },
                {
                    "output_type": "stream",
                    "text": "\nStep:  AIC=96.05\nManipulater ~ DSRI + SGI\n\n",
                    "name": "stdout"
                },
                {
                    "output_type": "stream",
                    "text": "Warning message:\n\u201cglm.fit: fitted probabilities numerically 0 or 1 occurred\u201dWarning message:\n\u201cglm.fit: fitted probabilities numerically 0 or 1 occurred\u201dWarning message:\n\u201cglm.fit: fitted probabilities numerically 0 or 1 occurred\u201dWarning message:\n\u201cglm.fit: fitted probabilities numerically 0 or 1 occurred\u201dWarning message:\n\u201cglm.fit: fitted probabilities numerically 0 or 1 occurred\u201dWarning message:\n\u201cglm.fit: fitted probabilities numerically 0 or 1 occurred\u201dWarning message:\n\u201cglm.fit: fitted probabilities numerically 0 or 1 occurred\u201d",
                    "name": "stderr"
                },
                {
                    "output_type": "stream",
                    "text": "       Df Deviance     AIC\n+ AQI   1   81.710  89.710\n+ ACCR  1   82.791  90.791\n<none>      90.053  96.053\n+ GMI   1   88.461  96.461\n+ SGAI  1   89.824  97.824\n+ LEVI  1   89.860  97.860\n+ DEPI  1   90.030  98.030\n- SGI   1   99.233 103.233\n- DSRI  1  104.461 108.461\n",
                    "name": "stdout"
                },
                {
                    "output_type": "stream",
                    "text": "Warning message:\n\u201cglm.fit: fitted probabilities numerically 0 or 1 occurred\u201d",
                    "name": "stderr"
                },
                {
                    "output_type": "stream",
                    "text": "\nStep:  AIC=89.71\nManipulater ~ DSRI + SGI + AQI\n\n",
                    "name": "stdout"
                },
                {
                    "output_type": "stream",
                    "text": "Warning message:\n\u201cglm.fit: fitted probabilities numerically 0 or 1 occurred\u201dWarning message:\n\u201cglm.fit: fitted probabilities numerically 0 or 1 occurred\u201dWarning message:\n\u201cglm.fit: fitted probabilities numerically 0 or 1 occurred\u201dWarning message:\n\u201cglm.fit: fitted probabilities numerically 0 or 1 occurred\u201dWarning message:\n\u201cglm.fit: fitted probabilities numerically 0 or 1 occurred\u201dWarning message:\n\u201cglm.fit: fitted probabilities numerically 0 or 1 occurred\u201dWarning message:\n\u201cglm.fit: fitted probabilities numerically 0 or 1 occurred\u201d",
                    "name": "stderr"
                },
                {
                    "output_type": "stream",
                    "text": "       Df Deviance     AIC\n+ ACCR  1   67.779  77.779\n+ GMI   1   78.530  88.530\n+ LEVI  1   79.455  89.455\n<none>      81.710  89.710\n+ DEPI  1   80.178  90.178\n+ SGAI  1   81.658  91.658\n- AQI   1   90.053  96.053\n- SGI   1   95.852 101.852\n- DSRI  1  101.007 107.007\n",
                    "name": "stdout"
                },
                {
                    "output_type": "stream",
                    "text": "Warning message:\n\u201cglm.fit: fitted probabilities numerically 0 or 1 occurred\u201d",
                    "name": "stderr"
                },
                {
                    "output_type": "stream",
                    "text": "\nStep:  AIC=77.78\nManipulater ~ DSRI + SGI + AQI + ACCR\n\n",
                    "name": "stdout"
                },
                {
                    "output_type": "stream",
                    "text": "Warning message:\n\u201cglm.fit: fitted probabilities numerically 0 or 1 occurred\u201dWarning message:\n\u201cglm.fit: fitted probabilities numerically 0 or 1 occurred\u201dWarning message:\n\u201cglm.fit: fitted probabilities numerically 0 or 1 occurred\u201dWarning message:\n\u201cglm.fit: fitted probabilities numerically 0 or 1 occurred\u201dWarning message:\n\u201cglm.fit: fitted probabilities numerically 0 or 1 occurred\u201dWarning message:\n\u201cglm.fit: fitted probabilities numerically 0 or 1 occurred\u201dWarning message:\n\u201cglm.fit: fitted probabilities numerically 0 or 1 occurred\u201dWarning message:\n\u201cglm.fit: fitted probabilities numerically 0 or 1 occurred\u201d",
                    "name": "stderr"
                },
                {
                    "output_type": "stream",
                    "text": "       Df Deviance     AIC\n+ GMI   1   58.809  70.809\n<none>      67.779  77.779\n+ DEPI  1   66.199  78.199\n+ LEVI  1   66.842  78.842\n+ SGAI  1   67.775  79.775\n- ACCR  1   81.710  89.710\n- AQI   1   82.791  90.791\n- SGI   1   84.164  92.164\n- DSRI  1   96.897 104.897\n",
                    "name": "stdout"
                },
                {
                    "output_type": "stream",
                    "text": "Warning message:\n\u201cglm.fit: fitted probabilities numerically 0 or 1 occurred\u201d",
                    "name": "stderr"
                },
                {
                    "output_type": "stream",
                    "text": "\nStep:  AIC=70.81\nManipulater ~ DSRI + SGI + AQI + ACCR + GMI\n\n",
                    "name": "stdout"
                },
                {
                    "output_type": "stream",
                    "text": "Warning message:\n\u201cglm.fit: fitted probabilities numerically 0 or 1 occurred\u201dWarning message:\n\u201cglm.fit: fitted probabilities numerically 0 or 1 occurred\u201dWarning message:\n\u201cglm.fit: fitted probabilities numerically 0 or 1 occurred\u201dWarning message:\n\u201cglm.fit: fitted probabilities numerically 0 or 1 occurred\u201dWarning message:\n\u201cglm.fit: fitted probabilities numerically 0 or 1 occurred\u201dWarning message:\n\u201cglm.fit: fitted probabilities numerically 0 or 1 occurred\u201dWarning message:\n\u201cglm.fit: fitted probabilities numerically 0 or 1 occurred\u201dWarning message:\n\u201cglm.fit: fitted probabilities numerically 0 or 1 occurred\u201d",
                    "name": "stderr"
                },
                {
                    "output_type": "stream",
                    "text": "       Df Deviance     AIC\n<none>      58.809  70.809\n+ LEVI  1   58.130  72.130\n+ SGAI  1   58.502  72.502\n+ DEPI  1   58.549  72.549\n- GMI   1   67.779  77.779\n- SGI   1   74.662  84.662\n- ACCR  1   78.530  88.530\n- AQI   1   79.950  89.950\n- DSRI  1   95.636 105.636\n",
                    "name": "stdout"
                },
                {
                    "output_type": "stream",
                    "text": "Warning message:\n\u201cglm.fit: fitted probabilities numerically 0 or 1 occurred\u201d",
                    "name": "stderr"
                },
                {
                    "output_type": "stream",
                    "text": "Start:  AIC=110.13\nManipulater ~ 1\n\n       Df Deviance    AIC\n+ DSRI  1    98.18 102.18\n+ SGAI  1   102.36 106.36\n+ ACCR  1   104.80 108.80\n+ SGI   1   105.11 109.11\n+ GMI   1   105.58 109.58\n<none>      108.13 110.13\n+ AQI   1   106.80 110.80\n+ DEPI  1   106.80 110.80\n+ LEVI  1   106.85 110.85\n\nStep:  AIC=102.18\nManipulater ~ DSRI\n\n",
                    "name": "stdout"
                },
                {
                    "output_type": "stream",
                    "text": "Warning message:\n\u201cglm.fit: fitted probabilities numerically 0 or 1 occurred\u201dWarning message:\n\u201cglm.fit: fitted probabilities numerically 0 or 1 occurred\u201dWarning message:\n\u201cglm.fit: fitted probabilities numerically 0 or 1 occurred\u201dWarning message:\n\u201cglm.fit: fitted probabilities numerically 0 or 1 occurred\u201dWarning message:\n\u201cglm.fit: fitted probabilities numerically 0 or 1 occurred\u201d",
                    "name": "stderr"
                },
                {
                    "output_type": "stream",
                    "text": "       Df Deviance     AIC\n+ SGI   1   89.836  95.836\n+ ACCR  1   91.756  97.756\n+ GMI   1   94.267 100.267\n+ SGAI  1   94.947 100.947\n+ AQI   1   95.700 101.700\n<none>      98.180 102.180\n+ DEPI  1   97.601 103.601\n+ LEVI  1   97.901 103.901\n- DSRI  1  108.131 110.131\n",
                    "name": "stdout"
                },
                {
                    "output_type": "stream",
                    "text": "Warning message:\n\u201cglm.fit: fitted probabilities numerically 0 or 1 occurred\u201d",
                    "name": "stderr"
                },
                {
                    "output_type": "stream",
                    "text": "\nStep:  AIC=95.84\nManipulater ~ DSRI + SGI\n\n",
                    "name": "stdout"
                },
                {
                    "output_type": "stream",
                    "text": "Warning message:\n\u201cglm.fit: fitted probabilities numerically 0 or 1 occurred\u201dWarning message:\n\u201cglm.fit: fitted probabilities numerically 0 or 1 occurred\u201dWarning message:\n\u201cglm.fit: fitted probabilities numerically 0 or 1 occurred\u201dWarning message:\n\u201cglm.fit: fitted probabilities numerically 0 or 1 occurred\u201dWarning message:\n\u201cglm.fit: fitted probabilities numerically 0 or 1 occurred\u201dWarning message:\n\u201cglm.fit: fitted probabilities numerically 0 or 1 occurred\u201dWarning message:\n\u201cglm.fit: fitted probabilities numerically 0 or 1 occurred\u201d",
                    "name": "stderr"
                },
                {
                    "output_type": "stream",
                    "text": "       Df Deviance     AIC\n+ ACCR  1   82.705  90.705\n+ AQI   1   83.551  91.551\n+ SGAI  1   86.786  94.786\n+ GMI   1   87.245  95.245\n<none>      89.836  95.836\n+ DEPI  1   89.650  97.650\n+ LEVI  1   89.774  97.774\n- SGI   1   98.180 102.180\n- DSRI  1  105.115 109.115\n",
                    "name": "stdout"
                },
                {
                    "output_type": "stream",
                    "text": "Warning message:\n\u201cglm.fit: fitted probabilities numerically 0 or 1 occurred\u201d",
                    "name": "stderr"
                },
                {
                    "output_type": "stream",
                    "text": "\nStep:  AIC=90.71\nManipulater ~ DSRI + SGI + ACCR\n\n",
                    "name": "stdout"
                },
                {
                    "output_type": "stream",
                    "text": "Warning message:\n\u201cglm.fit: fitted probabilities numerically 0 or 1 occurred\u201dWarning message:\n\u201cglm.fit: fitted probabilities numerically 0 or 1 occurred\u201dWarning message:\n\u201cglm.fit: fitted probabilities numerically 0 or 1 occurred\u201dWarning message:\n\u201cglm.fit: fitted probabilities numerically 0 or 1 occurred\u201dWarning message:\n\u201cglm.fit: fitted probabilities numerically 0 or 1 occurred\u201dWarning message:\n\u201cglm.fit: fitted probabilities numerically 0 or 1 occurred\u201dWarning message:\n\u201cglm.fit: fitted probabilities numerically 0 or 1 occurred\u201dWarning message:\n\u201cglm.fit: fitted probabilities numerically 0 or 1 occurred\u201d",
                    "name": "stderr"
                },
                {
                    "output_type": "stream",
                    "text": "       Df Deviance     AIC\n+ AQI   1   67.049  77.049\n+ GMI   1   79.264  89.264\n+ SGAI  1   80.547  90.547\n<none>      82.705  90.705\n+ LEVI  1   82.433  92.433\n+ DEPI  1   82.647  92.647\n- ACCR  1   89.836  95.836\n- SGI   1   91.756  97.756\n- DSRI  1  101.935 107.935\n",
                    "name": "stdout"
                },
                {
                    "output_type": "stream",
                    "text": "Warning message:\n\u201cglm.fit: fitted probabilities numerically 0 or 1 occurred\u201d",
                    "name": "stderr"
                },
                {
                    "output_type": "stream",
                    "text": "\nStep:  AIC=77.05\nManipulater ~ DSRI + SGI + ACCR + AQI\n\n",
                    "name": "stdout"
                },
                {
                    "output_type": "stream",
                    "text": "Warning message:\n\u201cglm.fit: fitted probabilities numerically 0 or 1 occurred\u201dWarning message:\n\u201cglm.fit: fitted probabilities numerically 0 or 1 occurred\u201dWarning message:\n\u201cglm.fit: fitted probabilities numerically 0 or 1 occurred\u201dWarning message:\n\u201cglm.fit: fitted probabilities numerically 0 or 1 occurred\u201dWarning message:\n\u201cglm.fit: fitted probabilities numerically 0 or 1 occurred\u201dWarning message:\n\u201cglm.fit: fitted probabilities numerically 0 or 1 occurred\u201dWarning message:\n\u201cglm.fit: fitted probabilities numerically 0 or 1 occurred\u201dWarning message:\n\u201cglm.fit: fitted probabilities numerically 0 or 1 occurred\u201d",
                    "name": "stderr"
                },
                {
                    "output_type": "stream",
                    "text": "       Df Deviance     AIC\n+ GMI   1   57.708  69.708\n<none>      67.049  77.049\n+ LEVI  1   66.121  78.121\n+ DEPI  1   66.744  78.744\n+ SGAI  1   67.011  79.011\n- AQI   1   82.705  90.705\n- ACCR  1   83.551  91.551\n- SGI   1   85.353  93.353\n- DSRI  1   98.340 106.340\n",
                    "name": "stdout"
                },
                {
                    "output_type": "stream",
                    "text": "Warning message:\n\u201cglm.fit: fitted probabilities numerically 0 or 1 occurred\u201d",
                    "name": "stderr"
                },
                {
                    "output_type": "stream",
                    "text": "\nStep:  AIC=69.71\nManipulater ~ DSRI + SGI + ACCR + AQI + GMI\n\n",
                    "name": "stdout"
                },
                {
                    "output_type": "stream",
                    "text": "Warning message:\n\u201cglm.fit: fitted probabilities numerically 0 or 1 occurred\u201dWarning message:\n\u201cglm.fit: fitted probabilities numerically 0 or 1 occurred\u201dWarning message:\n\u201cglm.fit: fitted probabilities numerically 0 or 1 occurred\u201dWarning message:\n\u201cglm.fit: fitted probabilities numerically 0 or 1 occurred\u201dWarning message:\n\u201cglm.fit: fitted probabilities numerically 0 or 1 occurred\u201dWarning message:\n\u201cglm.fit: fitted probabilities numerically 0 or 1 occurred\u201dWarning message:\n\u201cglm.fit: fitted probabilities numerically 0 or 1 occurred\u201dWarning message:\n\u201cglm.fit: fitted probabilities numerically 0 or 1 occurred\u201d",
                    "name": "stderr"
                },
                {
                    "output_type": "stream",
                    "text": "       Df Deviance     AIC\n<none>      57.708  69.708\n+ SGAI  1   56.371  70.371\n+ LEVI  1   56.957  70.957\n+ DEPI  1   57.676  71.676\n- GMI   1   67.049  77.049\n- SGI   1   74.951  84.951\n- AQI   1   79.264  89.264\n- ACCR  1   80.139  90.139\n- DSRI  1   95.742 105.742\n",
                    "name": "stdout"
                },
                {
                    "output_type": "stream",
                    "text": "Warning message:\n\u201cglm.fit: fitted probabilities numerically 0 or 1 occurred\u201d",
                    "name": "stderr"
                },
                {
                    "output_type": "stream",
                    "text": "Start:  AIC=110.13\nManipulater ~ 1\n\n       Df Deviance    AIC\n+ ACCR  1   98.652 102.65\n+ DSRI  1   99.582 103.58\n+ DEPI  1  102.547 106.55\n+ SGAI  1  102.607 106.61\n+ SGI   1  103.743 107.74\n+ AQI   1  106.041 110.04\n<none>     108.131 110.13\n+ GMI   1  106.276 110.28\n+ LEVI  1  106.669 110.67\n\nStep:  AIC=102.65\nManipulater ~ ACCR\n\n       Df Deviance     AIC\n+ DSRI  1   84.781  90.781\n+ SGAI  1   89.279  95.279\n+ DEPI  1   91.312  97.312\n+ AQI   1   93.975  99.975\n+ SGI   1   95.558 101.558\n+ GMI   1   96.519 102.519\n<none>      98.652 102.652\n+ LEVI  1   96.835 102.835\n- ACCR  1  108.131 110.131\n\nStep:  AIC=90.78\nManipulater ~ ACCR + DSRI\n\n",
                    "name": "stdout"
                },
                {
                    "output_type": "stream",
                    "text": "Warning message:\n\u201cglm.fit: fitted probabilities numerically 0 or 1 occurred\u201dWarning message:\n\u201cglm.fit: fitted probabilities numerically 0 or 1 occurred\u201d",
                    "name": "stderr"
                },
                {
                    "output_type": "stream",
                    "text": "       Df Deviance     AIC\n+ SGI   1   75.697  83.697\n+ AQI   1   76.421  84.421\n+ GMI   1   78.236  86.236\n+ DEPI  1   80.436  88.436\n<none>      84.781  90.781\n+ LEVI  1   83.878  91.878\n+ SGAI  1   83.884  91.884\n- DSRI  1   98.652 102.652\n- ACCR  1   99.582 103.582\n",
                    "name": "stdout"
                },
                {
                    "output_type": "stream",
                    "text": "Warning message:\n\u201cglm.fit: fitted probabilities numerically 0 or 1 occurred\u201d",
                    "name": "stderr"
                },
                {
                    "output_type": "stream",
                    "text": "\nStep:  AIC=83.7\nManipulater ~ ACCR + DSRI + SGI\n\n",
                    "name": "stdout"
                },
                {
                    "output_type": "stream",
                    "text": "Warning message:\n\u201cglm.fit: fitted probabilities numerically 0 or 1 occurred\u201dWarning message:\n\u201cglm.fit: fitted probabilities numerically 0 or 1 occurred\u201dWarning message:\n\u201cglm.fit: fitted probabilities numerically 0 or 1 occurred\u201dWarning message:\n\u201cglm.fit: fitted probabilities numerically 0 or 1 occurred\u201dWarning message:\n\u201cglm.fit: fitted probabilities numerically 0 or 1 occurred\u201dWarning message:\n\u201cglm.fit: fitted probabilities numerically 0 or 1 occurred\u201d",
                    "name": "stderr"
                },
                {
                    "output_type": "stream",
                    "text": "       Df Deviance     AIC\n+ AQI   1   57.385  67.385\n+ GMI   1   71.146  81.146\n<none>      75.697  83.697\n+ DEPI  1   74.168  84.168\n+ SGAI  1   74.171  84.171\n+ LEVI  1   74.662  84.662\n- SGI   1   84.781  90.781\n- ACCR  1   88.889  94.889\n- DSRI  1   95.558 101.558\n",
                    "name": "stdout"
                },
                {
                    "output_type": "stream",
                    "text": "Warning message:\n\u201cglm.fit: fitted probabilities numerically 0 or 1 occurred\u201d",
                    "name": "stderr"
                },
                {
                    "output_type": "stream",
                    "text": "\nStep:  AIC=67.39\nManipulater ~ ACCR + DSRI + SGI + AQI\n\n",
                    "name": "stdout"
                },
                {
                    "output_type": "stream",
                    "text": "Warning message:\n\u201cglm.fit: fitted probabilities numerically 0 or 1 occurred\u201dWarning message:\n\u201cglm.fit: fitted probabilities numerically 0 or 1 occurred\u201dWarning message:\n\u201cglm.fit: fitted probabilities numerically 0 or 1 occurred\u201dWarning message:\n\u201cglm.fit: fitted probabilities numerically 0 or 1 occurred\u201dWarning message:\n\u201cglm.fit: fitted probabilities numerically 0 or 1 occurred\u201dWarning message:\n\u201cglm.fit: fitted probabilities numerically 0 or 1 occurred\u201dWarning message:\n\u201cglm.fit: fitted probabilities numerically 0 or 1 occurred\u201d",
                    "name": "stderr"
                },
                {
                    "output_type": "stream",
                    "text": "       Df Deviance    AIC\n+ GMI   1   42.527 54.527\n<none>      57.385 67.385\n+ LEVI  1   57.193 69.193\n+ SGAI  1   57.311 69.311\n+ DEPI  1   57.352 69.352\n- AQI   1   75.697 83.697\n- SGI   1   76.421 84.421\n- ACCR  1   79.327 87.327\n- DSRI  1   89.634 97.634\n",
                    "name": "stdout"
                },
                {
                    "output_type": "stream",
                    "text": "Warning message:\n\u201cglm.fit: fitted probabilities numerically 0 or 1 occurred\u201d",
                    "name": "stderr"
                },
                {
                    "output_type": "stream",
                    "text": "\nStep:  AIC=54.53\nManipulater ~ ACCR + DSRI + SGI + AQI + GMI\n\n",
                    "name": "stdout"
                },
                {
                    "output_type": "stream",
                    "text": "Warning message:\n\u201cglm.fit: fitted probabilities numerically 0 or 1 occurred\u201dWarning message:\n\u201cglm.fit: fitted probabilities numerically 0 or 1 occurred\u201dWarning message:\n\u201cglm.fit: fitted probabilities numerically 0 or 1 occurred\u201dWarning message:\n\u201cglm.fit: fitted probabilities numerically 0 or 1 occurred\u201dWarning message:\n\u201cglm.fit: fitted probabilities numerically 0 or 1 occurred\u201dWarning message:\n\u201cglm.fit: fitted probabilities numerically 0 or 1 occurred\u201dWarning message:\n\u201cglm.fit: fitted probabilities numerically 0 or 1 occurred\u201dWarning message:\n\u201cglm.fit: fitted probabilities numerically 0 or 1 occurred\u201dWarning message:\n\u201cglm.fit: fitted probabilities numerically 0 or 1 occurred\u201d",
                    "name": "stderr"
                },
                {
                    "output_type": "stream",
                    "text": "       Df Deviance    AIC\n+ SGAI  1   40.370 54.370\n<none>      42.527 54.527\n+ DEPI  1   41.813 55.813\n+ LEVI  1   42.373 56.373\n- GMI   1   57.385 67.385\n- SGI   1   63.626 73.626\n- AQI   1   71.146 81.146\n- ACCR  1   73.780 83.780\n- DSRI  1   87.316 97.316\n",
                    "name": "stdout"
                },
                {
                    "output_type": "stream",
                    "text": "Warning message:\n\u201cglm.fit: fitted probabilities numerically 0 or 1 occurred\u201d",
                    "name": "stderr"
                },
                {
                    "output_type": "stream",
                    "text": "\nStep:  AIC=54.37\nManipulater ~ ACCR + DSRI + SGI + AQI + GMI + SGAI\n\n",
                    "name": "stdout"
                },
                {
                    "output_type": "stream",
                    "text": "Warning message:\n\u201cglm.fit: fitted probabilities numerically 0 or 1 occurred\u201dWarning message:\n\u201cglm.fit: fitted probabilities numerically 0 or 1 occurred\u201dWarning message:\n\u201cglm.fit: fitted probabilities numerically 0 or 1 occurred\u201dWarning message:\n\u201cglm.fit: fitted probabilities numerically 0 or 1 occurred\u201dWarning message:\n\u201cglm.fit: fitted probabilities numerically 0 or 1 occurred\u201dWarning message:\n\u201cglm.fit: fitted probabilities numerically 0 or 1 occurred\u201dWarning message:\n\u201cglm.fit: fitted probabilities numerically 0 or 1 occurred\u201dWarning message:\n\u201cglm.fit: fitted probabilities numerically 0 or 1 occurred\u201dWarning message:\n\u201cglm.fit: fitted probabilities numerically 0 or 1 occurred\u201d",
                    "name": "stderr"
                },
                {
                    "output_type": "stream",
                    "text": "       Df Deviance    AIC\n<none>      40.370 54.370\n- SGAI  1   42.527 54.527\n+ DEPI  1   40.083 56.083\n+ LEVI  1   40.317 56.317\n- GMI   1   57.311 69.311\n- SGI   1   63.050 75.050\n- DSRI  1   63.482 75.482\n- AQI   1   67.222 79.222\n- ACCR  1   69.137 81.137\n",
                    "name": "stdout"
                },
                {
                    "output_type": "stream",
                    "text": "Warning message:\n\u201cglm.fit: fitted probabilities numerically 0 or 1 occurred\u201d",
                    "name": "stderr"
                },
                {
                    "output_type": "stream",
                    "text": "Start:  AIC=110.13\nManipulater ~ 1\n\n",
                    "name": "stdout"
                },
                {
                    "output_type": "stream",
                    "text": "Warning message:\n\u201cglm.fit: fitted probabilities numerically 0 or 1 occurred\u201d",
                    "name": "stderr"
                },
                {
                    "output_type": "stream",
                    "text": "       Df Deviance    AIC\n+ DSRI  1   97.553 101.55\n+ ACCR  1  101.727 105.73\n+ SGAI  1  102.881 106.88\n+ SGI   1  104.501 108.50\n+ AQI   1  104.890 108.89\n+ GMI   1  105.879 109.88\n<none>     108.131 110.13\n+ LEVI  1  106.305 110.31\n+ DEPI  1  108.068 112.07\n",
                    "name": "stdout"
                },
                {
                    "output_type": "stream",
                    "text": "Warning message:\n\u201cglm.fit: fitted probabilities numerically 0 or 1 occurred\u201d",
                    "name": "stderr"
                },
                {
                    "output_type": "stream",
                    "text": "\nStep:  AIC=101.55\nManipulater ~ DSRI\n\n",
                    "name": "stdout"
                },
                {
                    "output_type": "stream",
                    "text": "Warning message:\n\u201cglm.fit: fitted probabilities numerically 0 or 1 occurred\u201dWarning message:\n\u201cglm.fit: fitted probabilities numerically 0 or 1 occurred\u201dWarning message:\n\u201cglm.fit: fitted probabilities numerically 0 or 1 occurred\u201dWarning message:\n\u201cglm.fit: fitted probabilities numerically 0 or 1 occurred\u201dWarning message:\n\u201cglm.fit: fitted probabilities numerically 0 or 1 occurred\u201dWarning message:\n\u201cglm.fit: fitted probabilities numerically 0 or 1 occurred\u201dWarning message:\n\u201cglm.fit: fitted probabilities numerically 0 or 1 occurred\u201dWarning message:\n\u201cglm.fit: fitted probabilities numerically 0 or 1 occurred\u201d",
                    "name": "stderr"
                },
                {
                    "output_type": "stream",
                    "text": "       Df Deviance     AIC\n+ ACCR  1   86.357  92.357\n+ SGI   1   88.325  94.325\n+ GMI   1   92.745  98.745\n+ AQI   1   92.766  98.766\n+ SGAI  1   95.400 101.400\n<none>      97.553 101.553\n+ LEVI  1   96.923 102.923\n+ DEPI  1   97.466 103.466\n- DSRI  1  108.131 110.131\n",
                    "name": "stdout"
                },
                {
                    "output_type": "stream",
                    "text": "Warning message:\n\u201cglm.fit: fitted probabilities numerically 0 or 1 occurred\u201d",
                    "name": "stderr"
                },
                {
                    "output_type": "stream",
                    "text": "\nStep:  AIC=92.36\nManipulater ~ DSRI + ACCR\n\n",
                    "name": "stdout"
                },
                {
                    "output_type": "stream",
                    "text": "Warning message:\n\u201cglm.fit: fitted probabilities numerically 0 or 1 occurred\u201dWarning message:\n\u201cglm.fit: fitted probabilities numerically 0 or 1 occurred\u201dWarning message:\n\u201cglm.fit: fitted probabilities numerically 0 or 1 occurred\u201dWarning message:\n\u201cglm.fit: fitted probabilities numerically 0 or 1 occurred\u201dWarning message:\n\u201cglm.fit: fitted probabilities numerically 0 or 1 occurred\u201dWarning message:\n\u201cglm.fit: fitted probabilities numerically 0 or 1 occurred\u201dWarning message:\n\u201cglm.fit: fitted probabilities numerically 0 or 1 occurred\u201dWarning message:\n\u201cglm.fit: fitted probabilities numerically 0 or 1 occurred\u201d",
                    "name": "stderr"
                },
                {
                    "output_type": "stream",
                    "text": "       Df Deviance     AIC\n+ AQI   1   75.203  83.203\n+ SGI   1   78.809  86.809\n+ GMI   1   80.837  88.837\n<none>      86.357  92.357\n+ LEVI  1   85.095  93.095\n+ SGAI  1   85.378  93.378\n+ DEPI  1   86.318  94.318\n- ACCR  1   97.553 101.553\n- DSRI  1  101.727 105.727\n",
                    "name": "stdout"
                },
                {
                    "output_type": "stream",
                    "text": "Warning message:\n\u201cglm.fit: fitted probabilities numerically 0 or 1 occurred\u201d",
                    "name": "stderr"
                },
                {
                    "output_type": "stream",
                    "text": "\nStep:  AIC=83.2\nManipulater ~ DSRI + ACCR + AQI\n\n",
                    "name": "stdout"
                },
                {
                    "output_type": "stream",
                    "text": "Warning message:\n\u201cglm.fit: fitted probabilities numerically 0 or 1 occurred\u201dWarning message:\n\u201cglm.fit: fitted probabilities numerically 0 or 1 occurred\u201dWarning message:\n\u201cglm.fit: fitted probabilities numerically 0 or 1 occurred\u201dWarning message:\n\u201cglm.fit: fitted probabilities numerically 0 or 1 occurred\u201dWarning message:\n\u201cglm.fit: fitted probabilities numerically 0 or 1 occurred\u201dWarning message:\n\u201cglm.fit: fitted probabilities numerically 0 or 1 occurred\u201dWarning message:\n\u201cglm.fit: fitted probabilities numerically 0 or 1 occurred\u201dWarning message:\n\u201cglm.fit: fitted probabilities numerically 0 or 1 occurred\u201d",
                    "name": "stderr"
                },
                {
                    "output_type": "stream",
                    "text": "       Df Deviance     AIC\n+ SGI   1   58.460  68.460\n+ GMI   1   65.190  75.190\n<none>      75.203  83.203\n+ LEVI  1   75.117  85.117\n+ SGAI  1   75.149  85.149\n+ DEPI  1   75.185  85.185\n- AQI   1   86.357  92.357\n- ACCR  1   92.766  98.766\n- DSRI  1   95.394 101.394\n",
                    "name": "stdout"
                },
                {
                    "output_type": "stream",
                    "text": "Warning message:\n\u201cglm.fit: fitted probabilities numerically 0 or 1 occurred\u201d",
                    "name": "stderr"
                },
                {
                    "output_type": "stream",
                    "text": "\nStep:  AIC=68.46\nManipulater ~ DSRI + ACCR + AQI + SGI\n\n",
                    "name": "stdout"
                },
                {
                    "output_type": "stream",
                    "text": "Warning message:\n\u201cglm.fit: fitted probabilities numerically 0 or 1 occurred\u201dWarning message:\n\u201cglm.fit: fitted probabilities numerically 0 or 1 occurred\u201dWarning message:\n\u201cglm.fit: fitted probabilities numerically 0 or 1 occurred\u201dWarning message:\n\u201cglm.fit: fitted probabilities numerically 0 or 1 occurred\u201dWarning message:\n\u201cglm.fit: fitted probabilities numerically 0 or 1 occurred\u201dWarning message:\n\u201cglm.fit: fitted probabilities numerically 0 or 1 occurred\u201dWarning message:\n\u201cglm.fit: fitted probabilities numerically 0 or 1 occurred\u201dWarning message:\n\u201cglm.fit: fitted probabilities numerically 0 or 1 occurred\u201d",
                    "name": "stderr"
                },
                {
                    "output_type": "stream",
                    "text": "       Df Deviance    AIC\n+ DEPI  1   48.351 60.351\n+ GMI   1   51.546 63.546\n<none>      58.460 68.460\n+ LEVI  1   56.736 68.736\n+ SGAI  1   58.406 70.406\n- SGI   1   75.203 83.203\n- ACCR  1   76.841 84.841\n- AQI   1   78.809 86.809\n- DSRI  1   91.480 99.480\n",
                    "name": "stdout"
                },
                {
                    "output_type": "stream",
                    "text": "Warning message:\n\u201cglm.fit: fitted probabilities numerically 0 or 1 occurred\u201d",
                    "name": "stderr"
                },
                {
                    "output_type": "stream",
                    "text": "\nStep:  AIC=60.35\nManipulater ~ DSRI + ACCR + AQI + SGI + DEPI\n\n",
                    "name": "stdout"
                },
                {
                    "output_type": "stream",
                    "text": "Warning message:\n\u201cglm.fit: fitted probabilities numerically 0 or 1 occurred\u201dWarning message:\n\u201cglm.fit: fitted probabilities numerically 0 or 1 occurred\u201dWarning message:\n\u201cglm.fit: fitted probabilities numerically 0 or 1 occurred\u201dWarning message:\n\u201cglm.fit: fitted probabilities numerically 0 or 1 occurred\u201dWarning message:\n\u201cglm.fit: fitted probabilities numerically 0 or 1 occurred\u201dWarning message:\n\u201cglm.fit: fitted probabilities numerically 0 or 1 occurred\u201dWarning message:\n\u201cglm.fit: fitted probabilities numerically 0 or 1 occurred\u201dWarning message:\n\u201cglm.fit: fitted probabilities numerically 0 or 1 occurred\u201d",
                    "name": "stderr"
                },
                {
                    "output_type": "stream",
                    "text": "       Df Deviance     AIC\n+ LEVI  1   44.538  58.538\n+ GMI   1   46.162  60.162\n<none>      48.351  60.351\n+ SGAI  1   48.299  62.299\n- DEPI  1   58.460  68.460\n- ACCR  1   64.427  74.427\n- SGI   1   75.185  85.185\n- AQI   1   77.510  87.510\n- DSRI  1   90.831 100.831\n",
                    "name": "stdout"
                },
                {
                    "output_type": "stream",
                    "text": "Warning message:\n\u201cglm.fit: fitted probabilities numerically 0 or 1 occurred\u201d",
                    "name": "stderr"
                },
                {
                    "output_type": "stream",
                    "text": "\nStep:  AIC=58.54\nManipulater ~ DSRI + ACCR + AQI + SGI + DEPI + LEVI\n\n",
                    "name": "stdout"
                },
                {
                    "output_type": "stream",
                    "text": "Warning message:\n\u201cglm.fit: fitted probabilities numerically 0 or 1 occurred\u201dWarning message:\n\u201cglm.fit: fitted probabilities numerically 0 or 1 occurred\u201dWarning message:\n\u201cglm.fit: fitted probabilities numerically 0 or 1 occurred\u201dWarning message:\n\u201cglm.fit: fitted probabilities numerically 0 or 1 occurred\u201dWarning message:\n\u201cglm.fit: fitted probabilities numerically 0 or 1 occurred\u201dWarning message:\n\u201cglm.fit: fitted probabilities numerically 0 or 1 occurred\u201dWarning message:\n\u201cglm.fit: fitted probabilities numerically 0 or 1 occurred\u201dWarning message:\n\u201cglm.fit: fitted probabilities numerically 0 or 1 occurred\u201d",
                    "name": "stderr"
                },
                {
                    "output_type": "stream",
                    "text": "       Df Deviance     AIC\n<none>      44.538  58.538\n+ GMI   1   42.620  58.620\n- LEVI  1   48.351  60.351\n+ SGAI  1   44.534  60.534\n- DEPI  1   56.736  68.736\n- ACCR  1   59.471  71.471\n- SGI   1   75.077  87.077\n- AQI   1   76.913  88.913\n- DSRI  1   89.620 101.620\n",
                    "name": "stdout"
                },
                {
                    "output_type": "stream",
                    "text": "Warning message:\n\u201cglm.fit: fitted probabilities numerically 0 or 1 occurred\u201d",
                    "name": "stderr"
                },
                {
                    "output_type": "stream",
                    "text": "Start:  AIC=110.13\nManipulater ~ 1\n\n       Df Deviance    AIC\n+ DSRI  1   98.514 102.51\n+ ACCR  1  102.467 106.47\n+ SGAI  1  103.141 107.14\n+ AQI   1  104.616 108.62\n+ SGI   1  105.910 109.91\n<none>     108.131 110.13\n+ LEVI  1  106.836 110.84\n+ GMI   1  107.173 111.17\n+ DEPI  1  107.480 111.48\n\nStep:  AIC=102.51\nManipulater ~ DSRI\n\n",
                    "name": "stdout"
                },
                {
                    "output_type": "stream",
                    "text": "Warning message:\n\u201cglm.fit: fitted probabilities numerically 0 or 1 occurred\u201dWarning message:\n\u201cglm.fit: fitted probabilities numerically 0 or 1 occurred\u201dWarning message:\n\u201cglm.fit: fitted probabilities numerically 0 or 1 occurred\u201dWarning message:\n\u201cglm.fit: fitted probabilities numerically 0 or 1 occurred\u201d",
                    "name": "stderr"
                },
                {
                    "output_type": "stream",
                    "text": "       Df Deviance     AIC\n+ ACCR  1   88.725  94.725\n+ SGI   1   92.972  98.972\n+ AQI   1   93.919  99.919\n+ SGAI  1   96.223 102.223\n+ GMI   1   96.320 102.320\n<none>      98.514 102.514\n+ DEPI  1   98.292 104.292\n+ LEVI  1   98.315 104.315\n- DSRI  1  108.131 110.131\n",
                    "name": "stdout"
                },
                {
                    "output_type": "stream",
                    "text": "Warning message:\n\u201cglm.fit: fitted probabilities numerically 0 or 1 occurred\u201d",
                    "name": "stderr"
                },
                {
                    "output_type": "stream",
                    "text": "\nStep:  AIC=94.73\nManipulater ~ DSRI + ACCR\n\n",
                    "name": "stdout"
                },
                {
                    "output_type": "stream",
                    "text": "Warning message:\n\u201cglm.fit: fitted probabilities numerically 0 or 1 occurred\u201dWarning message:\n\u201cglm.fit: fitted probabilities numerically 0 or 1 occurred\u201dWarning message:\n\u201cglm.fit: fitted probabilities numerically 0 or 1 occurred\u201dWarning message:\n\u201cglm.fit: fitted probabilities numerically 0 or 1 occurred\u201dWarning message:\n\u201cglm.fit: fitted probabilities numerically 0 or 1 occurred\u201dWarning message:\n\u201cglm.fit: fitted probabilities numerically 0 or 1 occurred\u201dWarning message:\n\u201cglm.fit: fitted probabilities numerically 0 or 1 occurred\u201d",
                    "name": "stderr"
                },
                {
                    "output_type": "stream",
                    "text": "       Df Deviance     AIC\n+ AQI   1   77.651  85.651\n+ SGI   1   83.424  91.424\n+ GMI   1   86.044  94.044\n<none>      88.725  94.725\n+ SGAI  1   87.694  95.694\n+ LEVI  1   88.221  96.221\n+ DEPI  1   88.249  96.249\n- ACCR  1   98.514 102.514\n- DSRI  1  102.467 106.467\n",
                    "name": "stdout"
                },
                {
                    "output_type": "stream",
                    "text": "Warning message:\n\u201cglm.fit: fitted probabilities numerically 0 or 1 occurred\u201d",
                    "name": "stderr"
                },
                {
                    "output_type": "stream",
                    "text": "\nStep:  AIC=85.65\nManipulater ~ DSRI + ACCR + AQI\n\n",
                    "name": "stdout"
                },
                {
                    "output_type": "stream",
                    "text": "Warning message:\n\u201cglm.fit: fitted probabilities numerically 0 or 1 occurred\u201dWarning message:\n\u201cglm.fit: fitted probabilities numerically 0 or 1 occurred\u201dWarning message:\n\u201cglm.fit: fitted probabilities numerically 0 or 1 occurred\u201dWarning message:\n\u201cglm.fit: fitted probabilities numerically 0 or 1 occurred\u201dWarning message:\n\u201cglm.fit: fitted probabilities numerically 0 or 1 occurred\u201dWarning message:\n\u201cglm.fit: fitted probabilities numerically 0 or 1 occurred\u201dWarning message:\n\u201cglm.fit: fitted probabilities numerically 0 or 1 occurred\u201d",
                    "name": "stderr"
                },
                {
                    "output_type": "stream",
                    "text": "       Df Deviance     AIC\n+ SGI   1   65.103  75.103\n+ GMI   1   73.723  83.723\n<none>      77.651  85.651\n+ DEPI  1   77.250  87.250\n+ SGAI  1   77.580  87.580\n+ LEVI  1   77.651  87.651\n- AQI   1   88.725  94.725\n- ACCR  1   93.919  99.919\n- DSRI  1   95.355 101.355\n",
                    "name": "stdout"
                },
                {
                    "output_type": "stream",
                    "text": "Warning message:\n\u201cglm.fit: fitted probabilities numerically 0 or 1 occurred\u201d",
                    "name": "stderr"
                },
                {
                    "output_type": "stream",
                    "text": "\nStep:  AIC=75.1\nManipulater ~ DSRI + ACCR + AQI + SGI\n\n",
                    "name": "stdout"
                },
                {
                    "output_type": "stream",
                    "text": "Warning message:\n\u201cglm.fit: fitted probabilities numerically 0 or 1 occurred\u201dWarning message:\n\u201cglm.fit: fitted probabilities numerically 0 or 1 occurred\u201dWarning message:\n\u201cglm.fit: fitted probabilities numerically 0 or 1 occurred\u201dWarning message:\n\u201cglm.fit: fitted probabilities numerically 0 or 1 occurred\u201dWarning message:\n\u201cglm.fit: fitted probabilities numerically 0 or 1 occurred\u201dWarning message:\n\u201cglm.fit: fitted probabilities numerically 0 or 1 occurred\u201dWarning message:\n\u201cglm.fit: fitted probabilities numerically 0 or 1 occurred\u201dWarning message:\n\u201cglm.fit: fitted probabilities numerically 0 or 1 occurred\u201d",
                    "name": "stderr"
                },
                {
                    "output_type": "stream",
                    "text": "       Df Deviance     AIC\n+ LEVI  1   61.409  73.409\n+ GMI   1   62.672  74.672\n<none>      65.103  75.103\n+ DEPI  1   64.491  76.491\n+ SGAI  1   64.773  76.773\n- SGI   1   77.651  85.651\n- AQI   1   83.424  91.424\n- ACCR  1   85.187  93.187\n- DSRI  1   92.127 100.127\n",
                    "name": "stdout"
                },
                {
                    "output_type": "stream",
                    "text": "Warning message:\n\u201cglm.fit: fitted probabilities numerically 0 or 1 occurred\u201d",
                    "name": "stderr"
                },
                {
                    "output_type": "stream",
                    "text": "\nStep:  AIC=73.41\nManipulater ~ DSRI + ACCR + AQI + SGI + LEVI\n\n",
                    "name": "stdout"
                },
                {
                    "output_type": "stream",
                    "text": "Warning message:\n\u201cglm.fit: fitted probabilities numerically 0 or 1 occurred\u201dWarning message:\n\u201cglm.fit: fitted probabilities numerically 0 or 1 occurred\u201dWarning message:\n\u201cglm.fit: fitted probabilities numerically 0 or 1 occurred\u201dWarning message:\n\u201cglm.fit: fitted probabilities numerically 0 or 1 occurred\u201dWarning message:\n\u201cglm.fit: fitted probabilities numerically 0 or 1 occurred\u201dWarning message:\n\u201cglm.fit: fitted probabilities numerically 0 or 1 occurred\u201dWarning message:\n\u201cglm.fit: fitted probabilities numerically 0 or 1 occurred\u201dWarning message:\n\u201cglm.fit: fitted probabilities numerically 0 or 1 occurred\u201d",
                    "name": "stderr"
                },
                {
                    "output_type": "stream",
                    "text": "       Df Deviance     AIC\n<none>      61.409  73.409\n+ GMI   1   59.703  73.703\n+ DEPI  1   60.600  74.600\n+ SGAI  1   61.091  75.091\n- LEVI  1   65.103  75.103\n- SGI   1   77.651  87.651\n- ACCR  1   83.009  93.009\n- AQI   1   83.422  93.422\n- DSRI  1   91.333 101.333\n",
                    "name": "stdout"
                },
                {
                    "output_type": "stream",
                    "text": "Warning message:\n\u201cglm.fit: fitted probabilities numerically 0 or 1 occurred\u201d",
                    "name": "stderr"
                },
                {
                    "output_type": "stream",
                    "text": "Start:  AIC=110.13\nManipulater ~ 1\n\n",
                    "name": "stdout"
                },
                {
                    "output_type": "stream",
                    "text": "Warning message:\n\u201cglm.fit: fitted probabilities numerically 0 or 1 occurred\u201d",
                    "name": "stderr"
                },
                {
                    "output_type": "stream",
                    "text": "       Df Deviance     AIC\n+ DSRI  1   95.837  99.837\n+ ACCR  1  101.634 105.634\n+ SGI   1  104.575 108.575\n+ SGAI  1  104.880 108.880\n+ AQI   1  105.808 109.808\n<none>     108.131 110.131\n+ LEVI  1  106.696 110.696\n+ GMI   1  106.737 110.737\n+ DEPI  1  108.093 112.093\n",
                    "name": "stdout"
                },
                {
                    "output_type": "stream",
                    "text": "Warning message:\n\u201cglm.fit: fitted probabilities numerically 0 or 1 occurred\u201d",
                    "name": "stderr"
                },
                {
                    "output_type": "stream",
                    "text": "\nStep:  AIC=99.84\nManipulater ~ DSRI\n\n",
                    "name": "stdout"
                },
                {
                    "output_type": "stream",
                    "text": "Warning message:\n\u201cglm.fit: fitted probabilities numerically 0 or 1 occurred\u201dWarning message:\n\u201cglm.fit: fitted probabilities numerically 0 or 1 occurred\u201dWarning message:\n\u201cglm.fit: fitted probabilities numerically 0 or 1 occurred\u201dWarning message:\n\u201cglm.fit: fitted probabilities numerically 0 or 1 occurred\u201dWarning message:\n\u201cglm.fit: fitted probabilities numerically 0 or 1 occurred\u201dWarning message:\n\u201cglm.fit: fitted probabilities numerically 0 or 1 occurred\u201dWarning message:\n\u201cglm.fit: fitted probabilities numerically 0 or 1 occurred\u201dWarning message:\n\u201cglm.fit: fitted probabilities numerically 0 or 1 occurred\u201d",
                    "name": "stderr"
                },
                {
                    "output_type": "stream",
                    "text": "       Df Deviance     AIC\n+ SGI   1   84.092  90.092\n+ ACCR  1   84.492  90.492\n+ AQI   1   91.916  97.916\n+ GMI   1   92.213  98.213\n<none>      95.837  99.837\n+ LEVI  1   95.404 101.404\n+ SGAI  1   95.425 101.425\n+ DEPI  1   95.837 101.837\n- DSRI  1  108.131 110.131\n",
                    "name": "stdout"
                },
                {
                    "output_type": "stream",
                    "text": "Warning message:\n\u201cglm.fit: fitted probabilities numerically 0 or 1 occurred\u201d",
                    "name": "stderr"
                },
                {
                    "output_type": "stream",
                    "text": "\nStep:  AIC=90.09\nManipulater ~ DSRI + SGI\n\n",
                    "name": "stdout"
                },
                {
                    "output_type": "stream",
                    "text": "Warning message:\n\u201cglm.fit: fitted probabilities numerically 0 or 1 occurred\u201dWarning message:\n\u201cglm.fit: fitted probabilities numerically 0 or 1 occurred\u201dWarning message:\n\u201cglm.fit: fitted probabilities numerically 0 or 1 occurred\u201dWarning message:\n\u201cglm.fit: fitted probabilities numerically 0 or 1 occurred\u201dWarning message:\n\u201cglm.fit: fitted probabilities numerically 0 or 1 occurred\u201dWarning message:\n\u201cglm.fit: fitted probabilities numerically 0 or 1 occurred\u201dWarning message:\n\u201cglm.fit: fitted probabilities numerically 0 or 1 occurred\u201dWarning message:\n\u201cglm.fit: fitted probabilities numerically 0 or 1 occurred\u201d",
                    "name": "stderr"
                },
                {
                    "output_type": "stream",
                    "text": "       Df Deviance     AIC\n+ AQI   1   71.879  79.879\n+ ACCR  1   74.656  82.656\n<none>      84.092  90.092\n+ GMI   1   82.222  90.222\n+ DEPI  1   82.870  90.870\n+ SGAI  1   83.808  91.808\n+ LEVI  1   84.090  92.090\n- SGI   1   95.837  99.837\n- DSRI  1  104.575 108.575\n",
                    "name": "stdout"
                },
                {
                    "output_type": "stream",
                    "text": "Warning message:\n\u201cglm.fit: fitted probabilities numerically 0 or 1 occurred\u201d",
                    "name": "stderr"
                },
                {
                    "output_type": "stream",
                    "text": "\nStep:  AIC=79.88\nManipulater ~ DSRI + SGI + AQI\n\n",
                    "name": "stdout"
                },
                {
                    "output_type": "stream",
                    "text": "Warning message:\n\u201cglm.fit: fitted probabilities numerically 0 or 1 occurred\u201dWarning message:\n\u201cglm.fit: fitted probabilities numerically 0 or 1 occurred\u201dWarning message:\n\u201cglm.fit: fitted probabilities numerically 0 or 1 occurred\u201dWarning message:\n\u201cglm.fit: fitted probabilities numerically 0 or 1 occurred\u201dWarning message:\n\u201cglm.fit: fitted probabilities numerically 0 or 1 occurred\u201dWarning message:\n\u201cglm.fit: fitted probabilities numerically 0 or 1 occurred\u201dWarning message:\n\u201cglm.fit: fitted probabilities numerically 0 or 1 occurred\u201dWarning message:\n\u201cglm.fit: fitted probabilities numerically 0 or 1 occurred\u201d",
                    "name": "stderr"
                },
                {
                    "output_type": "stream",
                    "text": "       Df Deviance     AIC\n+ ACCR  1   57.344  67.344\n+ DEPI  1   66.361  76.361\n+ GMI   1   69.040  79.040\n+ LEVI  1   69.737  79.737\n<none>      71.879  79.879\n+ SGAI  1   71.873  81.873\n- AQI   1   84.092  90.092\n- SGI   1   91.916  97.916\n- DSRI  1  101.556 107.556\n",
                    "name": "stdout"
                },
                {
                    "output_type": "stream",
                    "text": "Warning message:\n\u201cglm.fit: fitted probabilities numerically 0 or 1 occurred\u201d",
                    "name": "stderr"
                },
                {
                    "output_type": "stream",
                    "text": "\nStep:  AIC=67.34\nManipulater ~ DSRI + SGI + AQI + ACCR\n\n",
                    "name": "stdout"
                },
                {
                    "output_type": "stream",
                    "text": "Warning message:\n\u201cglm.fit: fitted probabilities numerically 0 or 1 occurred\u201dWarning message:\n\u201cglm.fit: fitted probabilities numerically 0 or 1 occurred\u201dWarning message:\n\u201cglm.fit: fitted probabilities numerically 0 or 1 occurred\u201dWarning message:\n\u201cglm.fit: fitted probabilities numerically 0 or 1 occurred\u201dWarning message:\n\u201cglm.fit: fitted probabilities numerically 0 or 1 occurred\u201dWarning message:\n\u201cglm.fit: fitted probabilities numerically 0 or 1 occurred\u201dWarning message:\n\u201cglm.fit: fitted probabilities numerically 0 or 1 occurred\u201dWarning message:\n\u201cglm.fit: fitted probabilities numerically 0 or 1 occurred\u201d",
                    "name": "stderr"
                },
                {
                    "output_type": "stream",
                    "text": "       Df Deviance     AIC\n+ DEPI  1   52.782  64.782\n+ GMI   1   53.449  65.449\n<none>      57.344  67.344\n+ LEVI  1   57.166  69.166\n+ SGAI  1   57.235  69.235\n- ACCR  1   71.879  79.879\n- AQI   1   74.656  82.656\n- SGI   1   76.847  84.847\n- DSRI  1   94.541 102.541\n",
                    "name": "stdout"
                },
                {
                    "output_type": "stream",
                    "text": "Warning message:\n\u201cglm.fit: fitted probabilities numerically 0 or 1 occurred\u201d",
                    "name": "stderr"
                },
                {
                    "output_type": "stream",
                    "text": "\nStep:  AIC=64.78\nManipulater ~ DSRI + SGI + AQI + ACCR + DEPI\n\n",
                    "name": "stdout"
                },
                {
                    "output_type": "stream",
                    "text": "Warning message:\n\u201cglm.fit: fitted probabilities numerically 0 or 1 occurred\u201dWarning message:\n\u201cglm.fit: fitted probabilities numerically 0 or 1 occurred\u201dWarning message:\n\u201cglm.fit: fitted probabilities numerically 0 or 1 occurred\u201dWarning message:\n\u201cglm.fit: fitted probabilities numerically 0 or 1 occurred\u201dWarning message:\n\u201cglm.fit: fitted probabilities numerically 0 or 1 occurred\u201dWarning message:\n\u201cglm.fit: fitted probabilities numerically 0 or 1 occurred\u201dWarning message:\n\u201cglm.fit: fitted probabilities numerically 0 or 1 occurred\u201dWarning message:\n\u201cglm.fit: fitted probabilities numerically 0 or 1 occurred\u201d",
                    "name": "stderr"
                },
                {
                    "output_type": "stream",
                    "text": "       Df Deviance     AIC\n<none>      52.782  64.782\n+ GMI   1   51.221  65.221\n+ LEVI  1   51.888  65.888\n+ SGAI  1   52.696  66.696\n- DEPI  1   57.344  67.344\n- ACCR  1   66.361  76.361\n- AQI   1   74.308  84.308\n- SGI   1   76.839  86.839\n- DSRI  1   94.541 104.541\n",
                    "name": "stdout"
                },
                {
                    "output_type": "stream",
                    "text": "Warning message:\n\u201cglm.fit: fitted probabilities numerically 0 or 1 occurred\u201d",
                    "name": "stderr"
                },
                {
                    "output_type": "stream",
                    "text": "Start:  AIC=110.13\nManipulater ~ 1\n\n       Df Deviance    AIC\n+ DSRI  1   99.673 103.67\n+ SGI   1  103.069 107.07\n+ SGAI  1  103.889 107.89\n+ ACCR  1  105.322 109.32\n+ GMI   1  105.507 109.51\n<none>     108.131 110.13\n+ AQI   1  106.254 110.25\n+ LEVI  1  106.504 110.50\n+ DEPI  1  107.041 111.04\n\nStep:  AIC=103.67\nManipulater ~ DSRI\n\n",
                    "name": "stdout"
                },
                {
                    "output_type": "stream",
                    "text": "Warning message:\n\u201cglm.fit: fitted probabilities numerically 0 or 1 occurred\u201dWarning message:\n\u201cglm.fit: fitted probabilities numerically 0 or 1 occurred\u201d",
                    "name": "stderr"
                },
                {
                    "output_type": "stream",
                    "text": "       Df Deviance     AIC\n+ SGI   1   86.233  92.233\n+ ACCR  1   93.504  99.504\n+ GMI   1   94.835 100.835\n+ AQI   1   96.975 102.975\n<none>      99.673 103.673\n+ DEPI  1   97.836 103.836\n+ SGAI  1   98.278 104.278\n+ LEVI  1   99.153 105.153\n- DSRI  1  108.131 110.131\n",
                    "name": "stdout"
                },
                {
                    "output_type": "stream",
                    "text": "Warning message:\n\u201cglm.fit: fitted probabilities numerically 0 or 1 occurred\u201d",
                    "name": "stderr"
                },
                {
                    "output_type": "stream",
                    "text": "\nStep:  AIC=92.23\nManipulater ~ DSRI + SGI\n\n",
                    "name": "stdout"
                },
                {
                    "output_type": "stream",
                    "text": "Warning message:\n\u201cglm.fit: fitted probabilities numerically 0 or 1 occurred\u201dWarning message:\n\u201cglm.fit: fitted probabilities numerically 0 or 1 occurred\u201dWarning message:\n\u201cglm.fit: fitted probabilities numerically 0 or 1 occurred\u201dWarning message:\n\u201cglm.fit: fitted probabilities numerically 0 or 1 occurred\u201dWarning message:\n\u201cglm.fit: fitted probabilities numerically 0 or 1 occurred\u201dWarning message:\n\u201cglm.fit: fitted probabilities numerically 0 or 1 occurred\u201dWarning message:\n\u201cglm.fit: fitted probabilities numerically 0 or 1 occurred\u201d",
                    "name": "stderr"
                },
                {
                    "output_type": "stream",
                    "text": "       Df Deviance     AIC\n+ AQI   1   76.748  84.748\n+ ACCR  1   80.000  88.000\n+ GMI   1   83.210  91.210\n+ SGAI  1   84.112  92.112\n<none>      86.233  92.233\n+ DEPI  1   85.650  93.650\n+ LEVI  1   86.220  94.220\n- SGI   1   99.673 103.673\n- DSRI  1  103.069 107.069\n",
                    "name": "stdout"
                },
                {
                    "output_type": "stream",
                    "text": "Warning message:\n\u201cglm.fit: fitted probabilities numerically 0 or 1 occurred\u201d",
                    "name": "stderr"
                },
                {
                    "output_type": "stream",
                    "text": "\nStep:  AIC=84.75\nManipulater ~ DSRI + SGI + AQI\n\n",
                    "name": "stdout"
                },
                {
                    "output_type": "stream",
                    "text": "Warning message:\n\u201cglm.fit: fitted probabilities numerically 0 or 1 occurred\u201dWarning message:\n\u201cglm.fit: fitted probabilities numerically 0 or 1 occurred\u201dWarning message:\n\u201cglm.fit: fitted probabilities numerically 0 or 1 occurred\u201dWarning message:\n\u201cglm.fit: fitted probabilities numerically 0 or 1 occurred\u201dWarning message:\n\u201cglm.fit: fitted probabilities numerically 0 or 1 occurred\u201dWarning message:\n\u201cglm.fit: fitted probabilities numerically 0 or 1 occurred\u201dWarning message:\n\u201cglm.fit: fitted probabilities numerically 0 or 1 occurred\u201d",
                    "name": "stderr"
                },
                {
                    "output_type": "stream",
                    "text": "       Df Deviance     AIC\n+ ACCR  1   62.550  72.550\n+ GMI   1   70.369  80.369\n<none>      76.748  84.748\n+ LEVI  1   75.167  85.167\n+ SGAI  1   75.722  85.722\n+ DEPI  1   76.695  86.695\n- AQI   1   86.233  92.233\n- SGI   1   96.975 102.975\n- DSRI  1  100.002 106.002\n",
                    "name": "stdout"
                },
                {
                    "output_type": "stream",
                    "text": "Warning message:\n\u201cglm.fit: fitted probabilities numerically 0 or 1 occurred\u201d",
                    "name": "stderr"
                },
                {
                    "output_type": "stream",
                    "text": "\nStep:  AIC=72.55\nManipulater ~ DSRI + SGI + AQI + ACCR\n\n",
                    "name": "stdout"
                },
                {
                    "output_type": "stream",
                    "text": "Warning message:\n\u201cglm.fit: fitted probabilities numerically 0 or 1 occurred\u201dWarning message:\n\u201cglm.fit: fitted probabilities numerically 0 or 1 occurred\u201dWarning message:\n\u201cglm.fit: fitted probabilities numerically 0 or 1 occurred\u201dWarning message:\n\u201cglm.fit: fitted probabilities numerically 0 or 1 occurred\u201dWarning message:\n\u201cglm.fit: fitted probabilities numerically 0 or 1 occurred\u201dWarning message:\n\u201cglm.fit: fitted probabilities numerically 0 or 1 occurred\u201dWarning message:\n\u201cglm.fit: fitted probabilities numerically 0 or 1 occurred\u201d",
                    "name": "stderr"
                },
                {
                    "output_type": "stream",
                    "text": "       Df Deviance     AIC\n+ GMI   1   47.258  59.258\n<none>      62.550  72.550\n+ DEPI  1   61.961  73.961\n+ LEVI  1   62.341  74.341\n+ SGAI  1   62.532  74.532\n- ACCR  1   76.748  84.748\n- AQI   1   80.000  88.000\n- SGI   1   87.087  95.087\n- DSRI  1   96.142 104.142\n",
                    "name": "stdout"
                },
                {
                    "output_type": "stream",
                    "text": "Warning message:\n\u201cglm.fit: fitted probabilities numerically 0 or 1 occurred\u201d",
                    "name": "stderr"
                },
                {
                    "output_type": "stream",
                    "text": "\nStep:  AIC=59.26\nManipulater ~ DSRI + SGI + AQI + ACCR + GMI\n\n",
                    "name": "stdout"
                },
                {
                    "output_type": "stream",
                    "text": "Warning message:\n\u201cglm.fit: fitted probabilities numerically 0 or 1 occurred\u201dWarning message:\n\u201cglm.fit: fitted probabilities numerically 0 or 1 occurred\u201dWarning message:\n\u201cglm.fit: fitted probabilities numerically 0 or 1 occurred\u201dWarning message:\n\u201cglm.fit: fitted probabilities numerically 0 or 1 occurred\u201dWarning message:\n\u201cglm.fit: fitted probabilities numerically 0 or 1 occurred\u201dWarning message:\n\u201cglm.fit: fitted probabilities numerically 0 or 1 occurred\u201dWarning message:\n\u201cglm.fit: fitted probabilities numerically 0 or 1 occurred\u201dWarning message:\n\u201cglm.fit: fitted probabilities numerically 0 or 1 occurred\u201dWarning message:\n\u201cglm.fit: fitted probabilities numerically 0 or 1 occurred\u201d",
                    "name": "stderr"
                },
                {
                    "output_type": "stream",
                    "text": "       Df Deviance     AIC\n<none>      47.258  59.258\n+ DEPI  1   46.146  60.146\n+ SGAI  1   46.329  60.329\n+ LEVI  1   47.079  61.079\n- GMI   1   62.550  72.550\n- ACCR  1   70.369  80.369\n- SGI   1   72.589  82.589\n- AQI   1   74.477  84.477\n- DSRI  1   92.372 102.372\n",
                    "name": "stdout"
                },
                {
                    "output_type": "stream",
                    "text": "Warning message:\n\u201cglm.fit: fitted probabilities numerically 0 or 1 occurred\u201d",
                    "name": "stderr"
                },
                {
                    "output_type": "stream",
                    "text": "Start:  AIC=110.13\nManipulater ~ 1\n\n",
                    "name": "stdout"
                },
                {
                    "output_type": "stream",
                    "text": "Warning message:\n\u201cglm.fit: fitted probabilities numerically 0 or 1 occurred\u201d",
                    "name": "stderr"
                },
                {
                    "output_type": "stream",
                    "text": "       Df Deviance    AIC\n+ DSRI  1   96.095 100.09\n+ SGAI  1  102.446 106.45\n+ AQI   1  104.318 108.32\n+ SGI   1  104.467 108.47\n+ LEVI  1  106.050 110.05\n<none>     108.131 110.13\n+ ACCR  1  106.299 110.30\n+ GMI   1  106.753 110.75\n+ DEPI  1  107.788 111.79\n",
                    "name": "stdout"
                },
                {
                    "output_type": "stream",
                    "text": "Warning message:\n\u201cglm.fit: fitted probabilities numerically 0 or 1 occurred\u201d",
                    "name": "stderr"
                },
                {
                    "output_type": "stream",
                    "text": "\nStep:  AIC=100.09\nManipulater ~ DSRI\n\n",
                    "name": "stdout"
                },
                {
                    "output_type": "stream",
                    "text": "Warning message:\n\u201cglm.fit: fitted probabilities numerically 0 or 1 occurred\u201dWarning message:\n\u201cglm.fit: fitted probabilities numerically 0 or 1 occurred\u201dWarning message:\n\u201cglm.fit: fitted probabilities numerically 0 or 1 occurred\u201dWarning message:\n\u201cglm.fit: fitted probabilities numerically 0 or 1 occurred\u201dWarning message:\n\u201cglm.fit: fitted probabilities numerically 0 or 1 occurred\u201dWarning message:\n\u201cglm.fit: fitted probabilities numerically 0 or 1 occurred\u201dWarning message:\n\u201cglm.fit: fitted probabilities numerically 0 or 1 occurred\u201dWarning message:\n\u201cglm.fit: fitted probabilities numerically 0 or 1 occurred\u201d",
                    "name": "stderr"
                },
                {
                    "output_type": "stream",
                    "text": "       Df Deviance     AIC\n+ SGI   1   85.261  91.261\n+ AQI   1   90.473  96.473\n+ GMI   1   92.018  98.018\n+ ACCR  1   92.618  98.618\n+ SGAI  1   92.938  98.938\n<none>      96.095 100.095\n+ LEVI  1   95.157 101.157\n+ DEPI  1   95.804 101.804\n- DSRI  1  108.131 110.131\n",
                    "name": "stdout"
                },
                {
                    "output_type": "stream",
                    "text": "Warning message:\n\u201cglm.fit: fitted probabilities numerically 0 or 1 occurred\u201d",
                    "name": "stderr"
                },
                {
                    "output_type": "stream",
                    "text": "\nStep:  AIC=91.26\nManipulater ~ DSRI + SGI\n\n",
                    "name": "stdout"
                },
                {
                    "output_type": "stream",
                    "text": "Warning message:\n\u201cglm.fit: fitted probabilities numerically 0 or 1 occurred\u201dWarning message:\n\u201cglm.fit: fitted probabilities numerically 0 or 1 occurred\u201dWarning message:\n\u201cglm.fit: fitted probabilities numerically 0 or 1 occurred\u201dWarning message:\n\u201cglm.fit: fitted probabilities numerically 0 or 1 occurred\u201dWarning message:\n\u201cglm.fit: fitted probabilities numerically 0 or 1 occurred\u201dWarning message:\n\u201cglm.fit: fitted probabilities numerically 0 or 1 occurred\u201dWarning message:\n\u201cglm.fit: fitted probabilities numerically 0 or 1 occurred\u201dWarning message:\n\u201cglm.fit: fitted probabilities numerically 0 or 1 occurred\u201d",
                    "name": "stderr"
                },
                {
                    "output_type": "stream",
                    "text": "       Df Deviance     AIC\n+ AQI   1   69.059  77.059\n+ SGAI  1   81.359  89.359\n+ GMI   1   82.746  90.746\n+ ACCR  1   83.045  91.045\n<none>      85.261  91.261\n+ LEVI  1   84.994  92.994\n+ DEPI  1   85.251  93.251\n- SGI   1   96.095 100.095\n- DSRI  1  104.467 108.467\n",
                    "name": "stdout"
                },
                {
                    "output_type": "stream",
                    "text": "Warning message:\n\u201cglm.fit: fitted probabilities numerically 0 or 1 occurred\u201d",
                    "name": "stderr"
                },
                {
                    "output_type": "stream",
                    "text": "\nStep:  AIC=77.06\nManipulater ~ DSRI + SGI + AQI\n\n",
                    "name": "stdout"
                },
                {
                    "output_type": "stream",
                    "text": "Warning message:\n\u201cglm.fit: fitted probabilities numerically 0 or 1 occurred\u201dWarning message:\n\u201cglm.fit: fitted probabilities numerically 0 or 1 occurred\u201dWarning message:\n\u201cglm.fit: fitted probabilities numerically 0 or 1 occurred\u201dWarning message:\n\u201cglm.fit: fitted probabilities numerically 0 or 1 occurred\u201dWarning message:\n\u201cglm.fit: fitted probabilities numerically 0 or 1 occurred\u201dWarning message:\n\u201cglm.fit: fitted probabilities numerically 0 or 1 occurred\u201dWarning message:\n\u201cglm.fit: fitted probabilities numerically 0 or 1 occurred\u201dWarning message:\n\u201cglm.fit: fitted probabilities numerically 0 or 1 occurred\u201d",
                    "name": "stderr"
                },
                {
                    "output_type": "stream",
                    "text": "       Df Deviance     AIC\n+ ACCR  1   63.007  73.007\n+ GMI   1   65.634  75.634\n<none>      69.059  77.059\n+ DEPI  1   67.201  77.201\n+ LEVI  1   67.219  77.219\n+ SGAI  1   67.729  77.729\n- AQI   1   85.261  91.261\n- SGI   1   90.473  96.473\n- DSRI  1   99.229 105.229\n",
                    "name": "stdout"
                },
                {
                    "output_type": "stream",
                    "text": "Warning message:\n\u201cglm.fit: fitted probabilities numerically 0 or 1 occurred\u201d",
                    "name": "stderr"
                },
                {
                    "output_type": "stream",
                    "text": "\nStep:  AIC=73.01\nManipulater ~ DSRI + SGI + AQI + ACCR\n\n",
                    "name": "stdout"
                },
                {
                    "output_type": "stream",
                    "text": "Warning message:\n\u201cglm.fit: fitted probabilities numerically 0 or 1 occurred\u201dWarning message:\n\u201cglm.fit: fitted probabilities numerically 0 or 1 occurred\u201dWarning message:\n\u201cglm.fit: fitted probabilities numerically 0 or 1 occurred\u201dWarning message:\n\u201cglm.fit: fitted probabilities numerically 0 or 1 occurred\u201dWarning message:\n\u201cglm.fit: fitted probabilities numerically 0 or 1 occurred\u201dWarning message:\n\u201cglm.fit: fitted probabilities numerically 0 or 1 occurred\u201dWarning message:\n\u201cglm.fit: fitted probabilities numerically 0 or 1 occurred\u201dWarning message:\n\u201cglm.fit: fitted probabilities numerically 0 or 1 occurred\u201d",
                    "name": "stderr"
                },
                {
                    "output_type": "stream",
                    "text": "       Df Deviance     AIC\n+ GMI   1   60.321  72.321\n<none>      63.007  73.007\n+ LEVI  1   62.024  74.024\n+ DEPI  1   62.049  74.049\n+ SGAI  1   62.564  74.564\n- ACCR  1   69.059  77.059\n- AQI   1   83.045  91.045\n- SGI   1   84.173  92.173\n- DSRI  1   96.576 104.576\n",
                    "name": "stdout"
                },
                {
                    "output_type": "stream",
                    "text": "Warning message:\n\u201cglm.fit: fitted probabilities numerically 0 or 1 occurred\u201d",
                    "name": "stderr"
                },
                {
                    "output_type": "stream",
                    "text": "\nStep:  AIC=72.32\nManipulater ~ DSRI + SGI + AQI + ACCR + GMI\n\n",
                    "name": "stdout"
                },
                {
                    "output_type": "stream",
                    "text": "Warning message:\n\u201cglm.fit: fitted probabilities numerically 0 or 1 occurred\u201dWarning message:\n\u201cglm.fit: fitted probabilities numerically 0 or 1 occurred\u201dWarning message:\n\u201cglm.fit: fitted probabilities numerically 0 or 1 occurred\u201dWarning message:\n\u201cglm.fit: fitted probabilities numerically 0 or 1 occurred\u201dWarning message:\n\u201cglm.fit: fitted probabilities numerically 0 or 1 occurred\u201dWarning message:\n\u201cglm.fit: fitted probabilities numerically 0 or 1 occurred\u201dWarning message:\n\u201cglm.fit: fitted probabilities numerically 0 or 1 occurred\u201dWarning message:\n\u201cglm.fit: fitted probabilities numerically 0 or 1 occurred\u201d",
                    "name": "stderr"
                },
                {
                    "output_type": "stream",
                    "text": "       Df Deviance     AIC\n<none>      60.321  72.321\n- GMI   1   63.007  73.007\n+ SGAI  1   59.108  73.108\n+ DEPI  1   59.564  73.564\n+ LEVI  1   59.724  73.724\n- ACCR  1   65.634  75.634\n- SGI   1   78.222  88.222\n- AQI   1   80.691  90.691\n- DSRI  1   95.458 105.458\n",
                    "name": "stdout"
                },
                {
                    "output_type": "stream",
                    "text": "Warning message:\n\u201cglm.fit: fitted probabilities numerically 0 or 1 occurred\u201d",
                    "name": "stderr"
                },
                {
                    "output_type": "stream",
                    "text": "Start:  AIC=110.13\nManipulater ~ 1\n\n       Df Deviance    AIC\n+ ACCR  1   98.986 102.99\n+ DSRI  1  101.109 105.11\n+ SGAI  1  102.341 106.34\n+ SGI   1  104.020 108.02\n+ DEPI  1  104.907 108.91\n<none>     108.131 110.13\n+ AQI   1  106.402 110.40\n+ LEVI  1  106.689 110.69\n+ GMI   1  106.712 110.71\n\nStep:  AIC=102.99\nManipulater ~ ACCR\n\n       Df Deviance     AIC\n+ DSRI  1   87.406  93.406\n+ SGAI  1   89.757  95.757\n+ DEPI  1   94.529 100.529\n+ AQI   1   95.256 101.256\n+ SGI   1   96.175 102.175\n<none>      98.986 102.986\n+ LEVI  1   97.113 103.113\n+ GMI   1   97.145 103.145\n- ACCR  1  108.131 110.131\n\nStep:  AIC=93.41\nManipulater ~ ACCR + DSRI\n\n       Df Deviance     AIC\n+ SGI   1   78.955  86.955\n+ AQI   1   81.095  89.095\n+ GMI   1   84.409  92.409\n+ DEPI  1   84.731  92.731\n<none>      87.406  93.406\n+ SGAI  1   85.844  93.844\n+ LEVI  1   86.348  94.348\n- DSRI  1   98.986 102.986\n- ACCR  1  101.109 105.109\n\nStep:  AIC=86.96\nManipulater ~ ACCR + DSRI + SGI\n\n",
                    "name": "stdout"
                },
                {
                    "output_type": "stream",
                    "text": "Warning message:\n\u201cglm.fit: fitted probabilities numerically 0 or 1 occurred\u201dWarning message:\n\u201cglm.fit: fitted probabilities numerically 0 or 1 occurred\u201d",
                    "name": "stderr"
                },
                {
                    "output_type": "stream",
                    "text": "       Df Deviance     AIC\n+ AQI   1   64.950  74.950\n<none>      78.955  86.955\n+ GMI   1   77.624  87.624\n+ SGAI  1   77.639  87.639\n+ DEPI  1   77.847  87.847\n+ LEVI  1   78.117  88.117\n- SGI   1   87.406  93.406\n- ACCR  1   90.686  96.686\n- DSRI  1   96.175 102.175\n",
                    "name": "stdout"
                },
                {
                    "output_type": "stream",
                    "text": "Warning message:\n\u201cglm.fit: fitted probabilities numerically 0 or 1 occurred\u201d",
                    "name": "stderr"
                },
                {
                    "output_type": "stream",
                    "text": "\nStep:  AIC=74.95\nManipulater ~ ACCR + DSRI + SGI + AQI\n\n",
                    "name": "stdout"
                },
                {
                    "output_type": "stream",
                    "text": "Warning message:\n\u201cglm.fit: fitted probabilities numerically 0 or 1 occurred\u201dWarning message:\n\u201cglm.fit: fitted probabilities numerically 0 or 1 occurred\u201dWarning message:\n\u201cglm.fit: fitted probabilities numerically 0 or 1 occurred\u201dWarning message:\n\u201cglm.fit: fitted probabilities numerically 0 or 1 occurred\u201dWarning message:\n\u201cglm.fit: fitted probabilities numerically 0 or 1 occurred\u201dWarning message:\n\u201cglm.fit: fitted probabilities numerically 0 or 1 occurred\u201d",
                    "name": "stderr"
                },
                {
                    "output_type": "stream",
                    "text": "       Df Deviance    AIC\n+ GMI   1   62.944 74.944\n<none>      64.950 74.950\n+ LEVI  1   64.661 76.661\n+ DEPI  1   64.707 76.707\n+ SGAI  1   64.950 76.950\n- AQI   1   78.955 86.955\n- SGI   1   81.095 89.095\n- ACCR  1   82.673 90.673\n- DSRI  1   91.539 99.539\n",
                    "name": "stdout"
                },
                {
                    "output_type": "stream",
                    "text": "Warning message:\n\u201cglm.fit: fitted probabilities numerically 0 or 1 occurred\u201d",
                    "name": "stderr"
                },
                {
                    "output_type": "stream",
                    "text": "\nStep:  AIC=74.94\nManipulater ~ ACCR + DSRI + SGI + AQI + GMI\n\n",
                    "name": "stdout"
                },
                {
                    "output_type": "stream",
                    "text": "Warning message:\n\u201cglm.fit: fitted probabilities numerically 0 or 1 occurred\u201dWarning message:\n\u201cglm.fit: fitted probabilities numerically 0 or 1 occurred\u201dWarning message:\n\u201cglm.fit: fitted probabilities numerically 0 or 1 occurred\u201dWarning message:\n\u201cglm.fit: fitted probabilities numerically 0 or 1 occurred\u201dWarning message:\n\u201cglm.fit: fitted probabilities numerically 0 or 1 occurred\u201d",
                    "name": "stderr"
                },
                {
                    "output_type": "stream",
                    "text": "       Df Deviance    AIC\n<none>      62.944 74.944\n- GMI   1   64.950 74.950\n+ DEPI  1   62.846 76.846\n+ LEVI  1   62.868 76.868\n+ SGAI  1   62.914 76.914\n- SGI   1   77.026 87.026\n- AQI   1   77.624 87.624\n- ACCR  1   82.145 92.145\n- DSRI  1   89.819 99.819\n",
                    "name": "stdout"
                },
                {
                    "output_type": "stream",
                    "text": "Warning message:\n\u201cglm.fit: fitted probabilities numerically 0 or 1 occurred\u201d",
                    "name": "stderr"
                },
                {
                    "output_type": "stream",
                    "text": "Start:  AIC=110.13\nManipulater ~ 1\n\n       Df Deviance    AIC\n+ DSRI  1   98.908 102.91\n+ SGAI  1  102.165 106.17\n+ DEPI  1  104.066 108.07\n+ AQI   1  104.218 108.22\n+ ACCR  1  104.463 108.46\n+ SGI   1  105.503 109.50\n<none>     108.131 110.13\n+ LEVI  1  106.667 110.67\n+ GMI   1  107.359 111.36\n\nStep:  AIC=102.91\nManipulater ~ DSRI\n\n",
                    "name": "stdout"
                },
                {
                    "output_type": "stream",
                    "text": "Warning message:\n\u201cglm.fit: fitted probabilities numerically 0 or 1 occurred\u201dWarning message:\n\u201cglm.fit: fitted probabilities numerically 0 or 1 occurred\u201dWarning message:\n\u201cglm.fit: fitted probabilities numerically 0 or 1 occurred\u201d",
                    "name": "stderr"
                },
                {
                    "output_type": "stream",
                    "text": "       Df Deviance     AIC\n+ ACCR  1   91.481  97.481\n+ SGI   1   92.617  98.617\n+ AQI   1   94.218 100.218\n+ DEPI  1   94.566 100.566\n+ SGAI  1   95.509 101.509\n<none>      98.908 102.908\n+ GMI   1   96.988 102.988\n+ LEVI  1   98.535 104.535\n- DSRI  1  108.131 110.131\n\nStep:  AIC=97.48\nManipulater ~ DSRI + ACCR\n\n",
                    "name": "stdout"
                },
                {
                    "output_type": "stream",
                    "text": "Warning message:\n\u201cglm.fit: fitted probabilities numerically 0 or 1 occurred\u201dWarning message:\n\u201cglm.fit: fitted probabilities numerically 0 or 1 occurred\u201dWarning message:\n\u201cglm.fit: fitted probabilities numerically 0 or 1 occurred\u201dWarning message:\n\u201cglm.fit: fitted probabilities numerically 0 or 1 occurred\u201dWarning message:\n\u201cglm.fit: fitted probabilities numerically 0 or 1 occurred\u201d",
                    "name": "stderr"
                },
                {
                    "output_type": "stream",
                    "text": "       Df Deviance     AIC\n+ AQI   1   83.382  91.382\n+ SGI   1   85.030  93.030\n+ DEPI  1   88.227  96.227\n+ GMI   1   88.975  96.975\n+ SGAI  1   89.359  97.359\n<none>      91.481  97.481\n+ LEVI  1   90.699  98.699\n- ACCR  1   98.908 102.908\n- DSRI  1  104.463 108.463\n",
                    "name": "stdout"
                },
                {
                    "output_type": "stream",
                    "text": "Warning message:\n\u201cglm.fit: fitted probabilities numerically 0 or 1 occurred\u201d",
                    "name": "stderr"
                },
                {
                    "output_type": "stream",
                    "text": "\nStep:  AIC=91.38\nManipulater ~ DSRI + ACCR + AQI\n\n",
                    "name": "stdout"
                },
                {
                    "output_type": "stream",
                    "text": "Warning message:\n\u201cglm.fit: fitted probabilities numerically 0 or 1 occurred\u201dWarning message:\n\u201cglm.fit: fitted probabilities numerically 0 or 1 occurred\u201dWarning message:\n\u201cglm.fit: fitted probabilities numerically 0 or 1 occurred\u201dWarning message:\n\u201cglm.fit: fitted probabilities numerically 0 or 1 occurred\u201dWarning message:\n\u201cglm.fit: fitted probabilities numerically 0 or 1 occurred\u201dWarning message:\n\u201cglm.fit: fitted probabilities numerically 0 or 1 occurred\u201d",
                    "name": "stderr"
                },
                {
                    "output_type": "stream",
                    "text": "       Df Deviance     AIC\n+ SGI   1   68.684  78.684\n+ GMI   1   79.810  89.810\n<none>      83.382  91.382\n+ DEPI  1   81.628  91.628\n+ SGAI  1   82.573  92.573\n+ LEVI  1   83.312  93.312\n- AQI   1   91.481  97.481\n- ACCR  1   94.218 100.218\n- DSRI  1   99.101 105.101\n",
                    "name": "stdout"
                },
                {
                    "output_type": "stream",
                    "text": "Warning message:\n\u201cglm.fit: fitted probabilities numerically 0 or 1 occurred\u201d",
                    "name": "stderr"
                },
                {
                    "output_type": "stream",
                    "text": "\nStep:  AIC=78.68\nManipulater ~ DSRI + ACCR + AQI + SGI\n\n",
                    "name": "stdout"
                },
                {
                    "output_type": "stream",
                    "text": "Warning message:\n\u201cglm.fit: fitted probabilities numerically 0 or 1 occurred\u201dWarning message:\n\u201cglm.fit: fitted probabilities numerically 0 or 1 occurred\u201dWarning message:\n\u201cglm.fit: fitted probabilities numerically 0 or 1 occurred\u201dWarning message:\n\u201cglm.fit: fitted probabilities numerically 0 or 1 occurred\u201dWarning message:\n\u201cglm.fit: fitted probabilities numerically 0 or 1 occurred\u201dWarning message:\n\u201cglm.fit: fitted probabilities numerically 0 or 1 occurred\u201dWarning message:\n\u201cglm.fit: fitted probabilities numerically 0 or 1 occurred\u201dWarning message:\n\u201cglm.fit: fitted probabilities numerically 0 or 1 occurred\u201d",
                    "name": "stderr"
                },
                {
                    "output_type": "stream",
                    "text": "       Df Deviance     AIC\n+ GMI   1   66.199  78.199\n<none>      68.684  78.684\n+ LEVI  1   67.005  79.005\n+ SGAI  1   68.420  80.420\n+ DEPI  1   68.617  80.617\n- ACCR  1   82.823  90.823\n- SGI   1   83.382  91.382\n- AQI   1   85.030  93.030\n- DSRI  1   95.439 103.439\n",
                    "name": "stdout"
                },
                {
                    "output_type": "stream",
                    "text": "Warning message:\n\u201cglm.fit: fitted probabilities numerically 0 or 1 occurred\u201d",
                    "name": "stderr"
                },
                {
                    "output_type": "stream",
                    "text": "\nStep:  AIC=78.2\nManipulater ~ DSRI + ACCR + AQI + SGI + GMI\n\n",
                    "name": "stdout"
                },
                {
                    "output_type": "stream",
                    "text": "Warning message:\n\u201cglm.fit: fitted probabilities numerically 0 or 1 occurred\u201dWarning message:\n\u201cglm.fit: fitted probabilities numerically 0 or 1 occurred\u201dWarning message:\n\u201cglm.fit: fitted probabilities numerically 0 or 1 occurred\u201dWarning message:\n\u201cglm.fit: fitted probabilities numerically 0 or 1 occurred\u201dWarning message:\n\u201cglm.fit: fitted probabilities numerically 0 or 1 occurred\u201dWarning message:\n\u201cglm.fit: fitted probabilities numerically 0 or 1 occurred\u201dWarning message:\n\u201cglm.fit: fitted probabilities numerically 0 or 1 occurred\u201dWarning message:\n\u201cglm.fit: fitted probabilities numerically 0 or 1 occurred\u201d",
                    "name": "stderr"
                },
                {
                    "output_type": "stream",
                    "text": "       Df Deviance     AIC\n<none>      66.199  78.199\n- GMI   1   68.684  78.684\n+ SGAI  1   65.236  79.236\n+ LEVI  1   65.315  79.315\n+ DEPI  1   66.114  80.114\n- SGI   1   79.810  89.810\n- ACCR  1   81.249  91.249\n- AQI   1   83.091  93.091\n- DSRI  1   94.705 104.705\n",
                    "name": "stdout"
                },
                {
                    "output_type": "stream",
                    "text": "Warning message:\n\u201cglm.fit: fitted probabilities numerically 0 or 1 occurred\u201d",
                    "name": "stderr"
                },
                {
                    "output_type": "stream",
                    "text": "Start:  AIC=110.13\nManipulater ~ 1\n\n       Df Deviance    AIC\n+ DSRI  1   100.98 104.98\n+ SGI   1   102.28 106.28\n+ AQI   1   104.13 108.13\n+ SGAI  1   104.84 108.84\n+ ACCR  1   105.43 109.43\n<none>      108.13 110.13\n+ GMI   1   106.21 110.21\n+ LEVI  1   107.38 111.38\n+ DEPI  1   107.50 111.50\n\nStep:  AIC=104.98\nManipulater ~ DSRI\n\n       Df Deviance     AIC\n+ SGI   1   86.601  92.601\n+ ACCR  1   95.316 101.316\n+ AQI   1   96.155 102.155\n+ GMI   1   97.537 103.537\n<none>     100.976 104.976\n+ SGAI  1  100.120 106.120\n+ DEPI  1  100.712 106.712\n+ LEVI  1  100.921 106.921\n- DSRI  1  108.131 110.131\n\nStep:  AIC=92.6\nManipulater ~ DSRI + SGI\n\n",
                    "name": "stdout"
                },
                {
                    "output_type": "stream",
                    "text": "Warning message:\n\u201cglm.fit: fitted probabilities numerically 0 or 1 occurred\u201dWarning message:\n\u201cglm.fit: fitted probabilities numerically 0 or 1 occurred\u201dWarning message:\n\u201cglm.fit: fitted probabilities numerically 0 or 1 occurred\u201dWarning message:\n\u201cglm.fit: fitted probabilities numerically 0 or 1 occurred\u201d",
                    "name": "stderr"
                },
                {
                    "output_type": "stream",
                    "text": "       Df Deviance     AIC\n+ AQI   1   70.583  78.583\n+ ACCR  1   80.648  88.648\n<none>      86.601  92.601\n+ SGAI  1   85.084  93.084\n+ GMI   1   85.670  93.670\n+ DEPI  1   85.751  93.751\n+ LEVI  1   86.142  94.142\n- SGI   1  100.976 104.976\n- DSRI  1  102.276 106.276\n",
                    "name": "stdout"
                },
                {
                    "output_type": "stream",
                    "text": "Warning message:\n\u201cglm.fit: fitted probabilities numerically 0 or 1 occurred\u201d",
                    "name": "stderr"
                },
                {
                    "output_type": "stream",
                    "text": "\nStep:  AIC=78.58\nManipulater ~ DSRI + SGI + AQI\n\n",
                    "name": "stdout"
                },
                {
                    "output_type": "stream",
                    "text": "Warning message:\n\u201cglm.fit: fitted probabilities numerically 0 or 1 occurred\u201dWarning message:\n\u201cglm.fit: fitted probabilities numerically 0 or 1 occurred\u201dWarning message:\n\u201cglm.fit: fitted probabilities numerically 0 or 1 occurred\u201dWarning message:\n\u201cglm.fit: fitted probabilities numerically 0 or 1 occurred\u201dWarning message:\n\u201cglm.fit: fitted probabilities numerically 0 or 1 occurred\u201dWarning message:\n\u201cglm.fit: fitted probabilities numerically 0 or 1 occurred\u201d",
                    "name": "stderr"
                },
                {
                    "output_type": "stream",
                    "text": "       Df Deviance     AIC\n+ ACCR  1   53.756  63.756\n+ DEPI  1   61.393  71.393\n+ GMI   1   66.529  76.529\n+ LEVI  1   66.931  76.931\n<none>      70.583  78.583\n+ SGAI  1   70.144  80.144\n- AQI   1   86.601  92.601\n- DSRI  1   95.759 101.759\n- SGI   1   96.155 102.155\n",
                    "name": "stdout"
                },
                {
                    "output_type": "stream",
                    "text": "Warning message:\n\u201cglm.fit: fitted probabilities numerically 0 or 1 occurred\u201d",
                    "name": "stderr"
                },
                {
                    "output_type": "stream",
                    "text": "\nStep:  AIC=63.76\nManipulater ~ DSRI + SGI + AQI + ACCR\n\n",
                    "name": "stdout"
                },
                {
                    "output_type": "stream",
                    "text": "Warning message:\n\u201cglm.fit: fitted probabilities numerically 0 or 1 occurred\u201dWarning message:\n\u201cglm.fit: fitted probabilities numerically 0 or 1 occurred\u201dWarning message:\n\u201cglm.fit: fitted probabilities numerically 0 or 1 occurred\u201dWarning message:\n\u201cglm.fit: fitted probabilities numerically 0 or 1 occurred\u201dWarning message:\n\u201cglm.fit: fitted probabilities numerically 0 or 1 occurred\u201dWarning message:\n\u201cglm.fit: fitted probabilities numerically 0 or 1 occurred\u201dWarning message:\n\u201cglm.fit: fitted probabilities numerically 0 or 1 occurred\u201d",
                    "name": "stderr"
                },
                {
                    "output_type": "stream",
                    "text": "       Df Deviance    AIC\n+ GMI   1   38.032 50.032\n+ DEPI  1   45.009 57.009\n+ LEVI  1   51.621 63.621\n<none>      53.756 63.756\n+ SGAI  1   53.711 65.711\n- ACCR  1   70.583 78.583\n- AQI   1   80.648 88.648\n- SGI   1   86.488 94.488\n- DSRI  1   91.449 99.449\n",
                    "name": "stdout"
                },
                {
                    "output_type": "stream",
                    "text": "Warning message:\n\u201cglm.fit: fitted probabilities numerically 0 or 1 occurred\u201d",
                    "name": "stderr"
                },
                {
                    "output_type": "stream",
                    "text": "\nStep:  AIC=50.03\nManipulater ~ DSRI + SGI + AQI + ACCR + GMI\n\n",
                    "name": "stdout"
                },
                {
                    "output_type": "stream",
                    "text": "Warning message:\n\u201cglm.fit: fitted probabilities numerically 0 or 1 occurred\u201dWarning message:\n\u201cglm.fit: fitted probabilities numerically 0 or 1 occurred\u201dWarning message:\n\u201cglm.fit: fitted probabilities numerically 0 or 1 occurred\u201dWarning message:\n\u201cglm.fit: fitted probabilities numerically 0 or 1 occurred\u201dWarning message:\n\u201cglm.fit: fitted probabilities numerically 0 or 1 occurred\u201dWarning message:\n\u201cglm.fit: fitted probabilities numerically 0 or 1 occurred\u201dWarning message:\n\u201cglm.fit: fitted probabilities numerically 0 or 1 occurred\u201dWarning message:\n\u201cglm.fit: fitted probabilities numerically 0 or 1 occurred\u201d",
                    "name": "stderr"
                },
                {
                    "output_type": "stream",
                    "text": "       Df Deviance    AIC\n+ DEPI  1   31.634 45.634\n<none>      38.032 50.032\n+ LEVI  1   36.966 50.966\n+ SGAI  1   37.606 51.606\n- GMI   1   53.756 63.756\n- ACCR  1   66.529 76.529\n- SGI   1   71.615 81.615\n- AQI   1   77.981 87.981\n- DSRI  1   89.398 99.398\n",
                    "name": "stdout"
                },
                {
                    "output_type": "stream",
                    "text": "Warning message:\n\u201cglm.fit: fitted probabilities numerically 0 or 1 occurred\u201d",
                    "name": "stderr"
                },
                {
                    "output_type": "stream",
                    "text": "\nStep:  AIC=45.63\nManipulater ~ DSRI + SGI + AQI + ACCR + GMI + DEPI\n\n",
                    "name": "stdout"
                },
                {
                    "output_type": "stream",
                    "text": "Warning message:\n\u201cglm.fit: fitted probabilities numerically 0 or 1 occurred\u201dWarning message:\n\u201cglm.fit: fitted probabilities numerically 0 or 1 occurred\u201dWarning message:\n\u201cglm.fit: fitted probabilities numerically 0 or 1 occurred\u201dWarning message:\n\u201cglm.fit: fitted probabilities numerically 0 or 1 occurred\u201dWarning message:\n\u201cglm.fit: fitted probabilities numerically 0 or 1 occurred\u201dWarning message:\n\u201cglm.fit: fitted probabilities numerically 0 or 1 occurred\u201dWarning message:\n\u201cglm.fit: fitted probabilities numerically 0 or 1 occurred\u201dWarning message:\n\u201cglm.fit: fitted probabilities numerically 0 or 1 occurred\u201d",
                    "name": "stderr"
                },
                {
                    "output_type": "stream",
                    "text": "       Df Deviance     AIC\n<none>      31.634  45.634\n+ LEVI  1   29.871  45.871\n+ SGAI  1   30.176  46.176\n- DEPI  1   38.032  50.032\n- GMI   1   45.009  57.009\n- ACCR  1   58.746  70.746\n- SGI   1   69.826  81.826\n- AQI   1   77.947  89.947\n- DSRI  1   89.310 101.310\n",
                    "name": "stdout"
                },
                {
                    "output_type": "stream",
                    "text": "Warning message:\n\u201cglm.fit: fitted probabilities numerically 0 or 1 occurred\u201d",
                    "name": "stderr"
                },
                {
                    "output_type": "stream",
                    "text": "Start:  AIC=110.13\nManipulater ~ 1\n\n",
                    "name": "stdout"
                },
                {
                    "output_type": "stream",
                    "text": "Warning message:\n\u201cglm.fit: fitted probabilities numerically 0 or 1 occurred\u201dWarning message:\n\u201cglm.fit: fitted probabilities numerically 0 or 1 occurred\u201d",
                    "name": "stderr"
                },
                {
                    "output_type": "stream",
                    "text": "       Df Deviance    AIC\n+ DSRI  1   96.807 100.81\n+ SGAI  1  101.985 105.98\n+ ACCR  1  102.980 106.98\n+ SGI   1  104.751 108.75\n<none>     108.131 110.13\n+ GMI   1  106.251 110.25\n+ LEVI  1  106.584 110.58\n+ AQI   1  106.932 110.93\n+ DEPI  1  108.087 112.09\n",
                    "name": "stdout"
                },
                {
                    "output_type": "stream",
                    "text": "Warning message:\n\u201cglm.fit: fitted probabilities numerically 0 or 1 occurred\u201d",
                    "name": "stderr"
                },
                {
                    "output_type": "stream",
                    "text": "\nStep:  AIC=100.81\nManipulater ~ DSRI\n\n",
                    "name": "stdout"
                },
                {
                    "output_type": "stream",
                    "text": "Warning message:\n\u201cglm.fit: fitted probabilities numerically 0 or 1 occurred\u201dWarning message:\n\u201cglm.fit: fitted probabilities numerically 0 or 1 occurred\u201dWarning message:\n\u201cglm.fit: fitted probabilities numerically 0 or 1 occurred\u201dWarning message:\n\u201cglm.fit: fitted probabilities numerically 0 or 1 occurred\u201dWarning message:\n\u201cglm.fit: fitted probabilities numerically 0 or 1 occurred\u201dWarning message:\n\u201cglm.fit: fitted probabilities numerically 0 or 1 occurred\u201dWarning message:\n\u201cglm.fit: fitted probabilities numerically 0 or 1 occurred\u201dWarning message:\n\u201cglm.fit: fitted probabilities numerically 0 or 1 occurred\u201d",
                    "name": "stderr"
                },
                {
                    "output_type": "stream",
                    "text": "       Df Deviance     AIC\n+ SGI   1   87.990  93.990\n+ ACCR  1   88.461  94.461\n+ GMI   1   92.426  98.426\n+ SGAI  1   93.033  99.033\n+ AQI   1   94.345 100.345\n<none>      96.807 100.807\n+ LEVI  1   96.419 102.419\n+ DEPI  1   96.744 102.744\n- DSRI  1  108.131 110.131\n",
                    "name": "stdout"
                },
                {
                    "output_type": "stream",
                    "text": "Warning message:\n\u201cglm.fit: fitted probabilities numerically 0 or 1 occurred\u201d",
                    "name": "stderr"
                },
                {
                    "output_type": "stream",
                    "text": "\nStep:  AIC=93.99\nManipulater ~ DSRI + SGI\n\n",
                    "name": "stdout"
                },
                {
                    "output_type": "stream",
                    "text": "Warning message:\n\u201cglm.fit: fitted probabilities numerically 0 or 1 occurred\u201dWarning message:\n\u201cglm.fit: fitted probabilities numerically 0 or 1 occurred\u201dWarning message:\n\u201cglm.fit: fitted probabilities numerically 0 or 1 occurred\u201dWarning message:\n\u201cglm.fit: fitted probabilities numerically 0 or 1 occurred\u201dWarning message:\n\u201cglm.fit: fitted probabilities numerically 0 or 1 occurred\u201dWarning message:\n\u201cglm.fit: fitted probabilities numerically 0 or 1 occurred\u201dWarning message:\n\u201cglm.fit: fitted probabilities numerically 0 or 1 occurred\u201dWarning message:\n\u201cglm.fit: fitted probabilities numerically 0 or 1 occurred\u201d",
                    "name": "stderr"
                },
                {
                    "output_type": "stream",
                    "text": "       Df Deviance     AIC\n+ ACCR  1   81.340  89.340\n+ AQI   1   81.445  89.445\n+ SGAI  1   84.382  92.382\n+ GMI   1   85.204  93.204\n<none>      87.990  93.990\n+ DEPI  1   87.384  95.384\n+ LEVI  1   87.970  95.970\n- SGI   1   96.807 100.807\n- DSRI  1  104.751 108.751\n",
                    "name": "stdout"
                },
                {
                    "output_type": "stream",
                    "text": "Warning message:\n\u201cglm.fit: fitted probabilities numerically 0 or 1 occurred\u201d",
                    "name": "stderr"
                },
                {
                    "output_type": "stream",
                    "text": "\nStep:  AIC=89.34\nManipulater ~ DSRI + SGI + ACCR\n\n",
                    "name": "stdout"
                },
                {
                    "output_type": "stream",
                    "text": "Warning message:\n\u201cglm.fit: fitted probabilities numerically 0 or 1 occurred\u201dWarning message:\n\u201cglm.fit: fitted probabilities numerically 0 or 1 occurred\u201dWarning message:\n\u201cglm.fit: fitted probabilities numerically 0 or 1 occurred\u201dWarning message:\n\u201cglm.fit: fitted probabilities numerically 0 or 1 occurred\u201dWarning message:\n\u201cglm.fit: fitted probabilities numerically 0 or 1 occurred\u201dWarning message:\n\u201cglm.fit: fitted probabilities numerically 0 or 1 occurred\u201dWarning message:\n\u201cglm.fit: fitted probabilities numerically 0 or 1 occurred\u201dWarning message:\n\u201cglm.fit: fitted probabilities numerically 0 or 1 occurred\u201d",
                    "name": "stderr"
                },
                {
                    "output_type": "stream",
                    "text": "       Df Deviance     AIC\n+ AQI   1   70.217  80.217\n+ GMI   1   77.535  87.535\n+ SGAI  1   79.094  89.094\n<none>      81.340  89.340\n+ DEPI  1   81.248  91.248\n+ LEVI  1   81.255  91.255\n- ACCR  1   87.990  93.990\n- SGI   1   88.461  94.461\n- DSRI  1  100.373 106.373\n",
                    "name": "stdout"
                },
                {
                    "output_type": "stream",
                    "text": "Warning message:\n\u201cglm.fit: fitted probabilities numerically 0 or 1 occurred\u201d",
                    "name": "stderr"
                },
                {
                    "output_type": "stream",
                    "text": "\nStep:  AIC=80.22\nManipulater ~ DSRI + SGI + ACCR + AQI\n\n",
                    "name": "stdout"
                },
                {
                    "output_type": "stream",
                    "text": "Warning message:\n\u201cglm.fit: fitted probabilities numerically 0 or 1 occurred\u201dWarning message:\n\u201cglm.fit: fitted probabilities numerically 0 or 1 occurred\u201dWarning message:\n\u201cglm.fit: fitted probabilities numerically 0 or 1 occurred\u201dWarning message:\n\u201cglm.fit: fitted probabilities numerically 0 or 1 occurred\u201dWarning message:\n\u201cglm.fit: fitted probabilities numerically 0 or 1 occurred\u201dWarning message:\n\u201cglm.fit: fitted probabilities numerically 0 or 1 occurred\u201dWarning message:\n\u201cglm.fit: fitted probabilities numerically 0 or 1 occurred\u201dWarning message:\n\u201cglm.fit: fitted probabilities numerically 0 or 1 occurred\u201d",
                    "name": "stderr"
                },
                {
                    "output_type": "stream",
                    "text": "       Df Deviance     AIC\n+ GMI   1   63.735  75.735\n+ DEPI  1   67.462  79.462\n<none>      70.217  80.217\n+ LEVI  1   68.802  80.802\n+ SGAI  1   69.918  81.918\n- AQI   1   81.340  89.340\n- ACCR  1   81.445  89.445\n- SGI   1   82.499  90.499\n- DSRI  1   97.063 105.063\n",
                    "name": "stdout"
                },
                {
                    "output_type": "stream",
                    "text": "Warning message:\n\u201cglm.fit: fitted probabilities numerically 0 or 1 occurred\u201d",
                    "name": "stderr"
                },
                {
                    "output_type": "stream",
                    "text": "\nStep:  AIC=75.74\nManipulater ~ DSRI + SGI + ACCR + AQI + GMI\n\n",
                    "name": "stdout"
                },
                {
                    "output_type": "stream",
                    "text": "Warning message:\n\u201cglm.fit: fitted probabilities numerically 0 or 1 occurred\u201dWarning message:\n\u201cglm.fit: fitted probabilities numerically 0 or 1 occurred\u201dWarning message:\n\u201cglm.fit: fitted probabilities numerically 0 or 1 occurred\u201dWarning message:\n\u201cglm.fit: fitted probabilities numerically 0 or 1 occurred\u201dWarning message:\n\u201cglm.fit: fitted probabilities numerically 0 or 1 occurred\u201dWarning message:\n\u201cglm.fit: fitted probabilities numerically 0 or 1 occurred\u201dWarning message:\n\u201cglm.fit: fitted probabilities numerically 0 or 1 occurred\u201dWarning message:\n\u201cglm.fit: fitted probabilities numerically 0 or 1 occurred\u201d",
                    "name": "stderr"
                },
                {
                    "output_type": "stream",
                    "text": "       Df Deviance     AIC\n+ SGAI  1   61.693  75.693\n<none>      63.735  75.735\n+ LEVI  1   62.591  76.591\n+ DEPI  1   63.232  77.232\n- GMI   1   70.217  80.217\n- SGI   1   73.881  83.881\n- AQI   1   77.535  87.535\n- ACCR  1   77.599  87.599\n- DSRI  1   95.035 105.035\n",
                    "name": "stdout"
                },
                {
                    "output_type": "stream",
                    "text": "Warning message:\n\u201cglm.fit: fitted probabilities numerically 0 or 1 occurred\u201d",
                    "name": "stderr"
                },
                {
                    "output_type": "stream",
                    "text": "\nStep:  AIC=75.69\nManipulater ~ DSRI + SGI + ACCR + AQI + GMI + SGAI\n\n",
                    "name": "stdout"
                },
                {
                    "output_type": "stream",
                    "text": "Warning message:\n\u201cglm.fit: fitted probabilities numerically 0 or 1 occurred\u201dWarning message:\n\u201cglm.fit: fitted probabilities numerically 0 or 1 occurred\u201dWarning message:\n\u201cglm.fit: fitted probabilities numerically 0 or 1 occurred\u201dWarning message:\n\u201cglm.fit: fitted probabilities numerically 0 or 1 occurred\u201dWarning message:\n\u201cglm.fit: fitted probabilities numerically 0 or 1 occurred\u201dWarning message:\n\u201cglm.fit: fitted probabilities numerically 0 or 1 occurred\u201dWarning message:\n\u201cglm.fit: fitted probabilities numerically 0 or 1 occurred\u201dWarning message:\n\u201cglm.fit: fitted probabilities numerically 0 or 1 occurred\u201dWarning message:\n\u201cglm.fit: fitted probabilities numerically 0 or 1 occurred\u201d",
                    "name": "stderr"
                },
                {
                    "output_type": "stream",
                    "text": "       Df Deviance    AIC\n<none>      61.693 75.693\n- SGAI  1   63.735 75.735\n+ DEPI  1   60.666 76.666\n+ LEVI  1   60.842 76.842\n- GMI   1   69.918 81.918\n- SGI   1   71.614 83.614\n- AQI   1   71.911 83.911\n- ACCR  1   73.738 85.738\n- DSRI  1   78.458 90.458\n",
                    "name": "stdout"
                },
                {
                    "output_type": "stream",
                    "text": "Warning message:\n\u201cglm.fit: fitted probabilities numerically 0 or 1 occurred\u201d",
                    "name": "stderr"
                },
                {
                    "output_type": "stream",
                    "text": "Start:  AIC=110.13\nManipulater ~ 1\n\n       Df Deviance    AIC\n+ ACCR  1   97.184 101.18\n+ DSRI  1  101.664 105.66\n+ SGI   1  103.873 107.87\n+ AQI   1  104.953 108.95\n+ SGAI  1  105.199 109.20\n+ GMI   1  105.984 109.98\n<none>     108.131 110.13\n+ LEVI  1  106.641 110.64\n+ DEPI  1  107.146 111.15\n\nStep:  AIC=101.18\nManipulater ~ ACCR\n\n       Df Deviance     AIC\n+ DSRI  1   85.696  91.696\n+ SGAI  1   89.377  95.377\n+ AQI   1   90.560  96.560\n+ DEPI  1   94.343 100.343\n+ SGI   1   94.519 100.519\n<none>      97.184 101.184\n+ GMI   1   95.249 101.249\n+ LEVI  1   95.372 101.372\n- ACCR  1  108.131 110.131\n\nStep:  AIC=91.7\nManipulater ~ ACCR + DSRI\n\n",
                    "name": "stdout"
                },
                {
                    "output_type": "stream",
                    "text": "Warning message:\n\u201cglm.fit: fitted probabilities numerically 0 or 1 occurred\u201dWarning message:\n\u201cglm.fit: fitted probabilities numerically 0 or 1 occurred\u201d",
                    "name": "stderr"
                },
                {
                    "output_type": "stream",
                    "text": "       Df Deviance     AIC\n+ AQI   1   74.760  82.760\n+ SGI   1   78.769  86.769\n+ GMI   1   79.486  87.486\n<none>      85.696  91.696\n+ DEPI  1   83.935  91.935\n+ LEVI  1   84.802  92.802\n+ SGAI  1   85.331  93.331\n- DSRI  1   97.184 101.184\n- ACCR  1  101.664 105.664\n",
                    "name": "stdout"
                },
                {
                    "output_type": "stream",
                    "text": "Warning message:\n\u201cglm.fit: fitted probabilities numerically 0 or 1 occurred\u201d",
                    "name": "stderr"
                },
                {
                    "output_type": "stream",
                    "text": "\nStep:  AIC=82.76\nManipulater ~ ACCR + DSRI + AQI\n\n",
                    "name": "stdout"
                },
                {
                    "output_type": "stream",
                    "text": "Warning message:\n\u201cglm.fit: fitted probabilities numerically 0 or 1 occurred\u201dWarning message:\n\u201cglm.fit: fitted probabilities numerically 0 or 1 occurred\u201dWarning message:\n\u201cglm.fit: fitted probabilities numerically 0 or 1 occurred\u201dWarning message:\n\u201cglm.fit: fitted probabilities numerically 0 or 1 occurred\u201dWarning message:\n\u201cglm.fit: fitted probabilities numerically 0 or 1 occurred\u201dWarning message:\n\u201cglm.fit: fitted probabilities numerically 0 or 1 occurred\u201d",
                    "name": "stderr"
                },
                {
                    "output_type": "stream",
                    "text": "       Df Deviance     AIC\n+ GMI   1   57.856  67.856\n+ SGI   1   59.932  69.932\n<none>      74.760  82.760\n+ DEPI  1   73.832  83.832\n+ SGAI  1   74.625  84.625\n+ LEVI  1   74.756  84.756\n- AQI   1   85.696  91.696\n- DSRI  1   90.560  96.560\n- ACCR  1   97.591 103.591\n",
                    "name": "stdout"
                },
                {
                    "output_type": "stream",
                    "text": "Warning message:\n\u201cglm.fit: fitted probabilities numerically 0 or 1 occurred\u201d",
                    "name": "stderr"
                },
                {
                    "output_type": "stream",
                    "text": "\nStep:  AIC=67.86\nManipulater ~ ACCR + DSRI + AQI + GMI\n\n",
                    "name": "stdout"
                },
                {
                    "output_type": "stream",
                    "text": "Warning message:\n\u201cglm.fit: fitted probabilities numerically 0 or 1 occurred\u201dWarning message:\n\u201cglm.fit: fitted probabilities numerically 0 or 1 occurred\u201dWarning message:\n\u201cglm.fit: fitted probabilities numerically 0 or 1 occurred\u201dWarning message:\n\u201cglm.fit: fitted probabilities numerically 0 or 1 occurred\u201dWarning message:\n\u201cglm.fit: fitted probabilities numerically 0 or 1 occurred\u201dWarning message:\n\u201cglm.fit: fitted probabilities numerically 0 or 1 occurred\u201dWarning message:\n\u201cglm.fit: fitted probabilities numerically 0 or 1 occurred\u201dWarning message:\n\u201cglm.fit: fitted probabilities numerically 0 or 1 occurred\u201dWarning message:\n\u201cglm.fit: fitted probabilities numerically 0 or 1 occurred\u201d",
                    "name": "stderr"
                },
                {
                    "output_type": "stream",
                    "text": "       Df Deviance    AIC\n+ SGI   1   45.417 57.417\n+ DEPI  1   52.956 64.956\n<none>      57.856 67.856\n+ SGAI  1   57.683 69.683\n+ LEVI  1   57.855 69.855\n- GMI   1   74.760 82.760\n- AQI   1   79.486 87.486\n- DSRI  1   87.518 95.518\n- ACCR  1   90.381 98.381\n",
                    "name": "stdout"
                },
                {
                    "output_type": "stream",
                    "text": "Warning message:\n\u201cglm.fit: fitted probabilities numerically 0 or 1 occurred\u201d",
                    "name": "stderr"
                },
                {
                    "output_type": "stream",
                    "text": "\nStep:  AIC=57.42\nManipulater ~ ACCR + DSRI + AQI + GMI + SGI\n\n",
                    "name": "stdout"
                },
                {
                    "output_type": "stream",
                    "text": "Warning message:\n\u201cglm.fit: fitted probabilities numerically 0 or 1 occurred\u201dWarning message:\n\u201cglm.fit: fitted probabilities numerically 0 or 1 occurred\u201dWarning message:\n\u201cglm.fit: fitted probabilities numerically 0 or 1 occurred\u201dWarning message:\n\u201cglm.fit: fitted probabilities numerically 0 or 1 occurred\u201dWarning message:\n\u201cglm.fit: fitted probabilities numerically 0 or 1 occurred\u201dWarning message:\n\u201cglm.fit: fitted probabilities numerically 0 or 1 occurred\u201dWarning message:\n\u201cglm.fit: fitted probabilities numerically 0 or 1 occurred\u201dWarning message:\n\u201cglm.fit: fitted probabilities numerically 0 or 1 occurred\u201d",
                    "name": "stderr"
                },
                {
                    "output_type": "stream",
                    "text": "       Df Deviance    AIC\n<none>      45.417 57.417\n+ LEVI  1   44.213 58.213\n+ SGAI  1   45.118 59.118\n+ DEPI  1   45.393 59.393\n- SGI   1   57.856 67.856\n- GMI   1   59.932 69.932\n- AQI   1   74.713 84.713\n- ACCR  1   75.889 85.889\n- DSRI  1   84.679 94.679\n",
                    "name": "stdout"
                },
                {
                    "output_type": "stream",
                    "text": "Warning message:\n\u201cglm.fit: fitted probabilities numerically 0 or 1 occurred\u201d",
                    "name": "stderr"
                },
                {
                    "output_type": "stream",
                    "text": "Start:  AIC=110.13\nManipulater ~ 1\n\n",
                    "name": "stdout"
                },
                {
                    "output_type": "stream",
                    "text": "Warning message:\n\u201cglm.fit: fitted probabilities numerically 0 or 1 occurred\u201d",
                    "name": "stderr"
                },
                {
                    "output_type": "stream",
                    "text": "       Df Deviance    AIC\n+ DSRI  1   96.686 100.69\n+ SGAI  1  103.321 107.32\n+ SGI   1  103.740 107.74\n+ AQI   1  105.857 109.86\n<none>     108.131 110.13\n+ LEVI  1  106.287 110.29\n+ ACCR  1  106.475 110.47\n+ GMI   1  106.629 110.63\n+ DEPI  1  108.063 112.06\n",
                    "name": "stdout"
                },
                {
                    "output_type": "stream",
                    "text": "Warning message:\n\u201cglm.fit: fitted probabilities numerically 0 or 1 occurred\u201d",
                    "name": "stderr"
                },
                {
                    "output_type": "stream",
                    "text": "\nStep:  AIC=100.69\nManipulater ~ DSRI\n\n",
                    "name": "stdout"
                },
                {
                    "output_type": "stream",
                    "text": "Warning message:\n\u201cglm.fit: fitted probabilities numerically 0 or 1 occurred\u201dWarning message:\n\u201cglm.fit: fitted probabilities numerically 0 or 1 occurred\u201dWarning message:\n\u201cglm.fit: fitted probabilities numerically 0 or 1 occurred\u201dWarning message:\n\u201cglm.fit: fitted probabilities numerically 0 or 1 occurred\u201dWarning message:\n\u201cglm.fit: fitted probabilities numerically 0 or 1 occurred\u201dWarning message:\n\u201cglm.fit: fitted probabilities numerically 0 or 1 occurred\u201dWarning message:\n\u201cglm.fit: fitted probabilities numerically 0 or 1 occurred\u201dWarning message:\n\u201cglm.fit: fitted probabilities numerically 0 or 1 occurred\u201d",
                    "name": "stderr"
                },
                {
                    "output_type": "stream",
                    "text": "       Df Deviance     AIC\n+ SGI   1   83.574  89.574\n+ GMI   1   92.258  98.258\n+ ACCR  1   92.733  98.733\n+ AQI   1   93.265  99.265\n+ SGAI  1   94.122 100.122\n<none>      96.686 100.686\n+ LEVI  1   96.050 102.050\n+ DEPI  1   96.368 102.368\n- DSRI  1  108.131 110.131\n",
                    "name": "stdout"
                },
                {
                    "output_type": "stream",
                    "text": "Warning message:\n\u201cglm.fit: fitted probabilities numerically 0 or 1 occurred\u201d",
                    "name": "stderr"
                },
                {
                    "output_type": "stream",
                    "text": "\nStep:  AIC=89.57\nManipulater ~ DSRI + SGI\n\n",
                    "name": "stdout"
                },
                {
                    "output_type": "stream",
                    "text": "Warning message:\n\u201cglm.fit: fitted probabilities numerically 0 or 1 occurred\u201dWarning message:\n\u201cglm.fit: fitted probabilities numerically 0 or 1 occurred\u201dWarning message:\n\u201cglm.fit: fitted probabilities numerically 0 or 1 occurred\u201dWarning message:\n\u201cglm.fit: fitted probabilities numerically 0 or 1 occurred\u201dWarning message:\n\u201cglm.fit: fitted probabilities numerically 0 or 1 occurred\u201dWarning message:\n\u201cglm.fit: fitted probabilities numerically 0 or 1 occurred\u201dWarning message:\n\u201cglm.fit: fitted probabilities numerically 0 or 1 occurred\u201dWarning message:\n\u201cglm.fit: fitted probabilities numerically 0 or 1 occurred\u201d",
                    "name": "stderr"
                },
                {
                    "output_type": "stream",
                    "text": "       Df Deviance     AIC\n+ AQI   1   72.755  80.755\n+ SGAI  1   80.871  88.871\n+ ACCR  1   81.009  89.009\n+ GMI   1   81.201  89.201\n<none>      83.574  89.574\n+ DEPI  1   83.382  91.382\n+ LEVI  1   83.464  91.464\n- SGI   1   96.686 100.686\n- DSRI  1  103.740 107.740\n",
                    "name": "stdout"
                },
                {
                    "output_type": "stream",
                    "text": "Warning message:\n\u201cglm.fit: fitted probabilities numerically 0 or 1 occurred\u201d",
                    "name": "stderr"
                },
                {
                    "output_type": "stream",
                    "text": "\nStep:  AIC=80.76\nManipulater ~ DSRI + SGI + AQI\n\n",
                    "name": "stdout"
                },
                {
                    "output_type": "stream",
                    "text": "Warning message:\n\u201cglm.fit: fitted probabilities numerically 0 or 1 occurred\u201dWarning message:\n\u201cglm.fit: fitted probabilities numerically 0 or 1 occurred\u201dWarning message:\n\u201cglm.fit: fitted probabilities numerically 0 or 1 occurred\u201dWarning message:\n\u201cglm.fit: fitted probabilities numerically 0 or 1 occurred\u201dWarning message:\n\u201cglm.fit: fitted probabilities numerically 0 or 1 occurred\u201dWarning message:\n\u201cglm.fit: fitted probabilities numerically 0 or 1 occurred\u201dWarning message:\n\u201cglm.fit: fitted probabilities numerically 0 or 1 occurred\u201dWarning message:\n\u201cglm.fit: fitted probabilities numerically 0 or 1 occurred\u201d",
                    "name": "stderr"
                },
                {
                    "output_type": "stream",
                    "text": "       Df Deviance     AIC\n+ ACCR  1   66.839  76.839\n+ GMI   1   68.039  78.039\n+ DEPI  1   69.835  79.835\n+ LEVI  1   70.645  80.645\n<none>      72.755  80.755\n+ SGAI  1   71.791  81.791\n- AQI   1   83.574  89.574\n- SGI   1   93.265  99.265\n- DSRI  1  100.353 106.353\n",
                    "name": "stdout"
                },
                {
                    "output_type": "stream",
                    "text": "Warning message:\n\u201cglm.fit: fitted probabilities numerically 0 or 1 occurred\u201d",
                    "name": "stderr"
                },
                {
                    "output_type": "stream",
                    "text": "\nStep:  AIC=76.84\nManipulater ~ DSRI + SGI + AQI + ACCR\n\n",
                    "name": "stdout"
                },
                {
                    "output_type": "stream",
                    "text": "Warning message:\n\u201cglm.fit: fitted probabilities numerically 0 or 1 occurred\u201dWarning message:\n\u201cglm.fit: fitted probabilities numerically 0 or 1 occurred\u201dWarning message:\n\u201cglm.fit: fitted probabilities numerically 0 or 1 occurred\u201dWarning message:\n\u201cglm.fit: fitted probabilities numerically 0 or 1 occurred\u201dWarning message:\n\u201cglm.fit: fitted probabilities numerically 0 or 1 occurred\u201dWarning message:\n\u201cglm.fit: fitted probabilities numerically 0 or 1 occurred\u201dWarning message:\n\u201cglm.fit: fitted probabilities numerically 0 or 1 occurred\u201dWarning message:\n\u201cglm.fit: fitted probabilities numerically 0 or 1 occurred\u201d",
                    "name": "stderr"
                },
                {
                    "output_type": "stream",
                    "text": "       Df Deviance     AIC\n+ GMI   1   61.938  73.938\n+ DEPI  1   63.618  75.618\n<none>      66.839  76.839\n+ LEVI  1   65.796  77.796\n+ SGAI  1   66.684  78.684\n- ACCR  1   72.755  80.755\n- AQI   1   81.009  89.009\n- SGI   1   86.813  94.813\n- DSRI  1   98.380 106.380\n",
                    "name": "stdout"
                },
                {
                    "output_type": "stream",
                    "text": "Warning message:\n\u201cglm.fit: fitted probabilities numerically 0 or 1 occurred\u201d",
                    "name": "stderr"
                },
                {
                    "output_type": "stream",
                    "text": "\nStep:  AIC=73.94\nManipulater ~ DSRI + SGI + AQI + ACCR + GMI\n\n",
                    "name": "stdout"
                },
                {
                    "output_type": "stream",
                    "text": "Warning message:\n\u201cglm.fit: fitted probabilities numerically 0 or 1 occurred\u201dWarning message:\n\u201cglm.fit: fitted probabilities numerically 0 or 1 occurred\u201dWarning message:\n\u201cglm.fit: fitted probabilities numerically 0 or 1 occurred\u201dWarning message:\n\u201cglm.fit: fitted probabilities numerically 0 or 1 occurred\u201dWarning message:\n\u201cglm.fit: fitted probabilities numerically 0 or 1 occurred\u201dWarning message:\n\u201cglm.fit: fitted probabilities numerically 0 or 1 occurred\u201dWarning message:\n\u201cglm.fit: fitted probabilities numerically 0 or 1 occurred\u201dWarning message:\n\u201cglm.fit: fitted probabilities numerically 0 or 1 occurred\u201d",
                    "name": "stderr"
                },
                {
                    "output_type": "stream",
                    "text": "       Df Deviance     AIC\n+ DEPI  1   59.416  73.416\n<none>      61.938  73.938\n+ LEVI  1   60.783  74.783\n+ SGAI  1   61.235  75.235\n- GMI   1   66.839  76.839\n- ACCR  1   68.039  78.039\n- AQI   1   78.673  88.673\n- SGI   1   80.025  90.025\n- DSRI  1   97.219 107.219\n",
                    "name": "stdout"
                },
                {
                    "output_type": "stream",
                    "text": "Warning message:\n\u201cglm.fit: fitted probabilities numerically 0 or 1 occurred\u201d",
                    "name": "stderr"
                },
                {
                    "output_type": "stream",
                    "text": "\nStep:  AIC=73.42\nManipulater ~ DSRI + SGI + AQI + ACCR + GMI + DEPI\n\n",
                    "name": "stdout"
                },
                {
                    "output_type": "stream",
                    "text": "Warning message:\n\u201cglm.fit: fitted probabilities numerically 0 or 1 occurred\u201dWarning message:\n\u201cglm.fit: fitted probabilities numerically 0 or 1 occurred\u201dWarning message:\n\u201cglm.fit: fitted probabilities numerically 0 or 1 occurred\u201dWarning message:\n\u201cglm.fit: fitted probabilities numerically 0 or 1 occurred\u201dWarning message:\n\u201cglm.fit: fitted probabilities numerically 0 or 1 occurred\u201dWarning message:\n\u201cglm.fit: fitted probabilities numerically 0 or 1 occurred\u201dWarning message:\n\u201cglm.fit: fitted probabilities numerically 0 or 1 occurred\u201dWarning message:\n\u201cglm.fit: fitted probabilities numerically 0 or 1 occurred\u201d",
                    "name": "stderr"
                },
                {
                    "output_type": "stream",
                    "text": "       Df Deviance     AIC\n<none>      59.416  73.416\n+ LEVI  1   57.676  73.676\n+ SGAI  1   57.911  73.911\n- DEPI  1   61.938  73.938\n- GMI   1   63.618  75.618\n- ACCR  1   66.172  78.172\n- AQI   1   78.655  90.655\n- SGI   1   79.762  91.762\n- DSRI  1   96.994 108.994\n",
                    "name": "stdout"
                },
                {
                    "output_type": "stream",
                    "text": "Warning message:\n\u201cglm.fit: fitted probabilities numerically 0 or 1 occurred\u201d",
                    "name": "stderr"
                },
                {
                    "output_type": "stream",
                    "text": "Start:  AIC=110.13\nManipulater ~ 1\n\n",
                    "name": "stdout"
                },
                {
                    "output_type": "stream",
                    "text": "Warning message:\n\u201cglm.fit: fitted probabilities numerically 0 or 1 occurred\u201d",
                    "name": "stderr"
                },
                {
                    "output_type": "stream",
                    "text": "       Df Deviance    AIC\n+ DSRI  1   96.616 100.62\n+ SGI   1  104.520 108.52\n+ ACCR  1  104.564 108.56\n+ SGAI  1  105.460 109.46\n+ AQI   1  105.943 109.94\n<none>     108.131 110.13\n+ LEVI  1  106.307 110.31\n+ GMI   1  106.687 110.69\n+ DEPI  1  107.143 111.14\n",
                    "name": "stdout"
                },
                {
                    "output_type": "stream",
                    "text": "Warning message:\n\u201cglm.fit: fitted probabilities numerically 0 or 1 occurred\u201d",
                    "name": "stderr"
                },
                {
                    "output_type": "stream",
                    "text": "\nStep:  AIC=100.62\nManipulater ~ DSRI\n\n",
                    "name": "stdout"
                },
                {
                    "output_type": "stream",
                    "text": "Warning message:\n\u201cglm.fit: fitted probabilities numerically 0 or 1 occurred\u201dWarning message:\n\u201cglm.fit: fitted probabilities numerically 0 or 1 occurred\u201dWarning message:\n\u201cglm.fit: fitted probabilities numerically 0 or 1 occurred\u201dWarning message:\n\u201cglm.fit: fitted probabilities numerically 0 or 1 occurred\u201dWarning message:\n\u201cglm.fit: fitted probabilities numerically 0 or 1 occurred\u201dWarning message:\n\u201cglm.fit: fitted probabilities numerically 0 or 1 occurred\u201dWarning message:\n\u201cglm.fit: fitted probabilities numerically 0 or 1 occurred\u201dWarning message:\n\u201cglm.fit: fitted probabilities numerically 0 or 1 occurred\u201d",
                    "name": "stderr"
                },
                {
                    "output_type": "stream",
                    "text": "       Df Deviance     AIC\n+ SGI   1   86.639  92.639\n+ ACCR  1   88.650  94.650\n+ GMI   1   92.231  98.231\n+ AQI   1   93.010  99.010\n<none>      96.616 100.616\n+ DEPI  1   95.610 101.610\n+ LEVI  1   95.998 101.998\n+ SGAI  1   96.290 102.290\n- DSRI  1  108.131 110.131\n",
                    "name": "stdout"
                },
                {
                    "output_type": "stream",
                    "text": "Warning message:\n\u201cglm.fit: fitted probabilities numerically 0 or 1 occurred\u201d",
                    "name": "stderr"
                },
                {
                    "output_type": "stream",
                    "text": "\nStep:  AIC=92.64\nManipulater ~ DSRI + SGI\n\n",
                    "name": "stdout"
                },
                {
                    "output_type": "stream",
                    "text": "Warning message:\n\u201cglm.fit: fitted probabilities numerically 0 or 1 occurred\u201dWarning message:\n\u201cglm.fit: fitted probabilities numerically 0 or 1 occurred\u201dWarning message:\n\u201cglm.fit: fitted probabilities numerically 0 or 1 occurred\u201dWarning message:\n\u201cglm.fit: fitted probabilities numerically 0 or 1 occurred\u201dWarning message:\n\u201cglm.fit: fitted probabilities numerically 0 or 1 occurred\u201dWarning message:\n\u201cglm.fit: fitted probabilities numerically 0 or 1 occurred\u201dWarning message:\n\u201cglm.fit: fitted probabilities numerically 0 or 1 occurred\u201dWarning message:\n\u201cglm.fit: fitted probabilities numerically 0 or 1 occurred\u201d",
                    "name": "stderr"
                },
                {
                    "output_type": "stream",
                    "text": "       Df Deviance     AIC\n+ AQI   1   76.300  84.300\n+ ACCR  1   80.099  88.099\n+ GMI   1   83.856  91.856\n<none>      86.639  92.639\n+ SGAI  1   86.554  94.554\n+ LEVI  1   86.622  94.622\n+ DEPI  1   86.628  94.628\n- SGI   1   96.616 100.616\n- DSRI  1  104.520 108.520\n",
                    "name": "stdout"
                },
                {
                    "output_type": "stream",
                    "text": "Warning message:\n\u201cglm.fit: fitted probabilities numerically 0 or 1 occurred\u201d",
                    "name": "stderr"
                },
                {
                    "output_type": "stream",
                    "text": "\nStep:  AIC=84.3\nManipulater ~ DSRI + SGI + AQI\n\n",
                    "name": "stdout"
                },
                {
                    "output_type": "stream",
                    "text": "Warning message:\n\u201cglm.fit: fitted probabilities numerically 0 or 1 occurred\u201dWarning message:\n\u201cglm.fit: fitted probabilities numerically 0 or 1 occurred\u201dWarning message:\n\u201cglm.fit: fitted probabilities numerically 0 or 1 occurred\u201dWarning message:\n\u201cglm.fit: fitted probabilities numerically 0 or 1 occurred\u201dWarning message:\n\u201cglm.fit: fitted probabilities numerically 0 or 1 occurred\u201dWarning message:\n\u201cglm.fit: fitted probabilities numerically 0 or 1 occurred\u201dWarning message:\n\u201cglm.fit: fitted probabilities numerically 0 or 1 occurred\u201dWarning message:\n\u201cglm.fit: fitted probabilities numerically 0 or 1 occurred\u201d",
                    "name": "stderr"
                },
                {
                    "output_type": "stream",
                    "text": "       Df Deviance     AIC\n+ ACCR  1   62.388  72.388\n+ GMI   1   70.397  80.397\n<none>      76.300  84.300\n+ LEVI  1   74.361  84.361\n+ DEPI  1   74.889  84.889\n+ SGAI  1   76.283  86.283\n- AQI   1   86.639  92.639\n- SGI   1   93.010  99.010\n- DSRI  1  101.403 107.403\n",
                    "name": "stdout"
                },
                {
                    "output_type": "stream",
                    "text": "Warning message:\n\u201cglm.fit: fitted probabilities numerically 0 or 1 occurred\u201d",
                    "name": "stderr"
                },
                {
                    "output_type": "stream",
                    "text": "\nStep:  AIC=72.39\nManipulater ~ DSRI + SGI + AQI + ACCR\n\n",
                    "name": "stdout"
                },
                {
                    "output_type": "stream",
                    "text": "Warning message:\n\u201cglm.fit: fitted probabilities numerically 0 or 1 occurred\u201dWarning message:\n\u201cglm.fit: fitted probabilities numerically 0 or 1 occurred\u201dWarning message:\n\u201cglm.fit: fitted probabilities numerically 0 or 1 occurred\u201dWarning message:\n\u201cglm.fit: fitted probabilities numerically 0 or 1 occurred\u201dWarning message:\n\u201cglm.fit: fitted probabilities numerically 0 or 1 occurred\u201dWarning message:\n\u201cglm.fit: fitted probabilities numerically 0 or 1 occurred\u201dWarning message:\n\u201cglm.fit: fitted probabilities numerically 0 or 1 occurred\u201dWarning message:\n\u201cglm.fit: fitted probabilities numerically 0 or 1 occurred\u201d",
                    "name": "stderr"
                },
                {
                    "output_type": "stream",
                    "text": "       Df Deviance     AIC\n+ GMI   1   54.075  66.075\n<none>      62.388  72.388\n+ DEPI  1   61.245  73.245\n+ SGAI  1   61.773  73.773\n+ LEVI  1   61.950  73.950\n- ACCR  1   76.300  84.300\n- AQI   1   80.099  88.099\n- SGI   1   80.343  88.343\n- DSRI  1   96.989 104.989\n",
                    "name": "stdout"
                },
                {
                    "output_type": "stream",
                    "text": "Warning message:\n\u201cglm.fit: fitted probabilities numerically 0 or 1 occurred\u201d",
                    "name": "stderr"
                },
                {
                    "output_type": "stream",
                    "text": "\nStep:  AIC=66.07\nManipulater ~ DSRI + SGI + AQI + ACCR + GMI\n\n",
                    "name": "stdout"
                },
                {
                    "output_type": "stream",
                    "text": "Warning message:\n\u201cglm.fit: fitted probabilities numerically 0 or 1 occurred\u201dWarning message:\n\u201cglm.fit: fitted probabilities numerically 0 or 1 occurred\u201dWarning message:\n\u201cglm.fit: fitted probabilities numerically 0 or 1 occurred\u201dWarning message:\n\u201cglm.fit: fitted probabilities numerically 0 or 1 occurred\u201dWarning message:\n\u201cglm.fit: fitted probabilities numerically 0 or 1 occurred\u201dWarning message:\n\u201cglm.fit: fitted probabilities numerically 0 or 1 occurred\u201dWarning message:\n\u201cglm.fit: fitted probabilities numerically 0 or 1 occurred\u201dWarning message:\n\u201cglm.fit: fitted probabilities numerically 0 or 1 occurred\u201d",
                    "name": "stderr"
                },
                {
                    "output_type": "stream",
                    "text": "       Df Deviance     AIC\n<none>      54.075  66.075\n+ DEPI  1   53.113  67.113\n+ SGAI  1   53.844  67.844\n+ LEVI  1   53.867  67.867\n- GMI   1   62.388  72.388\n- SGI   1   70.210  80.210\n- ACCR  1   70.397  80.397\n- AQI   1   76.696  86.696\n- DSRI  1   95.591 105.591\n",
                    "name": "stdout"
                },
                {
                    "output_type": "stream",
                    "text": "Warning message:\n\u201cglm.fit: fitted probabilities numerically 0 or 1 occurred\u201d",
                    "name": "stderr"
                },
                {
                    "output_type": "stream",
                    "text": "Start:  AIC=110.13\nManipulater ~ 1\n\n       Df Deviance    AIC\n+ ACCR  1   98.115 102.11\n+ DSRI  1   99.991 103.99\n+ SGI   1  103.607 107.61\n+ AQI   1  103.718 107.72\n+ SGAI  1  104.229 108.23\n+ GMI   1  105.302 109.30\n<none>     108.131 110.13\n+ LEVI  1  106.611 110.61\n+ DEPI  1  107.758 111.76\n\nStep:  AIC=102.11\nManipulater ~ ACCR\n\n       Df Deviance     AIC\n+ DSRI  1   85.672  91.672\n+ SGAI  1   89.634  95.634\n+ AQI   1   91.584  97.584\n+ GMI   1   95.298 101.298\n+ SGI   1   95.400 101.400\n+ DEPI  1   95.682 101.682\n<none>      98.115 102.115\n+ LEVI  1   96.373 102.373\n- ACCR  1  108.131 110.131\n\nStep:  AIC=91.67\nManipulater ~ ACCR + DSRI\n\n",
                    "name": "stdout"
                },
                {
                    "output_type": "stream",
                    "text": "Warning message:\n\u201cglm.fit: fitted probabilities numerically 0 or 1 occurred\u201d",
                    "name": "stderr"
                },
                {
                    "output_type": "stream",
                    "text": "       Df Deviance     AIC\n+ AQI   1   75.686  83.686\n+ SGI   1   78.816  86.816\n+ GMI   1   78.945  86.945\n<none>      85.672  91.672\n+ DEPI  1   84.258  92.258\n+ LEVI  1   84.750  92.750\n+ SGAI  1   85.281  93.281\n- DSRI  1   98.115 102.115\n- ACCR  1   99.991 103.991\n\nStep:  AIC=83.69\nManipulater ~ ACCR + DSRI + AQI\n\n",
                    "name": "stdout"
                },
                {
                    "output_type": "stream",
                    "text": "Warning message:\n\u201cglm.fit: fitted probabilities numerically 0 or 1 occurred\u201dWarning message:\n\u201cglm.fit: fitted probabilities numerically 0 or 1 occurred\u201d",
                    "name": "stderr"
                },
                {
                    "output_type": "stream",
                    "text": "       Df Deviance     AIC\n+ GMI   1   59.578  69.578\n+ SGI   1   60.543  70.543\n<none>      75.686  83.686\n+ DEPI  1   74.859  84.859\n+ LEVI  1   75.657  85.657\n+ SGAI  1   75.670  85.670\n- AQI   1   85.672  91.672\n- DSRI  1   91.584  97.584\n- ACCR  1   95.107 101.107\n",
                    "name": "stdout"
                },
                {
                    "output_type": "stream",
                    "text": "Warning message:\n\u201cglm.fit: fitted probabilities numerically 0 or 1 occurred\u201d",
                    "name": "stderr"
                },
                {
                    "output_type": "stream",
                    "text": "\nStep:  AIC=69.58\nManipulater ~ ACCR + DSRI + AQI + GMI\n\n",
                    "name": "stdout"
                },
                {
                    "output_type": "stream",
                    "text": "Warning message:\n\u201cglm.fit: fitted probabilities numerically 0 or 1 occurred\u201dWarning message:\n\u201cglm.fit: fitted probabilities numerically 0 or 1 occurred\u201dWarning message:\n\u201cglm.fit: fitted probabilities numerically 0 or 1 occurred\u201dWarning message:\n\u201cglm.fit: fitted probabilities numerically 0 or 1 occurred\u201dWarning message:\n\u201cglm.fit: fitted probabilities numerically 0 or 1 occurred\u201dWarning message:\n\u201cglm.fit: fitted probabilities numerically 0 or 1 occurred\u201dWarning message:\n\u201cglm.fit: fitted probabilities numerically 0 or 1 occurred\u201dWarning message:\n\u201cglm.fit: fitted probabilities numerically 0 or 1 occurred\u201d",
                    "name": "stderr"
                },
                {
                    "output_type": "stream",
                    "text": "       Df Deviance    AIC\n+ SGI   1   45.588 57.588\n+ DEPI  1   56.466 68.466\n<none>      59.578 69.578\n+ SGAI  1   58.821 70.821\n+ LEVI  1   59.552 71.552\n- GMI   1   75.686 83.686\n- AQI   1   78.945 86.945\n- DSRI  1   87.615 95.615\n- ACCR  1   87.807 95.807\n",
                    "name": "stdout"
                },
                {
                    "output_type": "stream",
                    "text": "Warning message:\n\u201cglm.fit: fitted probabilities numerically 0 or 1 occurred\u201d",
                    "name": "stderr"
                },
                {
                    "output_type": "stream",
                    "text": "\nStep:  AIC=57.59\nManipulater ~ ACCR + DSRI + AQI + GMI + SGI\n\n",
                    "name": "stdout"
                },
                {
                    "output_type": "stream",
                    "text": "Warning message:\n\u201cglm.fit: fitted probabilities numerically 0 or 1 occurred\u201dWarning message:\n\u201cglm.fit: fitted probabilities numerically 0 or 1 occurred\u201dWarning message:\n\u201cglm.fit: fitted probabilities numerically 0 or 1 occurred\u201dWarning message:\n\u201cglm.fit: fitted probabilities numerically 0 or 1 occurred\u201dWarning message:\n\u201cglm.fit: fitted probabilities numerically 0 or 1 occurred\u201dWarning message:\n\u201cglm.fit: fitted probabilities numerically 0 or 1 occurred\u201dWarning message:\n\u201cglm.fit: fitted probabilities numerically 0 or 1 occurred\u201dWarning message:\n\u201cglm.fit: fitted probabilities numerically 0 or 1 occurred\u201dWarning message:\n\u201cglm.fit: fitted probabilities numerically 0 or 1 occurred\u201d",
                    "name": "stderr"
                },
                {
                    "output_type": "stream",
                    "text": "       Df Deviance    AIC\n<none>      45.588 57.588\n+ SGAI  1   44.949 58.949\n+ LEVI  1   45.331 59.331\n+ DEPI  1   45.441 59.441\n- SGI   1   59.578 69.578\n- GMI   1   60.543 70.543\n- ACCR  1   72.028 82.028\n- AQI   1   74.054 84.054\n- DSRI  1   84.331 94.331\n",
                    "name": "stdout"
                },
                {
                    "output_type": "stream",
                    "text": "Warning message:\n\u201cglm.fit: fitted probabilities numerically 0 or 1 occurred\u201d",
                    "name": "stderr"
                },
                {
                    "output_type": "stream",
                    "text": "Start:  AIC=110.13\nManipulater ~ 1\n\n",
                    "name": "stdout"
                },
                {
                    "output_type": "stream",
                    "text": "Warning message:\n\u201cglm.fit: fitted probabilities numerically 0 or 1 occurred\u201d",
                    "name": "stderr"
                },
                {
                    "output_type": "stream",
                    "text": "       Df Deviance    AIC\n+ DSRI  1   97.349 101.35\n+ SGI   1  103.277 107.28\n+ ACCR  1  103.329 107.33\n+ SGAI  1  103.795 107.80\n+ AQI   1  105.128 109.13\n<none>     108.131 110.13\n+ LEVI  1  106.859 110.86\n+ DEPI  1  106.949 110.95\n+ GMI   1  107.003 111.00\n",
                    "name": "stdout"
                },
                {
                    "output_type": "stream",
                    "text": "Warning message:\n\u201cglm.fit: fitted probabilities numerically 0 or 1 occurred\u201d",
                    "name": "stderr"
                },
                {
                    "output_type": "stream",
                    "text": "\nStep:  AIC=101.35\nManipulater ~ DSRI\n\n",
                    "name": "stdout"
                },
                {
                    "output_type": "stream",
                    "text": "Warning message:\n\u201cglm.fit: fitted probabilities numerically 0 or 1 occurred\u201dWarning message:\n\u201cglm.fit: fitted probabilities numerically 0 or 1 occurred\u201dWarning message:\n\u201cglm.fit: fitted probabilities numerically 0 or 1 occurred\u201dWarning message:\n\u201cglm.fit: fitted probabilities numerically 0 or 1 occurred\u201dWarning message:\n\u201cglm.fit: fitted probabilities numerically 0 or 1 occurred\u201dWarning message:\n\u201cglm.fit: fitted probabilities numerically 0 or 1 occurred\u201dWarning message:\n\u201cglm.fit: fitted probabilities numerically 0 or 1 occurred\u201dWarning message:\n\u201cglm.fit: fitted probabilities numerically 0 or 1 occurred\u201d",
                    "name": "stderr"
                },
                {
                    "output_type": "stream",
                    "text": "       Df Deviance     AIC\n+ SGI   1   83.560  89.560\n+ ACCR  1   87.979  93.979\n+ AQI   1   92.985  98.985\n+ GMI   1   94.408 100.408\n<none>      97.349 101.349\n+ SGAI  1   95.554 101.554\n+ DEPI  1   96.713 102.713\n+ LEVI  1   97.001 103.001\n- DSRI  1  108.131 110.131\n",
                    "name": "stdout"
                },
                {
                    "output_type": "stream",
                    "text": "Warning message:\n\u201cglm.fit: fitted probabilities numerically 0 or 1 occurred\u201d",
                    "name": "stderr"
                },
                {
                    "output_type": "stream",
                    "text": "\nStep:  AIC=89.56\nManipulater ~ DSRI + SGI\n\n",
                    "name": "stdout"
                },
                {
                    "output_type": "stream",
                    "text": "Warning message:\n\u201cglm.fit: fitted probabilities numerically 0 or 1 occurred\u201dWarning message:\n\u201cglm.fit: fitted probabilities numerically 0 or 1 occurred\u201dWarning message:\n\u201cglm.fit: fitted probabilities numerically 0 or 1 occurred\u201dWarning message:\n\u201cglm.fit: fitted probabilities numerically 0 or 1 occurred\u201dWarning message:\n\u201cglm.fit: fitted probabilities numerically 0 or 1 occurred\u201dWarning message:\n\u201cglm.fit: fitted probabilities numerically 0 or 1 occurred\u201dWarning message:\n\u201cglm.fit: fitted probabilities numerically 0 or 1 occurred\u201dWarning message:\n\u201cglm.fit: fitted probabilities numerically 0 or 1 occurred\u201d",
                    "name": "stderr"
                },
                {
                    "output_type": "stream",
                    "text": "       Df Deviance     AIC\n+ AQI   1   68.115  76.115\n+ ACCR  1   75.859  83.859\n+ SGAI  1   80.982  88.982\n<none>      83.560  89.560\n+ GMI   1   82.284  90.284\n+ DEPI  1   83.508  91.508\n+ LEVI  1   83.559  91.559\n- SGI   1   97.349 101.349\n- DSRI  1  103.277 107.277\n",
                    "name": "stdout"
                },
                {
                    "output_type": "stream",
                    "text": "Warning message:\n\u201cglm.fit: fitted probabilities numerically 0 or 1 occurred\u201d",
                    "name": "stderr"
                },
                {
                    "output_type": "stream",
                    "text": "\nStep:  AIC=76.12\nManipulater ~ DSRI + SGI + AQI\n\n",
                    "name": "stdout"
                },
                {
                    "output_type": "stream",
                    "text": "Warning message:\n\u201cglm.fit: fitted probabilities numerically 0 or 1 occurred\u201dWarning message:\n\u201cglm.fit: fitted probabilities numerically 0 or 1 occurred\u201dWarning message:\n\u201cglm.fit: fitted probabilities numerically 0 or 1 occurred\u201dWarning message:\n\u201cglm.fit: fitted probabilities numerically 0 or 1 occurred\u201dWarning message:\n\u201cglm.fit: fitted probabilities numerically 0 or 1 occurred\u201dWarning message:\n\u201cglm.fit: fitted probabilities numerically 0 or 1 occurred\u201dWarning message:\n\u201cglm.fit: fitted probabilities numerically 0 or 1 occurred\u201dWarning message:\n\u201cglm.fit: fitted probabilities numerically 0 or 1 occurred\u201d",
                    "name": "stderr"
                },
                {
                    "output_type": "stream",
                    "text": "       Df Deviance     AIC\n+ ACCR  1   48.913  58.913\n+ DEPI  1   63.214  73.214\n+ LEVI  1   65.112  75.112\n<none>      68.115  76.115\n+ GMI   1   66.189  76.189\n+ SGAI  1   67.150  77.150\n- AQI   1   83.560  89.560\n- SGI   1   92.985  98.985\n- DSRI  1   98.471 104.471\n",
                    "name": "stdout"
                },
                {
                    "output_type": "stream",
                    "text": "Warning message:\n\u201cglm.fit: fitted probabilities numerically 0 or 1 occurred\u201d",
                    "name": "stderr"
                },
                {
                    "output_type": "stream",
                    "text": "\nStep:  AIC=58.91\nManipulater ~ DSRI + SGI + AQI + ACCR\n\n",
                    "name": "stdout"
                },
                {
                    "output_type": "stream",
                    "text": "Warning message:\n\u201cglm.fit: fitted probabilities numerically 0 or 1 occurred\u201dWarning message:\n\u201cglm.fit: fitted probabilities numerically 0 or 1 occurred\u201dWarning message:\n\u201cglm.fit: fitted probabilities numerically 0 or 1 occurred\u201dWarning message:\n\u201cglm.fit: fitted probabilities numerically 0 or 1 occurred\u201dWarning message:\n\u201cglm.fit: fitted probabilities numerically 0 or 1 occurred\u201dWarning message:\n\u201cglm.fit: fitted probabilities numerically 0 or 1 occurred\u201dWarning message:\n\u201cglm.fit: fitted probabilities numerically 0 or 1 occurred\u201dWarning message:\n\u201cglm.fit: fitted probabilities numerically 0 or 1 occurred\u201d",
                    "name": "stderr"
                },
                {
                    "output_type": "stream",
                    "text": "       Df Deviance     AIC\n+ GMI   1   43.410  55.410\n+ DEPI  1   45.290  57.290\n<none>      48.913  58.913\n+ LEVI  1   48.206  60.206\n+ SGAI  1   48.866  60.866\n- ACCR  1   68.115  76.115\n- AQI   1   75.859  83.859\n- SGI   1   77.723  85.723\n- DSRI  1   92.155 100.155\n",
                    "name": "stdout"
                },
                {
                    "output_type": "stream",
                    "text": "Warning message:\n\u201cglm.fit: fitted probabilities numerically 0 or 1 occurred\u201d",
                    "name": "stderr"
                },
                {
                    "output_type": "stream",
                    "text": "\nStep:  AIC=55.41\nManipulater ~ DSRI + SGI + AQI + ACCR + GMI\n\n",
                    "name": "stdout"
                },
                {
                    "output_type": "stream",
                    "text": "Warning message:\n\u201cglm.fit: fitted probabilities numerically 0 or 1 occurred\u201dWarning message:\n\u201cglm.fit: fitted probabilities numerically 0 or 1 occurred\u201dWarning message:\n\u201cglm.fit: fitted probabilities numerically 0 or 1 occurred\u201dWarning message:\n\u201cglm.fit: fitted probabilities numerically 0 or 1 occurred\u201dWarning message:\n\u201cglm.fit: fitted probabilities numerically 0 or 1 occurred\u201dWarning message:\n\u201cglm.fit: fitted probabilities numerically 0 or 1 occurred\u201dWarning message:\n\u201cglm.fit: fitted probabilities numerically 0 or 1 occurred\u201dWarning message:\n\u201cglm.fit: fitted probabilities numerically 0 or 1 occurred\u201d",
                    "name": "stderr"
                },
                {
                    "output_type": "stream",
                    "text": "       Df Deviance     AIC\n+ DEPI  1   40.338  54.338\n<none>      43.410  55.410\n+ LEVI  1   42.725  56.725\n+ SGAI  1   43.326  57.326\n- GMI   1   48.913  58.913\n- ACCR  1   66.189  76.189\n- SGI   1   69.779  79.779\n- AQI   1   74.387  84.387\n- DSRI  1   91.403 101.403\n",
                    "name": "stdout"
                },
                {
                    "output_type": "stream",
                    "text": "Warning message:\n\u201cglm.fit: fitted probabilities numerically 0 or 1 occurred\u201d",
                    "name": "stderr"
                },
                {
                    "output_type": "stream",
                    "text": "\nStep:  AIC=54.34\nManipulater ~ DSRI + SGI + AQI + ACCR + GMI + DEPI\n\n",
                    "name": "stdout"
                },
                {
                    "output_type": "stream",
                    "text": "Warning message:\n\u201cglm.fit: fitted probabilities numerically 0 or 1 occurred\u201dWarning message:\n\u201cglm.fit: fitted probabilities numerically 0 or 1 occurred\u201dWarning message:\n\u201cglm.fit: fitted probabilities numerically 0 or 1 occurred\u201dWarning message:\n\u201cglm.fit: fitted probabilities numerically 0 or 1 occurred\u201dWarning message:\n\u201cglm.fit: fitted probabilities numerically 0 or 1 occurred\u201dWarning message:\n\u201cglm.fit: fitted probabilities numerically 0 or 1 occurred\u201dWarning message:\n\u201cglm.fit: fitted probabilities numerically 0 or 1 occurred\u201dWarning message:\n\u201cglm.fit: fitted probabilities numerically 0 or 1 occurred\u201d",
                    "name": "stderr"
                },
                {
                    "output_type": "stream",
                    "text": "       Df Deviance     AIC\n<none>      40.338  54.338\n+ LEVI  1   38.502  54.502\n- DEPI  1   43.410  55.410\n+ SGAI  1   39.979  55.979\n- GMI   1   45.290  57.290\n- ACCR  1   61.697  73.697\n- SGI   1   68.860  80.860\n- AQI   1   74.241  86.241\n- DSRI  1   90.840 102.840\n",
                    "name": "stdout"
                },
                {
                    "output_type": "stream",
                    "text": "Warning message:\n\u201cglm.fit: fitted probabilities numerically 0 or 1 occurred\u201d",
                    "name": "stderr"
                },
                {
                    "output_type": "stream",
                    "text": "Start:  AIC=110.13\nManipulater ~ 1\n\n       Df Deviance    AIC\n+ DSRI  1   100.02 104.02\n+ SGI   1   103.39 107.39\n+ ACCR  1   103.53 107.53\n+ SGAI  1   105.37 109.37\n+ AQI   1   106.08 110.08\n<none>      108.13 110.13\n+ LEVI  1   106.44 110.44\n+ GMI   1   106.91 110.91\n+ DEPI  1   107.27 111.27\n\nStep:  AIC=104.02\nManipulater ~ DSRI\n\n       Df Deviance     AIC\n+ SGI   1   87.874  93.874\n+ ACCR  1   91.615  97.615\n+ AQI   1   97.066 103.066\n+ GMI   1   97.669 103.669\n<none>     100.018 104.018\n+ LEVI  1   99.484 105.484\n+ DEPI  1   99.494 105.494\n+ SGAI  1   99.748 105.748\n- DSRI  1  108.131 110.131\n\nStep:  AIC=93.87\nManipulater ~ DSRI + SGI\n\n",
                    "name": "stdout"
                },
                {
                    "output_type": "stream",
                    "text": "Warning message:\n\u201cglm.fit: fitted probabilities numerically 0 or 1 occurred\u201dWarning message:\n\u201cglm.fit: fitted probabilities numerically 0 or 1 occurred\u201dWarning message:\n\u201cglm.fit: fitted probabilities numerically 0 or 1 occurred\u201dWarning message:\n\u201cglm.fit: fitted probabilities numerically 0 or 1 occurred\u201d",
                    "name": "stderr"
                },
                {
                    "output_type": "stream",
                    "text": "       Df Deviance     AIC\n+ AQI   1   77.662  85.662\n+ ACCR  1   80.274  88.274\n<none>      87.874  93.874\n+ SGAI  1   87.096  95.096\n+ GMI   1   87.097  95.097\n+ DEPI  1   87.469  95.469\n+ LEVI  1   87.820  95.820\n- SGI   1  100.018 104.018\n- DSRI  1  103.389 107.389\n",
                    "name": "stdout"
                },
                {
                    "output_type": "stream",
                    "text": "Warning message:\n\u201cglm.fit: fitted probabilities numerically 0 or 1 occurred\u201d",
                    "name": "stderr"
                },
                {
                    "output_type": "stream",
                    "text": "\nStep:  AIC=85.66\nManipulater ~ DSRI + SGI + AQI\n\n",
                    "name": "stdout"
                },
                {
                    "output_type": "stream",
                    "text": "Warning message:\n\u201cglm.fit: fitted probabilities numerically 0 or 1 occurred\u201dWarning message:\n\u201cglm.fit: fitted probabilities numerically 0 or 1 occurred\u201dWarning message:\n\u201cglm.fit: fitted probabilities numerically 0 or 1 occurred\u201dWarning message:\n\u201cglm.fit: fitted probabilities numerically 0 or 1 occurred\u201dWarning message:\n\u201cglm.fit: fitted probabilities numerically 0 or 1 occurred\u201dWarning message:\n\u201cglm.fit: fitted probabilities numerically 0 or 1 occurred\u201d",
                    "name": "stderr"
                },
                {
                    "output_type": "stream",
                    "text": "       Df Deviance     AIC\n+ ACCR  1   61.644  71.644\n+ DEPI  1   71.081  81.081\n<none>      77.662  85.662\n+ LEVI  1   76.481  86.481\n+ GMI   1   76.689  86.689\n+ SGAI  1   77.101  87.101\n- AQI   1   87.874  93.874\n- SGI   1   97.066 103.066\n- DSRI  1  100.104 106.104\n",
                    "name": "stdout"
                },
                {
                    "output_type": "stream",
                    "text": "Warning message:\n\u201cglm.fit: fitted probabilities numerically 0 or 1 occurred\u201d",
                    "name": "stderr"
                },
                {
                    "output_type": "stream",
                    "text": "\nStep:  AIC=71.64\nManipulater ~ DSRI + SGI + AQI + ACCR\n\n",
                    "name": "stdout"
                },
                {
                    "output_type": "stream",
                    "text": "Warning message:\n\u201cglm.fit: fitted probabilities numerically 0 or 1 occurred\u201dWarning message:\n\u201cglm.fit: fitted probabilities numerically 0 or 1 occurred\u201dWarning message:\n\u201cglm.fit: fitted probabilities numerically 0 or 1 occurred\u201dWarning message:\n\u201cglm.fit: fitted probabilities numerically 0 or 1 occurred\u201dWarning message:\n\u201cglm.fit: fitted probabilities numerically 0 or 1 occurred\u201dWarning message:\n\u201cglm.fit: fitted probabilities numerically 0 or 1 occurred\u201dWarning message:\n\u201cglm.fit: fitted probabilities numerically 0 or 1 occurred\u201d",
                    "name": "stderr"
                },
                {
                    "output_type": "stream",
                    "text": "       Df Deviance     AIC\n+ DEPI  1   57.003  69.003\n+ GMI   1   57.625  69.625\n<none>      61.644  71.644\n+ LEVI  1   61.433  73.433\n+ SGAI  1   61.642  73.642\n- ACCR  1   77.662  85.662\n- AQI   1   80.274  88.274\n- SGI   1   84.426  92.426\n- DSRI  1   94.349 102.349\n",
                    "name": "stdout"
                },
                {
                    "output_type": "stream",
                    "text": "Warning message:\n\u201cglm.fit: fitted probabilities numerically 0 or 1 occurred\u201d",
                    "name": "stderr"
                },
                {
                    "output_type": "stream",
                    "text": "\nStep:  AIC=69\nManipulater ~ DSRI + SGI + AQI + ACCR + DEPI\n\n",
                    "name": "stdout"
                },
                {
                    "output_type": "stream",
                    "text": "Warning message:\n\u201cglm.fit: fitted probabilities numerically 0 or 1 occurred\u201dWarning message:\n\u201cglm.fit: fitted probabilities numerically 0 or 1 occurred\u201dWarning message:\n\u201cglm.fit: fitted probabilities numerically 0 or 1 occurred\u201dWarning message:\n\u201cglm.fit: fitted probabilities numerically 0 or 1 occurred\u201dWarning message:\n\u201cglm.fit: fitted probabilities numerically 0 or 1 occurred\u201dWarning message:\n\u201cglm.fit: fitted probabilities numerically 0 or 1 occurred\u201dWarning message:\n\u201cglm.fit: fitted probabilities numerically 0 or 1 occurred\u201d",
                    "name": "stderr"
                },
                {
                    "output_type": "stream",
                    "text": "       Df Deviance     AIC\n+ GMI   1   53.395  67.395\n<none>      57.003  69.003\n+ LEVI  1   56.552  70.552\n+ SGAI  1   56.945  70.945\n- DEPI  1   61.644  71.644\n- ACCR  1   71.081  81.081\n- AQI   1   80.272  90.272\n- SGI   1   83.477  93.477\n- DSRI  1   94.145 104.145\n",
                    "name": "stdout"
                },
                {
                    "output_type": "stream",
                    "text": "Warning message:\n\u201cglm.fit: fitted probabilities numerically 0 or 1 occurred\u201d",
                    "name": "stderr"
                },
                {
                    "output_type": "stream",
                    "text": "\nStep:  AIC=67.39\nManipulater ~ DSRI + SGI + AQI + ACCR + DEPI + GMI\n\n",
                    "name": "stdout"
                },
                {
                    "output_type": "stream",
                    "text": "Warning message:\n\u201cglm.fit: fitted probabilities numerically 0 or 1 occurred\u201dWarning message:\n\u201cglm.fit: fitted probabilities numerically 0 or 1 occurred\u201dWarning message:\n\u201cglm.fit: fitted probabilities numerically 0 or 1 occurred\u201dWarning message:\n\u201cglm.fit: fitted probabilities numerically 0 or 1 occurred\u201dWarning message:\n\u201cglm.fit: fitted probabilities numerically 0 or 1 occurred\u201dWarning message:\n\u201cglm.fit: fitted probabilities numerically 0 or 1 occurred\u201dWarning message:\n\u201cglm.fit: fitted probabilities numerically 0 or 1 occurred\u201dWarning message:\n\u201cglm.fit: fitted probabilities numerically 0 or 1 occurred\u201d",
                    "name": "stderr"
                },
                {
                    "output_type": "stream",
                    "text": "       Df Deviance     AIC\n<none>      53.395  67.395\n+ SGAI  1   52.317  68.317\n+ LEVI  1   52.992  68.992\n- GMI   1   57.003  69.003\n- DEPI  1   57.625  69.625\n- ACCR  1   70.683  82.683\n- SGI   1   77.945  89.945\n- AQI   1   78.983  90.983\n- DSRI  1   93.178 105.178\n",
                    "name": "stdout"
                },
                {
                    "output_type": "stream",
                    "text": "Warning message:\n\u201cglm.fit: fitted probabilities numerically 0 or 1 occurred\u201d",
                    "name": "stderr"
                },
                {
                    "output_type": "stream",
                    "text": "Start:  AIC=110.13\nManipulater ~ 1\n\n",
                    "name": "stdout"
                },
                {
                    "output_type": "stream",
                    "text": "Warning message:\n\u201cglm.fit: fitted probabilities numerically 0 or 1 occurred\u201d",
                    "name": "stderr"
                },
                {
                    "output_type": "stream",
                    "text": "       Df Deviance    AIC\n+ DSRI  1    95.48  99.48\n+ ACCR  1   102.23 106.23\n+ SGAI  1   104.78 108.78\n+ GMI   1   105.89 109.89\n+ AQI   1   106.08 110.08\n<none>      108.13 110.13\n+ LEVI  1   107.10 111.10\n+ DEPI  1   107.47 111.47\n+ SGI   1   107.55 111.55\n",
                    "name": "stdout"
                },
                {
                    "output_type": "stream",
                    "text": "Warning message:\n\u201cglm.fit: fitted probabilities numerically 0 or 1 occurred\u201d",
                    "name": "stderr"
                },
                {
                    "output_type": "stream",
                    "text": "\nStep:  AIC=99.48\nManipulater ~ DSRI\n\n",
                    "name": "stdout"
                },
                {
                    "output_type": "stream",
                    "text": "Warning message:\n\u201cglm.fit: fitted probabilities numerically 0 or 1 occurred\u201dWarning message:\n\u201cglm.fit: fitted probabilities numerically 0 or 1 occurred\u201dWarning message:\n\u201cglm.fit: fitted probabilities numerically 0 or 1 occurred\u201dWarning message:\n\u201cglm.fit: fitted probabilities numerically 0 or 1 occurred\u201dWarning message:\n\u201cglm.fit: fitted probabilities numerically 0 or 1 occurred\u201dWarning message:\n\u201cglm.fit: fitted probabilities numerically 0 or 1 occurred\u201dWarning message:\n\u201cglm.fit: fitted probabilities numerically 0 or 1 occurred\u201dWarning message:\n\u201cglm.fit: fitted probabilities numerically 0 or 1 occurred\u201d",
                    "name": "stderr"
                },
                {
                    "output_type": "stream",
                    "text": "       Df Deviance     AIC\n+ ACCR  1   84.976  90.976\n+ GMI   1   91.448  97.448\n+ AQI   1   92.043  98.043\n+ SGI   1   92.077  98.077\n<none>      95.480  99.480\n+ SGAI  1   94.735 100.735\n+ DEPI  1   94.910 100.910\n+ LEVI  1   95.202 101.202\n- DSRI  1  108.131 110.131\n",
                    "name": "stdout"
                },
                {
                    "output_type": "stream",
                    "text": "Warning message:\n\u201cglm.fit: fitted probabilities numerically 0 or 1 occurred\u201d",
                    "name": "stderr"
                },
                {
                    "output_type": "stream",
                    "text": "\nStep:  AIC=90.98\nManipulater ~ DSRI + ACCR\n\n",
                    "name": "stdout"
                },
                {
                    "output_type": "stream",
                    "text": "Warning message:\n\u201cglm.fit: fitted probabilities numerically 0 or 1 occurred\u201dWarning message:\n\u201cglm.fit: fitted probabilities numerically 0 or 1 occurred\u201dWarning message:\n\u201cglm.fit: fitted probabilities numerically 0 or 1 occurred\u201dWarning message:\n\u201cglm.fit: fitted probabilities numerically 0 or 1 occurred\u201dWarning message:\n\u201cglm.fit: fitted probabilities numerically 0 or 1 occurred\u201dWarning message:\n\u201cglm.fit: fitted probabilities numerically 0 or 1 occurred\u201dWarning message:\n\u201cglm.fit: fitted probabilities numerically 0 or 1 occurred\u201dWarning message:\n\u201cglm.fit: fitted probabilities numerically 0 or 1 occurred\u201d",
                    "name": "stderr"
                },
                {
                    "output_type": "stream",
                    "text": "       Df Deviance     AIC\n+ AQI   1   76.060  84.060\n+ GMI   1   80.039  88.039\n+ SGI   1   82.140  90.140\n<none>      84.976  90.976\n+ DEPI  1   83.542  91.542\n+ LEVI  1   84.217  92.217\n+ SGAI  1   84.946  92.946\n- ACCR  1   95.480  99.480\n- DSRI  1  102.231 106.231\n",
                    "name": "stdout"
                },
                {
                    "output_type": "stream",
                    "text": "Warning message:\n\u201cglm.fit: fitted probabilities numerically 0 or 1 occurred\u201d",
                    "name": "stderr"
                },
                {
                    "output_type": "stream",
                    "text": "\nStep:  AIC=84.06\nManipulater ~ DSRI + ACCR + AQI\n\n",
                    "name": "stdout"
                },
                {
                    "output_type": "stream",
                    "text": "Warning message:\n\u201cglm.fit: fitted probabilities numerically 0 or 1 occurred\u201dWarning message:\n\u201cglm.fit: fitted probabilities numerically 0 or 1 occurred\u201dWarning message:\n\u201cglm.fit: fitted probabilities numerically 0 or 1 occurred\u201dWarning message:\n\u201cglm.fit: fitted probabilities numerically 0 or 1 occurred\u201dWarning message:\n\u201cglm.fit: fitted probabilities numerically 0 or 1 occurred\u201dWarning message:\n\u201cglm.fit: fitted probabilities numerically 0 or 1 occurred\u201dWarning message:\n\u201cglm.fit: fitted probabilities numerically 0 or 1 occurred\u201dWarning message:\n\u201cglm.fit: fitted probabilities numerically 0 or 1 occurred\u201d",
                    "name": "stderr"
                },
                {
                    "output_type": "stream",
                    "text": "       Df Deviance     AIC\n+ GMI   1   65.489  75.489\n+ SGI   1   71.220  81.220\n<none>      76.060  84.060\n+ DEPI  1   75.246  85.246\n+ SGAI  1   75.894  85.894\n+ LEVI  1   76.008  86.008\n- AQI   1   84.976  90.976\n- ACCR  1   92.043  98.043\n- DSRI  1   97.959 103.959\n",
                    "name": "stdout"
                },
                {
                    "output_type": "stream",
                    "text": "Warning message:\n\u201cglm.fit: fitted probabilities numerically 0 or 1 occurred\u201d",
                    "name": "stderr"
                },
                {
                    "output_type": "stream",
                    "text": "\nStep:  AIC=75.49\nManipulater ~ DSRI + ACCR + AQI + GMI\n\n",
                    "name": "stdout"
                },
                {
                    "output_type": "stream",
                    "text": "Warning message:\n\u201cglm.fit: fitted probabilities numerically 0 or 1 occurred\u201dWarning message:\n\u201cglm.fit: fitted probabilities numerically 0 or 1 occurred\u201dWarning message:\n\u201cglm.fit: fitted probabilities numerically 0 or 1 occurred\u201dWarning message:\n\u201cglm.fit: fitted probabilities numerically 0 or 1 occurred\u201dWarning message:\n\u201cglm.fit: fitted probabilities numerically 0 or 1 occurred\u201dWarning message:\n\u201cglm.fit: fitted probabilities numerically 0 or 1 occurred\u201dWarning message:\n\u201cglm.fit: fitted probabilities numerically 0 or 1 occurred\u201dWarning message:\n\u201cglm.fit: fitted probabilities numerically 0 or 1 occurred\u201d",
                    "name": "stderr"
                },
                {
                    "output_type": "stream",
                    "text": "       Df Deviance     AIC\n+ SGI   1   56.738  68.738\n+ DEPI  1   62.894  74.894\n<none>      65.489  75.489\n+ LEVI  1   65.340  77.340\n+ SGAI  1   65.378  77.378\n- GMI   1   76.060  84.060\n- AQI   1   80.039  88.039\n- ACCR  1   86.582  94.582\n- DSRI  1   95.029 103.029\n",
                    "name": "stdout"
                },
                {
                    "output_type": "stream",
                    "text": "Warning message:\n\u201cglm.fit: fitted probabilities numerically 0 or 1 occurred\u201d",
                    "name": "stderr"
                },
                {
                    "output_type": "stream",
                    "text": "\nStep:  AIC=68.74\nManipulater ~ DSRI + ACCR + AQI + GMI + SGI\n\n",
                    "name": "stdout"
                },
                {
                    "output_type": "stream",
                    "text": "Warning message:\n\u201cglm.fit: fitted probabilities numerically 0 or 1 occurred\u201dWarning message:\n\u201cglm.fit: fitted probabilities numerically 0 or 1 occurred\u201dWarning message:\n\u201cglm.fit: fitted probabilities numerically 0 or 1 occurred\u201dWarning message:\n\u201cglm.fit: fitted probabilities numerically 0 or 1 occurred\u201dWarning message:\n\u201cglm.fit: fitted probabilities numerically 0 or 1 occurred\u201dWarning message:\n\u201cglm.fit: fitted probabilities numerically 0 or 1 occurred\u201dWarning message:\n\u201cglm.fit: fitted probabilities numerically 0 or 1 occurred\u201dWarning message:\n\u201cglm.fit: fitted probabilities numerically 0 or 1 occurred\u201d",
                    "name": "stderr"
                },
                {
                    "output_type": "stream",
                    "text": "       Df Deviance     AIC\n<none>      56.738  68.738\n+ LEVI  1   56.056  70.056\n+ DEPI  1   56.381  70.381\n+ SGAI  1   56.495  70.495\n- SGI   1   65.489  75.489\n- GMI   1   71.220  81.220\n- ACCR  1   75.598  85.598\n- AQI   1   76.228  86.228\n- DSRI  1   93.262 103.262\n",
                    "name": "stdout"
                },
                {
                    "output_type": "stream",
                    "text": "Warning message:\n\u201cglm.fit: fitted probabilities numerically 0 or 1 occurred\u201d",
                    "name": "stderr"
                },
                {
                    "output_type": "stream",
                    "text": "Start:  AIC=110.13\nManipulater ~ 1\n\n",
                    "name": "stdout"
                },
                {
                    "output_type": "stream",
                    "text": "Warning message:\n\u201cglm.fit: fitted probabilities numerically 0 or 1 occurred\u201d",
                    "name": "stderr"
                },
                {
                    "output_type": "stream",
                    "text": "       Df Deviance    AIC\n+ DSRI  1   97.306 101.31\n+ SGI   1  103.766 107.77\n+ SGAI  1  104.935 108.94\n+ ACCR  1  105.326 109.33\n<none>     108.131 110.13\n+ LEVI  1  106.223 110.22\n+ AQI   1  106.227 110.23\n+ GMI   1  106.777 110.78\n+ DEPI  1  108.064 112.06\n",
                    "name": "stdout"
                },
                {
                    "output_type": "stream",
                    "text": "Warning message:\n\u201cglm.fit: fitted probabilities numerically 0 or 1 occurred\u201d",
                    "name": "stderr"
                },
                {
                    "output_type": "stream",
                    "text": "\nStep:  AIC=101.31\nManipulater ~ DSRI\n\n",
                    "name": "stdout"
                },
                {
                    "output_type": "stream",
                    "text": "Warning message:\n\u201cglm.fit: fitted probabilities numerically 0 or 1 occurred\u201dWarning message:\n\u201cglm.fit: fitted probabilities numerically 0 or 1 occurred\u201dWarning message:\n\u201cglm.fit: fitted probabilities numerically 0 or 1 occurred\u201dWarning message:\n\u201cglm.fit: fitted probabilities numerically 0 or 1 occurred\u201dWarning message:\n\u201cglm.fit: fitted probabilities numerically 0 or 1 occurred\u201dWarning message:\n\u201cglm.fit: fitted probabilities numerically 0 or 1 occurred\u201dWarning message:\n\u201cglm.fit: fitted probabilities numerically 0 or 1 occurred\u201dWarning message:\n\u201cglm.fit: fitted probabilities numerically 0 or 1 occurred\u201d",
                    "name": "stderr"
                },
                {
                    "output_type": "stream",
                    "text": "       Df Deviance     AIC\n+ SGI   1   83.934  89.934\n+ ACCR  1   89.502  95.502\n+ GMI   1   93.928  99.928\n+ AQI   1   94.068 100.068\n<none>      97.306 101.306\n+ LEVI  1   96.644 102.644\n+ SGAI  1   96.882 102.882\n+ DEPI  1   97.250 103.250\n- DSRI  1  108.131 110.131\n",
                    "name": "stdout"
                },
                {
                    "output_type": "stream",
                    "text": "Warning message:\n\u201cglm.fit: fitted probabilities numerically 0 or 1 occurred\u201d",
                    "name": "stderr"
                },
                {
                    "output_type": "stream",
                    "text": "\nStep:  AIC=89.93\nManipulater ~ DSRI + SGI\n\n",
                    "name": "stdout"
                },
                {
                    "output_type": "stream",
                    "text": "Warning message:\n\u201cglm.fit: fitted probabilities numerically 0 or 1 occurred\u201dWarning message:\n\u201cglm.fit: fitted probabilities numerically 0 or 1 occurred\u201dWarning message:\n\u201cglm.fit: fitted probabilities numerically 0 or 1 occurred\u201dWarning message:\n\u201cglm.fit: fitted probabilities numerically 0 or 1 occurred\u201dWarning message:\n\u201cglm.fit: fitted probabilities numerically 0 or 1 occurred\u201dWarning message:\n\u201cglm.fit: fitted probabilities numerically 0 or 1 occurred\u201dWarning message:\n\u201cglm.fit: fitted probabilities numerically 0 or 1 occurred\u201dWarning message:\n\u201cglm.fit: fitted probabilities numerically 0 or 1 occurred\u201d",
                    "name": "stderr"
                },
                {
                    "output_type": "stream",
                    "text": "       Df Deviance     AIC\n+ AQI   1   71.414  79.414\n+ ACCR  1   76.464  84.464\n<none>      83.934  89.934\n+ GMI   1   82.406  90.406\n+ DEPI  1   82.688  90.688\n+ SGAI  1   83.289  91.289\n+ LEVI  1   83.742  91.742\n- SGI   1   97.306 101.306\n- DSRI  1  103.766 107.766\n",
                    "name": "stdout"
                },
                {
                    "output_type": "stream",
                    "text": "Warning message:\n\u201cglm.fit: fitted probabilities numerically 0 or 1 occurred\u201d",
                    "name": "stderr"
                },
                {
                    "output_type": "stream",
                    "text": "\nStep:  AIC=79.41\nManipulater ~ DSRI + SGI + AQI\n\n",
                    "name": "stdout"
                },
                {
                    "output_type": "stream",
                    "text": "Warning message:\n\u201cglm.fit: fitted probabilities numerically 0 or 1 occurred\u201dWarning message:\n\u201cglm.fit: fitted probabilities numerically 0 or 1 occurred\u201dWarning message:\n\u201cglm.fit: fitted probabilities numerically 0 or 1 occurred\u201dWarning message:\n\u201cglm.fit: fitted probabilities numerically 0 or 1 occurred\u201dWarning message:\n\u201cglm.fit: fitted probabilities numerically 0 or 1 occurred\u201dWarning message:\n\u201cglm.fit: fitted probabilities numerically 0 or 1 occurred\u201dWarning message:\n\u201cglm.fit: fitted probabilities numerically 0 or 1 occurred\u201dWarning message:\n\u201cglm.fit: fitted probabilities numerically 0 or 1 occurred\u201d",
                    "name": "stderr"
                },
                {
                    "output_type": "stream",
                    "text": "       Df Deviance     AIC\n+ ACCR  1   53.788  63.788\n+ DEPI  1   63.462  73.462\n<none>      71.414  79.414\n+ GMI   1   69.429  79.429\n+ LEVI  1   69.860  79.860\n+ SGAI  1   71.214  81.214\n- AQI   1   83.934  89.934\n- SGI   1   94.068 100.068\n- DSRI  1  100.806 106.806\n",
                    "name": "stdout"
                },
                {
                    "output_type": "stream",
                    "text": "Warning message:\n\u201cglm.fit: fitted probabilities numerically 0 or 1 occurred\u201d",
                    "name": "stderr"
                },
                {
                    "output_type": "stream",
                    "text": "\nStep:  AIC=63.79\nManipulater ~ DSRI + SGI + AQI + ACCR\n\n",
                    "name": "stdout"
                },
                {
                    "output_type": "stream",
                    "text": "Warning message:\n\u201cglm.fit: fitted probabilities numerically 0 or 1 occurred\u201dWarning message:\n\u201cglm.fit: fitted probabilities numerically 0 or 1 occurred\u201dWarning message:\n\u201cglm.fit: fitted probabilities numerically 0 or 1 occurred\u201dWarning message:\n\u201cglm.fit: fitted probabilities numerically 0 or 1 occurred\u201dWarning message:\n\u201cglm.fit: fitted probabilities numerically 0 or 1 occurred\u201dWarning message:\n\u201cglm.fit: fitted probabilities numerically 0 or 1 occurred\u201dWarning message:\n\u201cglm.fit: fitted probabilities numerically 0 or 1 occurred\u201dWarning message:\n\u201cglm.fit: fitted probabilities numerically 0 or 1 occurred\u201d",
                    "name": "stderr"
                },
                {
                    "output_type": "stream",
                    "text": "       Df Deviance     AIC\n+ DEPI  1   45.513  57.513\n+ GMI   1   50.465  62.465\n<none>      53.788  63.788\n+ SGAI  1   53.679  65.679\n+ LEVI  1   53.718  65.718\n- ACCR  1   71.414  79.414\n- AQI   1   76.464  84.464\n- SGI   1   80.772  88.772\n- DSRI  1   97.048 105.048\n",
                    "name": "stdout"
                },
                {
                    "output_type": "stream",
                    "text": "Warning message:\n\u201cglm.fit: fitted probabilities numerically 0 or 1 occurred\u201d",
                    "name": "stderr"
                },
                {
                    "output_type": "stream",
                    "text": "\nStep:  AIC=57.51\nManipulater ~ DSRI + SGI + AQI + ACCR + DEPI\n\n",
                    "name": "stdout"
                },
                {
                    "output_type": "stream",
                    "text": "Warning message:\n\u201cglm.fit: fitted probabilities numerically 0 or 1 occurred\u201dWarning message:\n\u201cglm.fit: fitted probabilities numerically 0 or 1 occurred\u201dWarning message:\n\u201cglm.fit: fitted probabilities numerically 0 or 1 occurred\u201dWarning message:\n\u201cglm.fit: fitted probabilities numerically 0 or 1 occurred\u201dWarning message:\n\u201cglm.fit: fitted probabilities numerically 0 or 1 occurred\u201dWarning message:\n\u201cglm.fit: fitted probabilities numerically 0 or 1 occurred\u201dWarning message:\n\u201cglm.fit: fitted probabilities numerically 0 or 1 occurred\u201dWarning message:\n\u201cglm.fit: fitted probabilities numerically 0 or 1 occurred\u201d",
                    "name": "stderr"
                },
                {
                    "output_type": "stream",
                    "text": "       Df Deviance     AIC\n+ GMI   1   43.248  57.248\n<none>      45.513  57.513\n+ LEVI  1   45.139  59.139\n+ SGAI  1   45.396  59.396\n- DEPI  1   53.788  63.788\n- ACCR  1   63.462  73.462\n- AQI   1   76.014  86.014\n- SGI   1   80.674  90.674\n- DSRI  1   96.808 106.808\n",
                    "name": "stdout"
                },
                {
                    "output_type": "stream",
                    "text": "Warning message:\n\u201cglm.fit: fitted probabilities numerically 0 or 1 occurred\u201d",
                    "name": "stderr"
                },
                {
                    "output_type": "stream",
                    "text": "\nStep:  AIC=57.25\nManipulater ~ DSRI + SGI + AQI + ACCR + DEPI + GMI\n\n",
                    "name": "stdout"
                },
                {
                    "output_type": "stream",
                    "text": "Warning message:\n\u201cglm.fit: fitted probabilities numerically 0 or 1 occurred\u201dWarning message:\n\u201cglm.fit: fitted probabilities numerically 0 or 1 occurred\u201dWarning message:\n\u201cglm.fit: fitted probabilities numerically 0 or 1 occurred\u201dWarning message:\n\u201cglm.fit: fitted probabilities numerically 0 or 1 occurred\u201dWarning message:\n\u201cglm.fit: fitted probabilities numerically 0 or 1 occurred\u201dWarning message:\n\u201cglm.fit: fitted probabilities numerically 0 or 1 occurred\u201dWarning message:\n\u201cglm.fit: fitted probabilities numerically 0 or 1 occurred\u201dWarning message:\n\u201cglm.fit: fitted probabilities numerically 0 or 1 occurred\u201d",
                    "name": "stderr"
                },
                {
                    "output_type": "stream",
                    "text": "       Df Deviance     AIC\n<none>      43.248  57.248\n- GMI   1   45.513  57.513\n+ LEVI  1   42.788  58.788\n+ SGAI  1   42.925  58.925\n- DEPI  1   50.465  62.465\n- ACCR  1   62.093  74.093\n- SGI   1   72.362  84.362\n- AQI   1   74.462  86.462\n- DSRI  1   95.816 107.816\n",
                    "name": "stdout"
                },
                {
                    "output_type": "stream",
                    "text": "Warning message:\n\u201cglm.fit: fitted probabilities numerically 0 or 1 occurred\u201d",
                    "name": "stderr"
                },
                {
                    "output_type": "stream",
                    "text": "Start:  AIC=110.13\nManipulater ~ 1\n\n",
                    "name": "stdout"
                },
                {
                    "output_type": "stream",
                    "text": "Warning message:\n\u201cglm.fit: fitted probabilities numerically 0 or 1 occurred\u201d",
                    "name": "stderr"
                },
                {
                    "output_type": "stream",
                    "text": "       Df Deviance    AIC\n+ DSRI  1    96.22 100.22\n+ ACCR  1   102.85 106.85\n+ SGAI  1   103.74 107.74\n+ SGI   1   104.34 108.34\n+ AQI   1   106.02 110.02\n<none>      108.13 110.13\n+ GMI   1   106.42 110.42\n+ DEPI  1   106.98 110.98\n+ LEVI  1   107.50 111.50\n",
                    "name": "stdout"
                },
                {
                    "output_type": "stream",
                    "text": "Warning message:\n\u201cglm.fit: fitted probabilities numerically 0 or 1 occurred\u201d",
                    "name": "stderr"
                },
                {
                    "output_type": "stream",
                    "text": "\nStep:  AIC=100.22\nManipulater ~ DSRI\n\n",
                    "name": "stdout"
                },
                {
                    "output_type": "stream",
                    "text": "Warning message:\n\u201cglm.fit: fitted probabilities numerically 0 or 1 occurred\u201dWarning message:\n\u201cglm.fit: fitted probabilities numerically 0 or 1 occurred\u201dWarning message:\n\u201cglm.fit: fitted probabilities numerically 0 or 1 occurred\u201dWarning message:\n\u201cglm.fit: fitted probabilities numerically 0 or 1 occurred\u201dWarning message:\n\u201cglm.fit: fitted probabilities numerically 0 or 1 occurred\u201dWarning message:\n\u201cglm.fit: fitted probabilities numerically 0 or 1 occurred\u201dWarning message:\n\u201cglm.fit: fitted probabilities numerically 0 or 1 occurred\u201dWarning message:\n\u201cglm.fit: fitted probabilities numerically 0 or 1 occurred\u201d",
                    "name": "stderr"
                },
                {
                    "output_type": "stream",
                    "text": "       Df Deviance     AIC\n+ SGI   1   84.118  90.118\n+ ACCR  1   84.849  90.849\n+ GMI   1   91.930  97.930\n+ AQI   1   92.628  98.628\n<none>      96.220 100.220\n+ SGAI  1   94.615 100.615\n+ DEPI  1   95.284 101.284\n+ LEVI  1   96.211 102.211\n- DSRI  1  108.131 110.131\n",
                    "name": "stdout"
                },
                {
                    "output_type": "stream",
                    "text": "Warning message:\n\u201cglm.fit: fitted probabilities numerically 0 or 1 occurred\u201d",
                    "name": "stderr"
                },
                {
                    "output_type": "stream",
                    "text": "\nStep:  AIC=90.12\nManipulater ~ DSRI + SGI\n\n",
                    "name": "stdout"
                },
                {
                    "output_type": "stream",
                    "text": "Warning message:\n\u201cglm.fit: fitted probabilities numerically 0 or 1 occurred\u201dWarning message:\n\u201cglm.fit: fitted probabilities numerically 0 or 1 occurred\u201dWarning message:\n\u201cglm.fit: fitted probabilities numerically 0 or 1 occurred\u201dWarning message:\n\u201cglm.fit: fitted probabilities numerically 0 or 1 occurred\u201dWarning message:\n\u201cglm.fit: fitted probabilities numerically 0 or 1 occurred\u201dWarning message:\n\u201cglm.fit: fitted probabilities numerically 0 or 1 occurred\u201dWarning message:\n\u201cglm.fit: fitted probabilities numerically 0 or 1 occurred\u201dWarning message:\n\u201cglm.fit: fitted probabilities numerically 0 or 1 occurred\u201d",
                    "name": "stderr"
                },
                {
                    "output_type": "stream",
                    "text": "       Df Deviance     AIC\n+ AQI   1   72.727  80.727\n+ ACCR  1   74.025  82.025\n+ GMI   1   81.593  89.593\n<none>      84.118  90.118\n+ SGAI  1   82.355  90.355\n+ LEVI  1   83.163  91.163\n+ DEPI  1   83.832  91.832\n- SGI   1   96.220 100.220\n- DSRI  1  104.345 108.345\n",
                    "name": "stdout"
                },
                {
                    "output_type": "stream",
                    "text": "Warning message:\n\u201cglm.fit: fitted probabilities numerically 0 or 1 occurred\u201d",
                    "name": "stderr"
                },
                {
                    "output_type": "stream",
                    "text": "\nStep:  AIC=80.73\nManipulater ~ DSRI + SGI + AQI\n\n",
                    "name": "stdout"
                },
                {
                    "output_type": "stream",
                    "text": "Warning message:\n\u201cglm.fit: fitted probabilities numerically 0 or 1 occurred\u201dWarning message:\n\u201cglm.fit: fitted probabilities numerically 0 or 1 occurred\u201dWarning message:\n\u201cglm.fit: fitted probabilities numerically 0 or 1 occurred\u201dWarning message:\n\u201cglm.fit: fitted probabilities numerically 0 or 1 occurred\u201dWarning message:\n\u201cglm.fit: fitted probabilities numerically 0 or 1 occurred\u201dWarning message:\n\u201cglm.fit: fitted probabilities numerically 0 or 1 occurred\u201dWarning message:\n\u201cglm.fit: fitted probabilities numerically 0 or 1 occurred\u201dWarning message:\n\u201cglm.fit: fitted probabilities numerically 0 or 1 occurred\u201d",
                    "name": "stderr"
                },
                {
                    "output_type": "stream",
                    "text": "       Df Deviance     AIC\n+ ACCR  1   51.180  61.180\n+ LEVI  1   67.338  77.338\n+ GMI   1   68.763  78.763\n<none>      72.727  80.727\n+ SGAI  1   72.254  82.254\n+ DEPI  1   72.718  82.718\n- AQI   1   84.118  90.118\n- SGI   1   92.628  98.628\n- DSRI  1  101.337 107.337\n",
                    "name": "stdout"
                },
                {
                    "output_type": "stream",
                    "text": "Warning message:\n\u201cglm.fit: fitted probabilities numerically 0 or 1 occurred\u201d",
                    "name": "stderr"
                },
                {
                    "output_type": "stream",
                    "text": "\nStep:  AIC=61.18\nManipulater ~ DSRI + SGI + AQI + ACCR\n\n",
                    "name": "stdout"
                },
                {
                    "output_type": "stream",
                    "text": "Warning message:\n\u201cglm.fit: fitted probabilities numerically 0 or 1 occurred\u201dWarning message:\n\u201cglm.fit: fitted probabilities numerically 0 or 1 occurred\u201dWarning message:\n\u201cglm.fit: fitted probabilities numerically 0 or 1 occurred\u201dWarning message:\n\u201cglm.fit: fitted probabilities numerically 0 or 1 occurred\u201dWarning message:\n\u201cglm.fit: fitted probabilities numerically 0 or 1 occurred\u201dWarning message:\n\u201cglm.fit: fitted probabilities numerically 0 or 1 occurred\u201dWarning message:\n\u201cglm.fit: fitted probabilities numerically 0 or 1 occurred\u201dWarning message:\n\u201cglm.fit: fitted probabilities numerically 0 or 1 occurred\u201d",
                    "name": "stderr"
                },
                {
                    "output_type": "stream",
                    "text": "       Df Deviance     AIC\n+ GMI   1   42.230  54.230\n<none>      51.180  61.180\n+ LEVI  1   49.751  61.751\n+ SGAI  1   50.995  62.995\n+ DEPI  1   51.179  63.179\n- ACCR  1   72.727  80.727\n- AQI   1   74.025  82.025\n- SGI   1   74.427  82.427\n- DSRI  1   94.552 102.552\n",
                    "name": "stdout"
                },
                {
                    "output_type": "stream",
                    "text": "Warning message:\n\u201cglm.fit: fitted probabilities numerically 0 or 1 occurred\u201d",
                    "name": "stderr"
                },
                {
                    "output_type": "stream",
                    "text": "\nStep:  AIC=54.23\nManipulater ~ DSRI + SGI + AQI + ACCR + GMI\n\n",
                    "name": "stdout"
                },
                {
                    "output_type": "stream",
                    "text": "Warning message:\n\u201cglm.fit: fitted probabilities numerically 0 or 1 occurred\u201dWarning message:\n\u201cglm.fit: fitted probabilities numerically 0 or 1 occurred\u201dWarning message:\n\u201cglm.fit: fitted probabilities numerically 0 or 1 occurred\u201dWarning message:\n\u201cglm.fit: fitted probabilities numerically 0 or 1 occurred\u201dWarning message:\n\u201cglm.fit: fitted probabilities numerically 0 or 1 occurred\u201dWarning message:\n\u201cglm.fit: fitted probabilities numerically 0 or 1 occurred\u201dWarning message:\n\u201cglm.fit: fitted probabilities numerically 0 or 1 occurred\u201dWarning message:\n\u201cglm.fit: fitted probabilities numerically 0 or 1 occurred\u201d",
                    "name": "stderr"
                },
                {
                    "output_type": "stream",
                    "text": "       Df Deviance     AIC\n<none>      42.230  54.230\n+ LEVI  1   41.514  55.514\n+ SGAI  1   41.663  55.663\n+ DEPI  1   42.222  56.222\n- GMI   1   51.180  61.180\n- SGI   1   59.718  69.718\n- ACCR  1   68.763  78.763\n- AQI   1   70.815  80.815\n- DSRI  1   92.246 102.246\n",
                    "name": "stdout"
                },
                {
                    "output_type": "stream",
                    "text": "Warning message:\n\u201cglm.fit: fitted probabilities numerically 0 or 1 occurred\u201d",
                    "name": "stderr"
                },
                {
                    "output_type": "stream",
                    "text": "Start:  AIC=110.13\nManipulater ~ 1\n\n",
                    "name": "stdout"
                },
                {
                    "output_type": "stream",
                    "text": "Warning message:\n\u201cglm.fit: fitted probabilities numerically 0 or 1 occurred\u201d",
                    "name": "stderr"
                },
                {
                    "output_type": "stream",
                    "text": "       Df Deviance     AIC\n+ DSRI  1   87.766  91.766\n+ ACCR  1  102.569 106.569\n+ SGAI  1  104.390 108.390\n+ SGI   1  104.641 108.641\n<none>     108.131 110.131\n+ LEVI  1  106.346 110.346\n+ DEPI  1  106.464 110.464\n+ GMI   1  106.495 110.495\n+ AQI   1  106.695 110.695\n",
                    "name": "stdout"
                },
                {
                    "output_type": "stream",
                    "text": "Warning message:\n\u201cglm.fit: fitted probabilities numerically 0 or 1 occurred\u201d",
                    "name": "stderr"
                },
                {
                    "output_type": "stream",
                    "text": "\nStep:  AIC=91.77\nManipulater ~ DSRI\n\n",
                    "name": "stdout"
                },
                {
                    "output_type": "stream",
                    "text": "Warning message:\n\u201cglm.fit: fitted probabilities numerically 0 or 1 occurred\u201dWarning message:\n\u201cglm.fit: fitted probabilities numerically 0 or 1 occurred\u201dWarning message:\n\u201cglm.fit: fitted probabilities numerically 0 or 1 occurred\u201dWarning message:\n\u201cglm.fit: fitted probabilities numerically 0 or 1 occurred\u201dWarning message:\n\u201cglm.fit: fitted probabilities numerically 0 or 1 occurred\u201dWarning message:\n\u201cglm.fit: fitted probabilities numerically 0 or 1 occurred\u201dWarning message:\n\u201cglm.fit: fitted probabilities numerically 0 or 1 occurred\u201dWarning message:\n\u201cglm.fit: fitted probabilities numerically 0 or 1 occurred\u201d",
                    "name": "stderr"
                },
                {
                    "output_type": "stream",
                    "text": "       Df Deviance     AIC\n+ ACCR  1   74.082  80.082\n+ SGI   1   76.740  82.740\n+ GMI   1   82.637  88.637\n+ AQI   1   84.518  90.518\n+ DEPI  1   85.684  91.684\n<none>      87.766  91.766\n+ LEVI  1   87.172  93.172\n+ SGAI  1   87.242  93.242\n- DSRI  1  108.131 110.131\n",
                    "name": "stdout"
                },
                {
                    "output_type": "stream",
                    "text": "Warning message:\n\u201cglm.fit: fitted probabilities numerically 0 or 1 occurred\u201d",
                    "name": "stderr"
                },
                {
                    "output_type": "stream",
                    "text": "\nStep:  AIC=80.08\nManipulater ~ DSRI + ACCR\n\n",
                    "name": "stdout"
                },
                {
                    "output_type": "stream",
                    "text": "Warning message:\n\u201cglm.fit: fitted probabilities numerically 0 or 1 occurred\u201dWarning message:\n\u201cglm.fit: fitted probabilities numerically 0 or 1 occurred\u201dWarning message:\n\u201cglm.fit: fitted probabilities numerically 0 or 1 occurred\u201dWarning message:\n\u201cglm.fit: fitted probabilities numerically 0 or 1 occurred\u201dWarning message:\n\u201cglm.fit: fitted probabilities numerically 0 or 1 occurred\u201dWarning message:\n\u201cglm.fit: fitted probabilities numerically 0 or 1 occurred\u201dWarning message:\n\u201cglm.fit: fitted probabilities numerically 0 or 1 occurred\u201dWarning message:\n\u201cglm.fit: fitted probabilities numerically 0 or 1 occurred\u201d",
                    "name": "stderr"
                },
                {
                    "output_type": "stream",
                    "text": "       Df Deviance     AIC\n+ AQI   1   62.229  70.229\n+ SGI   1   67.324  75.324\n+ GMI   1   68.026  76.026\n+ DEPI  1   71.071  79.071\n<none>      74.082  80.082\n+ LEVI  1   73.095  81.095\n+ SGAI  1   74.033  82.033\n- ACCR  1   87.766  91.766\n- DSRI  1  102.569 106.569\n",
                    "name": "stdout"
                },
                {
                    "output_type": "stream",
                    "text": "Warning message:\n\u201cglm.fit: fitted probabilities numerically 0 or 1 occurred\u201d",
                    "name": "stderr"
                },
                {
                    "output_type": "stream",
                    "text": "\nStep:  AIC=70.23\nManipulater ~ DSRI + ACCR + AQI\n\n",
                    "name": "stdout"
                },
                {
                    "output_type": "stream",
                    "text": "Warning message:\n\u201cglm.fit: fitted probabilities numerically 0 or 1 occurred\u201dWarning message:\n\u201cglm.fit: fitted probabilities numerically 0 or 1 occurred\u201dWarning message:\n\u201cglm.fit: fitted probabilities numerically 0 or 1 occurred\u201dWarning message:\n\u201cglm.fit: fitted probabilities numerically 0 or 1 occurred\u201dWarning message:\n\u201cglm.fit: fitted probabilities numerically 0 or 1 occurred\u201dWarning message:\n\u201cglm.fit: fitted probabilities numerically 0 or 1 occurred\u201dWarning message:\n\u201cglm.fit: fitted probabilities numerically 0 or 1 occurred\u201dWarning message:\n\u201cglm.fit: fitted probabilities numerically 0 or 1 occurred\u201d",
                    "name": "stderr"
                },
                {
                    "output_type": "stream",
                    "text": "       Df Deviance     AIC\n+ SGI   1   49.655  59.655\n+ GMI   1   52.036  62.036\n+ DEPI  1   60.122  70.122\n<none>      62.229  70.229\n+ SGAI  1   62.141  72.141\n+ LEVI  1   62.222  72.222\n- AQI   1   74.082  80.082\n- ACCR  1   84.518  90.518\n- DSRI  1   99.239 105.239\n",
                    "name": "stdout"
                },
                {
                    "output_type": "stream",
                    "text": "Warning message:\n\u201cglm.fit: fitted probabilities numerically 0 or 1 occurred\u201d",
                    "name": "stderr"
                },
                {
                    "output_type": "stream",
                    "text": "\nStep:  AIC=59.66\nManipulater ~ DSRI + ACCR + AQI + SGI\n\n",
                    "name": "stdout"
                },
                {
                    "output_type": "stream",
                    "text": "Warning message:\n\u201cglm.fit: fitted probabilities numerically 0 or 1 occurred\u201dWarning message:\n\u201cglm.fit: fitted probabilities numerically 0 or 1 occurred\u201dWarning message:\n\u201cglm.fit: fitted probabilities numerically 0 or 1 occurred\u201dWarning message:\n\u201cglm.fit: fitted probabilities numerically 0 or 1 occurred\u201dWarning message:\n\u201cglm.fit: fitted probabilities numerically 0 or 1 occurred\u201dWarning message:\n\u201cglm.fit: fitted probabilities numerically 0 or 1 occurred\u201dWarning message:\n\u201cglm.fit: fitted probabilities numerically 0 or 1 occurred\u201dWarning message:\n\u201cglm.fit: fitted probabilities numerically 0 or 1 occurred\u201d",
                    "name": "stderr"
                },
                {
                    "output_type": "stream",
                    "text": "       Df Deviance     AIC\n+ GMI   1   41.348  53.348\n<none>      49.655  59.655\n+ LEVI  1   48.312  60.312\n+ SGAI  1   49.363  61.363\n+ DEPI  1   49.459  61.459\n- SGI   1   62.229  70.229\n- ACCR  1   66.659  74.659\n- AQI   1   67.324  75.324\n- DSRI  1   95.897 103.897\n",
                    "name": "stdout"
                },
                {
                    "output_type": "stream",
                    "text": "Warning message:\n\u201cglm.fit: fitted probabilities numerically 0 or 1 occurred\u201d",
                    "name": "stderr"
                },
                {
                    "output_type": "stream",
                    "text": "\nStep:  AIC=53.35\nManipulater ~ DSRI + ACCR + AQI + SGI + GMI\n\n",
                    "name": "stdout"
                },
                {
                    "output_type": "stream",
                    "text": "Warning message:\n\u201cglm.fit: fitted probabilities numerically 0 or 1 occurred\u201dWarning message:\n\u201cglm.fit: fitted probabilities numerically 0 or 1 occurred\u201dWarning message:\n\u201cglm.fit: fitted probabilities numerically 0 or 1 occurred\u201dWarning message:\n\u201cglm.fit: fitted probabilities numerically 0 or 1 occurred\u201dWarning message:\n\u201cglm.fit: fitted probabilities numerically 0 or 1 occurred\u201dWarning message:\n\u201cglm.fit: fitted probabilities numerically 0 or 1 occurred\u201dWarning message:\n\u201cglm.fit: fitted probabilities numerically 0 or 1 occurred\u201dWarning message:\n\u201cglm.fit: fitted probabilities numerically 0 or 1 occurred\u201d",
                    "name": "stderr"
                },
                {
                    "output_type": "stream",
                    "text": "       Df Deviance     AIC\n<none>      41.348  53.348\n+ LEVI  1   40.968  54.968\n+ DEPI  1   41.053  55.053\n+ SGAI  1   41.327  55.327\n- GMI   1   49.655  59.655\n- SGI   1   52.036  62.036\n- ACCR  1   61.612  71.612\n- AQI   1   62.486  72.486\n- DSRI  1   94.498 104.498\n",
                    "name": "stdout"
                },
                {
                    "output_type": "stream",
                    "text": "Warning message:\n\u201cglm.fit: fitted probabilities numerically 0 or 1 occurred\u201d",
                    "name": "stderr"
                },
                {
                    "output_type": "stream",
                    "text": "Start:  AIC=110.13\nManipulater ~ 1\n\n       Df Deviance    AIC\n+ DSRI  1   98.567 102.57\n+ SGI   1  103.737 107.74\n+ ACCR  1  104.981 108.98\n+ SGAI  1  105.108 109.11\n<none>     108.131 110.13\n+ AQI   1  106.389 110.39\n+ LEVI  1  106.594 110.59\n+ GMI   1  106.759 110.76\n+ DEPI  1  108.119 112.12\n\nStep:  AIC=102.57\nManipulater ~ DSRI\n\n",
                    "name": "stdout"
                },
                {
                    "output_type": "stream",
                    "text": "Warning message:\n\u201cglm.fit: fitted probabilities numerically 0 or 1 occurred\u201dWarning message:\n\u201cglm.fit: fitted probabilities numerically 0 or 1 occurred\u201d",
                    "name": "stderr"
                },
                {
                    "output_type": "stream",
                    "text": "       Df Deviance     AIC\n+ SGI   1   86.659  92.659\n+ ACCR  1   91.460  97.460\n+ GMI   1   95.945 101.945\n+ AQI   1   95.986 101.986\n<none>      98.567 102.567\n+ SGAI  1   98.208 104.208\n+ LEVI  1   98.239 104.239\n+ DEPI  1   98.567 104.567\n- DSRI  1  108.131 110.131\n",
                    "name": "stdout"
                },
                {
                    "output_type": "stream",
                    "text": "Warning message:\n\u201cglm.fit: fitted probabilities numerically 0 or 1 occurred\u201d",
                    "name": "stderr"
                },
                {
                    "output_type": "stream",
                    "text": "\nStep:  AIC=92.66\nManipulater ~ DSRI + SGI\n\n",
                    "name": "stdout"
                },
                {
                    "output_type": "stream",
                    "text": "Warning message:\n\u201cglm.fit: fitted probabilities numerically 0 or 1 occurred\u201dWarning message:\n\u201cglm.fit: fitted probabilities numerically 0 or 1 occurred\u201dWarning message:\n\u201cglm.fit: fitted probabilities numerically 0 or 1 occurred\u201dWarning message:\n\u201cglm.fit: fitted probabilities numerically 0 or 1 occurred\u201dWarning message:\n\u201cglm.fit: fitted probabilities numerically 0 or 1 occurred\u201dWarning message:\n\u201cglm.fit: fitted probabilities numerically 0 or 1 occurred\u201dWarning message:\n\u201cglm.fit: fitted probabilities numerically 0 or 1 occurred\u201d",
                    "name": "stderr"
                },
                {
                    "output_type": "stream",
                    "text": "       Df Deviance     AIC\n+ AQI   1   78.004  86.004\n+ ACCR  1   78.882  86.882\n<none>      86.659  92.659\n+ DEPI  1   84.826  92.826\n+ GMI   1   85.698  93.698\n+ SGAI  1   86.321  94.321\n+ LEVI  1   86.634  94.634\n- SGI   1   98.567 102.567\n- DSRI  1  103.737 107.737\n",
                    "name": "stdout"
                },
                {
                    "output_type": "stream",
                    "text": "Warning message:\n\u201cglm.fit: fitted probabilities numerically 0 or 1 occurred\u201d",
                    "name": "stderr"
                },
                {
                    "output_type": "stream",
                    "text": "\nStep:  AIC=86\nManipulater ~ DSRI + SGI + AQI\n\n",
                    "name": "stdout"
                },
                {
                    "output_type": "stream",
                    "text": "Warning message:\n\u201cglm.fit: fitted probabilities numerically 0 or 1 occurred\u201dWarning message:\n\u201cglm.fit: fitted probabilities numerically 0 or 1 occurred\u201dWarning message:\n\u201cglm.fit: fitted probabilities numerically 0 or 1 occurred\u201dWarning message:\n\u201cglm.fit: fitted probabilities numerically 0 or 1 occurred\u201dWarning message:\n\u201cglm.fit: fitted probabilities numerically 0 or 1 occurred\u201dWarning message:\n\u201cglm.fit: fitted probabilities numerically 0 or 1 occurred\u201dWarning message:\n\u201cglm.fit: fitted probabilities numerically 0 or 1 occurred\u201d",
                    "name": "stderr"
                },
                {
                    "output_type": "stream",
                    "text": "       Df Deviance     AIC\n+ ACCR  1   62.007  72.007\n+ DEPI  1   70.054  80.054\n+ LEVI  1   75.639  85.639\n<none>      78.004  86.004\n+ GMI   1   77.180  87.180\n+ SGAI  1   78.000  88.000\n- AQI   1   86.659  92.659\n- SGI   1   95.986 101.986\n- DSRI  1  101.014 107.014\n",
                    "name": "stdout"
                },
                {
                    "output_type": "stream",
                    "text": "Warning message:\n\u201cglm.fit: fitted probabilities numerically 0 or 1 occurred\u201d",
                    "name": "stderr"
                },
                {
                    "output_type": "stream",
                    "text": "\nStep:  AIC=72.01\nManipulater ~ DSRI + SGI + AQI + ACCR\n\n",
                    "name": "stdout"
                },
                {
                    "output_type": "stream",
                    "text": "Warning message:\n\u201cglm.fit: fitted probabilities numerically 0 or 1 occurred\u201dWarning message:\n\u201cglm.fit: fitted probabilities numerically 0 or 1 occurred\u201dWarning message:\n\u201cglm.fit: fitted probabilities numerically 0 or 1 occurred\u201dWarning message:\n\u201cglm.fit: fitted probabilities numerically 0 or 1 occurred\u201dWarning message:\n\u201cglm.fit: fitted probabilities numerically 0 or 1 occurred\u201dWarning message:\n\u201cglm.fit: fitted probabilities numerically 0 or 1 occurred\u201dWarning message:\n\u201cglm.fit: fitted probabilities numerically 0 or 1 occurred\u201dWarning message:\n\u201cglm.fit: fitted probabilities numerically 0 or 1 occurred\u201d",
                    "name": "stderr"
                },
                {
                    "output_type": "stream",
                    "text": "       Df Deviance     AIC\n+ DEPI  1   53.584  65.584\n+ GMI   1   58.211  70.211\n<none>      62.007  72.007\n+ SGAI  1   61.001  73.001\n+ LEVI  1   61.477  73.477\n- ACCR  1   78.004  86.004\n- AQI   1   78.882  86.882\n- SGI   1   85.032  93.032\n- DSRI  1   96.659 104.659\n",
                    "name": "stdout"
                },
                {
                    "output_type": "stream",
                    "text": "Warning message:\n\u201cglm.fit: fitted probabilities numerically 0 or 1 occurred\u201d",
                    "name": "stderr"
                },
                {
                    "output_type": "stream",
                    "text": "\nStep:  AIC=65.58\nManipulater ~ DSRI + SGI + AQI + ACCR + DEPI\n\n",
                    "name": "stdout"
                },
                {
                    "output_type": "stream",
                    "text": "Warning message:\n\u201cglm.fit: fitted probabilities numerically 0 or 1 occurred\u201dWarning message:\n\u201cglm.fit: fitted probabilities numerically 0 or 1 occurred\u201dWarning message:\n\u201cglm.fit: fitted probabilities numerically 0 or 1 occurred\u201dWarning message:\n\u201cglm.fit: fitted probabilities numerically 0 or 1 occurred\u201dWarning message:\n\u201cglm.fit: fitted probabilities numerically 0 or 1 occurred\u201dWarning message:\n\u201cglm.fit: fitted probabilities numerically 0 or 1 occurred\u201dWarning message:\n\u201cglm.fit: fitted probabilities numerically 0 or 1 occurred\u201dWarning message:\n\u201cglm.fit: fitted probabilities numerically 0 or 1 occurred\u201d",
                    "name": "stderr"
                },
                {
                    "output_type": "stream",
                    "text": "       Df Deviance     AIC\n<none>      53.584  65.584\n+ LEVI  1   52.194  66.194\n+ GMI   1   52.439  66.439\n+ SGAI  1   53.379  67.379\n- DEPI  1   62.007  72.007\n- ACCR  1   70.054  80.054\n- AQI   1   77.937  87.937\n- SGI   1   85.028  95.028\n- DSRI  1   96.252 106.252\n",
                    "name": "stdout"
                },
                {
                    "output_type": "stream",
                    "text": "Warning message:\n\u201cglm.fit: fitted probabilities numerically 0 or 1 occurred\u201d",
                    "name": "stderr"
                },
                {
                    "output_type": "stream",
                    "text": "Start:  AIC=110.13\nManipulater ~ 1\n\n",
                    "name": "stdout"
                },
                {
                    "output_type": "stream",
                    "text": "Warning message:\n\u201cglm.fit: fitted probabilities numerically 0 or 1 occurred\u201d",
                    "name": "stderr"
                },
                {
                    "output_type": "stream",
                    "text": "       Df Deviance     AIC\n+ DSRI  1   95.809  99.809\n+ ACCR  1  101.375 105.375\n+ SGAI  1  102.862 106.862\n+ SGI   1  104.972 108.972\n<none>     108.131 110.131\n+ LEVI  1  106.452 110.452\n+ AQI   1  106.569 110.569\n+ GMI   1  106.822 110.822\n+ DEPI  1  107.101 111.101\n",
                    "name": "stdout"
                },
                {
                    "output_type": "stream",
                    "text": "Warning message:\n\u201cglm.fit: fitted probabilities numerically 0 or 1 occurred\u201d",
                    "name": "stderr"
                },
                {
                    "output_type": "stream",
                    "text": "\nStep:  AIC=99.81\nManipulater ~ DSRI\n\n",
                    "name": "stdout"
                },
                {
                    "output_type": "stream",
                    "text": "Warning message:\n\u201cglm.fit: fitted probabilities numerically 0 or 1 occurred\u201dWarning message:\n\u201cglm.fit: fitted probabilities numerically 0 or 1 occurred\u201dWarning message:\n\u201cglm.fit: fitted probabilities numerically 0 or 1 occurred\u201dWarning message:\n\u201cglm.fit: fitted probabilities numerically 0 or 1 occurred\u201dWarning message:\n\u201cglm.fit: fitted probabilities numerically 0 or 1 occurred\u201dWarning message:\n\u201cglm.fit: fitted probabilities numerically 0 or 1 occurred\u201dWarning message:\n\u201cglm.fit: fitted probabilities numerically 0 or 1 occurred\u201dWarning message:\n\u201cglm.fit: fitted probabilities numerically 0 or 1 occurred\u201d",
                    "name": "stderr"
                },
                {
                    "output_type": "stream",
                    "text": "       Df Deviance     AIC\n+ ACCR  1   83.007  89.007\n+ SGI   1   85.618  91.618\n+ GMI   1   91.829  97.829\n+ SGAI  1   93.219  99.219\n+ AQI   1   93.238  99.238\n<none>      95.809  99.809\n+ DEPI  1   94.887 100.887\n+ LEVI  1   95.226 101.226\n- DSRI  1  108.131 110.131\n",
                    "name": "stdout"
                },
                {
                    "output_type": "stream",
                    "text": "Warning message:\n\u201cglm.fit: fitted probabilities numerically 0 or 1 occurred\u201d",
                    "name": "stderr"
                },
                {
                    "output_type": "stream",
                    "text": "\nStep:  AIC=89.01\nManipulater ~ DSRI + ACCR\n\n",
                    "name": "stdout"
                },
                {
                    "output_type": "stream",
                    "text": "Warning message:\n\u201cglm.fit: fitted probabilities numerically 0 or 1 occurred\u201dWarning message:\n\u201cglm.fit: fitted probabilities numerically 0 or 1 occurred\u201dWarning message:\n\u201cglm.fit: fitted probabilities numerically 0 or 1 occurred\u201dWarning message:\n\u201cglm.fit: fitted probabilities numerically 0 or 1 occurred\u201dWarning message:\n\u201cglm.fit: fitted probabilities numerically 0 or 1 occurred\u201dWarning message:\n\u201cglm.fit: fitted probabilities numerically 0 or 1 occurred\u201dWarning message:\n\u201cglm.fit: fitted probabilities numerically 0 or 1 occurred\u201dWarning message:\n\u201cglm.fit: fitted probabilities numerically 0 or 1 occurred\u201d",
                    "name": "stderr"
                },
                {
                    "output_type": "stream",
                    "text": "       Df Deviance     AIC\n+ SGI   1   74.029  82.029\n+ AQI   1   75.118  83.118\n+ GMI   1   76.988  84.988\n<none>      83.007  89.007\n+ DEPI  1   81.032  89.032\n+ LEVI  1   81.672  89.672\n+ SGAI  1   81.849  89.849\n- ACCR  1   95.809  99.809\n- DSRI  1  101.375 105.375\n",
                    "name": "stdout"
                },
                {
                    "output_type": "stream",
                    "text": "Warning message:\n\u201cglm.fit: fitted probabilities numerically 0 or 1 occurred\u201d",
                    "name": "stderr"
                },
                {
                    "output_type": "stream",
                    "text": "\nStep:  AIC=82.03\nManipulater ~ DSRI + ACCR + SGI\n\n",
                    "name": "stdout"
                },
                {
                    "output_type": "stream",
                    "text": "Warning message:\n\u201cglm.fit: fitted probabilities numerically 0 or 1 occurred\u201dWarning message:\n\u201cglm.fit: fitted probabilities numerically 0 or 1 occurred\u201dWarning message:\n\u201cglm.fit: fitted probabilities numerically 0 or 1 occurred\u201dWarning message:\n\u201cglm.fit: fitted probabilities numerically 0 or 1 occurred\u201dWarning message:\n\u201cglm.fit: fitted probabilities numerically 0 or 1 occurred\u201dWarning message:\n\u201cglm.fit: fitted probabilities numerically 0 or 1 occurred\u201dWarning message:\n\u201cglm.fit: fitted probabilities numerically 0 or 1 occurred\u201dWarning message:\n\u201cglm.fit: fitted probabilities numerically 0 or 1 occurred\u201d",
                    "name": "stderr"
                },
                {
                    "output_type": "stream",
                    "text": "       Df Deviance     AIC\n+ AQI   1   58.542  68.542\n+ GMI   1   70.588  80.588\n<none>      74.029  82.029\n+ SGAI  1   72.390  82.390\n+ LEVI  1   72.821  82.821\n+ DEPI  1   73.609  83.609\n- SGI   1   83.007  89.007\n- ACCR  1   85.618  91.618\n- DSRI  1   98.953 104.953\n",
                    "name": "stdout"
                },
                {
                    "output_type": "stream",
                    "text": "Warning message:\n\u201cglm.fit: fitted probabilities numerically 0 or 1 occurred\u201d",
                    "name": "stderr"
                },
                {
                    "output_type": "stream",
                    "text": "\nStep:  AIC=68.54\nManipulater ~ DSRI + ACCR + SGI + AQI\n\n",
                    "name": "stdout"
                },
                {
                    "output_type": "stream",
                    "text": "Warning message:\n\u201cglm.fit: fitted probabilities numerically 0 or 1 occurred\u201dWarning message:\n\u201cglm.fit: fitted probabilities numerically 0 or 1 occurred\u201dWarning message:\n\u201cglm.fit: fitted probabilities numerically 0 or 1 occurred\u201dWarning message:\n\u201cglm.fit: fitted probabilities numerically 0 or 1 occurred\u201dWarning message:\n\u201cglm.fit: fitted probabilities numerically 0 or 1 occurred\u201dWarning message:\n\u201cglm.fit: fitted probabilities numerically 0 or 1 occurred\u201dWarning message:\n\u201cglm.fit: fitted probabilities numerically 0 or 1 occurred\u201dWarning message:\n\u201cglm.fit: fitted probabilities numerically 0 or 1 occurred\u201d",
                    "name": "stderr"
                },
                {
                    "output_type": "stream",
                    "text": "       Df Deviance     AIC\n+ GMI   1   52.619  64.619\n<none>      58.542  68.542\n+ DEPI  1   57.978  69.978\n+ LEVI  1   58.077  70.077\n+ SGAI  1   58.507  70.507\n- AQI   1   74.029  82.029\n- SGI   1   75.118  83.118\n- ACCR  1   78.254  86.254\n- DSRI  1   94.951 102.951\n",
                    "name": "stdout"
                },
                {
                    "output_type": "stream",
                    "text": "Warning message:\n\u201cglm.fit: fitted probabilities numerically 0 or 1 occurred\u201d",
                    "name": "stderr"
                },
                {
                    "output_type": "stream",
                    "text": "\nStep:  AIC=64.62\nManipulater ~ DSRI + ACCR + SGI + AQI + GMI\n\n",
                    "name": "stdout"
                },
                {
                    "output_type": "stream",
                    "text": "Warning message:\n\u201cglm.fit: fitted probabilities numerically 0 or 1 occurred\u201dWarning message:\n\u201cglm.fit: fitted probabilities numerically 0 or 1 occurred\u201dWarning message:\n\u201cglm.fit: fitted probabilities numerically 0 or 1 occurred\u201dWarning message:\n\u201cglm.fit: fitted probabilities numerically 0 or 1 occurred\u201dWarning message:\n\u201cglm.fit: fitted probabilities numerically 0 or 1 occurred\u201dWarning message:\n\u201cglm.fit: fitted probabilities numerically 0 or 1 occurred\u201dWarning message:\n\u201cglm.fit: fitted probabilities numerically 0 or 1 occurred\u201dWarning message:\n\u201cglm.fit: fitted probabilities numerically 0 or 1 occurred\u201d",
                    "name": "stderr"
                },
                {
                    "output_type": "stream",
                    "text": "       Df Deviance     AIC\n<none>      52.619  64.619\n+ SGAI  1   51.325  65.325\n+ LEVI  1   52.561  66.561\n+ DEPI  1   52.586  66.586\n- GMI   1   58.542  68.542\n- SGI   1   65.149  75.149\n- AQI   1   70.588  80.588\n- ACCR  1   74.802  84.802\n- DSRI  1   93.727 103.727\n",
                    "name": "stdout"
                },
                {
                    "output_type": "stream",
                    "text": "Warning message:\n\u201cglm.fit: fitted probabilities numerically 0 or 1 occurred\u201d",
                    "name": "stderr"
                },
                {
                    "output_type": "stream",
                    "text": "Start:  AIC=110.13\nManipulater ~ 1\n\n       Df Deviance    AIC\n+ ACCR  1   100.74 104.74\n+ DSRI  1   101.62 105.62\n+ SGI   1   102.52 106.52\n+ SGAI  1   103.92 107.92\n+ AQI   1   106.10 110.10\n<none>      108.13 110.13\n+ DEPI  1   106.59 110.59\n+ LEVI  1   106.67 110.67\n+ GMI   1   106.89 110.89\n\nStep:  AIC=104.74\nManipulater ~ ACCR\n\n       Df Deviance     AIC\n+ DSRI  1   89.445  95.445\n+ SGAI  1   92.453  98.453\n+ AQI   1   96.195 102.195\n+ SGI   1   96.866 102.866\n+ DEPI  1   97.901 103.901\n<none>     100.736 104.736\n+ LEVI  1   98.885 104.885\n+ GMI   1   99.420 105.420\n- ACCR  1  108.131 110.131\n\nStep:  AIC=95.44\nManipulater ~ ACCR + DSRI\n\n",
                    "name": "stdout"
                },
                {
                    "output_type": "stream",
                    "text": "Warning message:\n\u201cglm.fit: fitted probabilities numerically 0 or 1 occurred\u201d",
                    "name": "stderr"
                },
                {
                    "output_type": "stream",
                    "text": "       Df Deviance     AIC\n+ SGI   1   79.463  87.463\n+ AQI   1   81.422  89.422\n+ GMI   1   85.885  93.885\n<none>      89.445  95.445\n+ DEPI  1   87.873  95.873\n+ SGAI  1   88.557  96.557\n+ LEVI  1   88.581  96.581\n- DSRI  1  100.736 104.736\n- ACCR  1  101.621 105.621\n\nStep:  AIC=87.46\nManipulater ~ ACCR + DSRI + SGI\n\n",
                    "name": "stdout"
                },
                {
                    "output_type": "stream",
                    "text": "Warning message:\n\u201cglm.fit: fitted probabilities numerically 0 or 1 occurred\u201d",
                    "name": "stderr"
                },
                {
                    "output_type": "stream",
                    "text": "       Df Deviance     AIC\n+ AQI   1   63.019  73.019\n<none>      79.463  87.463\n+ GMI   1   77.707  87.707\n+ LEVI  1   78.349  88.349\n+ SGAI  1   78.545  88.545\n+ DEPI  1   79.432  89.432\n- ACCR  1   88.700  94.700\n- SGI   1   89.445  95.445\n- DSRI  1   96.866 102.866\n",
                    "name": "stdout"
                },
                {
                    "output_type": "stream",
                    "text": "Warning message:\n\u201cglm.fit: fitted probabilities numerically 0 or 1 occurred\u201d",
                    "name": "stderr"
                },
                {
                    "output_type": "stream",
                    "text": "\nStep:  AIC=73.02\nManipulater ~ ACCR + DSRI + SGI + AQI\n\n",
                    "name": "stdout"
                },
                {
                    "output_type": "stream",
                    "text": "Warning message:\n\u201cglm.fit: fitted probabilities numerically 0 or 1 occurred\u201dWarning message:\n\u201cglm.fit: fitted probabilities numerically 0 or 1 occurred\u201dWarning message:\n\u201cglm.fit: fitted probabilities numerically 0 or 1 occurred\u201dWarning message:\n\u201cglm.fit: fitted probabilities numerically 0 or 1 occurred\u201dWarning message:\n\u201cglm.fit: fitted probabilities numerically 0 or 1 occurred\u201dWarning message:\n\u201cglm.fit: fitted probabilities numerically 0 or 1 occurred\u201d",
                    "name": "stderr"
                },
                {
                    "output_type": "stream",
                    "text": "       Df Deviance    AIC\n+ GMI   1   55.218 67.218\n<none>      63.019 73.019\n+ DEPI  1   61.184 73.184\n+ LEVI  1   62.813 74.813\n+ SGAI  1   63.018 75.018\n- ACCR  1   79.337 87.337\n- AQI   1   79.463 87.463\n- SGI   1   81.422 89.422\n- DSRI  1   91.056 99.056\n",
                    "name": "stdout"
                },
                {
                    "output_type": "stream",
                    "text": "Warning message:\n\u201cglm.fit: fitted probabilities numerically 0 or 1 occurred\u201d",
                    "name": "stderr"
                },
                {
                    "output_type": "stream",
                    "text": "\nStep:  AIC=67.22\nManipulater ~ ACCR + DSRI + SGI + AQI + GMI\n\n",
                    "name": "stdout"
                },
                {
                    "output_type": "stream",
                    "text": "Warning message:\n\u201cglm.fit: fitted probabilities numerically 0 or 1 occurred\u201dWarning message:\n\u201cglm.fit: fitted probabilities numerically 0 or 1 occurred\u201dWarning message:\n\u201cglm.fit: fitted probabilities numerically 0 or 1 occurred\u201dWarning message:\n\u201cglm.fit: fitted probabilities numerically 0 or 1 occurred\u201dWarning message:\n\u201cglm.fit: fitted probabilities numerically 0 or 1 occurred\u201dWarning message:\n\u201cglm.fit: fitted probabilities numerically 0 or 1 occurred\u201dWarning message:\n\u201cglm.fit: fitted probabilities numerically 0 or 1 occurred\u201d",
                    "name": "stderr"
                },
                {
                    "output_type": "stream",
                    "text": "       Df Deviance     AIC\n<none>      55.218  67.218\n+ DEPI  1   53.899  67.899\n+ LEVI  1   54.705  68.705\n+ SGAI  1   55.118  69.118\n- GMI   1   63.019  73.019\n- SGI   1   73.746  83.746\n- ACCR  1   77.515  87.515\n- AQI   1   77.707  87.707\n- DSRI  1   90.136 100.136\n",
                    "name": "stdout"
                },
                {
                    "output_type": "stream",
                    "text": "Warning message:\n\u201cglm.fit: fitted probabilities numerically 0 or 1 occurred\u201d",
                    "name": "stderr"
                },
                {
                    "output_type": "stream",
                    "text": "Start:  AIC=110.13\nManipulater ~ 1\n\n",
                    "name": "stdout"
                },
                {
                    "output_type": "stream",
                    "text": "Warning message:\n\u201cglm.fit: fitted probabilities numerically 0 or 1 occurred\u201d",
                    "name": "stderr"
                },
                {
                    "output_type": "stream",
                    "text": "       Df Deviance    AIC\n+ DSRI  1   97.477 101.48\n+ SGAI  1  102.525 106.53\n+ ACCR  1  105.356 109.36\n+ AQI   1  105.509 109.51\n+ SGI   1  105.524 109.52\n<none>     108.131 110.13\n+ LEVI  1  106.731 110.73\n+ GMI   1  106.866 110.87\n+ DEPI  1  108.130 112.13\n",
                    "name": "stdout"
                },
                {
                    "output_type": "stream",
                    "text": "Warning message:\n\u201cglm.fit: fitted probabilities numerically 0 or 1 occurred\u201d",
                    "name": "stderr"
                },
                {
                    "output_type": "stream",
                    "text": "\nStep:  AIC=101.48\nManipulater ~ DSRI\n\n",
                    "name": "stdout"
                },
                {
                    "output_type": "stream",
                    "text": "Warning message:\n\u201cglm.fit: fitted probabilities numerically 0 or 1 occurred\u201dWarning message:\n\u201cglm.fit: fitted probabilities numerically 0 or 1 occurred\u201dWarning message:\n\u201cglm.fit: fitted probabilities numerically 0 or 1 occurred\u201dWarning message:\n\u201cglm.fit: fitted probabilities numerically 0 or 1 occurred\u201dWarning message:\n\u201cglm.fit: fitted probabilities numerically 0 or 1 occurred\u201dWarning message:\n\u201cglm.fit: fitted probabilities numerically 0 or 1 occurred\u201dWarning message:\n\u201cglm.fit: fitted probabilities numerically 0 or 1 occurred\u201dWarning message:\n\u201cglm.fit: fitted probabilities numerically 0 or 1 occurred\u201d",
                    "name": "stderr"
                },
                {
                    "output_type": "stream",
                    "text": "       Df Deviance     AIC\n+ SGI   1   90.882  96.882\n+ ACCR  1   92.713  98.713\n+ AQI   1   93.434  99.434\n+ GMI   1   94.569 100.569\n+ SGAI  1   94.607 100.607\n<none>      97.477 101.477\n+ LEVI  1   97.216 103.216\n+ DEPI  1   97.407 103.407\n- DSRI  1  108.131 110.131\n",
                    "name": "stdout"
                },
                {
                    "output_type": "stream",
                    "text": "Warning message:\n\u201cglm.fit: fitted probabilities numerically 0 or 1 occurred\u201d",
                    "name": "stderr"
                },
                {
                    "output_type": "stream",
                    "text": "\nStep:  AIC=96.88\nManipulater ~ DSRI + SGI\n\n",
                    "name": "stdout"
                },
                {
                    "output_type": "stream",
                    "text": "Warning message:\n\u201cglm.fit: fitted probabilities numerically 0 or 1 occurred\u201dWarning message:\n\u201cglm.fit: fitted probabilities numerically 0 or 1 occurred\u201dWarning message:\n\u201cglm.fit: fitted probabilities numerically 0 or 1 occurred\u201dWarning message:\n\u201cglm.fit: fitted probabilities numerically 0 or 1 occurred\u201dWarning message:\n\u201cglm.fit: fitted probabilities numerically 0 or 1 occurred\u201dWarning message:\n\u201cglm.fit: fitted probabilities numerically 0 or 1 occurred\u201dWarning message:\n\u201cglm.fit: fitted probabilities numerically 0 or 1 occurred\u201dWarning message:\n\u201cglm.fit: fitted probabilities numerically 0 or 1 occurred\u201d",
                    "name": "stderr"
                },
                {
                    "output_type": "stream",
                    "text": "       Df Deviance     AIC\n+ AQI   1   82.984  90.984\n+ ACCR  1   86.633  94.633\n+ SGAI  1   88.036  96.036\n+ GMI   1   88.563  96.563\n<none>      90.882  96.882\n+ DEPI  1   89.307  97.307\n+ LEVI  1   90.813  98.813\n- SGI   1   97.477 101.477\n- DSRI  1  105.524 109.524\n",
                    "name": "stdout"
                },
                {
                    "output_type": "stream",
                    "text": "Warning message:\n\u201cglm.fit: fitted probabilities numerically 0 or 1 occurred\u201d",
                    "name": "stderr"
                },
                {
                    "output_type": "stream",
                    "text": "\nStep:  AIC=90.98\nManipulater ~ DSRI + SGI + AQI\n\n",
                    "name": "stdout"
                },
                {
                    "output_type": "stream",
                    "text": "Warning message:\n\u201cglm.fit: fitted probabilities numerically 0 or 1 occurred\u201dWarning message:\n\u201cglm.fit: fitted probabilities numerically 0 or 1 occurred\u201dWarning message:\n\u201cglm.fit: fitted probabilities numerically 0 or 1 occurred\u201dWarning message:\n\u201cglm.fit: fitted probabilities numerically 0 or 1 occurred\u201dWarning message:\n\u201cglm.fit: fitted probabilities numerically 0 or 1 occurred\u201dWarning message:\n\u201cglm.fit: fitted probabilities numerically 0 or 1 occurred\u201dWarning message:\n\u201cglm.fit: fitted probabilities numerically 0 or 1 occurred\u201dWarning message:\n\u201cglm.fit: fitted probabilities numerically 0 or 1 occurred\u201d",
                    "name": "stderr"
                },
                {
                    "output_type": "stream",
                    "text": "       Df Deviance     AIC\n+ ACCR  1   73.564  83.564\n+ DEPI  1   76.235  86.235\n+ GMI   1   80.028  90.028\n+ LEVI  1   80.483  90.483\n<none>      82.984  90.984\n+ SGAI  1   81.785  91.785\n- AQI   1   90.882  96.882\n- SGI   1   93.434  99.434\n- DSRI  1  102.176 108.176\n",
                    "name": "stdout"
                },
                {
                    "output_type": "stream",
                    "text": "Warning message:\n\u201cglm.fit: fitted probabilities numerically 0 or 1 occurred\u201d",
                    "name": "stderr"
                },
                {
                    "output_type": "stream",
                    "text": "\nStep:  AIC=83.56\nManipulater ~ DSRI + SGI + AQI + ACCR\n\n",
                    "name": "stdout"
                },
                {
                    "output_type": "stream",
                    "text": "Warning message:\n\u201cglm.fit: fitted probabilities numerically 0 or 1 occurred\u201dWarning message:\n\u201cglm.fit: fitted probabilities numerically 0 or 1 occurred\u201dWarning message:\n\u201cglm.fit: fitted probabilities numerically 0 or 1 occurred\u201dWarning message:\n\u201cglm.fit: fitted probabilities numerically 0 or 1 occurred\u201dWarning message:\n\u201cglm.fit: fitted probabilities numerically 0 or 1 occurred\u201dWarning message:\n\u201cglm.fit: fitted probabilities numerically 0 or 1 occurred\u201dWarning message:\n\u201cglm.fit: fitted probabilities numerically 0 or 1 occurred\u201dWarning message:\n\u201cglm.fit: fitted probabilities numerically 0 or 1 occurred\u201d",
                    "name": "stderr"
                },
                {
                    "output_type": "stream",
                    "text": "       Df Deviance     AIC\n+ DEPI  1   66.445  78.445\n+ GMI   1   69.875  81.875\n+ LEVI  1   71.230  83.230\n<none>      73.564  83.564\n+ SGAI  1   73.347  85.347\n- ACCR  1   82.984  90.984\n- SGI   1   85.133  93.133\n- AQI   1   86.633  94.633\n- DSRI  1   97.964 105.964\n",
                    "name": "stdout"
                },
                {
                    "output_type": "stream",
                    "text": "Warning message:\n\u201cglm.fit: fitted probabilities numerically 0 or 1 occurred\u201d",
                    "name": "stderr"
                },
                {
                    "output_type": "stream",
                    "text": "\nStep:  AIC=78.45\nManipulater ~ DSRI + SGI + AQI + ACCR + DEPI\n\n",
                    "name": "stdout"
                },
                {
                    "output_type": "stream",
                    "text": "Warning message:\n\u201cglm.fit: fitted probabilities numerically 0 or 1 occurred\u201dWarning message:\n\u201cglm.fit: fitted probabilities numerically 0 or 1 occurred\u201dWarning message:\n\u201cglm.fit: fitted probabilities numerically 0 or 1 occurred\u201dWarning message:\n\u201cglm.fit: fitted probabilities numerically 0 or 1 occurred\u201dWarning message:\n\u201cglm.fit: fitted probabilities numerically 0 or 1 occurred\u201dWarning message:\n\u201cglm.fit: fitted probabilities numerically 0 or 1 occurred\u201dWarning message:\n\u201cglm.fit: fitted probabilities numerically 0 or 1 occurred\u201dWarning message:\n\u201cglm.fit: fitted probabilities numerically 0 or 1 occurred\u201d",
                    "name": "stderr"
                },
                {
                    "output_type": "stream",
                    "text": "       Df Deviance     AIC\n+ LEVI  1   62.453  76.453\n+ GMI   1   64.124  78.124\n<none>      66.445  78.445\n+ SGAI  1   65.933  79.933\n- DEPI  1   73.564  83.564\n- ACCR  1   76.235  86.235\n- SGI   1   84.681  94.681\n- AQI   1   85.325  95.325\n- DSRI  1   97.627 107.627\n",
                    "name": "stdout"
                },
                {
                    "output_type": "stream",
                    "text": "Warning message:\n\u201cglm.fit: fitted probabilities numerically 0 or 1 occurred\u201d",
                    "name": "stderr"
                },
                {
                    "output_type": "stream",
                    "text": "\nStep:  AIC=76.45\nManipulater ~ DSRI + SGI + AQI + ACCR + DEPI + LEVI\n\n",
                    "name": "stdout"
                },
                {
                    "output_type": "stream",
                    "text": "Warning message:\n\u201cglm.fit: fitted probabilities numerically 0 or 1 occurred\u201dWarning message:\n\u201cglm.fit: fitted probabilities numerically 0 or 1 occurred\u201dWarning message:\n\u201cglm.fit: fitted probabilities numerically 0 or 1 occurred\u201dWarning message:\n\u201cglm.fit: fitted probabilities numerically 0 or 1 occurred\u201dWarning message:\n\u201cglm.fit: fitted probabilities numerically 0 or 1 occurred\u201dWarning message:\n\u201cglm.fit: fitted probabilities numerically 0 or 1 occurred\u201dWarning message:\n\u201cglm.fit: fitted probabilities numerically 0 or 1 occurred\u201dWarning message:\n\u201cglm.fit: fitted probabilities numerically 0 or 1 occurred\u201d",
                    "name": "stderr"
                },
                {
                    "output_type": "stream",
                    "text": "       Df Deviance     AIC\n<none>      62.453  76.453\n+ GMI   1   61.203  77.203\n+ SGAI  1   61.928  77.928\n- LEVI  1   66.445  78.445\n- DEPI  1   71.230  83.230\n- ACCR  1   71.955  83.955\n- SGI   1   84.631  96.631\n- AQI   1   85.325  97.325\n- DSRI  1   96.704 108.704\n",
                    "name": "stdout"
                },
                {
                    "output_type": "stream",
                    "text": "Warning message:\n\u201cglm.fit: fitted probabilities numerically 0 or 1 occurred\u201d",
                    "name": "stderr"
                },
                {
                    "output_type": "stream",
                    "text": "Start:  AIC=110.13\nManipulater ~ 1\n\n",
                    "name": "stdout"
                },
                {
                    "output_type": "stream",
                    "text": "Warning message:\n\u201cglm.fit: fitted probabilities numerically 0 or 1 occurred\u201dWarning message:\n\u201cglm.fit: fitted probabilities numerically 0 or 1 occurred\u201d",
                    "name": "stderr"
                },
                {
                    "output_type": "stream",
                    "text": "       Df Deviance    AIC\n+ DSRI  1   97.816 101.82\n+ SGAI  1  101.245 105.25\n+ GMI   1  103.153 107.15\n+ SGI   1  103.995 108.00\n+ AQI   1  104.781 108.78\n+ ACCR  1  105.069 109.07\n<none>     108.131 110.13\n+ LEVI  1  106.371 110.37\n+ DEPI  1  106.858 110.86\n",
                    "name": "stdout"
                },
                {
                    "output_type": "stream",
                    "text": "Warning message:\n\u201cglm.fit: fitted probabilities numerically 0 or 1 occurred\u201d",
                    "name": "stderr"
                },
                {
                    "output_type": "stream",
                    "text": "\nStep:  AIC=101.82\nManipulater ~ DSRI\n\n",
                    "name": "stdout"
                },
                {
                    "output_type": "stream",
                    "text": "Warning message:\n\u201cglm.fit: fitted probabilities numerically 0 or 1 occurred\u201dWarning message:\n\u201cglm.fit: fitted probabilities numerically 0 or 1 occurred\u201dWarning message:\n\u201cglm.fit: fitted probabilities numerically 0 or 1 occurred\u201dWarning message:\n\u201cglm.fit: fitted probabilities numerically 0 or 1 occurred\u201dWarning message:\n\u201cglm.fit: fitted probabilities numerically 0 or 1 occurred\u201dWarning message:\n\u201cglm.fit: fitted probabilities numerically 0 or 1 occurred\u201dWarning message:\n\u201cglm.fit: fitted probabilities numerically 0 or 1 occurred\u201dWarning message:\n\u201cglm.fit: fitted probabilities numerically 0 or 1 occurred\u201d",
                    "name": "stderr"
                },
                {
                    "output_type": "stream",
                    "text": "       Df Deviance     AIC\n+ SGI   1   86.385  92.385\n+ GMI   1   89.892  95.892\n+ ACCR  1   90.305  96.305\n+ AQI   1   93.343  99.343\n+ SGAI  1   93.421  99.421\n<none>      97.816 101.816\n+ DEPI  1   96.287 102.287\n+ LEVI  1   97.243 103.243\n- DSRI  1  108.131 110.131\n",
                    "name": "stdout"
                },
                {
                    "output_type": "stream",
                    "text": "Warning message:\n\u201cglm.fit: fitted probabilities numerically 0 or 1 occurred\u201d",
                    "name": "stderr"
                },
                {
                    "output_type": "stream",
                    "text": "\nStep:  AIC=92.39\nManipulater ~ DSRI + SGI\n\n",
                    "name": "stdout"
                },
                {
                    "output_type": "stream",
                    "text": "Warning message:\n\u201cglm.fit: fitted probabilities numerically 0 or 1 occurred\u201dWarning message:\n\u201cglm.fit: fitted probabilities numerically 0 or 1 occurred\u201dWarning message:\n\u201cglm.fit: fitted probabilities numerically 0 or 1 occurred\u201dWarning message:\n\u201cglm.fit: fitted probabilities numerically 0 or 1 occurred\u201dWarning message:\n\u201cglm.fit: fitted probabilities numerically 0 or 1 occurred\u201dWarning message:\n\u201cglm.fit: fitted probabilities numerically 0 or 1 occurred\u201dWarning message:\n\u201cglm.fit: fitted probabilities numerically 0 or 1 occurred\u201dWarning message:\n\u201cglm.fit: fitted probabilities numerically 0 or 1 occurred\u201d",
                    "name": "stderr"
                },
                {
                    "output_type": "stream",
                    "text": "       Df Deviance     AIC\n+ AQI   1   74.237  82.237\n+ ACCR  1   78.881  86.881\n+ SGAI  1   80.915  88.915\n+ GMI   1   80.988  88.988\n<none>      86.385  92.385\n+ DEPI  1   86.294  94.294\n+ LEVI  1   86.377  94.377\n- SGI   1   97.816 101.816\n- DSRI  1  103.995 107.995\n",
                    "name": "stdout"
                },
                {
                    "output_type": "stream",
                    "text": "Warning message:\n\u201cglm.fit: fitted probabilities numerically 0 or 1 occurred\u201d",
                    "name": "stderr"
                },
                {
                    "output_type": "stream",
                    "text": "\nStep:  AIC=82.24\nManipulater ~ DSRI + SGI + AQI\n\n",
                    "name": "stdout"
                },
                {
                    "output_type": "stream",
                    "text": "Warning message:\n\u201cglm.fit: fitted probabilities numerically 0 or 1 occurred\u201dWarning message:\n\u201cglm.fit: fitted probabilities numerically 0 or 1 occurred\u201dWarning message:\n\u201cglm.fit: fitted probabilities numerically 0 or 1 occurred\u201dWarning message:\n\u201cglm.fit: fitted probabilities numerically 0 or 1 occurred\u201dWarning message:\n\u201cglm.fit: fitted probabilities numerically 0 or 1 occurred\u201dWarning message:\n\u201cglm.fit: fitted probabilities numerically 0 or 1 occurred\u201dWarning message:\n\u201cglm.fit: fitted probabilities numerically 0 or 1 occurred\u201dWarning message:\n\u201cglm.fit: fitted probabilities numerically 0 or 1 occurred\u201d",
                    "name": "stderr"
                },
                {
                    "output_type": "stream",
                    "text": "       Df Deviance     AIC\n+ ACCR  1   58.968  68.968\n+ GMI   1   66.051  76.051\n+ LEVI  1   71.731  81.731\n<none>      74.237  82.237\n+ SGAI  1   72.238  82.238\n+ DEPI  1   72.622  82.622\n- AQI   1   86.385  92.385\n- SGI   1   93.343  99.343\n- DSRI  1   99.266 105.266\n",
                    "name": "stdout"
                },
                {
                    "output_type": "stream",
                    "text": "Warning message:\n\u201cglm.fit: fitted probabilities numerically 0 or 1 occurred\u201d",
                    "name": "stderr"
                },
                {
                    "output_type": "stream",
                    "text": "\nStep:  AIC=68.97\nManipulater ~ DSRI + SGI + AQI + ACCR\n\n",
                    "name": "stdout"
                },
                {
                    "output_type": "stream",
                    "text": "Warning message:\n\u201cglm.fit: fitted probabilities numerically 0 or 1 occurred\u201dWarning message:\n\u201cglm.fit: fitted probabilities numerically 0 or 1 occurred\u201dWarning message:\n\u201cglm.fit: fitted probabilities numerically 0 or 1 occurred\u201dWarning message:\n\u201cglm.fit: fitted probabilities numerically 0 or 1 occurred\u201dWarning message:\n\u201cglm.fit: fitted probabilities numerically 0 or 1 occurred\u201dWarning message:\n\u201cglm.fit: fitted probabilities numerically 0 or 1 occurred\u201dWarning message:\n\u201cglm.fit: fitted probabilities numerically 0 or 1 occurred\u201dWarning message:\n\u201cglm.fit: fitted probabilities numerically 0 or 1 occurred\u201d",
                    "name": "stderr"
                },
                {
                    "output_type": "stream",
                    "text": "       Df Deviance     AIC\n+ GMI   1   50.293  62.293\n<none>      58.968  68.968\n+ DEPI  1   57.661  69.661\n+ LEVI  1   58.123  70.123\n+ SGAI  1   58.824  70.824\n- ACCR  1   74.237  82.237\n- AQI   1   78.881  86.881\n- SGI   1   81.721  89.721\n- DSRI  1   95.246 103.246\n",
                    "name": "stdout"
                },
                {
                    "output_type": "stream",
                    "text": "Warning message:\n\u201cglm.fit: fitted probabilities numerically 0 or 1 occurred\u201d",
                    "name": "stderr"
                },
                {
                    "output_type": "stream",
                    "text": "\nStep:  AIC=62.29\nManipulater ~ DSRI + SGI + AQI + ACCR + GMI\n\n",
                    "name": "stdout"
                },
                {
                    "output_type": "stream",
                    "text": "Warning message:\n\u201cglm.fit: fitted probabilities numerically 0 or 1 occurred\u201dWarning message:\n\u201cglm.fit: fitted probabilities numerically 0 or 1 occurred\u201dWarning message:\n\u201cglm.fit: fitted probabilities numerically 0 or 1 occurred\u201dWarning message:\n\u201cglm.fit: fitted probabilities numerically 0 or 1 occurred\u201dWarning message:\n\u201cglm.fit: fitted probabilities numerically 0 or 1 occurred\u201dWarning message:\n\u201cglm.fit: fitted probabilities numerically 0 or 1 occurred\u201dWarning message:\n\u201cglm.fit: fitted probabilities numerically 0 or 1 occurred\u201dWarning message:\n\u201cglm.fit: fitted probabilities numerically 0 or 1 occurred\u201dWarning message:\n\u201cglm.fit: fitted probabilities numerically 0 or 1 occurred\u201d",
                    "name": "stderr"
                },
                {
                    "output_type": "stream",
                    "text": "       Df Deviance    AIC\n<none>      50.293 62.293\n+ DEPI  1   49.347 63.347\n+ SGAI  1   49.508 63.508\n+ LEVI  1   49.648 63.648\n- GMI   1   58.968 68.968\n- ACCR  1   66.051 76.051\n- SGI   1   67.134 77.134\n- AQI   1   72.985 82.985\n- DSRI  1   89.863 99.863\n",
                    "name": "stdout"
                },
                {
                    "output_type": "stream",
                    "text": "Warning message:\n\u201cglm.fit: fitted probabilities numerically 0 or 1 occurred\u201d",
                    "name": "stderr"
                },
                {
                    "output_type": "stream",
                    "text": "Start:  AIC=110.13\nManipulater ~ 1\n\n",
                    "name": "stdout"
                },
                {
                    "output_type": "stream",
                    "text": "Warning message:\n\u201cglm.fit: fitted probabilities numerically 0 or 1 occurred\u201d",
                    "name": "stderr"
                },
                {
                    "output_type": "stream",
                    "text": "       Df Deviance     AIC\n+ DSRI  1   95.556  99.556\n+ SGAI  1  102.285 106.285\n+ ACCR  1  102.620 106.620\n+ SGI   1  102.936 106.936\n+ DEPI  1  105.122 109.122\n+ GMI   1  106.078 110.078\n<none>     108.131 110.131\n+ AQI   1  106.503 110.503\n+ LEVI  1  106.602 110.602\n",
                    "name": "stdout"
                },
                {
                    "output_type": "stream",
                    "text": "Warning message:\n\u201cglm.fit: fitted probabilities numerically 0 or 1 occurred\u201d",
                    "name": "stderr"
                },
                {
                    "output_type": "stream",
                    "text": "\nStep:  AIC=99.56\nManipulater ~ DSRI\n\n",
                    "name": "stdout"
                },
                {
                    "output_type": "stream",
                    "text": "Warning message:\n\u201cglm.fit: fitted probabilities numerically 0 or 1 occurred\u201dWarning message:\n\u201cglm.fit: fitted probabilities numerically 0 or 1 occurred\u201dWarning message:\n\u201cglm.fit: fitted probabilities numerically 0 or 1 occurred\u201dWarning message:\n\u201cglm.fit: fitted probabilities numerically 0 or 1 occurred\u201dWarning message:\n\u201cglm.fit: fitted probabilities numerically 0 or 1 occurred\u201dWarning message:\n\u201cglm.fit: fitted probabilities numerically 0 or 1 occurred\u201dWarning message:\n\u201cglm.fit: fitted probabilities numerically 0 or 1 occurred\u201dWarning message:\n\u201cglm.fit: fitted probabilities numerically 0 or 1 occurred\u201d",
                    "name": "stderr"
                },
                {
                    "output_type": "stream",
                    "text": "       Df Deviance     AIC\n+ SGI   1   81.103  87.103\n+ ACCR  1   85.457  91.457\n+ GMI   1   90.651  96.651\n+ AQI   1   92.064  98.064\n+ SGAI  1   92.473  98.473\n+ DEPI  1   92.777  98.777\n<none>      95.556  99.556\n+ LEVI  1   95.193 101.193\n- DSRI  1  108.131 110.131\n",
                    "name": "stdout"
                },
                {
                    "output_type": "stream",
                    "text": "Warning message:\n\u201cglm.fit: fitted probabilities numerically 0 or 1 occurred\u201d",
                    "name": "stderr"
                },
                {
                    "output_type": "stream",
                    "text": "\nStep:  AIC=87.1\nManipulater ~ DSRI + SGI\n\n",
                    "name": "stdout"
                },
                {
                    "output_type": "stream",
                    "text": "Warning message:\n\u201cglm.fit: fitted probabilities numerically 0 or 1 occurred\u201dWarning message:\n\u201cglm.fit: fitted probabilities numerically 0 or 1 occurred\u201dWarning message:\n\u201cglm.fit: fitted probabilities numerically 0 or 1 occurred\u201dWarning message:\n\u201cglm.fit: fitted probabilities numerically 0 or 1 occurred\u201dWarning message:\n\u201cglm.fit: fitted probabilities numerically 0 or 1 occurred\u201dWarning message:\n\u201cglm.fit: fitted probabilities numerically 0 or 1 occurred\u201dWarning message:\n\u201cglm.fit: fitted probabilities numerically 0 or 1 occurred\u201dWarning message:\n\u201cglm.fit: fitted probabilities numerically 0 or 1 occurred\u201d",
                    "name": "stderr"
                },
                {
                    "output_type": "stream",
                    "text": "       Df Deviance     AIC\n+ AQI   1   68.490  76.490\n+ ACCR  1   73.065  81.065\n+ SGAI  1   76.908  84.908\n<none>      81.103  87.103\n+ GMI   1   79.227  87.227\n+ DEPI  1   79.841  87.841\n+ LEVI  1   81.102  89.102\n- SGI   1   95.556  99.556\n- DSRI  1  102.936 106.936\n",
                    "name": "stdout"
                },
                {
                    "output_type": "stream",
                    "text": "Warning message:\n\u201cglm.fit: fitted probabilities numerically 0 or 1 occurred\u201d",
                    "name": "stderr"
                },
                {
                    "output_type": "stream",
                    "text": "\nStep:  AIC=76.49\nManipulater ~ DSRI + SGI + AQI\n\n",
                    "name": "stdout"
                },
                {
                    "output_type": "stream",
                    "text": "Warning message:\n\u201cglm.fit: fitted probabilities numerically 0 or 1 occurred\u201dWarning message:\n\u201cglm.fit: fitted probabilities numerically 0 or 1 occurred\u201dWarning message:\n\u201cglm.fit: fitted probabilities numerically 0 or 1 occurred\u201dWarning message:\n\u201cglm.fit: fitted probabilities numerically 0 or 1 occurred\u201dWarning message:\n\u201cglm.fit: fitted probabilities numerically 0 or 1 occurred\u201dWarning message:\n\u201cglm.fit: fitted probabilities numerically 0 or 1 occurred\u201dWarning message:\n\u201cglm.fit: fitted probabilities numerically 0 or 1 occurred\u201dWarning message:\n\u201cglm.fit: fitted probabilities numerically 0 or 1 occurred\u201d",
                    "name": "stderr"
                },
                {
                    "output_type": "stream",
                    "text": "       Df Deviance     AIC\n+ ACCR  1   54.443  64.443\n+ LEVI  1   65.604  75.604\n+ GMI   1   65.644  75.644\n+ SGAI  1   66.459  76.459\n<none>      68.490  76.490\n+ DEPI  1   68.449  78.449\n- AQI   1   81.103  87.103\n- SGI   1   92.064  98.064\n- DSRI  1  100.211 106.211\n",
                    "name": "stdout"
                },
                {
                    "output_type": "stream",
                    "text": "Warning message:\n\u201cglm.fit: fitted probabilities numerically 0 or 1 occurred\u201d",
                    "name": "stderr"
                },
                {
                    "output_type": "stream",
                    "text": "\nStep:  AIC=64.44\nManipulater ~ DSRI + SGI + AQI + ACCR\n\n",
                    "name": "stdout"
                },
                {
                    "output_type": "stream",
                    "text": "Warning message:\n\u201cglm.fit: fitted probabilities numerically 0 or 1 occurred\u201dWarning message:\n\u201cglm.fit: fitted probabilities numerically 0 or 1 occurred\u201dWarning message:\n\u201cglm.fit: fitted probabilities numerically 0 or 1 occurred\u201dWarning message:\n\u201cglm.fit: fitted probabilities numerically 0 or 1 occurred\u201dWarning message:\n\u201cglm.fit: fitted probabilities numerically 0 or 1 occurred\u201dWarning message:\n\u201cglm.fit: fitted probabilities numerically 0 or 1 occurred\u201dWarning message:\n\u201cglm.fit: fitted probabilities numerically 0 or 1 occurred\u201dWarning message:\n\u201cglm.fit: fitted probabilities numerically 0 or 1 occurred\u201d",
                    "name": "stderr"
                },
                {
                    "output_type": "stream",
                    "text": "       Df Deviance     AIC\n+ GMI   1   51.091  63.091\n<none>      54.443  64.443\n+ SGAI  1   53.712  65.712\n+ LEVI  1   53.768  65.768\n+ DEPI  1   54.252  66.252\n- ACCR  1   68.490  76.490\n- AQI   1   73.065  81.065\n- SGI   1   77.926  85.926\n- DSRI  1   94.509 102.509\n",
                    "name": "stdout"
                },
                {
                    "output_type": "stream",
                    "text": "Warning message:\n\u201cglm.fit: fitted probabilities numerically 0 or 1 occurred\u201d",
                    "name": "stderr"
                },
                {
                    "output_type": "stream",
                    "text": "\nStep:  AIC=63.09\nManipulater ~ DSRI + SGI + AQI + ACCR + GMI\n\n",
                    "name": "stdout"
                },
                {
                    "output_type": "stream",
                    "text": "Warning message:\n\u201cglm.fit: fitted probabilities numerically 0 or 1 occurred\u201dWarning message:\n\u201cglm.fit: fitted probabilities numerically 0 or 1 occurred\u201dWarning message:\n\u201cglm.fit: fitted probabilities numerically 0 or 1 occurred\u201dWarning message:\n\u201cglm.fit: fitted probabilities numerically 0 or 1 occurred\u201dWarning message:\n\u201cglm.fit: fitted probabilities numerically 0 or 1 occurred\u201dWarning message:\n\u201cglm.fit: fitted probabilities numerically 0 or 1 occurred\u201dWarning message:\n\u201cglm.fit: fitted probabilities numerically 0 or 1 occurred\u201dWarning message:\n\u201cglm.fit: fitted probabilities numerically 0 or 1 occurred\u201d",
                    "name": "stderr"
                },
                {
                    "output_type": "stream",
                    "text": "       Df Deviance     AIC\n<none>      51.091  63.091\n+ SGAI  1   49.203  63.203\n- GMI   1   54.443  64.443\n+ LEVI  1   50.596  64.596\n+ DEPI  1   51.071  65.071\n- ACCR  1   65.644  75.644\n- SGI   1   68.695  78.695\n- AQI   1   70.804  80.804\n- DSRI  1   92.842 102.842\n",
                    "name": "stdout"
                },
                {
                    "output_type": "stream",
                    "text": "Warning message:\n\u201cglm.fit: fitted probabilities numerically 0 or 1 occurred\u201d",
                    "name": "stderr"
                },
                {
                    "output_type": "stream",
                    "text": "Start:  AIC=110.13\nManipulater ~ 1\n\n",
                    "name": "stdout"
                },
                {
                    "output_type": "stream",
                    "text": "Warning message:\n\u201cglm.fit: fitted probabilities numerically 0 or 1 occurred\u201d",
                    "name": "stderr"
                },
                {
                    "output_type": "stream",
                    "text": "       Df Deviance    AIC\n+ DSRI  1   96.073 100.07\n+ ACCR  1  102.154 106.15\n+ SGI   1  104.438 108.44\n+ AQI   1  104.941 108.94\n+ SGAI  1  105.664 109.66\n<none>     108.131 110.13\n+ LEVI  1  106.819 110.82\n+ GMI   1  106.903 110.90\n+ DEPI  1  107.836 111.84\n",
                    "name": "stdout"
                },
                {
                    "output_type": "stream",
                    "text": "Warning message:\n\u201cglm.fit: fitted probabilities numerically 0 or 1 occurred\u201d",
                    "name": "stderr"
                },
                {
                    "output_type": "stream",
                    "text": "\nStep:  AIC=100.07\nManipulater ~ DSRI\n\n",
                    "name": "stdout"
                },
                {
                    "output_type": "stream",
                    "text": "Warning message:\n\u201cglm.fit: fitted probabilities numerically 0 or 1 occurred\u201dWarning message:\n\u201cglm.fit: fitted probabilities numerically 0 or 1 occurred\u201dWarning message:\n\u201cglm.fit: fitted probabilities numerically 0 or 1 occurred\u201dWarning message:\n\u201cglm.fit: fitted probabilities numerically 0 or 1 occurred\u201dWarning message:\n\u201cglm.fit: fitted probabilities numerically 0 or 1 occurred\u201dWarning message:\n\u201cglm.fit: fitted probabilities numerically 0 or 1 occurred\u201dWarning message:\n\u201cglm.fit: fitted probabilities numerically 0 or 1 occurred\u201dWarning message:\n\u201cglm.fit: fitted probabilities numerically 0 or 1 occurred\u201d",
                    "name": "stderr"
                },
                {
                    "output_type": "stream",
                    "text": "       Df Deviance     AIC\n+ SGI   1   84.998  90.998\n+ ACCR  1   85.840  91.840\n+ AQI   1   91.164  97.164\n+ GMI   1   92.631  98.631\n<none>      96.073 100.073\n+ DEPI  1   95.753 101.753\n+ LEVI  1   95.767 101.767\n+ SGAI  1   95.820 101.820\n- DSRI  1  108.131 110.131\n",
                    "name": "stdout"
                },
                {
                    "output_type": "stream",
                    "text": "Warning message:\n\u201cglm.fit: fitted probabilities numerically 0 or 1 occurred\u201d",
                    "name": "stderr"
                },
                {
                    "output_type": "stream",
                    "text": "\nStep:  AIC=91\nManipulater ~ DSRI + SGI\n\n",
                    "name": "stdout"
                },
                {
                    "output_type": "stream",
                    "text": "Warning message:\n\u201cglm.fit: fitted probabilities numerically 0 or 1 occurred\u201dWarning message:\n\u201cglm.fit: fitted probabilities numerically 0 or 1 occurred\u201dWarning message:\n\u201cglm.fit: fitted probabilities numerically 0 or 1 occurred\u201dWarning message:\n\u201cglm.fit: fitted probabilities numerically 0 or 1 occurred\u201dWarning message:\n\u201cglm.fit: fitted probabilities numerically 0 or 1 occurred\u201dWarning message:\n\u201cglm.fit: fitted probabilities numerically 0 or 1 occurred\u201dWarning message:\n\u201cglm.fit: fitted probabilities numerically 0 or 1 occurred\u201dWarning message:\n\u201cglm.fit: fitted probabilities numerically 0 or 1 occurred\u201d",
                    "name": "stderr"
                },
                {
                    "output_type": "stream",
                    "text": "       Df Deviance     AIC\n+ AQI   1   71.063  79.063\n+ ACCR  1   76.324  84.324\n<none>      84.998  90.998\n+ GMI   1   83.000  91.000\n+ DEPI  1   84.394  92.394\n+ LEVI  1   84.874  92.874\n+ SGAI  1   84.954  92.954\n- SGI   1   96.073 100.073\n- DSRI  1  104.438 108.438\n",
                    "name": "stdout"
                },
                {
                    "output_type": "stream",
                    "text": "Warning message:\n\u201cglm.fit: fitted probabilities numerically 0 or 1 occurred\u201d",
                    "name": "stderr"
                },
                {
                    "output_type": "stream",
                    "text": "\nStep:  AIC=79.06\nManipulater ~ DSRI + SGI + AQI\n\n",
                    "name": "stdout"
                },
                {
                    "output_type": "stream",
                    "text": "Warning message:\n\u201cglm.fit: fitted probabilities numerically 0 or 1 occurred\u201dWarning message:\n\u201cglm.fit: fitted probabilities numerically 0 or 1 occurred\u201dWarning message:\n\u201cglm.fit: fitted probabilities numerically 0 or 1 occurred\u201dWarning message:\n\u201cglm.fit: fitted probabilities numerically 0 or 1 occurred\u201dWarning message:\n\u201cglm.fit: fitted probabilities numerically 0 or 1 occurred\u201dWarning message:\n\u201cglm.fit: fitted probabilities numerically 0 or 1 occurred\u201dWarning message:\n\u201cglm.fit: fitted probabilities numerically 0 or 1 occurred\u201dWarning message:\n\u201cglm.fit: fitted probabilities numerically 0 or 1 occurred\u201d",
                    "name": "stderr"
                },
                {
                    "output_type": "stream",
                    "text": "       Df Deviance     AIC\n+ ACCR  1   50.770  60.770\n+ DEPI  1   63.557  73.557\n+ LEVI  1   66.703  76.703\n+ GMI   1   68.949  78.949\n<none>      71.063  79.063\n+ SGAI  1   70.991  80.991\n- AQI   1   84.998  90.998\n- SGI   1   91.164  97.164\n- DSRI  1  100.041 106.041\n",
                    "name": "stdout"
                },
                {
                    "output_type": "stream",
                    "text": "Warning message:\n\u201cglm.fit: fitted probabilities numerically 0 or 1 occurred\u201d",
                    "name": "stderr"
                },
                {
                    "output_type": "stream",
                    "text": "\nStep:  AIC=60.77\nManipulater ~ DSRI + SGI + AQI + ACCR\n\n",
                    "name": "stdout"
                },
                {
                    "output_type": "stream",
                    "text": "Warning message:\n\u201cglm.fit: fitted probabilities numerically 0 or 1 occurred\u201dWarning message:\n\u201cglm.fit: fitted probabilities numerically 0 or 1 occurred\u201dWarning message:\n\u201cglm.fit: fitted probabilities numerically 0 or 1 occurred\u201dWarning message:\n\u201cglm.fit: fitted probabilities numerically 0 or 1 occurred\u201dWarning message:\n\u201cglm.fit: fitted probabilities numerically 0 or 1 occurred\u201dWarning message:\n\u201cglm.fit: fitted probabilities numerically 0 or 1 occurred\u201dWarning message:\n\u201cglm.fit: fitted probabilities numerically 0 or 1 occurred\u201dWarning message:\n\u201cglm.fit: fitted probabilities numerically 0 or 1 occurred\u201d",
                    "name": "stderr"
                },
                {
                    "output_type": "stream",
                    "text": "       Df Deviance     AIC\n+ DEPI  1   44.122  56.122\n+ LEVI  1   48.658  60.658\n+ GMI   1   48.709  60.709\n<none>      50.770  60.770\n+ SGAI  1   50.083  62.083\n- ACCR  1   71.063  79.063\n- SGI   1   74.854  82.854\n- AQI   1   76.324  84.324\n- DSRI  1   92.236 100.236\n",
                    "name": "stdout"
                },
                {
                    "output_type": "stream",
                    "text": "Warning message:\n\u201cglm.fit: fitted probabilities numerically 0 or 1 occurred\u201d",
                    "name": "stderr"
                },
                {
                    "output_type": "stream",
                    "text": "\nStep:  AIC=56.12\nManipulater ~ DSRI + SGI + AQI + ACCR + DEPI\n\n",
                    "name": "stdout"
                },
                {
                    "output_type": "stream",
                    "text": "Warning message:\n\u201cglm.fit: fitted probabilities numerically 0 or 1 occurred\u201dWarning message:\n\u201cglm.fit: fitted probabilities numerically 0 or 1 occurred\u201dWarning message:\n\u201cglm.fit: fitted probabilities numerically 0 or 1 occurred\u201dWarning message:\n\u201cglm.fit: fitted probabilities numerically 0 or 1 occurred\u201dWarning message:\n\u201cglm.fit: fitted probabilities numerically 0 or 1 occurred\u201dWarning message:\n\u201cglm.fit: fitted probabilities numerically 0 or 1 occurred\u201dWarning message:\n\u201cglm.fit: fitted probabilities numerically 0 or 1 occurred\u201dWarning message:\n\u201cglm.fit: fitted probabilities numerically 0 or 1 occurred\u201d",
                    "name": "stderr"
                },
                {
                    "output_type": "stream",
                    "text": "       Df Deviance     AIC\n+ LEVI  1   40.500  54.500\n<none>      44.122  56.122\n+ GMI   1   43.556  57.556\n+ SGAI  1   43.776  57.776\n- DEPI  1   50.770  60.770\n- ACCR  1   63.557  73.557\n- SGI   1   74.063  84.063\n- AQI   1   76.293  86.293\n- DSRI  1   92.212 102.212\n",
                    "name": "stdout"
                },
                {
                    "output_type": "stream",
                    "text": "Warning message:\n\u201cglm.fit: fitted probabilities numerically 0 or 1 occurred\u201d",
                    "name": "stderr"
                },
                {
                    "output_type": "stream",
                    "text": "\nStep:  AIC=54.5\nManipulater ~ DSRI + SGI + AQI + ACCR + DEPI + LEVI\n\n",
                    "name": "stdout"
                },
                {
                    "output_type": "stream",
                    "text": "Warning message:\n\u201cglm.fit: fitted probabilities numerically 0 or 1 occurred\u201dWarning message:\n\u201cglm.fit: fitted probabilities numerically 0 or 1 occurred\u201dWarning message:\n\u201cglm.fit: fitted probabilities numerically 0 or 1 occurred\u201dWarning message:\n\u201cglm.fit: fitted probabilities numerically 0 or 1 occurred\u201dWarning message:\n\u201cglm.fit: fitted probabilities numerically 0 or 1 occurred\u201dWarning message:\n\u201cglm.fit: fitted probabilities numerically 0 or 1 occurred\u201dWarning message:\n\u201cglm.fit: fitted probabilities numerically 0 or 1 occurred\u201dWarning message:\n\u201cglm.fit: fitted probabilities numerically 0 or 1 occurred\u201d",
                    "name": "stderr"
                },
                {
                    "output_type": "stream",
                    "text": "       Df Deviance     AIC\n<none>      40.500  54.500\n+ SGAI  1   39.405  55.405\n+ GMI   1   40.106  56.106\n- LEVI  1   44.122  56.122\n- DEPI  1   48.658  60.658\n- ACCR  1   57.643  69.643\n- SGI   1   74.049  86.049\n- AQI   1   76.090  88.090\n- DSRI  1   91.382 103.382\n",
                    "name": "stdout"
                },
                {
                    "output_type": "stream",
                    "text": "Warning message:\n\u201cglm.fit: fitted probabilities numerically 0 or 1 occurred\u201d",
                    "name": "stderr"
                },
                {
                    "output_type": "stream",
                    "text": "Start:  AIC=110.13\nManipulater ~ 1\n\n",
                    "name": "stdout"
                },
                {
                    "output_type": "stream",
                    "text": "Warning message:\n\u201cglm.fit: fitted probabilities numerically 0 or 1 occurred\u201d",
                    "name": "stderr"
                },
                {
                    "output_type": "stream",
                    "text": "       Df Deviance    AIC\n+ DSRI  1   96.261 100.26\n+ SGAI  1  103.536 107.54\n+ ACCR  1  104.776 108.78\n+ SGI   1  105.147 109.15\n+ DEPI  1  105.346 109.35\n+ AQI   1  105.898 109.90\n<none>     108.131 110.13\n+ LEVI  1  107.096 111.10\n+ GMI   1  107.125 111.12\n",
                    "name": "stdout"
                },
                {
                    "output_type": "stream",
                    "text": "Warning message:\n\u201cglm.fit: fitted probabilities numerically 0 or 1 occurred\u201d",
                    "name": "stderr"
                },
                {
                    "output_type": "stream",
                    "text": "\nStep:  AIC=100.26\nManipulater ~ DSRI\n\n",
                    "name": "stdout"
                },
                {
                    "output_type": "stream",
                    "text": "Warning message:\n\u201cglm.fit: fitted probabilities numerically 0 or 1 occurred\u201dWarning message:\n\u201cglm.fit: fitted probabilities numerically 0 or 1 occurred\u201dWarning message:\n\u201cglm.fit: fitted probabilities numerically 0 or 1 occurred\u201dWarning message:\n\u201cglm.fit: fitted probabilities numerically 0 or 1 occurred\u201dWarning message:\n\u201cglm.fit: fitted probabilities numerically 0 or 1 occurred\u201dWarning message:\n\u201cglm.fit: fitted probabilities numerically 0 or 1 occurred\u201dWarning message:\n\u201cglm.fit: fitted probabilities numerically 0 or 1 occurred\u201dWarning message:\n\u201cglm.fit: fitted probabilities numerically 0 or 1 occurred\u201d",
                    "name": "stderr"
                },
                {
                    "output_type": "stream",
                    "text": "       Df Deviance     AIC\n+ ACCR  1   87.740  93.740\n+ SGI   1   89.205  95.205\n+ DEPI  1   92.413  98.413\n+ AQI   1   92.598  98.598\n+ GMI   1   92.993  98.993\n+ SGAI  1   94.250 100.250\n<none>      96.261 100.261\n+ LEVI  1   96.148 102.148\n- DSRI  1  108.131 110.131\n",
                    "name": "stdout"
                },
                {
                    "output_type": "stream",
                    "text": "Warning message:\n\u201cglm.fit: fitted probabilities numerically 0 or 1 occurred\u201d",
                    "name": "stderr"
                },
                {
                    "output_type": "stream",
                    "text": "\nStep:  AIC=93.74\nManipulater ~ DSRI + ACCR\n\n",
                    "name": "stdout"
                },
                {
                    "output_type": "stream",
                    "text": "Warning message:\n\u201cglm.fit: fitted probabilities numerically 0 or 1 occurred\u201dWarning message:\n\u201cglm.fit: fitted probabilities numerically 0 or 1 occurred\u201dWarning message:\n\u201cglm.fit: fitted probabilities numerically 0 or 1 occurred\u201dWarning message:\n\u201cglm.fit: fitted probabilities numerically 0 or 1 occurred\u201dWarning message:\n\u201cglm.fit: fitted probabilities numerically 0 or 1 occurred\u201dWarning message:\n\u201cglm.fit: fitted probabilities numerically 0 or 1 occurred\u201dWarning message:\n\u201cglm.fit: fitted probabilities numerically 0 or 1 occurred\u201dWarning message:\n\u201cglm.fit: fitted probabilities numerically 0 or 1 occurred\u201d",
                    "name": "stderr"
                },
                {
                    "output_type": "stream",
                    "text": "       Df Deviance     AIC\n+ AQI   1   77.817  85.817\n+ SGI   1   81.697  89.697\n+ DEPI  1   82.731  90.731\n+ GMI   1   83.332  91.332\n<none>      87.740  93.740\n+ SGAI  1   86.787  94.787\n+ LEVI  1   87.351  95.351\n- ACCR  1   96.261 100.261\n- DSRI  1  104.776 108.776\n",
                    "name": "stdout"
                },
                {
                    "output_type": "stream",
                    "text": "Warning message:\n\u201cglm.fit: fitted probabilities numerically 0 or 1 occurred\u201d",
                    "name": "stderr"
                },
                {
                    "output_type": "stream",
                    "text": "\nStep:  AIC=85.82\nManipulater ~ DSRI + ACCR + AQI\n\n",
                    "name": "stdout"
                },
                {
                    "output_type": "stream",
                    "text": "Warning message:\n\u201cglm.fit: fitted probabilities numerically 0 or 1 occurred\u201dWarning message:\n\u201cglm.fit: fitted probabilities numerically 0 or 1 occurred\u201dWarning message:\n\u201cglm.fit: fitted probabilities numerically 0 or 1 occurred\u201dWarning message:\n\u201cglm.fit: fitted probabilities numerically 0 or 1 occurred\u201dWarning message:\n\u201cglm.fit: fitted probabilities numerically 0 or 1 occurred\u201dWarning message:\n\u201cglm.fit: fitted probabilities numerically 0 or 1 occurred\u201dWarning message:\n\u201cglm.fit: fitted probabilities numerically 0 or 1 occurred\u201dWarning message:\n\u201cglm.fit: fitted probabilities numerically 0 or 1 occurred\u201d",
                    "name": "stderr"
                },
                {
                    "output_type": "stream",
                    "text": "       Df Deviance     AIC\n+ SGI   1   66.725  76.725\n+ GMI   1   70.499  80.499\n+ DEPI  1   72.969  82.969\n<none>      77.817  85.817\n+ SGAI  1   77.700  87.700\n+ LEVI  1   77.817  87.817\n- AQI   1   87.740  93.740\n- ACCR  1   92.598  98.598\n- DSRI  1  100.766 106.766\n",
                    "name": "stdout"
                },
                {
                    "output_type": "stream",
                    "text": "Warning message:\n\u201cglm.fit: fitted probabilities numerically 0 or 1 occurred\u201d",
                    "name": "stderr"
                },
                {
                    "output_type": "stream",
                    "text": "\nStep:  AIC=76.73\nManipulater ~ DSRI + ACCR + AQI + SGI\n\n",
                    "name": "stdout"
                },
                {
                    "output_type": "stream",
                    "text": "Warning message:\n\u201cglm.fit: fitted probabilities numerically 0 or 1 occurred\u201dWarning message:\n\u201cglm.fit: fitted probabilities numerically 0 or 1 occurred\u201dWarning message:\n\u201cglm.fit: fitted probabilities numerically 0 or 1 occurred\u201dWarning message:\n\u201cglm.fit: fitted probabilities numerically 0 or 1 occurred\u201dWarning message:\n\u201cglm.fit: fitted probabilities numerically 0 or 1 occurred\u201dWarning message:\n\u201cglm.fit: fitted probabilities numerically 0 or 1 occurred\u201dWarning message:\n\u201cglm.fit: fitted probabilities numerically 0 or 1 occurred\u201dWarning message:\n\u201cglm.fit: fitted probabilities numerically 0 or 1 occurred\u201d",
                    "name": "stderr"
                },
                {
                    "output_type": "stream",
                    "text": "       Df Deviance     AIC\n+ GMI   1   61.116  73.116\n+ LEVI  1   63.978  75.978\n<none>      66.725  76.725\n+ DEPI  1   65.676  77.676\n+ SGAI  1   66.625  78.625\n- SGI   1   77.817  85.817\n- AQI   1   81.697  89.697\n- ACCR  1   81.810  89.810\n- DSRI  1   97.343 105.343\n",
                    "name": "stdout"
                },
                {
                    "output_type": "stream",
                    "text": "Warning message:\n\u201cglm.fit: fitted probabilities numerically 0 or 1 occurred\u201d",
                    "name": "stderr"
                },
                {
                    "output_type": "stream",
                    "text": "\nStep:  AIC=73.12\nManipulater ~ DSRI + ACCR + AQI + SGI + GMI\n\n",
                    "name": "stdout"
                },
                {
                    "output_type": "stream",
                    "text": "Warning message:\n\u201cglm.fit: fitted probabilities numerically 0 or 1 occurred\u201dWarning message:\n\u201cglm.fit: fitted probabilities numerically 0 or 1 occurred\u201dWarning message:\n\u201cglm.fit: fitted probabilities numerically 0 or 1 occurred\u201dWarning message:\n\u201cglm.fit: fitted probabilities numerically 0 or 1 occurred\u201dWarning message:\n\u201cglm.fit: fitted probabilities numerically 0 or 1 occurred\u201dWarning message:\n\u201cglm.fit: fitted probabilities numerically 0 or 1 occurred\u201dWarning message:\n\u201cglm.fit: fitted probabilities numerically 0 or 1 occurred\u201dWarning message:\n\u201cglm.fit: fitted probabilities numerically 0 or 1 occurred\u201d",
                    "name": "stderr"
                },
                {
                    "output_type": "stream",
                    "text": "       Df Deviance     AIC\n<none>      61.116  73.116\n+ DEPI  1   59.138  73.138\n+ LEVI  1   59.685  73.685\n+ SGAI  1   60.956  74.956\n- GMI   1   66.725  76.725\n- SGI   1   70.499  80.499\n- AQI   1   78.303  88.303\n- ACCR  1   78.723  88.723\n- DSRI  1   96.288 106.288\n",
                    "name": "stdout"
                },
                {
                    "output_type": "stream",
                    "text": "Warning message:\n\u201cglm.fit: fitted probabilities numerically 0 or 1 occurred\u201d",
                    "name": "stderr"
                },
                {
                    "output_type": "stream",
                    "text": "Start:  AIC=110.13\nManipulater ~ 1\n\n       Df Deviance    AIC\n+ DSRI  1   101.24 105.24\n+ ACCR  1   101.37 105.37\n+ SGI   1   103.81 107.81\n+ SGAI  1   104.16 108.16\n+ GMI   1   105.03 109.03\n+ AQI   1   105.81 109.81\n<none>      108.13 110.13\n+ DEPI  1   106.92 110.92\n+ LEVI  1   107.58 111.58\n\nStep:  AIC=105.24\nManipulater ~ DSRI\n\n",
                    "name": "stdout"
                },
                {
                    "output_type": "stream",
                    "text": "Warning message:\n\u201cglm.fit: fitted probabilities numerically 0 or 1 occurred\u201d",
                    "name": "stderr"
                },
                {
                    "output_type": "stream",
                    "text": "       Df Deviance     AIC\n+ ACCR  1   90.013  96.013\n+ SGI   1   91.238  97.238\n+ GMI   1   95.584 101.584\n+ AQI   1   98.230 104.230\n<none>     101.242 105.242\n+ SGAI  1   99.983 105.983\n+ DEPI  1  100.394 106.394\n+ LEVI  1  101.242 107.242\n- DSRI  1  108.131 110.131\n\nStep:  AIC=96.01\nManipulater ~ DSRI + ACCR\n\n",
                    "name": "stdout"
                },
                {
                    "output_type": "stream",
                    "text": "Warning message:\n\u201cglm.fit: fitted probabilities numerically 0 or 1 occurred\u201d",
                    "name": "stderr"
                },
                {
                    "output_type": "stream",
                    "text": "       Df Deviance     AIC\n+ SGI   1   81.076  89.076\n+ GMI   1   81.493  89.493\n+ AQI   1   82.823  90.823\n+ DEPI  1   87.429  95.429\n<none>      90.013  96.013\n+ SGAI  1   89.456  97.456\n+ LEVI  1   90.008  98.008\n- ACCR  1  101.242 105.242\n- DSRI  1  101.371 105.371\n\nStep:  AIC=89.08\nManipulater ~ DSRI + ACCR + SGI\n\n",
                    "name": "stdout"
                },
                {
                    "output_type": "stream",
                    "text": "Warning message:\n\u201cglm.fit: fitted probabilities numerically 0 or 1 occurred\u201dWarning message:\n\u201cglm.fit: fitted probabilities numerically 0 or 1 occurred\u201d",
                    "name": "stderr"
                },
                {
                    "output_type": "stream",
                    "text": "       Df Deviance     AIC\n+ AQI   1   66.693  76.693\n+ GMI   1   74.904  84.904\n<none>      81.076  89.076\n+ DEPI  1   80.473  90.473\n+ SGAI  1   80.747  90.747\n+ LEVI  1   80.869  90.869\n- SGI   1   90.013  96.013\n- ACCR  1   91.238  97.238\n- DSRI  1   98.072 104.072\n",
                    "name": "stdout"
                },
                {
                    "output_type": "stream",
                    "text": "Warning message:\n\u201cglm.fit: fitted probabilities numerically 0 or 1 occurred\u201d",
                    "name": "stderr"
                },
                {
                    "output_type": "stream",
                    "text": "\nStep:  AIC=76.69\nManipulater ~ DSRI + ACCR + SGI + AQI\n\n",
                    "name": "stdout"
                },
                {
                    "output_type": "stream",
                    "text": "Warning message:\n\u201cglm.fit: fitted probabilities numerically 0 or 1 occurred\u201dWarning message:\n\u201cglm.fit: fitted probabilities numerically 0 or 1 occurred\u201dWarning message:\n\u201cglm.fit: fitted probabilities numerically 0 or 1 occurred\u201dWarning message:\n\u201cglm.fit: fitted probabilities numerically 0 or 1 occurred\u201dWarning message:\n\u201cglm.fit: fitted probabilities numerically 0 or 1 occurred\u201d",
                    "name": "stderr"
                },
                {
                    "output_type": "stream",
                    "text": "       Df Deviance     AIC\n+ GMI   1   54.348  66.348\n<none>      66.693  76.693\n+ LEVI  1   64.990  76.990\n+ DEPI  1   66.077  78.077\n+ SGAI  1   66.554  78.554\n- AQI   1   81.076  89.076\n- SGI   1   82.823  90.823\n- ACCR  1   83.089  91.089\n- DSRI  1   92.442 100.442\n",
                    "name": "stdout"
                },
                {
                    "output_type": "stream",
                    "text": "Warning message:\n\u201cglm.fit: fitted probabilities numerically 0 or 1 occurred\u201d",
                    "name": "stderr"
                },
                {
                    "output_type": "stream",
                    "text": "\nStep:  AIC=66.35\nManipulater ~ DSRI + ACCR + SGI + AQI + GMI\n\n",
                    "name": "stdout"
                },
                {
                    "output_type": "stream",
                    "text": "Warning message:\n\u201cglm.fit: fitted probabilities numerically 0 or 1 occurred\u201dWarning message:\n\u201cglm.fit: fitted probabilities numerically 0 or 1 occurred\u201dWarning message:\n\u201cglm.fit: fitted probabilities numerically 0 or 1 occurred\u201dWarning message:\n\u201cglm.fit: fitted probabilities numerically 0 or 1 occurred\u201dWarning message:\n\u201cglm.fit: fitted probabilities numerically 0 or 1 occurred\u201dWarning message:\n\u201cglm.fit: fitted probabilities numerically 0 or 1 occurred\u201dWarning message:\n\u201cglm.fit: fitted probabilities numerically 0 or 1 occurred\u201dWarning message:\n\u201cglm.fit: fitted probabilities numerically 0 or 1 occurred\u201d",
                    "name": "stderr"
                },
                {
                    "output_type": "stream",
                    "text": "       Df Deviance    AIC\n<none>      54.348 66.348\n+ SGAI  1   53.879 67.879\n+ LEVI  1   54.070 68.070\n+ DEPI  1   54.348 68.348\n- GMI   1   66.693 76.693\n- SGI   1   69.593 79.593\n- AQI   1   74.904 84.904\n- ACCR  1   77.619 87.619\n- DSRI  1   89.250 99.250\n",
                    "name": "stdout"
                },
                {
                    "output_type": "stream",
                    "text": "Warning message:\n\u201cglm.fit: fitted probabilities numerically 0 or 1 occurred\u201d",
                    "name": "stderr"
                },
                {
                    "output_type": "stream",
                    "text": "Start:  AIC=110.13\nManipulater ~ 1\n\n       Df Deviance    AIC\n+ ACCR  1   98.175 102.17\n+ DSRI  1   98.946 102.95\n+ SGAI  1  103.958 107.96\n+ AQI   1  105.012 109.01\n+ DEPI  1  105.550 109.55\n+ SGI   1  105.764 109.76\n<none>     108.131 110.13\n+ GMI   1  106.907 110.91\n+ LEVI  1  107.699 111.70\n\nStep:  AIC=102.17\nManipulater ~ ACCR\n\n",
                    "name": "stdout"
                },
                {
                    "output_type": "stream",
                    "text": "Warning message:\n\u201cglm.fit: fitted probabilities numerically 0 or 1 occurred\u201d",
                    "name": "stderr"
                },
                {
                    "output_type": "stream",
                    "text": "       Df Deviance     AIC\n+ DSRI  1   82.076  88.076\n+ SGAI  1   88.627  94.627\n+ AQI   1   91.345  97.345\n+ DEPI  1   93.363  99.363\n<none>      98.175 102.175\n+ GMI   1   96.589 102.589\n+ SGI   1   96.884 102.884\n+ LEVI  1   97.675 103.675\n- ACCR  1  108.131 110.131\n",
                    "name": "stdout"
                },
                {
                    "output_type": "stream",
                    "text": "Warning message:\n\u201cglm.fit: fitted probabilities numerically 0 or 1 occurred\u201d",
                    "name": "stderr"
                },
                {
                    "output_type": "stream",
                    "text": "\nStep:  AIC=88.08\nManipulater ~ ACCR + DSRI\n\n",
                    "name": "stdout"
                },
                {
                    "output_type": "stream",
                    "text": "Warning message:\n\u201cglm.fit: fitted probabilities numerically 0 or 1 occurred\u201dWarning message:\n\u201cglm.fit: fitted probabilities numerically 0 or 1 occurred\u201dWarning message:\n\u201cglm.fit: fitted probabilities numerically 0 or 1 occurred\u201dWarning message:\n\u201cglm.fit: fitted probabilities numerically 0 or 1 occurred\u201dWarning message:\n\u201cglm.fit: fitted probabilities numerically 0 or 1 occurred\u201dWarning message:\n\u201cglm.fit: fitted probabilities numerically 0 or 1 occurred\u201dWarning message:\n\u201cglm.fit: fitted probabilities numerically 0 or 1 occurred\u201d",
                    "name": "stderr"
                },
                {
                    "output_type": "stream",
                    "text": "       Df Deviance     AIC\n+ AQI   1   70.126  78.126\n+ GMI   1   73.563  81.563\n+ SGI   1   79.044  87.044\n+ DEPI  1   79.144  87.144\n<none>      82.076  88.076\n+ LEVI  1   81.927  89.927\n+ SGAI  1   81.988  89.988\n- DSRI  1   98.175 102.175\n- ACCR  1   98.946 102.946\n",
                    "name": "stdout"
                },
                {
                    "output_type": "stream",
                    "text": "Warning message:\n\u201cglm.fit: fitted probabilities numerically 0 or 1 occurred\u201d",
                    "name": "stderr"
                },
                {
                    "output_type": "stream",
                    "text": "\nStep:  AIC=78.13\nManipulater ~ ACCR + DSRI + AQI\n\n",
                    "name": "stdout"
                },
                {
                    "output_type": "stream",
                    "text": "Warning message:\n\u201cglm.fit: fitted probabilities numerically 0 or 1 occurred\u201dWarning message:\n\u201cglm.fit: fitted probabilities numerically 0 or 1 occurred\u201dWarning message:\n\u201cglm.fit: fitted probabilities numerically 0 or 1 occurred\u201dWarning message:\n\u201cglm.fit: fitted probabilities numerically 0 or 1 occurred\u201dWarning message:\n\u201cglm.fit: fitted probabilities numerically 0 or 1 occurred\u201dWarning message:\n\u201cglm.fit: fitted probabilities numerically 0 or 1 occurred\u201dWarning message:\n\u201cglm.fit: fitted probabilities numerically 0 or 1 occurred\u201d",
                    "name": "stderr"
                },
                {
                    "output_type": "stream",
                    "text": "       Df Deviance     AIC\n+ GMI   1   47.706  57.706\n+ SGI   1   64.359  74.359\n+ DEPI  1   67.642  77.642\n<none>      70.126  78.126\n+ LEVI  1   68.697  78.697\n+ SGAI  1   69.912  79.912\n- AQI   1   82.076  88.076\n- DSRI  1   91.345  97.345\n- ACCR  1   94.832 100.832\n",
                    "name": "stdout"
                },
                {
                    "output_type": "stream",
                    "text": "Warning message:\n\u201cglm.fit: fitted probabilities numerically 0 or 1 occurred\u201d",
                    "name": "stderr"
                },
                {
                    "output_type": "stream",
                    "text": "\nStep:  AIC=57.71\nManipulater ~ ACCR + DSRI + AQI + GMI\n\n",
                    "name": "stdout"
                },
                {
                    "output_type": "stream",
                    "text": "Warning message:\n\u201cglm.fit: fitted probabilities numerically 0 or 1 occurred\u201dWarning message:\n\u201cglm.fit: fitted probabilities numerically 0 or 1 occurred\u201dWarning message:\n\u201cglm.fit: fitted probabilities numerically 0 or 1 occurred\u201dWarning message:\n\u201cglm.fit: fitted probabilities numerically 0 or 1 occurred\u201dWarning message:\n\u201cglm.fit: fitted probabilities numerically 0 or 1 occurred\u201dWarning message:\n\u201cglm.fit: fitted probabilities numerically 0 or 1 occurred\u201dWarning message:\n\u201cglm.fit: fitted probabilities numerically 0 or 1 occurred\u201dWarning message:\n\u201cglm.fit: fitted probabilities numerically 0 or 1 occurred\u201dWarning message:\n\u201cglm.fit: fitted probabilities numerically 0 or 1 occurred\u201d",
                    "name": "stderr"
                },
                {
                    "output_type": "stream",
                    "text": "       Df Deviance    AIC\n+ DEPI  1   41.417 53.417\n+ SGI   1   43.992 55.992\n<none>      47.706 57.706\n+ LEVI  1   47.323 59.323\n+ SGAI  1   47.468 59.468\n- GMI   1   70.126 78.126\n- AQI   1   73.563 81.563\n- DSRI  1   88.539 96.539\n- ACCR  1   90.998 98.998\n",
                    "name": "stdout"
                },
                {
                    "output_type": "stream",
                    "text": "Warning message:\n\u201cglm.fit: fitted probabilities numerically 0 or 1 occurred\u201d",
                    "name": "stderr"
                },
                {
                    "output_type": "stream",
                    "text": "\nStep:  AIC=53.42\nManipulater ~ ACCR + DSRI + AQI + GMI + DEPI\n\n",
                    "name": "stdout"
                },
                {
                    "output_type": "stream",
                    "text": "Warning message:\n\u201cglm.fit: fitted probabilities numerically 0 or 1 occurred\u201dWarning message:\n\u201cglm.fit: fitted probabilities numerically 0 or 1 occurred\u201dWarning message:\n\u201cglm.fit: fitted probabilities numerically 0 or 1 occurred\u201dWarning message:\n\u201cglm.fit: fitted probabilities numerically 0 or 1 occurred\u201dWarning message:\n\u201cglm.fit: fitted probabilities numerically 0 or 1 occurred\u201dWarning message:\n\u201cglm.fit: fitted probabilities numerically 0 or 1 occurred\u201dWarning message:\n\u201cglm.fit: fitted probabilities numerically 0 or 1 occurred\u201dWarning message:\n\u201cglm.fit: fitted probabilities numerically 0 or 1 occurred\u201dWarning message:\n\u201cglm.fit: fitted probabilities numerically 0 or 1 occurred\u201d",
                    "name": "stderr"
                },
                {
                    "output_type": "stream",
                    "text": "       Df Deviance    AIC\n+ SGI   1   38.961 52.961\n<none>      41.417 53.417\n+ SGAI  1   40.501 54.501\n+ LEVI  1   40.755 54.755\n- DEPI  1   47.706 57.706\n- GMI   1   67.642 77.642\n- AQI   1   68.273 78.273\n- DSRI  1   84.154 94.154\n- ACCR  1   89.737 99.737\n",
                    "name": "stdout"
                },
                {
                    "output_type": "stream",
                    "text": "Warning message:\n\u201cglm.fit: fitted probabilities numerically 0 or 1 occurred\u201d",
                    "name": "stderr"
                },
                {
                    "output_type": "stream",
                    "text": "\nStep:  AIC=52.96\nManipulater ~ ACCR + DSRI + AQI + GMI + DEPI + SGI\n\n",
                    "name": "stdout"
                },
                {
                    "output_type": "stream",
                    "text": "Warning message:\n\u201cglm.fit: fitted probabilities numerically 0 or 1 occurred\u201dWarning message:\n\u201cglm.fit: fitted probabilities numerically 0 or 1 occurred\u201dWarning message:\n\u201cglm.fit: fitted probabilities numerically 0 or 1 occurred\u201dWarning message:\n\u201cglm.fit: fitted probabilities numerically 0 or 1 occurred\u201dWarning message:\n\u201cglm.fit: fitted probabilities numerically 0 or 1 occurred\u201dWarning message:\n\u201cglm.fit: fitted probabilities numerically 0 or 1 occurred\u201dWarning message:\n\u201cglm.fit: fitted probabilities numerically 0 or 1 occurred\u201dWarning message:\n\u201cglm.fit: fitted probabilities numerically 0 or 1 occurred\u201dWarning message:\n\u201cglm.fit: fitted probabilities numerically 0 or 1 occurred\u201d",
                    "name": "stderr"
                },
                {
                    "output_type": "stream",
                    "text": "       Df Deviance    AIC\n<none>      38.961 52.961\n- SGI   1   41.417 53.417\n+ LEVI  1   37.890 53.890\n+ SGAI  1   38.685 54.685\n- DEPI  1   43.992 55.992\n- GMI   1   63.905 75.905\n- AQI   1   67.630 79.630\n- ACCR  1   82.306 94.306\n- DSRI  1   83.681 95.681\n",
                    "name": "stdout"
                },
                {
                    "output_type": "stream",
                    "text": "Warning message:\n\u201cglm.fit: fitted probabilities numerically 0 or 1 occurred\u201d",
                    "name": "stderr"
                },
                {
                    "output_type": "stream",
                    "text": "Start:  AIC=110.13\nManipulater ~ 1\n\n",
                    "name": "stdout"
                },
                {
                    "output_type": "stream",
                    "text": "Warning message:\n\u201cglm.fit: fitted probabilities numerically 0 or 1 occurred\u201d",
                    "name": "stderr"
                },
                {
                    "output_type": "stream",
                    "text": "       Df Deviance    AIC\n+ DSRI  1    92.75  96.75\n+ SGAI  1   102.61 106.61\n+ ACCR  1   103.66 107.66\n+ SGI   1   104.31 108.31\n+ AQI   1   105.36 109.36\n<none>      108.13 110.13\n+ GMI   1   106.54 110.54\n+ LEVI  1   106.83 110.83\n+ DEPI  1   107.97 111.97\n",
                    "name": "stdout"
                },
                {
                    "output_type": "stream",
                    "text": "Warning message:\n\u201cglm.fit: fitted probabilities numerically 0 or 1 occurred\u201d",
                    "name": "stderr"
                },
                {
                    "output_type": "stream",
                    "text": "\nStep:  AIC=96.75\nManipulater ~ DSRI\n\n",
                    "name": "stdout"
                },
                {
                    "output_type": "stream",
                    "text": "Warning message:\n\u201cglm.fit: fitted probabilities numerically 0 or 1 occurred\u201dWarning message:\n\u201cglm.fit: fitted probabilities numerically 0 or 1 occurred\u201dWarning message:\n\u201cglm.fit: fitted probabilities numerically 0 or 1 occurred\u201dWarning message:\n\u201cglm.fit: fitted probabilities numerically 0 or 1 occurred\u201dWarning message:\n\u201cglm.fit: fitted probabilities numerically 0 or 1 occurred\u201dWarning message:\n\u201cglm.fit: fitted probabilities numerically 0 or 1 occurred\u201dWarning message:\n\u201cglm.fit: fitted probabilities numerically 0 or 1 occurred\u201dWarning message:\n\u201cglm.fit: fitted probabilities numerically 0 or 1 occurred\u201d",
                    "name": "stderr"
                },
                {
                    "output_type": "stream",
                    "text": "       Df Deviance     AIC\n+ SGI   1   80.300  86.300\n+ ACCR  1   83.745  89.745\n+ GMI   1   87.868  93.868\n+ AQI   1   88.054  94.054\n+ SGAI  1   90.357  96.357\n<none>      92.750  96.750\n+ DEPI  1   92.472  98.472\n+ LEVI  1   92.501  98.501\n- DSRI  1  108.131 110.131\n",
                    "name": "stdout"
                },
                {
                    "output_type": "stream",
                    "text": "Warning message:\n\u201cglm.fit: fitted probabilities numerically 0 or 1 occurred\u201d",
                    "name": "stderr"
                },
                {
                    "output_type": "stream",
                    "text": "\nStep:  AIC=86.3\nManipulater ~ DSRI + SGI\n\n",
                    "name": "stdout"
                },
                {
                    "output_type": "stream",
                    "text": "Warning message:\n\u201cglm.fit: fitted probabilities numerically 0 or 1 occurred\u201dWarning message:\n\u201cglm.fit: fitted probabilities numerically 0 or 1 occurred\u201dWarning message:\n\u201cglm.fit: fitted probabilities numerically 0 or 1 occurred\u201dWarning message:\n\u201cglm.fit: fitted probabilities numerically 0 or 1 occurred\u201dWarning message:\n\u201cglm.fit: fitted probabilities numerically 0 or 1 occurred\u201dWarning message:\n\u201cglm.fit: fitted probabilities numerically 0 or 1 occurred\u201dWarning message:\n\u201cglm.fit: fitted probabilities numerically 0 or 1 occurred\u201dWarning message:\n\u201cglm.fit: fitted probabilities numerically 0 or 1 occurred\u201d",
                    "name": "stderr"
                },
                {
                    "output_type": "stream",
                    "text": "       Df Deviance     AIC\n+ AQI   1   63.839  71.839\n+ ACCR  1   73.158  81.158\n+ SGAI  1   77.475  85.475\n+ GMI   1   77.649  85.649\n<none>      80.300  86.300\n+ LEVI  1   80.090  88.090\n+ DEPI  1   80.159  88.159\n- SGI   1   92.750  96.750\n- DSRI  1  104.314 108.314\n",
                    "name": "stdout"
                },
                {
                    "output_type": "stream",
                    "text": "Warning message:\n\u201cglm.fit: fitted probabilities numerically 0 or 1 occurred\u201d",
                    "name": "stderr"
                },
                {
                    "output_type": "stream",
                    "text": "\nStep:  AIC=71.84\nManipulater ~ DSRI + SGI + AQI\n\n",
                    "name": "stdout"
                },
                {
                    "output_type": "stream",
                    "text": "Warning message:\n\u201cglm.fit: fitted probabilities numerically 0 or 1 occurred\u201dWarning message:\n\u201cglm.fit: fitted probabilities numerically 0 or 1 occurred\u201dWarning message:\n\u201cglm.fit: fitted probabilities numerically 0 or 1 occurred\u201dWarning message:\n\u201cglm.fit: fitted probabilities numerically 0 or 1 occurred\u201dWarning message:\n\u201cglm.fit: fitted probabilities numerically 0 or 1 occurred\u201dWarning message:\n\u201cglm.fit: fitted probabilities numerically 0 or 1 occurred\u201dWarning message:\n\u201cglm.fit: fitted probabilities numerically 0 or 1 occurred\u201dWarning message:\n\u201cglm.fit: fitted probabilities numerically 0 or 1 occurred\u201d",
                    "name": "stderr"
                },
                {
                    "output_type": "stream",
                    "text": "       Df Deviance     AIC\n+ ACCR  1   41.637  51.637\n+ LEVI  1   57.993  67.993\n+ GMI   1   59.034  69.034\n+ DEPI  1   60.396  70.396\n<none>      63.839  71.839\n+ SGAI  1   62.982  72.982\n- AQI   1   80.300  86.300\n- SGI   1   88.054  94.054\n- DSRI  1  100.239 106.239\n",
                    "name": "stdout"
                },
                {
                    "output_type": "stream",
                    "text": "Warning message:\n\u201cglm.fit: fitted probabilities numerically 0 or 1 occurred\u201d",
                    "name": "stderr"
                },
                {
                    "output_type": "stream",
                    "text": "\nStep:  AIC=51.64\nManipulater ~ DSRI + SGI + AQI + ACCR\n\n",
                    "name": "stdout"
                },
                {
                    "output_type": "stream",
                    "text": "Warning message:\n\u201cglm.fit: fitted probabilities numerically 0 or 1 occurred\u201dWarning message:\n\u201cglm.fit: fitted probabilities numerically 0 or 1 occurred\u201dWarning message:\n\u201cglm.fit: fitted probabilities numerically 0 or 1 occurred\u201dWarning message:\n\u201cglm.fit: fitted probabilities numerically 0 or 1 occurred\u201dWarning message:\n\u201cglm.fit: fitted probabilities numerically 0 or 1 occurred\u201dWarning message:\n\u201cglm.fit: fitted probabilities numerically 0 or 1 occurred\u201dWarning message:\n\u201cglm.fit: fitted probabilities numerically 0 or 1 occurred\u201dWarning message:\n\u201cglm.fit: fitted probabilities numerically 0 or 1 occurred\u201d",
                    "name": "stderr"
                },
                {
                    "output_type": "stream",
                    "text": "       Df Deviance     AIC\n+ GMI   1   35.220  47.220\n+ LEVI  1   38.572  50.572\n<none>      41.637  51.637\n+ DEPI  1   41.025  53.025\n+ SGAI  1   41.596  53.596\n- ACCR  1   63.839  71.839\n- SGI   1   71.614  79.614\n- AQI   1   73.158  81.158\n- DSRI  1   94.000 102.000\n",
                    "name": "stdout"
                },
                {
                    "output_type": "stream",
                    "text": "Warning message:\n\u201cglm.fit: fitted probabilities numerically 0 or 1 occurred\u201d",
                    "name": "stderr"
                },
                {
                    "output_type": "stream",
                    "text": "\nStep:  AIC=47.22\nManipulater ~ DSRI + SGI + AQI + ACCR + GMI\n\n",
                    "name": "stdout"
                },
                {
                    "output_type": "stream",
                    "text": "Warning message:\n\u201cglm.fit: fitted probabilities numerically 0 or 1 occurred\u201dWarning message:\n\u201cglm.fit: fitted probabilities numerically 0 or 1 occurred\u201dWarning message:\n\u201cglm.fit: fitted probabilities numerically 0 or 1 occurred\u201dWarning message:\n\u201cglm.fit: fitted probabilities numerically 0 or 1 occurred\u201dWarning message:\n\u201cglm.fit: fitted probabilities numerically 0 or 1 occurred\u201dWarning message:\n\u201cglm.fit: fitted probabilities numerically 0 or 1 occurred\u201dWarning message:\n\u201cglm.fit: fitted probabilities numerically 0 or 1 occurred\u201dWarning message:\n\u201cglm.fit: fitted probabilities numerically 0 or 1 occurred\u201d",
                    "name": "stderr"
                },
                {
                    "output_type": "stream",
                    "text": "       Df Deviance     AIC\n+ LEVI  1   30.873  44.873\n<none>      35.220  47.220\n+ SGAI  1   34.467  48.467\n+ DEPI  1   35.167  49.167\n- GMI   1   41.637  51.637\n- ACCR  1   59.034  69.034\n- SGI   1   59.636  69.636\n- AQI   1   70.563  80.563\n- DSRI  1   92.166 102.166\n",
                    "name": "stdout"
                },
                {
                    "output_type": "stream",
                    "text": "Warning message:\n\u201cglm.fit: fitted probabilities numerically 0 or 1 occurred\u201d",
                    "name": "stderr"
                },
                {
                    "output_type": "stream",
                    "text": "\nStep:  AIC=44.87\nManipulater ~ DSRI + SGI + AQI + ACCR + GMI + LEVI\n\n",
                    "name": "stdout"
                },
                {
                    "output_type": "stream",
                    "text": "Warning message:\n\u201cglm.fit: fitted probabilities numerically 0 or 1 occurred\u201dWarning message:\n\u201cglm.fit: fitted probabilities numerically 0 or 1 occurred\u201dWarning message:\n\u201cglm.fit: fitted probabilities numerically 0 or 1 occurred\u201dWarning message:\n\u201cglm.fit: fitted probabilities numerically 0 or 1 occurred\u201dWarning message:\n\u201cglm.fit: fitted probabilities numerically 0 or 1 occurred\u201dWarning message:\n\u201cglm.fit: fitted probabilities numerically 0 or 1 occurred\u201dWarning message:\n\u201cglm.fit: fitted probabilities numerically 0 or 1 occurred\u201dWarning message:\n\u201cglm.fit: fitted probabilities numerically 0 or 1 occurred\u201d",
                    "name": "stderr"
                },
                {
                    "output_type": "stream",
                    "text": "       Df Deviance     AIC\n<none>      30.873  44.873\n+ DEPI  1   30.459  46.459\n+ SGAI  1   30.675  46.675\n- LEVI  1   35.220  47.220\n- GMI   1   38.572  50.572\n- ACCR  1   52.125  64.125\n- SGI   1   59.636  71.636\n- AQI   1   70.184  82.184\n- DSRI  1   90.976 102.976\n",
                    "name": "stdout"
                },
                {
                    "output_type": "stream",
                    "text": "Warning message:\n\u201cglm.fit: fitted probabilities numerically 0 or 1 occurred\u201d",
                    "name": "stderr"
                },
                {
                    "output_type": "stream",
                    "text": "Start:  AIC=110.13\nManipulater ~ 1\n\n",
                    "name": "stdout"
                },
                {
                    "output_type": "stream",
                    "text": "Warning message:\n\u201cglm.fit: fitted probabilities numerically 0 or 1 occurred\u201d",
                    "name": "stderr"
                },
                {
                    "output_type": "stream",
                    "text": "       Df Deviance    AIC\n+ DSRI  1   96.262 100.26\n+ ACCR  1   99.946 103.95\n+ SGAI  1  103.643 107.64\n+ SGI   1  103.751 107.75\n+ AQI   1  105.783 109.78\n<none>     108.131 110.13\n+ GMI   1  106.797 110.80\n+ DEPI  1  106.956 110.96\n+ LEVI  1  107.583 111.58\n",
                    "name": "stdout"
                },
                {
                    "output_type": "stream",
                    "text": "Warning message:\n\u201cglm.fit: fitted probabilities numerically 0 or 1 occurred\u201d",
                    "name": "stderr"
                },
                {
                    "output_type": "stream",
                    "text": "\nStep:  AIC=100.26\nManipulater ~ DSRI\n\n",
                    "name": "stdout"
                },
                {
                    "output_type": "stream",
                    "text": "Warning message:\n\u201cglm.fit: fitted probabilities numerically 0 or 1 occurred\u201dWarning message:\n\u201cglm.fit: fitted probabilities numerically 0 or 1 occurred\u201dWarning message:\n\u201cglm.fit: fitted probabilities numerically 0 or 1 occurred\u201dWarning message:\n\u201cglm.fit: fitted probabilities numerically 0 or 1 occurred\u201dWarning message:\n\u201cglm.fit: fitted probabilities numerically 0 or 1 occurred\u201dWarning message:\n\u201cglm.fit: fitted probabilities numerically 0 or 1 occurred\u201dWarning message:\n\u201cglm.fit: fitted probabilities numerically 0 or 1 occurred\u201dWarning message:\n\u201cglm.fit: fitted probabilities numerically 0 or 1 occurred\u201d",
                    "name": "stderr"
                },
                {
                    "output_type": "stream",
                    "text": "       Df Deviance     AIC\n+ ACCR  1   81.487  87.487\n+ SGI   1   82.184  88.184\n+ AQI   1   92.455  98.455\n+ GMI   1   92.604  98.604\n<none>      96.262 100.262\n+ SGAI  1   94.298 100.298\n+ DEPI  1   95.197 101.197\n+ LEVI  1   96.260 102.260\n- DSRI  1  108.131 110.131\n",
                    "name": "stdout"
                },
                {
                    "output_type": "stream",
                    "text": "Warning message:\n\u201cglm.fit: fitted probabilities numerically 0 or 1 occurred\u201d",
                    "name": "stderr"
                },
                {
                    "output_type": "stream",
                    "text": "\nStep:  AIC=87.49\nManipulater ~ DSRI + ACCR\n\n",
                    "name": "stdout"
                },
                {
                    "output_type": "stream",
                    "text": "Warning message:\n\u201cglm.fit: fitted probabilities numerically 0 or 1 occurred\u201dWarning message:\n\u201cglm.fit: fitted probabilities numerically 0 or 1 occurred\u201dWarning message:\n\u201cglm.fit: fitted probabilities numerically 0 or 1 occurred\u201dWarning message:\n\u201cglm.fit: fitted probabilities numerically 0 or 1 occurred\u201dWarning message:\n\u201cglm.fit: fitted probabilities numerically 0 or 1 occurred\u201dWarning message:\n\u201cglm.fit: fitted probabilities numerically 0 or 1 occurred\u201dWarning message:\n\u201cglm.fit: fitted probabilities numerically 0 or 1 occurred\u201dWarning message:\n\u201cglm.fit: fitted probabilities numerically 0 or 1 occurred\u201d",
                    "name": "stderr"
                },
                {
                    "output_type": "stream",
                    "text": "       Df Deviance     AIC\n+ AQI   1   70.560  78.560\n+ SGI   1   70.733  78.733\n+ GMI   1   76.495  84.495\n+ DEPI  1   79.348  87.348\n<none>      81.487  87.487\n+ SGAI  1   80.748  88.748\n+ LEVI  1   81.299  89.299\n- ACCR  1   96.262 100.262\n- DSRI  1   99.946 103.946\n",
                    "name": "stdout"
                },
                {
                    "output_type": "stream",
                    "text": "Warning message:\n\u201cglm.fit: fitted probabilities numerically 0 or 1 occurred\u201d",
                    "name": "stderr"
                },
                {
                    "output_type": "stream",
                    "text": "\nStep:  AIC=78.56\nManipulater ~ DSRI + ACCR + AQI\n\n",
                    "name": "stdout"
                },
                {
                    "output_type": "stream",
                    "text": "Warning message:\n\u201cglm.fit: fitted probabilities numerically 0 or 1 occurred\u201dWarning message:\n\u201cglm.fit: fitted probabilities numerically 0 or 1 occurred\u201dWarning message:\n\u201cglm.fit: fitted probabilities numerically 0 or 1 occurred\u201dWarning message:\n\u201cglm.fit: fitted probabilities numerically 0 or 1 occurred\u201dWarning message:\n\u201cglm.fit: fitted probabilities numerically 0 or 1 occurred\u201dWarning message:\n\u201cglm.fit: fitted probabilities numerically 0 or 1 occurred\u201dWarning message:\n\u201cglm.fit: fitted probabilities numerically 0 or 1 occurred\u201dWarning message:\n\u201cglm.fit: fitted probabilities numerically 0 or 1 occurred\u201d",
                    "name": "stderr"
                },
                {
                    "output_type": "stream",
                    "text": "       Df Deviance     AIC\n+ SGI   1   47.971  57.971\n+ GMI   1   59.745  69.745\n<none>      70.560  78.560\n+ DEPI  1   69.407  79.407\n+ SGAI  1   70.492  80.492\n+ LEVI  1   70.544  80.544\n- AQI   1   81.487  87.487\n- ACCR  1   92.455  98.455\n- DSRI  1   94.947 100.947\n",
                    "name": "stdout"
                },
                {
                    "output_type": "stream",
                    "text": "Warning message:\n\u201cglm.fit: fitted probabilities numerically 0 or 1 occurred\u201d",
                    "name": "stderr"
                },
                {
                    "output_type": "stream",
                    "text": "\nStep:  AIC=57.97\nManipulater ~ DSRI + ACCR + AQI + SGI\n\n",
                    "name": "stdout"
                },
                {
                    "output_type": "stream",
                    "text": "Warning message:\n\u201cglm.fit: fitted probabilities numerically 0 or 1 occurred\u201dWarning message:\n\u201cglm.fit: fitted probabilities numerically 0 or 1 occurred\u201dWarning message:\n\u201cglm.fit: fitted probabilities numerically 0 or 1 occurred\u201dWarning message:\n\u201cglm.fit: fitted probabilities numerically 0 or 1 occurred\u201dWarning message:\n\u201cglm.fit: fitted probabilities numerically 0 or 1 occurred\u201dWarning message:\n\u201cglm.fit: fitted probabilities numerically 0 or 1 occurred\u201dWarning message:\n\u201cglm.fit: fitted probabilities numerically 0 or 1 occurred\u201dWarning message:\n\u201cglm.fit: fitted probabilities numerically 0 or 1 occurred\u201d",
                    "name": "stderr"
                },
                {
                    "output_type": "stream",
                    "text": "       Df Deviance    AIC\n+ GMI   1   42.669 54.669\n+ DEPI  1   45.244 57.244\n<none>      47.971 57.971\n+ SGAI  1   47.366 59.366\n+ LEVI  1   47.551 59.551\n- ACCR  1   69.132 77.132\n- SGI   1   70.560 78.560\n- AQI   1   70.733 78.733\n- DSRI  1   90.915 98.915\n",
                    "name": "stdout"
                },
                {
                    "output_type": "stream",
                    "text": "Warning message:\n\u201cglm.fit: fitted probabilities numerically 0 or 1 occurred\u201d",
                    "name": "stderr"
                },
                {
                    "output_type": "stream",
                    "text": "\nStep:  AIC=54.67\nManipulater ~ DSRI + ACCR + AQI + SGI + GMI\n\n",
                    "name": "stdout"
                },
                {
                    "output_type": "stream",
                    "text": "Warning message:\n\u201cglm.fit: fitted probabilities numerically 0 or 1 occurred\u201dWarning message:\n\u201cglm.fit: fitted probabilities numerically 0 or 1 occurred\u201dWarning message:\n\u201cglm.fit: fitted probabilities numerically 0 or 1 occurred\u201dWarning message:\n\u201cglm.fit: fitted probabilities numerically 0 or 1 occurred\u201dWarning message:\n\u201cglm.fit: fitted probabilities numerically 0 or 1 occurred\u201dWarning message:\n\u201cglm.fit: fitted probabilities numerically 0 or 1 occurred\u201dWarning message:\n\u201cglm.fit: fitted probabilities numerically 0 or 1 occurred\u201dWarning message:\n\u201cglm.fit: fitted probabilities numerically 0 or 1 occurred\u201d",
                    "name": "stderr"
                },
                {
                    "output_type": "stream",
                    "text": "       Df Deviance    AIC\n+ SGAI  1   38.455 52.455\n<none>      42.669 54.669\n+ DEPI  1   41.625 55.625\n+ LEVI  1   42.439 56.439\n- GMI   1   47.971 57.971\n- SGI   1   59.745 69.745\n- ACCR  1   66.191 76.191\n- AQI   1   68.823 78.823\n- DSRI  1   89.730 99.730\n",
                    "name": "stdout"
                },
                {
                    "output_type": "stream",
                    "text": "Warning message:\n\u201cglm.fit: fitted probabilities numerically 0 or 1 occurred\u201d",
                    "name": "stderr"
                },
                {
                    "output_type": "stream",
                    "text": "\nStep:  AIC=52.46\nManipulater ~ DSRI + ACCR + AQI + SGI + GMI + SGAI\n\n",
                    "name": "stdout"
                },
                {
                    "output_type": "stream",
                    "text": "Warning message:\n\u201cglm.fit: fitted probabilities numerically 0 or 1 occurred\u201dWarning message:\n\u201cglm.fit: fitted probabilities numerically 0 or 1 occurred\u201dWarning message:\n\u201cglm.fit: fitted probabilities numerically 0 or 1 occurred\u201dWarning message:\n\u201cglm.fit: fitted probabilities numerically 0 or 1 occurred\u201dWarning message:\n\u201cglm.fit: fitted probabilities numerically 0 or 1 occurred\u201dWarning message:\n\u201cglm.fit: fitted probabilities numerically 0 or 1 occurred\u201dWarning message:\n\u201cglm.fit: fitted probabilities numerically 0 or 1 occurred\u201dWarning message:\n\u201cglm.fit: fitted probabilities numerically 0 or 1 occurred\u201dWarning message:\n\u201cglm.fit: fitted probabilities numerically 0 or 1 occurred\u201d",
                    "name": "stderr"
                },
                {
                    "output_type": "stream",
                    "text": "       Df Deviance    AIC\n+ DEPI  1   35.144 51.144\n<none>      38.455 52.455\n+ LEVI  1   38.405 54.405\n- SGAI  1   42.669 54.669\n- GMI   1   47.366 59.366\n- SGI   1   59.238 71.238\n- ACCR  1   63.226 75.226\n- AQI   1   64.255 76.255\n- DSRI  1   69.449 81.449\n",
                    "name": "stdout"
                },
                {
                    "output_type": "stream",
                    "text": "Warning message:\n\u201cglm.fit: fitted probabilities numerically 0 or 1 occurred\u201d",
                    "name": "stderr"
                },
                {
                    "output_type": "stream",
                    "text": "\nStep:  AIC=51.14\nManipulater ~ DSRI + ACCR + AQI + SGI + GMI + SGAI + DEPI\n\n",
                    "name": "stdout"
                },
                {
                    "output_type": "stream",
                    "text": "Warning message:\n\u201cglm.fit: fitted probabilities numerically 0 or 1 occurred\u201dWarning message:\n\u201cglm.fit: fitted probabilities numerically 0 or 1 occurred\u201dWarning message:\n\u201cglm.fit: fitted probabilities numerically 0 or 1 occurred\u201dWarning message:\n\u201cglm.fit: fitted probabilities numerically 0 or 1 occurred\u201dWarning message:\n\u201cglm.fit: fitted probabilities numerically 0 or 1 occurred\u201dWarning message:\n\u201cglm.fit: fitted probabilities numerically 0 or 1 occurred\u201dWarning message:\n\u201cglm.fit: fitted probabilities numerically 0 or 1 occurred\u201dWarning message:\n\u201cglm.fit: fitted probabilities numerically 0 or 1 occurred\u201dWarning message:\n\u201cglm.fit: fitted probabilities numerically 0 or 1 occurred\u201d",
                    "name": "stderr"
                },
                {
                    "output_type": "stream",
                    "text": "       Df Deviance    AIC\n<none>      35.144 51.144\n- DEPI  1   38.455 52.455\n+ LEVI  1   35.071 53.071\n- SGAI  1   41.625 55.625\n- GMI   1   43.043 57.043\n- SGI   1   57.147 71.147\n- ACCR  1   60.515 74.515\n- AQI   1   64.226 78.226\n- DSRI  1   69.262 83.262\n",
                    "name": "stdout"
                },
                {
                    "output_type": "stream",
                    "text": "Warning message:\n\u201cglm.fit: fitted probabilities numerically 0 or 1 occurred\u201d",
                    "name": "stderr"
                },
                {
                    "output_type": "stream",
                    "text": "Start:  AIC=110.13\nManipulater ~ 1\n\n",
                    "name": "stdout"
                },
                {
                    "output_type": "stream",
                    "text": "Warning message:\n\u201cglm.fit: fitted probabilities numerically 0 or 1 occurred\u201d",
                    "name": "stderr"
                },
                {
                    "output_type": "stream",
                    "text": "       Df Deviance    AIC\n+ DSRI  1   97.423 101.42\n+ SGAI  1  102.721 106.72\n+ AQI   1  104.768 108.77\n+ ACCR  1  104.839 108.84\n+ SGI   1  104.901 108.90\n<none>     108.131 110.13\n+ GMI   1  106.644 110.64\n+ LEVI  1  106.961 110.96\n+ DEPI  1  107.223 111.22\n",
                    "name": "stdout"
                },
                {
                    "output_type": "stream",
                    "text": "Warning message:\n\u201cglm.fit: fitted probabilities numerically 0 or 1 occurred\u201d",
                    "name": "stderr"
                },
                {
                    "output_type": "stream",
                    "text": "\nStep:  AIC=101.42\nManipulater ~ DSRI\n\n",
                    "name": "stdout"
                },
                {
                    "output_type": "stream",
                    "text": "Warning message:\n\u201cglm.fit: fitted probabilities numerically 0 or 1 occurred\u201dWarning message:\n\u201cglm.fit: fitted probabilities numerically 0 or 1 occurred\u201dWarning message:\n\u201cglm.fit: fitted probabilities numerically 0 or 1 occurred\u201dWarning message:\n\u201cglm.fit: fitted probabilities numerically 0 or 1 occurred\u201dWarning message:\n\u201cglm.fit: fitted probabilities numerically 0 or 1 occurred\u201dWarning message:\n\u201cglm.fit: fitted probabilities numerically 0 or 1 occurred\u201dWarning message:\n\u201cglm.fit: fitted probabilities numerically 0 or 1 occurred\u201dWarning message:\n\u201cglm.fit: fitted probabilities numerically 0 or 1 occurred\u201d",
                    "name": "stderr"
                },
                {
                    "output_type": "stream",
                    "text": "       Df Deviance     AIC\n+ SGI   1   87.768  93.768\n+ ACCR  1   87.804  93.804\n+ AQI   1   93.000  99.000\n+ GMI   1   93.800  99.800\n+ SGAI  1   94.447 100.447\n<none>      97.423 101.423\n+ DEPI  1   96.839 102.839\n+ LEVI  1   97.196 103.196\n- DSRI  1  108.131 110.131\n",
                    "name": "stdout"
                },
                {
                    "output_type": "stream",
                    "text": "Warning message:\n\u201cglm.fit: fitted probabilities numerically 0 or 1 occurred\u201d",
                    "name": "stderr"
                },
                {
                    "output_type": "stream",
                    "text": "\nStep:  AIC=93.77\nManipulater ~ DSRI + SGI\n\n",
                    "name": "stdout"
                },
                {
                    "output_type": "stream",
                    "text": "Warning message:\n\u201cglm.fit: fitted probabilities numerically 0 or 1 occurred\u201dWarning message:\n\u201cglm.fit: fitted probabilities numerically 0 or 1 occurred\u201dWarning message:\n\u201cglm.fit: fitted probabilities numerically 0 or 1 occurred\u201dWarning message:\n\u201cglm.fit: fitted probabilities numerically 0 or 1 occurred\u201dWarning message:\n\u201cglm.fit: fitted probabilities numerically 0 or 1 occurred\u201dWarning message:\n\u201cglm.fit: fitted probabilities numerically 0 or 1 occurred\u201dWarning message:\n\u201cglm.fit: fitted probabilities numerically 0 or 1 occurred\u201dWarning message:\n\u201cglm.fit: fitted probabilities numerically 0 or 1 occurred\u201d",
                    "name": "stderr"
                },
                {
                    "output_type": "stream",
                    "text": "       Df Deviance     AIC\n+ AQI   1   76.129  84.129\n+ ACCR  1   79.335  87.335\n+ SGAI  1   84.964  92.964\n+ GMI   1   85.398  93.398\n<none>      87.768  93.768\n+ LEVI  1   87.589  95.589\n+ DEPI  1   87.713  95.713\n- SGI   1   97.423 101.423\n- DSRI  1  104.901 108.901\n",
                    "name": "stdout"
                },
                {
                    "output_type": "stream",
                    "text": "Warning message:\n\u201cglm.fit: fitted probabilities numerically 0 or 1 occurred\u201d",
                    "name": "stderr"
                },
                {
                    "output_type": "stream",
                    "text": "\nStep:  AIC=84.13\nManipulater ~ DSRI + SGI + AQI\n\n",
                    "name": "stdout"
                },
                {
                    "output_type": "stream",
                    "text": "Warning message:\n\u201cglm.fit: fitted probabilities numerically 0 or 1 occurred\u201dWarning message:\n\u201cglm.fit: fitted probabilities numerically 0 or 1 occurred\u201dWarning message:\n\u201cglm.fit: fitted probabilities numerically 0 or 1 occurred\u201dWarning message:\n\u201cglm.fit: fitted probabilities numerically 0 or 1 occurred\u201dWarning message:\n\u201cglm.fit: fitted probabilities numerically 0 or 1 occurred\u201dWarning message:\n\u201cglm.fit: fitted probabilities numerically 0 or 1 occurred\u201dWarning message:\n\u201cglm.fit: fitted probabilities numerically 0 or 1 occurred\u201dWarning message:\n\u201cglm.fit: fitted probabilities numerically 0 or 1 occurred\u201d",
                    "name": "stderr"
                },
                {
                    "output_type": "stream",
                    "text": "       Df Deviance     AIC\n+ ACCR  1   56.787  66.787\n+ LEVI  1   72.569  82.569\n+ DEPI  1   73.307  83.307\n+ GMI   1   73.770  83.770\n<none>      76.129  84.129\n+ SGAI  1   74.822  84.822\n- AQI   1   87.768  93.768\n- SGI   1   93.000  99.000\n- DSRI  1  100.652 106.652\n",
                    "name": "stdout"
                },
                {
                    "output_type": "stream",
                    "text": "Warning message:\n\u201cglm.fit: fitted probabilities numerically 0 or 1 occurred\u201d",
                    "name": "stderr"
                },
                {
                    "output_type": "stream",
                    "text": "\nStep:  AIC=66.79\nManipulater ~ DSRI + SGI + AQI + ACCR\n\n",
                    "name": "stdout"
                },
                {
                    "output_type": "stream",
                    "text": "Warning message:\n\u201cglm.fit: fitted probabilities numerically 0 or 1 occurred\u201dWarning message:\n\u201cglm.fit: fitted probabilities numerically 0 or 1 occurred\u201dWarning message:\n\u201cglm.fit: fitted probabilities numerically 0 or 1 occurred\u201dWarning message:\n\u201cglm.fit: fitted probabilities numerically 0 or 1 occurred\u201dWarning message:\n\u201cglm.fit: fitted probabilities numerically 0 or 1 occurred\u201dWarning message:\n\u201cglm.fit: fitted probabilities numerically 0 or 1 occurred\u201dWarning message:\n\u201cglm.fit: fitted probabilities numerically 0 or 1 occurred\u201dWarning message:\n\u201cglm.fit: fitted probabilities numerically 0 or 1 occurred\u201d",
                    "name": "stderr"
                },
                {
                    "output_type": "stream",
                    "text": "       Df Deviance     AIC\n+ GMI   1   52.913  64.913\n<none>      56.787  66.787\n+ DEPI  1   55.113  67.113\n+ LEVI  1   55.780  67.780\n+ SGAI  1   56.764  68.764\n- ACCR  1   76.129  84.129\n- SGI   1   76.507  84.507\n- AQI   1   79.335  87.335\n- DSRI  1   96.315 104.315\n",
                    "name": "stdout"
                },
                {
                    "output_type": "stream",
                    "text": "Warning message:\n\u201cglm.fit: fitted probabilities numerically 0 or 1 occurred\u201d",
                    "name": "stderr"
                },
                {
                    "output_type": "stream",
                    "text": "\nStep:  AIC=64.91\nManipulater ~ DSRI + SGI + AQI + ACCR + GMI\n\n",
                    "name": "stdout"
                },
                {
                    "output_type": "stream",
                    "text": "Warning message:\n\u201cglm.fit: fitted probabilities numerically 0 or 1 occurred\u201dWarning message:\n\u201cglm.fit: fitted probabilities numerically 0 or 1 occurred\u201dWarning message:\n\u201cglm.fit: fitted probabilities numerically 0 or 1 occurred\u201dWarning message:\n\u201cglm.fit: fitted probabilities numerically 0 or 1 occurred\u201dWarning message:\n\u201cglm.fit: fitted probabilities numerically 0 or 1 occurred\u201dWarning message:\n\u201cglm.fit: fitted probabilities numerically 0 or 1 occurred\u201dWarning message:\n\u201cglm.fit: fitted probabilities numerically 0 or 1 occurred\u201dWarning message:\n\u201cglm.fit: fitted probabilities numerically 0 or 1 occurred\u201d",
                    "name": "stderr"
                },
                {
                    "output_type": "stream",
                    "text": "       Df Deviance     AIC\n<none>      52.913  64.913\n+ DEPI  1   52.014  66.014\n+ LEVI  1   52.662  66.662\n+ SGAI  1   52.696  66.696\n- GMI   1   56.787  66.787\n- SGI   1   68.044  78.044\n- ACCR  1   73.770  83.770\n- AQI   1   76.112  86.112\n- DSRI  1   94.864 104.864\n",
                    "name": "stdout"
                },
                {
                    "output_type": "stream",
                    "text": "Warning message:\n\u201cglm.fit: fitted probabilities numerically 0 or 1 occurred\u201d",
                    "name": "stderr"
                },
                {
                    "output_type": "stream",
                    "text": "Start:  AIC=110.13\nManipulater ~ 1\n\n",
                    "name": "stdout"
                },
                {
                    "output_type": "stream",
                    "text": "Warning message:\n\u201cglm.fit: fitted probabilities numerically 0 or 1 occurred\u201d",
                    "name": "stderr"
                },
                {
                    "output_type": "stream",
                    "text": "       Df Deviance     AIC\n+ DSRI  1   93.903  97.903\n+ SGI   1  104.600 108.600\n+ ACCR  1  104.791 108.791\n+ SGAI  1  105.069 109.069\n+ AQI   1  105.336 109.336\n<none>     108.131 110.131\n+ LEVI  1  106.463 110.463\n+ GMI   1  106.746 110.746\n+ DEPI  1  108.078 112.078\n",
                    "name": "stdout"
                },
                {
                    "output_type": "stream",
                    "text": "Warning message:\n\u201cglm.fit: fitted probabilities numerically 0 or 1 occurred\u201d",
                    "name": "stderr"
                },
                {
                    "output_type": "stream",
                    "text": "\nStep:  AIC=97.9\nManipulater ~ DSRI\n\n",
                    "name": "stdout"
                },
                {
                    "output_type": "stream",
                    "text": "Warning message:\n\u201cglm.fit: fitted probabilities numerically 0 or 1 occurred\u201dWarning message:\n\u201cglm.fit: fitted probabilities numerically 0 or 1 occurred\u201dWarning message:\n\u201cglm.fit: fitted probabilities numerically 0 or 1 occurred\u201dWarning message:\n\u201cglm.fit: fitted probabilities numerically 0 or 1 occurred\u201dWarning message:\n\u201cglm.fit: fitted probabilities numerically 0 or 1 occurred\u201dWarning message:\n\u201cglm.fit: fitted probabilities numerically 0 or 1 occurred\u201dWarning message:\n\u201cglm.fit: fitted probabilities numerically 0 or 1 occurred\u201dWarning message:\n\u201cglm.fit: fitted probabilities numerically 0 or 1 occurred\u201d",
                    "name": "stderr"
                },
                {
                    "output_type": "stream",
                    "text": "       Df Deviance     AIC\n+ SGI   1   82.004  88.004\n+ ACCR  1   86.560  92.560\n+ GMI   1   89.314  95.314\n+ AQI   1   89.338  95.338\n<none>      93.903  97.903\n+ LEVI  1   93.296  99.296\n+ SGAI  1   93.440  99.440\n+ DEPI  1   93.765  99.765\n- DSRI  1  108.131 110.131\n",
                    "name": "stdout"
                },
                {
                    "output_type": "stream",
                    "text": "Warning message:\n\u201cglm.fit: fitted probabilities numerically 0 or 1 occurred\u201d",
                    "name": "stderr"
                },
                {
                    "output_type": "stream",
                    "text": "\nStep:  AIC=88\nManipulater ~ DSRI + SGI\n\n",
                    "name": "stdout"
                },
                {
                    "output_type": "stream",
                    "text": "Warning message:\n\u201cglm.fit: fitted probabilities numerically 0 or 1 occurred\u201dWarning message:\n\u201cglm.fit: fitted probabilities numerically 0 or 1 occurred\u201dWarning message:\n\u201cglm.fit: fitted probabilities numerically 0 or 1 occurred\u201dWarning message:\n\u201cglm.fit: fitted probabilities numerically 0 or 1 occurred\u201dWarning message:\n\u201cglm.fit: fitted probabilities numerically 0 or 1 occurred\u201dWarning message:\n\u201cglm.fit: fitted probabilities numerically 0 or 1 occurred\u201dWarning message:\n\u201cglm.fit: fitted probabilities numerically 0 or 1 occurred\u201dWarning message:\n\u201cglm.fit: fitted probabilities numerically 0 or 1 occurred\u201d",
                    "name": "stderr"
                },
                {
                    "output_type": "stream",
                    "text": "       Df Deviance     AIC\n+ AQI   1   67.521  75.521\n+ ACCR  1   76.678  84.678\n+ GMI   1   79.133  87.133\n<none>      82.004  88.004\n+ DEPI  1   81.313  89.313\n+ SGAI  1   81.588  89.588\n+ LEVI  1   81.975  89.975\n- SGI   1   93.903  97.903\n- DSRI  1  104.600 108.600\n",
                    "name": "stdout"
                },
                {
                    "output_type": "stream",
                    "text": "Warning message:\n\u201cglm.fit: fitted probabilities numerically 0 or 1 occurred\u201d",
                    "name": "stderr"
                },
                {
                    "output_type": "stream",
                    "text": "\nStep:  AIC=75.52\nManipulater ~ DSRI + SGI + AQI\n\n",
                    "name": "stdout"
                },
                {
                    "output_type": "stream",
                    "text": "Warning message:\n\u201cglm.fit: fitted probabilities numerically 0 or 1 occurred\u201dWarning message:\n\u201cglm.fit: fitted probabilities numerically 0 or 1 occurred\u201dWarning message:\n\u201cglm.fit: fitted probabilities numerically 0 or 1 occurred\u201dWarning message:\n\u201cglm.fit: fitted probabilities numerically 0 or 1 occurred\u201dWarning message:\n\u201cglm.fit: fitted probabilities numerically 0 or 1 occurred\u201dWarning message:\n\u201cglm.fit: fitted probabilities numerically 0 or 1 occurred\u201dWarning message:\n\u201cglm.fit: fitted probabilities numerically 0 or 1 occurred\u201dWarning message:\n\u201cglm.fit: fitted probabilities numerically 0 or 1 occurred\u201d",
                    "name": "stderr"
                },
                {
                    "output_type": "stream",
                    "text": "       Df Deviance     AIC\n+ ACCR  1   53.992  63.992\n+ DEPI  1   62.496  72.496\n+ GMI   1   64.108  74.108\n+ LEVI  1   65.293  75.293\n<none>      67.521  75.521\n+ SGAI  1   67.443  77.443\n- AQI   1   82.004  88.004\n- SGI   1   89.338  95.338\n- DSRI  1  100.765 106.765\n",
                    "name": "stdout"
                },
                {
                    "output_type": "stream",
                    "text": "Warning message:\n\u201cglm.fit: fitted probabilities numerically 0 or 1 occurred\u201d",
                    "name": "stderr"
                },
                {
                    "output_type": "stream",
                    "text": "\nStep:  AIC=63.99\nManipulater ~ DSRI + SGI + AQI + ACCR\n\n",
                    "name": "stdout"
                },
                {
                    "output_type": "stream",
                    "text": "Warning message:\n\u201cglm.fit: fitted probabilities numerically 0 or 1 occurred\u201dWarning message:\n\u201cglm.fit: fitted probabilities numerically 0 or 1 occurred\u201dWarning message:\n\u201cglm.fit: fitted probabilities numerically 0 or 1 occurred\u201dWarning message:\n\u201cglm.fit: fitted probabilities numerically 0 or 1 occurred\u201dWarning message:\n\u201cglm.fit: fitted probabilities numerically 0 or 1 occurred\u201dWarning message:\n\u201cglm.fit: fitted probabilities numerically 0 or 1 occurred\u201dWarning message:\n\u201cglm.fit: fitted probabilities numerically 0 or 1 occurred\u201dWarning message:\n\u201cglm.fit: fitted probabilities numerically 0 or 1 occurred\u201d",
                    "name": "stderr"
                },
                {
                    "output_type": "stream",
                    "text": "       Df Deviance     AIC\n+ DEPI  1   49.485  61.485\n+ GMI   1   50.398  62.398\n<none>      53.992  63.992\n+ LEVI  1   53.926  65.926\n+ SGAI  1   53.989  65.989\n- ACCR  1   67.521  75.521\n- SGI   1   76.136  84.136\n- AQI   1   76.678  84.678\n- DSRI  1   95.989 103.989\n",
                    "name": "stdout"
                },
                {
                    "output_type": "stream",
                    "text": "Warning message:\n\u201cglm.fit: fitted probabilities numerically 0 or 1 occurred\u201d",
                    "name": "stderr"
                },
                {
                    "output_type": "stream",
                    "text": "\nStep:  AIC=61.48\nManipulater ~ DSRI + SGI + AQI + ACCR + DEPI\n\n",
                    "name": "stdout"
                },
                {
                    "output_type": "stream",
                    "text": "Warning message:\n\u201cglm.fit: fitted probabilities numerically 0 or 1 occurred\u201dWarning message:\n\u201cglm.fit: fitted probabilities numerically 0 or 1 occurred\u201dWarning message:\n\u201cglm.fit: fitted probabilities numerically 0 or 1 occurred\u201dWarning message:\n\u201cglm.fit: fitted probabilities numerically 0 or 1 occurred\u201dWarning message:\n\u201cglm.fit: fitted probabilities numerically 0 or 1 occurred\u201dWarning message:\n\u201cglm.fit: fitted probabilities numerically 0 or 1 occurred\u201dWarning message:\n\u201cglm.fit: fitted probabilities numerically 0 or 1 occurred\u201dWarning message:\n\u201cglm.fit: fitted probabilities numerically 0 or 1 occurred\u201d",
                    "name": "stderr"
                },
                {
                    "output_type": "stream",
                    "text": "       Df Deviance     AIC\n<none>      49.485  61.485\n+ GMI   1   47.785  61.785\n+ SGAI  1   49.021  63.021\n+ LEVI  1   49.261  63.261\n- DEPI  1   53.992  63.992\n- ACCR  1   62.496  72.496\n- SGI   1   75.805  85.805\n- AQI   1   76.530  86.530\n- DSRI  1   95.966 105.966\n",
                    "name": "stdout"
                },
                {
                    "output_type": "stream",
                    "text": "Warning message:\n\u201cglm.fit: fitted probabilities numerically 0 or 1 occurred\u201d",
                    "name": "stderr"
                },
                {
                    "output_type": "stream",
                    "text": "Start:  AIC=110.13\nManipulater ~ 1\n\n       Df Deviance    AIC\n+ ACCR  1   100.71 104.71\n+ DSRI  1   101.69 105.69\n+ SGI   1   103.03 107.03\n+ SGAI  1   103.42 107.42\n+ AQI   1   104.04 108.04\n<none>      108.13 110.13\n+ LEVI  1   106.66 110.66\n+ GMI   1   106.83 110.83\n+ DEPI  1   107.44 111.44\n\nStep:  AIC=104.71\nManipulater ~ ACCR\n\n       Df Deviance     AIC\n+ DSRI  1   90.951  96.951\n+ SGAI  1   92.889  98.889\n+ AQI   1   94.348 100.348\n+ SGI   1   97.370 103.370\n+ DEPI  1   98.389 104.389\n<none>     100.706 104.706\n+ LEVI  1   99.098 105.098\n+ GMI   1   99.291 105.291\n- ACCR  1  108.131 110.131\n\nStep:  AIC=96.95\nManipulater ~ ACCR + DSRI\n\n",
                    "name": "stdout"
                },
                {
                    "output_type": "stream",
                    "text": "Warning message:\n\u201cglm.fit: fitted probabilities numerically 0 or 1 occurred\u201d",
                    "name": "stderr"
                },
                {
                    "output_type": "stream",
                    "text": "       Df Deviance     AIC\n+ AQI   1   81.670  89.670\n+ SGI   1   82.678  90.678\n+ GMI   1   86.607  94.607\n<none>      90.951  96.951\n+ SGAI  1   89.641  97.641\n+ DEPI  1   89.852  97.852\n+ LEVI  1   90.241  98.241\n- DSRI  1  100.706 104.706\n- ACCR  1  101.693 105.693\n\nStep:  AIC=89.67\nManipulater ~ ACCR + DSRI + AQI\n\n",
                    "name": "stdout"
                },
                {
                    "output_type": "stream",
                    "text": "Warning message:\n\u201cglm.fit: fitted probabilities numerically 0 or 1 occurred\u201dWarning message:\n\u201cglm.fit: fitted probabilities numerically 0 or 1 occurred\u201d",
                    "name": "stderr"
                },
                {
                    "output_type": "stream",
                    "text": "       Df Deviance     AIC\n+ SGI   1   65.044  75.044\n+ GMI   1   71.311  81.311\n<none>      81.670  89.670\n+ SGAI  1   81.019  91.019\n+ DEPI  1   81.294  91.294\n+ LEVI  1   81.626  91.626\n- AQI   1   90.951  96.951\n- DSRI  1   94.348 100.348\n- ACCR  1   97.183 103.183\n",
                    "name": "stdout"
                },
                {
                    "output_type": "stream",
                    "text": "Warning message:\n\u201cglm.fit: fitted probabilities numerically 0 or 1 occurred\u201d",
                    "name": "stderr"
                },
                {
                    "output_type": "stream",
                    "text": "\nStep:  AIC=75.04\nManipulater ~ ACCR + DSRI + AQI + SGI\n\n",
                    "name": "stdout"
                },
                {
                    "output_type": "stream",
                    "text": "Warning message:\n\u201cglm.fit: fitted probabilities numerically 0 or 1 occurred\u201dWarning message:\n\u201cglm.fit: fitted probabilities numerically 0 or 1 occurred\u201dWarning message:\n\u201cglm.fit: fitted probabilities numerically 0 or 1 occurred\u201dWarning message:\n\u201cglm.fit: fitted probabilities numerically 0 or 1 occurred\u201dWarning message:\n\u201cglm.fit: fitted probabilities numerically 0 or 1 occurred\u201d",
                    "name": "stderr"
                },
                {
                    "output_type": "stream",
                    "text": "       Df Deviance    AIC\n+ GMI   1   50.654 62.654\n<none>      65.044 75.044\n+ LEVI  1   64.669 76.669\n+ SGAI  1   64.974 76.974\n+ DEPI  1   65.021 77.021\n- ACCR  1   79.690 87.690\n- SGI   1   81.670 89.670\n- AQI   1   82.678 90.678\n- DSRI  1   89.523 97.523\n",
                    "name": "stdout"
                },
                {
                    "output_type": "stream",
                    "text": "Warning message:\n\u201cglm.fit: fitted probabilities numerically 0 or 1 occurred\u201d",
                    "name": "stderr"
                },
                {
                    "output_type": "stream",
                    "text": "\nStep:  AIC=62.65\nManipulater ~ ACCR + DSRI + AQI + SGI + GMI\n\n",
                    "name": "stdout"
                },
                {
                    "output_type": "stream",
                    "text": "Warning message:\n\u201cglm.fit: fitted probabilities numerically 0 or 1 occurred\u201dWarning message:\n\u201cglm.fit: fitted probabilities numerically 0 or 1 occurred\u201dWarning message:\n\u201cglm.fit: fitted probabilities numerically 0 or 1 occurred\u201dWarning message:\n\u201cglm.fit: fitted probabilities numerically 0 or 1 occurred\u201dWarning message:\n\u201cglm.fit: fitted probabilities numerically 0 or 1 occurred\u201dWarning message:\n\u201cglm.fit: fitted probabilities numerically 0 or 1 occurred\u201dWarning message:\n\u201cglm.fit: fitted probabilities numerically 0 or 1 occurred\u201dWarning message:\n\u201cglm.fit: fitted probabilities numerically 0 or 1 occurred\u201d",
                    "name": "stderr"
                },
                {
                    "output_type": "stream",
                    "text": "       Df Deviance    AIC\n+ SGAI  1   48.062 62.062\n<none>      50.654 62.654\n+ DEPI  1   50.281 64.281\n+ LEVI  1   50.451 64.451\n- GMI   1   65.044 75.044\n- SGI   1   71.311 81.311\n- ACCR  1   76.231 86.231\n- AQI   1   79.633 89.633\n- DSRI  1   88.282 98.282\n",
                    "name": "stdout"
                },
                {
                    "output_type": "stream",
                    "text": "Warning message:\n\u201cglm.fit: fitted probabilities numerically 0 or 1 occurred\u201d",
                    "name": "stderr"
                },
                {
                    "output_type": "stream",
                    "text": "\nStep:  AIC=62.06\nManipulater ~ ACCR + DSRI + AQI + SGI + GMI + SGAI\n\n",
                    "name": "stdout"
                },
                {
                    "output_type": "stream",
                    "text": "Warning message:\n\u201cglm.fit: fitted probabilities numerically 0 or 1 occurred\u201dWarning message:\n\u201cglm.fit: fitted probabilities numerically 0 or 1 occurred\u201dWarning message:\n\u201cglm.fit: fitted probabilities numerically 0 or 1 occurred\u201dWarning message:\n\u201cglm.fit: fitted probabilities numerically 0 or 1 occurred\u201dWarning message:\n\u201cglm.fit: fitted probabilities numerically 0 or 1 occurred\u201dWarning message:\n\u201cglm.fit: fitted probabilities numerically 0 or 1 occurred\u201dWarning message:\n\u201cglm.fit: fitted probabilities numerically 0 or 1 occurred\u201dWarning message:\n\u201cglm.fit: fitted probabilities numerically 0 or 1 occurred\u201dWarning message:\n\u201cglm.fit: fitted probabilities numerically 0 or 1 occurred\u201d",
                    "name": "stderr"
                },
                {
                    "output_type": "stream",
                    "text": "       Df Deviance    AIC\n<none>      48.062 62.062\n- SGAI  1   50.654 62.654\n+ DEPI  1   47.124 63.124\n+ LEVI  1   47.840 63.840\n- GMI   1   64.974 76.974\n- DSRI  1   67.469 79.469\n- SGI   1   69.378 81.378\n- ACCR  1   73.411 85.411\n- AQI   1   76.095 88.095\n",
                    "name": "stdout"
                },
                {
                    "output_type": "stream",
                    "text": "Warning message:\n\u201cglm.fit: fitted probabilities numerically 0 or 1 occurred\u201d",
                    "name": "stderr"
                },
                {
                    "output_type": "stream",
                    "text": "Start:  AIC=110.13\nManipulater ~ 1\n\n",
                    "name": "stdout"
                },
                {
                    "output_type": "stream",
                    "text": "Warning message:\n\u201cglm.fit: fitted probabilities numerically 0 or 1 occurred\u201d",
                    "name": "stderr"
                },
                {
                    "output_type": "stream",
                    "text": "       Df Deviance     AIC\n+ DSRI  1   95.441  99.441\n+ ACCR  1  103.070 107.070\n+ SGI   1  103.992 107.992\n+ SGAI  1  104.089 108.089\n+ AQI   1  105.353 109.353\n<none>     108.131 110.131\n+ LEVI  1  106.650 110.650\n+ GMI   1  107.038 111.038\n+ DEPI  1  107.608 111.608\n",
                    "name": "stdout"
                },
                {
                    "output_type": "stream",
                    "text": "Warning message:\n\u201cglm.fit: fitted probabilities numerically 0 or 1 occurred\u201d",
                    "name": "stderr"
                },
                {
                    "output_type": "stream",
                    "text": "\nStep:  AIC=99.44\nManipulater ~ DSRI\n\n",
                    "name": "stdout"
                },
                {
                    "output_type": "stream",
                    "text": "Warning message:\n\u201cglm.fit: fitted probabilities numerically 0 or 1 occurred\u201dWarning message:\n\u201cglm.fit: fitted probabilities numerically 0 or 1 occurred\u201dWarning message:\n\u201cglm.fit: fitted probabilities numerically 0 or 1 occurred\u201dWarning message:\n\u201cglm.fit: fitted probabilities numerically 0 or 1 occurred\u201dWarning message:\n\u201cglm.fit: fitted probabilities numerically 0 or 1 occurred\u201dWarning message:\n\u201cglm.fit: fitted probabilities numerically 0 or 1 occurred\u201dWarning message:\n\u201cglm.fit: fitted probabilities numerically 0 or 1 occurred\u201dWarning message:\n\u201cglm.fit: fitted probabilities numerically 0 or 1 occurred\u201d",
                    "name": "stderr"
                },
                {
                    "output_type": "stream",
                    "text": "       Df Deviance     AIC\n+ SGI   1   83.266  89.266\n+ ACCR  1   85.930  91.930\n+ AQI   1   91.690  97.690\n+ GMI   1   92.034  98.034\n<none>      95.441  99.441\n+ SGAI  1   94.146 100.146\n+ DEPI  1   94.530 100.530\n+ LEVI  1   94.987 100.987\n- DSRI  1  108.131 110.131\n",
                    "name": "stdout"
                },
                {
                    "output_type": "stream",
                    "text": "Warning message:\n\u201cglm.fit: fitted probabilities numerically 0 or 1 occurred\u201d",
                    "name": "stderr"
                },
                {
                    "output_type": "stream",
                    "text": "\nStep:  AIC=89.27\nManipulater ~ DSRI + SGI\n\n",
                    "name": "stdout"
                },
                {
                    "output_type": "stream",
                    "text": "Warning message:\n\u201cglm.fit: fitted probabilities numerically 0 or 1 occurred\u201dWarning message:\n\u201cglm.fit: fitted probabilities numerically 0 or 1 occurred\u201dWarning message:\n\u201cglm.fit: fitted probabilities numerically 0 or 1 occurred\u201dWarning message:\n\u201cglm.fit: fitted probabilities numerically 0 or 1 occurred\u201dWarning message:\n\u201cglm.fit: fitted probabilities numerically 0 or 1 occurred\u201dWarning message:\n\u201cglm.fit: fitted probabilities numerically 0 or 1 occurred\u201dWarning message:\n\u201cglm.fit: fitted probabilities numerically 0 or 1 occurred\u201dWarning message:\n\u201cglm.fit: fitted probabilities numerically 0 or 1 occurred\u201d",
                    "name": "stderr"
                },
                {
                    "output_type": "stream",
                    "text": "       Df Deviance     AIC\n+ AQI   1   70.294  78.294\n+ ACCR  1   75.609  83.609\n<none>      83.266  89.266\n+ GMI   1   81.503  89.503\n+ SGAI  1   81.715  89.715\n+ DEPI  1   83.215  91.215\n+ LEVI  1   83.266  91.266\n- SGI   1   95.441  99.441\n- DSRI  1  103.992 107.992\n",
                    "name": "stdout"
                },
                {
                    "output_type": "stream",
                    "text": "Warning message:\n\u201cglm.fit: fitted probabilities numerically 0 or 1 occurred\u201d",
                    "name": "stderr"
                },
                {
                    "output_type": "stream",
                    "text": "\nStep:  AIC=78.29\nManipulater ~ DSRI + SGI + AQI\n\n",
                    "name": "stdout"
                },
                {
                    "output_type": "stream",
                    "text": "Warning message:\n\u201cglm.fit: fitted probabilities numerically 0 or 1 occurred\u201dWarning message:\n\u201cglm.fit: fitted probabilities numerically 0 or 1 occurred\u201dWarning message:\n\u201cglm.fit: fitted probabilities numerically 0 or 1 occurred\u201dWarning message:\n\u201cglm.fit: fitted probabilities numerically 0 or 1 occurred\u201dWarning message:\n\u201cglm.fit: fitted probabilities numerically 0 or 1 occurred\u201dWarning message:\n\u201cglm.fit: fitted probabilities numerically 0 or 1 occurred\u201dWarning message:\n\u201cglm.fit: fitted probabilities numerically 0 or 1 occurred\u201dWarning message:\n\u201cglm.fit: fitted probabilities numerically 0 or 1 occurred\u201d",
                    "name": "stderr"
                },
                {
                    "output_type": "stream",
                    "text": "       Df Deviance     AIC\n+ ACCR  1   52.863  62.863\n+ LEVI  1   67.395  77.395\n+ GMI   1   68.230  78.230\n<none>      70.294  78.294\n+ DEPI  1   69.458  79.458\n+ SGAI  1   69.971  79.971\n- AQI   1   83.266  89.266\n- SGI   1   91.690  97.690\n- DSRI  1   99.646 105.646\n",
                    "name": "stdout"
                },
                {
                    "output_type": "stream",
                    "text": "Warning message:\n\u201cglm.fit: fitted probabilities numerically 0 or 1 occurred\u201d",
                    "name": "stderr"
                },
                {
                    "output_type": "stream",
                    "text": "\nStep:  AIC=62.86\nManipulater ~ DSRI + SGI + AQI + ACCR\n\n",
                    "name": "stdout"
                },
                {
                    "output_type": "stream",
                    "text": "Warning message:\n\u201cglm.fit: fitted probabilities numerically 0 or 1 occurred\u201dWarning message:\n\u201cglm.fit: fitted probabilities numerically 0 or 1 occurred\u201dWarning message:\n\u201cglm.fit: fitted probabilities numerically 0 or 1 occurred\u201dWarning message:\n\u201cglm.fit: fitted probabilities numerically 0 or 1 occurred\u201dWarning message:\n\u201cglm.fit: fitted probabilities numerically 0 or 1 occurred\u201dWarning message:\n\u201cglm.fit: fitted probabilities numerically 0 or 1 occurred\u201dWarning message:\n\u201cglm.fit: fitted probabilities numerically 0 or 1 occurred\u201dWarning message:\n\u201cglm.fit: fitted probabilities numerically 0 or 1 occurred\u201d",
                    "name": "stderr"
                },
                {
                    "output_type": "stream",
                    "text": "       Df Deviance     AIC\n+ GMI   1   48.253  60.253\n<none>      52.863  62.863\n+ LEVI  1   51.799  63.799\n+ SGAI  1   52.763  64.763\n+ DEPI  1   52.854  64.854\n- ACCR  1   70.294  78.294\n- AQI   1   75.609  83.609\n- SGI   1   77.549  85.549\n- DSRI  1   93.296 101.296\n",
                    "name": "stdout"
                },
                {
                    "output_type": "stream",
                    "text": "Warning message:\n\u201cglm.fit: fitted probabilities numerically 0 or 1 occurred\u201d",
                    "name": "stderr"
                },
                {
                    "output_type": "stream",
                    "text": "\nStep:  AIC=60.25\nManipulater ~ DSRI + SGI + AQI + ACCR + GMI\n\n",
                    "name": "stdout"
                },
                {
                    "output_type": "stream",
                    "text": "Warning message:\n\u201cglm.fit: fitted probabilities numerically 0 or 1 occurred\u201dWarning message:\n\u201cglm.fit: fitted probabilities numerically 0 or 1 occurred\u201dWarning message:\n\u201cglm.fit: fitted probabilities numerically 0 or 1 occurred\u201dWarning message:\n\u201cglm.fit: fitted probabilities numerically 0 or 1 occurred\u201dWarning message:\n\u201cglm.fit: fitted probabilities numerically 0 or 1 occurred\u201dWarning message:\n\u201cglm.fit: fitted probabilities numerically 0 or 1 occurred\u201dWarning message:\n\u201cglm.fit: fitted probabilities numerically 0 or 1 occurred\u201dWarning message:\n\u201cglm.fit: fitted probabilities numerically 0 or 1 occurred\u201d",
                    "name": "stderr"
                },
                {
                    "output_type": "stream",
                    "text": "       Df Deviance     AIC\n<none>      48.253  60.253\n+ LEVI  1   47.336  61.336\n+ SGAI  1   48.226  62.226\n+ DEPI  1   48.234  62.234\n- GMI   1   52.863  62.863\n- ACCR  1   68.230  78.230\n- SGI   1   70.882  80.882\n- AQI   1   73.677  83.677\n- DSRI  1   92.334 102.334\n",
                    "name": "stdout"
                },
                {
                    "output_type": "stream",
                    "text": "Warning message:\n\u201cglm.fit: fitted probabilities numerically 0 or 1 occurred\u201d",
                    "name": "stderr"
                },
                {
                    "output_type": "stream",
                    "text": "Start:  AIC=110.13\nManipulater ~ 1\n\n",
                    "name": "stdout"
                },
                {
                    "output_type": "stream",
                    "text": "Warning message:\n\u201cglm.fit: fitted probabilities numerically 0 or 1 occurred\u201dWarning message:\n\u201cglm.fit: fitted probabilities numerically 0 or 1 occurred\u201d",
                    "name": "stderr"
                },
                {
                    "output_type": "stream",
                    "text": "       Df Deviance     AIC\n+ DSRI  1   94.522  98.522\n+ SGAI  1  101.428 105.428\n+ ACCR  1  102.802 106.802\n+ AQI   1  103.528 107.528\n+ SGI   1  104.292 108.292\n<none>     108.131 110.131\n+ LEVI  1  106.473 110.473\n+ GMI   1  106.608 110.608\n+ DEPI  1  107.778 111.778\n",
                    "name": "stdout"
                },
                {
                    "output_type": "stream",
                    "text": "Warning message:\n\u201cglm.fit: fitted probabilities numerically 0 or 1 occurred\u201d",
                    "name": "stderr"
                },
                {
                    "output_type": "stream",
                    "text": "\nStep:  AIC=98.52\nManipulater ~ DSRI\n\n",
                    "name": "stdout"
                },
                {
                    "output_type": "stream",
                    "text": "Warning message:\n\u201cglm.fit: fitted probabilities numerically 0 or 1 occurred\u201dWarning message:\n\u201cglm.fit: fitted probabilities numerically 0 or 1 occurred\u201dWarning message:\n\u201cglm.fit: fitted probabilities numerically 0 or 1 occurred\u201dWarning message:\n\u201cglm.fit: fitted probabilities numerically 0 or 1 occurred\u201dWarning message:\n\u201cglm.fit: fitted probabilities numerically 0 or 1 occurred\u201dWarning message:\n\u201cglm.fit: fitted probabilities numerically 0 or 1 occurred\u201dWarning message:\n\u201cglm.fit: fitted probabilities numerically 0 or 1 occurred\u201dWarning message:\n\u201cglm.fit: fitted probabilities numerically 0 or 1 occurred\u201d",
                    "name": "stderr"
                },
                {
                    "output_type": "stream",
                    "text": "       Df Deviance     AIC\n+ SGI   1   83.034  89.034\n+ ACCR  1   84.100  90.100\n+ AQI   1   88.824  94.824\n+ GMI   1   90.649  96.649\n+ SGAI  1   91.169  97.169\n<none>      94.522  98.522\n+ LEVI  1   93.923  99.923\n+ DEPI  1   94.427 100.427\n- DSRI  1  108.131 110.131\n",
                    "name": "stdout"
                },
                {
                    "output_type": "stream",
                    "text": "Warning message:\n\u201cglm.fit: fitted probabilities numerically 0 or 1 occurred\u201d",
                    "name": "stderr"
                },
                {
                    "output_type": "stream",
                    "text": "\nStep:  AIC=89.03\nManipulater ~ DSRI + SGI\n\n",
                    "name": "stdout"
                },
                {
                    "output_type": "stream",
                    "text": "Warning message:\n\u201cglm.fit: fitted probabilities numerically 0 or 1 occurred\u201dWarning message:\n\u201cglm.fit: fitted probabilities numerically 0 or 1 occurred\u201dWarning message:\n\u201cglm.fit: fitted probabilities numerically 0 or 1 occurred\u201dWarning message:\n\u201cglm.fit: fitted probabilities numerically 0 or 1 occurred\u201dWarning message:\n\u201cglm.fit: fitted probabilities numerically 0 or 1 occurred\u201dWarning message:\n\u201cglm.fit: fitted probabilities numerically 0 or 1 occurred\u201dWarning message:\n\u201cglm.fit: fitted probabilities numerically 0 or 1 occurred\u201dWarning message:\n\u201cglm.fit: fitted probabilities numerically 0 or 1 occurred\u201d",
                    "name": "stderr"
                },
                {
                    "output_type": "stream",
                    "text": "       Df Deviance     AIC\n+ AQI   1   67.649  75.649\n+ ACCR  1   74.813  82.813\n+ SGAI  1   79.621  87.621\n<none>      83.034  89.034\n+ GMI   1   81.045  89.045\n+ DEPI  1   82.178  90.178\n+ LEVI  1   82.975  90.975\n- SGI   1   94.522  98.522\n- DSRI  1  104.292 108.292\n",
                    "name": "stdout"
                },
                {
                    "output_type": "stream",
                    "text": "Warning message:\n\u201cglm.fit: fitted probabilities numerically 0 or 1 occurred\u201d",
                    "name": "stderr"
                },
                {
                    "output_type": "stream",
                    "text": "\nStep:  AIC=75.65\nManipulater ~ DSRI + SGI + AQI\n\n",
                    "name": "stdout"
                },
                {
                    "output_type": "stream",
                    "text": "Warning message:\n\u201cglm.fit: fitted probabilities numerically 0 or 1 occurred\u201dWarning message:\n\u201cglm.fit: fitted probabilities numerically 0 or 1 occurred\u201dWarning message:\n\u201cglm.fit: fitted probabilities numerically 0 or 1 occurred\u201dWarning message:\n\u201cglm.fit: fitted probabilities numerically 0 or 1 occurred\u201dWarning message:\n\u201cglm.fit: fitted probabilities numerically 0 or 1 occurred\u201dWarning message:\n\u201cglm.fit: fitted probabilities numerically 0 or 1 occurred\u201dWarning message:\n\u201cglm.fit: fitted probabilities numerically 0 or 1 occurred\u201dWarning message:\n\u201cglm.fit: fitted probabilities numerically 0 or 1 occurred\u201d",
                    "name": "stderr"
                },
                {
                    "output_type": "stream",
                    "text": "       Df Deviance     AIC\n+ ACCR  1   50.068  60.068\n+ DEPI  1   60.733  70.733\n+ GMI   1   64.094  74.094\n+ LEVI  1   65.442  75.442\n<none>      67.649  75.649\n+ SGAI  1   66.841  76.841\n- AQI   1   83.034  89.034\n- SGI   1   88.824  94.824\n- DSRI  1   98.114 104.114\n",
                    "name": "stdout"
                },
                {
                    "output_type": "stream",
                    "text": "Warning message:\n\u201cglm.fit: fitted probabilities numerically 0 or 1 occurred\u201d",
                    "name": "stderr"
                },
                {
                    "output_type": "stream",
                    "text": "\nStep:  AIC=60.07\nManipulater ~ DSRI + SGI + AQI + ACCR\n\n",
                    "name": "stdout"
                },
                {
                    "output_type": "stream",
                    "text": "Warning message:\n\u201cglm.fit: fitted probabilities numerically 0 or 1 occurred\u201dWarning message:\n\u201cglm.fit: fitted probabilities numerically 0 or 1 occurred\u201dWarning message:\n\u201cglm.fit: fitted probabilities numerically 0 or 1 occurred\u201dWarning message:\n\u201cglm.fit: fitted probabilities numerically 0 or 1 occurred\u201dWarning message:\n\u201cglm.fit: fitted probabilities numerically 0 or 1 occurred\u201dWarning message:\n\u201cglm.fit: fitted probabilities numerically 0 or 1 occurred\u201dWarning message:\n\u201cglm.fit: fitted probabilities numerically 0 or 1 occurred\u201dWarning message:\n\u201cglm.fit: fitted probabilities numerically 0 or 1 occurred\u201d",
                    "name": "stderr"
                },
                {
                    "output_type": "stream",
                    "text": "       Df Deviance    AIC\n+ GMI   1   43.165 55.165\n+ DEPI  1   44.254 56.254\n<none>      50.068 60.068\n+ LEVI  1   49.399 61.399\n+ SGAI  1   50.019 62.019\n- ACCR  1   67.649 75.649\n- SGI   1   72.201 80.201\n- AQI   1   74.813 82.813\n- DSRI  1   90.893 98.893\n",
                    "name": "stdout"
                },
                {
                    "output_type": "stream",
                    "text": "Warning message:\n\u201cglm.fit: fitted probabilities numerically 0 or 1 occurred\u201d",
                    "name": "stderr"
                },
                {
                    "output_type": "stream",
                    "text": "\nStep:  AIC=55.17\nManipulater ~ DSRI + SGI + AQI + ACCR + GMI\n\n",
                    "name": "stdout"
                },
                {
                    "output_type": "stream",
                    "text": "Warning message:\n\u201cglm.fit: fitted probabilities numerically 0 or 1 occurred\u201dWarning message:\n\u201cglm.fit: fitted probabilities numerically 0 or 1 occurred\u201dWarning message:\n\u201cglm.fit: fitted probabilities numerically 0 or 1 occurred\u201dWarning message:\n\u201cglm.fit: fitted probabilities numerically 0 or 1 occurred\u201dWarning message:\n\u201cglm.fit: fitted probabilities numerically 0 or 1 occurred\u201dWarning message:\n\u201cglm.fit: fitted probabilities numerically 0 or 1 occurred\u201dWarning message:\n\u201cglm.fit: fitted probabilities numerically 0 or 1 occurred\u201dWarning message:\n\u201cglm.fit: fitted probabilities numerically 0 or 1 occurred\u201d",
                    "name": "stderr"
                },
                {
                    "output_type": "stream",
                    "text": "       Df Deviance    AIC\n+ DEPI  1   40.068 54.068\n<none>      43.165 55.165\n+ LEVI  1   42.600 56.600\n+ SGAI  1   42.931 56.931\n- GMI   1   50.068 60.068\n- SGI   1   62.371 72.371\n- ACCR  1   64.094 74.094\n- AQI   1   72.573 82.573\n- DSRI  1   89.051 99.051\n",
                    "name": "stdout"
                },
                {
                    "output_type": "stream",
                    "text": "Warning message:\n\u201cglm.fit: fitted probabilities numerically 0 or 1 occurred\u201d",
                    "name": "stderr"
                },
                {
                    "output_type": "stream",
                    "text": "\nStep:  AIC=54.07\nManipulater ~ DSRI + SGI + AQI + ACCR + GMI + DEPI\n\n",
                    "name": "stdout"
                },
                {
                    "output_type": "stream",
                    "text": "Warning message:\n\u201cglm.fit: fitted probabilities numerically 0 or 1 occurred\u201dWarning message:\n\u201cglm.fit: fitted probabilities numerically 0 or 1 occurred\u201dWarning message:\n\u201cglm.fit: fitted probabilities numerically 0 or 1 occurred\u201dWarning message:\n\u201cglm.fit: fitted probabilities numerically 0 or 1 occurred\u201dWarning message:\n\u201cglm.fit: fitted probabilities numerically 0 or 1 occurred\u201dWarning message:\n\u201cglm.fit: fitted probabilities numerically 0 or 1 occurred\u201dWarning message:\n\u201cglm.fit: fitted probabilities numerically 0 or 1 occurred\u201dWarning message:\n\u201cglm.fit: fitted probabilities numerically 0 or 1 occurred\u201d",
                    "name": "stderr"
                },
                {
                    "output_type": "stream",
                    "text": "       Df Deviance     AIC\n<none>      40.068  54.068\n- DEPI  1   43.165  55.165\n+ LEVI  1   39.340  55.340\n+ SGAI  1   39.477  55.477\n- GMI   1   44.254  56.254\n- ACCR  1   58.979  70.979\n- SGI   1   61.773  73.773\n- AQI   1   72.520  84.520\n- DSRI  1   88.722 100.722\n",
                    "name": "stdout"
                },
                {
                    "output_type": "stream",
                    "text": "Warning message:\n\u201cglm.fit: fitted probabilities numerically 0 or 1 occurred\u201d",
                    "name": "stderr"
                },
                {
                    "output_type": "stream",
                    "text": "Start:  AIC=110.13\nManipulater ~ 1\n\n       Df Deviance    AIC\n+ ACCR  1   101.24 105.24\n+ DSRI  1   103.22 107.22\n+ SGAI  1   103.51 107.51\n+ SGI   1   104.35 108.35\n+ AQI   1   104.40 108.40\n<none>      108.13 110.13\n+ LEVI  1   106.98 110.98\n+ GMI   1   107.16 111.16\n+ DEPI  1   107.48 111.48\n\nStep:  AIC=105.24\nManipulater ~ ACCR\n\n       Df Deviance     AIC\n+ DSRI  1   91.002  97.002\n+ SGAI  1   92.753  98.753\n+ AQI   1   95.007 101.007\n+ SGI   1   98.610 104.610\n<none>     101.238 105.238\n+ LEVI  1   99.618 105.618\n+ DEPI  1   99.729 105.729\n+ GMI   1  100.225 106.225\n- ACCR  1  108.131 110.131\n\nStep:  AIC=97\nManipulater ~ ACCR + DSRI\n\n       Df Deviance     AIC\n+ AQI   1   81.313  89.313\n+ SGI   1   84.053  92.053\n<none>      91.002  97.002\n+ GMI   1   89.241  97.241\n+ SGAI  1   89.476  97.476\n+ DEPI  1   90.081  98.081\n+ LEVI  1   90.252  98.252\n- DSRI  1  101.238 105.238\n- ACCR  1  103.216 107.216\n\nStep:  AIC=89.31\nManipulater ~ ACCR + DSRI + AQI\n\n",
                    "name": "stdout"
                },
                {
                    "output_type": "stream",
                    "text": "Warning message:\n\u201cglm.fit: fitted probabilities numerically 0 or 1 occurred\u201d",
                    "name": "stderr"
                },
                {
                    "output_type": "stream",
                    "text": "       Df Deviance     AIC\n+ SGI   1   65.421  75.421\n+ GMI   1   79.066  89.066\n<none>      81.313  89.313\n+ SGAI  1   80.671  90.671\n+ DEPI  1   80.684  90.684\n+ LEVI  1   81.255  91.255\n- AQI   1   91.002  97.002\n- DSRI  1   95.007 101.007\n- ACCR  1   98.748 104.748\n",
                    "name": "stdout"
                },
                {
                    "output_type": "stream",
                    "text": "Warning message:\n\u201cglm.fit: fitted probabilities numerically 0 or 1 occurred\u201d",
                    "name": "stderr"
                },
                {
                    "output_type": "stream",
                    "text": "\nStep:  AIC=75.42\nManipulater ~ ACCR + DSRI + AQI + SGI\n\n",
                    "name": "stdout"
                },
                {
                    "output_type": "stream",
                    "text": "Warning message:\n\u201cglm.fit: fitted probabilities numerically 0 or 1 occurred\u201dWarning message:\n\u201cglm.fit: fitted probabilities numerically 0 or 1 occurred\u201dWarning message:\n\u201cglm.fit: fitted probabilities numerically 0 or 1 occurred\u201dWarning message:\n\u201cglm.fit: fitted probabilities numerically 0 or 1 occurred\u201dWarning message:\n\u201cglm.fit: fitted probabilities numerically 0 or 1 occurred\u201d",
                    "name": "stderr"
                },
                {
                    "output_type": "stream",
                    "text": "       Df Deviance    AIC\n+ DEPI  1   61.761 73.761\n<none>      65.421 75.421\n+ GMI   1   64.167 76.167\n+ LEVI  1   65.244 77.244\n+ SGAI  1   65.396 77.396\n- SGI   1   81.313 89.313\n- ACCR  1   84.011 92.011\n- AQI   1   84.053 92.053\n- DSRI  1   91.068 99.068\n",
                    "name": "stdout"
                },
                {
                    "output_type": "stream",
                    "text": "Warning message:\n\u201cglm.fit: fitted probabilities numerically 0 or 1 occurred\u201d",
                    "name": "stderr"
                },
                {
                    "output_type": "stream",
                    "text": "\nStep:  AIC=73.76\nManipulater ~ ACCR + DSRI + AQI + SGI + DEPI\n\n",
                    "name": "stdout"
                },
                {
                    "output_type": "stream",
                    "text": "Warning message:\n\u201cglm.fit: fitted probabilities numerically 0 or 1 occurred\u201dWarning message:\n\u201cglm.fit: fitted probabilities numerically 0 or 1 occurred\u201dWarning message:\n\u201cglm.fit: fitted probabilities numerically 0 or 1 occurred\u201dWarning message:\n\u201cglm.fit: fitted probabilities numerically 0 or 1 occurred\u201dWarning message:\n\u201cglm.fit: fitted probabilities numerically 0 or 1 occurred\u201dWarning message:\n\u201cglm.fit: fitted probabilities numerically 0 or 1 occurred\u201d",
                    "name": "stderr"
                },
                {
                    "output_type": "stream",
                    "text": "       Df Deviance     AIC\n<none>      61.761  73.761\n+ GMI   1   60.151  74.151\n- DEPI  1   65.421  75.421\n+ LEVI  1   61.524  75.524\n+ SGAI  1   61.760  75.760\n- ACCR  1   79.491  89.491\n- SGI   1   80.684  90.684\n- AQI   1   84.033  94.033\n- DSRI  1   90.881 100.881\n",
                    "name": "stdout"
                },
                {
                    "output_type": "stream",
                    "text": "Warning message:\n\u201cglm.fit: fitted probabilities numerically 0 or 1 occurred\u201d",
                    "name": "stderr"
                },
                {
                    "output_type": "stream",
                    "text": "Start:  AIC=110.13\nManipulater ~ 1\n\n       Df Deviance    AIC\n+ DSRI  1   99.578 103.58\n+ ACCR  1  103.220 107.22\n+ AQI   1  103.505 107.50\n+ SGI   1  103.586 107.59\n+ SGAI  1  104.237 108.24\n+ GMI   1  104.728 108.73\n+ DEPI  1  105.050 109.05\n+ LEVI  1  106.043 110.04\n<none>     108.131 110.13\n\nStep:  AIC=103.58\nManipulater ~ DSRI\n\n",
                    "name": "stdout"
                },
                {
                    "output_type": "stream",
                    "text": "Warning message:\n\u201cglm.fit: fitted probabilities numerically 0 or 1 occurred\u201dWarning message:\n\u201cglm.fit: fitted probabilities numerically 0 or 1 occurred\u201dWarning message:\n\u201cglm.fit: fitted probabilities numerically 0 or 1 occurred\u201dWarning message:\n\u201cglm.fit: fitted probabilities numerically 0 or 1 occurred\u201d",
                    "name": "stderr"
                },
                {
                    "output_type": "stream",
                    "text": "       Df Deviance     AIC\n+ SGI   1   86.982  92.982\n+ ACCR  1   89.718  95.718\n+ GMI   1   92.940  98.940\n+ AQI   1   93.941  99.941\n+ DEPI  1   94.504 100.504\n<none>      99.578 103.578\n+ SGAI  1   98.282 104.282\n+ LEVI  1   98.699 104.699\n- DSRI  1  108.131 110.131\n",
                    "name": "stdout"
                },
                {
                    "output_type": "stream",
                    "text": "Warning message:\n\u201cglm.fit: fitted probabilities numerically 0 or 1 occurred\u201d",
                    "name": "stderr"
                },
                {
                    "output_type": "stream",
                    "text": "\nStep:  AIC=92.98\nManipulater ~ DSRI + SGI\n\n",
                    "name": "stdout"
                },
                {
                    "output_type": "stream",
                    "text": "Warning message:\n\u201cglm.fit: fitted probabilities numerically 0 or 1 occurred\u201dWarning message:\n\u201cglm.fit: fitted probabilities numerically 0 or 1 occurred\u201dWarning message:\n\u201cglm.fit: fitted probabilities numerically 0 or 1 occurred\u201dWarning message:\n\u201cglm.fit: fitted probabilities numerically 0 or 1 occurred\u201dWarning message:\n\u201cglm.fit: fitted probabilities numerically 0 or 1 occurred\u201dWarning message:\n\u201cglm.fit: fitted probabilities numerically 0 or 1 occurred\u201dWarning message:\n\u201cglm.fit: fitted probabilities numerically 0 or 1 occurred\u201d",
                    "name": "stderr"
                },
                {
                    "output_type": "stream",
                    "text": "       Df Deviance     AIC\n+ AQI   1   71.614  79.614\n+ ACCR  1   76.567  84.567\n+ GMI   1   83.348  91.348\n+ DEPI  1   83.656  91.656\n<none>      86.982  92.982\n+ SGAI  1   85.035  93.035\n+ LEVI  1   86.546  94.546\n- SGI   1   99.578 103.578\n- DSRI  1  103.586 107.586\n",
                    "name": "stdout"
                },
                {
                    "output_type": "stream",
                    "text": "Warning message:\n\u201cglm.fit: fitted probabilities numerically 0 or 1 occurred\u201d",
                    "name": "stderr"
                },
                {
                    "output_type": "stream",
                    "text": "\nStep:  AIC=79.61\nManipulater ~ DSRI + SGI + AQI\n\n",
                    "name": "stdout"
                },
                {
                    "output_type": "stream",
                    "text": "Warning message:\n\u201cglm.fit: fitted probabilities numerically 0 or 1 occurred\u201dWarning message:\n\u201cglm.fit: fitted probabilities numerically 0 or 1 occurred\u201dWarning message:\n\u201cglm.fit: fitted probabilities numerically 0 or 1 occurred\u201dWarning message:\n\u201cglm.fit: fitted probabilities numerically 0 or 1 occurred\u201dWarning message:\n\u201cglm.fit: fitted probabilities numerically 0 or 1 occurred\u201dWarning message:\n\u201cglm.fit: fitted probabilities numerically 0 or 1 occurred\u201dWarning message:\n\u201cglm.fit: fitted probabilities numerically 0 or 1 occurred\u201d",
                    "name": "stderr"
                },
                {
                    "output_type": "stream",
                    "text": "       Df Deviance     AIC\n+ ACCR  1   43.629  53.629\n+ GMI   1   64.020  74.020\n+ DEPI  1   69.437  79.437\n<none>      71.614  79.614\n+ SGAI  1   69.907  79.907\n+ LEVI  1   70.390  80.390\n- AQI   1   86.982  92.982\n- SGI   1   93.941  99.941\n- DSRI  1   97.447 103.447\n",
                    "name": "stdout"
                },
                {
                    "output_type": "stream",
                    "text": "Warning message:\n\u201cglm.fit: fitted probabilities numerically 0 or 1 occurred\u201d",
                    "name": "stderr"
                },
                {
                    "output_type": "stream",
                    "text": "\nStep:  AIC=53.63\nManipulater ~ DSRI + SGI + AQI + ACCR\n\n",
                    "name": "stdout"
                },
                {
                    "output_type": "stream",
                    "text": "Warning message:\n\u201cglm.fit: fitted probabilities numerically 0 or 1 occurred\u201dWarning message:\n\u201cglm.fit: fitted probabilities numerically 0 or 1 occurred\u201dWarning message:\n\u201cglm.fit: fitted probabilities numerically 0 or 1 occurred\u201dWarning message:\n\u201cglm.fit: fitted probabilities numerically 0 or 1 occurred\u201dWarning message:\n\u201cglm.fit: fitted probabilities numerically 0 or 1 occurred\u201dWarning message:\n\u201cglm.fit: fitted probabilities numerically 0 or 1 occurred\u201dWarning message:\n\u201cglm.fit: fitted probabilities numerically 0 or 1 occurred\u201dWarning message:\n\u201cglm.fit: fitted probabilities numerically 0 or 1 occurred\u201d",
                    "name": "stderr"
                },
                {
                    "output_type": "stream",
                    "text": "       Df Deviance    AIC\n+ GMI   1   30.964 42.964\n<none>      43.629 53.629\n+ DEPI  1   43.290 55.290\n+ LEVI  1   43.353 55.353\n+ SGAI  1   43.467 55.467\n- ACCR  1   71.614 79.614\n- SGI   1   75.194 83.194\n- AQI   1   76.567 84.567\n- DSRI  1   89.715 97.715\n",
                    "name": "stdout"
                },
                {
                    "output_type": "stream",
                    "text": "Warning message:\n\u201cglm.fit: fitted probabilities numerically 0 or 1 occurred\u201d",
                    "name": "stderr"
                },
                {
                    "output_type": "stream",
                    "text": "\nStep:  AIC=42.96\nManipulater ~ DSRI + SGI + AQI + ACCR + GMI\n\n",
                    "name": "stdout"
                },
                {
                    "output_type": "stream",
                    "text": "Warning message:\n\u201cglm.fit: fitted probabilities numerically 0 or 1 occurred\u201dWarning message:\n\u201cglm.fit: fitted probabilities numerically 0 or 1 occurred\u201dWarning message:\n\u201cglm.fit: fitted probabilities numerically 0 or 1 occurred\u201dWarning message:\n\u201cglm.fit: fitted probabilities numerically 0 or 1 occurred\u201dWarning message:\n\u201cglm.fit: fitted probabilities numerically 0 or 1 occurred\u201dWarning message:\n\u201cglm.fit: fitted probabilities numerically 0 or 1 occurred\u201dWarning message:\n\u201cglm.fit: fitted probabilities numerically 0 or 1 occurred\u201dWarning message:\n\u201cglm.fit: fitted probabilities numerically 0 or 1 occurred\u201dWarning message:\n\u201cglm.fit: fitted probabilities numerically 0 or 1 occurred\u201d",
                    "name": "stderr"
                },
                {
                    "output_type": "stream",
                    "text": "       Df Deviance    AIC\n<none>      30.964 42.964\n+ SGAI  1   29.307 43.307\n+ LEVI  1   30.503 44.503\n+ DEPI  1   30.512 44.512\n- GMI   1   43.629 53.629\n- SGI   1   53.531 63.531\n- ACCR  1   64.020 74.020\n- AQI   1   70.411 80.411\n- DSRI  1   85.868 95.868\n",
                    "name": "stdout"
                },
                {
                    "output_type": "stream",
                    "text": "Warning message:\n\u201cglm.fit: fitted probabilities numerically 0 or 1 occurred\u201d",
                    "name": "stderr"
                },
                {
                    "output_type": "stream",
                    "text": "Start:  AIC=110.13\nManipulater ~ 1\n\n",
                    "name": "stdout"
                },
                {
                    "output_type": "stream",
                    "text": "Warning message:\n\u201cglm.fit: fitted probabilities numerically 0 or 1 occurred\u201d",
                    "name": "stderr"
                },
                {
                    "output_type": "stream",
                    "text": "       Df Deviance     AIC\n+ DSRI  1   94.196  98.196\n+ ACCR  1  103.750 107.750\n+ SGAI  1  104.121 108.121\n+ SGI   1  104.789 108.789\n<none>     108.131 110.131\n+ GMI   1  106.244 110.244\n+ LEVI  1  106.309 110.309\n+ AQI   1  106.467 110.467\n+ DEPI  1  107.880 111.880\n",
                    "name": "stdout"
                },
                {
                    "output_type": "stream",
                    "text": "Warning message:\n\u201cglm.fit: fitted probabilities numerically 0 or 1 occurred\u201d",
                    "name": "stderr"
                },
                {
                    "output_type": "stream",
                    "text": "\nStep:  AIC=98.2\nManipulater ~ DSRI\n\n",
                    "name": "stdout"
                },
                {
                    "output_type": "stream",
                    "text": "Warning message:\n\u201cglm.fit: fitted probabilities numerically 0 or 1 occurred\u201dWarning message:\n\u201cglm.fit: fitted probabilities numerically 0 or 1 occurred\u201dWarning message:\n\u201cglm.fit: fitted probabilities numerically 0 or 1 occurred\u201dWarning message:\n\u201cglm.fit: fitted probabilities numerically 0 or 1 occurred\u201dWarning message:\n\u201cglm.fit: fitted probabilities numerically 0 or 1 occurred\u201dWarning message:\n\u201cglm.fit: fitted probabilities numerically 0 or 1 occurred\u201dWarning message:\n\u201cglm.fit: fitted probabilities numerically 0 or 1 occurred\u201dWarning message:\n\u201cglm.fit: fitted probabilities numerically 0 or 1 occurred\u201d",
                    "name": "stderr"
                },
                {
                    "output_type": "stream",
                    "text": "       Df Deviance     AIC\n+ SGI   1   84.014  90.014\n+ ACCR  1   85.354  91.354\n+ GMI   1   89.527  95.527\n+ AQI   1   90.605  96.605\n<none>      94.196  98.196\n+ SGAI  1   93.340  99.340\n+ LEVI  1   93.540  99.540\n+ DEPI  1   93.788  99.788\n- DSRI  1  108.131 110.131\n",
                    "name": "stdout"
                },
                {
                    "output_type": "stream",
                    "text": "Warning message:\n\u201cglm.fit: fitted probabilities numerically 0 or 1 occurred\u201d",
                    "name": "stderr"
                },
                {
                    "output_type": "stream",
                    "text": "\nStep:  AIC=90.01\nManipulater ~ DSRI + SGI\n\n",
                    "name": "stdout"
                },
                {
                    "output_type": "stream",
                    "text": "Warning message:\n\u201cglm.fit: fitted probabilities numerically 0 or 1 occurred\u201dWarning message:\n\u201cglm.fit: fitted probabilities numerically 0 or 1 occurred\u201dWarning message:\n\u201cglm.fit: fitted probabilities numerically 0 or 1 occurred\u201dWarning message:\n\u201cglm.fit: fitted probabilities numerically 0 or 1 occurred\u201dWarning message:\n\u201cglm.fit: fitted probabilities numerically 0 or 1 occurred\u201dWarning message:\n\u201cglm.fit: fitted probabilities numerically 0 or 1 occurred\u201dWarning message:\n\u201cglm.fit: fitted probabilities numerically 0 or 1 occurred\u201dWarning message:\n\u201cglm.fit: fitted probabilities numerically 0 or 1 occurred\u201d",
                    "name": "stderr"
                },
                {
                    "output_type": "stream",
                    "text": "       Df Deviance     AIC\n+ AQI   1   74.362  82.362\n+ ACCR  1   77.902  85.902\n+ GMI   1   80.450  88.450\n<none>      84.014  90.014\n+ SGAI  1   83.500  91.500\n+ DEPI  1   83.704  91.704\n+ LEVI  1   84.009  92.009\n- SGI   1   94.196  98.196\n- DSRI  1  104.789 108.789\n",
                    "name": "stdout"
                },
                {
                    "output_type": "stream",
                    "text": "Warning message:\n\u201cglm.fit: fitted probabilities numerically 0 or 1 occurred\u201d",
                    "name": "stderr"
                },
                {
                    "output_type": "stream",
                    "text": "\nStep:  AIC=82.36\nManipulater ~ DSRI + SGI + AQI\n\n",
                    "name": "stdout"
                },
                {
                    "output_type": "stream",
                    "text": "Warning message:\n\u201cglm.fit: fitted probabilities numerically 0 or 1 occurred\u201dWarning message:\n\u201cglm.fit: fitted probabilities numerically 0 or 1 occurred\u201dWarning message:\n\u201cglm.fit: fitted probabilities numerically 0 or 1 occurred\u201dWarning message:\n\u201cglm.fit: fitted probabilities numerically 0 or 1 occurred\u201dWarning message:\n\u201cglm.fit: fitted probabilities numerically 0 or 1 occurred\u201dWarning message:\n\u201cglm.fit: fitted probabilities numerically 0 or 1 occurred\u201dWarning message:\n\u201cglm.fit: fitted probabilities numerically 0 or 1 occurred\u201dWarning message:\n\u201cglm.fit: fitted probabilities numerically 0 or 1 occurred\u201d",
                    "name": "stderr"
                },
                {
                    "output_type": "stream",
                    "text": "       Df Deviance     AIC\n+ ACCR  1   61.045  71.045\n+ GMI   1   68.336  78.336\n+ DEPI  1   70.634  80.634\n<none>      74.362  82.362\n+ LEVI  1   72.411  82.411\n+ SGAI  1   74.345  84.345\n- AQI   1   84.014  90.014\n- SGI   1   90.605  96.605\n- DSRI  1  102.428 108.428\n",
                    "name": "stdout"
                },
                {
                    "output_type": "stream",
                    "text": "Warning message:\n\u201cglm.fit: fitted probabilities numerically 0 or 1 occurred\u201d",
                    "name": "stderr"
                },
                {
                    "output_type": "stream",
                    "text": "\nStep:  AIC=71.05\nManipulater ~ DSRI + SGI + AQI + ACCR\n\n",
                    "name": "stdout"
                },
                {
                    "output_type": "stream",
                    "text": "Warning message:\n\u201cglm.fit: fitted probabilities numerically 0 or 1 occurred\u201dWarning message:\n\u201cglm.fit: fitted probabilities numerically 0 or 1 occurred\u201dWarning message:\n\u201cglm.fit: fitted probabilities numerically 0 or 1 occurred\u201dWarning message:\n\u201cglm.fit: fitted probabilities numerically 0 or 1 occurred\u201dWarning message:\n\u201cglm.fit: fitted probabilities numerically 0 or 1 occurred\u201dWarning message:\n\u201cglm.fit: fitted probabilities numerically 0 or 1 occurred\u201dWarning message:\n\u201cglm.fit: fitted probabilities numerically 0 or 1 occurred\u201dWarning message:\n\u201cglm.fit: fitted probabilities numerically 0 or 1 occurred\u201d",
                    "name": "stderr"
                },
                {
                    "output_type": "stream",
                    "text": "       Df Deviance     AIC\n+ GMI   1   52.663  64.663\n+ DEPI  1   59.003  71.003\n<none>      61.045  71.045\n+ LEVI  1   60.084  72.084\n+ SGAI  1   60.899  72.899\n- ACCR  1   74.362  82.362\n- SGI   1   75.137  83.137\n- AQI   1   77.902  85.902\n- DSRI  1   96.855 104.855\n",
                    "name": "stdout"
                },
                {
                    "output_type": "stream",
                    "text": "Warning message:\n\u201cglm.fit: fitted probabilities numerically 0 or 1 occurred\u201d",
                    "name": "stderr"
                },
                {
                    "output_type": "stream",
                    "text": "\nStep:  AIC=64.66\nManipulater ~ DSRI + SGI + AQI + ACCR + GMI\n\n",
                    "name": "stdout"
                },
                {
                    "output_type": "stream",
                    "text": "Warning message:\n\u201cglm.fit: fitted probabilities numerically 0 or 1 occurred\u201dWarning message:\n\u201cglm.fit: fitted probabilities numerically 0 or 1 occurred\u201dWarning message:\n\u201cglm.fit: fitted probabilities numerically 0 or 1 occurred\u201dWarning message:\n\u201cglm.fit: fitted probabilities numerically 0 or 1 occurred\u201dWarning message:\n\u201cglm.fit: fitted probabilities numerically 0 or 1 occurred\u201dWarning message:\n\u201cglm.fit: fitted probabilities numerically 0 or 1 occurred\u201dWarning message:\n\u201cglm.fit: fitted probabilities numerically 0 or 1 occurred\u201dWarning message:\n\u201cglm.fit: fitted probabilities numerically 0 or 1 occurred\u201d",
                    "name": "stderr"
                },
                {
                    "output_type": "stream",
                    "text": "       Df Deviance     AIC\n<none>      52.663  64.663\n+ LEVI  1   52.136  66.136\n+ DEPI  1   52.481  66.481\n+ SGAI  1   52.596  66.596\n- GMI   1   61.045  71.045\n- SGI   1   65.444  75.444\n- ACCR  1   68.336  78.336\n- AQI   1   74.119  84.119\n- DSRI  1   94.111 104.111\n",
                    "name": "stdout"
                },
                {
                    "output_type": "stream",
                    "text": "Warning message:\n\u201cglm.fit: fitted probabilities numerically 0 or 1 occurred\u201d",
                    "name": "stderr"
                },
                {
                    "output_type": "stream",
                    "text": "Start:  AIC=110.13\nManipulater ~ 1\n\n",
                    "name": "stdout"
                },
                {
                    "output_type": "stream",
                    "text": "Warning message:\n\u201cglm.fit: fitted probabilities numerically 0 or 1 occurred\u201d",
                    "name": "stderr"
                },
                {
                    "output_type": "stream",
                    "text": "       Df Deviance     AIC\n+ DSRI  1   94.038  98.038\n+ ACCR  1  101.824 105.824\n+ SGI   1  103.956 107.956\n+ SGAI  1  105.222 109.222\n+ DEPI  1  106.099 110.099\n<none>     108.131 110.131\n+ GMI   1  106.894 110.894\n+ AQI   1  106.947 110.947\n+ LEVI  1  106.952 110.952\n",
                    "name": "stdout"
                },
                {
                    "output_type": "stream",
                    "text": "Warning message:\n\u201cglm.fit: fitted probabilities numerically 0 or 1 occurred\u201d",
                    "name": "stderr"
                },
                {
                    "output_type": "stream",
                    "text": "\nStep:  AIC=98.04\nManipulater ~ DSRI\n\n",
                    "name": "stdout"
                },
                {
                    "output_type": "stream",
                    "text": "Warning message:\n\u201cglm.fit: fitted probabilities numerically 0 or 1 occurred\u201dWarning message:\n\u201cglm.fit: fitted probabilities numerically 0 or 1 occurred\u201dWarning message:\n\u201cglm.fit: fitted probabilities numerically 0 or 1 occurred\u201dWarning message:\n\u201cglm.fit: fitted probabilities numerically 0 or 1 occurred\u201dWarning message:\n\u201cglm.fit: fitted probabilities numerically 0 or 1 occurred\u201dWarning message:\n\u201cglm.fit: fitted probabilities numerically 0 or 1 occurred\u201dWarning message:\n\u201cglm.fit: fitted probabilities numerically 0 or 1 occurred\u201dWarning message:\n\u201cglm.fit: fitted probabilities numerically 0 or 1 occurred\u201d",
                    "name": "stderr"
                },
                {
                    "output_type": "stream",
                    "text": "       Df Deviance     AIC\n+ ACCR  1   80.905  86.905\n+ SGI   1   82.478  88.478\n+ GMI   1   89.988  95.988\n+ AQI   1   91.687  97.687\n+ DEPI  1   91.731  97.731\n<none>      94.038  98.038\n+ SGAI  1   93.534  99.534\n+ LEVI  1   93.738  99.738\n- DSRI  1  108.131 110.131\n",
                    "name": "stdout"
                },
                {
                    "output_type": "stream",
                    "text": "Warning message:\n\u201cglm.fit: fitted probabilities numerically 0 or 1 occurred\u201d",
                    "name": "stderr"
                },
                {
                    "output_type": "stream",
                    "text": "\nStep:  AIC=86.9\nManipulater ~ DSRI + ACCR\n\n",
                    "name": "stdout"
                },
                {
                    "output_type": "stream",
                    "text": "Warning message:\n\u201cglm.fit: fitted probabilities numerically 0 or 1 occurred\u201dWarning message:\n\u201cglm.fit: fitted probabilities numerically 0 or 1 occurred\u201dWarning message:\n\u201cglm.fit: fitted probabilities numerically 0 or 1 occurred\u201dWarning message:\n\u201cglm.fit: fitted probabilities numerically 0 or 1 occurred\u201dWarning message:\n\u201cglm.fit: fitted probabilities numerically 0 or 1 occurred\u201dWarning message:\n\u201cglm.fit: fitted probabilities numerically 0 or 1 occurred\u201dWarning message:\n\u201cglm.fit: fitted probabilities numerically 0 or 1 occurred\u201dWarning message:\n\u201cglm.fit: fitted probabilities numerically 0 or 1 occurred\u201d",
                    "name": "stderr"
                },
                {
                    "output_type": "stream",
                    "text": "       Df Deviance     AIC\n+ SGI   1   72.424  80.424\n+ AQI   1   73.139  81.139\n+ GMI   1   75.849  83.849\n+ DEPI  1   77.825  85.825\n<none>      80.905  86.905\n+ LEVI  1   80.145  88.145\n+ SGAI  1   80.905  88.905\n- ACCR  1   94.038  98.038\n- DSRI  1  101.824 105.824\n",
                    "name": "stdout"
                },
                {
                    "output_type": "stream",
                    "text": "Warning message:\n\u201cglm.fit: fitted probabilities numerically 0 or 1 occurred\u201d",
                    "name": "stderr"
                },
                {
                    "output_type": "stream",
                    "text": "\nStep:  AIC=80.42\nManipulater ~ DSRI + ACCR + SGI\n\n",
                    "name": "stdout"
                },
                {
                    "output_type": "stream",
                    "text": "Warning message:\n\u201cglm.fit: fitted probabilities numerically 0 or 1 occurred\u201dWarning message:\n\u201cglm.fit: fitted probabilities numerically 0 or 1 occurred\u201dWarning message:\n\u201cglm.fit: fitted probabilities numerically 0 or 1 occurred\u201dWarning message:\n\u201cglm.fit: fitted probabilities numerically 0 or 1 occurred\u201dWarning message:\n\u201cglm.fit: fitted probabilities numerically 0 or 1 occurred\u201dWarning message:\n\u201cglm.fit: fitted probabilities numerically 0 or 1 occurred\u201dWarning message:\n\u201cglm.fit: fitted probabilities numerically 0 or 1 occurred\u201dWarning message:\n\u201cglm.fit: fitted probabilities numerically 0 or 1 occurred\u201d",
                    "name": "stderr"
                },
                {
                    "output_type": "stream",
                    "text": "       Df Deviance     AIC\n+ AQI   1   58.709  68.709\n+ GMI   1   69.490  79.490\n<none>      72.424  80.424\n+ DEPI  1   71.500  81.500\n+ LEVI  1   72.077  82.077\n+ SGAI  1   72.362  82.362\n- SGI   1   80.905  86.905\n- ACCR  1   82.478  88.478\n- DSRI  1   98.725 104.725\n",
                    "name": "stdout"
                },
                {
                    "output_type": "stream",
                    "text": "Warning message:\n\u201cglm.fit: fitted probabilities numerically 0 or 1 occurred\u201d",
                    "name": "stderr"
                },
                {
                    "output_type": "stream",
                    "text": "\nStep:  AIC=68.71\nManipulater ~ DSRI + ACCR + SGI + AQI\n\n",
                    "name": "stdout"
                },
                {
                    "output_type": "stream",
                    "text": "Warning message:\n\u201cglm.fit: fitted probabilities numerically 0 or 1 occurred\u201dWarning message:\n\u201cglm.fit: fitted probabilities numerically 0 or 1 occurred\u201dWarning message:\n\u201cglm.fit: fitted probabilities numerically 0 or 1 occurred\u201dWarning message:\n\u201cglm.fit: fitted probabilities numerically 0 or 1 occurred\u201dWarning message:\n\u201cglm.fit: fitted probabilities numerically 0 or 1 occurred\u201dWarning message:\n\u201cglm.fit: fitted probabilities numerically 0 or 1 occurred\u201dWarning message:\n\u201cglm.fit: fitted probabilities numerically 0 or 1 occurred\u201dWarning message:\n\u201cglm.fit: fitted probabilities numerically 0 or 1 occurred\u201d",
                    "name": "stderr"
                },
                {
                    "output_type": "stream",
                    "text": "       Df Deviance     AIC\n+ GMI   1   53.269  65.269\n<none>      58.709  68.709\n+ SGAI  1   57.855  69.855\n+ LEVI  1   58.459  70.459\n+ DEPI  1   58.663  70.663\n- AQI   1   72.424  80.424\n- SGI   1   73.139  81.139\n- ACCR  1   75.351  83.351\n- DSRI  1   95.103 103.103\n",
                    "name": "stdout"
                },
                {
                    "output_type": "stream",
                    "text": "Warning message:\n\u201cglm.fit: fitted probabilities numerically 0 or 1 occurred\u201d",
                    "name": "stderr"
                },
                {
                    "output_type": "stream",
                    "text": "\nStep:  AIC=65.27\nManipulater ~ DSRI + ACCR + SGI + AQI + GMI\n\n",
                    "name": "stdout"
                },
                {
                    "output_type": "stream",
                    "text": "Warning message:\n\u201cglm.fit: fitted probabilities numerically 0 or 1 occurred\u201dWarning message:\n\u201cglm.fit: fitted probabilities numerically 0 or 1 occurred\u201dWarning message:\n\u201cglm.fit: fitted probabilities numerically 0 or 1 occurred\u201dWarning message:\n\u201cglm.fit: fitted probabilities numerically 0 or 1 occurred\u201dWarning message:\n\u201cglm.fit: fitted probabilities numerically 0 or 1 occurred\u201dWarning message:\n\u201cglm.fit: fitted probabilities numerically 0 or 1 occurred\u201dWarning message:\n\u201cglm.fit: fitted probabilities numerically 0 or 1 occurred\u201dWarning message:\n\u201cglm.fit: fitted probabilities numerically 0 or 1 occurred\u201d",
                    "name": "stderr"
                },
                {
                    "output_type": "stream",
                    "text": "       Df Deviance     AIC\n<none>      53.269  65.269\n+ DEPI  1   52.936  66.936\n+ SGAI  1   53.083  67.083\n+ LEVI  1   53.229  67.229\n- GMI   1   58.709  68.709\n- SGI   1   65.466  75.466\n- AQI   1   69.490  79.490\n- ACCR  1   72.787  82.787\n- DSRI  1   94.036 104.036\n",
                    "name": "stdout"
                },
                {
                    "output_type": "stream",
                    "text": "Warning message:\n\u201cglm.fit: fitted probabilities numerically 0 or 1 occurred\u201d",
                    "name": "stderr"
                },
                {
                    "output_type": "stream",
                    "text": "Start:  AIC=110.13\nManipulater ~ 1\n\n       Df Deviance    AIC\n+ DSRI  1   98.588 102.59\n+ ACCR  1  102.486 106.49\n+ SGI   1  103.762 107.76\n+ AQI   1  105.297 109.30\n+ SGAI  1  105.413 109.41\n<none>     108.131 110.13\n+ DEPI  1  106.700 110.70\n+ GMI   1  106.964 110.96\n+ LEVI  1  106.987 110.99\n\nStep:  AIC=102.59\nManipulater ~ DSRI\n\n",
                    "name": "stdout"
                },
                {
                    "output_type": "stream",
                    "text": "Warning message:\n\u201cglm.fit: fitted probabilities numerically 0 or 1 occurred\u201dWarning message:\n\u201cglm.fit: fitted probabilities numerically 0 or 1 occurred\u201dWarning message:\n\u201cglm.fit: fitted probabilities numerically 0 or 1 occurred\u201dWarning message:\n\u201cglm.fit: fitted probabilities numerically 0 or 1 occurred\u201dWarning message:\n\u201cglm.fit: fitted probabilities numerically 0 or 1 occurred\u201d",
                    "name": "stderr"
                },
                {
                    "output_type": "stream",
                    "text": "       Df Deviance     AIC\n+ SGI   1   85.657  91.657\n+ ACCR  1   86.756  92.756\n+ AQI   1   94.797 100.797\n+ GMI   1   96.008 102.008\n<none>      98.588 102.588\n+ DEPI  1   97.297 103.297\n+ SGAI  1   98.291 104.291\n+ LEVI  1   98.438 104.438\n- DSRI  1  108.131 110.131\n",
                    "name": "stdout"
                },
                {
                    "output_type": "stream",
                    "text": "Warning message:\n\u201cglm.fit: fitted probabilities numerically 0 or 1 occurred\u201d",
                    "name": "stderr"
                },
                {
                    "output_type": "stream",
                    "text": "\nStep:  AIC=91.66\nManipulater ~ DSRI + SGI\n\n",
                    "name": "stdout"
                },
                {
                    "output_type": "stream",
                    "text": "Warning message:\n\u201cglm.fit: fitted probabilities numerically 0 or 1 occurred\u201dWarning message:\n\u201cglm.fit: fitted probabilities numerically 0 or 1 occurred\u201dWarning message:\n\u201cglm.fit: fitted probabilities numerically 0 or 1 occurred\u201dWarning message:\n\u201cglm.fit: fitted probabilities numerically 0 or 1 occurred\u201dWarning message:\n\u201cglm.fit: fitted probabilities numerically 0 or 1 occurred\u201dWarning message:\n\u201cglm.fit: fitted probabilities numerically 0 or 1 occurred\u201dWarning message:\n\u201cglm.fit: fitted probabilities numerically 0 or 1 occurred\u201d",
                    "name": "stderr"
                },
                {
                    "output_type": "stream",
                    "text": "       Df Deviance     AIC\n+ AQI   1   73.731  81.731\n+ ACCR  1   76.125  84.125\n<none>      85.657  91.657\n+ GMI   1   84.559  92.559\n+ LEVI  1   85.491  93.491\n+ SGAI  1   85.547  93.547\n+ DEPI  1   85.649  93.649\n- SGI   1   98.588 102.588\n- DSRI  1  103.762 107.762\n",
                    "name": "stdout"
                },
                {
                    "output_type": "stream",
                    "text": "Warning message:\n\u201cglm.fit: fitted probabilities numerically 0 or 1 occurred\u201d",
                    "name": "stderr"
                },
                {
                    "output_type": "stream",
                    "text": "\nStep:  AIC=81.73\nManipulater ~ DSRI + SGI + AQI\n\n",
                    "name": "stdout"
                },
                {
                    "output_type": "stream",
                    "text": "Warning message:\n\u201cglm.fit: fitted probabilities numerically 0 or 1 occurred\u201dWarning message:\n\u201cglm.fit: fitted probabilities numerically 0 or 1 occurred\u201dWarning message:\n\u201cglm.fit: fitted probabilities numerically 0 or 1 occurred\u201dWarning message:\n\u201cglm.fit: fitted probabilities numerically 0 or 1 occurred\u201dWarning message:\n\u201cglm.fit: fitted probabilities numerically 0 or 1 occurred\u201dWarning message:\n\u201cglm.fit: fitted probabilities numerically 0 or 1 occurred\u201dWarning message:\n\u201cglm.fit: fitted probabilities numerically 0 or 1 occurred\u201dWarning message:\n\u201cglm.fit: fitted probabilities numerically 0 or 1 occurred\u201d",
                    "name": "stderr"
                },
                {
                    "output_type": "stream",
                    "text": "       Df Deviance     AIC\n+ ACCR  1   56.711  66.711\n+ LEVI  1   70.275  80.275\n<none>      73.731  81.731\n+ DEPI  1   72.280  82.280\n+ GMI   1   72.693  82.693\n+ SGAI  1   73.693  83.693\n- AQI   1   85.657  91.657\n- SGI   1   94.797 100.797\n- DSRI  1   99.611 105.611\n",
                    "name": "stdout"
                },
                {
                    "output_type": "stream",
                    "text": "Warning message:\n\u201cglm.fit: fitted probabilities numerically 0 or 1 occurred\u201d",
                    "name": "stderr"
                },
                {
                    "output_type": "stream",
                    "text": "\nStep:  AIC=66.71\nManipulater ~ DSRI + SGI + AQI + ACCR\n\n",
                    "name": "stdout"
                },
                {
                    "output_type": "stream",
                    "text": "Warning message:\n\u201cglm.fit: fitted probabilities numerically 0 or 1 occurred\u201dWarning message:\n\u201cglm.fit: fitted probabilities numerically 0 or 1 occurred\u201dWarning message:\n\u201cglm.fit: fitted probabilities numerically 0 or 1 occurred\u201dWarning message:\n\u201cglm.fit: fitted probabilities numerically 0 or 1 occurred\u201dWarning message:\n\u201cglm.fit: fitted probabilities numerically 0 or 1 occurred\u201dWarning message:\n\u201cglm.fit: fitted probabilities numerically 0 or 1 occurred\u201dWarning message:\n\u201cglm.fit: fitted probabilities numerically 0 or 1 occurred\u201dWarning message:\n\u201cglm.fit: fitted probabilities numerically 0 or 1 occurred\u201d",
                    "name": "stderr"
                },
                {
                    "output_type": "stream",
                    "text": "       Df Deviance     AIC\n<none>      56.711  66.711\n+ GMI   1   55.175  67.175\n+ SGAI  1   55.340  67.340\n+ LEVI  1   55.828  67.828\n+ DEPI  1   56.062  68.062\n- ACCR  1   73.731  81.731\n- AQI   1   76.125  84.125\n- SGI   1   77.107  85.107\n- DSRI  1   93.096 101.096\n",
                    "name": "stdout"
                },
                {
                    "output_type": "stream",
                    "text": "Warning message:\n\u201cglm.fit: fitted probabilities numerically 0 or 1 occurred\u201d",
                    "name": "stderr"
                },
                {
                    "output_type": "stream",
                    "text": "Start:  AIC=110.13\nManipulater ~ 1\n\n       Df Deviance    AIC\n+ DSRI  1   100.16 104.16\n+ ACCR  1   101.33 105.33\n+ SGAI  1   104.65 108.65\n+ SGI   1   104.82 108.82\n+ DEPI  1   104.98 108.98\n+ AQI   1   105.04 109.04\n<none>      108.13 110.13\n+ GMI   1   106.57 110.57\n+ LEVI  1   106.58 110.58\n\nStep:  AIC=104.16\nManipulater ~ DSRI\n\n       Df Deviance     AIC\n+ ACCR  1   89.176  95.176\n+ SGI   1   91.826  97.826\n+ AQI   1   96.082 102.082\n+ DEPI  1   96.471 102.471\n+ GMI   1   96.847 102.847\n<none>     100.164 104.164\n+ SGAI  1   99.665 105.665\n+ LEVI  1   99.669 105.669\n- DSRI  1  108.131 110.131\n\nStep:  AIC=95.18\nManipulater ~ DSRI + ACCR\n\n",
                    "name": "stdout"
                },
                {
                    "output_type": "stream",
                    "text": "Warning message:\n\u201cglm.fit: fitted probabilities numerically 0 or 1 occurred\u201dWarning message:\n\u201cglm.fit: fitted probabilities numerically 0 or 1 occurred\u201d",
                    "name": "stderr"
                },
                {
                    "output_type": "stream",
                    "text": "       Df Deviance     AIC\n+ AQI   1   79.108  87.108\n+ SGI   1   81.726  89.726\n+ GMI   1   82.744  90.744\n+ DEPI  1   82.897  90.897\n<none>      89.176  95.176\n+ LEVI  1   87.976  95.976\n+ SGAI  1   89.129  97.129\n- ACCR  1  100.164 104.164\n- DSRI  1  101.329 105.329\n\nStep:  AIC=87.11\nManipulater ~ DSRI + ACCR + AQI\n\n",
                    "name": "stdout"
                },
                {
                    "output_type": "stream",
                    "text": "Warning message:\n\u201cglm.fit: fitted probabilities numerically 0 or 1 occurred\u201dWarning message:\n\u201cglm.fit: fitted probabilities numerically 0 or 1 occurred\u201dWarning message:\n\u201cglm.fit: fitted probabilities numerically 0 or 1 occurred\u201d",
                    "name": "stderr"
                },
                {
                    "output_type": "stream",
                    "text": "       Df Deviance     AIC\n+ GMI   1   63.490  73.490\n+ SGI   1   64.257  74.257\n+ DEPI  1   72.687  82.687\n<none>      79.108  87.108\n+ LEVI  1   78.996  88.996\n+ SGAI  1   79.105  89.105\n- AQI   1   89.176  95.176\n- DSRI  1   95.061 101.061\n- ACCR  1   96.082 102.082\n",
                    "name": "stdout"
                },
                {
                    "output_type": "stream",
                    "text": "Warning message:\n\u201cglm.fit: fitted probabilities numerically 0 or 1 occurred\u201d",
                    "name": "stderr"
                },
                {
                    "output_type": "stream",
                    "text": "\nStep:  AIC=73.49\nManipulater ~ DSRI + ACCR + AQI + GMI\n\n",
                    "name": "stdout"
                },
                {
                    "output_type": "stream",
                    "text": "Warning message:\n\u201cglm.fit: fitted probabilities numerically 0 or 1 occurred\u201dWarning message:\n\u201cglm.fit: fitted probabilities numerically 0 or 1 occurred\u201dWarning message:\n\u201cglm.fit: fitted probabilities numerically 0 or 1 occurred\u201dWarning message:\n\u201cglm.fit: fitted probabilities numerically 0 or 1 occurred\u201dWarning message:\n\u201cglm.fit: fitted probabilities numerically 0 or 1 occurred\u201dWarning message:\n\u201cglm.fit: fitted probabilities numerically 0 or 1 occurred\u201dWarning message:\n\u201cglm.fit: fitted probabilities numerically 0 or 1 occurred\u201dWarning message:\n\u201cglm.fit: fitted probabilities numerically 0 or 1 occurred\u201d",
                    "name": "stderr"
                },
                {
                    "output_type": "stream",
                    "text": "       Df Deviance    AIC\n+ SGI   1   43.567 55.567\n+ DEPI  1   52.064 64.064\n<none>      63.490 73.490\n+ SGAI  1   62.881 74.881\n+ LEVI  1   63.348 75.348\n- GMI   1   79.108 87.108\n- AQI   1   82.744 90.744\n- ACCR  1   90.073 98.073\n- DSRI  1   91.771 99.771\n",
                    "name": "stdout"
                },
                {
                    "output_type": "stream",
                    "text": "Warning message:\n\u201cglm.fit: fitted probabilities numerically 0 or 1 occurred\u201d",
                    "name": "stderr"
                },
                {
                    "output_type": "stream",
                    "text": "\nStep:  AIC=55.57\nManipulater ~ DSRI + ACCR + AQI + GMI + SGI\n\n",
                    "name": "stdout"
                },
                {
                    "output_type": "stream",
                    "text": "Warning message:\n\u201cglm.fit: fitted probabilities numerically 0 or 1 occurred\u201dWarning message:\n\u201cglm.fit: fitted probabilities numerically 0 or 1 occurred\u201dWarning message:\n\u201cglm.fit: fitted probabilities numerically 0 or 1 occurred\u201dWarning message:\n\u201cglm.fit: fitted probabilities numerically 0 or 1 occurred\u201dWarning message:\n\u201cglm.fit: fitted probabilities numerically 0 or 1 occurred\u201dWarning message:\n\u201cglm.fit: fitted probabilities numerically 0 or 1 occurred\u201dWarning message:\n\u201cglm.fit: fitted probabilities numerically 0 or 1 occurred\u201dWarning message:\n\u201cglm.fit: fitted probabilities numerically 0 or 1 occurred\u201dWarning message:\n\u201cglm.fit: fitted probabilities numerically 0 or 1 occurred\u201d",
                    "name": "stderr"
                },
                {
                    "output_type": "stream",
                    "text": "       Df Deviance    AIC\n+ DEPI  1   38.763 52.763\n<none>      43.567 55.567\n+ LEVI  1   43.232 57.232\n+ SGAI  1   43.302 57.302\n- SGI   1   63.490 73.490\n- GMI   1   64.257 74.257\n- AQI   1   76.244 86.244\n- ACCR  1   76.445 86.445\n- DSRI  1   88.791 98.791\n",
                    "name": "stdout"
                },
                {
                    "output_type": "stream",
                    "text": "Warning message:\n\u201cglm.fit: fitted probabilities numerically 0 or 1 occurred\u201d",
                    "name": "stderr"
                },
                {
                    "output_type": "stream",
                    "text": "\nStep:  AIC=52.76\nManipulater ~ DSRI + ACCR + AQI + GMI + SGI + DEPI\n\n",
                    "name": "stdout"
                },
                {
                    "output_type": "stream",
                    "text": "Warning message:\n\u201cglm.fit: fitted probabilities numerically 0 or 1 occurred\u201dWarning message:\n\u201cglm.fit: fitted probabilities numerically 0 or 1 occurred\u201dWarning message:\n\u201cglm.fit: fitted probabilities numerically 0 or 1 occurred\u201dWarning message:\n\u201cglm.fit: fitted probabilities numerically 0 or 1 occurred\u201dWarning message:\n\u201cglm.fit: fitted probabilities numerically 0 or 1 occurred\u201dWarning message:\n\u201cglm.fit: fitted probabilities numerically 0 or 1 occurred\u201dWarning message:\n\u201cglm.fit: fitted probabilities numerically 0 or 1 occurred\u201dWarning message:\n\u201cglm.fit: fitted probabilities numerically 0 or 1 occurred\u201dWarning message:\n\u201cglm.fit: fitted probabilities numerically 0 or 1 occurred\u201d",
                    "name": "stderr"
                },
                {
                    "output_type": "stream",
                    "text": "       Df Deviance    AIC\n<none>      38.763 52.763\n+ LEVI  1   38.367 54.367\n+ SGAI  1   38.694 54.694\n- DEPI  1   43.567 55.567\n- SGI   1   52.064 64.064\n- GMI   1   61.514 73.514\n- AQI   1   70.578 82.578\n- ACCR  1   74.551 86.551\n- DSRI  1   84.557 96.557\n",
                    "name": "stdout"
                },
                {
                    "output_type": "stream",
                    "text": "Warning message:\n\u201cglm.fit: fitted probabilities numerically 0 or 1 occurred\u201d",
                    "name": "stderr"
                },
                {
                    "output_type": "stream",
                    "text": "Start:  AIC=110.13\nManipulater ~ 1\n\n       Df Deviance    AIC\n+ DSRI  1   100.44 104.44\n+ AQI   1   104.07 108.07\n+ ACCR  1   104.47 108.47\n+ SGI   1   104.76 108.76\n+ SGAI  1   105.48 109.48\n+ DEPI  1   105.54 109.54\n<none>      108.13 110.13\n+ GMI   1   106.91 110.91\n+ LEVI  1   106.95 110.95\n\nStep:  AIC=104.44\nManipulater ~ DSRI\n\n       Df Deviance     AIC\n+ SGI   1   93.267  99.267\n+ ACCR  1   93.963  99.963\n+ AQI   1   95.714 101.714\n+ DEPI  1   97.798 103.798\n+ GMI   1   98.147 104.147\n<none>     100.444 104.444\n+ SGAI  1  100.071 106.071\n+ LEVI  1  100.249 106.249\n- DSRI  1  108.131 110.131\n\nStep:  AIC=99.27\nManipulater ~ DSRI + SGI\n\n",
                    "name": "stdout"
                },
                {
                    "output_type": "stream",
                    "text": "Warning message:\n\u201cglm.fit: fitted probabilities numerically 0 or 1 occurred\u201d",
                    "name": "stderr"
                },
                {
                    "output_type": "stream",
                    "text": "       Df Deviance     AIC\n+ AQI   1   84.691  92.691\n+ ACCR  1   87.549  95.549\n<none>      93.267  99.267\n+ GMI   1   91.800  99.800\n+ DEPI  1   92.304 100.304\n+ LEVI  1   93.100 101.100\n+ SGAI  1   93.172 101.172\n- SGI   1  100.444 104.444\n- DSRI  1  104.758 108.758\n",
                    "name": "stdout"
                },
                {
                    "output_type": "stream",
                    "text": "Warning message:\n\u201cglm.fit: fitted probabilities numerically 0 or 1 occurred\u201d",
                    "name": "stderr"
                },
                {
                    "output_type": "stream",
                    "text": "\nStep:  AIC=92.69\nManipulater ~ DSRI + SGI + AQI\n\n",
                    "name": "stdout"
                },
                {
                    "output_type": "stream",
                    "text": "Warning message:\n\u201cglm.fit: fitted probabilities numerically 0 or 1 occurred\u201dWarning message:\n\u201cglm.fit: fitted probabilities numerically 0 or 1 occurred\u201dWarning message:\n\u201cglm.fit: fitted probabilities numerically 0 or 1 occurred\u201dWarning message:\n\u201cglm.fit: fitted probabilities numerically 0 or 1 occurred\u201dWarning message:\n\u201cglm.fit: fitted probabilities numerically 0 or 1 occurred\u201dWarning message:\n\u201cglm.fit: fitted probabilities numerically 0 or 1 occurred\u201d",
                    "name": "stderr"
                },
                {
                    "output_type": "stream",
                    "text": "       Df Deviance     AIC\n+ ACCR  1   73.728  83.728\n+ LEVI  1   82.088  92.088\n+ GMI   1   82.516  92.516\n<none>      84.691  92.691\n+ DEPI  1   84.598  94.598\n+ SGAI  1   84.691  94.691\n- AQI   1   93.267  99.267\n- SGI   1   95.714 101.714\n- DSRI  1   99.701 105.701\n",
                    "name": "stdout"
                },
                {
                    "output_type": "stream",
                    "text": "Warning message:\n\u201cglm.fit: fitted probabilities numerically 0 or 1 occurred\u201d",
                    "name": "stderr"
                },
                {
                    "output_type": "stream",
                    "text": "\nStep:  AIC=83.73\nManipulater ~ DSRI + SGI + AQI + ACCR\n\n",
                    "name": "stdout"
                },
                {
                    "output_type": "stream",
                    "text": "Warning message:\n\u201cglm.fit: fitted probabilities numerically 0 or 1 occurred\u201dWarning message:\n\u201cglm.fit: fitted probabilities numerically 0 or 1 occurred\u201dWarning message:\n\u201cglm.fit: fitted probabilities numerically 0 or 1 occurred\u201dWarning message:\n\u201cglm.fit: fitted probabilities numerically 0 or 1 occurred\u201dWarning message:\n\u201cglm.fit: fitted probabilities numerically 0 or 1 occurred\u201dWarning message:\n\u201cglm.fit: fitted probabilities numerically 0 or 1 occurred\u201d",
                    "name": "stderr"
                },
                {
                    "output_type": "stream",
                    "text": "       Df Deviance     AIC\n+ GMI   1   66.263  78.263\n+ LEVI  1   71.438  83.438\n<none>      73.728  83.728\n+ SGAI  1   73.529  85.529\n+ DEPI  1   73.636  85.636\n- ACCR  1   84.691  92.691\n- SGI   1   85.430  93.430\n- AQI   1   87.549  95.549\n- DSRI  1   94.593 102.593\n",
                    "name": "stdout"
                },
                {
                    "output_type": "stream",
                    "text": "Warning message:\n\u201cglm.fit: fitted probabilities numerically 0 or 1 occurred\u201d",
                    "name": "stderr"
                },
                {
                    "output_type": "stream",
                    "text": "\nStep:  AIC=78.26\nManipulater ~ DSRI + SGI + AQI + ACCR + GMI\n\n",
                    "name": "stdout"
                },
                {
                    "output_type": "stream",
                    "text": "Warning message:\n\u201cglm.fit: fitted probabilities numerically 0 or 1 occurred\u201dWarning message:\n\u201cglm.fit: fitted probabilities numerically 0 or 1 occurred\u201dWarning message:\n\u201cglm.fit: fitted probabilities numerically 0 or 1 occurred\u201dWarning message:\n\u201cglm.fit: fitted probabilities numerically 0 or 1 occurred\u201dWarning message:\n\u201cglm.fit: fitted probabilities numerically 0 or 1 occurred\u201dWarning message:\n\u201cglm.fit: fitted probabilities numerically 0 or 1 occurred\u201dWarning message:\n\u201cglm.fit: fitted probabilities numerically 0 or 1 occurred\u201d",
                    "name": "stderr"
                },
                {
                    "output_type": "stream",
                    "text": "       Df Deviance     AIC\n<none>      66.263  78.263\n+ LEVI  1   65.039  79.039\n+ DEPI  1   66.199  80.199\n+ SGAI  1   66.217  80.217\n- GMI   1   73.728  83.728\n- SGI   1   77.568  87.568\n- ACCR  1   82.516  92.516\n- AQI   1   85.362  95.362\n- DSRI  1   93.467 103.467\n",
                    "name": "stdout"
                },
                {
                    "output_type": "stream",
                    "text": "Warning message:\n\u201cglm.fit: fitted probabilities numerically 0 or 1 occurred\u201d",
                    "name": "stderr"
                },
                {
                    "output_type": "stream",
                    "text": "Start:  AIC=110.13\nManipulater ~ 1\n\n",
                    "name": "stdout"
                },
                {
                    "output_type": "stream",
                    "text": "Warning message:\n\u201cglm.fit: fitted probabilities numerically 0 or 1 occurred\u201dWarning message:\n\u201cglm.fit: fitted probabilities numerically 0 or 1 occurred\u201d",
                    "name": "stderr"
                },
                {
                    "output_type": "stream",
                    "text": "       Df Deviance    AIC\n+ DSRI  1   97.039 101.04\n+ SGAI  1  101.957 105.96\n+ SGI   1  103.353 107.35\n+ ACCR  1  104.836 108.84\n+ AQI   1  105.386 109.39\n<none>     108.131 110.13\n+ LEVI  1  106.679 110.68\n+ GMI   1  106.750 110.75\n+ DEPI  1  106.927 110.93\n",
                    "name": "stdout"
                },
                {
                    "output_type": "stream",
                    "text": "Warning message:\n\u201cglm.fit: fitted probabilities numerically 0 or 1 occurred\u201d",
                    "name": "stderr"
                },
                {
                    "output_type": "stream",
                    "text": "\nStep:  AIC=101.04\nManipulater ~ DSRI\n\n",
                    "name": "stdout"
                },
                {
                    "output_type": "stream",
                    "text": "Warning message:\n\u201cglm.fit: fitted probabilities numerically 0 or 1 occurred\u201dWarning message:\n\u201cglm.fit: fitted probabilities numerically 0 or 1 occurred\u201dWarning message:\n\u201cglm.fit: fitted probabilities numerically 0 or 1 occurred\u201dWarning message:\n\u201cglm.fit: fitted probabilities numerically 0 or 1 occurred\u201dWarning message:\n\u201cglm.fit: fitted probabilities numerically 0 or 1 occurred\u201dWarning message:\n\u201cglm.fit: fitted probabilities numerically 0 or 1 occurred\u201dWarning message:\n\u201cglm.fit: fitted probabilities numerically 0 or 1 occurred\u201dWarning message:\n\u201cglm.fit: fitted probabilities numerically 0 or 1 occurred\u201d",
                    "name": "stderr"
                },
                {
                    "output_type": "stream",
                    "text": "       Df Deviance     AIC\n+ SGI   1   83.730  89.730\n+ ACCR  1   89.758  95.758\n+ AQI   1   93.133  99.133\n+ GMI   1   93.467  99.467\n+ SGAI  1   93.502  99.502\n<none>      97.039 101.039\n+ DEPI  1   95.999 101.999\n+ LEVI  1   96.611 102.611\n- DSRI  1  108.131 110.131\n",
                    "name": "stdout"
                },
                {
                    "output_type": "stream",
                    "text": "Warning message:\n\u201cglm.fit: fitted probabilities numerically 0 or 1 occurred\u201d",
                    "name": "stderr"
                },
                {
                    "output_type": "stream",
                    "text": "\nStep:  AIC=89.73\nManipulater ~ DSRI + SGI\n\n",
                    "name": "stdout"
                },
                {
                    "output_type": "stream",
                    "text": "Warning message:\n\u201cglm.fit: fitted probabilities numerically 0 or 1 occurred\u201dWarning message:\n\u201cglm.fit: fitted probabilities numerically 0 or 1 occurred\u201dWarning message:\n\u201cglm.fit: fitted probabilities numerically 0 or 1 occurred\u201dWarning message:\n\u201cglm.fit: fitted probabilities numerically 0 or 1 occurred\u201dWarning message:\n\u201cglm.fit: fitted probabilities numerically 0 or 1 occurred\u201dWarning message:\n\u201cglm.fit: fitted probabilities numerically 0 or 1 occurred\u201dWarning message:\n\u201cglm.fit: fitted probabilities numerically 0 or 1 occurred\u201dWarning message:\n\u201cglm.fit: fitted probabilities numerically 0 or 1 occurred\u201d",
                    "name": "stderr"
                },
                {
                    "output_type": "stream",
                    "text": "       Df Deviance     AIC\n+ AQI   1   70.960  78.960\n+ ACCR  1   77.692  85.692\n+ SGAI  1   79.273  87.273\n<none>      83.730  89.730\n+ GMI   1   82.271  90.271\n+ DEPI  1   83.710  91.710\n+ LEVI  1   83.711  91.711\n- SGI   1   97.039 101.039\n- DSRI  1  103.353 107.353\n",
                    "name": "stdout"
                },
                {
                    "output_type": "stream",
                    "text": "Warning message:\n\u201cglm.fit: fitted probabilities numerically 0 or 1 occurred\u201d",
                    "name": "stderr"
                },
                {
                    "output_type": "stream",
                    "text": "\nStep:  AIC=78.96\nManipulater ~ DSRI + SGI + AQI\n\n",
                    "name": "stdout"
                },
                {
                    "output_type": "stream",
                    "text": "Warning message:\n\u201cglm.fit: fitted probabilities numerically 0 or 1 occurred\u201dWarning message:\n\u201cglm.fit: fitted probabilities numerically 0 or 1 occurred\u201dWarning message:\n\u201cglm.fit: fitted probabilities numerically 0 or 1 occurred\u201dWarning message:\n\u201cglm.fit: fitted probabilities numerically 0 or 1 occurred\u201dWarning message:\n\u201cglm.fit: fitted probabilities numerically 0 or 1 occurred\u201dWarning message:\n\u201cglm.fit: fitted probabilities numerically 0 or 1 occurred\u201dWarning message:\n\u201cglm.fit: fitted probabilities numerically 0 or 1 occurred\u201dWarning message:\n\u201cglm.fit: fitted probabilities numerically 0 or 1 occurred\u201d",
                    "name": "stderr"
                },
                {
                    "output_type": "stream",
                    "text": "       Df Deviance     AIC\n+ ACCR  1   55.920  65.920\n+ GMI   1   67.988  77.988\n+ LEVI  1   68.664  78.664\n<none>      70.960  78.960\n+ SGAI  1   69.228  79.228\n+ DEPI  1   70.882  80.882\n- AQI   1   83.730  89.730\n- SGI   1   93.133  99.133\n- DSRI  1   99.037 105.037\n",
                    "name": "stdout"
                },
                {
                    "output_type": "stream",
                    "text": "Warning message:\n\u201cglm.fit: fitted probabilities numerically 0 or 1 occurred\u201d",
                    "name": "stderr"
                },
                {
                    "output_type": "stream",
                    "text": "\nStep:  AIC=65.92\nManipulater ~ DSRI + SGI + AQI + ACCR\n\n",
                    "name": "stdout"
                },
                {
                    "output_type": "stream",
                    "text": "Warning message:\n\u201cglm.fit: fitted probabilities numerically 0 or 1 occurred\u201dWarning message:\n\u201cglm.fit: fitted probabilities numerically 0 or 1 occurred\u201dWarning message:\n\u201cglm.fit: fitted probabilities numerically 0 or 1 occurred\u201dWarning message:\n\u201cglm.fit: fitted probabilities numerically 0 or 1 occurred\u201dWarning message:\n\u201cglm.fit: fitted probabilities numerically 0 or 1 occurred\u201dWarning message:\n\u201cglm.fit: fitted probabilities numerically 0 or 1 occurred\u201dWarning message:\n\u201cglm.fit: fitted probabilities numerically 0 or 1 occurred\u201dWarning message:\n\u201cglm.fit: fitted probabilities numerically 0 or 1 occurred\u201d",
                    "name": "stderr"
                },
                {
                    "output_type": "stream",
                    "text": "       Df Deviance     AIC\n+ GMI   1   47.288  59.288\n<none>      55.920  65.920\n+ LEVI  1   55.605  67.605\n+ SGAI  1   55.759  67.759\n+ DEPI  1   55.762  67.762\n- ACCR  1   70.960  78.960\n- AQI   1   77.692  85.692\n- SGI   1   80.878  88.878\n- DSRI  1   94.587 102.587\n",
                    "name": "stdout"
                },
                {
                    "output_type": "stream",
                    "text": "Warning message:\n\u201cglm.fit: fitted probabilities numerically 0 or 1 occurred\u201d",
                    "name": "stderr"
                },
                {
                    "output_type": "stream",
                    "text": "\nStep:  AIC=59.29\nManipulater ~ DSRI + SGI + AQI + ACCR + GMI\n\n",
                    "name": "stdout"
                },
                {
                    "output_type": "stream",
                    "text": "Warning message:\n\u201cglm.fit: fitted probabilities numerically 0 or 1 occurred\u201dWarning message:\n\u201cglm.fit: fitted probabilities numerically 0 or 1 occurred\u201dWarning message:\n\u201cglm.fit: fitted probabilities numerically 0 or 1 occurred\u201dWarning message:\n\u201cglm.fit: fitted probabilities numerically 0 or 1 occurred\u201dWarning message:\n\u201cglm.fit: fitted probabilities numerically 0 or 1 occurred\u201dWarning message:\n\u201cglm.fit: fitted probabilities numerically 0 or 1 occurred\u201dWarning message:\n\u201cglm.fit: fitted probabilities numerically 0 or 1 occurred\u201dWarning message:\n\u201cglm.fit: fitted probabilities numerically 0 or 1 occurred\u201d",
                    "name": "stderr"
                },
                {
                    "output_type": "stream",
                    "text": "       Df Deviance     AIC\n+ SGAI  1   45.280  59.280\n<none>      47.288  59.288\n+ LEVI  1   46.731  60.731\n+ DEPI  1   47.269  61.269\n- GMI   1   55.920  65.920\n- ACCR  1   67.988  77.988\n- SGI   1   69.791  79.791\n- AQI   1   75.960  85.960\n- DSRI  1   93.352 103.352\n",
                    "name": "stdout"
                },
                {
                    "output_type": "stream",
                    "text": "Warning message:\n\u201cglm.fit: fitted probabilities numerically 0 or 1 occurred\u201d",
                    "name": "stderr"
                },
                {
                    "output_type": "stream",
                    "text": "\nStep:  AIC=59.28\nManipulater ~ DSRI + SGI + AQI + ACCR + GMI + SGAI\n\n",
                    "name": "stdout"
                },
                {
                    "output_type": "stream",
                    "text": "Warning message:\n\u201cglm.fit: fitted probabilities numerically 0 or 1 occurred\u201dWarning message:\n\u201cglm.fit: fitted probabilities numerically 0 or 1 occurred\u201dWarning message:\n\u201cglm.fit: fitted probabilities numerically 0 or 1 occurred\u201dWarning message:\n\u201cglm.fit: fitted probabilities numerically 0 or 1 occurred\u201dWarning message:\n\u201cglm.fit: fitted probabilities numerically 0 or 1 occurred\u201dWarning message:\n\u201cglm.fit: fitted probabilities numerically 0 or 1 occurred\u201dWarning message:\n\u201cglm.fit: fitted probabilities numerically 0 or 1 occurred\u201dWarning message:\n\u201cglm.fit: fitted probabilities numerically 0 or 1 occurred\u201dWarning message:\n\u201cglm.fit: fitted probabilities numerically 0 or 1 occurred\u201d",
                    "name": "stderr"
                },
                {
                    "output_type": "stream",
                    "text": "       Df Deviance    AIC\n<none>      45.280 59.280\n- SGAI  1   47.288 59.288\n+ DEPI  1   44.984 60.984\n+ LEVI  1   45.160 61.160\n- GMI   1   55.759 67.759\n- ACCR  1   64.422 76.422\n- SGI   1   68.398 80.398\n- AQI   1   70.022 82.022\n- DSRI  1   71.497 83.497\n",
                    "name": "stdout"
                },
                {
                    "output_type": "stream",
                    "text": "Warning message:\n\u201cglm.fit: fitted probabilities numerically 0 or 1 occurred\u201d",
                    "name": "stderr"
                },
                {
                    "output_type": "stream",
                    "text": "Start:  AIC=110.13\nManipulater ~ 1\n\n       Df Deviance    AIC\n+ DSRI  1   98.063 102.06\n+ ACCR  1   98.959 102.96\n+ SGAI  1  103.499 107.50\n+ SGI   1  105.032 109.03\n<none>     108.131 110.13\n+ AQI   1  106.470 110.47\n+ GMI   1  106.822 110.82\n+ DEPI  1  107.340 111.34\n+ LEVI  1  107.350 111.35\n\nStep:  AIC=102.06\nManipulater ~ DSRI\n\n",
                    "name": "stdout"
                },
                {
                    "output_type": "stream",
                    "text": "Warning message:\n\u201cglm.fit: fitted probabilities numerically 0 or 1 occurred\u201dWarning message:\n\u201cglm.fit: fitted probabilities numerically 0 or 1 occurred\u201dWarning message:\n\u201cglm.fit: fitted probabilities numerically 0 or 1 occurred\u201dWarning message:\n\u201cglm.fit: fitted probabilities numerically 0 or 1 occurred\u201dWarning message:\n\u201cglm.fit: fitted probabilities numerically 0 or 1 occurred\u201dWarning message:\n\u201cglm.fit: fitted probabilities numerically 0 or 1 occurred\u201d",
                    "name": "stderr"
                },
                {
                    "output_type": "stream",
                    "text": "       Df Deviance     AIC\n+ ACCR  1   83.958  89.958\n+ SGI   1   89.122  95.122\n+ GMI   1   95.153 101.153\n+ AQI   1   95.380 101.380\n<none>      98.063 102.063\n+ SGAI  1   96.074 102.074\n+ DEPI  1   96.797 102.797\n+ LEVI  1   98.022 104.022\n- DSRI  1  108.131 110.131\n",
                    "name": "stdout"
                },
                {
                    "output_type": "stream",
                    "text": "Warning message:\n\u201cglm.fit: fitted probabilities numerically 0 or 1 occurred\u201d",
                    "name": "stderr"
                },
                {
                    "output_type": "stream",
                    "text": "\nStep:  AIC=89.96\nManipulater ~ DSRI + ACCR\n\n",
                    "name": "stdout"
                },
                {
                    "output_type": "stream",
                    "text": "Warning message:\n\u201cglm.fit: fitted probabilities numerically 0 or 1 occurred\u201dWarning message:\n\u201cglm.fit: fitted probabilities numerically 0 or 1 occurred\u201dWarning message:\n\u201cglm.fit: fitted probabilities numerically 0 or 1 occurred\u201dWarning message:\n\u201cglm.fit: fitted probabilities numerically 0 or 1 occurred\u201dWarning message:\n\u201cglm.fit: fitted probabilities numerically 0 or 1 occurred\u201dWarning message:\n\u201cglm.fit: fitted probabilities numerically 0 or 1 occurred\u201dWarning message:\n\u201cglm.fit: fitted probabilities numerically 0 or 1 occurred\u201d",
                    "name": "stderr"
                },
                {
                    "output_type": "stream",
                    "text": "       Df Deviance     AIC\n+ AQI   1   75.978  83.978\n+ SGI   1   77.256  85.256\n+ GMI   1   79.053  87.053\n+ DEPI  1   81.537  89.537\n<none>      83.958  89.958\n+ SGAI  1   83.613  91.613\n+ LEVI  1   83.644  91.644\n- ACCR  1   98.063 102.063\n- DSRI  1   98.959 102.959\n",
                    "name": "stdout"
                },
                {
                    "output_type": "stream",
                    "text": "Warning message:\n\u201cglm.fit: fitted probabilities numerically 0 or 1 occurred\u201d",
                    "name": "stderr"
                },
                {
                    "output_type": "stream",
                    "text": "\nStep:  AIC=83.98\nManipulater ~ DSRI + ACCR + AQI\n\n",
                    "name": "stdout"
                },
                {
                    "output_type": "stream",
                    "text": "Warning message:\n\u201cglm.fit: fitted probabilities numerically 0 or 1 occurred\u201dWarning message:\n\u201cglm.fit: fitted probabilities numerically 0 or 1 occurred\u201dWarning message:\n\u201cglm.fit: fitted probabilities numerically 0 or 1 occurred\u201dWarning message:\n\u201cglm.fit: fitted probabilities numerically 0 or 1 occurred\u201dWarning message:\n\u201cglm.fit: fitted probabilities numerically 0 or 1 occurred\u201dWarning message:\n\u201cglm.fit: fitted probabilities numerically 0 or 1 occurred\u201dWarning message:\n\u201cglm.fit: fitted probabilities numerically 0 or 1 occurred\u201dWarning message:\n\u201cglm.fit: fitted probabilities numerically 0 or 1 occurred\u201d",
                    "name": "stderr"
                },
                {
                    "output_type": "stream",
                    "text": "       Df Deviance     AIC\n+ SGI   1   61.728  71.728\n+ GMI   1   66.004  76.004\n<none>      75.978  83.978\n+ DEPI  1   73.997  83.997\n+ SGAI  1   75.974  85.974\n+ LEVI  1   75.977  85.977\n- AQI   1   83.958  89.958\n- DSRI  1   94.663 100.663\n- ACCR  1   95.380 101.380\n",
                    "name": "stdout"
                },
                {
                    "output_type": "stream",
                    "text": "Warning message:\n\u201cglm.fit: fitted probabilities numerically 0 or 1 occurred\u201d",
                    "name": "stderr"
                },
                {
                    "output_type": "stream",
                    "text": "\nStep:  AIC=71.73\nManipulater ~ DSRI + ACCR + AQI + SGI\n\n",
                    "name": "stdout"
                },
                {
                    "output_type": "stream",
                    "text": "Warning message:\n\u201cglm.fit: fitted probabilities numerically 0 or 1 occurred\u201dWarning message:\n\u201cglm.fit: fitted probabilities numerically 0 or 1 occurred\u201dWarning message:\n\u201cglm.fit: fitted probabilities numerically 0 or 1 occurred\u201dWarning message:\n\u201cglm.fit: fitted probabilities numerically 0 or 1 occurred\u201dWarning message:\n\u201cglm.fit: fitted probabilities numerically 0 or 1 occurred\u201dWarning message:\n\u201cglm.fit: fitted probabilities numerically 0 or 1 occurred\u201dWarning message:\n\u201cglm.fit: fitted probabilities numerically 0 or 1 occurred\u201dWarning message:\n\u201cglm.fit: fitted probabilities numerically 0 or 1 occurred\u201d",
                    "name": "stderr"
                },
                {
                    "output_type": "stream",
                    "text": "       Df Deviance    AIC\n+ GMI   1   52.676 64.676\n<none>      61.728 71.728\n+ LEVI  1   61.078 73.078\n+ SGAI  1   61.693 73.693\n+ DEPI  1   61.705 73.705\n- SGI   1   75.978 83.978\n- AQI   1   77.256 85.256\n- ACCR  1   80.966 88.966\n- DSRI  1   91.920 99.920\n",
                    "name": "stdout"
                },
                {
                    "output_type": "stream",
                    "text": "Warning message:\n\u201cglm.fit: fitted probabilities numerically 0 or 1 occurred\u201d",
                    "name": "stderr"
                },
                {
                    "output_type": "stream",
                    "text": "\nStep:  AIC=64.68\nManipulater ~ DSRI + ACCR + AQI + SGI + GMI\n\n",
                    "name": "stdout"
                },
                {
                    "output_type": "stream",
                    "text": "Warning message:\n\u201cglm.fit: fitted probabilities numerically 0 or 1 occurred\u201dWarning message:\n\u201cglm.fit: fitted probabilities numerically 0 or 1 occurred\u201dWarning message:\n\u201cglm.fit: fitted probabilities numerically 0 or 1 occurred\u201dWarning message:\n\u201cglm.fit: fitted probabilities numerically 0 or 1 occurred\u201dWarning message:\n\u201cglm.fit: fitted probabilities numerically 0 or 1 occurred\u201dWarning message:\n\u201cglm.fit: fitted probabilities numerically 0 or 1 occurred\u201dWarning message:\n\u201cglm.fit: fitted probabilities numerically 0 or 1 occurred\u201dWarning message:\n\u201cglm.fit: fitted probabilities numerically 0 or 1 occurred\u201d",
                    "name": "stderr"
                },
                {
                    "output_type": "stream",
                    "text": "       Df Deviance     AIC\n<none>      52.676  64.676\n+ SGAI  1   52.060  66.060\n+ LEVI  1   52.310  66.310\n+ DEPI  1   52.532  66.532\n- GMI   1   61.728  71.728\n- SGI   1   66.004  76.004\n- AQI   1   74.255  84.255\n- ACCR  1   78.474  88.474\n- DSRI  1   90.579 100.579\n",
                    "name": "stdout"
                },
                {
                    "output_type": "stream",
                    "text": "Warning message:\n\u201cglm.fit: fitted probabilities numerically 0 or 1 occurred\u201d",
                    "name": "stderr"
                },
                {
                    "output_type": "stream",
                    "text": "Start:  AIC=110.13\nManipulater ~ 1\n\n       Df Deviance    AIC\n+ DSRI  1   99.196 103.20\n+ ACCR  1  102.380 106.38\n+ SGAI  1  102.689 106.69\n+ SGI   1  105.339 109.34\n<none>     108.131 110.13\n+ AQI   1  106.201 110.20\n+ LEVI  1  106.765 110.77\n+ GMI   1  106.852 110.85\n+ DEPI  1  106.954 110.95\n\nStep:  AIC=103.2\nManipulater ~ DSRI\n\n",
                    "name": "stdout"
                },
                {
                    "output_type": "stream",
                    "text": "Warning message:\n\u201cglm.fit: fitted probabilities numerically 0 or 1 occurred\u201dWarning message:\n\u201cglm.fit: fitted probabilities numerically 0 or 1 occurred\u201d",
                    "name": "stderr"
                },
                {
                    "output_type": "stream",
                    "text": "       Df Deviance     AIC\n+ ACCR  1   90.724  96.724\n+ SGI   1   92.130  98.130\n+ SGAI  1   96.465 102.465\n+ AQI   1   96.486 102.486\n+ GMI   1   96.611 102.611\n<none>      99.196 103.196\n+ DEPI  1   97.944 103.944\n+ LEVI  1   98.890 104.890\n- DSRI  1  108.131 110.131\n\nStep:  AIC=96.72\nManipulater ~ DSRI + ACCR\n\n",
                    "name": "stdout"
                },
                {
                    "output_type": "stream",
                    "text": "Warning message:\n\u201cglm.fit: fitted probabilities numerically 0 or 1 occurred\u201d",
                    "name": "stderr"
                },
                {
                    "output_type": "stream",
                    "text": "       Df Deviance     AIC\n+ SGI   1   84.744  92.744\n+ AQI   1   85.082  93.082\n+ GMI   1   87.509  95.509\n<none>      90.724  96.724\n+ DEPI  1   88.832  96.832\n+ SGAI  1   89.080  97.080\n+ LEVI  1   89.999  97.999\n- ACCR  1   99.196 103.196\n- DSRI  1  102.380 106.380\n",
                    "name": "stdout"
                },
                {
                    "output_type": "stream",
                    "text": "Warning message:\n\u201cglm.fit: fitted probabilities numerically 0 or 1 occurred\u201d",
                    "name": "stderr"
                },
                {
                    "output_type": "stream",
                    "text": "\nStep:  AIC=92.74\nManipulater ~ DSRI + ACCR + SGI\n\n",
                    "name": "stdout"
                },
                {
                    "output_type": "stream",
                    "text": "Warning message:\n\u201cglm.fit: fitted probabilities numerically 0 or 1 occurred\u201dWarning message:\n\u201cglm.fit: fitted probabilities numerically 0 or 1 occurred\u201dWarning message:\n\u201cglm.fit: fitted probabilities numerically 0 or 1 occurred\u201dWarning message:\n\u201cglm.fit: fitted probabilities numerically 0 or 1 occurred\u201dWarning message:\n\u201cglm.fit: fitted probabilities numerically 0 or 1 occurred\u201dWarning message:\n\u201cglm.fit: fitted probabilities numerically 0 or 1 occurred\u201dWarning message:\n\u201cglm.fit: fitted probabilities numerically 0 or 1 occurred\u201d",
                    "name": "stderr"
                },
                {
                    "output_type": "stream",
                    "text": "       Df Deviance     AIC\n+ AQI   1   73.908  83.908\n+ GMI   1   82.629  92.629\n<none>      84.744  92.744\n+ SGAI  1   82.932  92.932\n+ DEPI  1   84.039  94.039\n+ LEVI  1   84.663  94.663\n- SGI   1   90.724  96.724\n- ACCR  1   92.130  98.130\n- DSRI  1  100.187 106.187\n",
                    "name": "stdout"
                },
                {
                    "output_type": "stream",
                    "text": "Warning message:\n\u201cglm.fit: fitted probabilities numerically 0 or 1 occurred\u201d",
                    "name": "stderr"
                },
                {
                    "output_type": "stream",
                    "text": "\nStep:  AIC=83.91\nManipulater ~ DSRI + ACCR + SGI + AQI\n\n",
                    "name": "stdout"
                },
                {
                    "output_type": "stream",
                    "text": "Warning message:\n\u201cglm.fit: fitted probabilities numerically 0 or 1 occurred\u201dWarning message:\n\u201cglm.fit: fitted probabilities numerically 0 or 1 occurred\u201dWarning message:\n\u201cglm.fit: fitted probabilities numerically 0 or 1 occurred\u201dWarning message:\n\u201cglm.fit: fitted probabilities numerically 0 or 1 occurred\u201dWarning message:\n\u201cglm.fit: fitted probabilities numerically 0 or 1 occurred\u201dWarning message:\n\u201cglm.fit: fitted probabilities numerically 0 or 1 occurred\u201dWarning message:\n\u201cglm.fit: fitted probabilities numerically 0 or 1 occurred\u201d",
                    "name": "stderr"
                },
                {
                    "output_type": "stream",
                    "text": "       Df Deviance     AIC\n+ GMI   1   70.203  82.203\n<none>      73.908  83.908\n+ LEVI  1   72.584  84.584\n+ SGAI  1   73.689  85.689\n+ DEPI  1   73.905  85.905\n- AQI   1   84.744  92.744\n- SGI   1   85.082  93.082\n- ACCR  1   85.552  93.552\n- DSRI  1   95.851 103.851\n",
                    "name": "stdout"
                },
                {
                    "output_type": "stream",
                    "text": "Warning message:\n\u201cglm.fit: fitted probabilities numerically 0 or 1 occurred\u201d",
                    "name": "stderr"
                },
                {
                    "output_type": "stream",
                    "text": "\nStep:  AIC=82.2\nManipulater ~ DSRI + ACCR + SGI + AQI + GMI\n\n",
                    "name": "stdout"
                },
                {
                    "output_type": "stream",
                    "text": "Warning message:\n\u201cglm.fit: fitted probabilities numerically 0 or 1 occurred\u201dWarning message:\n\u201cglm.fit: fitted probabilities numerically 0 or 1 occurred\u201dWarning message:\n\u201cglm.fit: fitted probabilities numerically 0 or 1 occurred\u201dWarning message:\n\u201cglm.fit: fitted probabilities numerically 0 or 1 occurred\u201dWarning message:\n\u201cglm.fit: fitted probabilities numerically 0 or 1 occurred\u201dWarning message:\n\u201cglm.fit: fitted probabilities numerically 0 or 1 occurred\u201dWarning message:\n\u201cglm.fit: fitted probabilities numerically 0 or 1 occurred\u201dWarning message:\n\u201cglm.fit: fitted probabilities numerically 0 or 1 occurred\u201d",
                    "name": "stderr"
                },
                {
                    "output_type": "stream",
                    "text": "       Df Deviance     AIC\n<none>      70.203  82.203\n+ SGAI  1   68.768  82.768\n+ LEVI  1   69.343  83.343\n- GMI   1   73.908  83.908\n+ DEPI  1   70.087  84.087\n- SGI   1   79.660  89.660\n- AQI   1   82.629  92.629\n- ACCR  1   83.428  93.428\n- DSRI  1   94.703 104.703\n",
                    "name": "stdout"
                },
                {
                    "output_type": "stream",
                    "text": "Warning message:\n\u201cglm.fit: fitted probabilities numerically 0 or 1 occurred\u201d",
                    "name": "stderr"
                },
                {
                    "output_type": "stream",
                    "text": "Start:  AIC=110.13\nManipulater ~ 1\n\n",
                    "name": "stdout"
                },
                {
                    "output_type": "stream",
                    "text": "Warning message:\n\u201cglm.fit: fitted probabilities numerically 0 or 1 occurred\u201d",
                    "name": "stderr"
                },
                {
                    "output_type": "stream",
                    "text": "       Df Deviance     AIC\n+ DSRI  1   92.834  96.834\n+ SGI   1  103.746 107.746\n+ ACCR  1  104.071 108.071\n+ GMI   1  104.909 108.909\n+ SGAI  1  105.063 109.063\n+ AQI   1  105.592 109.592\n<none>     108.131 110.131\n+ LEVI  1  106.235 110.235\n+ DEPI  1  107.546 111.546\n",
                    "name": "stdout"
                },
                {
                    "output_type": "stream",
                    "text": "Warning message:\n\u201cglm.fit: fitted probabilities numerically 0 or 1 occurred\u201d",
                    "name": "stderr"
                },
                {
                    "output_type": "stream",
                    "text": "\nStep:  AIC=96.83\nManipulater ~ DSRI\n\n",
                    "name": "stdout"
                },
                {
                    "output_type": "stream",
                    "text": "Warning message:\n\u201cglm.fit: fitted probabilities numerically 0 or 1 occurred\u201dWarning message:\n\u201cglm.fit: fitted probabilities numerically 0 or 1 occurred\u201dWarning message:\n\u201cglm.fit: fitted probabilities numerically 0 or 1 occurred\u201dWarning message:\n\u201cglm.fit: fitted probabilities numerically 0 or 1 occurred\u201dWarning message:\n\u201cglm.fit: fitted probabilities numerically 0 or 1 occurred\u201dWarning message:\n\u201cglm.fit: fitted probabilities numerically 0 or 1 occurred\u201dWarning message:\n\u201cglm.fit: fitted probabilities numerically 0 or 1 occurred\u201dWarning message:\n\u201cglm.fit: fitted probabilities numerically 0 or 1 occurred\u201d",
                    "name": "stderr"
                },
                {
                    "output_type": "stream",
                    "text": "       Df Deviance     AIC\n+ SGI   1   80.351  86.351\n+ ACCR  1   83.884  89.884\n+ GMI   1   86.859  92.859\n+ AQI   1   88.751  94.751\n<none>      92.834  96.834\n+ LEVI  1   92.058  98.058\n+ SGAI  1   92.110  98.110\n+ DEPI  1   92.451  98.451\n- DSRI  1  108.131 110.131\n",
                    "name": "stdout"
                },
                {
                    "output_type": "stream",
                    "text": "Warning message:\n\u201cglm.fit: fitted probabilities numerically 0 or 1 occurred\u201d",
                    "name": "stderr"
                },
                {
                    "output_type": "stream",
                    "text": "\nStep:  AIC=86.35\nManipulater ~ DSRI + SGI\n\n",
                    "name": "stdout"
                },
                {
                    "output_type": "stream",
                    "text": "Warning message:\n\u201cglm.fit: fitted probabilities numerically 0 or 1 occurred\u201dWarning message:\n\u201cglm.fit: fitted probabilities numerically 0 or 1 occurred\u201dWarning message:\n\u201cglm.fit: fitted probabilities numerically 0 or 1 occurred\u201dWarning message:\n\u201cglm.fit: fitted probabilities numerically 0 or 1 occurred\u201dWarning message:\n\u201cglm.fit: fitted probabilities numerically 0 or 1 occurred\u201dWarning message:\n\u201cglm.fit: fitted probabilities numerically 0 or 1 occurred\u201dWarning message:\n\u201cglm.fit: fitted probabilities numerically 0 or 1 occurred\u201dWarning message:\n\u201cglm.fit: fitted probabilities numerically 0 or 1 occurred\u201d",
                    "name": "stderr"
                },
                {
                    "output_type": "stream",
                    "text": "       Df Deviance     AIC\n+ AQI   1   66.539  74.539\n+ ACCR  1   73.137  81.137\n+ GMI   1   77.135  85.135\n<none>      80.351  86.351\n+ SGAI  1   79.953  87.953\n+ DEPI  1   80.052  88.052\n+ LEVI  1   80.146  88.146\n- SGI   1   92.834  96.834\n- DSRI  1  103.746 107.746\n",
                    "name": "stdout"
                },
                {
                    "output_type": "stream",
                    "text": "Warning message:\n\u201cglm.fit: fitted probabilities numerically 0 or 1 occurred\u201d",
                    "name": "stderr"
                },
                {
                    "output_type": "stream",
                    "text": "\nStep:  AIC=74.54\nManipulater ~ DSRI + SGI + AQI\n\n",
                    "name": "stdout"
                },
                {
                    "output_type": "stream",
                    "text": "Warning message:\n\u201cglm.fit: fitted probabilities numerically 0 or 1 occurred\u201dWarning message:\n\u201cglm.fit: fitted probabilities numerically 0 or 1 occurred\u201dWarning message:\n\u201cglm.fit: fitted probabilities numerically 0 or 1 occurred\u201dWarning message:\n\u201cglm.fit: fitted probabilities numerically 0 or 1 occurred\u201dWarning message:\n\u201cglm.fit: fitted probabilities numerically 0 or 1 occurred\u201dWarning message:\n\u201cglm.fit: fitted probabilities numerically 0 or 1 occurred\u201dWarning message:\n\u201cglm.fit: fitted probabilities numerically 0 or 1 occurred\u201dWarning message:\n\u201cglm.fit: fitted probabilities numerically 0 or 1 occurred\u201d",
                    "name": "stderr"
                },
                {
                    "output_type": "stream",
                    "text": "       Df Deviance     AIC\n+ ACCR  1   48.784  58.784\n+ GMI   1   60.792  70.792\n+ DEPI  1   61.179  71.179\n+ LEVI  1   64.425  74.425\n<none>      66.539  74.539\n+ SGAI  1   66.490  76.490\n- AQI   1   80.351  86.351\n- SGI   1   88.751  94.751\n- DSRI  1   99.770 105.770\n",
                    "name": "stdout"
                },
                {
                    "output_type": "stream",
                    "text": "Warning message:\n\u201cglm.fit: fitted probabilities numerically 0 or 1 occurred\u201d",
                    "name": "stderr"
                },
                {
                    "output_type": "stream",
                    "text": "\nStep:  AIC=58.78\nManipulater ~ DSRI + SGI + AQI + ACCR\n\n",
                    "name": "stdout"
                },
                {
                    "output_type": "stream",
                    "text": "Warning message:\n\u201cglm.fit: fitted probabilities numerically 0 or 1 occurred\u201dWarning message:\n\u201cglm.fit: fitted probabilities numerically 0 or 1 occurred\u201dWarning message:\n\u201cglm.fit: fitted probabilities numerically 0 or 1 occurred\u201dWarning message:\n\u201cglm.fit: fitted probabilities numerically 0 or 1 occurred\u201dWarning message:\n\u201cglm.fit: fitted probabilities numerically 0 or 1 occurred\u201dWarning message:\n\u201cglm.fit: fitted probabilities numerically 0 or 1 occurred\u201dWarning message:\n\u201cglm.fit: fitted probabilities numerically 0 or 1 occurred\u201dWarning message:\n\u201cglm.fit: fitted probabilities numerically 0 or 1 occurred\u201d",
                    "name": "stderr"
                },
                {
                    "output_type": "stream",
                    "text": "       Df Deviance     AIC\n+ GMI   1   37.775  49.775\n+ DEPI  1   45.350  57.350\n<none>      48.784  58.784\n+ LEVI  1   48.416  60.416\n+ SGAI  1   48.784  60.784\n- ACCR  1   66.539  74.539\n- AQI   1   73.137  81.137\n- SGI   1   73.603  81.603\n- DSRI  1   94.284 102.284\n",
                    "name": "stdout"
                },
                {
                    "output_type": "stream",
                    "text": "Warning message:\n\u201cglm.fit: fitted probabilities numerically 0 or 1 occurred\u201d",
                    "name": "stderr"
                },
                {
                    "output_type": "stream",
                    "text": "\nStep:  AIC=49.77\nManipulater ~ DSRI + SGI + AQI + ACCR + GMI\n\n",
                    "name": "stdout"
                },
                {
                    "output_type": "stream",
                    "text": "Warning message:\n\u201cglm.fit: fitted probabilities numerically 0 or 1 occurred\u201dWarning message:\n\u201cglm.fit: fitted probabilities numerically 0 or 1 occurred\u201dWarning message:\n\u201cglm.fit: fitted probabilities numerically 0 or 1 occurred\u201dWarning message:\n\u201cglm.fit: fitted probabilities numerically 0 or 1 occurred\u201dWarning message:\n\u201cglm.fit: fitted probabilities numerically 0 or 1 occurred\u201dWarning message:\n\u201cglm.fit: fitted probabilities numerically 0 or 1 occurred\u201dWarning message:\n\u201cglm.fit: fitted probabilities numerically 0 or 1 occurred\u201dWarning message:\n\u201cglm.fit: fitted probabilities numerically 0 or 1 occurred\u201dWarning message:\n\u201cglm.fit: fitted probabilities numerically 0 or 1 occurred\u201d",
                    "name": "stderr"
                },
                {
                    "output_type": "stream",
                    "text": "       Df Deviance     AIC\n<none>      37.775  49.775\n+ DEPI  1   35.862  49.862\n+ LEVI  1   37.445  51.445\n+ SGAI  1   37.640  51.640\n- GMI   1   48.784  58.784\n- SGI   1   59.484  69.484\n- ACCR  1   60.792  70.792\n- AQI   1   69.316  79.316\n- DSRI  1   90.322 100.322\n",
                    "name": "stdout"
                },
                {
                    "output_type": "stream",
                    "text": "Warning message:\n\u201cglm.fit: fitted probabilities numerically 0 or 1 occurred\u201d",
                    "name": "stderr"
                },
                {
                    "output_type": "stream",
                    "text": "Start:  AIC=110.13\nManipulater ~ 1\n\n",
                    "name": "stdout"
                },
                {
                    "output_type": "stream",
                    "text": "Warning message:\n\u201cglm.fit: fitted probabilities numerically 0 or 1 occurred\u201d",
                    "name": "stderr"
                },
                {
                    "output_type": "stream",
                    "text": "       Df Deviance    AIC\n+ DSRI  1    93.84  97.84\n+ ACCR  1   103.20 107.20\n+ SGI   1   103.75 107.75\n+ GMI   1   104.56 108.56\n+ SGAI  1   104.97 108.97\n+ AQI   1   105.79 109.79\n<none>      108.13 110.13\n+ LEVI  1   106.35 110.35\n+ DEPI  1   107.19 111.19\n",
                    "name": "stdout"
                },
                {
                    "output_type": "stream",
                    "text": "Warning message:\n\u201cglm.fit: fitted probabilities numerically 0 or 1 occurred\u201d",
                    "name": "stderr"
                },
                {
                    "output_type": "stream",
                    "text": "\nStep:  AIC=97.84\nManipulater ~ DSRI\n\n",
                    "name": "stdout"
                },
                {
                    "output_type": "stream",
                    "text": "Warning message:\n\u201cglm.fit: fitted probabilities numerically 0 or 1 occurred\u201dWarning message:\n\u201cglm.fit: fitted probabilities numerically 0 or 1 occurred\u201dWarning message:\n\u201cglm.fit: fitted probabilities numerically 0 or 1 occurred\u201dWarning message:\n\u201cglm.fit: fitted probabilities numerically 0 or 1 occurred\u201dWarning message:\n\u201cglm.fit: fitted probabilities numerically 0 or 1 occurred\u201dWarning message:\n\u201cglm.fit: fitted probabilities numerically 0 or 1 occurred\u201dWarning message:\n\u201cglm.fit: fitted probabilities numerically 0 or 1 occurred\u201dWarning message:\n\u201cglm.fit: fitted probabilities numerically 0 or 1 occurred\u201d",
                    "name": "stderr"
                },
                {
                    "output_type": "stream",
                    "text": "       Df Deviance     AIC\n+ SGI   1   80.084  86.084\n+ ACCR  1   81.996  87.996\n+ GMI   1   86.890  92.890\n+ AQI   1   89.803  95.803\n<none>      93.840  97.840\n+ DEPI  1   93.003  99.003\n+ LEVI  1   93.163  99.163\n+ SGAI  1   93.229  99.229\n- DSRI  1  108.131 110.131\n",
                    "name": "stdout"
                },
                {
                    "output_type": "stream",
                    "text": "Warning message:\n\u201cglm.fit: fitted probabilities numerically 0 or 1 occurred\u201d",
                    "name": "stderr"
                },
                {
                    "output_type": "stream",
                    "text": "\nStep:  AIC=86.08\nManipulater ~ DSRI + SGI\n\n",
                    "name": "stdout"
                },
                {
                    "output_type": "stream",
                    "text": "Warning message:\n\u201cglm.fit: fitted probabilities numerically 0 or 1 occurred\u201dWarning message:\n\u201cglm.fit: fitted probabilities numerically 0 or 1 occurred\u201dWarning message:\n\u201cglm.fit: fitted probabilities numerically 0 or 1 occurred\u201dWarning message:\n\u201cglm.fit: fitted probabilities numerically 0 or 1 occurred\u201dWarning message:\n\u201cglm.fit: fitted probabilities numerically 0 or 1 occurred\u201dWarning message:\n\u201cglm.fit: fitted probabilities numerically 0 or 1 occurred\u201dWarning message:\n\u201cglm.fit: fitted probabilities numerically 0 or 1 occurred\u201dWarning message:\n\u201cglm.fit: fitted probabilities numerically 0 or 1 occurred\u201d",
                    "name": "stderr"
                },
                {
                    "output_type": "stream",
                    "text": "       Df Deviance     AIC\n+ AQI   1   67.229  75.229\n+ ACCR  1   70.580  78.580\n+ GMI   1   76.647  84.647\n<none>      80.084  86.084\n+ SGAI  1   79.881  87.881\n+ LEVI  1   79.891  87.891\n+ DEPI  1   80.027  88.027\n- SGI   1   93.840  97.840\n- DSRI  1  103.745 107.745\n",
                    "name": "stdout"
                },
                {
                    "output_type": "stream",
                    "text": "Warning message:\n\u201cglm.fit: fitted probabilities numerically 0 or 1 occurred\u201d",
                    "name": "stderr"
                },
                {
                    "output_type": "stream",
                    "text": "\nStep:  AIC=75.23\nManipulater ~ DSRI + SGI + AQI\n\n",
                    "name": "stdout"
                },
                {
                    "output_type": "stream",
                    "text": "Warning message:\n\u201cglm.fit: fitted probabilities numerically 0 or 1 occurred\u201dWarning message:\n\u201cglm.fit: fitted probabilities numerically 0 or 1 occurred\u201dWarning message:\n\u201cglm.fit: fitted probabilities numerically 0 or 1 occurred\u201dWarning message:\n\u201cglm.fit: fitted probabilities numerically 0 or 1 occurred\u201dWarning message:\n\u201cglm.fit: fitted probabilities numerically 0 or 1 occurred\u201dWarning message:\n\u201cglm.fit: fitted probabilities numerically 0 or 1 occurred\u201dWarning message:\n\u201cglm.fit: fitted probabilities numerically 0 or 1 occurred\u201dWarning message:\n\u201cglm.fit: fitted probabilities numerically 0 or 1 occurred\u201d",
                    "name": "stderr"
                },
                {
                    "output_type": "stream",
                    "text": "       Df Deviance     AIC\n+ ACCR  1   44.682  54.682\n+ GMI   1   61.272  71.272\n+ DEPI  1   64.070  74.070\n<none>      67.229  75.229\n+ LEVI  1   65.551  75.551\n+ SGAI  1   67.229  77.229\n- AQI   1   80.084  86.084\n- SGI   1   89.803  95.803\n- DSRI  1  100.209 106.209\n",
                    "name": "stdout"
                },
                {
                    "output_type": "stream",
                    "text": "Warning message:\n\u201cglm.fit: fitted probabilities numerically 0 or 1 occurred\u201d",
                    "name": "stderr"
                },
                {
                    "output_type": "stream",
                    "text": "\nStep:  AIC=54.68\nManipulater ~ DSRI + SGI + AQI + ACCR\n\n",
                    "name": "stdout"
                },
                {
                    "output_type": "stream",
                    "text": "Warning message:\n\u201cglm.fit: fitted probabilities numerically 0 or 1 occurred\u201dWarning message:\n\u201cglm.fit: fitted probabilities numerically 0 or 1 occurred\u201dWarning message:\n\u201cglm.fit: fitted probabilities numerically 0 or 1 occurred\u201dWarning message:\n\u201cglm.fit: fitted probabilities numerically 0 or 1 occurred\u201dWarning message:\n\u201cglm.fit: fitted probabilities numerically 0 or 1 occurred\u201dWarning message:\n\u201cglm.fit: fitted probabilities numerically 0 or 1 occurred\u201dWarning message:\n\u201cglm.fit: fitted probabilities numerically 0 or 1 occurred\u201dWarning message:\n\u201cglm.fit: fitted probabilities numerically 0 or 1 occurred\u201d",
                    "name": "stderr"
                },
                {
                    "output_type": "stream",
                    "text": "       Df Deviance     AIC\n+ GMI   1   35.706  47.706\n+ DEPI  1   41.872  53.872\n<none>      44.682  54.682\n+ SGAI  1   44.468  56.468\n+ LEVI  1   44.681  56.681\n- ACCR  1   67.229  75.229\n- SGI   1   69.335  77.335\n- AQI   1   70.580  78.580\n- DSRI  1   93.672 101.672\n",
                    "name": "stdout"
                },
                {
                    "output_type": "stream",
                    "text": "Warning message:\n\u201cglm.fit: fitted probabilities numerically 0 or 1 occurred\u201d",
                    "name": "stderr"
                },
                {
                    "output_type": "stream",
                    "text": "\nStep:  AIC=47.71\nManipulater ~ DSRI + SGI + AQI + ACCR + GMI\n\n",
                    "name": "stdout"
                },
                {
                    "output_type": "stream",
                    "text": "Warning message:\n\u201cglm.fit: fitted probabilities numerically 0 or 1 occurred\u201dWarning message:\n\u201cglm.fit: fitted probabilities numerically 0 or 1 occurred\u201dWarning message:\n\u201cglm.fit: fitted probabilities numerically 0 or 1 occurred\u201dWarning message:\n\u201cglm.fit: fitted probabilities numerically 0 or 1 occurred\u201dWarning message:\n\u201cglm.fit: fitted probabilities numerically 0 or 1 occurred\u201dWarning message:\n\u201cglm.fit: fitted probabilities numerically 0 or 1 occurred\u201dWarning message:\n\u201cglm.fit: fitted probabilities numerically 0 or 1 occurred\u201dWarning message:\n\u201cglm.fit: fitted probabilities numerically 0 or 1 occurred\u201dWarning message:\n\u201cglm.fit: fitted probabilities numerically 0 or 1 occurred\u201d",
                    "name": "stderr"
                },
                {
                    "output_type": "stream",
                    "text": "       Df Deviance    AIC\n<none>      35.706 47.706\n+ DEPI  1   35.262 49.262\n+ SGAI  1   35.651 49.651\n+ LEVI  1   35.684 49.684\n- GMI   1   44.682 54.682\n- SGI   1   51.769 61.769\n- ACCR  1   61.272 71.272\n- AQI   1   66.559 76.559\n- DSRI  1   88.826 98.826\n",
                    "name": "stdout"
                },
                {
                    "output_type": "stream",
                    "text": "Warning message:\n\u201cglm.fit: fitted probabilities numerically 0 or 1 occurred\u201d",
                    "name": "stderr"
                },
                {
                    "output_type": "stream",
                    "text": "Start:  AIC=110.13\nManipulater ~ 1\n\n",
                    "name": "stdout"
                },
                {
                    "output_type": "stream",
                    "text": "Warning message:\n\u201cglm.fit: fitted probabilities numerically 0 or 1 occurred\u201d",
                    "name": "stderr"
                },
                {
                    "output_type": "stream",
                    "text": "       Df Deviance    AIC\n+ DSRI  1    96.66 100.66\n+ ACCR  1   100.16 104.16\n+ SGAI  1   103.04 107.04\n+ SGI   1   104.58 108.58\n+ AQI   1   105.22 109.22\n<none>      108.13 110.13\n+ GMI   1   106.58 110.58\n+ DEPI  1   106.58 110.58\n+ LEVI  1   107.77 111.77\n",
                    "name": "stdout"
                },
                {
                    "output_type": "stream",
                    "text": "Warning message:\n\u201cglm.fit: fitted probabilities numerically 0 or 1 occurred\u201d",
                    "name": "stderr"
                },
                {
                    "output_type": "stream",
                    "text": "\nStep:  AIC=100.66\nManipulater ~ DSRI\n\n",
                    "name": "stdout"
                },
                {
                    "output_type": "stream",
                    "text": "Warning message:\n\u201cglm.fit: fitted probabilities numerically 0 or 1 occurred\u201dWarning message:\n\u201cglm.fit: fitted probabilities numerically 0 or 1 occurred\u201dWarning message:\n\u201cglm.fit: fitted probabilities numerically 0 or 1 occurred\u201dWarning message:\n\u201cglm.fit: fitted probabilities numerically 0 or 1 occurred\u201dWarning message:\n\u201cglm.fit: fitted probabilities numerically 0 or 1 occurred\u201dWarning message:\n\u201cglm.fit: fitted probabilities numerically 0 or 1 occurred\u201dWarning message:\n\u201cglm.fit: fitted probabilities numerically 0 or 1 occurred\u201dWarning message:\n\u201cglm.fit: fitted probabilities numerically 0 or 1 occurred\u201d",
                    "name": "stderr"
                },
                {
                    "output_type": "stream",
                    "text": "       Df Deviance     AIC\n+ ACCR  1   81.993  87.993\n+ SGI   1   86.552  92.552\n+ AQI   1   92.249  98.249\n+ GMI   1   92.377  98.377\n<none>      96.660 100.660\n+ SGAI  1   94.702 100.702\n+ DEPI  1   95.505 101.505\n+ LEVI  1   96.272 102.272\n- DSRI  1  108.131 110.131\n",
                    "name": "stdout"
                },
                {
                    "output_type": "stream",
                    "text": "Warning message:\n\u201cglm.fit: fitted probabilities numerically 0 or 1 occurred\u201d",
                    "name": "stderr"
                },
                {
                    "output_type": "stream",
                    "text": "\nStep:  AIC=87.99\nManipulater ~ DSRI + ACCR\n\n",
                    "name": "stdout"
                },
                {
                    "output_type": "stream",
                    "text": "Warning message:\n\u201cglm.fit: fitted probabilities numerically 0 or 1 occurred\u201dWarning message:\n\u201cglm.fit: fitted probabilities numerically 0 or 1 occurred\u201dWarning message:\n\u201cglm.fit: fitted probabilities numerically 0 or 1 occurred\u201dWarning message:\n\u201cglm.fit: fitted probabilities numerically 0 or 1 occurred\u201dWarning message:\n\u201cglm.fit: fitted probabilities numerically 0 or 1 occurred\u201dWarning message:\n\u201cglm.fit: fitted probabilities numerically 0 or 1 occurred\u201dWarning message:\n\u201cglm.fit: fitted probabilities numerically 0 or 1 occurred\u201dWarning message:\n\u201cglm.fit: fitted probabilities numerically 0 or 1 occurred\u201d",
                    "name": "stderr"
                },
                {
                    "output_type": "stream",
                    "text": "       Df Deviance     AIC\n+ AQI   1   69.575  77.575\n+ SGI   1   74.145  82.145\n+ GMI   1   75.176  83.176\n<none>      81.993  87.993\n+ DEPI  1   80.181  88.181\n+ SGAI  1   81.566  89.566\n+ LEVI  1   81.752  89.752\n- ACCR  1   96.660 100.660\n- DSRI  1  100.162 104.162\n",
                    "name": "stdout"
                },
                {
                    "output_type": "stream",
                    "text": "Warning message:\n\u201cglm.fit: fitted probabilities numerically 0 or 1 occurred\u201d",
                    "name": "stderr"
                },
                {
                    "output_type": "stream",
                    "text": "\nStep:  AIC=77.58\nManipulater ~ DSRI + ACCR + AQI\n\n",
                    "name": "stdout"
                },
                {
                    "output_type": "stream",
                    "text": "Warning message:\n\u201cglm.fit: fitted probabilities numerically 0 or 1 occurred\u201dWarning message:\n\u201cglm.fit: fitted probabilities numerically 0 or 1 occurred\u201dWarning message:\n\u201cglm.fit: fitted probabilities numerically 0 or 1 occurred\u201dWarning message:\n\u201cglm.fit: fitted probabilities numerically 0 or 1 occurred\u201dWarning message:\n\u201cglm.fit: fitted probabilities numerically 0 or 1 occurred\u201dWarning message:\n\u201cglm.fit: fitted probabilities numerically 0 or 1 occurred\u201dWarning message:\n\u201cglm.fit: fitted probabilities numerically 0 or 1 occurred\u201dWarning message:\n\u201cglm.fit: fitted probabilities numerically 0 or 1 occurred\u201d",
                    "name": "stderr"
                },
                {
                    "output_type": "stream",
                    "text": "       Df Deviance    AIC\n+ SGI   1   50.076 60.076\n+ GMI   1   51.882 61.882\n<none>      69.575 77.575\n+ LEVI  1   67.840 77.840\n+ DEPI  1   68.280 78.280\n+ SGAI  1   69.534 79.534\n- AQI   1   81.993 87.993\n- ACCR  1   92.249 98.249\n- DSRI  1   93.787 99.787\n",
                    "name": "stdout"
                },
                {
                    "output_type": "stream",
                    "text": "Warning message:\n\u201cglm.fit: fitted probabilities numerically 0 or 1 occurred\u201d",
                    "name": "stderr"
                },
                {
                    "output_type": "stream",
                    "text": "\nStep:  AIC=60.08\nManipulater ~ DSRI + ACCR + AQI + SGI\n\n",
                    "name": "stdout"
                },
                {
                    "output_type": "stream",
                    "text": "Warning message:\n\u201cglm.fit: fitted probabilities numerically 0 or 1 occurred\u201dWarning message:\n\u201cglm.fit: fitted probabilities numerically 0 or 1 occurred\u201dWarning message:\n\u201cglm.fit: fitted probabilities numerically 0 or 1 occurred\u201dWarning message:\n\u201cglm.fit: fitted probabilities numerically 0 or 1 occurred\u201dWarning message:\n\u201cglm.fit: fitted probabilities numerically 0 or 1 occurred\u201dWarning message:\n\u201cglm.fit: fitted probabilities numerically 0 or 1 occurred\u201dWarning message:\n\u201cglm.fit: fitted probabilities numerically 0 or 1 occurred\u201dWarning message:\n\u201cglm.fit: fitted probabilities numerically 0 or 1 occurred\u201d",
                    "name": "stderr"
                },
                {
                    "output_type": "stream",
                    "text": "       Df Deviance    AIC\n+ GMI   1   34.671 46.671\n+ LEVI  1   39.178 51.178\n<none>      50.076 60.076\n+ DEPI  1   49.265 61.265\n+ SGAI  1   49.300 61.300\n- SGI   1   69.575 77.575\n- ACCR  1   74.112 82.112\n- AQI   1   74.145 82.145\n- DSRI  1   90.111 98.111\n",
                    "name": "stdout"
                },
                {
                    "output_type": "stream",
                    "text": "Warning message:\n\u201cglm.fit: fitted probabilities numerically 0 or 1 occurred\u201d",
                    "name": "stderr"
                },
                {
                    "output_type": "stream",
                    "text": "\nStep:  AIC=46.67\nManipulater ~ DSRI + ACCR + AQI + SGI + GMI\n\n",
                    "name": "stdout"
                },
                {
                    "output_type": "stream",
                    "text": "Warning message:\n\u201cglm.fit: fitted probabilities numerically 0 or 1 occurred\u201dWarning message:\n\u201cglm.fit: fitted probabilities numerically 0 or 1 occurred\u201dWarning message:\n\u201cglm.fit: fitted probabilities numerically 0 or 1 occurred\u201dWarning message:\n\u201cglm.fit: fitted probabilities numerically 0 or 1 occurred\u201dWarning message:\n\u201cglm.fit: fitted probabilities numerically 0 or 1 occurred\u201dWarning message:\n\u201cglm.fit: fitted probabilities numerically 0 or 1 occurred\u201dWarning message:\n\u201cglm.fit: fitted probabilities numerically 0 or 1 occurred\u201dWarning message:\n\u201cglm.fit: fitted probabilities numerically 0 or 1 occurred\u201d",
                    "name": "stderr"
                },
                {
                    "output_type": "stream",
                    "text": "       Df Deviance    AIC\n+ LEVI  1   30.326 44.326\n<none>      34.671 46.671\n+ SGAI  1   34.119 48.119\n+ DEPI  1   34.525 48.525\n- GMI   1   50.076 60.076\n- SGI   1   51.882 61.882\n- ACCR  1   66.160 76.160\n- AQI   1   69.738 79.738\n- DSRI  1   88.290 98.290\n",
                    "name": "stdout"
                },
                {
                    "output_type": "stream",
                    "text": "Warning message:\n\u201cglm.fit: fitted probabilities numerically 0 or 1 occurred\u201d",
                    "name": "stderr"
                },
                {
                    "output_type": "stream",
                    "text": "\nStep:  AIC=44.33\nManipulater ~ DSRI + ACCR + AQI + SGI + GMI + LEVI\n\n",
                    "name": "stdout"
                },
                {
                    "output_type": "stream",
                    "text": "Warning message:\n\u201cglm.fit: fitted probabilities numerically 0 or 1 occurred\u201dWarning message:\n\u201cglm.fit: fitted probabilities numerically 0 or 1 occurred\u201dWarning message:\n\u201cglm.fit: fitted probabilities numerically 0 or 1 occurred\u201dWarning message:\n\u201cglm.fit: fitted probabilities numerically 0 or 1 occurred\u201dWarning message:\n\u201cglm.fit: fitted probabilities numerically 0 or 1 occurred\u201dWarning message:\n\u201cglm.fit: fitted probabilities numerically 0 or 1 occurred\u201dWarning message:\n\u201cglm.fit: fitted probabilities numerically 0 or 1 occurred\u201dWarning message:\n\u201cglm.fit: fitted probabilities numerically 0 or 1 occurred\u201d",
                    "name": "stderr"
                },
                {
                    "output_type": "stream",
                    "text": "       Df Deviance    AIC\n<none>      30.326 44.326\n+ DEPI  1   29.262 45.262\n+ SGAI  1   30.239 46.239\n- LEVI  1   34.671 46.671\n- GMI   1   39.178 51.178\n- SGI   1   51.287 63.287\n- ACCR  1   56.621 68.621\n- AQI   1   68.786 80.786\n- DSRI  1   87.691 99.691\n",
                    "name": "stdout"
                },
                {
                    "output_type": "stream",
                    "text": "Warning message:\n\u201cglm.fit: fitted probabilities numerically 0 or 1 occurred\u201d",
                    "name": "stderr"
                },
                {
                    "output_type": "stream",
                    "text": "Start:  AIC=110.13\nManipulater ~ 1\n\n       Df Deviance    AIC\n+ DSRI  1   98.142 102.14\n+ ACCR  1  104.020 108.02\n+ SGI   1  104.454 108.45\n+ SGAI  1  104.468 108.47\n+ DEPI  1  105.183 109.18\n+ AQI   1  105.375 109.38\n<none>     108.131 110.13\n+ GMI   1  106.579 110.58\n+ LEVI  1  106.823 110.82\n\nStep:  AIC=102.14\nManipulater ~ DSRI\n\n",
                    "name": "stdout"
                },
                {
                    "output_type": "stream",
                    "text": "Warning message:\n\u201cglm.fit: fitted probabilities numerically 0 or 1 occurred\u201dWarning message:\n\u201cglm.fit: fitted probabilities numerically 0 or 1 occurred\u201dWarning message:\n\u201cglm.fit: fitted probabilities numerically 0 or 1 occurred\u201dWarning message:\n\u201cglm.fit: fitted probabilities numerically 0 or 1 occurred\u201dWarning message:\n\u201cglm.fit: fitted probabilities numerically 0 or 1 occurred\u201dWarning message:\n\u201cglm.fit: fitted probabilities numerically 0 or 1 occurred\u201d",
                    "name": "stderr"
                },
                {
                    "output_type": "stream",
                    "text": "       Df Deviance     AIC\n+ SGI   1   87.633  93.633\n+ ACCR  1   90.709  96.709\n+ DEPI  1   92.906  98.906\n+ AQI   1   94.294 100.294\n+ GMI   1   94.555 100.555\n<none>      98.142 102.142\n+ SGAI  1   97.157 103.157\n+ LEVI  1   97.872 103.872\n- DSRI  1  108.131 110.131\n",
                    "name": "stdout"
                },
                {
                    "output_type": "stream",
                    "text": "Warning message:\n\u201cglm.fit: fitted probabilities numerically 0 or 1 occurred\u201d",
                    "name": "stderr"
                },
                {
                    "output_type": "stream",
                    "text": "\nStep:  AIC=93.63\nManipulater ~ DSRI + SGI\n\n",
                    "name": "stdout"
                },
                {
                    "output_type": "stream",
                    "text": "Warning message:\n\u201cglm.fit: fitted probabilities numerically 0 or 1 occurred\u201dWarning message:\n\u201cglm.fit: fitted probabilities numerically 0 or 1 occurred\u201dWarning message:\n\u201cglm.fit: fitted probabilities numerically 0 or 1 occurred\u201dWarning message:\n\u201cglm.fit: fitted probabilities numerically 0 or 1 occurred\u201dWarning message:\n\u201cglm.fit: fitted probabilities numerically 0 or 1 occurred\u201dWarning message:\n\u201cglm.fit: fitted probabilities numerically 0 or 1 occurred\u201dWarning message:\n\u201cglm.fit: fitted probabilities numerically 0 or 1 occurred\u201d",
                    "name": "stderr"
                },
                {
                    "output_type": "stream",
                    "text": "       Df Deviance     AIC\n+ AQI   1   78.105  86.105\n+ ACCR  1   80.409  88.409\n+ DEPI  1   84.123  92.123\n<none>      87.633  93.633\n+ GMI   1   85.888  93.888\n+ SGAI  1   86.721  94.721\n+ LEVI  1   87.536  95.536\n- SGI   1   98.142 102.142\n- DSRI  1  104.454 108.454\n",
                    "name": "stdout"
                },
                {
                    "output_type": "stream",
                    "text": "Warning message:\n\u201cglm.fit: fitted probabilities numerically 0 or 1 occurred\u201d",
                    "name": "stderr"
                },
                {
                    "output_type": "stream",
                    "text": "\nStep:  AIC=86.1\nManipulater ~ DSRI + SGI + AQI\n\n",
                    "name": "stdout"
                },
                {
                    "output_type": "stream",
                    "text": "Warning message:\n\u201cglm.fit: fitted probabilities numerically 0 or 1 occurred\u201dWarning message:\n\u201cglm.fit: fitted probabilities numerically 0 or 1 occurred\u201dWarning message:\n\u201cglm.fit: fitted probabilities numerically 0 or 1 occurred\u201dWarning message:\n\u201cglm.fit: fitted probabilities numerically 0 or 1 occurred\u201dWarning message:\n\u201cglm.fit: fitted probabilities numerically 0 or 1 occurred\u201dWarning message:\n\u201cglm.fit: fitted probabilities numerically 0 or 1 occurred\u201dWarning message:\n\u201cglm.fit: fitted probabilities numerically 0 or 1 occurred\u201dWarning message:\n\u201cglm.fit: fitted probabilities numerically 0 or 1 occurred\u201d",
                    "name": "stderr"
                },
                {
                    "output_type": "stream",
                    "text": "       Df Deviance     AIC\n+ ACCR  1   63.507  73.507\n+ LEVI  1   75.280  85.280\n+ GMI   1   75.926  85.926\n<none>      78.105  86.105\n+ DEPI  1   76.245  86.245\n+ SGAI  1   77.405  87.405\n- AQI   1   87.633  93.633\n- SGI   1   94.294 100.294\n- DSRI  1  100.916 106.916\n",
                    "name": "stdout"
                },
                {
                    "output_type": "stream",
                    "text": "Warning message:\n\u201cglm.fit: fitted probabilities numerically 0 or 1 occurred\u201d",
                    "name": "stderr"
                },
                {
                    "output_type": "stream",
                    "text": "\nStep:  AIC=73.51\nManipulater ~ DSRI + SGI + AQI + ACCR\n\n",
                    "name": "stdout"
                },
                {
                    "output_type": "stream",
                    "text": "Warning message:\n\u201cglm.fit: fitted probabilities numerically 0 or 1 occurred\u201dWarning message:\n\u201cglm.fit: fitted probabilities numerically 0 or 1 occurred\u201dWarning message:\n\u201cglm.fit: fitted probabilities numerically 0 or 1 occurred\u201dWarning message:\n\u201cglm.fit: fitted probabilities numerically 0 or 1 occurred\u201dWarning message:\n\u201cglm.fit: fitted probabilities numerically 0 or 1 occurred\u201dWarning message:\n\u201cglm.fit: fitted probabilities numerically 0 or 1 occurred\u201dWarning message:\n\u201cglm.fit: fitted probabilities numerically 0 or 1 occurred\u201dWarning message:\n\u201cglm.fit: fitted probabilities numerically 0 or 1 occurred\u201d",
                    "name": "stderr"
                },
                {
                    "output_type": "stream",
                    "text": "       Df Deviance     AIC\n+ GMI   1   55.458  67.458\n+ DEPI  1   61.022  73.022\n<none>      63.507  73.507\n+ LEVI  1   62.328  74.328\n+ SGAI  1   63.506  75.506\n- ACCR  1   78.105  86.105\n- AQI   1   80.409  88.409\n- SGI   1   81.952  89.952\n- DSRI  1   95.047 103.047\n",
                    "name": "stdout"
                },
                {
                    "output_type": "stream",
                    "text": "Warning message:\n\u201cglm.fit: fitted probabilities numerically 0 or 1 occurred\u201d",
                    "name": "stderr"
                },
                {
                    "output_type": "stream",
                    "text": "\nStep:  AIC=67.46\nManipulater ~ DSRI + SGI + AQI + ACCR + GMI\n\n",
                    "name": "stdout"
                },
                {
                    "output_type": "stream",
                    "text": "Warning message:\n\u201cglm.fit: fitted probabilities numerically 0 or 1 occurred\u201dWarning message:\n\u201cglm.fit: fitted probabilities numerically 0 or 1 occurred\u201dWarning message:\n\u201cglm.fit: fitted probabilities numerically 0 or 1 occurred\u201dWarning message:\n\u201cglm.fit: fitted probabilities numerically 0 or 1 occurred\u201dWarning message:\n\u201cglm.fit: fitted probabilities numerically 0 or 1 occurred\u201dWarning message:\n\u201cglm.fit: fitted probabilities numerically 0 or 1 occurred\u201dWarning message:\n\u201cglm.fit: fitted probabilities numerically 0 or 1 occurred\u201dWarning message:\n\u201cglm.fit: fitted probabilities numerically 0 or 1 occurred\u201d",
                    "name": "stderr"
                },
                {
                    "output_type": "stream",
                    "text": "       Df Deviance     AIC\n+ DEPI  1   52.953  66.953\n<none>      55.458  67.458\n+ LEVI  1   54.607  68.607\n+ SGAI  1   54.930  68.930\n- GMI   1   63.507  73.507\n- SGI   1   71.188  81.188\n- ACCR  1   75.926  85.926\n- AQI   1   76.518  86.518\n- DSRI  1   93.463 103.463\n",
                    "name": "stdout"
                },
                {
                    "output_type": "stream",
                    "text": "Warning message:\n\u201cglm.fit: fitted probabilities numerically 0 or 1 occurred\u201d",
                    "name": "stderr"
                },
                {
                    "output_type": "stream",
                    "text": "\nStep:  AIC=66.95\nManipulater ~ DSRI + SGI + AQI + ACCR + GMI + DEPI\n\n",
                    "name": "stdout"
                },
                {
                    "output_type": "stream",
                    "text": "Warning message:\n\u201cglm.fit: fitted probabilities numerically 0 or 1 occurred\u201dWarning message:\n\u201cglm.fit: fitted probabilities numerically 0 or 1 occurred\u201dWarning message:\n\u201cglm.fit: fitted probabilities numerically 0 or 1 occurred\u201dWarning message:\n\u201cglm.fit: fitted probabilities numerically 0 or 1 occurred\u201dWarning message:\n\u201cglm.fit: fitted probabilities numerically 0 or 1 occurred\u201dWarning message:\n\u201cglm.fit: fitted probabilities numerically 0 or 1 occurred\u201dWarning message:\n\u201cglm.fit: fitted probabilities numerically 0 or 1 occurred\u201dWarning message:\n\u201cglm.fit: fitted probabilities numerically 0 or 1 occurred\u201d",
                    "name": "stderr"
                },
                {
                    "output_type": "stream",
                    "text": "       Df Deviance     AIC\n<none>      52.953  66.953\n- DEPI  1   55.458  67.458\n+ LEVI  1   52.066  68.066\n+ SGAI  1   52.798  68.798\n- GMI   1   61.022  73.022\n- SGI   1   62.254  74.254\n- AQI   1   71.265  83.265\n- ACCR  1   73.304  85.304\n- DSRI  1   90.976 102.976\n",
                    "name": "stdout"
                },
                {
                    "output_type": "stream",
                    "text": "Warning message:\n\u201cglm.fit: fitted probabilities numerically 0 or 1 occurred\u201d",
                    "name": "stderr"
                },
                {
                    "output_type": "stream",
                    "text": "Start:  AIC=110.13\nManipulater ~ 1\n\n",
                    "name": "stdout"
                },
                {
                    "output_type": "stream",
                    "text": "Warning message:\n\u201cglm.fit: fitted probabilities numerically 0 or 1 occurred\u201dWarning message:\n\u201cglm.fit: fitted probabilities numerically 0 or 1 occurred\u201d",
                    "name": "stderr"
                },
                {
                    "output_type": "stream",
                    "text": "       Df Deviance    AIC\n+ DSRI  1   96.812 100.81\n+ SGAI  1  101.771 105.77\n+ ACCR  1  103.010 107.01\n+ AQI   1  104.914 108.91\n+ SGI   1  105.125 109.12\n<none>     108.131 110.13\n+ DEPI  1  106.436 110.44\n+ GMI   1  106.775 110.78\n+ LEVI  1  106.836 110.84\n",
                    "name": "stdout"
                },
                {
                    "output_type": "stream",
                    "text": "Warning message:\n\u201cglm.fit: fitted probabilities numerically 0 or 1 occurred\u201d",
                    "name": "stderr"
                },
                {
                    "output_type": "stream",
                    "text": "\nStep:  AIC=100.81\nManipulater ~ DSRI\n\n",
                    "name": "stdout"
                },
                {
                    "output_type": "stream",
                    "text": "Warning message:\n\u201cglm.fit: fitted probabilities numerically 0 or 1 occurred\u201dWarning message:\n\u201cglm.fit: fitted probabilities numerically 0 or 1 occurred\u201dWarning message:\n\u201cglm.fit: fitted probabilities numerically 0 or 1 occurred\u201dWarning message:\n\u201cglm.fit: fitted probabilities numerically 0 or 1 occurred\u201dWarning message:\n\u201cglm.fit: fitted probabilities numerically 0 or 1 occurred\u201dWarning message:\n\u201cglm.fit: fitted probabilities numerically 0 or 1 occurred\u201dWarning message:\n\u201cglm.fit: fitted probabilities numerically 0 or 1 occurred\u201dWarning message:\n\u201cglm.fit: fitted probabilities numerically 0 or 1 occurred\u201d",
                    "name": "stderr"
                },
                {
                    "output_type": "stream",
                    "text": "       Df Deviance     AIC\n+ ACCR  1   85.398  91.398\n+ SGI   1   87.981  93.981\n+ AQI   1   92.009  98.009\n+ GMI   1   93.290  99.290\n+ SGAI  1   93.357  99.357\n+ DEPI  1   93.887  99.887\n<none>      96.812 100.812\n+ LEVI  1   96.533 102.533\n- DSRI  1  108.131 110.131\n",
                    "name": "stdout"
                },
                {
                    "output_type": "stream",
                    "text": "Warning message:\n\u201cglm.fit: fitted probabilities numerically 0 or 1 occurred\u201d",
                    "name": "stderr"
                },
                {
                    "output_type": "stream",
                    "text": "\nStep:  AIC=91.4\nManipulater ~ DSRI + ACCR\n\n",
                    "name": "stdout"
                },
                {
                    "output_type": "stream",
                    "text": "Warning message:\n\u201cglm.fit: fitted probabilities numerically 0 or 1 occurred\u201dWarning message:\n\u201cglm.fit: fitted probabilities numerically 0 or 1 occurred\u201dWarning message:\n\u201cglm.fit: fitted probabilities numerically 0 or 1 occurred\u201dWarning message:\n\u201cglm.fit: fitted probabilities numerically 0 or 1 occurred\u201dWarning message:\n\u201cglm.fit: fitted probabilities numerically 0 or 1 occurred\u201dWarning message:\n\u201cglm.fit: fitted probabilities numerically 0 or 1 occurred\u201dWarning message:\n\u201cglm.fit: fitted probabilities numerically 0 or 1 occurred\u201dWarning message:\n\u201cglm.fit: fitted probabilities numerically 0 or 1 occurred\u201d",
                    "name": "stderr"
                },
                {
                    "output_type": "stream",
                    "text": "       Df Deviance     AIC\n+ AQI   1   73.745  81.745\n+ SGI   1   76.773  84.773\n+ GMI   1   80.180  88.180\n<none>      85.398  91.398\n+ SGAI  1   83.827  91.827\n+ DEPI  1   84.356  92.356\n+ LEVI  1   84.724  92.724\n- ACCR  1   96.812 100.812\n- DSRI  1  103.010 107.010\n",
                    "name": "stdout"
                },
                {
                    "output_type": "stream",
                    "text": "Warning message:\n\u201cglm.fit: fitted probabilities numerically 0 or 1 occurred\u201d",
                    "name": "stderr"
                },
                {
                    "output_type": "stream",
                    "text": "\nStep:  AIC=81.74\nManipulater ~ DSRI + ACCR + AQI\n\n",
                    "name": "stdout"
                },
                {
                    "output_type": "stream",
                    "text": "Warning message:\n\u201cglm.fit: fitted probabilities numerically 0 or 1 occurred\u201dWarning message:\n\u201cglm.fit: fitted probabilities numerically 0 or 1 occurred\u201dWarning message:\n\u201cglm.fit: fitted probabilities numerically 0 or 1 occurred\u201dWarning message:\n\u201cglm.fit: fitted probabilities numerically 0 or 1 occurred\u201dWarning message:\n\u201cglm.fit: fitted probabilities numerically 0 or 1 occurred\u201dWarning message:\n\u201cglm.fit: fitted probabilities numerically 0 or 1 occurred\u201dWarning message:\n\u201cglm.fit: fitted probabilities numerically 0 or 1 occurred\u201dWarning message:\n\u201cglm.fit: fitted probabilities numerically 0 or 1 occurred\u201d",
                    "name": "stderr"
                },
                {
                    "output_type": "stream",
                    "text": "       Df Deviance     AIC\n+ SGI   1   49.437  59.437\n+ GMI   1   61.296  71.296\n<none>      73.745  81.745\n+ DEPI  1   73.403  83.403\n+ SGAI  1   73.548  83.548\n+ LEVI  1   73.740  83.740\n- AQI   1   85.398  91.398\n- ACCR  1   92.009  98.009\n- DSRI  1   97.351 103.351\n",
                    "name": "stdout"
                },
                {
                    "output_type": "stream",
                    "text": "Warning message:\n\u201cglm.fit: fitted probabilities numerically 0 or 1 occurred\u201d",
                    "name": "stderr"
                },
                {
                    "output_type": "stream",
                    "text": "\nStep:  AIC=59.44\nManipulater ~ DSRI + ACCR + AQI + SGI\n\n",
                    "name": "stdout"
                },
                {
                    "output_type": "stream",
                    "text": "Warning message:\n\u201cglm.fit: fitted probabilities numerically 0 or 1 occurred\u201dWarning message:\n\u201cglm.fit: fitted probabilities numerically 0 or 1 occurred\u201dWarning message:\n\u201cglm.fit: fitted probabilities numerically 0 or 1 occurred\u201dWarning message:\n\u201cglm.fit: fitted probabilities numerically 0 or 1 occurred\u201dWarning message:\n\u201cglm.fit: fitted probabilities numerically 0 or 1 occurred\u201dWarning message:\n\u201cglm.fit: fitted probabilities numerically 0 or 1 occurred\u201dWarning message:\n\u201cglm.fit: fitted probabilities numerically 0 or 1 occurred\u201dWarning message:\n\u201cglm.fit: fitted probabilities numerically 0 or 1 occurred\u201d",
                    "name": "stderr"
                },
                {
                    "output_type": "stream",
                    "text": "       Df Deviance     AIC\n+ GMI   1   39.040  51.040\n<none>      49.437  59.437\n+ LEVI  1   47.581  59.581\n+ SGAI  1   49.285  61.285\n+ DEPI  1   49.356  61.356\n- SGI   1   73.745  81.745\n- ACCR  1   74.669  82.669\n- AQI   1   76.773  84.773\n- DSRI  1   93.585 101.585\n",
                    "name": "stdout"
                },
                {
                    "output_type": "stream",
                    "text": "Warning message:\n\u201cglm.fit: fitted probabilities numerically 0 or 1 occurred\u201d",
                    "name": "stderr"
                },
                {
                    "output_type": "stream",
                    "text": "\nStep:  AIC=51.04\nManipulater ~ DSRI + ACCR + AQI + SGI + GMI\n\n",
                    "name": "stdout"
                },
                {
                    "output_type": "stream",
                    "text": "Warning message:\n\u201cglm.fit: fitted probabilities numerically 0 or 1 occurred\u201dWarning message:\n\u201cglm.fit: fitted probabilities numerically 0 or 1 occurred\u201dWarning message:\n\u201cglm.fit: fitted probabilities numerically 0 or 1 occurred\u201dWarning message:\n\u201cglm.fit: fitted probabilities numerically 0 or 1 occurred\u201dWarning message:\n\u201cglm.fit: fitted probabilities numerically 0 or 1 occurred\u201dWarning message:\n\u201cglm.fit: fitted probabilities numerically 0 or 1 occurred\u201dWarning message:\n\u201cglm.fit: fitted probabilities numerically 0 or 1 occurred\u201dWarning message:\n\u201cglm.fit: fitted probabilities numerically 0 or 1 occurred\u201d",
                    "name": "stderr"
                },
                {
                    "output_type": "stream",
                    "text": "       Df Deviance     AIC\n+ SGAI  1   36.925  50.925\n<none>      39.040  51.040\n+ LEVI  1   37.423  51.423\n+ DEPI  1   39.031  53.031\n- GMI   1   49.437  59.437\n- SGI   1   61.296  71.296\n- ACCR  1   68.986  78.986\n- AQI   1   73.493  83.493\n- DSRI  1   91.955 101.955\n",
                    "name": "stdout"
                },
                {
                    "output_type": "stream",
                    "text": "Warning message:\n\u201cglm.fit: fitted probabilities numerically 0 or 1 occurred\u201d",
                    "name": "stderr"
                },
                {
                    "output_type": "stream",
                    "text": "\nStep:  AIC=50.92\nManipulater ~ DSRI + ACCR + AQI + SGI + GMI + SGAI\n\n",
                    "name": "stdout"
                },
                {
                    "output_type": "stream",
                    "text": "Warning message:\n\u201cglm.fit: fitted probabilities numerically 0 or 1 occurred\u201dWarning message:\n\u201cglm.fit: fitted probabilities numerically 0 or 1 occurred\u201dWarning message:\n\u201cglm.fit: fitted probabilities numerically 0 or 1 occurred\u201dWarning message:\n\u201cglm.fit: fitted probabilities numerically 0 or 1 occurred\u201dWarning message:\n\u201cglm.fit: fitted probabilities numerically 0 or 1 occurred\u201dWarning message:\n\u201cglm.fit: fitted probabilities numerically 0 or 1 occurred\u201dWarning message:\n\u201cglm.fit: fitted probabilities numerically 0 or 1 occurred\u201dWarning message:\n\u201cglm.fit: fitted probabilities numerically 0 or 1 occurred\u201dWarning message:\n\u201cglm.fit: fitted probabilities numerically 0 or 1 occurred\u201d",
                    "name": "stderr"
                },
                {
                    "output_type": "stream",
                    "text": "       Df Deviance    AIC\n<none>      36.925 50.925\n- SGAI  1   39.040 51.040\n+ LEVI  1   36.380 52.380\n+ DEPI  1   36.764 52.764\n- GMI   1   49.285 61.285\n- SGI   1   61.110 73.110\n- ACCR  1   65.051 77.051\n- AQI   1   68.623 80.623\n- DSRI  1   71.530 83.530\n",
                    "name": "stdout"
                },
                {
                    "output_type": "stream",
                    "text": "Warning message:\n\u201cglm.fit: fitted probabilities numerically 0 or 1 occurred\u201d",
                    "name": "stderr"
                },
                {
                    "output_type": "stream",
                    "text": "Start:  AIC=110.13\nManipulater ~ 1\n\n       Df Deviance    AIC\n+ DSRI  1    98.87 102.87\n+ ACCR  1   101.40 105.40\n+ GMI   1   105.48 109.48\n+ SGAI  1   106.03 110.03\n<none>      108.13 110.13\n+ AQI   1   106.40 110.40\n+ LEVI  1   106.48 110.48\n+ SGI   1   107.03 111.03\n+ DEPI  1   107.84 111.84\n\nStep:  AIC=102.87\nManipulater ~ DSRI\n\n       Df Deviance     AIC\n+ ACCR  1   88.841  94.841\n+ GMI   1   94.788 100.788\n+ SGI   1   95.962 101.962\n+ AQI   1   96.103 102.103\n<none>      98.870 102.870\n+ LEVI  1   98.324 104.324\n+ DEPI  1   98.677 104.677\n+ SGAI  1   98.847 104.847\n- DSRI  1  108.131 110.131\n\nStep:  AIC=94.84\nManipulater ~ DSRI + ACCR\n\n",
                    "name": "stdout"
                },
                {
                    "output_type": "stream",
                    "text": "Warning message:\n\u201cglm.fit: fitted probabilities numerically 0 or 1 occurred\u201d",
                    "name": "stderr"
                },
                {
                    "output_type": "stream",
                    "text": "       Df Deviance     AIC\n+ GMI   1   81.980  89.980\n+ AQI   1   82.247  90.247\n+ SGI   1   86.410  94.410\n<none>      88.841  94.841\n+ LEVI  1   87.604  95.604\n+ DEPI  1   88.065  96.065\n+ SGAI  1   88.823  96.823\n- ACCR  1   98.870 102.870\n- DSRI  1  101.396 105.396\n",
                    "name": "stdout"
                },
                {
                    "output_type": "stream",
                    "text": "Warning message:\n\u201cglm.fit: fitted probabilities numerically 0 or 1 occurred\u201d",
                    "name": "stderr"
                },
                {
                    "output_type": "stream",
                    "text": "\nStep:  AIC=89.98\nManipulater ~ DSRI + ACCR + GMI\n\n",
                    "name": "stdout"
                },
                {
                    "output_type": "stream",
                    "text": "Warning message:\n\u201cglm.fit: fitted probabilities numerically 0 or 1 occurred\u201dWarning message:\n\u201cglm.fit: fitted probabilities numerically 0 or 1 occurred\u201dWarning message:\n\u201cglm.fit: fitted probabilities numerically 0 or 1 occurred\u201dWarning message:\n\u201cglm.fit: fitted probabilities numerically 0 or 1 occurred\u201dWarning message:\n\u201cglm.fit: fitted probabilities numerically 0 or 1 occurred\u201dWarning message:\n\u201cglm.fit: fitted probabilities numerically 0 or 1 occurred\u201d",
                    "name": "stderr"
                },
                {
                    "output_type": "stream",
                    "text": "       Df Deviance     AIC\n+ AQI   1   70.642  80.642\n+ SGI   1   75.777  85.777\n+ DEPI  1   79.541  89.541\n<none>      81.980  89.980\n+ LEVI  1   80.030  90.030\n+ SGAI  1   81.873  91.873\n- GMI   1   88.841  94.841\n- ACCR  1   94.788 100.788\n- DSRI  1   98.492 104.492\n",
                    "name": "stdout"
                },
                {
                    "output_type": "stream",
                    "text": "Warning message:\n\u201cglm.fit: fitted probabilities numerically 0 or 1 occurred\u201d",
                    "name": "stderr"
                },
                {
                    "output_type": "stream",
                    "text": "\nStep:  AIC=80.64\nManipulater ~ DSRI + ACCR + GMI + AQI\n\n",
                    "name": "stdout"
                },
                {
                    "output_type": "stream",
                    "text": "Warning message:\n\u201cglm.fit: fitted probabilities numerically 0 or 1 occurred\u201dWarning message:\n\u201cglm.fit: fitted probabilities numerically 0 or 1 occurred\u201dWarning message:\n\u201cglm.fit: fitted probabilities numerically 0 or 1 occurred\u201dWarning message:\n\u201cglm.fit: fitted probabilities numerically 0 or 1 occurred\u201dWarning message:\n\u201cglm.fit: fitted probabilities numerically 0 or 1 occurred\u201dWarning message:\n\u201cglm.fit: fitted probabilities numerically 0 or 1 occurred\u201dWarning message:\n\u201cglm.fit: fitted probabilities numerically 0 or 1 occurred\u201d",
                    "name": "stderr"
                },
                {
                    "output_type": "stream",
                    "text": "       Df Deviance     AIC\n+ SGI   1   55.862  67.862\n+ DEPI  1   68.632  80.632\n<none>      70.642  80.642\n+ LEVI  1   70.385  82.385\n+ SGAI  1   70.633  82.633\n- AQI   1   81.980  89.980\n- GMI   1   82.247  90.247\n- ACCR  1   90.883  98.883\n- DSRI  1   94.241 102.241\n",
                    "name": "stdout"
                },
                {
                    "output_type": "stream",
                    "text": "Warning message:\n\u201cglm.fit: fitted probabilities numerically 0 or 1 occurred\u201d",
                    "name": "stderr"
                },
                {
                    "output_type": "stream",
                    "text": "\nStep:  AIC=67.86\nManipulater ~ DSRI + ACCR + GMI + AQI + SGI\n\n",
                    "name": "stdout"
                },
                {
                    "output_type": "stream",
                    "text": "Warning message:\n\u201cglm.fit: fitted probabilities numerically 0 or 1 occurred\u201dWarning message:\n\u201cglm.fit: fitted probabilities numerically 0 or 1 occurred\u201dWarning message:\n\u201cglm.fit: fitted probabilities numerically 0 or 1 occurred\u201dWarning message:\n\u201cglm.fit: fitted probabilities numerically 0 or 1 occurred\u201dWarning message:\n\u201cglm.fit: fitted probabilities numerically 0 or 1 occurred\u201dWarning message:\n\u201cglm.fit: fitted probabilities numerically 0 or 1 occurred\u201dWarning message:\n\u201cglm.fit: fitted probabilities numerically 0 or 1 occurred\u201dWarning message:\n\u201cglm.fit: fitted probabilities numerically 0 or 1 occurred\u201dWarning message:\n\u201cglm.fit: fitted probabilities numerically 0 or 1 occurred\u201d",
                    "name": "stderr"
                },
                {
                    "output_type": "stream",
                    "text": "       Df Deviance     AIC\n<none>      55.862  67.862\n+ LEVI  1   55.688  69.688\n+ SGAI  1   55.778  69.778\n+ DEPI  1   55.862  69.862\n- SGI   1   70.642  80.642\n- AQI   1   75.777  85.777\n- ACCR  1   78.555  88.555\n- GMI   1   78.697  88.697\n- DSRI  1   91.170 101.170\n",
                    "name": "stdout"
                },
                {
                    "output_type": "stream",
                    "text": "Warning message:\n\u201cglm.fit: fitted probabilities numerically 0 or 1 occurred\u201d",
                    "name": "stderr"
                },
                {
                    "output_type": "stream",
                    "text": "Start:  AIC=110.13\nManipulater ~ 1\n\n",
                    "name": "stdout"
                },
                {
                    "output_type": "stream",
                    "text": "Warning message:\n\u201cglm.fit: fitted probabilities numerically 0 or 1 occurred\u201d",
                    "name": "stderr"
                },
                {
                    "output_type": "stream",
                    "text": "       Df Deviance    AIC\n+ DSRI  1   96.939 100.94\n+ ACCR  1  102.120 106.12\n+ SGAI  1  104.491 108.49\n+ SGI   1  104.556 108.56\n<none>     108.131 110.13\n+ LEVI  1  106.578 110.58\n+ AQI   1  107.118 111.12\n+ GMI   1  107.328 111.33\n+ DEPI  1  107.963 111.96\n",
                    "name": "stdout"
                },
                {
                    "output_type": "stream",
                    "text": "Warning message:\n\u201cglm.fit: fitted probabilities numerically 0 or 1 occurred\u201d",
                    "name": "stderr"
                },
                {
                    "output_type": "stream",
                    "text": "\nStep:  AIC=100.94\nManipulater ~ DSRI\n\n",
                    "name": "stdout"
                },
                {
                    "output_type": "stream",
                    "text": "Warning message:\n\u201cglm.fit: fitted probabilities numerically 0 or 1 occurred\u201dWarning message:\n\u201cglm.fit: fitted probabilities numerically 0 or 1 occurred\u201dWarning message:\n\u201cglm.fit: fitted probabilities numerically 0 or 1 occurred\u201dWarning message:\n\u201cglm.fit: fitted probabilities numerically 0 or 1 occurred\u201dWarning message:\n\u201cglm.fit: fitted probabilities numerically 0 or 1 occurred\u201dWarning message:\n\u201cglm.fit: fitted probabilities numerically 0 or 1 occurred\u201dWarning message:\n\u201cglm.fit: fitted probabilities numerically 0 or 1 occurred\u201dWarning message:\n\u201cglm.fit: fitted probabilities numerically 0 or 1 occurred\u201d",
                    "name": "stderr"
                },
                {
                    "output_type": "stream",
                    "text": "       Df Deviance     AIC\n+ ACCR  1   86.245  92.245\n+ SGI   1   87.047  93.047\n+ GMI   1   94.446 100.446\n+ AQI   1   94.788 100.788\n<none>      96.939 100.939\n+ SGAI  1   95.836 101.836\n+ LEVI  1   96.552 102.552\n+ DEPI  1   96.859 102.859\n- DSRI  1  108.131 110.131\n",
                    "name": "stdout"
                },
                {
                    "output_type": "stream",
                    "text": "Warning message:\n\u201cglm.fit: fitted probabilities numerically 0 or 1 occurred\u201d",
                    "name": "stderr"
                },
                {
                    "output_type": "stream",
                    "text": "\nStep:  AIC=92.25\nManipulater ~ DSRI + ACCR\n\n",
                    "name": "stdout"
                },
                {
                    "output_type": "stream",
                    "text": "Warning message:\n\u201cglm.fit: fitted probabilities numerically 0 or 1 occurred\u201dWarning message:\n\u201cglm.fit: fitted probabilities numerically 0 or 1 occurred\u201dWarning message:\n\u201cglm.fit: fitted probabilities numerically 0 or 1 occurred\u201dWarning message:\n\u201cglm.fit: fitted probabilities numerically 0 or 1 occurred\u201dWarning message:\n\u201cglm.fit: fitted probabilities numerically 0 or 1 occurred\u201dWarning message:\n\u201cglm.fit: fitted probabilities numerically 0 or 1 occurred\u201dWarning message:\n\u201cglm.fit: fitted probabilities numerically 0 or 1 occurred\u201dWarning message:\n\u201cglm.fit: fitted probabilities numerically 0 or 1 occurred\u201d",
                    "name": "stderr"
                },
                {
                    "output_type": "stream",
                    "text": "       Df Deviance     AIC\n+ SGI   1   78.006  86.006\n+ AQI   1   80.772  88.772\n+ GMI   1   83.142  91.142\n<none>      86.245  92.245\n+ LEVI  1   85.449  93.449\n+ SGAI  1   85.766  93.766\n+ DEPI  1   85.953  93.953\n- ACCR  1   96.939 100.939\n- DSRI  1  102.120 106.120\n",
                    "name": "stdout"
                },
                {
                    "output_type": "stream",
                    "text": "Warning message:\n\u201cglm.fit: fitted probabilities numerically 0 or 1 occurred\u201d",
                    "name": "stderr"
                },
                {
                    "output_type": "stream",
                    "text": "\nStep:  AIC=86.01\nManipulater ~ DSRI + ACCR + SGI\n\n",
                    "name": "stdout"
                },
                {
                    "output_type": "stream",
                    "text": "Warning message:\n\u201cglm.fit: fitted probabilities numerically 0 or 1 occurred\u201dWarning message:\n\u201cglm.fit: fitted probabilities numerically 0 or 1 occurred\u201dWarning message:\n\u201cglm.fit: fitted probabilities numerically 0 or 1 occurred\u201dWarning message:\n\u201cglm.fit: fitted probabilities numerically 0 or 1 occurred\u201dWarning message:\n\u201cglm.fit: fitted probabilities numerically 0 or 1 occurred\u201dWarning message:\n\u201cglm.fit: fitted probabilities numerically 0 or 1 occurred\u201dWarning message:\n\u201cglm.fit: fitted probabilities numerically 0 or 1 occurred\u201dWarning message:\n\u201cglm.fit: fitted probabilities numerically 0 or 1 occurred\u201d",
                    "name": "stderr"
                },
                {
                    "output_type": "stream",
                    "text": "       Df Deviance     AIC\n+ AQI   1   67.379  77.379\n<none>      78.006  86.006\n+ GMI   1   76.209  86.209\n+ SGAI  1   77.573  87.573\n+ LEVI  1   77.614  87.614\n+ DEPI  1   77.658  87.658\n- SGI   1   86.245  92.245\n- ACCR  1   87.047  93.047\n- DSRI  1   99.385 105.385\n",
                    "name": "stdout"
                },
                {
                    "output_type": "stream",
                    "text": "Warning message:\n\u201cglm.fit: fitted probabilities numerically 0 or 1 occurred\u201d",
                    "name": "stderr"
                },
                {
                    "output_type": "stream",
                    "text": "\nStep:  AIC=77.38\nManipulater ~ DSRI + ACCR + SGI + AQI\n\n",
                    "name": "stdout"
                },
                {
                    "output_type": "stream",
                    "text": "Warning message:\n\u201cglm.fit: fitted probabilities numerically 0 or 1 occurred\u201dWarning message:\n\u201cglm.fit: fitted probabilities numerically 0 or 1 occurred\u201dWarning message:\n\u201cglm.fit: fitted probabilities numerically 0 or 1 occurred\u201dWarning message:\n\u201cglm.fit: fitted probabilities numerically 0 or 1 occurred\u201dWarning message:\n\u201cglm.fit: fitted probabilities numerically 0 or 1 occurred\u201dWarning message:\n\u201cglm.fit: fitted probabilities numerically 0 or 1 occurred\u201dWarning message:\n\u201cglm.fit: fitted probabilities numerically 0 or 1 occurred\u201dWarning message:\n\u201cglm.fit: fitted probabilities numerically 0 or 1 occurred\u201d",
                    "name": "stderr"
                },
                {
                    "output_type": "stream",
                    "text": "       Df Deviance     AIC\n+ DEPI  1   64.451  76.451\n+ GMI   1   64.991  76.991\n<none>      67.379  77.379\n+ LEVI  1   66.297  78.297\n+ SGAI  1   67.326  79.326\n- AQI   1   78.006  86.006\n- SGI   1   80.772  88.772\n- ACCR  1   80.887  88.887\n- DSRI  1   96.611 104.611\n",
                    "name": "stdout"
                },
                {
                    "output_type": "stream",
                    "text": "Warning message:\n\u201cglm.fit: fitted probabilities numerically 0 or 1 occurred\u201d",
                    "name": "stderr"
                },
                {
                    "output_type": "stream",
                    "text": "\nStep:  AIC=76.45\nManipulater ~ DSRI + ACCR + SGI + AQI + DEPI\n\n",
                    "name": "stdout"
                },
                {
                    "output_type": "stream",
                    "text": "Warning message:\n\u201cglm.fit: fitted probabilities numerically 0 or 1 occurred\u201dWarning message:\n\u201cglm.fit: fitted probabilities numerically 0 or 1 occurred\u201dWarning message:\n\u201cglm.fit: fitted probabilities numerically 0 or 1 occurred\u201dWarning message:\n\u201cglm.fit: fitted probabilities numerically 0 or 1 occurred\u201dWarning message:\n\u201cglm.fit: fitted probabilities numerically 0 or 1 occurred\u201dWarning message:\n\u201cglm.fit: fitted probabilities numerically 0 or 1 occurred\u201dWarning message:\n\u201cglm.fit: fitted probabilities numerically 0 or 1 occurred\u201dWarning message:\n\u201cglm.fit: fitted probabilities numerically 0 or 1 occurred\u201d",
                    "name": "stderr"
                },
                {
                    "output_type": "stream",
                    "text": "       Df Deviance     AIC\n<none>      64.451  76.451\n+ LEVI  1   62.953  76.953\n+ GMI   1   63.038  77.038\n- DEPI  1   67.379  77.379\n+ SGAI  1   64.091  78.091\n- ACCR  1   77.552  87.552\n- AQI   1   77.658  87.658\n- SGI   1   80.758  90.758\n- DSRI  1   96.600 106.600\n",
                    "name": "stdout"
                },
                {
                    "output_type": "stream",
                    "text": "Warning message:\n\u201cglm.fit: fitted probabilities numerically 0 or 1 occurred\u201d",
                    "name": "stderr"
                },
                {
                    "output_type": "stream",
                    "text": "Start:  AIC=110.13\nManipulater ~ 1\n\n       Df Deviance    AIC\n+ DSRI  1   99.528 103.53\n+ ACCR  1   99.703 103.70\n+ SGI   1  104.072 108.07\n+ SGAI  1  104.098 108.10\n<none>     108.131 110.13\n+ AQI   1  106.539 110.54\n+ LEVI  1  106.686 110.69\n+ GMI   1  106.813 110.81\n+ DEPI  1  107.503 111.50\n\nStep:  AIC=103.53\nManipulater ~ DSRI\n\n",
                    "name": "stdout"
                },
                {
                    "output_type": "stream",
                    "text": "Warning message:\n\u201cglm.fit: fitted probabilities numerically 0 or 1 occurred\u201d",
                    "name": "stderr"
                },
                {
                    "output_type": "stream",
                    "text": "       Df Deviance     AIC\n+ ACCR  1   84.558  90.558\n+ SGI   1   90.866  96.866\n+ GMI   1   96.773 102.773\n+ AQI   1   97.136 103.136\n<none>      99.528 103.528\n+ SGAI  1   97.938 103.938\n+ DEPI  1   99.098 105.098\n+ LEVI  1   99.190 105.190\n- DSRI  1  108.131 110.131\n",
                    "name": "stdout"
                },
                {
                    "output_type": "stream",
                    "text": "Warning message:\n\u201cglm.fit: fitted probabilities numerically 0 or 1 occurred\u201d",
                    "name": "stderr"
                },
                {
                    "output_type": "stream",
                    "text": "\nStep:  AIC=90.56\nManipulater ~ DSRI + ACCR\n\n",
                    "name": "stdout"
                },
                {
                    "output_type": "stream",
                    "text": "Warning message:\n\u201cglm.fit: fitted probabilities numerically 0 or 1 occurred\u201dWarning message:\n\u201cglm.fit: fitted probabilities numerically 0 or 1 occurred\u201dWarning message:\n\u201cglm.fit: fitted probabilities numerically 0 or 1 occurred\u201dWarning message:\n\u201cglm.fit: fitted probabilities numerically 0 or 1 occurred\u201dWarning message:\n\u201cglm.fit: fitted probabilities numerically 0 or 1 occurred\u201dWarning message:\n\u201cglm.fit: fitted probabilities numerically 0 or 1 occurred\u201dWarning message:\n\u201cglm.fit: fitted probabilities numerically 0 or 1 occurred\u201d",
                    "name": "stderr"
                },
                {
                    "output_type": "stream",
                    "text": "       Df Deviance     AIC\n+ AQI   1   76.468  84.468\n+ SGI   1   77.890  85.890\n+ GMI   1   80.010  88.010\n<none>      84.558  90.558\n+ DEPI  1   82.968  90.968\n+ LEVI  1   83.664  91.664\n+ SGAI  1   84.043  92.043\n- ACCR  1   99.528 103.528\n- DSRI  1   99.703 103.703\n",
                    "name": "stdout"
                },
                {
                    "output_type": "stream",
                    "text": "Warning message:\n\u201cglm.fit: fitted probabilities numerically 0 or 1 occurred\u201d",
                    "name": "stderr"
                },
                {
                    "output_type": "stream",
                    "text": "\nStep:  AIC=84.47\nManipulater ~ DSRI + ACCR + AQI\n\n",
                    "name": "stdout"
                },
                {
                    "output_type": "stream",
                    "text": "Warning message:\n\u201cglm.fit: fitted probabilities numerically 0 or 1 occurred\u201dWarning message:\n\u201cglm.fit: fitted probabilities numerically 0 or 1 occurred\u201dWarning message:\n\u201cglm.fit: fitted probabilities numerically 0 or 1 occurred\u201dWarning message:\n\u201cglm.fit: fitted probabilities numerically 0 or 1 occurred\u201dWarning message:\n\u201cglm.fit: fitted probabilities numerically 0 or 1 occurred\u201dWarning message:\n\u201cglm.fit: fitted probabilities numerically 0 or 1 occurred\u201dWarning message:\n\u201cglm.fit: fitted probabilities numerically 0 or 1 occurred\u201d",
                    "name": "stderr"
                },
                {
                    "output_type": "stream",
                    "text": "       Df Deviance     AIC\n+ SGI   1   64.294  74.294\n+ GMI   1   67.409  77.409\n<none>      76.468  84.468\n+ DEPI  1   74.624  84.624\n+ LEVI  1   76.420  86.420\n+ SGAI  1   76.444  86.444\n- AQI   1   84.558  90.558\n- DSRI  1   95.961 101.961\n- ACCR  1   97.136 103.136\n",
                    "name": "stdout"
                },
                {
                    "output_type": "stream",
                    "text": "Warning message:\n\u201cglm.fit: fitted probabilities numerically 0 or 1 occurred\u201d",
                    "name": "stderr"
                },
                {
                    "output_type": "stream",
                    "text": "\nStep:  AIC=74.29\nManipulater ~ DSRI + ACCR + AQI + SGI\n\n",
                    "name": "stdout"
                },
                {
                    "output_type": "stream",
                    "text": "Warning message:\n\u201cglm.fit: fitted probabilities numerically 0 or 1 occurred\u201dWarning message:\n\u201cglm.fit: fitted probabilities numerically 0 or 1 occurred\u201dWarning message:\n\u201cglm.fit: fitted probabilities numerically 0 or 1 occurred\u201dWarning message:\n\u201cglm.fit: fitted probabilities numerically 0 or 1 occurred\u201dWarning message:\n\u201cglm.fit: fitted probabilities numerically 0 or 1 occurred\u201dWarning message:\n\u201cglm.fit: fitted probabilities numerically 0 or 1 occurred\u201dWarning message:\n\u201cglm.fit: fitted probabilities numerically 0 or 1 occurred\u201dWarning message:\n\u201cglm.fit: fitted probabilities numerically 0 or 1 occurred\u201d",
                    "name": "stderr"
                },
                {
                    "output_type": "stream",
                    "text": "       Df Deviance     AIC\n+ GMI   1   55.618  67.618\n<none>      64.294  74.294\n+ LEVI  1   62.659  74.659\n+ SGAI  1   63.939  75.939\n+ DEPI  1   64.255  76.255\n- SGI   1   76.468  84.468\n- AQI   1   77.890  85.890\n- ACCR  1   84.984  92.984\n- DSRI  1   92.233 100.233\n",
                    "name": "stdout"
                },
                {
                    "output_type": "stream",
                    "text": "Warning message:\n\u201cglm.fit: fitted probabilities numerically 0 or 1 occurred\u201d",
                    "name": "stderr"
                },
                {
                    "output_type": "stream",
                    "text": "\nStep:  AIC=67.62\nManipulater ~ DSRI + ACCR + AQI + SGI + GMI\n\n",
                    "name": "stdout"
                },
                {
                    "output_type": "stream",
                    "text": "Warning message:\n\u201cglm.fit: fitted probabilities numerically 0 or 1 occurred\u201dWarning message:\n\u201cglm.fit: fitted probabilities numerically 0 or 1 occurred\u201dWarning message:\n\u201cglm.fit: fitted probabilities numerically 0 or 1 occurred\u201dWarning message:\n\u201cglm.fit: fitted probabilities numerically 0 or 1 occurred\u201dWarning message:\n\u201cglm.fit: fitted probabilities numerically 0 or 1 occurred\u201dWarning message:\n\u201cglm.fit: fitted probabilities numerically 0 or 1 occurred\u201dWarning message:\n\u201cglm.fit: fitted probabilities numerically 0 or 1 occurred\u201dWarning message:\n\u201cglm.fit: fitted probabilities numerically 0 or 1 occurred\u201d",
                    "name": "stderr"
                },
                {
                    "output_type": "stream",
                    "text": "       Df Deviance     AIC\n<none>      55.618  67.618\n+ LEVI  1   53.792  67.792\n+ DEPI  1   55.511  69.511\n+ SGAI  1   55.604  69.604\n- GMI   1   64.294  74.294\n- SGI   1   67.409  77.409\n- AQI   1   74.939  84.939\n- ACCR  1   82.538  92.538\n- DSRI  1   91.094 101.094\n",
                    "name": "stdout"
                },
                {
                    "output_type": "stream",
                    "text": "Warning message:\n\u201cglm.fit: fitted probabilities numerically 0 or 1 occurred\u201d",
                    "name": "stderr"
                },
                {
                    "output_type": "stream",
                    "text": "Start:  AIC=110.13\nManipulater ~ 1\n\n",
                    "name": "stdout"
                },
                {
                    "output_type": "stream",
                    "text": "Warning message:\n\u201cglm.fit: fitted probabilities numerically 0 or 1 occurred\u201d",
                    "name": "stderr"
                },
                {
                    "output_type": "stream",
                    "text": "       Df Deviance    AIC\n+ DSRI  1   96.555 100.56\n+ SGI   1  102.715 106.72\n+ ACCR  1  102.926 106.93\n+ GMI   1  104.681 108.68\n+ SGAI  1  105.227 109.23\n+ AQI   1  105.801 109.80\n<none>     108.131 110.13\n+ LEVI  1  106.341 110.34\n+ DEPI  1  107.692 111.69\n",
                    "name": "stdout"
                },
                {
                    "output_type": "stream",
                    "text": "Warning message:\n\u201cglm.fit: fitted probabilities numerically 0 or 1 occurred\u201d",
                    "name": "stderr"
                },
                {
                    "output_type": "stream",
                    "text": "\nStep:  AIC=100.56\nManipulater ~ DSRI\n\n",
                    "name": "stdout"
                },
                {
                    "output_type": "stream",
                    "text": "Warning message:\n\u201cglm.fit: fitted probabilities numerically 0 or 1 occurred\u201dWarning message:\n\u201cglm.fit: fitted probabilities numerically 0 or 1 occurred\u201dWarning message:\n\u201cglm.fit: fitted probabilities numerically 0 or 1 occurred\u201dWarning message:\n\u201cglm.fit: fitted probabilities numerically 0 or 1 occurred\u201dWarning message:\n\u201cglm.fit: fitted probabilities numerically 0 or 1 occurred\u201dWarning message:\n\u201cglm.fit: fitted probabilities numerically 0 or 1 occurred\u201dWarning message:\n\u201cglm.fit: fitted probabilities numerically 0 or 1 occurred\u201dWarning message:\n\u201cglm.fit: fitted probabilities numerically 0 or 1 occurred\u201d",
                    "name": "stderr"
                },
                {
                    "output_type": "stream",
                    "text": "       Df Deviance     AIC\n+ SGI   1   80.298  86.298\n+ ACCR  1   85.815  91.815\n+ GMI   1   89.651  95.651\n+ AQI   1   92.793  98.793\n<none>      96.555 100.555\n+ DEPI  1   95.789 101.789\n+ LEVI  1   95.958 101.958\n+ SGAI  1   96.367 102.367\n- DSRI  1  108.131 110.131\n",
                    "name": "stdout"
                },
                {
                    "output_type": "stream",
                    "text": "Warning message:\n\u201cglm.fit: fitted probabilities numerically 0 or 1 occurred\u201d",
                    "name": "stderr"
                },
                {
                    "output_type": "stream",
                    "text": "\nStep:  AIC=86.3\nManipulater ~ DSRI + SGI\n\n",
                    "name": "stdout"
                },
                {
                    "output_type": "stream",
                    "text": "Warning message:\n\u201cglm.fit: fitted probabilities numerically 0 or 1 occurred\u201dWarning message:\n\u201cglm.fit: fitted probabilities numerically 0 or 1 occurred\u201dWarning message:\n\u201cglm.fit: fitted probabilities numerically 0 or 1 occurred\u201dWarning message:\n\u201cglm.fit: fitted probabilities numerically 0 or 1 occurred\u201dWarning message:\n\u201cglm.fit: fitted probabilities numerically 0 or 1 occurred\u201dWarning message:\n\u201cglm.fit: fitted probabilities numerically 0 or 1 occurred\u201dWarning message:\n\u201cglm.fit: fitted probabilities numerically 0 or 1 occurred\u201dWarning message:\n\u201cglm.fit: fitted probabilities numerically 0 or 1 occurred\u201d",
                    "name": "stderr"
                },
                {
                    "output_type": "stream",
                    "text": "       Df Deviance     AIC\n+ AQI   1   65.298  73.298\n+ ACCR  1   72.498  80.498\n+ GMI   1   76.270  84.270\n<none>      80.298  86.298\n+ SGAI  1   80.056  88.056\n+ LEVI  1   80.235  88.235\n+ DEPI  1   80.272  88.272\n- SGI   1   96.555 100.555\n- DSRI  1  102.715 106.715\n",
                    "name": "stdout"
                },
                {
                    "output_type": "stream",
                    "text": "Warning message:\n\u201cglm.fit: fitted probabilities numerically 0 or 1 occurred\u201d",
                    "name": "stderr"
                },
                {
                    "output_type": "stream",
                    "text": "\nStep:  AIC=73.3\nManipulater ~ DSRI + SGI + AQI\n\n",
                    "name": "stdout"
                },
                {
                    "output_type": "stream",
                    "text": "Warning message:\n\u201cglm.fit: fitted probabilities numerically 0 or 1 occurred\u201dWarning message:\n\u201cglm.fit: fitted probabilities numerically 0 or 1 occurred\u201dWarning message:\n\u201cglm.fit: fitted probabilities numerically 0 or 1 occurred\u201dWarning message:\n\u201cglm.fit: fitted probabilities numerically 0 or 1 occurred\u201dWarning message:\n\u201cglm.fit: fitted probabilities numerically 0 or 1 occurred\u201dWarning message:\n\u201cglm.fit: fitted probabilities numerically 0 or 1 occurred\u201dWarning message:\n\u201cglm.fit: fitted probabilities numerically 0 or 1 occurred\u201dWarning message:\n\u201cglm.fit: fitted probabilities numerically 0 or 1 occurred\u201d",
                    "name": "stderr"
                },
                {
                    "output_type": "stream",
                    "text": "       Df Deviance     AIC\n+ ACCR  1   45.924  55.924\n+ GMI   1   58.972  68.972\n+ LEVI  1   61.995  71.995\n<none>      65.298  73.298\n+ DEPI  1   64.170  74.170\n+ SGAI  1   65.298  75.298\n- AQI   1   80.298  86.298\n- SGI   1   92.793  98.793\n- DSRI  1   98.689 104.689\n",
                    "name": "stdout"
                },
                {
                    "output_type": "stream",
                    "text": "Warning message:\n\u201cglm.fit: fitted probabilities numerically 0 or 1 occurred\u201d",
                    "name": "stderr"
                },
                {
                    "output_type": "stream",
                    "text": "\nStep:  AIC=55.92\nManipulater ~ DSRI + SGI + AQI + ACCR\n\n",
                    "name": "stdout"
                },
                {
                    "output_type": "stream",
                    "text": "Warning message:\n\u201cglm.fit: fitted probabilities numerically 0 or 1 occurred\u201dWarning message:\n\u201cglm.fit: fitted probabilities numerically 0 or 1 occurred\u201dWarning message:\n\u201cglm.fit: fitted probabilities numerically 0 or 1 occurred\u201dWarning message:\n\u201cglm.fit: fitted probabilities numerically 0 or 1 occurred\u201dWarning message:\n\u201cglm.fit: fitted probabilities numerically 0 or 1 occurred\u201dWarning message:\n\u201cglm.fit: fitted probabilities numerically 0 or 1 occurred\u201dWarning message:\n\u201cglm.fit: fitted probabilities numerically 0 or 1 occurred\u201dWarning message:\n\u201cglm.fit: fitted probabilities numerically 0 or 1 occurred\u201d",
                    "name": "stderr"
                },
                {
                    "output_type": "stream",
                    "text": "       Df Deviance     AIC\n+ GMI   1   38.144  50.144\n<none>      45.924  55.924\n+ LEVI  1   45.166  57.166\n+ DEPI  1   45.497  57.497\n+ SGAI  1   45.529  57.529\n- ACCR  1   65.298  73.298\n- AQI   1   72.498  80.498\n- SGI   1   74.542  82.542\n- DSRI  1   92.028 100.028\n",
                    "name": "stdout"
                },
                {
                    "output_type": "stream",
                    "text": "Warning message:\n\u201cglm.fit: fitted probabilities numerically 0 or 1 occurred\u201d",
                    "name": "stderr"
                },
                {
                    "output_type": "stream",
                    "text": "\nStep:  AIC=50.14\nManipulater ~ DSRI + SGI + AQI + ACCR + GMI\n\n",
                    "name": "stdout"
                },
                {
                    "output_type": "stream",
                    "text": "Warning message:\n\u201cglm.fit: fitted probabilities numerically 0 or 1 occurred\u201dWarning message:\n\u201cglm.fit: fitted probabilities numerically 0 or 1 occurred\u201dWarning message:\n\u201cglm.fit: fitted probabilities numerically 0 or 1 occurred\u201dWarning message:\n\u201cglm.fit: fitted probabilities numerically 0 or 1 occurred\u201dWarning message:\n\u201cglm.fit: fitted probabilities numerically 0 or 1 occurred\u201dWarning message:\n\u201cglm.fit: fitted probabilities numerically 0 or 1 occurred\u201dWarning message:\n\u201cglm.fit: fitted probabilities numerically 0 or 1 occurred\u201dWarning message:\n\u201cglm.fit: fitted probabilities numerically 0 or 1 occurred\u201d",
                    "name": "stderr"
                },
                {
                    "output_type": "stream",
                    "text": "       Df Deviance    AIC\n<none>      38.144 50.144\n+ LEVI  1   37.894 51.894\n+ SGAI  1   37.953 51.953\n+ DEPI  1   38.083 52.083\n- GMI   1   45.924 55.924\n- ACCR  1   58.972 68.972\n- SGI   1   59.723 69.723\n- AQI   1   68.564 78.564\n- DSRI  1   88.684 98.684\n",
                    "name": "stdout"
                },
                {
                    "output_type": "stream",
                    "text": "Warning message:\n\u201cglm.fit: fitted probabilities numerically 0 or 1 occurred\u201d",
                    "name": "stderr"
                },
                {
                    "output_type": "stream",
                    "text": "Start:  AIC=110.13\nManipulater ~ 1\n\n       Df Deviance    AIC\n+ DSRI  1   98.712 102.71\n+ ACCR  1  102.822 106.82\n+ AQI   1  103.904 107.90\n+ SGI   1  104.984 108.98\n+ SGAI  1  105.031 109.03\n<none>     108.131 110.13\n+ DEPI  1  106.405 110.41\n+ GMI   1  106.713 110.71\n+ LEVI  1  107.841 111.84\n\nStep:  AIC=102.71\nManipulater ~ DSRI\n\n",
                    "name": "stdout"
                },
                {
                    "output_type": "stream",
                    "text": "Warning message:\n\u201cglm.fit: fitted probabilities numerically 0 or 1 occurred\u201dWarning message:\n\u201cglm.fit: fitted probabilities numerically 0 or 1 occurred\u201dWarning message:\n\u201cglm.fit: fitted probabilities numerically 0 or 1 occurred\u201dWarning message:\n\u201cglm.fit: fitted probabilities numerically 0 or 1 occurred\u201d",
                    "name": "stderr"
                },
                {
                    "output_type": "stream",
                    "text": "       Df Deviance     AIC\n+ ACCR  1   87.760  93.760\n+ SGI   1   91.328  97.328\n+ AQI   1   93.359  99.359\n+ GMI   1   95.045 101.045\n+ DEPI  1   96.331 102.331\n<none>      98.712 102.712\n+ SGAI  1   98.196 104.196\n+ LEVI  1   98.431 104.431\n- DSRI  1  108.131 110.131\n",
                    "name": "stdout"
                },
                {
                    "output_type": "stream",
                    "text": "Warning message:\n\u201cglm.fit: fitted probabilities numerically 0 or 1 occurred\u201d",
                    "name": "stderr"
                },
                {
                    "output_type": "stream",
                    "text": "\nStep:  AIC=93.76\nManipulater ~ DSRI + ACCR\n\n",
                    "name": "stdout"
                },
                {
                    "output_type": "stream",
                    "text": "Warning message:\n\u201cglm.fit: fitted probabilities numerically 0 or 1 occurred\u201dWarning message:\n\u201cglm.fit: fitted probabilities numerically 0 or 1 occurred\u201dWarning message:\n\u201cglm.fit: fitted probabilities numerically 0 or 1 occurred\u201dWarning message:\n\u201cglm.fit: fitted probabilities numerically 0 or 1 occurred\u201dWarning message:\n\u201cglm.fit: fitted probabilities numerically 0 or 1 occurred\u201dWarning message:\n\u201cglm.fit: fitted probabilities numerically 0 or 1 occurred\u201dWarning message:\n\u201cglm.fit: fitted probabilities numerically 0 or 1 occurred\u201d",
                    "name": "stderr"
                },
                {
                    "output_type": "stream",
                    "text": "       Df Deviance     AIC\n+ AQI   1   76.554  84.554\n+ GMI   1   81.383  89.383\n+ SGI   1   81.483  89.483\n<none>      87.760  93.760\n+ DEPI  1   86.526  94.526\n+ LEVI  1   87.495  95.495\n+ SGAI  1   87.700  95.700\n- ACCR  1   98.712 102.712\n- DSRI  1  102.822 106.822\n",
                    "name": "stdout"
                },
                {
                    "output_type": "stream",
                    "text": "Warning message:\n\u201cglm.fit: fitted probabilities numerically 0 or 1 occurred\u201d",
                    "name": "stderr"
                },
                {
                    "output_type": "stream",
                    "text": "\nStep:  AIC=84.55\nManipulater ~ DSRI + ACCR + AQI\n\n",
                    "name": "stdout"
                },
                {
                    "output_type": "stream",
                    "text": "Warning message:\n\u201cglm.fit: fitted probabilities numerically 0 or 1 occurred\u201dWarning message:\n\u201cglm.fit: fitted probabilities numerically 0 or 1 occurred\u201dWarning message:\n\u201cglm.fit: fitted probabilities numerically 0 or 1 occurred\u201dWarning message:\n\u201cglm.fit: fitted probabilities numerically 0 or 1 occurred\u201dWarning message:\n\u201cglm.fit: fitted probabilities numerically 0 or 1 occurred\u201dWarning message:\n\u201cglm.fit: fitted probabilities numerically 0 or 1 occurred\u201dWarning message:\n\u201cglm.fit: fitted probabilities numerically 0 or 1 occurred\u201d",
                    "name": "stderr"
                },
                {
                    "output_type": "stream",
                    "text": "       Df Deviance     AIC\n+ GMI   1   61.735  71.735\n+ SGI   1   62.697  72.697\n<none>      76.554  84.554\n+ LEVI  1   74.952  84.952\n+ DEPI  1   75.694  85.694\n+ SGAI  1   76.436  86.436\n- AQI   1   87.760  93.760\n- ACCR  1   93.359  99.359\n- DSRI  1   96.181 102.181\n",
                    "name": "stdout"
                },
                {
                    "output_type": "stream",
                    "text": "Warning message:\n\u201cglm.fit: fitted probabilities numerically 0 or 1 occurred\u201d",
                    "name": "stderr"
                },
                {
                    "output_type": "stream",
                    "text": "\nStep:  AIC=71.74\nManipulater ~ DSRI + ACCR + AQI + GMI\n\n",
                    "name": "stdout"
                },
                {
                    "output_type": "stream",
                    "text": "Warning message:\n\u201cglm.fit: fitted probabilities numerically 0 or 1 occurred\u201dWarning message:\n\u201cglm.fit: fitted probabilities numerically 0 or 1 occurred\u201dWarning message:\n\u201cglm.fit: fitted probabilities numerically 0 or 1 occurred\u201dWarning message:\n\u201cglm.fit: fitted probabilities numerically 0 or 1 occurred\u201dWarning message:\n\u201cglm.fit: fitted probabilities numerically 0 or 1 occurred\u201dWarning message:\n\u201cglm.fit: fitted probabilities numerically 0 or 1 occurred\u201dWarning message:\n\u201cglm.fit: fitted probabilities numerically 0 or 1 occurred\u201dWarning message:\n\u201cglm.fit: fitted probabilities numerically 0 or 1 occurred\u201d",
                    "name": "stderr"
                },
                {
                    "output_type": "stream",
                    "text": "       Df Deviance     AIC\n+ SGI   1   50.215  62.215\n<none>      61.735  71.735\n+ DEPI  1   60.340  72.340\n+ LEVI  1   61.436  73.436\n+ SGAI  1   61.734  73.734\n- GMI   1   76.554  84.554\n- AQI   1   81.383  89.383\n- ACCR  1   86.064  94.064\n- DSRI  1   93.766 101.766\n",
                    "name": "stdout"
                },
                {
                    "output_type": "stream",
                    "text": "Warning message:\n\u201cglm.fit: fitted probabilities numerically 0 or 1 occurred\u201d",
                    "name": "stderr"
                },
                {
                    "output_type": "stream",
                    "text": "\nStep:  AIC=62.21\nManipulater ~ DSRI + ACCR + AQI + GMI + SGI\n\n",
                    "name": "stdout"
                },
                {
                    "output_type": "stream",
                    "text": "Warning message:\n\u201cglm.fit: fitted probabilities numerically 0 or 1 occurred\u201dWarning message:\n\u201cglm.fit: fitted probabilities numerically 0 or 1 occurred\u201dWarning message:\n\u201cglm.fit: fitted probabilities numerically 0 or 1 occurred\u201dWarning message:\n\u201cglm.fit: fitted probabilities numerically 0 or 1 occurred\u201dWarning message:\n\u201cglm.fit: fitted probabilities numerically 0 or 1 occurred\u201dWarning message:\n\u201cglm.fit: fitted probabilities numerically 0 or 1 occurred\u201dWarning message:\n\u201cglm.fit: fitted probabilities numerically 0 or 1 occurred\u201dWarning message:\n\u201cglm.fit: fitted probabilities numerically 0 or 1 occurred\u201d",
                    "name": "stderr"
                },
                {
                    "output_type": "stream",
                    "text": "       Df Deviance     AIC\n+ LEVI  1   46.484  60.484\n<none>      50.215  62.215\n+ SGAI  1   49.969  63.969\n+ DEPI  1   50.132  64.132\n- SGI   1   61.735  71.735\n- GMI   1   62.697  72.697\n- ACCR  1   73.775  83.775\n- AQI   1   76.785  86.785\n- DSRI  1   90.902 100.902\n",
                    "name": "stdout"
                },
                {
                    "output_type": "stream",
                    "text": "Warning message:\n\u201cglm.fit: fitted probabilities numerically 0 or 1 occurred\u201d",
                    "name": "stderr"
                },
                {
                    "output_type": "stream",
                    "text": "\nStep:  AIC=60.48\nManipulater ~ DSRI + ACCR + AQI + GMI + SGI + LEVI\n\n",
                    "name": "stdout"
                },
                {
                    "output_type": "stream",
                    "text": "Warning message:\n\u201cglm.fit: fitted probabilities numerically 0 or 1 occurred\u201dWarning message:\n\u201cglm.fit: fitted probabilities numerically 0 or 1 occurred\u201dWarning message:\n\u201cglm.fit: fitted probabilities numerically 0 or 1 occurred\u201dWarning message:\n\u201cglm.fit: fitted probabilities numerically 0 or 1 occurred\u201dWarning message:\n\u201cglm.fit: fitted probabilities numerically 0 or 1 occurred\u201dWarning message:\n\u201cglm.fit: fitted probabilities numerically 0 or 1 occurred\u201dWarning message:\n\u201cglm.fit: fitted probabilities numerically 0 or 1 occurred\u201dWarning message:\n\u201cglm.fit: fitted probabilities numerically 0 or 1 occurred\u201d",
                    "name": "stderr"
                },
                {
                    "output_type": "stream",
                    "text": "       Df Deviance     AIC\n<none>      46.484  60.484\n+ DEPI  1   46.165  62.165\n- LEVI  1   50.215  62.215\n+ SGAI  1   46.235  62.235\n- GMI   1   53.915  65.915\n- SGI   1   61.436  73.436\n- ACCR  1   69.204  81.204\n- AQI   1   76.202  88.202\n- DSRI  1   90.363 102.363\n",
                    "name": "stdout"
                },
                {
                    "output_type": "stream",
                    "text": "Warning message:\n\u201cglm.fit: fitted probabilities numerically 0 or 1 occurred\u201d",
                    "name": "stderr"
                },
                {
                    "output_type": "stream",
                    "text": "Start:  AIC=110.13\nManipulater ~ 1\n\n       Df Deviance    AIC\n+ DSRI  1   97.913 101.91\n+ ACCR  1   99.542 103.54\n+ SGAI  1  103.955 107.95\n+ SGI   1  104.318 108.32\n+ AQI   1  105.904 109.90\n<none>     108.131 110.13\n+ DEPI  1  106.416 110.42\n+ GMI   1  106.847 110.85\n+ LEVI  1  107.375 111.38\n\nStep:  AIC=101.91\nManipulater ~ DSRI\n\n",
                    "name": "stdout"
                },
                {
                    "output_type": "stream",
                    "text": "Warning message:\n\u201cglm.fit: fitted probabilities numerically 0 or 1 occurred\u201dWarning message:\n\u201cglm.fit: fitted probabilities numerically 0 or 1 occurred\u201dWarning message:\n\u201cglm.fit: fitted probabilities numerically 0 or 1 occurred\u201dWarning message:\n\u201cglm.fit: fitted probabilities numerically 0 or 1 occurred\u201dWarning message:\n\u201cglm.fit: fitted probabilities numerically 0 or 1 occurred\u201d",
                    "name": "stderr"
                },
                {
                    "output_type": "stream",
                    "text": "       Df Deviance     AIC\n+ ACCR  1   85.361  91.361\n+ SGI   1   86.722  92.722\n+ AQI   1   94.289 100.289\n+ GMI   1   95.018 101.018\n<none>      97.913 101.913\n+ SGAI  1   96.525 102.525\n+ DEPI  1   96.949 102.949\n+ LEVI  1   97.878 103.878\n- DSRI  1  108.131 110.131\n",
                    "name": "stdout"
                },
                {
                    "output_type": "stream",
                    "text": "Warning message:\n\u201cglm.fit: fitted probabilities numerically 0 or 1 occurred\u201d",
                    "name": "stderr"
                },
                {
                    "output_type": "stream",
                    "text": "\nStep:  AIC=91.36\nManipulater ~ DSRI + ACCR\n\n",
                    "name": "stdout"
                },
                {
                    "output_type": "stream",
                    "text": "Warning message:\n\u201cglm.fit: fitted probabilities numerically 0 or 1 occurred\u201dWarning message:\n\u201cglm.fit: fitted probabilities numerically 0 or 1 occurred\u201dWarning message:\n\u201cglm.fit: fitted probabilities numerically 0 or 1 occurred\u201dWarning message:\n\u201cglm.fit: fitted probabilities numerically 0 or 1 occurred\u201dWarning message:\n\u201cglm.fit: fitted probabilities numerically 0 or 1 occurred\u201dWarning message:\n\u201cglm.fit: fitted probabilities numerically 0 or 1 occurred\u201dWarning message:\n\u201cglm.fit: fitted probabilities numerically 0 or 1 occurred\u201d",
                    "name": "stderr"
                },
                {
                    "output_type": "stream",
                    "text": "       Df Deviance     AIC\n+ AQI   1   75.255  83.255\n+ SGI   1   75.451  83.451\n+ GMI   1   80.812  88.812\n<none>      85.361  91.361\n+ DEPI  1   84.366  92.366\n+ LEVI  1   84.839  92.839\n+ SGAI  1   85.040  93.040\n- ACCR  1   97.913 101.913\n- DSRI  1   99.542 103.542\n",
                    "name": "stdout"
                },
                {
                    "output_type": "stream",
                    "text": "Warning message:\n\u201cglm.fit: fitted probabilities numerically 0 or 1 occurred\u201d",
                    "name": "stderr"
                },
                {
                    "output_type": "stream",
                    "text": "\nStep:  AIC=83.26\nManipulater ~ DSRI + ACCR + AQI\n\n",
                    "name": "stdout"
                },
                {
                    "output_type": "stream",
                    "text": "Warning message:\n\u201cglm.fit: fitted probabilities numerically 0 or 1 occurred\u201dWarning message:\n\u201cglm.fit: fitted probabilities numerically 0 or 1 occurred\u201dWarning message:\n\u201cglm.fit: fitted probabilities numerically 0 or 1 occurred\u201dWarning message:\n\u201cglm.fit: fitted probabilities numerically 0 or 1 occurred\u201dWarning message:\n\u201cglm.fit: fitted probabilities numerically 0 or 1 occurred\u201dWarning message:\n\u201cglm.fit: fitted probabilities numerically 0 or 1 occurred\u201dWarning message:\n\u201cglm.fit: fitted probabilities numerically 0 or 1 occurred\u201dWarning message:\n\u201cglm.fit: fitted probabilities numerically 0 or 1 occurred\u201d",
                    "name": "stderr"
                },
                {
                    "output_type": "stream",
                    "text": "       Df Deviance     AIC\n+ SGI   1   51.333  61.333\n+ GMI   1   62.657  72.657\n<none>      75.255  83.255\n+ DEPI  1   74.638  84.638\n+ LEVI  1   75.240  85.240\n+ SGAI  1   75.251  85.251\n- AQI   1   85.361  91.361\n- DSRI  1   93.546  99.546\n- ACCR  1   94.289 100.289\n",
                    "name": "stdout"
                },
                {
                    "output_type": "stream",
                    "text": "Warning message:\n\u201cglm.fit: fitted probabilities numerically 0 or 1 occurred\u201d",
                    "name": "stderr"
                },
                {
                    "output_type": "stream",
                    "text": "\nStep:  AIC=61.33\nManipulater ~ DSRI + ACCR + AQI + SGI\n\n",
                    "name": "stdout"
                },
                {
                    "output_type": "stream",
                    "text": "Warning message:\n\u201cglm.fit: fitted probabilities numerically 0 or 1 occurred\u201dWarning message:\n\u201cglm.fit: fitted probabilities numerically 0 or 1 occurred\u201dWarning message:\n\u201cglm.fit: fitted probabilities numerically 0 or 1 occurred\u201dWarning message:\n\u201cglm.fit: fitted probabilities numerically 0 or 1 occurred\u201dWarning message:\n\u201cglm.fit: fitted probabilities numerically 0 or 1 occurred\u201dWarning message:\n\u201cglm.fit: fitted probabilities numerically 0 or 1 occurred\u201dWarning message:\n\u201cglm.fit: fitted probabilities numerically 0 or 1 occurred\u201dWarning message:\n\u201cglm.fit: fitted probabilities numerically 0 or 1 occurred\u201d",
                    "name": "stderr"
                },
                {
                    "output_type": "stream",
                    "text": "       Df Deviance    AIC\n+ GMI   1   40.970 52.970\n<none>      51.333 61.333\n+ DEPI  1   50.645 62.645\n+ LEVI  1   50.946 62.946\n+ SGAI  1   51.332 63.332\n- SGI   1   75.255 83.255\n- AQI   1   75.451 83.451\n- ACCR  1   77.020 85.020\n- DSRI  1   89.036 97.036\n",
                    "name": "stdout"
                },
                {
                    "output_type": "stream",
                    "text": "Warning message:\n\u201cglm.fit: fitted probabilities numerically 0 or 1 occurred\u201d",
                    "name": "stderr"
                },
                {
                    "output_type": "stream",
                    "text": "\nStep:  AIC=52.97\nManipulater ~ DSRI + ACCR + AQI + SGI + GMI\n\n",
                    "name": "stdout"
                },
                {
                    "output_type": "stream",
                    "text": "Warning message:\n\u201cglm.fit: fitted probabilities numerically 0 or 1 occurred\u201dWarning message:\n\u201cglm.fit: fitted probabilities numerically 0 or 1 occurred\u201dWarning message:\n\u201cglm.fit: fitted probabilities numerically 0 or 1 occurred\u201dWarning message:\n\u201cglm.fit: fitted probabilities numerically 0 or 1 occurred\u201dWarning message:\n\u201cglm.fit: fitted probabilities numerically 0 or 1 occurred\u201dWarning message:\n\u201cglm.fit: fitted probabilities numerically 0 or 1 occurred\u201dWarning message:\n\u201cglm.fit: fitted probabilities numerically 0 or 1 occurred\u201dWarning message:\n\u201cglm.fit: fitted probabilities numerically 0 or 1 occurred\u201d",
                    "name": "stderr"
                },
                {
                    "output_type": "stream",
                    "text": "       Df Deviance    AIC\n<none>      40.970 52.970\n+ SGAI  1   39.679 53.679\n+ DEPI  1   40.371 54.371\n+ LEVI  1   40.713 54.713\n- GMI   1   51.333 61.333\n- SGI   1   62.657 72.657\n- ACCR  1   73.097 83.097\n- AQI   1   73.482 83.482\n- DSRI  1   87.892 97.892\n",
                    "name": "stdout"
                },
                {
                    "output_type": "stream",
                    "text": "Warning message:\n\u201cglm.fit: fitted probabilities numerically 0 or 1 occurred\u201d",
                    "name": "stderr"
                },
                {
                    "output_type": "stream",
                    "text": "Start:  AIC=110.13\nManipulater ~ 1\n\n",
                    "name": "stdout"
                },
                {
                    "output_type": "stream",
                    "text": "Warning message:\n\u201cglm.fit: fitted probabilities numerically 0 or 1 occurred\u201d",
                    "name": "stderr"
                },
                {
                    "output_type": "stream",
                    "text": "       Df Deviance     AIC\n+ DSRI  1   95.904  99.904\n+ SGAI  1  104.052 108.052\n+ ACCR  1  104.789 108.789\n+ SGI   1  105.330 109.330\n+ GMI   1  105.425 109.425\n+ AQI   1  105.939 109.939\n<none>     108.131 110.131\n+ LEVI  1  106.746 110.746\n+ DEPI  1  108.131 112.131\n",
                    "name": "stdout"
                },
                {
                    "output_type": "stream",
                    "text": "Warning message:\n\u201cglm.fit: fitted probabilities numerically 0 or 1 occurred\u201d",
                    "name": "stderr"
                },
                {
                    "output_type": "stream",
                    "text": "\nStep:  AIC=99.9\nManipulater ~ DSRI\n\n",
                    "name": "stdout"
                },
                {
                    "output_type": "stream",
                    "text": "Warning message:\n\u201cglm.fit: fitted probabilities numerically 0 or 1 occurred\u201dWarning message:\n\u201cglm.fit: fitted probabilities numerically 0 or 1 occurred\u201dWarning message:\n\u201cglm.fit: fitted probabilities numerically 0 or 1 occurred\u201dWarning message:\n\u201cglm.fit: fitted probabilities numerically 0 or 1 occurred\u201dWarning message:\n\u201cglm.fit: fitted probabilities numerically 0 or 1 occurred\u201dWarning message:\n\u201cglm.fit: fitted probabilities numerically 0 or 1 occurred\u201dWarning message:\n\u201cglm.fit: fitted probabilities numerically 0 or 1 occurred\u201dWarning message:\n\u201cglm.fit: fitted probabilities numerically 0 or 1 occurred\u201d",
                    "name": "stderr"
                },
                {
                    "output_type": "stream",
                    "text": "       Df Deviance     AIC\n+ SGI   1   87.965  93.965\n+ ACCR  1   89.669  95.669\n+ GMI   1   90.946  96.946\n+ AQI   1   92.499  98.499\n<none>      95.904  99.904\n+ SGAI  1   94.339 100.339\n+ LEVI  1   95.671 101.671\n+ DEPI  1   95.824 101.824\n- DSRI  1  108.131 110.131\n",
                    "name": "stdout"
                },
                {
                    "output_type": "stream",
                    "text": "Warning message:\n\u201cglm.fit: fitted probabilities numerically 0 or 1 occurred\u201d",
                    "name": "stderr"
                },
                {
                    "output_type": "stream",
                    "text": "\nStep:  AIC=93.96\nManipulater ~ DSRI + SGI\n\n",
                    "name": "stdout"
                },
                {
                    "output_type": "stream",
                    "text": "Warning message:\n\u201cglm.fit: fitted probabilities numerically 0 or 1 occurred\u201dWarning message:\n\u201cglm.fit: fitted probabilities numerically 0 or 1 occurred\u201dWarning message:\n\u201cglm.fit: fitted probabilities numerically 0 or 1 occurred\u201dWarning message:\n\u201cglm.fit: fitted probabilities numerically 0 or 1 occurred\u201dWarning message:\n\u201cglm.fit: fitted probabilities numerically 0 or 1 occurred\u201dWarning message:\n\u201cglm.fit: fitted probabilities numerically 0 or 1 occurred\u201dWarning message:\n\u201cglm.fit: fitted probabilities numerically 0 or 1 occurred\u201dWarning message:\n\u201cglm.fit: fitted probabilities numerically 0 or 1 occurred\u201d",
                    "name": "stderr"
                },
                {
                    "output_type": "stream",
                    "text": "       Df Deviance     AIC\n+ AQI   1   78.653  86.653\n+ ACCR  1   82.829  90.829\n+ GMI   1   83.988  91.988\n<none>      87.965  93.965\n+ SGAI  1   86.604  94.604\n+ DEPI  1   87.119  95.119\n+ LEVI  1   87.765  95.765\n- SGI   1   95.904  99.904\n- DSRI  1  105.330 109.330\n",
                    "name": "stdout"
                },
                {
                    "output_type": "stream",
                    "text": "Warning message:\n\u201cglm.fit: fitted probabilities numerically 0 or 1 occurred\u201d",
                    "name": "stderr"
                },
                {
                    "output_type": "stream",
                    "text": "\nStep:  AIC=86.65\nManipulater ~ DSRI + SGI + AQI\n\n",
                    "name": "stdout"
                },
                {
                    "output_type": "stream",
                    "text": "Warning message:\n\u201cglm.fit: fitted probabilities numerically 0 or 1 occurred\u201dWarning message:\n\u201cglm.fit: fitted probabilities numerically 0 or 1 occurred\u201dWarning message:\n\u201cglm.fit: fitted probabilities numerically 0 or 1 occurred\u201dWarning message:\n\u201cglm.fit: fitted probabilities numerically 0 or 1 occurred\u201dWarning message:\n\u201cglm.fit: fitted probabilities numerically 0 or 1 occurred\u201dWarning message:\n\u201cglm.fit: fitted probabilities numerically 0 or 1 occurred\u201dWarning message:\n\u201cglm.fit: fitted probabilities numerically 0 or 1 occurred\u201dWarning message:\n\u201cglm.fit: fitted probabilities numerically 0 or 1 occurred\u201d",
                    "name": "stderr"
                },
                {
                    "output_type": "stream",
                    "text": "       Df Deviance     AIC\n+ ACCR  1   66.387  76.387\n+ GMI   1   71.354  81.354\n+ DEPI  1   74.287  84.287\n+ LEVI  1   74.467  84.467\n<none>      78.653  86.653\n+ SGAI  1   78.169  88.169\n- AQI   1   87.965  93.965\n- SGI   1   92.499  98.499\n- DSRI  1  102.287 108.287\n",
                    "name": "stdout"
                },
                {
                    "output_type": "stream",
                    "text": "Warning message:\n\u201cglm.fit: fitted probabilities numerically 0 or 1 occurred\u201d",
                    "name": "stderr"
                },
                {
                    "output_type": "stream",
                    "text": "\nStep:  AIC=76.39\nManipulater ~ DSRI + SGI + AQI + ACCR\n\n",
                    "name": "stdout"
                },
                {
                    "output_type": "stream",
                    "text": "Warning message:\n\u201cglm.fit: fitted probabilities numerically 0 or 1 occurred\u201dWarning message:\n\u201cglm.fit: fitted probabilities numerically 0 or 1 occurred\u201dWarning message:\n\u201cglm.fit: fitted probabilities numerically 0 or 1 occurred\u201dWarning message:\n\u201cglm.fit: fitted probabilities numerically 0 or 1 occurred\u201dWarning message:\n\u201cglm.fit: fitted probabilities numerically 0 or 1 occurred\u201dWarning message:\n\u201cglm.fit: fitted probabilities numerically 0 or 1 occurred\u201dWarning message:\n\u201cglm.fit: fitted probabilities numerically 0 or 1 occurred\u201dWarning message:\n\u201cglm.fit: fitted probabilities numerically 0 or 1 occurred\u201d",
                    "name": "stderr"
                },
                {
                    "output_type": "stream",
                    "text": "       Df Deviance     AIC\n+ GMI   1   55.566  67.566\n+ DEPI  1   62.102  74.102\n+ LEVI  1   63.114  75.114\n<none>      66.387  76.387\n+ SGAI  1   66.363  78.363\n- ACCR  1   78.653  86.653\n- SGI   1   82.042  90.042\n- AQI   1   82.829  90.829\n- DSRI  1   97.401 105.401\n",
                    "name": "stdout"
                },
                {
                    "output_type": "stream",
                    "text": "Warning message:\n\u201cglm.fit: fitted probabilities numerically 0 or 1 occurred\u201d",
                    "name": "stderr"
                },
                {
                    "output_type": "stream",
                    "text": "\nStep:  AIC=67.57\nManipulater ~ DSRI + SGI + AQI + ACCR + GMI\n\n",
                    "name": "stdout"
                },
                {
                    "output_type": "stream",
                    "text": "Warning message:\n\u201cglm.fit: fitted probabilities numerically 0 or 1 occurred\u201dWarning message:\n\u201cglm.fit: fitted probabilities numerically 0 or 1 occurred\u201dWarning message:\n\u201cglm.fit: fitted probabilities numerically 0 or 1 occurred\u201dWarning message:\n\u201cglm.fit: fitted probabilities numerically 0 or 1 occurred\u201dWarning message:\n\u201cglm.fit: fitted probabilities numerically 0 or 1 occurred\u201dWarning message:\n\u201cglm.fit: fitted probabilities numerically 0 or 1 occurred\u201dWarning message:\n\u201cglm.fit: fitted probabilities numerically 0 or 1 occurred\u201dWarning message:\n\u201cglm.fit: fitted probabilities numerically 0 or 1 occurred\u201d",
                    "name": "stderr"
                },
                {
                    "output_type": "stream",
                    "text": "       Df Deviance     AIC\n+ LEVI  1   52.736  66.736\n<none>      55.566  67.566\n+ DEPI  1   54.324  68.324\n+ SGAI  1   54.778  68.778\n- GMI   1   66.387  76.387\n- ACCR  1   71.354  81.354\n- SGI   1   71.420  81.420\n- AQI   1   78.660  88.660\n- DSRI  1   94.604 104.604\n",
                    "name": "stdout"
                },
                {
                    "output_type": "stream",
                    "text": "Warning message:\n\u201cglm.fit: fitted probabilities numerically 0 or 1 occurred\u201d",
                    "name": "stderr"
                },
                {
                    "output_type": "stream",
                    "text": "\nStep:  AIC=66.74\nManipulater ~ DSRI + SGI + AQI + ACCR + GMI + LEVI\n\n",
                    "name": "stdout"
                },
                {
                    "output_type": "stream",
                    "text": "Warning message:\n\u201cglm.fit: fitted probabilities numerically 0 or 1 occurred\u201dWarning message:\n\u201cglm.fit: fitted probabilities numerically 0 or 1 occurred\u201dWarning message:\n\u201cglm.fit: fitted probabilities numerically 0 or 1 occurred\u201dWarning message:\n\u201cglm.fit: fitted probabilities numerically 0 or 1 occurred\u201dWarning message:\n\u201cglm.fit: fitted probabilities numerically 0 or 1 occurred\u201dWarning message:\n\u201cglm.fit: fitted probabilities numerically 0 or 1 occurred\u201dWarning message:\n\u201cglm.fit: fitted probabilities numerically 0 or 1 occurred\u201dWarning message:\n\u201cglm.fit: fitted probabilities numerically 0 or 1 occurred\u201d",
                    "name": "stderr"
                },
                {
                    "output_type": "stream",
                    "text": "       Df Deviance     AIC\n<none>      52.736  66.736\n+ DEPI  1   51.097  67.097\n- LEVI  1   55.566  67.566\n+ SGAI  1   52.519  68.519\n- GMI   1   63.114  75.114\n- ACCR  1   66.687  78.687\n- SGI   1   71.364  83.364\n- AQI   1   78.548  90.548\n- DSRI  1   93.327 105.327\n",
                    "name": "stdout"
                },
                {
                    "output_type": "stream",
                    "text": "Warning message:\n\u201cglm.fit: fitted probabilities numerically 0 or 1 occurred\u201d",
                    "name": "stderr"
                },
                {
                    "output_type": "stream",
                    "text": "Start:  AIC=110.13\nManipulater ~ 1\n\n       Df Deviance    AIC\n+ DSRI  1   100.35 104.35\n+ SGAI  1   103.39 107.39\n+ AQI   1   104.11 108.11\n+ SGI   1   104.62 108.62\n+ GMI   1   105.78 109.78\n<none>      108.13 110.13\n+ LEVI  1   106.34 110.34\n+ ACCR  1   107.11 111.11\n+ DEPI  1   108.11 112.11\n\nStep:  AIC=104.35\nManipulater ~ DSRI\n\n",
                    "name": "stdout"
                },
                {
                    "output_type": "stream",
                    "text": "Warning message:\n\u201cglm.fit: fitted probabilities numerically 0 or 1 occurred\u201d",
                    "name": "stderr"
                },
                {
                    "output_type": "stream",
                    "text": "       Df Deviance     AIC\n+ SGI   1   92.255  98.255\n+ AQI   1   95.616 101.616\n+ GMI   1   96.051 102.051\n+ SGAI  1   98.166 104.166\n+ ACCR  1   98.249 104.249\n<none>     100.353 104.353\n+ LEVI  1   99.775 105.775\n+ DEPI  1  100.235 106.235\n- DSRI  1  108.131 110.131\n\nStep:  AIC=98.25\nManipulater ~ DSRI + SGI\n\n",
                    "name": "stdout"
                },
                {
                    "output_type": "stream",
                    "text": "Warning message:\n\u201cglm.fit: fitted probabilities numerically 0 or 1 occurred\u201d",
                    "name": "stderr"
                },
                {
                    "output_type": "stream",
                    "text": "       Df Deviance     AIC\n+ AQI   1   81.644  89.644\n+ DEPI  1   89.228  97.228\n+ GMI   1   89.741  97.741\n+ SGAI  1   89.978  97.978\n<none>      92.255  98.255\n+ ACCR  1   90.457  98.457\n+ LEVI  1   92.250 100.250\n- SGI   1  100.353 104.353\n- DSRI  1  104.617 108.617\n\nStep:  AIC=89.64\nManipulater ~ DSRI + SGI + AQI\n\n",
                    "name": "stdout"
                },
                {
                    "output_type": "stream",
                    "text": "Warning message:\n\u201cglm.fit: fitted probabilities numerically 0 or 1 occurred\u201dWarning message:\n\u201cglm.fit: fitted probabilities numerically 0 or 1 occurred\u201dWarning message:\n\u201cglm.fit: fitted probabilities numerically 0 or 1 occurred\u201dWarning message:\n\u201cglm.fit: fitted probabilities numerically 0 or 1 occurred\u201dWarning message:\n\u201cglm.fit: fitted probabilities numerically 0 or 1 occurred\u201d",
                    "name": "stderr"
                },
                {
                    "output_type": "stream",
                    "text": "       Df Deviance     AIC\n+ DEPI  1   69.442  79.442\n+ GMI   1   76.303  86.303\n+ ACCR  1   77.460  87.460\n<none>      81.644  89.644\n+ LEVI  1   80.555  90.555\n+ SGAI  1   80.596  90.596\n- AQI   1   92.255  98.255\n- SGI   1   95.616 101.616\n- DSRI  1   99.123 105.123\n",
                    "name": "stdout"
                },
                {
                    "output_type": "stream",
                    "text": "Warning message:\n\u201cglm.fit: fitted probabilities numerically 0 or 1 occurred\u201d",
                    "name": "stderr"
                },
                {
                    "output_type": "stream",
                    "text": "\nStep:  AIC=79.44\nManipulater ~ DSRI + SGI + AQI + DEPI\n\n",
                    "name": "stdout"
                },
                {
                    "output_type": "stream",
                    "text": "Warning message:\n\u201cglm.fit: fitted probabilities numerically 0 or 1 occurred\u201dWarning message:\n\u201cglm.fit: fitted probabilities numerically 0 or 1 occurred\u201dWarning message:\n\u201cglm.fit: fitted probabilities numerically 0 or 1 occurred\u201dWarning message:\n\u201cglm.fit: fitted probabilities numerically 0 or 1 occurred\u201dWarning message:\n\u201cglm.fit: fitted probabilities numerically 0 or 1 occurred\u201d",
                    "name": "stderr"
                },
                {
                    "output_type": "stream",
                    "text": "       Df Deviance     AIC\n+ ACCR  1   66.425  78.425\n+ GMI   1   67.124  79.124\n<none>      69.442  79.442\n+ LEVI  1   67.798  79.798\n+ SGAI  1   67.858  79.858\n- DEPI  1   81.644  89.644\n- AQI   1   89.228  97.228\n- SGI   1   95.090 103.090\n- DSRI  1   97.592 105.592\n",
                    "name": "stdout"
                },
                {
                    "output_type": "stream",
                    "text": "Warning message:\n\u201cglm.fit: fitted probabilities numerically 0 or 1 occurred\u201d",
                    "name": "stderr"
                },
                {
                    "output_type": "stream",
                    "text": "\nStep:  AIC=78.43\nManipulater ~ DSRI + SGI + AQI + DEPI + ACCR\n\n",
                    "name": "stdout"
                },
                {
                    "output_type": "stream",
                    "text": "Warning message:\n\u201cglm.fit: fitted probabilities numerically 0 or 1 occurred\u201dWarning message:\n\u201cglm.fit: fitted probabilities numerically 0 or 1 occurred\u201dWarning message:\n\u201cglm.fit: fitted probabilities numerically 0 or 1 occurred\u201dWarning message:\n\u201cglm.fit: fitted probabilities numerically 0 or 1 occurred\u201dWarning message:\n\u201cglm.fit: fitted probabilities numerically 0 or 1 occurred\u201dWarning message:\n\u201cglm.fit: fitted probabilities numerically 0 or 1 occurred\u201d",
                    "name": "stderr"
                },
                {
                    "output_type": "stream",
                    "text": "       Df Deviance     AIC\n+ GMI   1   62.659  76.659\n<none>      66.425  78.425\n+ LEVI  1   64.963  78.963\n- ACCR  1   69.442  79.442\n+ SGAI  1   65.753  79.753\n- DEPI  1   77.460  87.460\n- AQI   1   87.946  97.946\n- SGI   1   91.644 101.644\n- DSRI  1   96.509 106.509\n",
                    "name": "stdout"
                },
                {
                    "output_type": "stream",
                    "text": "Warning message:\n\u201cglm.fit: fitted probabilities numerically 0 or 1 occurred\u201d",
                    "name": "stderr"
                },
                {
                    "output_type": "stream",
                    "text": "\nStep:  AIC=76.66\nManipulater ~ DSRI + SGI + AQI + DEPI + ACCR + GMI\n\n",
                    "name": "stdout"
                },
                {
                    "output_type": "stream",
                    "text": "Warning message:\n\u201cglm.fit: fitted probabilities numerically 0 or 1 occurred\u201dWarning message:\n\u201cglm.fit: fitted probabilities numerically 0 or 1 occurred\u201dWarning message:\n\u201cglm.fit: fitted probabilities numerically 0 or 1 occurred\u201dWarning message:\n\u201cglm.fit: fitted probabilities numerically 0 or 1 occurred\u201dWarning message:\n\u201cglm.fit: fitted probabilities numerically 0 or 1 occurred\u201dWarning message:\n\u201cglm.fit: fitted probabilities numerically 0 or 1 occurred\u201dWarning message:\n\u201cglm.fit: fitted probabilities numerically 0 or 1 occurred\u201d",
                    "name": "stderr"
                },
                {
                    "output_type": "stream",
                    "text": "       Df Deviance     AIC\n<none>      62.659  76.659\n+ SGAI  1   60.764  76.764\n+ LEVI  1   61.562  77.562\n- GMI   1   66.425  78.425\n- ACCR  1   67.124  79.124\n- DEPI  1   70.377  82.377\n- SGI   1   83.188  95.188\n- AQI   1   85.906  97.906\n- DSRI  1   94.583 106.583\n",
                    "name": "stdout"
                }
            ]
        },
        {
            "metadata": {},
            "cell_type": "code",
            "source": "table(m)",
            "execution_count": 25,
            "outputs": [
                {
                    "output_type": "display_data",
                    "data": {
                        "text/plain": "m\n(Intercept)        ACCR         AQI        DEPI        DSRI         GMI \n        100         100         100          31         100          86 \n       LEVI        SGAI         SGI \n         21           7         100 "
                    },
                    "metadata": {}
                }
            ]
        },
        {
            "metadata": {},
            "cell_type": "code",
            "source": "",
            "execution_count": null,
            "outputs": []
        }
    ],
    "metadata": {
        "kernelspec": {
            "name": "r-3.6",
            "display_name": "R 3.6",
            "language": "R"
        },
        "language_info": {
            "name": "R",
            "codemirror_mode": "r",
            "pygments_lexer": "r",
            "mimetype": "text/x-r-source",
            "file_extension": ".r",
            "version": "3.6.1"
        }
    },
    "nbformat": 4,
    "nbformat_minor": 1
}